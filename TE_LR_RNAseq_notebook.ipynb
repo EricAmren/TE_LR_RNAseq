{
 "metadata": {
  "language_info": {
   "codemirror_mode": {
    "name": "ipython",
    "version": 3
   },
   "file_extension": ".py",
   "mimetype": "text/x-python",
   "name": "python",
   "nbconvert_exporter": "python",
   "pygments_lexer": "ipython3",
   "version": "3.9.1-final"
  },
  "orig_nbformat": 2,
  "kernelspec": {
   "name": "python3",
   "display_name": "Python 3",
   "language": "python"
  }
 },
 "nbformat": 4,
 "nbformat_minor": 2,
 "cells": [
  {
   "cell_type": "code",
   "execution_count": 1,
   "metadata": {},
   "outputs": [],
   "source": [
    "# DEPENDENCIES\n",
    "\n",
    "import pysam\n",
    "import pandas as pd\n",
    "import HTSeq\n",
    "import plotly.express as px\n",
    "import plotly.graph_objects as go\n",
    "from plotly.subplots import make_subplots\n",
    "\n",
    "# GLOBAL VARS\n",
    "\n",
    "FC30_DMGOTH_BAMFILE = \"/data2/eric/TE_LR_RNAseq/data/dmgoth101_genome_alignments/bam/FC30.against_dmgoth.bam\"\n",
    "FC30_DMGOTH_MAX_AS_BAMFILE = \"/data2/eric/TE_LR_RNAseq/data/dmgoth101_genome_alignments/bam/FC30.against_dmgoth.filtered_max_AS.bam\"\n",
    "\n",
    "FC29_DMGOTH_BAMFILE = \"/data2/eric/TE_LR_RNAseq/data/dmgoth101_genome_alignments/bam/FC29.against_dmgoth.bam\"\n",
    "FC29_DMGOTH_MAX_AS_BAMFILE = \"/data2/eric/TE_LR_RNAseq/data/dmgoth101_genome_alignments/bam/FC29.against_dmgoth.filtered_max_AS.bam\"\n",
    "\n",
    "FC30_DMGOTH_SUBSET_BAMFILE = \"/data2/eric/TE_LR_RNAseq/data/dmgoth101_genome_alignments/bam/FC30.subset.against_dmgoth.bam\"\n",
    "FC30_DMGOTH_SUBSET_MAX_AS_BAMFILE = \"/data2/eric/TE_LR_RNAseq/data/dmgoth101_genome_alignments/bam/FC30.subset.against_dmgoth.filtered.bam\"\n",
    "\n",
    "REPEATMASKER_TE_ANNOTATIONS = \"/data2/eric/TE_LR_RNAseq/data/dmgoth101_genome_alignments/annotations/dmgoth101.onecode.v2.gtf\"\n",
    "DMGOTH_GENE_ANNOTATIONS = \"/data2/eric/TE_LR_RNAseq/data/dmgoth101_genome_alignments/annotations/Dm_Goth_10-1.dmel6.23LiftOff.sorted.gff\"\n",
    "\n",
    "DFAM_TE_ANNOTATION = \"/data2/eric/TE_LR_RNAseq/data/families.flanked_LTR.hierarchy.fa\""
   ]
  },
  {
   "cell_type": "code",
   "execution_count": 2,
   "metadata": {},
   "outputs": [],
   "source": [
    "def build_index(bamfile):\n",
    "    bam = pysam.AlignmentFile(bamfile, 'rb')\n",
    "    read_index = pysam.IndexedReads(bam)\n",
    "    read_index.build()\n",
    "    return read_index\n",
    "\n",
    "def get_query_names(bamfile):\n",
    "    query_names = []\n",
    "    with pysam.AlignmentFile(bamfile, 'rb') as bam:\n",
    "        for ali in bam:\n",
    "            query_names.append(ali.query_name)\n",
    "    return set(query_names)\n"
   ]
  },
  {
   "cell_type": "code",
   "execution_count": 3,
   "metadata": {},
   "outputs": [],
   "source": [
    "def get_TE_hierarchy(consensus_fasta):\n",
    "    subclass_list = []\n",
    "    superfamily_list = []\n",
    "    family_list = []\n",
    "    with open(consensus_fasta, 'r') as consensus:\n",
    "        for line in consensus:\n",
    "            if line.startswith(\">\"):\n",
    "                family = line.split(\"#\")[0][1:]\n",
    "                subclass, superfamily= line.strip().split(\"#\")[1].split(\"/\")\n",
    "                subclass_list.append(subclass)\n",
    "                superfamily_list.append(superfamily)\n",
    "                family_list.append(family)\n",
    "    hierarchy_df = pd.DataFrame(list(zip(subclass_list, superfamily_list, family_list)), columns =['Subclass', 'Superfamily', 'Family'])\n",
    "    return hierarchy_df\n",
    "    \n",
    "HIERARCHY_DF = get_TE_hierarchy(DFAM_TE_ANNOTATION)"
   ]
  },
  {
   "cell_type": "code",
   "execution_count": 4,
   "metadata": {},
   "outputs": [],
   "source": [
    "# Filter out reads : \n",
    "\n",
    "## We filter unmapped, supplementary, and reads with non-optimal AS score.\n",
    "\n",
    "def filter_max_AS_reads(bamfile, output_bamfile):\n",
    "    query_names = get_query_names(bamfile)\n",
    "    read_index = build_index(bamfile)\n",
    "    with pysam.AlignmentFile(output_bamfile, 'wb', template = pysam.AlignmentFile(bamfile,'rb')) as output:\n",
    "        for read in query_names:\n",
    "            ali_list = read_index.find(read)\n",
    "            max_AS = 0\n",
    "            primary_and_secondary_alignments = [ali for ali in ali_list if not (ali.is_unmapped or ali.is_supplementary)]\n",
    "            if primary_and_secondary_alignments :\n",
    "                max_AS = max([ali.get_tag('AS') for ali in primary_and_secondary_alignments])\n",
    "                max_AS_alignments = [ali for ali in primary_and_secondary_alignments if ali.get_tag('AS') == max_AS]\n",
    "                for ali in max_AS_alignments:\n",
    "                    output.write(ali)\n",
    "    return output_bamfile\n"
   ]
  },
  {
   "cell_type": "code",
   "execution_count": 5,
   "metadata": {},
   "outputs": [],
   "source": [
    "class TransposableElementInsertion:\n",
    "    def __init__(self, insertion_id, chrom, start, end):\n",
    "        self.id = insertion_id\n",
    "        self.chrom = chrom\n",
    "        self.start = int(start)\n",
    "        self.end = int(end)\n",
    "        self.alignments = []\n",
    "        self.counts = 0"
   ]
  },
  {
   "cell_type": "code",
   "execution_count": 6,
   "metadata": {},
   "outputs": [],
   "source": [
    "def initiate_transposable_element_family_dict(annotations):\n",
    "    transposable_element_family_dict = {}\n",
    "    with open(annotations) as annot:\n",
    "        for line in annot:\n",
    "            splitted_line = line.strip().split(\"\\t\")\n",
    "            chrom, start, end = [splitted_line[i] for i in [0, 3, 4]]\n",
    "            ids = splitted_line[-1].split('\"')\n",
    "            family_name = ids[1]\n",
    "            if int(end) - int(start) > 100:\n",
    "                new_insertion = TransposableElementInsertion(ids[3], chrom, start, end)\n",
    "                if family_name not in transposable_element_family_dict:\n",
    "                    transposable_element_family_dict[family_name] = []\n",
    "                transposable_element_family_dict[family_name].append(new_insertion)\n",
    "    return transposable_element_family_dict\n"
   ]
  },
  {
   "cell_type": "code",
   "execution_count": 7,
   "metadata": {
    "tags": []
   },
   "outputs": [],
   "source": [
    "def get_subject_coverage(alignment, insertion):\n",
    "    overlap_start = max(alignment.reference_start, insertion.start)\n",
    "    overlap_end = min(alignment.reference_end, insertion.end)\n",
    "    overlap_length = overlap_end - overlap_start\n",
    "    insertion_length = insertion.end - insertion.start\n",
    "    subject_coverage = overlap_length / insertion_length\n",
    "    return subject_coverage\n",
    "\n",
    "def default_filter(alignment, insertion):\n",
    "    subject_coverage = get_subject_coverage(alignment, insertion)\n",
    "    nb_aligned_pairs =  alignment.get_overlap(insertion.start, insertion.end)\n",
    "    is_ok = (subject_coverage > 0.1 and nb_aligned_pairs > 1)\n",
    "    return is_ok\n",
    "\n",
    "def get_exceeding_alignment_length(alignment, insertion):\n",
    "    overflow_length = 0\n",
    "    if alignment.reference_start < insertion.start:\n",
    "        overflow_length += insertion.start -alignment.reference_start\n",
    "    if alignment.reference_end > insertion.end:\n",
    "        overflow_length += alignment.reference_end - insertion.end\n",
    "    return overflow_length\n",
    "\n",
    "def filter_out_co_expressed(alignment, insertion):\n",
    "    exceeding_length = get_exceeding_alignment_length(alignment, insertion)\n",
    "    alignment_length = alignment.reference_end - alignment.reference_start\n",
    "    is_ok = (exceeding_length < (0.1 * alignment_length))\n",
    "    return is_ok\n",
    "\n",
    "def no_filter(alignment, insertion):\n",
    "    return True\n",
    "\n",
    "def match_reads_with_insertions(bamfile, family_dict, filter_strategy):\n",
    "    with pysam.AlignmentFile(bamfile, 'rb') as bam:\n",
    "        for family, insertion_list in family_dict.items():\n",
    "            for insertion in insertion_list:\n",
    "                def apply_filter_strategy(read):\n",
    "                    return filter_strategy(read, insertion)\n",
    "                insertion.counts = bam.count(contig=insertion.chrom, start=insertion.start, end=insertion.end, read_callback=apply_filter_strategy)\n",
    "\n",
    "    return family_dict\n"
   ]
  },
  {
   "cell_type": "code",
   "execution_count": 8,
   "metadata": {},
   "outputs": [],
   "source": [
    "def merge_family_splitted_between_intern_and_LTR(family_dict, TE_hierarchy_df):\n",
    "    bad_suffix_list = [\"_I\", \"-I_DM\", \"_I_DM\", \"_LTR\", \"-LTR_DM\", \"_LTR_DM\"]\n",
    "    new_family_dict = {}\n",
    "    new_row_list = []\n",
    "    for family, insertion_list in family_dict.items() :\n",
    "        if family in list(TE_hierarchy_df[\"Family\"]):\n",
    "            new_family_dict[family] = insertion_list\n",
    "        else:\n",
    "            family_name_fixed = False\n",
    "            for bad_suffix in bad_suffix_list:\n",
    "                if family.endswith(bad_suffix):\n",
    "                    new_family = family[:-len(bad_suffix)]\n",
    "                    if not new_family in new_family_dict:\n",
    "                        new_family_dict[new_family] = insertion_list\n",
    "                    else :\n",
    "                        new_family_dict[new_family] += insertion_list\n",
    "            if family_name_fixed :\n",
    "                continue\n",
    "            else:\n",
    "                new_row_list.append([\"Unknown\", \"Unknown\", family])\n",
    "    TE_hierarchy_df.append(pd.DataFrame(new_row_list,  columns = TE_hierarchy_df.columns))\n",
    "    return (new_family_dict, TE_hierarchy_df)\n"
   ]
  },
  {
   "cell_type": "code",
   "execution_count": 88,
   "metadata": {},
   "outputs": [
    {
     "output_type": "stream",
     "name": "stdout",
     "text": [
      "HEY\n",
      "HEY\n"
     ]
    }
   ],
   "source": [
    "def get_TE_counting(filtered_bamfile, annotations, TE_hierarchy_df, filter_strategy):\n",
    "    family_dict = initiate_transposable_element_family_dict(annotations)\n",
    "    family_dict = match_reads_with_insertions(filtered_bamfile, family_dict, filter_strategy)\n",
    "    family_dict, TE_hierarchy_df = merge_family_splitted_between_intern_and_LTR(family_dict, TE_hierarchy_df)\n",
    "    return (family_dict, TE_hierarchy_df)\n",
    "# FC30_FAMILY_DICT, HIERARCHY_DF = get_TE_counting(FC30_DMGOTH_MAX_AS_BAMFILE, REPEATMASKER_TE_ANNOTATIONS, HIERARCHY_DF, filter_out_co_expressed)\n",
    "# FC29_FAMILY_DICT, HIERARCHY_DF = get_TE_counting(FC29_DMGOTH_MAX_AS_BAMFILE, REPEATMASKER_TE_ANNOTATIONS, HIERARCHY_DF, filter_out_co_expressed)\n",
    "# FC30_FAMILY_DICT = get_TE_counting(FC30_DMGOTH_MAX_AS_BAMFILE, REPEATMASKER_TE_ANNOTATIONS, filter_out_co_expressed)\n",
    "# FC29_FAMILY_DICT = get_TE_counting(FC29_DMGOTH_MAX_AS_BAMFILE, REPEATMASKER_TE_ANNOTATIONS, filter_out_co_expressed)\n",
    "FC30_FAMILY_DICT, HIERARCHY_DF = get_TE_counting(FC30_DMGOTH_MAX_AS_BAMFILE, REPEATMASKER_TE_ANNOTATIONS, HIERARCHY_DF, filter_out_co_expressed)\n",
    "FC29_FAMILY_DICT, HIERARCHY_DF = get_TE_counting(FC29_DMGOTH_MAX_AS_BAMFILE, REPEATMASKER_TE_ANNOTATIONS, HIERARCHY_DF, filter_out_co_expressed)"
   ]
  },
  {
   "cell_type": "code",
   "execution_count": 89,
   "metadata": {},
   "outputs": [],
   "source": [
    "def from_counting_to_df(counting_dict):\n",
    "    family_list = []\n",
    "    min_TE_length_list = []\n",
    "    max_TE_length_list = []\n",
    "    counting_list = []\n",
    "    nb_expressed_insertion_list = []\n",
    "    nb_insertion_list = []\n",
    "    most_expressed_insertion_list = []\n",
    "    for family, insertion_list in counting_dict.items():\n",
    "        family_list.append(family)\n",
    "        nb_insertion_list.append(len(insertion_list))\n",
    "        nb_expressed_insertion = 0\n",
    "        min_TE_length = 9999999999\n",
    "        max_TE_length = 0\n",
    "        family_counts = 0\n",
    "        most_expressed_insertion = None\n",
    "        max_count = 0\n",
    "        for insertion in insertion_list :\n",
    "            insertion_length = insertion.end - insertion.start\n",
    "            min_TE_length = min(min_TE_length, insertion_length)\n",
    "            max_TE_length = max(max_TE_length, insertion_length)\n",
    "            family_counts += insertion.counts\n",
    "            max_count = max(max_count,insertion.counts)\n",
    "            if insertion.counts >= max_count :\n",
    "                most_expressed_insertion = insertion.id\n",
    "            if insertion.counts > 0 :\n",
    "                nb_expressed_insertion += 1\n",
    "        nb_expressed_insertion_list.append(nb_expressed_insertion)\n",
    "        min_TE_length_list.append(min_TE_length)\n",
    "        max_TE_length_list.append(max_TE_length)\n",
    "        counting_list.append(family_counts)\n",
    "        most_expressed_insertion_list.append(most_expressed_insertion)\n",
    "        \n",
    "    counting_df = pd.DataFrame(list(zip(family_list, min_TE_length_list, max_TE_length_list, counting_list, nb_insertion_list, nb_expressed_insertion_list, most_expressed_insertion_list)), columns=[\"Family\", \"Min_TE_length\",\"Max_TE_length\", \"Counts\", \"nb_of_insertion\", \"nb_of_expressed_insertion\", \"Most_expressed_insertion\"])\n",
    "    return counting_df\n"
   ]
  },
  {
   "cell_type": "code",
   "execution_count": 90,
   "metadata": {},
   "outputs": [],
   "source": [
    "FC30_DMGOTH_COUNTING_DF = from_counting_to_df(FC30_FAMILY_DICT)\n",
    "FC29_DMGOTH_COUNTING_DF = from_counting_to_df(FC29_FAMILY_DICT)"
   ]
  },
  {
   "cell_type": "code",
   "execution_count": 91,
   "metadata": {},
   "outputs": [],
   "source": [
    "FC30_DMGOTH_COUNTING_DF.to_csv('FC30_DMGOTH_COUNTING_DF.filter_no_co-expressed.tsv', sep = '\\t', index=False)\n",
    "FC29_DMGOTH_COUNTING_DF.to_csv('FC29_DMGOTH_COUNTING_DF.filter_no_co-expressed.tsv', sep = '\\t', index=False)"
   ]
  },
  {
   "cell_type": "code",
   "execution_count": 92,
   "metadata": {},
   "outputs": [
    {
     "output_type": "execute_result",
     "data": {
      "text/plain": [
       "  Subclass Superfamily    Family  Min_TE_length  Max_TE_length  Counts  \\\n",
       "0     LINE      R1-LOA  Baggins1            121          10648     824   \n",
       "1      DNA   TcMar-Tc1     BARI1            114           1563      60   \n",
       "2      DNA   TcMar-Tc1   BARI_DM           1232           1732      30   \n",
       "3     LINE    I-Jockey        BS            101           7501     848   \n",
       "4     LINE    I-Jockey       BS2            120           9056     612   \n",
       "\n",
       "   nb_of_insertion  nb_of_expressed_insertion  \\\n",
       "0              137                         97   \n",
       "1                9                          9   \n",
       "2               16                          3   \n",
       "3               66                         50   \n",
       "4              117                         90   \n",
       "\n",
       "             Most_expressed_insertion  \n",
       "0     Baggins1_2R_RaGOO_986154_989558  \n",
       "1    BARI1_2L_RaGOO_21112657_21113769  \n",
       "2  BARI_DM_3R_RaGOO_18377955_18379687  \n",
       "3       BS_3L_RaGOO_26154944_26155049  \n",
       "4        BS2_2R_RaGOO_3464852_3465309  "
      ],
      "text/html": "<div>\n<style scoped>\n    .dataframe tbody tr th:only-of-type {\n        vertical-align: middle;\n    }\n\n    .dataframe tbody tr th {\n        vertical-align: top;\n    }\n\n    .dataframe thead th {\n        text-align: right;\n    }\n</style>\n<table border=\"1\" class=\"dataframe\">\n  <thead>\n    <tr style=\"text-align: right;\">\n      <th></th>\n      <th>Subclass</th>\n      <th>Superfamily</th>\n      <th>Family</th>\n      <th>Min_TE_length</th>\n      <th>Max_TE_length</th>\n      <th>Counts</th>\n      <th>nb_of_insertion</th>\n      <th>nb_of_expressed_insertion</th>\n      <th>Most_expressed_insertion</th>\n    </tr>\n  </thead>\n  <tbody>\n    <tr>\n      <th>0</th>\n      <td>LINE</td>\n      <td>R1-LOA</td>\n      <td>Baggins1</td>\n      <td>121</td>\n      <td>10648</td>\n      <td>824</td>\n      <td>137</td>\n      <td>97</td>\n      <td>Baggins1_2R_RaGOO_986154_989558</td>\n    </tr>\n    <tr>\n      <th>1</th>\n      <td>DNA</td>\n      <td>TcMar-Tc1</td>\n      <td>BARI1</td>\n      <td>114</td>\n      <td>1563</td>\n      <td>60</td>\n      <td>9</td>\n      <td>9</td>\n      <td>BARI1_2L_RaGOO_21112657_21113769</td>\n    </tr>\n    <tr>\n      <th>2</th>\n      <td>DNA</td>\n      <td>TcMar-Tc1</td>\n      <td>BARI_DM</td>\n      <td>1232</td>\n      <td>1732</td>\n      <td>30</td>\n      <td>16</td>\n      <td>3</td>\n      <td>BARI_DM_3R_RaGOO_18377955_18379687</td>\n    </tr>\n    <tr>\n      <th>3</th>\n      <td>LINE</td>\n      <td>I-Jockey</td>\n      <td>BS</td>\n      <td>101</td>\n      <td>7501</td>\n      <td>848</td>\n      <td>66</td>\n      <td>50</td>\n      <td>BS_3L_RaGOO_26154944_26155049</td>\n    </tr>\n    <tr>\n      <th>4</th>\n      <td>LINE</td>\n      <td>I-Jockey</td>\n      <td>BS2</td>\n      <td>120</td>\n      <td>9056</td>\n      <td>612</td>\n      <td>117</td>\n      <td>90</td>\n      <td>BS2_2R_RaGOO_3464852_3465309</td>\n    </tr>\n  </tbody>\n</table>\n</div>"
     },
     "metadata": {},
     "execution_count": 92
    }
   ],
   "source": [
    "def add_hierarchy_to_counting_df(counting_df, hierarchy_df):\n",
    "    new_df = hierarchy_df.merge(counting_df, on='Family')\n",
    "    return new_df\n",
    "new_df = add_hierarchy_to_counting_df(FC29_DMGOTH_COUNTING_DF, HIERARCHY_DF)\n",
    "new_df.head()"
   ]
  },
  {
   "cell_type": "code",
   "execution_count": 93,
   "metadata": {},
   "outputs": [],
   "source": [
    "def create_table_from_counting(female_counting, male_counting, hierarchy):\n",
    "    male_counting = male_counting.drop(columns=[\"Min_TE_length\", \"Max_TE_length\", \"nb_of_insertion\"])\n",
    "    TE_data_table = hierarchy.merge(female_counting, on='Family').merge(male_counting, on='Family')\n",
    "    TE_data_table.columns = [\"Subclass\", \"Superfamily\", \"Family\", \"Min_TE_length\", \"Max_TE_length\", \"Female_Counts\", \"Nb_of_insertion\", \"Female_nb_of_expressed_insertion\", \"Female_most_expressed_insertion\", \"Male_Counts\", \"Male_nb_of_expressed_insertion\", \"Male_most_expressed_insertion\"]\n",
    "    TE_data_table = TE_data_table[[\"Subclass\", \"Superfamily\", \"Family\", \"Nb_of_insertion\", \"Min_TE_length\", \"Max_TE_length\", \"Female_Counts\", \"Female_nb_of_expressed_insertion\", \"Female_most_expressed_insertion\", \"Male_Counts\", \"Male_nb_of_expressed_insertion\", \"Male_most_expressed_insertion\"]]\n",
    "    return TE_data_table\n",
    "\n",
    "TE_data_table = create_table_from_counting(FC30_DMGOTH_COUNTING_DF, FC29_DMGOTH_COUNTING_DF, HIERARCHY_DF)\n",
    "\n"
   ]
  },
  {
   "cell_type": "code",
   "execution_count": 94,
   "metadata": {},
   "outputs": [
    {
     "output_type": "execute_result",
     "data": {
      "text/plain": [
       "    Subclass Superfamily        Family  Nb_of_insertion  Min_TE_length  \\\n",
       "15        RC    Helitron    DNAREP1_DM             3013            101   \n",
       "124      LTR         Pao           ROO              439            101   \n",
       "22       DNA   TcMar-Tc1        FB4_DM              197            102   \n",
       "54       DNA           P      PROTOP_B              328            101   \n",
       "10      LINE         CR1        DMCR1A              565            101   \n",
       "..       ...         ...           ...              ...            ...   \n",
       "6       LINE    I-Jockey        BS4_DM                3            103   \n",
       "49       DNA           P      PLACW_DM                1            927   \n",
       "57      LINE          R2         R2_DM                3            267   \n",
       "59       LTR       Gypsy  Stalker3_LTR                4            329   \n",
       "36        RC    Helitron  Helitron1_DM                1            563   \n",
       "\n",
       "     Max_TE_length  Female_Counts  Female_nb_of_expressed_insertion  \\\n",
       "15            1186          48742                              1979   \n",
       "124          15803           5917                               332   \n",
       "22            7578           6038                               157   \n",
       "54            2140           5863                               205   \n",
       "10            8863           7836                               314   \n",
       "..             ...            ...                               ...   \n",
       "6              750             26                                 2   \n",
       "49             927              9                                 1   \n",
       "57             566              2                                 1   \n",
       "59             387              0                                 0   \n",
       "36             563              0                                 0   \n",
       "\n",
       "             Female_most_expressed_insertion  Male_Counts  \\\n",
       "15       DNAREP1_DM_2R_RaGOO_4105978_4106120        55820   \n",
       "124         ROO_I_2R_RaGOO_14213942_14227652        19755   \n",
       "22             FB4_DM_2R_RaGOO_737484_743345         7244   \n",
       "54       PROTOP_B_3L_RaGOO_23779716_23780536         5054   \n",
       "10             DMCR1A_2R_RaGOO_755292_755591         4695   \n",
       "..                                       ...          ...   \n",
       "6            BS4_DM_2R_RaGOO_9449597_9449700           18   \n",
       "49       PLACW_DM_3L_RaGOO_13917593_13918520           17   \n",
       "57           R2_DM_X_RaGOO_21998019_21998557            1   \n",
       "59   Stalker3_LTR_3L_RaGOO_26480807_26481192            0   \n",
       "36    Helitron1_DM_X_RaGOO_21992722_21993285            0   \n",
       "\n",
       "     Male_nb_of_expressed_insertion            Male_most_expressed_insertion  \n",
       "15                             2512    DNAREP1_DM_3L_RaGOO_21163504_21163657  \n",
       "124                             403         ROO_I_3R_RaGOO_14005164_14015074  \n",
       "22                              171        FB4_DM_3R_RaGOO_30986386_30987925  \n",
       "54                              247      PROTOP_B_2L_RaGOO_21755433_21756077  \n",
       "10                              354          DMCR1A_2R_RaGOO_4646976_4654778  \n",
       "..                              ...                                      ...  \n",
       "6                                 3          BS4_DM_2R_RaGOO_9449597_9449700  \n",
       "49                                1      PLACW_DM_3L_RaGOO_13917593_13918520  \n",
       "57                                1          R2_DM_X_RaGOO_22026333_22026899  \n",
       "59                                0  Stalker3_LTR_3L_RaGOO_26480807_26481192  \n",
       "36                                0   Helitron1_DM_X_RaGOO_21992722_21993285  \n",
       "\n",
       "[131 rows x 12 columns]"
      ],
      "text/html": "<div>\n<style scoped>\n    .dataframe tbody tr th:only-of-type {\n        vertical-align: middle;\n    }\n\n    .dataframe tbody tr th {\n        vertical-align: top;\n    }\n\n    .dataframe thead th {\n        text-align: right;\n    }\n</style>\n<table border=\"1\" class=\"dataframe\">\n  <thead>\n    <tr style=\"text-align: right;\">\n      <th></th>\n      <th>Subclass</th>\n      <th>Superfamily</th>\n      <th>Family</th>\n      <th>Nb_of_insertion</th>\n      <th>Min_TE_length</th>\n      <th>Max_TE_length</th>\n      <th>Female_Counts</th>\n      <th>Female_nb_of_expressed_insertion</th>\n      <th>Female_most_expressed_insertion</th>\n      <th>Male_Counts</th>\n      <th>Male_nb_of_expressed_insertion</th>\n      <th>Male_most_expressed_insertion</th>\n    </tr>\n  </thead>\n  <tbody>\n    <tr>\n      <th>15</th>\n      <td>RC</td>\n      <td>Helitron</td>\n      <td>DNAREP1_DM</td>\n      <td>3013</td>\n      <td>101</td>\n      <td>1186</td>\n      <td>48742</td>\n      <td>1979</td>\n      <td>DNAREP1_DM_2R_RaGOO_4105978_4106120</td>\n      <td>55820</td>\n      <td>2512</td>\n      <td>DNAREP1_DM_3L_RaGOO_21163504_21163657</td>\n    </tr>\n    <tr>\n      <th>124</th>\n      <td>LTR</td>\n      <td>Pao</td>\n      <td>ROO</td>\n      <td>439</td>\n      <td>101</td>\n      <td>15803</td>\n      <td>5917</td>\n      <td>332</td>\n      <td>ROO_I_2R_RaGOO_14213942_14227652</td>\n      <td>19755</td>\n      <td>403</td>\n      <td>ROO_I_3R_RaGOO_14005164_14015074</td>\n    </tr>\n    <tr>\n      <th>22</th>\n      <td>DNA</td>\n      <td>TcMar-Tc1</td>\n      <td>FB4_DM</td>\n      <td>197</td>\n      <td>102</td>\n      <td>7578</td>\n      <td>6038</td>\n      <td>157</td>\n      <td>FB4_DM_2R_RaGOO_737484_743345</td>\n      <td>7244</td>\n      <td>171</td>\n      <td>FB4_DM_3R_RaGOO_30986386_30987925</td>\n    </tr>\n    <tr>\n      <th>54</th>\n      <td>DNA</td>\n      <td>P</td>\n      <td>PROTOP_B</td>\n      <td>328</td>\n      <td>101</td>\n      <td>2140</td>\n      <td>5863</td>\n      <td>205</td>\n      <td>PROTOP_B_3L_RaGOO_23779716_23780536</td>\n      <td>5054</td>\n      <td>247</td>\n      <td>PROTOP_B_2L_RaGOO_21755433_21756077</td>\n    </tr>\n    <tr>\n      <th>10</th>\n      <td>LINE</td>\n      <td>CR1</td>\n      <td>DMCR1A</td>\n      <td>565</td>\n      <td>101</td>\n      <td>8863</td>\n      <td>7836</td>\n      <td>314</td>\n      <td>DMCR1A_2R_RaGOO_755292_755591</td>\n      <td>4695</td>\n      <td>354</td>\n      <td>DMCR1A_2R_RaGOO_4646976_4654778</td>\n    </tr>\n    <tr>\n      <th>...</th>\n      <td>...</td>\n      <td>...</td>\n      <td>...</td>\n      <td>...</td>\n      <td>...</td>\n      <td>...</td>\n      <td>...</td>\n      <td>...</td>\n      <td>...</td>\n      <td>...</td>\n      <td>...</td>\n      <td>...</td>\n    </tr>\n    <tr>\n      <th>6</th>\n      <td>LINE</td>\n      <td>I-Jockey</td>\n      <td>BS4_DM</td>\n      <td>3</td>\n      <td>103</td>\n      <td>750</td>\n      <td>26</td>\n      <td>2</td>\n      <td>BS4_DM_2R_RaGOO_9449597_9449700</td>\n      <td>18</td>\n      <td>3</td>\n      <td>BS4_DM_2R_RaGOO_9449597_9449700</td>\n    </tr>\n    <tr>\n      <th>49</th>\n      <td>DNA</td>\n      <td>P</td>\n      <td>PLACW_DM</td>\n      <td>1</td>\n      <td>927</td>\n      <td>927</td>\n      <td>9</td>\n      <td>1</td>\n      <td>PLACW_DM_3L_RaGOO_13917593_13918520</td>\n      <td>17</td>\n      <td>1</td>\n      <td>PLACW_DM_3L_RaGOO_13917593_13918520</td>\n    </tr>\n    <tr>\n      <th>57</th>\n      <td>LINE</td>\n      <td>R2</td>\n      <td>R2_DM</td>\n      <td>3</td>\n      <td>267</td>\n      <td>566</td>\n      <td>2</td>\n      <td>1</td>\n      <td>R2_DM_X_RaGOO_21998019_21998557</td>\n      <td>1</td>\n      <td>1</td>\n      <td>R2_DM_X_RaGOO_22026333_22026899</td>\n    </tr>\n    <tr>\n      <th>59</th>\n      <td>LTR</td>\n      <td>Gypsy</td>\n      <td>Stalker3_LTR</td>\n      <td>4</td>\n      <td>329</td>\n      <td>387</td>\n      <td>0</td>\n      <td>0</td>\n      <td>Stalker3_LTR_3L_RaGOO_26480807_26481192</td>\n      <td>0</td>\n      <td>0</td>\n      <td>Stalker3_LTR_3L_RaGOO_26480807_26481192</td>\n    </tr>\n    <tr>\n      <th>36</th>\n      <td>RC</td>\n      <td>Helitron</td>\n      <td>Helitron1_DM</td>\n      <td>1</td>\n      <td>563</td>\n      <td>563</td>\n      <td>0</td>\n      <td>0</td>\n      <td>Helitron1_DM_X_RaGOO_21992722_21993285</td>\n      <td>0</td>\n      <td>0</td>\n      <td>Helitron1_DM_X_RaGOO_21992722_21993285</td>\n    </tr>\n  </tbody>\n</table>\n<p>131 rows × 12 columns</p>\n</div>"
     },
     "metadata": {},
     "execution_count": 94
    }
   ],
   "source": [
    "TE_data_table.sort_values(by=\"Male_Counts\", axis=0,  ascending=False)\n",
    "# TE_data_table.to_csv('TE_data_table.tsv', sep = '\\t', index=False)"
   ]
  },
  {
   "cell_type": "code",
   "execution_count": 95,
   "metadata": {},
   "outputs": [
    {
     "output_type": "execute_result",
     "data": {
      "text/plain": [
       "0      LINE\n",
       "1       DNA\n",
       "2       DNA\n",
       "3      LINE\n",
       "4      LINE\n",
       "       ... \n",
       "126     LTR\n",
       "127     LTR\n",
       "128     LTR\n",
       "129     LTR\n",
       "130     LTR\n",
       "Name: Subclass, Length: 131, dtype: object"
      ]
     },
     "metadata": {},
     "execution_count": 95
    }
   ],
   "source": [
    "TE_data_table[\"Subclass\"]"
   ]
  },
  {
   "cell_type": "code",
   "execution_count": 41,
   "metadata": {},
   "outputs": [],
   "source": [
    "def plot_TE_expression_profile_by_family(TE_data_table):\n",
    "\n",
    "    fig = make_subplots(rows=1, cols=2, specs=[[{'type':'domain'}, {'type':'domain'}]])\n",
    "\n",
    "    fig.add_trace(\n",
    "        go.Pie(labels=TE_data_table[\"Superfamily\"], values=TE_data_table[\"Female_Counts\"], textinfo='value', name = \"Female\"),\n",
    "        1, 1)\n",
    "\n",
    "    fig.add_trace(\n",
    "        go.Pie(labels=TE_data_table[\"Superfamily\"], values=TE_data_table[\"Male_Counts\"], textinfo='value', name = \"Male\"),\n",
    "        1, 2)\n",
    "    fig.update_traces(hole=.4, hoverinfo=\"label+value\")\n",
    "\n",
    "    fig.update_layout(\n",
    "        title_text= \"Superfamily expression profile\",\n",
    "        width=1200,\n",
    "        height=500,\n",
    "        # Add annotations in the center of the donut pies.\n",
    "        annotations=[dict(text='Female', x=0.18, y=0.5, font_size=20, showarrow=False),\n",
    "                    dict(text='Male', x=0.80, y=0.5, font_size=20, showarrow=False)])\n",
    "    fig.show()"
   ]
  },
  {
   "cell_type": "code",
   "execution_count": 42,
   "metadata": {},
   "outputs": [],
   "source": [
    "def plot_TE_expression_profile_by_superfamily(TE_data_table):\n",
    "    fig = make_subplots(rows=1, cols=2, specs=[[{'type':'domain'}, {'type':'domain'}]])\n",
    "\n",
    "    fig.add_trace(\n",
    "        go.Pie(labels=TE_data_table[\"Subclass\"], values=TE_data_table[\"Female_Counts\"], textinfo='value', name = \"Female\"),\n",
    "        1, 1)\n",
    "\n",
    "    fig.add_trace(\n",
    "        go.Pie(labels=TE_data_table[\"Subclass\"], values=TE_data_table[\"Male_Counts\"], textinfo='value', name = \"Male\"),\n",
    "        1, 2)\n",
    "    fig.update_traces(hole=.4, hoverinfo=\"label+value\")\n",
    "\n",
    "    fig.update_layout(\n",
    "        title_text= \"Subclass expression profile\",\n",
    "        width=1200,\n",
    "        height=500,\n",
    "        # Add annotations in the center of the donut pies.\n",
    "        annotations=[dict(text='Female', x=0.18, y=0.5, font_size=20, showarrow=False),\n",
    "                    dict(text='Male', x=0.80, y=0.5, font_size=20, showarrow=False)])\n",
    "    fig.show()"
   ]
  },
  {
   "cell_type": "code",
   "execution_count": 96,
   "metadata": {},
   "outputs": [
    {
     "output_type": "display_data",
     "data": {
      "application/vnd.plotly.v1+json": {
       "config": {
        "plotlyServerURL": "https://plot.ly"
       },
       "data": [
        {
         "domain": {
          "x": [
           0,
           0.45
          ],
          "y": [
           0,
           1
          ]
         },
         "hole": 0.4,
         "hoverinfo": "label+value",
         "labels": [
          "R1-LOA",
          "TcMar-Tc1",
          "TcMar-Tc1",
          "I-Jockey",
          "I-Jockey",
          "I-Jockey",
          "I-Jockey",
          "Gypsy",
          "Gypsy",
          "Gypsy",
          "CR1",
          "Gypsy",
          "R1",
          "R1",
          "R1",
          "Helitron",
          "I-Jockey",
          "I-Jockey",
          "I-Jockey",
          "I-Jockey",
          "I-Jockey",
          "I-Jockey",
          "TcMar-Tc1",
          "I-Jockey",
          "I-Jockey",
          "I-Jockey",
          "I-Jockey",
          "I-Jockey",
          "I-Jockey",
          "I-Jockey",
          "I-Jockey",
          "I-Jockey",
          "I-Jockey",
          "Gypsy",
          "Gypsy",
          "I-Jockey",
          "Helitron",
          "I-Jockey",
          "Gypsy",
          "hAT-hobo",
          "I",
          "I",
          "I-Jockey",
          "I-Jockey",
          "PiggyBac",
          "CMC-Transib",
          "TcMar-Tc1",
          "TcMar-Tc1",
          "MULE-NOF",
          "P",
          "TcMar-Pogo",
          "TcMar-Pogo",
          "P",
          "P",
          "P",
          "R1",
          "R1",
          "R2",
          "TcMar-Tc1",
          "Gypsy",
          "I-Jockey",
          "I-Jockey",
          "I-Jockey",
          "TcMar-Tc1",
          "TcMar-Tc1",
          "Gypsy",
          "CMC-Transib",
          "CMC-Transib",
          "CMC-Transib",
          "CMC-Transib",
          "CMC-Transib",
          "CMC-Transib",
          "TcMar-Tc1",
          "Gypsy",
          "Gypsy",
          "Gypsy",
          "Pao",
          "Pao",
          "Gypsy",
          "Gypsy",
          "Gypsy",
          "Gypsy",
          "Gypsy",
          "Gypsy",
          "Copia",
          "Copia",
          "Copia",
          "Pao",
          "Pao",
          "Copia",
          "Gypsy",
          "Gypsy",
          "Gypsy",
          "Copia",
          "Gypsy",
          "Gypsy",
          "Gypsy",
          "Gypsy",
          "Gypsy",
          "Gypsy",
          "Gypsy",
          "Gypsy",
          "Gypsy",
          "Gypsy",
          "Gypsy",
          "Gypsy",
          "Gypsy",
          "Gypsy",
          "Gypsy",
          "Gypsy",
          "Gypsy",
          "Gypsy",
          "Gypsy",
          "Gypsy",
          "Gypsy",
          "Pao",
          "Gypsy",
          "Gypsy",
          "Gypsy",
          "Pao",
          "Gypsy",
          "Gypsy",
          "Gypsy",
          "Pao",
          "Pao",
          "Gypsy",
          "Gypsy",
          "Gypsy",
          "Gypsy",
          "Gypsy",
          "Gypsy"
         ],
         "name": "Female",
         "textinfo": "value",
         "type": "pie",
         "values": [
          1040,
          22,
          6,
          1488,
          1768,
          155,
          26,
          53,
          132,
          25,
          7836,
          70,
          1023,
          1758,
          800,
          48742,
          1430,
          561,
          649,
          1394,
          136,
          43,
          6038,
          2274,
          372,
          143,
          223,
          707,
          339,
          867,
          31,
          1,
          39,
          436,
          649,
          110,
          0,
          30,
          1388,
          1301,
          1559,
          170,
          300,
          702,
          114,
          917,
          639,
          714,
          111,
          9,
          910,
          774,
          4953,
          4937,
          5863,
          229,
          177,
          2,
          2175,
          0,
          72,
          58,
          104,
          1081,
          1369,
          14,
          77,
          223,
          408,
          475,
          28,
          266,
          207,
          823,
          680,
          169,
          275,
          530,
          84,
          115,
          194,
          49,
          93,
          123,
          10,
          561,
          1177,
          2455,
          77,
          189,
          618,
          1504,
          417,
          39,
          361,
          1718,
          67,
          248,
          212,
          1691,
          45,
          1666,
          200,
          339,
          555,
          1514,
          190,
          2103,
          607,
          355,
          677,
          660,
          321,
          62,
          1417,
          582,
          608,
          130,
          419,
          241,
          198,
          30,
          942,
          235,
          5917,
          48,
          148,
          366,
          115,
          221,
          340
         ]
        },
        {
         "domain": {
          "x": [
           0.55,
           1
          ],
          "y": [
           0,
           1
          ]
         },
         "hole": 0.4,
         "hoverinfo": "label+value",
         "labels": [
          "R1-LOA",
          "TcMar-Tc1",
          "TcMar-Tc1",
          "I-Jockey",
          "I-Jockey",
          "I-Jockey",
          "I-Jockey",
          "Gypsy",
          "Gypsy",
          "Gypsy",
          "CR1",
          "Gypsy",
          "R1",
          "R1",
          "R1",
          "Helitron",
          "I-Jockey",
          "I-Jockey",
          "I-Jockey",
          "I-Jockey",
          "I-Jockey",
          "I-Jockey",
          "TcMar-Tc1",
          "I-Jockey",
          "I-Jockey",
          "I-Jockey",
          "I-Jockey",
          "I-Jockey",
          "I-Jockey",
          "I-Jockey",
          "I-Jockey",
          "I-Jockey",
          "I-Jockey",
          "Gypsy",
          "Gypsy",
          "I-Jockey",
          "Helitron",
          "I-Jockey",
          "Gypsy",
          "hAT-hobo",
          "I",
          "I",
          "I-Jockey",
          "I-Jockey",
          "PiggyBac",
          "CMC-Transib",
          "TcMar-Tc1",
          "TcMar-Tc1",
          "MULE-NOF",
          "P",
          "TcMar-Pogo",
          "TcMar-Pogo",
          "P",
          "P",
          "P",
          "R1",
          "R1",
          "R2",
          "TcMar-Tc1",
          "Gypsy",
          "I-Jockey",
          "I-Jockey",
          "I-Jockey",
          "TcMar-Tc1",
          "TcMar-Tc1",
          "Gypsy",
          "CMC-Transib",
          "CMC-Transib",
          "CMC-Transib",
          "CMC-Transib",
          "CMC-Transib",
          "CMC-Transib",
          "TcMar-Tc1",
          "Gypsy",
          "Gypsy",
          "Gypsy",
          "Pao",
          "Pao",
          "Gypsy",
          "Gypsy",
          "Gypsy",
          "Gypsy",
          "Gypsy",
          "Gypsy",
          "Copia",
          "Copia",
          "Copia",
          "Pao",
          "Pao",
          "Copia",
          "Gypsy",
          "Gypsy",
          "Gypsy",
          "Copia",
          "Gypsy",
          "Gypsy",
          "Gypsy",
          "Gypsy",
          "Gypsy",
          "Gypsy",
          "Gypsy",
          "Gypsy",
          "Gypsy",
          "Gypsy",
          "Gypsy",
          "Gypsy",
          "Gypsy",
          "Gypsy",
          "Gypsy",
          "Gypsy",
          "Gypsy",
          "Gypsy",
          "Gypsy",
          "Gypsy",
          "Gypsy",
          "Pao",
          "Gypsy",
          "Gypsy",
          "Gypsy",
          "Pao",
          "Gypsy",
          "Gypsy",
          "Gypsy",
          "Pao",
          "Pao",
          "Gypsy",
          "Gypsy",
          "Gypsy",
          "Gypsy",
          "Gypsy",
          "Gypsy"
         ],
         "name": "Male",
         "textinfo": "value",
         "type": "pie",
         "values": [
          824,
          60,
          30,
          848,
          612,
          176,
          18,
          103,
          2742,
          314,
          4695,
          2529,
          633,
          1060,
          811,
          55820,
          1344,
          301,
          361,
          709,
          395,
          207,
          7244,
          1273,
          201,
          476,
          353,
          877,
          592,
          540,
          59,
          69,
          351,
          711,
          495,
          121,
          0,
          1451,
          1276,
          1199,
          1352,
          425,
          558,
          2340,
          77,
          884,
          644,
          244,
          286,
          17,
          1458,
          492,
          4018,
          3219,
          5054,
          215,
          462,
          1,
          1456,
          0,
          1108,
          403,
          1234,
          1200,
          748,
          35,
          54,
          487,
          101,
          150,
          89,
          972,
          228,
          1003,
          573,
          223,
          235,
          255,
          138,
          588,
          85,
          194,
          96,
          147,
          81,
          261,
          763,
          1327,
          59,
          254,
          416,
          1017,
          289,
          121,
          658,
          1377,
          161,
          324,
          345,
          1227,
          118,
          825,
          216,
          766,
          498,
          1577,
          349,
          607,
          716,
          1130,
          419,
          575,
          533,
          25,
          1694,
          310,
          614,
          297,
          746,
          177,
          1321,
          54,
          1964,
          237,
          19755,
          288,
          305,
          969,
          330,
          169,
          660
         ]
        }
       ],
       "layout": {
        "annotations": [
         {
          "font": {
           "size": 20
          },
          "showarrow": false,
          "text": "Female",
          "x": 0.18,
          "y": 0.5
         },
         {
          "font": {
           "size": 20
          },
          "showarrow": false,
          "text": "Male",
          "x": 0.8,
          "y": 0.5
         }
        ],
        "height": 500,
        "template": {
         "data": {
          "bar": [
           {
            "error_x": {
             "color": "#2a3f5f"
            },
            "error_y": {
             "color": "#2a3f5f"
            },
            "marker": {
             "line": {
              "color": "#E5ECF6",
              "width": 0.5
             }
            },
            "type": "bar"
           }
          ],
          "barpolar": [
           {
            "marker": {
             "line": {
              "color": "#E5ECF6",
              "width": 0.5
             }
            },
            "type": "barpolar"
           }
          ],
          "carpet": [
           {
            "aaxis": {
             "endlinecolor": "#2a3f5f",
             "gridcolor": "white",
             "linecolor": "white",
             "minorgridcolor": "white",
             "startlinecolor": "#2a3f5f"
            },
            "baxis": {
             "endlinecolor": "#2a3f5f",
             "gridcolor": "white",
             "linecolor": "white",
             "minorgridcolor": "white",
             "startlinecolor": "#2a3f5f"
            },
            "type": "carpet"
           }
          ],
          "choropleth": [
           {
            "colorbar": {
             "outlinewidth": 0,
             "ticks": ""
            },
            "type": "choropleth"
           }
          ],
          "contour": [
           {
            "colorbar": {
             "outlinewidth": 0,
             "ticks": ""
            },
            "colorscale": [
             [
              0,
              "#0d0887"
             ],
             [
              0.1111111111111111,
              "#46039f"
             ],
             [
              0.2222222222222222,
              "#7201a8"
             ],
             [
              0.3333333333333333,
              "#9c179e"
             ],
             [
              0.4444444444444444,
              "#bd3786"
             ],
             [
              0.5555555555555556,
              "#d8576b"
             ],
             [
              0.6666666666666666,
              "#ed7953"
             ],
             [
              0.7777777777777778,
              "#fb9f3a"
             ],
             [
              0.8888888888888888,
              "#fdca26"
             ],
             [
              1,
              "#f0f921"
             ]
            ],
            "type": "contour"
           }
          ],
          "contourcarpet": [
           {
            "colorbar": {
             "outlinewidth": 0,
             "ticks": ""
            },
            "type": "contourcarpet"
           }
          ],
          "heatmap": [
           {
            "colorbar": {
             "outlinewidth": 0,
             "ticks": ""
            },
            "colorscale": [
             [
              0,
              "#0d0887"
             ],
             [
              0.1111111111111111,
              "#46039f"
             ],
             [
              0.2222222222222222,
              "#7201a8"
             ],
             [
              0.3333333333333333,
              "#9c179e"
             ],
             [
              0.4444444444444444,
              "#bd3786"
             ],
             [
              0.5555555555555556,
              "#d8576b"
             ],
             [
              0.6666666666666666,
              "#ed7953"
             ],
             [
              0.7777777777777778,
              "#fb9f3a"
             ],
             [
              0.8888888888888888,
              "#fdca26"
             ],
             [
              1,
              "#f0f921"
             ]
            ],
            "type": "heatmap"
           }
          ],
          "heatmapgl": [
           {
            "colorbar": {
             "outlinewidth": 0,
             "ticks": ""
            },
            "colorscale": [
             [
              0,
              "#0d0887"
             ],
             [
              0.1111111111111111,
              "#46039f"
             ],
             [
              0.2222222222222222,
              "#7201a8"
             ],
             [
              0.3333333333333333,
              "#9c179e"
             ],
             [
              0.4444444444444444,
              "#bd3786"
             ],
             [
              0.5555555555555556,
              "#d8576b"
             ],
             [
              0.6666666666666666,
              "#ed7953"
             ],
             [
              0.7777777777777778,
              "#fb9f3a"
             ],
             [
              0.8888888888888888,
              "#fdca26"
             ],
             [
              1,
              "#f0f921"
             ]
            ],
            "type": "heatmapgl"
           }
          ],
          "histogram": [
           {
            "marker": {
             "colorbar": {
              "outlinewidth": 0,
              "ticks": ""
             }
            },
            "type": "histogram"
           }
          ],
          "histogram2d": [
           {
            "colorbar": {
             "outlinewidth": 0,
             "ticks": ""
            },
            "colorscale": [
             [
              0,
              "#0d0887"
             ],
             [
              0.1111111111111111,
              "#46039f"
             ],
             [
              0.2222222222222222,
              "#7201a8"
             ],
             [
              0.3333333333333333,
              "#9c179e"
             ],
             [
              0.4444444444444444,
              "#bd3786"
             ],
             [
              0.5555555555555556,
              "#d8576b"
             ],
             [
              0.6666666666666666,
              "#ed7953"
             ],
             [
              0.7777777777777778,
              "#fb9f3a"
             ],
             [
              0.8888888888888888,
              "#fdca26"
             ],
             [
              1,
              "#f0f921"
             ]
            ],
            "type": "histogram2d"
           }
          ],
          "histogram2dcontour": [
           {
            "colorbar": {
             "outlinewidth": 0,
             "ticks": ""
            },
            "colorscale": [
             [
              0,
              "#0d0887"
             ],
             [
              0.1111111111111111,
              "#46039f"
             ],
             [
              0.2222222222222222,
              "#7201a8"
             ],
             [
              0.3333333333333333,
              "#9c179e"
             ],
             [
              0.4444444444444444,
              "#bd3786"
             ],
             [
              0.5555555555555556,
              "#d8576b"
             ],
             [
              0.6666666666666666,
              "#ed7953"
             ],
             [
              0.7777777777777778,
              "#fb9f3a"
             ],
             [
              0.8888888888888888,
              "#fdca26"
             ],
             [
              1,
              "#f0f921"
             ]
            ],
            "type": "histogram2dcontour"
           }
          ],
          "mesh3d": [
           {
            "colorbar": {
             "outlinewidth": 0,
             "ticks": ""
            },
            "type": "mesh3d"
           }
          ],
          "parcoords": [
           {
            "line": {
             "colorbar": {
              "outlinewidth": 0,
              "ticks": ""
             }
            },
            "type": "parcoords"
           }
          ],
          "pie": [
           {
            "automargin": true,
            "type": "pie"
           }
          ],
          "scatter": [
           {
            "marker": {
             "colorbar": {
              "outlinewidth": 0,
              "ticks": ""
             }
            },
            "type": "scatter"
           }
          ],
          "scatter3d": [
           {
            "line": {
             "colorbar": {
              "outlinewidth": 0,
              "ticks": ""
             }
            },
            "marker": {
             "colorbar": {
              "outlinewidth": 0,
              "ticks": ""
             }
            },
            "type": "scatter3d"
           }
          ],
          "scattercarpet": [
           {
            "marker": {
             "colorbar": {
              "outlinewidth": 0,
              "ticks": ""
             }
            },
            "type": "scattercarpet"
           }
          ],
          "scattergeo": [
           {
            "marker": {
             "colorbar": {
              "outlinewidth": 0,
              "ticks": ""
             }
            },
            "type": "scattergeo"
           }
          ],
          "scattergl": [
           {
            "marker": {
             "colorbar": {
              "outlinewidth": 0,
              "ticks": ""
             }
            },
            "type": "scattergl"
           }
          ],
          "scattermapbox": [
           {
            "marker": {
             "colorbar": {
              "outlinewidth": 0,
              "ticks": ""
             }
            },
            "type": "scattermapbox"
           }
          ],
          "scatterpolar": [
           {
            "marker": {
             "colorbar": {
              "outlinewidth": 0,
              "ticks": ""
             }
            },
            "type": "scatterpolar"
           }
          ],
          "scatterpolargl": [
           {
            "marker": {
             "colorbar": {
              "outlinewidth": 0,
              "ticks": ""
             }
            },
            "type": "scatterpolargl"
           }
          ],
          "scatterternary": [
           {
            "marker": {
             "colorbar": {
              "outlinewidth": 0,
              "ticks": ""
             }
            },
            "type": "scatterternary"
           }
          ],
          "surface": [
           {
            "colorbar": {
             "outlinewidth": 0,
             "ticks": ""
            },
            "colorscale": [
             [
              0,
              "#0d0887"
             ],
             [
              0.1111111111111111,
              "#46039f"
             ],
             [
              0.2222222222222222,
              "#7201a8"
             ],
             [
              0.3333333333333333,
              "#9c179e"
             ],
             [
              0.4444444444444444,
              "#bd3786"
             ],
             [
              0.5555555555555556,
              "#d8576b"
             ],
             [
              0.6666666666666666,
              "#ed7953"
             ],
             [
              0.7777777777777778,
              "#fb9f3a"
             ],
             [
              0.8888888888888888,
              "#fdca26"
             ],
             [
              1,
              "#f0f921"
             ]
            ],
            "type": "surface"
           }
          ],
          "table": [
           {
            "cells": {
             "fill": {
              "color": "#EBF0F8"
             },
             "line": {
              "color": "white"
             }
            },
            "header": {
             "fill": {
              "color": "#C8D4E3"
             },
             "line": {
              "color": "white"
             }
            },
            "type": "table"
           }
          ]
         },
         "layout": {
          "annotationdefaults": {
           "arrowcolor": "#2a3f5f",
           "arrowhead": 0,
           "arrowwidth": 1
          },
          "autotypenumbers": "strict",
          "coloraxis": {
           "colorbar": {
            "outlinewidth": 0,
            "ticks": ""
           }
          },
          "colorscale": {
           "diverging": [
            [
             0,
             "#8e0152"
            ],
            [
             0.1,
             "#c51b7d"
            ],
            [
             0.2,
             "#de77ae"
            ],
            [
             0.3,
             "#f1b6da"
            ],
            [
             0.4,
             "#fde0ef"
            ],
            [
             0.5,
             "#f7f7f7"
            ],
            [
             0.6,
             "#e6f5d0"
            ],
            [
             0.7,
             "#b8e186"
            ],
            [
             0.8,
             "#7fbc41"
            ],
            [
             0.9,
             "#4d9221"
            ],
            [
             1,
             "#276419"
            ]
           ],
           "sequential": [
            [
             0,
             "#0d0887"
            ],
            [
             0.1111111111111111,
             "#46039f"
            ],
            [
             0.2222222222222222,
             "#7201a8"
            ],
            [
             0.3333333333333333,
             "#9c179e"
            ],
            [
             0.4444444444444444,
             "#bd3786"
            ],
            [
             0.5555555555555556,
             "#d8576b"
            ],
            [
             0.6666666666666666,
             "#ed7953"
            ],
            [
             0.7777777777777778,
             "#fb9f3a"
            ],
            [
             0.8888888888888888,
             "#fdca26"
            ],
            [
             1,
             "#f0f921"
            ]
           ],
           "sequentialminus": [
            [
             0,
             "#0d0887"
            ],
            [
             0.1111111111111111,
             "#46039f"
            ],
            [
             0.2222222222222222,
             "#7201a8"
            ],
            [
             0.3333333333333333,
             "#9c179e"
            ],
            [
             0.4444444444444444,
             "#bd3786"
            ],
            [
             0.5555555555555556,
             "#d8576b"
            ],
            [
             0.6666666666666666,
             "#ed7953"
            ],
            [
             0.7777777777777778,
             "#fb9f3a"
            ],
            [
             0.8888888888888888,
             "#fdca26"
            ],
            [
             1,
             "#f0f921"
            ]
           ]
          },
          "colorway": [
           "#636efa",
           "#EF553B",
           "#00cc96",
           "#ab63fa",
           "#FFA15A",
           "#19d3f3",
           "#FF6692",
           "#B6E880",
           "#FF97FF",
           "#FECB52"
          ],
          "font": {
           "color": "#2a3f5f"
          },
          "geo": {
           "bgcolor": "white",
           "lakecolor": "white",
           "landcolor": "#E5ECF6",
           "showlakes": true,
           "showland": true,
           "subunitcolor": "white"
          },
          "hoverlabel": {
           "align": "left"
          },
          "hovermode": "closest",
          "mapbox": {
           "style": "light"
          },
          "paper_bgcolor": "white",
          "plot_bgcolor": "#E5ECF6",
          "polar": {
           "angularaxis": {
            "gridcolor": "white",
            "linecolor": "white",
            "ticks": ""
           },
           "bgcolor": "#E5ECF6",
           "radialaxis": {
            "gridcolor": "white",
            "linecolor": "white",
            "ticks": ""
           }
          },
          "scene": {
           "xaxis": {
            "backgroundcolor": "#E5ECF6",
            "gridcolor": "white",
            "gridwidth": 2,
            "linecolor": "white",
            "showbackground": true,
            "ticks": "",
            "zerolinecolor": "white"
           },
           "yaxis": {
            "backgroundcolor": "#E5ECF6",
            "gridcolor": "white",
            "gridwidth": 2,
            "linecolor": "white",
            "showbackground": true,
            "ticks": "",
            "zerolinecolor": "white"
           },
           "zaxis": {
            "backgroundcolor": "#E5ECF6",
            "gridcolor": "white",
            "gridwidth": 2,
            "linecolor": "white",
            "showbackground": true,
            "ticks": "",
            "zerolinecolor": "white"
           }
          },
          "shapedefaults": {
           "line": {
            "color": "#2a3f5f"
           }
          },
          "ternary": {
           "aaxis": {
            "gridcolor": "white",
            "linecolor": "white",
            "ticks": ""
           },
           "baxis": {
            "gridcolor": "white",
            "linecolor": "white",
            "ticks": ""
           },
           "bgcolor": "#E5ECF6",
           "caxis": {
            "gridcolor": "white",
            "linecolor": "white",
            "ticks": ""
           }
          },
          "title": {
           "x": 0.05
          },
          "xaxis": {
           "automargin": true,
           "gridcolor": "white",
           "linecolor": "white",
           "ticks": "",
           "title": {
            "standoff": 15
           },
           "zerolinecolor": "white",
           "zerolinewidth": 2
          },
          "yaxis": {
           "automargin": true,
           "gridcolor": "white",
           "linecolor": "white",
           "ticks": "",
           "title": {
            "standoff": 15
           },
           "zerolinecolor": "white",
           "zerolinewidth": 2
          }
         }
        },
        "title": {
         "text": "Superfamily expression profile"
        },
        "width": 1200
       }
      },
      "text/html": "<div>                            <div id=\"15752922-d787-4dd1-8f72-925bf45c53f9\" class=\"plotly-graph-div\" style=\"height:500px; width:1200px;\"></div>            <script type=\"text/javascript\">                require([\"plotly\"], function(Plotly) {                    window.PLOTLYENV=window.PLOTLYENV || {};                                    if (document.getElementById(\"15752922-d787-4dd1-8f72-925bf45c53f9\")) {                    Plotly.newPlot(                        \"15752922-d787-4dd1-8f72-925bf45c53f9\",                        [{\"domain\": {\"x\": [0.0, 0.45], \"y\": [0.0, 1.0]}, \"hole\": 0.4, \"hoverinfo\": \"label+value\", \"labels\": [\"R1-LOA\", \"TcMar-Tc1\", \"TcMar-Tc1\", \"I-Jockey\", \"I-Jockey\", \"I-Jockey\", \"I-Jockey\", \"Gypsy\", \"Gypsy\", \"Gypsy\", \"CR1\", \"Gypsy\", \"R1\", \"R1\", \"R1\", \"Helitron\", \"I-Jockey\", \"I-Jockey\", \"I-Jockey\", \"I-Jockey\", \"I-Jockey\", \"I-Jockey\", \"TcMar-Tc1\", \"I-Jockey\", \"I-Jockey\", \"I-Jockey\", \"I-Jockey\", \"I-Jockey\", \"I-Jockey\", \"I-Jockey\", \"I-Jockey\", \"I-Jockey\", \"I-Jockey\", \"Gypsy\", \"Gypsy\", \"I-Jockey\", \"Helitron\", \"I-Jockey\", \"Gypsy\", \"hAT-hobo\", \"I\", \"I\", \"I-Jockey\", \"I-Jockey\", \"PiggyBac\", \"CMC-Transib\", \"TcMar-Tc1\", \"TcMar-Tc1\", \"MULE-NOF\", \"P\", \"TcMar-Pogo\", \"TcMar-Pogo\", \"P\", \"P\", \"P\", \"R1\", \"R1\", \"R2\", \"TcMar-Tc1\", \"Gypsy\", \"I-Jockey\", \"I-Jockey\", \"I-Jockey\", \"TcMar-Tc1\", \"TcMar-Tc1\", \"Gypsy\", \"CMC-Transib\", \"CMC-Transib\", \"CMC-Transib\", \"CMC-Transib\", \"CMC-Transib\", \"CMC-Transib\", \"TcMar-Tc1\", \"Gypsy\", \"Gypsy\", \"Gypsy\", \"Pao\", \"Pao\", \"Gypsy\", \"Gypsy\", \"Gypsy\", \"Gypsy\", \"Gypsy\", \"Gypsy\", \"Copia\", \"Copia\", \"Copia\", \"Pao\", \"Pao\", \"Copia\", \"Gypsy\", \"Gypsy\", \"Gypsy\", \"Copia\", \"Gypsy\", \"Gypsy\", \"Gypsy\", \"Gypsy\", \"Gypsy\", \"Gypsy\", \"Gypsy\", \"Gypsy\", \"Gypsy\", \"Gypsy\", \"Gypsy\", \"Gypsy\", \"Gypsy\", \"Gypsy\", \"Gypsy\", \"Gypsy\", \"Gypsy\", \"Gypsy\", \"Gypsy\", \"Gypsy\", \"Gypsy\", \"Pao\", \"Gypsy\", \"Gypsy\", \"Gypsy\", \"Pao\", \"Gypsy\", \"Gypsy\", \"Gypsy\", \"Pao\", \"Pao\", \"Gypsy\", \"Gypsy\", \"Gypsy\", \"Gypsy\", \"Gypsy\", \"Gypsy\"], \"name\": \"Female\", \"textinfo\": \"value\", \"type\": \"pie\", \"values\": [1040, 22, 6, 1488, 1768, 155, 26, 53, 132, 25, 7836, 70, 1023, 1758, 800, 48742, 1430, 561, 649, 1394, 136, 43, 6038, 2274, 372, 143, 223, 707, 339, 867, 31, 1, 39, 436, 649, 110, 0, 30, 1388, 1301, 1559, 170, 300, 702, 114, 917, 639, 714, 111, 9, 910, 774, 4953, 4937, 5863, 229, 177, 2, 2175, 0, 72, 58, 104, 1081, 1369, 14, 77, 223, 408, 475, 28, 266, 207, 823, 680, 169, 275, 530, 84, 115, 194, 49, 93, 123, 10, 561, 1177, 2455, 77, 189, 618, 1504, 417, 39, 361, 1718, 67, 248, 212, 1691, 45, 1666, 200, 339, 555, 1514, 190, 2103, 607, 355, 677, 660, 321, 62, 1417, 582, 608, 130, 419, 241, 198, 30, 942, 235, 5917, 48, 148, 366, 115, 221, 340]}, {\"domain\": {\"x\": [0.55, 1.0], \"y\": [0.0, 1.0]}, \"hole\": 0.4, \"hoverinfo\": \"label+value\", \"labels\": [\"R1-LOA\", \"TcMar-Tc1\", \"TcMar-Tc1\", \"I-Jockey\", \"I-Jockey\", \"I-Jockey\", \"I-Jockey\", \"Gypsy\", \"Gypsy\", \"Gypsy\", \"CR1\", \"Gypsy\", \"R1\", \"R1\", \"R1\", \"Helitron\", \"I-Jockey\", \"I-Jockey\", \"I-Jockey\", \"I-Jockey\", \"I-Jockey\", \"I-Jockey\", \"TcMar-Tc1\", \"I-Jockey\", \"I-Jockey\", \"I-Jockey\", \"I-Jockey\", \"I-Jockey\", \"I-Jockey\", \"I-Jockey\", \"I-Jockey\", \"I-Jockey\", \"I-Jockey\", \"Gypsy\", \"Gypsy\", \"I-Jockey\", \"Helitron\", \"I-Jockey\", \"Gypsy\", \"hAT-hobo\", \"I\", \"I\", \"I-Jockey\", \"I-Jockey\", \"PiggyBac\", \"CMC-Transib\", \"TcMar-Tc1\", \"TcMar-Tc1\", \"MULE-NOF\", \"P\", \"TcMar-Pogo\", \"TcMar-Pogo\", \"P\", \"P\", \"P\", \"R1\", \"R1\", \"R2\", \"TcMar-Tc1\", \"Gypsy\", \"I-Jockey\", \"I-Jockey\", \"I-Jockey\", \"TcMar-Tc1\", \"TcMar-Tc1\", \"Gypsy\", \"CMC-Transib\", \"CMC-Transib\", \"CMC-Transib\", \"CMC-Transib\", \"CMC-Transib\", \"CMC-Transib\", \"TcMar-Tc1\", \"Gypsy\", \"Gypsy\", \"Gypsy\", \"Pao\", \"Pao\", \"Gypsy\", \"Gypsy\", \"Gypsy\", \"Gypsy\", \"Gypsy\", \"Gypsy\", \"Copia\", \"Copia\", \"Copia\", \"Pao\", \"Pao\", \"Copia\", \"Gypsy\", \"Gypsy\", \"Gypsy\", \"Copia\", \"Gypsy\", \"Gypsy\", \"Gypsy\", \"Gypsy\", \"Gypsy\", \"Gypsy\", \"Gypsy\", \"Gypsy\", \"Gypsy\", \"Gypsy\", \"Gypsy\", \"Gypsy\", \"Gypsy\", \"Gypsy\", \"Gypsy\", \"Gypsy\", \"Gypsy\", \"Gypsy\", \"Gypsy\", \"Gypsy\", \"Gypsy\", \"Pao\", \"Gypsy\", \"Gypsy\", \"Gypsy\", \"Pao\", \"Gypsy\", \"Gypsy\", \"Gypsy\", \"Pao\", \"Pao\", \"Gypsy\", \"Gypsy\", \"Gypsy\", \"Gypsy\", \"Gypsy\", \"Gypsy\"], \"name\": \"Male\", \"textinfo\": \"value\", \"type\": \"pie\", \"values\": [824, 60, 30, 848, 612, 176, 18, 103, 2742, 314, 4695, 2529, 633, 1060, 811, 55820, 1344, 301, 361, 709, 395, 207, 7244, 1273, 201, 476, 353, 877, 592, 540, 59, 69, 351, 711, 495, 121, 0, 1451, 1276, 1199, 1352, 425, 558, 2340, 77, 884, 644, 244, 286, 17, 1458, 492, 4018, 3219, 5054, 215, 462, 1, 1456, 0, 1108, 403, 1234, 1200, 748, 35, 54, 487, 101, 150, 89, 972, 228, 1003, 573, 223, 235, 255, 138, 588, 85, 194, 96, 147, 81, 261, 763, 1327, 59, 254, 416, 1017, 289, 121, 658, 1377, 161, 324, 345, 1227, 118, 825, 216, 766, 498, 1577, 349, 607, 716, 1130, 419, 575, 533, 25, 1694, 310, 614, 297, 746, 177, 1321, 54, 1964, 237, 19755, 288, 305, 969, 330, 169, 660]}],                        {\"annotations\": [{\"font\": {\"size\": 20}, \"showarrow\": false, \"text\": \"Female\", \"x\": 0.18, \"y\": 0.5}, {\"font\": {\"size\": 20}, \"showarrow\": false, \"text\": \"Male\", \"x\": 0.8, \"y\": 0.5}], \"height\": 500, \"template\": {\"data\": {\"bar\": [{\"error_x\": {\"color\": \"#2a3f5f\"}, \"error_y\": {\"color\": \"#2a3f5f\"}, \"marker\": {\"line\": {\"color\": \"#E5ECF6\", \"width\": 0.5}}, \"type\": \"bar\"}], \"barpolar\": [{\"marker\": {\"line\": {\"color\": \"#E5ECF6\", \"width\": 0.5}}, \"type\": \"barpolar\"}], \"carpet\": [{\"aaxis\": {\"endlinecolor\": \"#2a3f5f\", \"gridcolor\": \"white\", \"linecolor\": \"white\", \"minorgridcolor\": \"white\", \"startlinecolor\": \"#2a3f5f\"}, \"baxis\": {\"endlinecolor\": \"#2a3f5f\", \"gridcolor\": \"white\", \"linecolor\": \"white\", \"minorgridcolor\": \"white\", \"startlinecolor\": \"#2a3f5f\"}, \"type\": \"carpet\"}], \"choropleth\": [{\"colorbar\": {\"outlinewidth\": 0, \"ticks\": \"\"}, \"type\": \"choropleth\"}], \"contour\": [{\"colorbar\": {\"outlinewidth\": 0, \"ticks\": \"\"}, \"colorscale\": [[0.0, \"#0d0887\"], [0.1111111111111111, \"#46039f\"], [0.2222222222222222, \"#7201a8\"], [0.3333333333333333, \"#9c179e\"], [0.4444444444444444, \"#bd3786\"], [0.5555555555555556, \"#d8576b\"], [0.6666666666666666, \"#ed7953\"], [0.7777777777777778, \"#fb9f3a\"], [0.8888888888888888, \"#fdca26\"], [1.0, \"#f0f921\"]], \"type\": \"contour\"}], \"contourcarpet\": [{\"colorbar\": {\"outlinewidth\": 0, \"ticks\": \"\"}, \"type\": \"contourcarpet\"}], \"heatmap\": [{\"colorbar\": {\"outlinewidth\": 0, \"ticks\": \"\"}, \"colorscale\": [[0.0, \"#0d0887\"], [0.1111111111111111, \"#46039f\"], [0.2222222222222222, \"#7201a8\"], [0.3333333333333333, \"#9c179e\"], [0.4444444444444444, \"#bd3786\"], [0.5555555555555556, \"#d8576b\"], [0.6666666666666666, \"#ed7953\"], [0.7777777777777778, \"#fb9f3a\"], [0.8888888888888888, \"#fdca26\"], [1.0, \"#f0f921\"]], \"type\": \"heatmap\"}], \"heatmapgl\": [{\"colorbar\": {\"outlinewidth\": 0, \"ticks\": \"\"}, \"colorscale\": [[0.0, \"#0d0887\"], [0.1111111111111111, \"#46039f\"], [0.2222222222222222, \"#7201a8\"], [0.3333333333333333, \"#9c179e\"], [0.4444444444444444, \"#bd3786\"], [0.5555555555555556, \"#d8576b\"], [0.6666666666666666, \"#ed7953\"], [0.7777777777777778, \"#fb9f3a\"], [0.8888888888888888, \"#fdca26\"], [1.0, \"#f0f921\"]], \"type\": \"heatmapgl\"}], \"histogram\": [{\"marker\": {\"colorbar\": {\"outlinewidth\": 0, \"ticks\": \"\"}}, \"type\": \"histogram\"}], \"histogram2d\": [{\"colorbar\": {\"outlinewidth\": 0, \"ticks\": \"\"}, \"colorscale\": [[0.0, \"#0d0887\"], [0.1111111111111111, \"#46039f\"], [0.2222222222222222, \"#7201a8\"], [0.3333333333333333, \"#9c179e\"], [0.4444444444444444, \"#bd3786\"], [0.5555555555555556, \"#d8576b\"], [0.6666666666666666, \"#ed7953\"], [0.7777777777777778, \"#fb9f3a\"], [0.8888888888888888, \"#fdca26\"], [1.0, \"#f0f921\"]], \"type\": \"histogram2d\"}], \"histogram2dcontour\": [{\"colorbar\": {\"outlinewidth\": 0, \"ticks\": \"\"}, \"colorscale\": [[0.0, \"#0d0887\"], [0.1111111111111111, \"#46039f\"], [0.2222222222222222, \"#7201a8\"], [0.3333333333333333, \"#9c179e\"], [0.4444444444444444, \"#bd3786\"], [0.5555555555555556, \"#d8576b\"], [0.6666666666666666, \"#ed7953\"], [0.7777777777777778, \"#fb9f3a\"], [0.8888888888888888, \"#fdca26\"], [1.0, \"#f0f921\"]], \"type\": \"histogram2dcontour\"}], \"mesh3d\": [{\"colorbar\": {\"outlinewidth\": 0, \"ticks\": \"\"}, \"type\": \"mesh3d\"}], \"parcoords\": [{\"line\": {\"colorbar\": {\"outlinewidth\": 0, \"ticks\": \"\"}}, \"type\": \"parcoords\"}], \"pie\": [{\"automargin\": true, \"type\": \"pie\"}], \"scatter\": [{\"marker\": {\"colorbar\": {\"outlinewidth\": 0, \"ticks\": \"\"}}, \"type\": \"scatter\"}], \"scatter3d\": [{\"line\": {\"colorbar\": {\"outlinewidth\": 0, \"ticks\": \"\"}}, \"marker\": {\"colorbar\": {\"outlinewidth\": 0, \"ticks\": \"\"}}, \"type\": \"scatter3d\"}], \"scattercarpet\": [{\"marker\": {\"colorbar\": {\"outlinewidth\": 0, \"ticks\": \"\"}}, \"type\": \"scattercarpet\"}], \"scattergeo\": [{\"marker\": {\"colorbar\": {\"outlinewidth\": 0, \"ticks\": \"\"}}, \"type\": \"scattergeo\"}], \"scattergl\": [{\"marker\": {\"colorbar\": {\"outlinewidth\": 0, \"ticks\": \"\"}}, \"type\": \"scattergl\"}], \"scattermapbox\": [{\"marker\": {\"colorbar\": {\"outlinewidth\": 0, \"ticks\": \"\"}}, \"type\": \"scattermapbox\"}], \"scatterpolar\": [{\"marker\": {\"colorbar\": {\"outlinewidth\": 0, \"ticks\": \"\"}}, \"type\": \"scatterpolar\"}], \"scatterpolargl\": [{\"marker\": {\"colorbar\": {\"outlinewidth\": 0, \"ticks\": \"\"}}, \"type\": \"scatterpolargl\"}], \"scatterternary\": [{\"marker\": {\"colorbar\": {\"outlinewidth\": 0, \"ticks\": \"\"}}, \"type\": \"scatterternary\"}], \"surface\": [{\"colorbar\": {\"outlinewidth\": 0, \"ticks\": \"\"}, \"colorscale\": [[0.0, \"#0d0887\"], [0.1111111111111111, \"#46039f\"], [0.2222222222222222, \"#7201a8\"], [0.3333333333333333, \"#9c179e\"], [0.4444444444444444, \"#bd3786\"], [0.5555555555555556, \"#d8576b\"], [0.6666666666666666, \"#ed7953\"], [0.7777777777777778, \"#fb9f3a\"], [0.8888888888888888, \"#fdca26\"], [1.0, \"#f0f921\"]], \"type\": \"surface\"}], \"table\": [{\"cells\": {\"fill\": {\"color\": \"#EBF0F8\"}, \"line\": {\"color\": \"white\"}}, \"header\": {\"fill\": {\"color\": \"#C8D4E3\"}, \"line\": {\"color\": \"white\"}}, \"type\": \"table\"}]}, \"layout\": {\"annotationdefaults\": {\"arrowcolor\": \"#2a3f5f\", \"arrowhead\": 0, \"arrowwidth\": 1}, \"autotypenumbers\": \"strict\", \"coloraxis\": {\"colorbar\": {\"outlinewidth\": 0, \"ticks\": \"\"}}, \"colorscale\": {\"diverging\": [[0, \"#8e0152\"], [0.1, \"#c51b7d\"], [0.2, \"#de77ae\"], [0.3, \"#f1b6da\"], [0.4, \"#fde0ef\"], [0.5, \"#f7f7f7\"], [0.6, \"#e6f5d0\"], [0.7, \"#b8e186\"], [0.8, \"#7fbc41\"], [0.9, \"#4d9221\"], [1, \"#276419\"]], \"sequential\": [[0.0, \"#0d0887\"], [0.1111111111111111, \"#46039f\"], [0.2222222222222222, \"#7201a8\"], [0.3333333333333333, \"#9c179e\"], [0.4444444444444444, \"#bd3786\"], [0.5555555555555556, \"#d8576b\"], [0.6666666666666666, \"#ed7953\"], [0.7777777777777778, \"#fb9f3a\"], [0.8888888888888888, \"#fdca26\"], [1.0, \"#f0f921\"]], \"sequentialminus\": [[0.0, \"#0d0887\"], [0.1111111111111111, \"#46039f\"], [0.2222222222222222, \"#7201a8\"], [0.3333333333333333, \"#9c179e\"], [0.4444444444444444, \"#bd3786\"], [0.5555555555555556, \"#d8576b\"], [0.6666666666666666, \"#ed7953\"], [0.7777777777777778, \"#fb9f3a\"], [0.8888888888888888, \"#fdca26\"], [1.0, \"#f0f921\"]]}, \"colorway\": [\"#636efa\", \"#EF553B\", \"#00cc96\", \"#ab63fa\", \"#FFA15A\", \"#19d3f3\", \"#FF6692\", \"#B6E880\", \"#FF97FF\", \"#FECB52\"], \"font\": {\"color\": \"#2a3f5f\"}, \"geo\": {\"bgcolor\": \"white\", \"lakecolor\": \"white\", \"landcolor\": \"#E5ECF6\", \"showlakes\": true, \"showland\": true, \"subunitcolor\": \"white\"}, \"hoverlabel\": {\"align\": \"left\"}, \"hovermode\": \"closest\", \"mapbox\": {\"style\": \"light\"}, \"paper_bgcolor\": \"white\", \"plot_bgcolor\": \"#E5ECF6\", \"polar\": {\"angularaxis\": {\"gridcolor\": \"white\", \"linecolor\": \"white\", \"ticks\": \"\"}, \"bgcolor\": \"#E5ECF6\", \"radialaxis\": {\"gridcolor\": \"white\", \"linecolor\": \"white\", \"ticks\": \"\"}}, \"scene\": {\"xaxis\": {\"backgroundcolor\": \"#E5ECF6\", \"gridcolor\": \"white\", \"gridwidth\": 2, \"linecolor\": \"white\", \"showbackground\": true, \"ticks\": \"\", \"zerolinecolor\": \"white\"}, \"yaxis\": {\"backgroundcolor\": \"#E5ECF6\", \"gridcolor\": \"white\", \"gridwidth\": 2, \"linecolor\": \"white\", \"showbackground\": true, \"ticks\": \"\", \"zerolinecolor\": \"white\"}, \"zaxis\": {\"backgroundcolor\": \"#E5ECF6\", \"gridcolor\": \"white\", \"gridwidth\": 2, \"linecolor\": \"white\", \"showbackground\": true, \"ticks\": \"\", \"zerolinecolor\": \"white\"}}, \"shapedefaults\": {\"line\": {\"color\": \"#2a3f5f\"}}, \"ternary\": {\"aaxis\": {\"gridcolor\": \"white\", \"linecolor\": \"white\", \"ticks\": \"\"}, \"baxis\": {\"gridcolor\": \"white\", \"linecolor\": \"white\", \"ticks\": \"\"}, \"bgcolor\": \"#E5ECF6\", \"caxis\": {\"gridcolor\": \"white\", \"linecolor\": \"white\", \"ticks\": \"\"}}, \"title\": {\"x\": 0.05}, \"xaxis\": {\"automargin\": true, \"gridcolor\": \"white\", \"linecolor\": \"white\", \"ticks\": \"\", \"title\": {\"standoff\": 15}, \"zerolinecolor\": \"white\", \"zerolinewidth\": 2}, \"yaxis\": {\"automargin\": true, \"gridcolor\": \"white\", \"linecolor\": \"white\", \"ticks\": \"\", \"title\": {\"standoff\": 15}, \"zerolinecolor\": \"white\", \"zerolinewidth\": 2}}}, \"title\": {\"text\": \"Superfamily expression profile\"}, \"width\": 1200},                        {\"responsive\": true}                    ).then(function(){\n                            \nvar gd = document.getElementById('15752922-d787-4dd1-8f72-925bf45c53f9');\nvar x = new MutationObserver(function (mutations, observer) {{\n        var display = window.getComputedStyle(gd).display;\n        if (!display || display === 'none') {{\n            console.log([gd, 'removed!']);\n            Plotly.purge(gd);\n            observer.disconnect();\n        }}\n}});\n\n// Listen for the removal of the full notebook cells\nvar notebookContainer = gd.closest('#notebook-container');\nif (notebookContainer) {{\n    x.observe(notebookContainer, {childList: true});\n}}\n\n// Listen for the clearing of the current output cell\nvar outputEl = gd.closest('.output');\nif (outputEl) {{\n    x.observe(outputEl, {childList: true});\n}}\n\n                        })                };                });            </script>        </div>"
     },
     "metadata": {}
    }
   ],
   "source": [
    "plot_TE_expression_profile_by_family(TE_data_table)"
   ]
  },
  {
   "cell_type": "code",
   "execution_count": 97,
   "metadata": {},
   "outputs": [
    {
     "output_type": "display_data",
     "data": {
      "application/vnd.plotly.v1+json": {
       "config": {
        "plotlyServerURL": "https://plot.ly"
       },
       "data": [
        {
         "domain": {
          "x": [
           0,
           0.45
          ],
          "y": [
           0,
           1
          ]
         },
         "hole": 0.4,
         "hoverinfo": "label+value",
         "labels": [
          "LINE",
          "DNA",
          "DNA",
          "LINE",
          "LINE",
          "LINE",
          "LINE",
          "LTR",
          "LTR",
          "LTR",
          "LINE",
          "LTR",
          "LINE",
          "LINE",
          "LINE",
          "RC",
          "LINE",
          "LINE",
          "LINE",
          "LINE",
          "LINE",
          "LINE",
          "DNA",
          "LINE",
          "LINE",
          "LINE",
          "LINE",
          "LINE",
          "LINE",
          "LINE",
          "LINE",
          "LINE",
          "LINE",
          "LTR",
          "LTR",
          "LINE",
          "RC",
          "LINE",
          "LTR",
          "DNA",
          "LINE",
          "LINE",
          "LINE",
          "LINE",
          "DNA",
          "DNA",
          "DNA",
          "DNA",
          "DNA",
          "DNA",
          "DNA",
          "DNA",
          "DNA",
          "DNA",
          "DNA",
          "LINE",
          "LINE",
          "LINE",
          "DNA",
          "LTR",
          "LINE",
          "LINE",
          "LINE",
          "DNA",
          "DNA",
          "LTR",
          "DNA",
          "DNA",
          "DNA",
          "DNA",
          "DNA",
          "DNA",
          "DNA",
          "LTR",
          "LTR",
          "LTR",
          "LTR",
          "LTR",
          "LTR",
          "LTR",
          "LTR",
          "LTR",
          "LTR",
          "LTR",
          "LTR",
          "LTR",
          "LTR",
          "LTR",
          "LTR",
          "LTR",
          "LTR",
          "LTR",
          "LTR",
          "LTR",
          "LTR",
          "LTR",
          "LTR",
          "LTR",
          "LTR",
          "LTR",
          "LTR",
          "LTR",
          "LTR",
          "LTR",
          "LTR",
          "LTR",
          "LTR",
          "LTR",
          "LTR",
          "LTR",
          "LTR",
          "LTR",
          "LTR",
          "LTR",
          "LTR",
          "LTR",
          "LTR",
          "LTR",
          "LTR",
          "LTR",
          "LTR",
          "LTR",
          "LTR",
          "LTR",
          "LTR",
          "LTR",
          "LTR",
          "LTR",
          "LTR",
          "LTR",
          "LTR"
         ],
         "name": "Female",
         "textinfo": "value",
         "type": "pie",
         "values": [
          1040,
          22,
          6,
          1488,
          1768,
          155,
          26,
          53,
          132,
          25,
          7836,
          70,
          1023,
          1758,
          800,
          48742,
          1430,
          561,
          649,
          1394,
          136,
          43,
          6038,
          2274,
          372,
          143,
          223,
          707,
          339,
          867,
          31,
          1,
          39,
          436,
          649,
          110,
          0,
          30,
          1388,
          1301,
          1559,
          170,
          300,
          702,
          114,
          917,
          639,
          714,
          111,
          9,
          910,
          774,
          4953,
          4937,
          5863,
          229,
          177,
          2,
          2175,
          0,
          72,
          58,
          104,
          1081,
          1369,
          14,
          77,
          223,
          408,
          475,
          28,
          266,
          207,
          823,
          680,
          169,
          275,
          530,
          84,
          115,
          194,
          49,
          93,
          123,
          10,
          561,
          1177,
          2455,
          77,
          189,
          618,
          1504,
          417,
          39,
          361,
          1718,
          67,
          248,
          212,
          1691,
          45,
          1666,
          200,
          339,
          555,
          1514,
          190,
          2103,
          607,
          355,
          677,
          660,
          321,
          62,
          1417,
          582,
          608,
          130,
          419,
          241,
          198,
          30,
          942,
          235,
          5917,
          48,
          148,
          366,
          115,
          221,
          340
         ]
        },
        {
         "domain": {
          "x": [
           0.55,
           1
          ],
          "y": [
           0,
           1
          ]
         },
         "hole": 0.4,
         "hoverinfo": "label+value",
         "labels": [
          "LINE",
          "DNA",
          "DNA",
          "LINE",
          "LINE",
          "LINE",
          "LINE",
          "LTR",
          "LTR",
          "LTR",
          "LINE",
          "LTR",
          "LINE",
          "LINE",
          "LINE",
          "RC",
          "LINE",
          "LINE",
          "LINE",
          "LINE",
          "LINE",
          "LINE",
          "DNA",
          "LINE",
          "LINE",
          "LINE",
          "LINE",
          "LINE",
          "LINE",
          "LINE",
          "LINE",
          "LINE",
          "LINE",
          "LTR",
          "LTR",
          "LINE",
          "RC",
          "LINE",
          "LTR",
          "DNA",
          "LINE",
          "LINE",
          "LINE",
          "LINE",
          "DNA",
          "DNA",
          "DNA",
          "DNA",
          "DNA",
          "DNA",
          "DNA",
          "DNA",
          "DNA",
          "DNA",
          "DNA",
          "LINE",
          "LINE",
          "LINE",
          "DNA",
          "LTR",
          "LINE",
          "LINE",
          "LINE",
          "DNA",
          "DNA",
          "LTR",
          "DNA",
          "DNA",
          "DNA",
          "DNA",
          "DNA",
          "DNA",
          "DNA",
          "LTR",
          "LTR",
          "LTR",
          "LTR",
          "LTR",
          "LTR",
          "LTR",
          "LTR",
          "LTR",
          "LTR",
          "LTR",
          "LTR",
          "LTR",
          "LTR",
          "LTR",
          "LTR",
          "LTR",
          "LTR",
          "LTR",
          "LTR",
          "LTR",
          "LTR",
          "LTR",
          "LTR",
          "LTR",
          "LTR",
          "LTR",
          "LTR",
          "LTR",
          "LTR",
          "LTR",
          "LTR",
          "LTR",
          "LTR",
          "LTR",
          "LTR",
          "LTR",
          "LTR",
          "LTR",
          "LTR",
          "LTR",
          "LTR",
          "LTR",
          "LTR",
          "LTR",
          "LTR",
          "LTR",
          "LTR",
          "LTR",
          "LTR",
          "LTR",
          "LTR",
          "LTR",
          "LTR",
          "LTR",
          "LTR",
          "LTR",
          "LTR"
         ],
         "name": "Male",
         "textinfo": "value",
         "type": "pie",
         "values": [
          824,
          60,
          30,
          848,
          612,
          176,
          18,
          103,
          2742,
          314,
          4695,
          2529,
          633,
          1060,
          811,
          55820,
          1344,
          301,
          361,
          709,
          395,
          207,
          7244,
          1273,
          201,
          476,
          353,
          877,
          592,
          540,
          59,
          69,
          351,
          711,
          495,
          121,
          0,
          1451,
          1276,
          1199,
          1352,
          425,
          558,
          2340,
          77,
          884,
          644,
          244,
          286,
          17,
          1458,
          492,
          4018,
          3219,
          5054,
          215,
          462,
          1,
          1456,
          0,
          1108,
          403,
          1234,
          1200,
          748,
          35,
          54,
          487,
          101,
          150,
          89,
          972,
          228,
          1003,
          573,
          223,
          235,
          255,
          138,
          588,
          85,
          194,
          96,
          147,
          81,
          261,
          763,
          1327,
          59,
          254,
          416,
          1017,
          289,
          121,
          658,
          1377,
          161,
          324,
          345,
          1227,
          118,
          825,
          216,
          766,
          498,
          1577,
          349,
          607,
          716,
          1130,
          419,
          575,
          533,
          25,
          1694,
          310,
          614,
          297,
          746,
          177,
          1321,
          54,
          1964,
          237,
          19755,
          288,
          305,
          969,
          330,
          169,
          660
         ]
        }
       ],
       "layout": {
        "annotations": [
         {
          "font": {
           "size": 20
          },
          "showarrow": false,
          "text": "Female",
          "x": 0.18,
          "y": 0.5
         },
         {
          "font": {
           "size": 20
          },
          "showarrow": false,
          "text": "Male",
          "x": 0.8,
          "y": 0.5
         }
        ],
        "height": 500,
        "template": {
         "data": {
          "bar": [
           {
            "error_x": {
             "color": "#2a3f5f"
            },
            "error_y": {
             "color": "#2a3f5f"
            },
            "marker": {
             "line": {
              "color": "#E5ECF6",
              "width": 0.5
             }
            },
            "type": "bar"
           }
          ],
          "barpolar": [
           {
            "marker": {
             "line": {
              "color": "#E5ECF6",
              "width": 0.5
             }
            },
            "type": "barpolar"
           }
          ],
          "carpet": [
           {
            "aaxis": {
             "endlinecolor": "#2a3f5f",
             "gridcolor": "white",
             "linecolor": "white",
             "minorgridcolor": "white",
             "startlinecolor": "#2a3f5f"
            },
            "baxis": {
             "endlinecolor": "#2a3f5f",
             "gridcolor": "white",
             "linecolor": "white",
             "minorgridcolor": "white",
             "startlinecolor": "#2a3f5f"
            },
            "type": "carpet"
           }
          ],
          "choropleth": [
           {
            "colorbar": {
             "outlinewidth": 0,
             "ticks": ""
            },
            "type": "choropleth"
           }
          ],
          "contour": [
           {
            "colorbar": {
             "outlinewidth": 0,
             "ticks": ""
            },
            "colorscale": [
             [
              0,
              "#0d0887"
             ],
             [
              0.1111111111111111,
              "#46039f"
             ],
             [
              0.2222222222222222,
              "#7201a8"
             ],
             [
              0.3333333333333333,
              "#9c179e"
             ],
             [
              0.4444444444444444,
              "#bd3786"
             ],
             [
              0.5555555555555556,
              "#d8576b"
             ],
             [
              0.6666666666666666,
              "#ed7953"
             ],
             [
              0.7777777777777778,
              "#fb9f3a"
             ],
             [
              0.8888888888888888,
              "#fdca26"
             ],
             [
              1,
              "#f0f921"
             ]
            ],
            "type": "contour"
           }
          ],
          "contourcarpet": [
           {
            "colorbar": {
             "outlinewidth": 0,
             "ticks": ""
            },
            "type": "contourcarpet"
           }
          ],
          "heatmap": [
           {
            "colorbar": {
             "outlinewidth": 0,
             "ticks": ""
            },
            "colorscale": [
             [
              0,
              "#0d0887"
             ],
             [
              0.1111111111111111,
              "#46039f"
             ],
             [
              0.2222222222222222,
              "#7201a8"
             ],
             [
              0.3333333333333333,
              "#9c179e"
             ],
             [
              0.4444444444444444,
              "#bd3786"
             ],
             [
              0.5555555555555556,
              "#d8576b"
             ],
             [
              0.6666666666666666,
              "#ed7953"
             ],
             [
              0.7777777777777778,
              "#fb9f3a"
             ],
             [
              0.8888888888888888,
              "#fdca26"
             ],
             [
              1,
              "#f0f921"
             ]
            ],
            "type": "heatmap"
           }
          ],
          "heatmapgl": [
           {
            "colorbar": {
             "outlinewidth": 0,
             "ticks": ""
            },
            "colorscale": [
             [
              0,
              "#0d0887"
             ],
             [
              0.1111111111111111,
              "#46039f"
             ],
             [
              0.2222222222222222,
              "#7201a8"
             ],
             [
              0.3333333333333333,
              "#9c179e"
             ],
             [
              0.4444444444444444,
              "#bd3786"
             ],
             [
              0.5555555555555556,
              "#d8576b"
             ],
             [
              0.6666666666666666,
              "#ed7953"
             ],
             [
              0.7777777777777778,
              "#fb9f3a"
             ],
             [
              0.8888888888888888,
              "#fdca26"
             ],
             [
              1,
              "#f0f921"
             ]
            ],
            "type": "heatmapgl"
           }
          ],
          "histogram": [
           {
            "marker": {
             "colorbar": {
              "outlinewidth": 0,
              "ticks": ""
             }
            },
            "type": "histogram"
           }
          ],
          "histogram2d": [
           {
            "colorbar": {
             "outlinewidth": 0,
             "ticks": ""
            },
            "colorscale": [
             [
              0,
              "#0d0887"
             ],
             [
              0.1111111111111111,
              "#46039f"
             ],
             [
              0.2222222222222222,
              "#7201a8"
             ],
             [
              0.3333333333333333,
              "#9c179e"
             ],
             [
              0.4444444444444444,
              "#bd3786"
             ],
             [
              0.5555555555555556,
              "#d8576b"
             ],
             [
              0.6666666666666666,
              "#ed7953"
             ],
             [
              0.7777777777777778,
              "#fb9f3a"
             ],
             [
              0.8888888888888888,
              "#fdca26"
             ],
             [
              1,
              "#f0f921"
             ]
            ],
            "type": "histogram2d"
           }
          ],
          "histogram2dcontour": [
           {
            "colorbar": {
             "outlinewidth": 0,
             "ticks": ""
            },
            "colorscale": [
             [
              0,
              "#0d0887"
             ],
             [
              0.1111111111111111,
              "#46039f"
             ],
             [
              0.2222222222222222,
              "#7201a8"
             ],
             [
              0.3333333333333333,
              "#9c179e"
             ],
             [
              0.4444444444444444,
              "#bd3786"
             ],
             [
              0.5555555555555556,
              "#d8576b"
             ],
             [
              0.6666666666666666,
              "#ed7953"
             ],
             [
              0.7777777777777778,
              "#fb9f3a"
             ],
             [
              0.8888888888888888,
              "#fdca26"
             ],
             [
              1,
              "#f0f921"
             ]
            ],
            "type": "histogram2dcontour"
           }
          ],
          "mesh3d": [
           {
            "colorbar": {
             "outlinewidth": 0,
             "ticks": ""
            },
            "type": "mesh3d"
           }
          ],
          "parcoords": [
           {
            "line": {
             "colorbar": {
              "outlinewidth": 0,
              "ticks": ""
             }
            },
            "type": "parcoords"
           }
          ],
          "pie": [
           {
            "automargin": true,
            "type": "pie"
           }
          ],
          "scatter": [
           {
            "marker": {
             "colorbar": {
              "outlinewidth": 0,
              "ticks": ""
             }
            },
            "type": "scatter"
           }
          ],
          "scatter3d": [
           {
            "line": {
             "colorbar": {
              "outlinewidth": 0,
              "ticks": ""
             }
            },
            "marker": {
             "colorbar": {
              "outlinewidth": 0,
              "ticks": ""
             }
            },
            "type": "scatter3d"
           }
          ],
          "scattercarpet": [
           {
            "marker": {
             "colorbar": {
              "outlinewidth": 0,
              "ticks": ""
             }
            },
            "type": "scattercarpet"
           }
          ],
          "scattergeo": [
           {
            "marker": {
             "colorbar": {
              "outlinewidth": 0,
              "ticks": ""
             }
            },
            "type": "scattergeo"
           }
          ],
          "scattergl": [
           {
            "marker": {
             "colorbar": {
              "outlinewidth": 0,
              "ticks": ""
             }
            },
            "type": "scattergl"
           }
          ],
          "scattermapbox": [
           {
            "marker": {
             "colorbar": {
              "outlinewidth": 0,
              "ticks": ""
             }
            },
            "type": "scattermapbox"
           }
          ],
          "scatterpolar": [
           {
            "marker": {
             "colorbar": {
              "outlinewidth": 0,
              "ticks": ""
             }
            },
            "type": "scatterpolar"
           }
          ],
          "scatterpolargl": [
           {
            "marker": {
             "colorbar": {
              "outlinewidth": 0,
              "ticks": ""
             }
            },
            "type": "scatterpolargl"
           }
          ],
          "scatterternary": [
           {
            "marker": {
             "colorbar": {
              "outlinewidth": 0,
              "ticks": ""
             }
            },
            "type": "scatterternary"
           }
          ],
          "surface": [
           {
            "colorbar": {
             "outlinewidth": 0,
             "ticks": ""
            },
            "colorscale": [
             [
              0,
              "#0d0887"
             ],
             [
              0.1111111111111111,
              "#46039f"
             ],
             [
              0.2222222222222222,
              "#7201a8"
             ],
             [
              0.3333333333333333,
              "#9c179e"
             ],
             [
              0.4444444444444444,
              "#bd3786"
             ],
             [
              0.5555555555555556,
              "#d8576b"
             ],
             [
              0.6666666666666666,
              "#ed7953"
             ],
             [
              0.7777777777777778,
              "#fb9f3a"
             ],
             [
              0.8888888888888888,
              "#fdca26"
             ],
             [
              1,
              "#f0f921"
             ]
            ],
            "type": "surface"
           }
          ],
          "table": [
           {
            "cells": {
             "fill": {
              "color": "#EBF0F8"
             },
             "line": {
              "color": "white"
             }
            },
            "header": {
             "fill": {
              "color": "#C8D4E3"
             },
             "line": {
              "color": "white"
             }
            },
            "type": "table"
           }
          ]
         },
         "layout": {
          "annotationdefaults": {
           "arrowcolor": "#2a3f5f",
           "arrowhead": 0,
           "arrowwidth": 1
          },
          "autotypenumbers": "strict",
          "coloraxis": {
           "colorbar": {
            "outlinewidth": 0,
            "ticks": ""
           }
          },
          "colorscale": {
           "diverging": [
            [
             0,
             "#8e0152"
            ],
            [
             0.1,
             "#c51b7d"
            ],
            [
             0.2,
             "#de77ae"
            ],
            [
             0.3,
             "#f1b6da"
            ],
            [
             0.4,
             "#fde0ef"
            ],
            [
             0.5,
             "#f7f7f7"
            ],
            [
             0.6,
             "#e6f5d0"
            ],
            [
             0.7,
             "#b8e186"
            ],
            [
             0.8,
             "#7fbc41"
            ],
            [
             0.9,
             "#4d9221"
            ],
            [
             1,
             "#276419"
            ]
           ],
           "sequential": [
            [
             0,
             "#0d0887"
            ],
            [
             0.1111111111111111,
             "#46039f"
            ],
            [
             0.2222222222222222,
             "#7201a8"
            ],
            [
             0.3333333333333333,
             "#9c179e"
            ],
            [
             0.4444444444444444,
             "#bd3786"
            ],
            [
             0.5555555555555556,
             "#d8576b"
            ],
            [
             0.6666666666666666,
             "#ed7953"
            ],
            [
             0.7777777777777778,
             "#fb9f3a"
            ],
            [
             0.8888888888888888,
             "#fdca26"
            ],
            [
             1,
             "#f0f921"
            ]
           ],
           "sequentialminus": [
            [
             0,
             "#0d0887"
            ],
            [
             0.1111111111111111,
             "#46039f"
            ],
            [
             0.2222222222222222,
             "#7201a8"
            ],
            [
             0.3333333333333333,
             "#9c179e"
            ],
            [
             0.4444444444444444,
             "#bd3786"
            ],
            [
             0.5555555555555556,
             "#d8576b"
            ],
            [
             0.6666666666666666,
             "#ed7953"
            ],
            [
             0.7777777777777778,
             "#fb9f3a"
            ],
            [
             0.8888888888888888,
             "#fdca26"
            ],
            [
             1,
             "#f0f921"
            ]
           ]
          },
          "colorway": [
           "#636efa",
           "#EF553B",
           "#00cc96",
           "#ab63fa",
           "#FFA15A",
           "#19d3f3",
           "#FF6692",
           "#B6E880",
           "#FF97FF",
           "#FECB52"
          ],
          "font": {
           "color": "#2a3f5f"
          },
          "geo": {
           "bgcolor": "white",
           "lakecolor": "white",
           "landcolor": "#E5ECF6",
           "showlakes": true,
           "showland": true,
           "subunitcolor": "white"
          },
          "hoverlabel": {
           "align": "left"
          },
          "hovermode": "closest",
          "mapbox": {
           "style": "light"
          },
          "paper_bgcolor": "white",
          "plot_bgcolor": "#E5ECF6",
          "polar": {
           "angularaxis": {
            "gridcolor": "white",
            "linecolor": "white",
            "ticks": ""
           },
           "bgcolor": "#E5ECF6",
           "radialaxis": {
            "gridcolor": "white",
            "linecolor": "white",
            "ticks": ""
           }
          },
          "scene": {
           "xaxis": {
            "backgroundcolor": "#E5ECF6",
            "gridcolor": "white",
            "gridwidth": 2,
            "linecolor": "white",
            "showbackground": true,
            "ticks": "",
            "zerolinecolor": "white"
           },
           "yaxis": {
            "backgroundcolor": "#E5ECF6",
            "gridcolor": "white",
            "gridwidth": 2,
            "linecolor": "white",
            "showbackground": true,
            "ticks": "",
            "zerolinecolor": "white"
           },
           "zaxis": {
            "backgroundcolor": "#E5ECF6",
            "gridcolor": "white",
            "gridwidth": 2,
            "linecolor": "white",
            "showbackground": true,
            "ticks": "",
            "zerolinecolor": "white"
           }
          },
          "shapedefaults": {
           "line": {
            "color": "#2a3f5f"
           }
          },
          "ternary": {
           "aaxis": {
            "gridcolor": "white",
            "linecolor": "white",
            "ticks": ""
           },
           "baxis": {
            "gridcolor": "white",
            "linecolor": "white",
            "ticks": ""
           },
           "bgcolor": "#E5ECF6",
           "caxis": {
            "gridcolor": "white",
            "linecolor": "white",
            "ticks": ""
           }
          },
          "title": {
           "x": 0.05
          },
          "xaxis": {
           "automargin": true,
           "gridcolor": "white",
           "linecolor": "white",
           "ticks": "",
           "title": {
            "standoff": 15
           },
           "zerolinecolor": "white",
           "zerolinewidth": 2
          },
          "yaxis": {
           "automargin": true,
           "gridcolor": "white",
           "linecolor": "white",
           "ticks": "",
           "title": {
            "standoff": 15
           },
           "zerolinecolor": "white",
           "zerolinewidth": 2
          }
         }
        },
        "title": {
         "text": "Subclass expression profile"
        },
        "width": 1200
       }
      },
      "text/html": "<div>                            <div id=\"d3c66a43-c873-4892-a9c2-cdb2b9904be8\" class=\"plotly-graph-div\" style=\"height:500px; width:1200px;\"></div>            <script type=\"text/javascript\">                require([\"plotly\"], function(Plotly) {                    window.PLOTLYENV=window.PLOTLYENV || {};                                    if (document.getElementById(\"d3c66a43-c873-4892-a9c2-cdb2b9904be8\")) {                    Plotly.newPlot(                        \"d3c66a43-c873-4892-a9c2-cdb2b9904be8\",                        [{\"domain\": {\"x\": [0.0, 0.45], \"y\": [0.0, 1.0]}, \"hole\": 0.4, \"hoverinfo\": \"label+value\", \"labels\": [\"LINE\", \"DNA\", \"DNA\", \"LINE\", \"LINE\", \"LINE\", \"LINE\", \"LTR\", \"LTR\", \"LTR\", \"LINE\", \"LTR\", \"LINE\", \"LINE\", \"LINE\", \"RC\", \"LINE\", \"LINE\", \"LINE\", \"LINE\", \"LINE\", \"LINE\", \"DNA\", \"LINE\", \"LINE\", \"LINE\", \"LINE\", \"LINE\", \"LINE\", \"LINE\", \"LINE\", \"LINE\", \"LINE\", \"LTR\", \"LTR\", \"LINE\", \"RC\", \"LINE\", \"LTR\", \"DNA\", \"LINE\", \"LINE\", \"LINE\", \"LINE\", \"DNA\", \"DNA\", \"DNA\", \"DNA\", \"DNA\", \"DNA\", \"DNA\", \"DNA\", \"DNA\", \"DNA\", \"DNA\", \"LINE\", \"LINE\", \"LINE\", \"DNA\", \"LTR\", \"LINE\", \"LINE\", \"LINE\", \"DNA\", \"DNA\", \"LTR\", \"DNA\", \"DNA\", \"DNA\", \"DNA\", \"DNA\", \"DNA\", \"DNA\", \"LTR\", \"LTR\", \"LTR\", \"LTR\", \"LTR\", \"LTR\", \"LTR\", \"LTR\", \"LTR\", \"LTR\", \"LTR\", \"LTR\", \"LTR\", \"LTR\", \"LTR\", \"LTR\", \"LTR\", \"LTR\", \"LTR\", \"LTR\", \"LTR\", \"LTR\", \"LTR\", \"LTR\", \"LTR\", \"LTR\", \"LTR\", \"LTR\", \"LTR\", \"LTR\", \"LTR\", \"LTR\", \"LTR\", \"LTR\", \"LTR\", \"LTR\", \"LTR\", \"LTR\", \"LTR\", \"LTR\", \"LTR\", \"LTR\", \"LTR\", \"LTR\", \"LTR\", \"LTR\", \"LTR\", \"LTR\", \"LTR\", \"LTR\", \"LTR\", \"LTR\", \"LTR\", \"LTR\", \"LTR\", \"LTR\", \"LTR\", \"LTR\"], \"name\": \"Female\", \"textinfo\": \"value\", \"type\": \"pie\", \"values\": [1040, 22, 6, 1488, 1768, 155, 26, 53, 132, 25, 7836, 70, 1023, 1758, 800, 48742, 1430, 561, 649, 1394, 136, 43, 6038, 2274, 372, 143, 223, 707, 339, 867, 31, 1, 39, 436, 649, 110, 0, 30, 1388, 1301, 1559, 170, 300, 702, 114, 917, 639, 714, 111, 9, 910, 774, 4953, 4937, 5863, 229, 177, 2, 2175, 0, 72, 58, 104, 1081, 1369, 14, 77, 223, 408, 475, 28, 266, 207, 823, 680, 169, 275, 530, 84, 115, 194, 49, 93, 123, 10, 561, 1177, 2455, 77, 189, 618, 1504, 417, 39, 361, 1718, 67, 248, 212, 1691, 45, 1666, 200, 339, 555, 1514, 190, 2103, 607, 355, 677, 660, 321, 62, 1417, 582, 608, 130, 419, 241, 198, 30, 942, 235, 5917, 48, 148, 366, 115, 221, 340]}, {\"domain\": {\"x\": [0.55, 1.0], \"y\": [0.0, 1.0]}, \"hole\": 0.4, \"hoverinfo\": \"label+value\", \"labels\": [\"LINE\", \"DNA\", \"DNA\", \"LINE\", \"LINE\", \"LINE\", \"LINE\", \"LTR\", \"LTR\", \"LTR\", \"LINE\", \"LTR\", \"LINE\", \"LINE\", \"LINE\", \"RC\", \"LINE\", \"LINE\", \"LINE\", \"LINE\", \"LINE\", \"LINE\", \"DNA\", \"LINE\", \"LINE\", \"LINE\", \"LINE\", \"LINE\", \"LINE\", \"LINE\", \"LINE\", \"LINE\", \"LINE\", \"LTR\", \"LTR\", \"LINE\", \"RC\", \"LINE\", \"LTR\", \"DNA\", \"LINE\", \"LINE\", \"LINE\", \"LINE\", \"DNA\", \"DNA\", \"DNA\", \"DNA\", \"DNA\", \"DNA\", \"DNA\", \"DNA\", \"DNA\", \"DNA\", \"DNA\", \"LINE\", \"LINE\", \"LINE\", \"DNA\", \"LTR\", \"LINE\", \"LINE\", \"LINE\", \"DNA\", \"DNA\", \"LTR\", \"DNA\", \"DNA\", \"DNA\", \"DNA\", \"DNA\", \"DNA\", \"DNA\", \"LTR\", \"LTR\", \"LTR\", \"LTR\", \"LTR\", \"LTR\", \"LTR\", \"LTR\", \"LTR\", \"LTR\", \"LTR\", \"LTR\", \"LTR\", \"LTR\", \"LTR\", \"LTR\", \"LTR\", \"LTR\", \"LTR\", \"LTR\", \"LTR\", \"LTR\", \"LTR\", \"LTR\", \"LTR\", \"LTR\", \"LTR\", \"LTR\", \"LTR\", \"LTR\", \"LTR\", \"LTR\", \"LTR\", \"LTR\", \"LTR\", \"LTR\", \"LTR\", \"LTR\", \"LTR\", \"LTR\", \"LTR\", \"LTR\", \"LTR\", \"LTR\", \"LTR\", \"LTR\", \"LTR\", \"LTR\", \"LTR\", \"LTR\", \"LTR\", \"LTR\", \"LTR\", \"LTR\", \"LTR\", \"LTR\", \"LTR\", \"LTR\"], \"name\": \"Male\", \"textinfo\": \"value\", \"type\": \"pie\", \"values\": [824, 60, 30, 848, 612, 176, 18, 103, 2742, 314, 4695, 2529, 633, 1060, 811, 55820, 1344, 301, 361, 709, 395, 207, 7244, 1273, 201, 476, 353, 877, 592, 540, 59, 69, 351, 711, 495, 121, 0, 1451, 1276, 1199, 1352, 425, 558, 2340, 77, 884, 644, 244, 286, 17, 1458, 492, 4018, 3219, 5054, 215, 462, 1, 1456, 0, 1108, 403, 1234, 1200, 748, 35, 54, 487, 101, 150, 89, 972, 228, 1003, 573, 223, 235, 255, 138, 588, 85, 194, 96, 147, 81, 261, 763, 1327, 59, 254, 416, 1017, 289, 121, 658, 1377, 161, 324, 345, 1227, 118, 825, 216, 766, 498, 1577, 349, 607, 716, 1130, 419, 575, 533, 25, 1694, 310, 614, 297, 746, 177, 1321, 54, 1964, 237, 19755, 288, 305, 969, 330, 169, 660]}],                        {\"annotations\": [{\"font\": {\"size\": 20}, \"showarrow\": false, \"text\": \"Female\", \"x\": 0.18, \"y\": 0.5}, {\"font\": {\"size\": 20}, \"showarrow\": false, \"text\": \"Male\", \"x\": 0.8, \"y\": 0.5}], \"height\": 500, \"template\": {\"data\": {\"bar\": [{\"error_x\": {\"color\": \"#2a3f5f\"}, \"error_y\": {\"color\": \"#2a3f5f\"}, \"marker\": {\"line\": {\"color\": \"#E5ECF6\", \"width\": 0.5}}, \"type\": \"bar\"}], \"barpolar\": [{\"marker\": {\"line\": {\"color\": \"#E5ECF6\", \"width\": 0.5}}, \"type\": \"barpolar\"}], \"carpet\": [{\"aaxis\": {\"endlinecolor\": \"#2a3f5f\", \"gridcolor\": \"white\", \"linecolor\": \"white\", \"minorgridcolor\": \"white\", \"startlinecolor\": \"#2a3f5f\"}, \"baxis\": {\"endlinecolor\": \"#2a3f5f\", \"gridcolor\": \"white\", \"linecolor\": \"white\", \"minorgridcolor\": \"white\", \"startlinecolor\": \"#2a3f5f\"}, \"type\": \"carpet\"}], \"choropleth\": [{\"colorbar\": {\"outlinewidth\": 0, \"ticks\": \"\"}, \"type\": \"choropleth\"}], \"contour\": [{\"colorbar\": {\"outlinewidth\": 0, \"ticks\": \"\"}, \"colorscale\": [[0.0, \"#0d0887\"], [0.1111111111111111, \"#46039f\"], [0.2222222222222222, \"#7201a8\"], [0.3333333333333333, \"#9c179e\"], [0.4444444444444444, \"#bd3786\"], [0.5555555555555556, \"#d8576b\"], [0.6666666666666666, \"#ed7953\"], [0.7777777777777778, \"#fb9f3a\"], [0.8888888888888888, \"#fdca26\"], [1.0, \"#f0f921\"]], \"type\": \"contour\"}], \"contourcarpet\": [{\"colorbar\": {\"outlinewidth\": 0, \"ticks\": \"\"}, \"type\": \"contourcarpet\"}], \"heatmap\": [{\"colorbar\": {\"outlinewidth\": 0, \"ticks\": \"\"}, \"colorscale\": [[0.0, \"#0d0887\"], [0.1111111111111111, \"#46039f\"], [0.2222222222222222, \"#7201a8\"], [0.3333333333333333, \"#9c179e\"], [0.4444444444444444, \"#bd3786\"], [0.5555555555555556, \"#d8576b\"], [0.6666666666666666, \"#ed7953\"], [0.7777777777777778, \"#fb9f3a\"], [0.8888888888888888, \"#fdca26\"], [1.0, \"#f0f921\"]], \"type\": \"heatmap\"}], \"heatmapgl\": [{\"colorbar\": {\"outlinewidth\": 0, \"ticks\": \"\"}, \"colorscale\": [[0.0, \"#0d0887\"], [0.1111111111111111, \"#46039f\"], [0.2222222222222222, \"#7201a8\"], [0.3333333333333333, \"#9c179e\"], [0.4444444444444444, \"#bd3786\"], [0.5555555555555556, \"#d8576b\"], [0.6666666666666666, \"#ed7953\"], [0.7777777777777778, \"#fb9f3a\"], [0.8888888888888888, \"#fdca26\"], [1.0, \"#f0f921\"]], \"type\": \"heatmapgl\"}], \"histogram\": [{\"marker\": {\"colorbar\": {\"outlinewidth\": 0, \"ticks\": \"\"}}, \"type\": \"histogram\"}], \"histogram2d\": [{\"colorbar\": {\"outlinewidth\": 0, \"ticks\": \"\"}, \"colorscale\": [[0.0, \"#0d0887\"], [0.1111111111111111, \"#46039f\"], [0.2222222222222222, \"#7201a8\"], [0.3333333333333333, \"#9c179e\"], [0.4444444444444444, \"#bd3786\"], [0.5555555555555556, \"#d8576b\"], [0.6666666666666666, \"#ed7953\"], [0.7777777777777778, \"#fb9f3a\"], [0.8888888888888888, \"#fdca26\"], [1.0, \"#f0f921\"]], \"type\": \"histogram2d\"}], \"histogram2dcontour\": [{\"colorbar\": {\"outlinewidth\": 0, \"ticks\": \"\"}, \"colorscale\": [[0.0, \"#0d0887\"], [0.1111111111111111, \"#46039f\"], [0.2222222222222222, \"#7201a8\"], [0.3333333333333333, \"#9c179e\"], [0.4444444444444444, \"#bd3786\"], [0.5555555555555556, \"#d8576b\"], [0.6666666666666666, \"#ed7953\"], [0.7777777777777778, \"#fb9f3a\"], [0.8888888888888888, \"#fdca26\"], [1.0, \"#f0f921\"]], \"type\": \"histogram2dcontour\"}], \"mesh3d\": [{\"colorbar\": {\"outlinewidth\": 0, \"ticks\": \"\"}, \"type\": \"mesh3d\"}], \"parcoords\": [{\"line\": {\"colorbar\": {\"outlinewidth\": 0, \"ticks\": \"\"}}, \"type\": \"parcoords\"}], \"pie\": [{\"automargin\": true, \"type\": \"pie\"}], \"scatter\": [{\"marker\": {\"colorbar\": {\"outlinewidth\": 0, \"ticks\": \"\"}}, \"type\": \"scatter\"}], \"scatter3d\": [{\"line\": {\"colorbar\": {\"outlinewidth\": 0, \"ticks\": \"\"}}, \"marker\": {\"colorbar\": {\"outlinewidth\": 0, \"ticks\": \"\"}}, \"type\": \"scatter3d\"}], \"scattercarpet\": [{\"marker\": {\"colorbar\": {\"outlinewidth\": 0, \"ticks\": \"\"}}, \"type\": \"scattercarpet\"}], \"scattergeo\": [{\"marker\": {\"colorbar\": {\"outlinewidth\": 0, \"ticks\": \"\"}}, \"type\": \"scattergeo\"}], \"scattergl\": [{\"marker\": {\"colorbar\": {\"outlinewidth\": 0, \"ticks\": \"\"}}, \"type\": \"scattergl\"}], \"scattermapbox\": [{\"marker\": {\"colorbar\": {\"outlinewidth\": 0, \"ticks\": \"\"}}, \"type\": \"scattermapbox\"}], \"scatterpolar\": [{\"marker\": {\"colorbar\": {\"outlinewidth\": 0, \"ticks\": \"\"}}, \"type\": \"scatterpolar\"}], \"scatterpolargl\": [{\"marker\": {\"colorbar\": {\"outlinewidth\": 0, \"ticks\": \"\"}}, \"type\": \"scatterpolargl\"}], \"scatterternary\": [{\"marker\": {\"colorbar\": {\"outlinewidth\": 0, \"ticks\": \"\"}}, \"type\": \"scatterternary\"}], \"surface\": [{\"colorbar\": {\"outlinewidth\": 0, \"ticks\": \"\"}, \"colorscale\": [[0.0, \"#0d0887\"], [0.1111111111111111, \"#46039f\"], [0.2222222222222222, \"#7201a8\"], [0.3333333333333333, \"#9c179e\"], [0.4444444444444444, \"#bd3786\"], [0.5555555555555556, \"#d8576b\"], [0.6666666666666666, \"#ed7953\"], [0.7777777777777778, \"#fb9f3a\"], [0.8888888888888888, \"#fdca26\"], [1.0, \"#f0f921\"]], \"type\": \"surface\"}], \"table\": [{\"cells\": {\"fill\": {\"color\": \"#EBF0F8\"}, \"line\": {\"color\": \"white\"}}, \"header\": {\"fill\": {\"color\": \"#C8D4E3\"}, \"line\": {\"color\": \"white\"}}, \"type\": \"table\"}]}, \"layout\": {\"annotationdefaults\": {\"arrowcolor\": \"#2a3f5f\", \"arrowhead\": 0, \"arrowwidth\": 1}, \"autotypenumbers\": \"strict\", \"coloraxis\": {\"colorbar\": {\"outlinewidth\": 0, \"ticks\": \"\"}}, \"colorscale\": {\"diverging\": [[0, \"#8e0152\"], [0.1, \"#c51b7d\"], [0.2, \"#de77ae\"], [0.3, \"#f1b6da\"], [0.4, \"#fde0ef\"], [0.5, \"#f7f7f7\"], [0.6, \"#e6f5d0\"], [0.7, \"#b8e186\"], [0.8, \"#7fbc41\"], [0.9, \"#4d9221\"], [1, \"#276419\"]], \"sequential\": [[0.0, \"#0d0887\"], [0.1111111111111111, \"#46039f\"], [0.2222222222222222, \"#7201a8\"], [0.3333333333333333, \"#9c179e\"], [0.4444444444444444, \"#bd3786\"], [0.5555555555555556, \"#d8576b\"], [0.6666666666666666, \"#ed7953\"], [0.7777777777777778, \"#fb9f3a\"], [0.8888888888888888, \"#fdca26\"], [1.0, \"#f0f921\"]], \"sequentialminus\": [[0.0, \"#0d0887\"], [0.1111111111111111, \"#46039f\"], [0.2222222222222222, \"#7201a8\"], [0.3333333333333333, \"#9c179e\"], [0.4444444444444444, \"#bd3786\"], [0.5555555555555556, \"#d8576b\"], [0.6666666666666666, \"#ed7953\"], [0.7777777777777778, \"#fb9f3a\"], [0.8888888888888888, \"#fdca26\"], [1.0, \"#f0f921\"]]}, \"colorway\": [\"#636efa\", \"#EF553B\", \"#00cc96\", \"#ab63fa\", \"#FFA15A\", \"#19d3f3\", \"#FF6692\", \"#B6E880\", \"#FF97FF\", \"#FECB52\"], \"font\": {\"color\": \"#2a3f5f\"}, \"geo\": {\"bgcolor\": \"white\", \"lakecolor\": \"white\", \"landcolor\": \"#E5ECF6\", \"showlakes\": true, \"showland\": true, \"subunitcolor\": \"white\"}, \"hoverlabel\": {\"align\": \"left\"}, \"hovermode\": \"closest\", \"mapbox\": {\"style\": \"light\"}, \"paper_bgcolor\": \"white\", \"plot_bgcolor\": \"#E5ECF6\", \"polar\": {\"angularaxis\": {\"gridcolor\": \"white\", \"linecolor\": \"white\", \"ticks\": \"\"}, \"bgcolor\": \"#E5ECF6\", \"radialaxis\": {\"gridcolor\": \"white\", \"linecolor\": \"white\", \"ticks\": \"\"}}, \"scene\": {\"xaxis\": {\"backgroundcolor\": \"#E5ECF6\", \"gridcolor\": \"white\", \"gridwidth\": 2, \"linecolor\": \"white\", \"showbackground\": true, \"ticks\": \"\", \"zerolinecolor\": \"white\"}, \"yaxis\": {\"backgroundcolor\": \"#E5ECF6\", \"gridcolor\": \"white\", \"gridwidth\": 2, \"linecolor\": \"white\", \"showbackground\": true, \"ticks\": \"\", \"zerolinecolor\": \"white\"}, \"zaxis\": {\"backgroundcolor\": \"#E5ECF6\", \"gridcolor\": \"white\", \"gridwidth\": 2, \"linecolor\": \"white\", \"showbackground\": true, \"ticks\": \"\", \"zerolinecolor\": \"white\"}}, \"shapedefaults\": {\"line\": {\"color\": \"#2a3f5f\"}}, \"ternary\": {\"aaxis\": {\"gridcolor\": \"white\", \"linecolor\": \"white\", \"ticks\": \"\"}, \"baxis\": {\"gridcolor\": \"white\", \"linecolor\": \"white\", \"ticks\": \"\"}, \"bgcolor\": \"#E5ECF6\", \"caxis\": {\"gridcolor\": \"white\", \"linecolor\": \"white\", \"ticks\": \"\"}}, \"title\": {\"x\": 0.05}, \"xaxis\": {\"automargin\": true, \"gridcolor\": \"white\", \"linecolor\": \"white\", \"ticks\": \"\", \"title\": {\"standoff\": 15}, \"zerolinecolor\": \"white\", \"zerolinewidth\": 2}, \"yaxis\": {\"automargin\": true, \"gridcolor\": \"white\", \"linecolor\": \"white\", \"ticks\": \"\", \"title\": {\"standoff\": 15}, \"zerolinecolor\": \"white\", \"zerolinewidth\": 2}}}, \"title\": {\"text\": \"Subclass expression profile\"}, \"width\": 1200},                        {\"responsive\": true}                    ).then(function(){\n                            \nvar gd = document.getElementById('d3c66a43-c873-4892-a9c2-cdb2b9904be8');\nvar x = new MutationObserver(function (mutations, observer) {{\n        var display = window.getComputedStyle(gd).display;\n        if (!display || display === 'none') {{\n            console.log([gd, 'removed!']);\n            Plotly.purge(gd);\n            observer.disconnect();\n        }}\n}});\n\n// Listen for the removal of the full notebook cells\nvar notebookContainer = gd.closest('#notebook-container');\nif (notebookContainer) {{\n    x.observe(notebookContainer, {childList: true});\n}}\n\n// Listen for the clearing of the current output cell\nvar outputEl = gd.closest('.output');\nif (outputEl) {{\n    x.observe(outputEl, {childList: true});\n}}\n\n                        })                };                });            </script>        </div>"
     },
     "metadata": {}
    }
   ],
   "source": [
    "plot_TE_expression_profile_by_superfamily(TE_data_table)"
   ]
  }
 ]
}