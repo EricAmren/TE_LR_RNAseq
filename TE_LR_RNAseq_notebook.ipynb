{
 "metadata": {
  "language_info": {
   "codemirror_mode": {
    "name": "ipython",
    "version": 3
   },
   "file_extension": ".py",
   "mimetype": "text/x-python",
   "name": "python",
   "nbconvert_exporter": "python",
   "pygments_lexer": "ipython3",
   "version": "3.9.1-final"
  },
  "orig_nbformat": 2,
  "kernelspec": {
   "name": "python3",
   "display_name": "Python 3",
   "language": "python"
  }
 },
 "nbformat": 4,
 "nbformat_minor": 2,
 "cells": [
  {
   "cell_type": "code",
   "execution_count": 32,
   "metadata": {},
   "outputs": [],
   "source": [
    "# DEPENDENCIES\n",
    "\n",
    "import pysam\n",
    "import pandas as pd\n",
    "import HTSeq\n",
    "import plotly.express as px\n",
    "import plotly.graph_objects as go\n",
    "from plotly.subplots import make_subplots\n",
    "\n",
    "# GLOBAL VARS\n",
    "\n",
    "FC30_DMGOTH_BAMFILE = \"/data2/eric/TE_LR_RNAseq/data/dmgoth101_genome_alignments/bam/FC30.against_dmgoth.bam\"\n",
    "FC30_DMGOTH_MAX_AS_BAMFILE = \"/data2/eric/TE_LR_RNAseq/data/dmgoth101_genome_alignments/bam/FC30.against_dmgoth.filtered_max_AS.bam\"\n",
    "\n",
    "FC29_DMGOTH_BAMFILE = \"/data2/eric/TE_LR_RNAseq/data/dmgoth101_genome_alignments/bam/FC29.against_dmgoth.bam\"\n",
    "FC29_DMGOTH_MAX_AS_BAMFILE = \"/data2/eric/TE_LR_RNAseq/data/dmgoth101_genome_alignments/bam/FC29.against_dmgoth.filtered_max_AS.bam\"\n",
    "\n",
    "FC30_DMGOTH_SUBSET_BAMFILE = \"/data2/eric/TE_LR_RNAseq/data/dmgoth101_genome_alignments/bam/FC30.subset.against_dmgoth.bam\"\n",
    "FC30_DMGOTH_SUBSET_MAX_AS_BAMFILE = \"/data2/eric/TE_LR_RNAseq/data/dmgoth101_genome_alignments/bam/FC30.subset.against_dmgoth.filtered.bam\"\n",
    "\n",
    "REPEATMASKER_TE_ANNOTATIONS = \"/data2/eric/TE_LR_RNAseq/data/dmgoth101_genome_alignments/annotations/dmgoth101.onecode.v2.gtf\"\n",
    "DMGOTH_GENE_ANNOTATIONS = \"/data2/eric/TE_LR_RNAseq/data/dmgoth101_genome_alignments/annotations/Dm_Goth_10-1.dmel6.23LiftOff.sorted.gff\"\n",
    "\n",
    "DFAM_TE_ANNOTATION = \"/data2/eric/TE_LR_RNAseq/data/families.flanked_LTR.hierarchy.fa\"\n",
    "\n",
    "INSERTION_TABLE = \"/data2/eric/TE_LR_RNAseq/data/dmgoth101_genome_alignments/insertion_table.tsv\""
   ]
  },
  {
   "cell_type": "code",
   "execution_count": 2,
   "metadata": {},
   "outputs": [],
   "source": [
    "def build_index(bamfile):\n",
    "    bam = pysam.AlignmentFile(bamfile, 'rb')\n",
    "    read_index = pysam.IndexedReads(bam)\n",
    "    read_index.build()\n",
    "    return read_index\n",
    "\n",
    "def get_query_names(bamfile):\n",
    "    query_names = []\n",
    "    with pysam.AlignmentFile(bamfile, 'rb') as bam:\n",
    "        for ali in bam:\n",
    "            query_names.append(ali.query_name)\n",
    "    return set(query_names)\n"
   ]
  },
  {
   "cell_type": "code",
   "execution_count": 3,
   "metadata": {},
   "outputs": [],
   "source": [
    "def get_TE_hierarchy(consensus_fasta):\n",
    "    subclass_list = []\n",
    "    superfamily_list = []\n",
    "    family_list = []\n",
    "    with open(consensus_fasta, 'r') as consensus:\n",
    "        for line in consensus:\n",
    "            if line.startswith(\">\"):\n",
    "                family = line.split(\"#\")[0][1:]\n",
    "                subclass, superfamily= line.strip().split(\"#\")[1].split(\"/\")\n",
    "                subclass_list.append(subclass)\n",
    "                superfamily_list.append(superfamily)\n",
    "                family_list.append(family)\n",
    "    hierarchy_df = pd.DataFrame(list(zip(subclass_list, superfamily_list, family_list)), columns =['Subclass', 'Superfamily', 'Family'])\n",
    "    return hierarchy_df\n",
    "    \n",
    "HIERARCHY_DF = get_TE_hierarchy(DFAM_TE_ANNOTATION)"
   ]
  },
  {
   "cell_type": "code",
   "execution_count": 4,
   "metadata": {},
   "outputs": [],
   "source": [
    "# Filter out reads : \n",
    "\n",
    "## We filter unmapped, supplementary, and reads with non-optimal AS score.\n",
    "\n",
    "def filter_max_AS_reads(bamfile, output_bamfile):\n",
    "    query_names = get_query_names(bamfile)\n",
    "    read_index = build_index(bamfile)\n",
    "    with pysam.AlignmentFile(output_bamfile, 'wb', template = pysam.AlignmentFile(bamfile,'rb')) as output:\n",
    "        for read in query_names:\n",
    "            ali_list = read_index.find(read)\n",
    "            max_AS = 0\n",
    "            primary_and_secondary_alignments = [ali for ali in ali_list if not (ali.is_unmapped or ali.is_supplementary)]\n",
    "            if primary_and_secondary_alignments :\n",
    "                max_AS = max([ali.get_tag('AS') for ali in primary_and_secondary_alignments])\n",
    "                max_AS_alignments = [ali for ali in primary_and_secondary_alignments if ali.get_tag('AS') == max_AS]\n",
    "                for ali in max_AS_alignments:\n",
    "                    output.write(ali)\n",
    "    return output_bamfile\n"
   ]
  },
  {
   "cell_type": "code",
   "execution_count": 5,
   "metadata": {},
   "outputs": [],
   "source": [
    "class TransposableElementInsertion:\n",
    "    def __init__(self, insertion_id, chrom, start, end):\n",
    "        self.id = insertion_id\n",
    "        self.chrom = chrom\n",
    "        self.start = int(start)\n",
    "        self.end = int(end)\n",
    "        self.alignments = []\n",
    "        self.counts = 0"
   ]
  },
  {
   "cell_type": "code",
   "execution_count": 6,
   "metadata": {},
   "outputs": [],
   "source": [
    "def initiate_transposable_element_family_dict(annotations):\n",
    "    transposable_element_family_dict = {}\n",
    "    with open(annotations) as annot:\n",
    "        for line in annot:\n",
    "            splitted_line = line.strip().split(\"\\t\")\n",
    "            chrom, start, end = [splitted_line[i] for i in [0, 3, 4]]\n",
    "            ids = splitted_line[-1].split('\"')\n",
    "            family_name = ids[1]\n",
    "            if int(end) - int(start) > 100:\n",
    "                new_insertion = TransposableElementInsertion(ids[3], chrom, start, end)\n",
    "                if family_name not in transposable_element_family_dict:\n",
    "                    transposable_element_family_dict[family_name] = []\n",
    "                transposable_element_family_dict[family_name].append(new_insertion)\n",
    "    return transposable_element_family_dict\n"
   ]
  },
  {
   "cell_type": "code",
   "execution_count": 7,
   "metadata": {
    "tags": []
   },
   "outputs": [],
   "source": [
    "def get_subject_coverage(alignment, insertion):\n",
    "    overlap_start = max(alignment.reference_start, insertion.start)\n",
    "    overlap_end = min(alignment.reference_end, insertion.end)\n",
    "    overlap_length = overlap_end - overlap_start\n",
    "    insertion_length = insertion.end - insertion.start\n",
    "    subject_coverage = overlap_length / insertion_length\n",
    "    return subject_coverage\n",
    "\n",
    "def default_filter(alignment, insertion):\n",
    "    subject_coverage = get_subject_coverage(alignment, insertion)\n",
    "    nb_aligned_pairs =  alignment.get_overlap(insertion.start, insertion.end)\n",
    "    is_ok = (subject_coverage > 0.1 and nb_aligned_pairs > 1)\n",
    "    return is_ok\n",
    "\n",
    "def get_exceeding_alignment_length(alignment, insertion):\n",
    "    overflow_length = 0\n",
    "    if alignment.reference_start < insertion.start:\n",
    "        overflow_length += insertion.start -alignment.reference_start\n",
    "    if alignment.reference_end > insertion.end:\n",
    "        overflow_length += alignment.reference_end - insertion.end\n",
    "    return overflow_length\n",
    "\n",
    "def filter_out_co_expressed(alignment, insertion):\n",
    "    exceeding_length = get_exceeding_alignment_length(alignment, insertion)\n",
    "    alignment_length = alignment.reference_end - alignment.reference_start\n",
    "    is_ok = (exceeding_length < (0.1 * alignment_length))\n",
    "    return is_ok\n",
    "\n",
    "def no_filter(alignment, insertion):\n",
    "    return True\n",
    "\n",
    "def match_reads_with_insertions(bamfile, family_dict, filter_strategy):\n",
    "    with pysam.AlignmentFile(bamfile, 'rb') as bam:\n",
    "        for family, insertion_list in family_dict.items():\n",
    "            for insertion in insertion_list:\n",
    "                def apply_filter_strategy(read):\n",
    "                    return filter_strategy(read, insertion)\n",
    "                insertion.counts = bam.count(contig=insertion.chrom, start=insertion.start, end=insertion.end, read_callback=apply_filter_strategy)\n",
    "\n",
    "    return family_dict\n"
   ]
  },
  {
   "cell_type": "code",
   "execution_count": 8,
   "metadata": {},
   "outputs": [],
   "source": [
    "def merge_family_splitted_between_intern_and_LTR(family_dict, TE_hierarchy_df):\n",
    "    bad_suffix_list = [\"_I\", \"-I_DM\", \"_I_DM\", \"_LTR\", \"-LTR_DM\", \"_LTR_DM\"]\n",
    "    new_family_dict = {}\n",
    "    new_row_list = []\n",
    "    for family, insertion_list in family_dict.items() :\n",
    "        if family in list(TE_hierarchy_df[\"Family\"]):\n",
    "            new_family_dict[family] = insertion_list\n",
    "        else:\n",
    "            family_name_fixed = False\n",
    "            for bad_suffix in bad_suffix_list:\n",
    "                if family.endswith(bad_suffix):\n",
    "                    new_family = family[:-len(bad_suffix)]\n",
    "                    if not new_family in new_family_dict:\n",
    "                        new_family_dict[new_family] = insertion_list\n",
    "                    else :\n",
    "                        new_family_dict[new_family] += insertion_list\n",
    "            if family_name_fixed :\n",
    "                continue\n",
    "            else:\n",
    "                new_row_list.append([\"Unknown\", \"Unknown\", family])\n",
    "    TE_hierarchy_df.append(pd.DataFrame(new_row_list,  columns = TE_hierarchy_df.columns))\n",
    "    return (new_family_dict, TE_hierarchy_df)\n"
   ]
  },
  {
   "cell_type": "code",
   "execution_count": 9,
   "metadata": {},
   "outputs": [],
   "source": [
    "def get_TE_counting(filtered_bamfile, annotations, TE_hierarchy_df, filter_strategy):\n",
    "    family_dict = initiate_transposable_element_family_dict(annotations)\n",
    "    family_dict = match_reads_with_insertions(filtered_bamfile, family_dict, filter_strategy)\n",
    "    family_dict, TE_hierarchy_df = merge_family_splitted_between_intern_and_LTR(family_dict, TE_hierarchy_df)\n",
    "    return (family_dict, TE_hierarchy_df)\n",
    "# FC30_FAMILY_DICT, HIERARCHY_DF = get_TE_counting(FC30_DMGOTH_MAX_AS_BAMFILE, REPEATMASKER_TE_ANNOTATIONS, HIERARCHY_DF, filter_out_co_expressed)\n",
    "# FC29_FAMILY_DICT, HIERARCHY_DF = get_TE_counting(FC29_DMGOTH_MAX_AS_BAMFILE, REPEATMASKER_TE_ANNOTATIONS, HIERARCHY_DF, filter_out_co_expressed)\n",
    "# FC30_FAMILY_DICT = get_TE_counting(FC30_DMGOTH_MAX_AS_BAMFILE, REPEATMASKER_TE_ANNOTATIONS, filter_out_co_expressed)\n",
    "# FC29_FAMILY_DICT = get_TE_counting(FC29_DMGOTH_MAX_AS_BAMFILE, REPEATMASKER_TE_ANNOTATIONS, filter_out_co_expressed)\n",
    "FC30_FAMILY_DICT, HIERARCHY_DF = get_TE_counting(FC30_DMGOTH_MAX_AS_BAMFILE, REPEATMASKER_TE_ANNOTATIONS, HIERARCHY_DF, filter_out_co_expressed)\n",
    "FC29_FAMILY_DICT, HIERARCHY_DF = get_TE_counting(FC29_DMGOTH_MAX_AS_BAMFILE, REPEATMASKER_TE_ANNOTATIONS, HIERARCHY_DF, filter_out_co_expressed)"
   ]
  },
  {
   "cell_type": "code",
   "execution_count": 10,
   "metadata": {},
   "outputs": [],
   "source": [
    "def from_counting_to_df(counting_dict):\n",
    "    family_list = []\n",
    "    min_TE_length_list = []\n",
    "    max_TE_length_list = []\n",
    "    counting_list = []\n",
    "    nb_expressed_insertion_list = []\n",
    "    nb_insertion_list = []\n",
    "    most_expressed_insertion_list = []\n",
    "    for family, insertion_list in counting_dict.items():\n",
    "        family_list.append(family)\n",
    "        nb_insertion_list.append(len(insertion_list))\n",
    "        nb_expressed_insertion = 0\n",
    "        min_TE_length = 9999999999\n",
    "        max_TE_length = 0\n",
    "        family_counts = 0\n",
    "        most_expressed_insertion = None\n",
    "        max_count = 0\n",
    "        for insertion in insertion_list :\n",
    "            insertion_length = insertion.end - insertion.start\n",
    "            min_TE_length = min(min_TE_length, insertion_length)\n",
    "            max_TE_length = max(max_TE_length, insertion_length)\n",
    "            family_counts += insertion.counts\n",
    "            max_count = max(max_count,insertion.counts)\n",
    "            if insertion.counts >= max_count :\n",
    "                most_expressed_insertion = insertion.id\n",
    "            if insertion.counts > 0 :\n",
    "                nb_expressed_insertion += 1\n",
    "        nb_expressed_insertion_list.append(nb_expressed_insertion)\n",
    "        min_TE_length_list.append(min_TE_length)\n",
    "        max_TE_length_list.append(max_TE_length)\n",
    "        counting_list.append(family_counts)\n",
    "        most_expressed_insertion_list.append(most_expressed_insertion)\n",
    "        \n",
    "    counting_df = pd.DataFrame(list(zip(family_list, min_TE_length_list, max_TE_length_list, counting_list, nb_insertion_list, nb_expressed_insertion_list, most_expressed_insertion_list)), columns=[\"Family\", \"Min_TE_length\",\"Max_TE_length\", \"Counts\", \"nb_of_insertion\", \"nb_of_expressed_insertion\", \"Most_expressed_insertion\"])\n",
    "    return counting_df\n"
   ]
  },
  {
   "cell_type": "code",
   "execution_count": 11,
   "metadata": {},
   "outputs": [],
   "source": [
    "FC30_DMGOTH_COUNTING_DF = from_counting_to_df(FC30_FAMILY_DICT)\n",
    "FC29_DMGOTH_COUNTING_DF = from_counting_to_df(FC29_FAMILY_DICT)"
   ]
  },
  {
   "cell_type": "code",
   "execution_count": 20,
   "metadata": {},
   "outputs": [],
   "source": [
    "FC30_DMGOTH_COUNTING_DF.to_csv('FC30_DMGOTH_COUNTING_DF.filter_no_co-expressed.tsv', sep = '\\t', index=False)\n",
    "FC29_DMGOTH_COUNTING_DF.to_csv('FC29_DMGOTH_COUNTING_DF.filter_no_co-expressed.tsv', sep = '\\t', index=False)"
   ]
  },
  {
   "cell_type": "code",
   "execution_count": 13,
   "metadata": {},
   "outputs": [
    {
     "output_type": "execute_result",
     "data": {
      "text/plain": [
       "  Subclass Superfamily    Family  Min_TE_length  Max_TE_length  Counts  \\\n",
       "0     LINE      R1-LOA  Baggins1            121          10648      13   \n",
       "1      DNA   TcMar-Tc1     BARI1            114           1563       5   \n",
       "2      DNA   TcMar-Tc1   BARI_DM           1232           1732       0   \n",
       "3     LINE    I-Jockey        BS            101           7501       3   \n",
       "4     LINE    I-Jockey       BS2            120           9056      10   \n",
       "\n",
       "   nb_of_insertion  nb_of_expressed_insertion  \\\n",
       "0              137                          5   \n",
       "1                9                          1   \n",
       "2               16                          0   \n",
       "3               66                          3   \n",
       "4              117                          4   \n",
       "\n",
       "             Most_expressed_insertion  \n",
       "0   Baggins1_2R_RaGOO_2570496_2580847  \n",
       "1    BARI1_2L_RaGOO_21112657_21113769  \n",
       "2  BARI_DM_3R_RaGOO_18377955_18379687  \n",
       "3       BS_3L_RaGOO_26196418_26197513  \n",
       "4        BS2_2R_RaGOO_3748515_3753218  "
      ],
      "text/html": "<div>\n<style scoped>\n    .dataframe tbody tr th:only-of-type {\n        vertical-align: middle;\n    }\n\n    .dataframe tbody tr th {\n        vertical-align: top;\n    }\n\n    .dataframe thead th {\n        text-align: right;\n    }\n</style>\n<table border=\"1\" class=\"dataframe\">\n  <thead>\n    <tr style=\"text-align: right;\">\n      <th></th>\n      <th>Subclass</th>\n      <th>Superfamily</th>\n      <th>Family</th>\n      <th>Min_TE_length</th>\n      <th>Max_TE_length</th>\n      <th>Counts</th>\n      <th>nb_of_insertion</th>\n      <th>nb_of_expressed_insertion</th>\n      <th>Most_expressed_insertion</th>\n    </tr>\n  </thead>\n  <tbody>\n    <tr>\n      <th>0</th>\n      <td>LINE</td>\n      <td>R1-LOA</td>\n      <td>Baggins1</td>\n      <td>121</td>\n      <td>10648</td>\n      <td>13</td>\n      <td>137</td>\n      <td>5</td>\n      <td>Baggins1_2R_RaGOO_2570496_2580847</td>\n    </tr>\n    <tr>\n      <th>1</th>\n      <td>DNA</td>\n      <td>TcMar-Tc1</td>\n      <td>BARI1</td>\n      <td>114</td>\n      <td>1563</td>\n      <td>5</td>\n      <td>9</td>\n      <td>1</td>\n      <td>BARI1_2L_RaGOO_21112657_21113769</td>\n    </tr>\n    <tr>\n      <th>2</th>\n      <td>DNA</td>\n      <td>TcMar-Tc1</td>\n      <td>BARI_DM</td>\n      <td>1232</td>\n      <td>1732</td>\n      <td>0</td>\n      <td>16</td>\n      <td>0</td>\n      <td>BARI_DM_3R_RaGOO_18377955_18379687</td>\n    </tr>\n    <tr>\n      <th>3</th>\n      <td>LINE</td>\n      <td>I-Jockey</td>\n      <td>BS</td>\n      <td>101</td>\n      <td>7501</td>\n      <td>3</td>\n      <td>66</td>\n      <td>3</td>\n      <td>BS_3L_RaGOO_26196418_26197513</td>\n    </tr>\n    <tr>\n      <th>4</th>\n      <td>LINE</td>\n      <td>I-Jockey</td>\n      <td>BS2</td>\n      <td>120</td>\n      <td>9056</td>\n      <td>10</td>\n      <td>117</td>\n      <td>4</td>\n      <td>BS2_2R_RaGOO_3748515_3753218</td>\n    </tr>\n  </tbody>\n</table>\n</div>"
     },
     "metadata": {},
     "execution_count": 13
    }
   ],
   "source": [
    "def add_hierarchy_to_counting_df(counting_df, hierarchy_df):\n",
    "    new_df = hierarchy_df.merge(counting_df, on='Family')\n",
    "    return new_df\n",
    "new_df = add_hierarchy_to_counting_df(FC29_DMGOTH_COUNTING_DF, HIERARCHY_DF)\n",
    "new_df.head()"
   ]
  },
  {
   "cell_type": "code",
   "execution_count": 14,
   "metadata": {},
   "outputs": [],
   "source": [
    "def create_table_from_counting(female_counting, male_counting, hierarchy):\n",
    "    male_counting = male_counting.drop(columns=[\"Min_TE_length\", \"Max_TE_length\", \"nb_of_insertion\"])\n",
    "    TE_data_table = hierarchy.merge(female_counting, on='Family').merge(male_counting, on='Family')\n",
    "    TE_data_table.columns = [\"Subclass\", \"Superfamily\", \"Family\", \"Min_TE_length\", \"Max_TE_length\", \"Female_Counts\", \"Nb_of_insertion\", \"Female_nb_of_expressed_insertion\", \"Female_most_expressed_insertion\", \"Male_Counts\", \"Male_nb_of_expressed_insertion\", \"Male_most_expressed_insertion\"]\n",
    "    TE_data_table = TE_data_table[[\"Subclass\", \"Superfamily\", \"Family\", \"Nb_of_insertion\", \"Min_TE_length\", \"Max_TE_length\", \"Female_Counts\", \"Female_nb_of_expressed_insertion\", \"Female_most_expressed_insertion\", \"Male_Counts\", \"Male_nb_of_expressed_insertion\", \"Male_most_expressed_insertion\"]]\n",
    "    return TE_data_table\n",
    "\n",
    "TE_data_table = create_table_from_counting(FC30_DMGOTH_COUNTING_DF, FC29_DMGOTH_COUNTING_DF, HIERARCHY_DF)\n",
    "\n"
   ]
  },
  {
   "cell_type": "code",
   "execution_count": 44,
   "metadata": {},
   "outputs": [],
   "source": [
    "TE_data_table.sort_values(by=\"Male_Counts\", axis=0,  ascending=False).head(10)\n",
    "TE_data_table.to_csv('TE_data_table.tsv', sep = '\\t', index=False)"
   ]
  },
  {
   "cell_type": "code",
   "execution_count": 43,
   "metadata": {},
   "outputs": [],
   "source": [
    "def write_insertion_table(male_family_dict, female_family_dict, outputfile):\n",
    "    with open(outputfile, 'w') as output:\n",
    "        output.write(\"insertion_id\\tfemale_count\\tmale_count\\n\")\n",
    "        for family_name in male_family_dict.keys():\n",
    "            male_insertion_list = male_family_dict[family_name]\n",
    "            female_insertion_list = female_family_dict[family_name]\n",
    "            for index, insertion in enumerate(male_insertion_list):\n",
    "\n",
    "                insertion_id = male_insertion_list[index].id\n",
    "                male_count = male_insertion_list[index].counts\n",
    "                female_count = female_insertion_list[index].counts\n",
    "                if male_count > 0 or female_count > 0 :\n",
    "                    output.write(\"\\t\".join([insertion.id, str(female_count), str(male_count)]) + \"\\n\")\n",
    "\n",
    "write_insertion_table(FC29_FAMILY_DICT, FC30_FAMILY_DICT, INSERTION_TABLE)"
   ]
  },
  {
   "cell_type": "code",
   "execution_count": 45,
   "metadata": {},
   "outputs": [],
   "source": [
    "def plot_TE_expression_profile_by_family(TE_data_table):\n",
    "\n",
    "    fig = make_subplots(rows=1, cols=2, specs=[[{'type':'domain'}, {'type':'domain'}]])\n",
    "\n",
    "    fig.add_trace(\n",
    "        go.Pie(labels=TE_data_table[\"Superfamily\"], values=TE_data_table[\"Female_Counts\"], textinfo='value', name = \"Female\"),\n",
    "        1, 1)\n",
    "\n",
    "    fig.add_trace(\n",
    "        go.Pie(labels=TE_data_table[\"Superfamily\"], values=TE_data_table[\"Male_Counts\"], textinfo='value', name = \"Male\"),\n",
    "        1, 2)\n",
    "    fig.update_traces(hole=.4, hoverinfo=\"label+value\")\n",
    "\n",
    "    fig.update_layout(\n",
    "        title_text= \"Superfamily expression profile\",\n",
    "        width=1200,\n",
    "        height=500,\n",
    "        # Add annotations in the center of the donut pies.\n",
    "        annotations=[dict(text='Female', x=0.19, y=0.5, font_size=20, showarrow=False),\n",
    "                    dict(text='Male', x=0.80, y=0.5, font_size=20, showarrow=False)])\n",
    "    fig.show()"
   ]
  },
  {
   "cell_type": "code",
   "execution_count": 46,
   "metadata": {},
   "outputs": [],
   "source": [
    "def plot_TE_expression_profile_by_superfamily(TE_data_table):\n",
    "    fig = make_subplots(rows=1, cols=2, specs=[[{'type':'domain'}, {'type':'domain'}]])\n",
    "\n",
    "    fig.add_trace(\n",
    "        go.Pie(labels=TE_data_table[\"Subclass\"], values=TE_data_table[\"Female_Counts\"], textinfo='value', name = \"Female\"),\n",
    "        1, 1)\n",
    "\n",
    "    fig.add_trace(\n",
    "        go.Pie(labels=TE_data_table[\"Subclass\"], values=TE_data_table[\"Male_Counts\"], textinfo='value', name = \"Male\"),\n",
    "        1, 2)\n",
    "    fig.update_traces(hole=.4, hoverinfo=\"label+value\")\n",
    "\n",
    "    fig.update_layout(\n",
    "        title_text= \"Subclass expression profile\",\n",
    "        width=1200,\n",
    "        height=500,\n",
    "        # Add annotations in the center of the donut pies.\n",
    "        annotations=[dict(text='Female', x=0.19, y=0.5, font_size=20, showarrow=False),\n",
    "                    dict(text='Male', x=0.80, y=0.5, font_size=20, showarrow=False)])\n",
    "    fig.show()"
   ]
  },
  {
   "cell_type": "code",
   "execution_count": 47,
   "metadata": {},
   "outputs": [
    {
     "output_type": "display_data",
     "data": {
      "application/vnd.plotly.v1+json": {
       "config": {
        "plotlyServerURL": "https://plot.ly"
       },
       "data": [
        {
         "domain": {
          "x": [
           0,
           0.45
          ],
          "y": [
           0,
           1
          ]
         },
         "hole": 0.4,
         "hoverinfo": "label+value",
         "labels": [
          "R1-LOA",
          "TcMar-Tc1",
          "TcMar-Tc1",
          "I-Jockey",
          "I-Jockey",
          "I-Jockey",
          "I-Jockey",
          "Gypsy",
          "Gypsy",
          "Gypsy",
          "CR1",
          "Gypsy",
          "R1",
          "R1",
          "R1",
          "Helitron",
          "I-Jockey",
          "I-Jockey",
          "I-Jockey",
          "I-Jockey",
          "I-Jockey",
          "I-Jockey",
          "TcMar-Tc1",
          "I-Jockey",
          "I-Jockey",
          "I-Jockey",
          "I-Jockey",
          "I-Jockey",
          "I-Jockey",
          "I-Jockey",
          "I-Jockey",
          "I-Jockey",
          "I-Jockey",
          "Gypsy",
          "Gypsy",
          "I-Jockey",
          "Helitron",
          "I-Jockey",
          "Gypsy",
          "hAT-hobo",
          "I",
          "I",
          "I-Jockey",
          "I-Jockey",
          "PiggyBac",
          "CMC-Transib",
          "TcMar-Tc1",
          "TcMar-Tc1",
          "MULE-NOF",
          "P",
          "TcMar-Pogo",
          "TcMar-Pogo",
          "P",
          "P",
          "P",
          "R1",
          "R1",
          "R2",
          "TcMar-Tc1",
          "Gypsy",
          "I-Jockey",
          "I-Jockey",
          "I-Jockey",
          "TcMar-Tc1",
          "TcMar-Tc1",
          "Gypsy",
          "CMC-Transib",
          "CMC-Transib",
          "CMC-Transib",
          "CMC-Transib",
          "CMC-Transib",
          "CMC-Transib",
          "TcMar-Tc1",
          "Gypsy",
          "Gypsy",
          "Gypsy",
          "Pao",
          "Pao",
          "Gypsy",
          "Gypsy",
          "Gypsy",
          "Gypsy",
          "Gypsy",
          "Gypsy",
          "Copia",
          "Copia",
          "Copia",
          "Pao",
          "Pao",
          "Copia",
          "Gypsy",
          "Gypsy",
          "Gypsy",
          "Copia",
          "Gypsy",
          "Gypsy",
          "Gypsy",
          "Gypsy",
          "Gypsy",
          "Gypsy",
          "Gypsy",
          "Gypsy",
          "Gypsy",
          "Gypsy",
          "Gypsy",
          "Gypsy",
          "Gypsy",
          "Gypsy",
          "Gypsy",
          "Gypsy",
          "Gypsy",
          "Gypsy",
          "Gypsy",
          "Gypsy",
          "Gypsy",
          "Pao",
          "Gypsy",
          "Gypsy",
          "Gypsy",
          "Pao",
          "Gypsy",
          "Gypsy",
          "Gypsy",
          "Pao",
          "Pao",
          "Gypsy",
          "Gypsy",
          "Gypsy",
          "Gypsy",
          "Gypsy",
          "Gypsy"
         ],
         "name": "Female",
         "textinfo": "value",
         "type": "pie",
         "values": [
          2,
          0,
          1,
          2,
          1,
          0,
          0,
          0,
          8,
          1,
          84,
          0,
          1,
          3,
          0,
          4,
          7,
          0,
          2,
          0,
          3,
          3,
          3,
          2,
          0,
          0,
          2,
          0,
          0,
          0,
          0,
          0,
          0,
          12,
          0,
          0,
          0,
          14,
          0,
          1,
          4,
          6,
          0,
          0,
          0,
          2,
          1,
          0,
          0,
          0,
          220,
          0,
          2,
          0,
          5,
          0,
          3,
          0,
          6,
          0,
          7,
          15,
          7,
          3,
          1,
          0,
          0,
          1,
          16,
          0,
          1,
          0,
          0,
          1,
          7,
          3,
          2,
          0,
          0,
          6,
          15,
          4,
          3,
          19,
          1,
          2,
          161,
          0,
          0,
          3,
          4,
          6,
          0,
          0,
          2,
          1,
          2,
          65,
          12,
          2,
          0,
          1,
          0,
          0,
          1,
          3,
          0,
          11,
          4,
          4,
          1,
          0,
          1,
          0,
          5,
          11,
          12,
          0,
          36,
          0,
          2,
          1,
          10,
          1,
          517,
          2,
          19,
          2,
          1,
          2,
          0
         ]
        },
        {
         "domain": {
          "x": [
           0.55,
           1
          ],
          "y": [
           0,
           1
          ]
         },
         "hole": 0.4,
         "hoverinfo": "label+value",
         "labels": [
          "R1-LOA",
          "TcMar-Tc1",
          "TcMar-Tc1",
          "I-Jockey",
          "I-Jockey",
          "I-Jockey",
          "I-Jockey",
          "Gypsy",
          "Gypsy",
          "Gypsy",
          "CR1",
          "Gypsy",
          "R1",
          "R1",
          "R1",
          "Helitron",
          "I-Jockey",
          "I-Jockey",
          "I-Jockey",
          "I-Jockey",
          "I-Jockey",
          "I-Jockey",
          "TcMar-Tc1",
          "I-Jockey",
          "I-Jockey",
          "I-Jockey",
          "I-Jockey",
          "I-Jockey",
          "I-Jockey",
          "I-Jockey",
          "I-Jockey",
          "I-Jockey",
          "I-Jockey",
          "Gypsy",
          "Gypsy",
          "I-Jockey",
          "Helitron",
          "I-Jockey",
          "Gypsy",
          "hAT-hobo",
          "I",
          "I",
          "I-Jockey",
          "I-Jockey",
          "PiggyBac",
          "CMC-Transib",
          "TcMar-Tc1",
          "TcMar-Tc1",
          "MULE-NOF",
          "P",
          "TcMar-Pogo",
          "TcMar-Pogo",
          "P",
          "P",
          "P",
          "R1",
          "R1",
          "R2",
          "TcMar-Tc1",
          "Gypsy",
          "I-Jockey",
          "I-Jockey",
          "I-Jockey",
          "TcMar-Tc1",
          "TcMar-Tc1",
          "Gypsy",
          "CMC-Transib",
          "CMC-Transib",
          "CMC-Transib",
          "CMC-Transib",
          "CMC-Transib",
          "CMC-Transib",
          "TcMar-Tc1",
          "Gypsy",
          "Gypsy",
          "Gypsy",
          "Pao",
          "Pao",
          "Gypsy",
          "Gypsy",
          "Gypsy",
          "Gypsy",
          "Gypsy",
          "Gypsy",
          "Copia",
          "Copia",
          "Copia",
          "Pao",
          "Pao",
          "Copia",
          "Gypsy",
          "Gypsy",
          "Gypsy",
          "Copia",
          "Gypsy",
          "Gypsy",
          "Gypsy",
          "Gypsy",
          "Gypsy",
          "Gypsy",
          "Gypsy",
          "Gypsy",
          "Gypsy",
          "Gypsy",
          "Gypsy",
          "Gypsy",
          "Gypsy",
          "Gypsy",
          "Gypsy",
          "Gypsy",
          "Gypsy",
          "Gypsy",
          "Gypsy",
          "Gypsy",
          "Gypsy",
          "Pao",
          "Gypsy",
          "Gypsy",
          "Gypsy",
          "Pao",
          "Gypsy",
          "Gypsy",
          "Gypsy",
          "Pao",
          "Pao",
          "Gypsy",
          "Gypsy",
          "Gypsy",
          "Gypsy",
          "Gypsy",
          "Gypsy"
         ],
         "name": "Male",
         "textinfo": "value",
         "type": "pie",
         "values": [
          13,
          5,
          0,
          3,
          10,
          9,
          1,
          31,
          14,
          5,
          117,
          28,
          25,
          17,
          1,
          43,
          28,
          33,
          23,
          14,
          3,
          15,
          82,
          29,
          32,
          1,
          9,
          48,
          70,
          5,
          2,
          0,
          15,
          59,
          13,
          0,
          0,
          785,
          4,
          1,
          47,
          1,
          104,
          28,
          1,
          67,
          61,
          0,
          0,
          0,
          30,
          0,
          21,
          5,
          6,
          0,
          0,
          0,
          14,
          0,
          668,
          210,
          260,
          0,
          0,
          0,
          0,
          151,
          7,
          1,
          2,
          0,
          1,
          31,
          13,
          2,
          15,
          27,
          4,
          179,
          1,
          58,
          2,
          22,
          20,
          9,
          310,
          75,
          3,
          43,
          35,
          17,
          4,
          42,
          2,
          517,
          1,
          97,
          34,
          15,
          1,
          9,
          1,
          4,
          2,
          8,
          24,
          160,
          65,
          5,
          6,
          6,
          3,
          1,
          8,
          40,
          23,
          8,
          51,
          10,
          599,
          3,
          168,
          4,
          199,
          5,
          27,
          9,
          6,
          71,
          116
         ]
        }
       ],
       "layout": {
        "annotations": [
         {
          "font": {
           "size": 20
          },
          "showarrow": false,
          "text": "Female",
          "x": 0.19,
          "y": 0.5
         },
         {
          "font": {
           "size": 20
          },
          "showarrow": false,
          "text": "Male",
          "x": 0.8,
          "y": 0.5
         }
        ],
        "height": 500,
        "template": {
         "data": {
          "bar": [
           {
            "error_x": {
             "color": "#2a3f5f"
            },
            "error_y": {
             "color": "#2a3f5f"
            },
            "marker": {
             "line": {
              "color": "#E5ECF6",
              "width": 0.5
             }
            },
            "type": "bar"
           }
          ],
          "barpolar": [
           {
            "marker": {
             "line": {
              "color": "#E5ECF6",
              "width": 0.5
             }
            },
            "type": "barpolar"
           }
          ],
          "carpet": [
           {
            "aaxis": {
             "endlinecolor": "#2a3f5f",
             "gridcolor": "white",
             "linecolor": "white",
             "minorgridcolor": "white",
             "startlinecolor": "#2a3f5f"
            },
            "baxis": {
             "endlinecolor": "#2a3f5f",
             "gridcolor": "white",
             "linecolor": "white",
             "minorgridcolor": "white",
             "startlinecolor": "#2a3f5f"
            },
            "type": "carpet"
           }
          ],
          "choropleth": [
           {
            "colorbar": {
             "outlinewidth": 0,
             "ticks": ""
            },
            "type": "choropleth"
           }
          ],
          "contour": [
           {
            "colorbar": {
             "outlinewidth": 0,
             "ticks": ""
            },
            "colorscale": [
             [
              0,
              "#0d0887"
             ],
             [
              0.1111111111111111,
              "#46039f"
             ],
             [
              0.2222222222222222,
              "#7201a8"
             ],
             [
              0.3333333333333333,
              "#9c179e"
             ],
             [
              0.4444444444444444,
              "#bd3786"
             ],
             [
              0.5555555555555556,
              "#d8576b"
             ],
             [
              0.6666666666666666,
              "#ed7953"
             ],
             [
              0.7777777777777778,
              "#fb9f3a"
             ],
             [
              0.8888888888888888,
              "#fdca26"
             ],
             [
              1,
              "#f0f921"
             ]
            ],
            "type": "contour"
           }
          ],
          "contourcarpet": [
           {
            "colorbar": {
             "outlinewidth": 0,
             "ticks": ""
            },
            "type": "contourcarpet"
           }
          ],
          "heatmap": [
           {
            "colorbar": {
             "outlinewidth": 0,
             "ticks": ""
            },
            "colorscale": [
             [
              0,
              "#0d0887"
             ],
             [
              0.1111111111111111,
              "#46039f"
             ],
             [
              0.2222222222222222,
              "#7201a8"
             ],
             [
              0.3333333333333333,
              "#9c179e"
             ],
             [
              0.4444444444444444,
              "#bd3786"
             ],
             [
              0.5555555555555556,
              "#d8576b"
             ],
             [
              0.6666666666666666,
              "#ed7953"
             ],
             [
              0.7777777777777778,
              "#fb9f3a"
             ],
             [
              0.8888888888888888,
              "#fdca26"
             ],
             [
              1,
              "#f0f921"
             ]
            ],
            "type": "heatmap"
           }
          ],
          "heatmapgl": [
           {
            "colorbar": {
             "outlinewidth": 0,
             "ticks": ""
            },
            "colorscale": [
             [
              0,
              "#0d0887"
             ],
             [
              0.1111111111111111,
              "#46039f"
             ],
             [
              0.2222222222222222,
              "#7201a8"
             ],
             [
              0.3333333333333333,
              "#9c179e"
             ],
             [
              0.4444444444444444,
              "#bd3786"
             ],
             [
              0.5555555555555556,
              "#d8576b"
             ],
             [
              0.6666666666666666,
              "#ed7953"
             ],
             [
              0.7777777777777778,
              "#fb9f3a"
             ],
             [
              0.8888888888888888,
              "#fdca26"
             ],
             [
              1,
              "#f0f921"
             ]
            ],
            "type": "heatmapgl"
           }
          ],
          "histogram": [
           {
            "marker": {
             "colorbar": {
              "outlinewidth": 0,
              "ticks": ""
             }
            },
            "type": "histogram"
           }
          ],
          "histogram2d": [
           {
            "colorbar": {
             "outlinewidth": 0,
             "ticks": ""
            },
            "colorscale": [
             [
              0,
              "#0d0887"
             ],
             [
              0.1111111111111111,
              "#46039f"
             ],
             [
              0.2222222222222222,
              "#7201a8"
             ],
             [
              0.3333333333333333,
              "#9c179e"
             ],
             [
              0.4444444444444444,
              "#bd3786"
             ],
             [
              0.5555555555555556,
              "#d8576b"
             ],
             [
              0.6666666666666666,
              "#ed7953"
             ],
             [
              0.7777777777777778,
              "#fb9f3a"
             ],
             [
              0.8888888888888888,
              "#fdca26"
             ],
             [
              1,
              "#f0f921"
             ]
            ],
            "type": "histogram2d"
           }
          ],
          "histogram2dcontour": [
           {
            "colorbar": {
             "outlinewidth": 0,
             "ticks": ""
            },
            "colorscale": [
             [
              0,
              "#0d0887"
             ],
             [
              0.1111111111111111,
              "#46039f"
             ],
             [
              0.2222222222222222,
              "#7201a8"
             ],
             [
              0.3333333333333333,
              "#9c179e"
             ],
             [
              0.4444444444444444,
              "#bd3786"
             ],
             [
              0.5555555555555556,
              "#d8576b"
             ],
             [
              0.6666666666666666,
              "#ed7953"
             ],
             [
              0.7777777777777778,
              "#fb9f3a"
             ],
             [
              0.8888888888888888,
              "#fdca26"
             ],
             [
              1,
              "#f0f921"
             ]
            ],
            "type": "histogram2dcontour"
           }
          ],
          "mesh3d": [
           {
            "colorbar": {
             "outlinewidth": 0,
             "ticks": ""
            },
            "type": "mesh3d"
           }
          ],
          "parcoords": [
           {
            "line": {
             "colorbar": {
              "outlinewidth": 0,
              "ticks": ""
             }
            },
            "type": "parcoords"
           }
          ],
          "pie": [
           {
            "automargin": true,
            "type": "pie"
           }
          ],
          "scatter": [
           {
            "marker": {
             "colorbar": {
              "outlinewidth": 0,
              "ticks": ""
             }
            },
            "type": "scatter"
           }
          ],
          "scatter3d": [
           {
            "line": {
             "colorbar": {
              "outlinewidth": 0,
              "ticks": ""
             }
            },
            "marker": {
             "colorbar": {
              "outlinewidth": 0,
              "ticks": ""
             }
            },
            "type": "scatter3d"
           }
          ],
          "scattercarpet": [
           {
            "marker": {
             "colorbar": {
              "outlinewidth": 0,
              "ticks": ""
             }
            },
            "type": "scattercarpet"
           }
          ],
          "scattergeo": [
           {
            "marker": {
             "colorbar": {
              "outlinewidth": 0,
              "ticks": ""
             }
            },
            "type": "scattergeo"
           }
          ],
          "scattergl": [
           {
            "marker": {
             "colorbar": {
              "outlinewidth": 0,
              "ticks": ""
             }
            },
            "type": "scattergl"
           }
          ],
          "scattermapbox": [
           {
            "marker": {
             "colorbar": {
              "outlinewidth": 0,
              "ticks": ""
             }
            },
            "type": "scattermapbox"
           }
          ],
          "scatterpolar": [
           {
            "marker": {
             "colorbar": {
              "outlinewidth": 0,
              "ticks": ""
             }
            },
            "type": "scatterpolar"
           }
          ],
          "scatterpolargl": [
           {
            "marker": {
             "colorbar": {
              "outlinewidth": 0,
              "ticks": ""
             }
            },
            "type": "scatterpolargl"
           }
          ],
          "scatterternary": [
           {
            "marker": {
             "colorbar": {
              "outlinewidth": 0,
              "ticks": ""
             }
            },
            "type": "scatterternary"
           }
          ],
          "surface": [
           {
            "colorbar": {
             "outlinewidth": 0,
             "ticks": ""
            },
            "colorscale": [
             [
              0,
              "#0d0887"
             ],
             [
              0.1111111111111111,
              "#46039f"
             ],
             [
              0.2222222222222222,
              "#7201a8"
             ],
             [
              0.3333333333333333,
              "#9c179e"
             ],
             [
              0.4444444444444444,
              "#bd3786"
             ],
             [
              0.5555555555555556,
              "#d8576b"
             ],
             [
              0.6666666666666666,
              "#ed7953"
             ],
             [
              0.7777777777777778,
              "#fb9f3a"
             ],
             [
              0.8888888888888888,
              "#fdca26"
             ],
             [
              1,
              "#f0f921"
             ]
            ],
            "type": "surface"
           }
          ],
          "table": [
           {
            "cells": {
             "fill": {
              "color": "#EBF0F8"
             },
             "line": {
              "color": "white"
             }
            },
            "header": {
             "fill": {
              "color": "#C8D4E3"
             },
             "line": {
              "color": "white"
             }
            },
            "type": "table"
           }
          ]
         },
         "layout": {
          "annotationdefaults": {
           "arrowcolor": "#2a3f5f",
           "arrowhead": 0,
           "arrowwidth": 1
          },
          "autotypenumbers": "strict",
          "coloraxis": {
           "colorbar": {
            "outlinewidth": 0,
            "ticks": ""
           }
          },
          "colorscale": {
           "diverging": [
            [
             0,
             "#8e0152"
            ],
            [
             0.1,
             "#c51b7d"
            ],
            [
             0.2,
             "#de77ae"
            ],
            [
             0.3,
             "#f1b6da"
            ],
            [
             0.4,
             "#fde0ef"
            ],
            [
             0.5,
             "#f7f7f7"
            ],
            [
             0.6,
             "#e6f5d0"
            ],
            [
             0.7,
             "#b8e186"
            ],
            [
             0.8,
             "#7fbc41"
            ],
            [
             0.9,
             "#4d9221"
            ],
            [
             1,
             "#276419"
            ]
           ],
           "sequential": [
            [
             0,
             "#0d0887"
            ],
            [
             0.1111111111111111,
             "#46039f"
            ],
            [
             0.2222222222222222,
             "#7201a8"
            ],
            [
             0.3333333333333333,
             "#9c179e"
            ],
            [
             0.4444444444444444,
             "#bd3786"
            ],
            [
             0.5555555555555556,
             "#d8576b"
            ],
            [
             0.6666666666666666,
             "#ed7953"
            ],
            [
             0.7777777777777778,
             "#fb9f3a"
            ],
            [
             0.8888888888888888,
             "#fdca26"
            ],
            [
             1,
             "#f0f921"
            ]
           ],
           "sequentialminus": [
            [
             0,
             "#0d0887"
            ],
            [
             0.1111111111111111,
             "#46039f"
            ],
            [
             0.2222222222222222,
             "#7201a8"
            ],
            [
             0.3333333333333333,
             "#9c179e"
            ],
            [
             0.4444444444444444,
             "#bd3786"
            ],
            [
             0.5555555555555556,
             "#d8576b"
            ],
            [
             0.6666666666666666,
             "#ed7953"
            ],
            [
             0.7777777777777778,
             "#fb9f3a"
            ],
            [
             0.8888888888888888,
             "#fdca26"
            ],
            [
             1,
             "#f0f921"
            ]
           ]
          },
          "colorway": [
           "#636efa",
           "#EF553B",
           "#00cc96",
           "#ab63fa",
           "#FFA15A",
           "#19d3f3",
           "#FF6692",
           "#B6E880",
           "#FF97FF",
           "#FECB52"
          ],
          "font": {
           "color": "#2a3f5f"
          },
          "geo": {
           "bgcolor": "white",
           "lakecolor": "white",
           "landcolor": "#E5ECF6",
           "showlakes": true,
           "showland": true,
           "subunitcolor": "white"
          },
          "hoverlabel": {
           "align": "left"
          },
          "hovermode": "closest",
          "mapbox": {
           "style": "light"
          },
          "paper_bgcolor": "white",
          "plot_bgcolor": "#E5ECF6",
          "polar": {
           "angularaxis": {
            "gridcolor": "white",
            "linecolor": "white",
            "ticks": ""
           },
           "bgcolor": "#E5ECF6",
           "radialaxis": {
            "gridcolor": "white",
            "linecolor": "white",
            "ticks": ""
           }
          },
          "scene": {
           "xaxis": {
            "backgroundcolor": "#E5ECF6",
            "gridcolor": "white",
            "gridwidth": 2,
            "linecolor": "white",
            "showbackground": true,
            "ticks": "",
            "zerolinecolor": "white"
           },
           "yaxis": {
            "backgroundcolor": "#E5ECF6",
            "gridcolor": "white",
            "gridwidth": 2,
            "linecolor": "white",
            "showbackground": true,
            "ticks": "",
            "zerolinecolor": "white"
           },
           "zaxis": {
            "backgroundcolor": "#E5ECF6",
            "gridcolor": "white",
            "gridwidth": 2,
            "linecolor": "white",
            "showbackground": true,
            "ticks": "",
            "zerolinecolor": "white"
           }
          },
          "shapedefaults": {
           "line": {
            "color": "#2a3f5f"
           }
          },
          "ternary": {
           "aaxis": {
            "gridcolor": "white",
            "linecolor": "white",
            "ticks": ""
           },
           "baxis": {
            "gridcolor": "white",
            "linecolor": "white",
            "ticks": ""
           },
           "bgcolor": "#E5ECF6",
           "caxis": {
            "gridcolor": "white",
            "linecolor": "white",
            "ticks": ""
           }
          },
          "title": {
           "x": 0.05
          },
          "xaxis": {
           "automargin": true,
           "gridcolor": "white",
           "linecolor": "white",
           "ticks": "",
           "title": {
            "standoff": 15
           },
           "zerolinecolor": "white",
           "zerolinewidth": 2
          },
          "yaxis": {
           "automargin": true,
           "gridcolor": "white",
           "linecolor": "white",
           "ticks": "",
           "title": {
            "standoff": 15
           },
           "zerolinecolor": "white",
           "zerolinewidth": 2
          }
         }
        },
        "title": {
         "text": "Superfamily expression profile"
        },
        "width": 1200
       }
      },
      "text/html": "<div>                            <div id=\"8a3aafc6-f120-408e-8943-e9d037c92619\" class=\"plotly-graph-div\" style=\"height:500px; width:1200px;\"></div>            <script type=\"text/javascript\">                require([\"plotly\"], function(Plotly) {                    window.PLOTLYENV=window.PLOTLYENV || {};                                    if (document.getElementById(\"8a3aafc6-f120-408e-8943-e9d037c92619\")) {                    Plotly.newPlot(                        \"8a3aafc6-f120-408e-8943-e9d037c92619\",                        [{\"domain\": {\"x\": [0.0, 0.45], \"y\": [0.0, 1.0]}, \"hole\": 0.4, \"hoverinfo\": \"label+value\", \"labels\": [\"R1-LOA\", \"TcMar-Tc1\", \"TcMar-Tc1\", \"I-Jockey\", \"I-Jockey\", \"I-Jockey\", \"I-Jockey\", \"Gypsy\", \"Gypsy\", \"Gypsy\", \"CR1\", \"Gypsy\", \"R1\", \"R1\", \"R1\", \"Helitron\", \"I-Jockey\", \"I-Jockey\", \"I-Jockey\", \"I-Jockey\", \"I-Jockey\", \"I-Jockey\", \"TcMar-Tc1\", \"I-Jockey\", \"I-Jockey\", \"I-Jockey\", \"I-Jockey\", \"I-Jockey\", \"I-Jockey\", \"I-Jockey\", \"I-Jockey\", \"I-Jockey\", \"I-Jockey\", \"Gypsy\", \"Gypsy\", \"I-Jockey\", \"Helitron\", \"I-Jockey\", \"Gypsy\", \"hAT-hobo\", \"I\", \"I\", \"I-Jockey\", \"I-Jockey\", \"PiggyBac\", \"CMC-Transib\", \"TcMar-Tc1\", \"TcMar-Tc1\", \"MULE-NOF\", \"P\", \"TcMar-Pogo\", \"TcMar-Pogo\", \"P\", \"P\", \"P\", \"R1\", \"R1\", \"R2\", \"TcMar-Tc1\", \"Gypsy\", \"I-Jockey\", \"I-Jockey\", \"I-Jockey\", \"TcMar-Tc1\", \"TcMar-Tc1\", \"Gypsy\", \"CMC-Transib\", \"CMC-Transib\", \"CMC-Transib\", \"CMC-Transib\", \"CMC-Transib\", \"CMC-Transib\", \"TcMar-Tc1\", \"Gypsy\", \"Gypsy\", \"Gypsy\", \"Pao\", \"Pao\", \"Gypsy\", \"Gypsy\", \"Gypsy\", \"Gypsy\", \"Gypsy\", \"Gypsy\", \"Copia\", \"Copia\", \"Copia\", \"Pao\", \"Pao\", \"Copia\", \"Gypsy\", \"Gypsy\", \"Gypsy\", \"Copia\", \"Gypsy\", \"Gypsy\", \"Gypsy\", \"Gypsy\", \"Gypsy\", \"Gypsy\", \"Gypsy\", \"Gypsy\", \"Gypsy\", \"Gypsy\", \"Gypsy\", \"Gypsy\", \"Gypsy\", \"Gypsy\", \"Gypsy\", \"Gypsy\", \"Gypsy\", \"Gypsy\", \"Gypsy\", \"Gypsy\", \"Gypsy\", \"Pao\", \"Gypsy\", \"Gypsy\", \"Gypsy\", \"Pao\", \"Gypsy\", \"Gypsy\", \"Gypsy\", \"Pao\", \"Pao\", \"Gypsy\", \"Gypsy\", \"Gypsy\", \"Gypsy\", \"Gypsy\", \"Gypsy\"], \"name\": \"Female\", \"textinfo\": \"value\", \"type\": \"pie\", \"values\": [2, 0, 1, 2, 1, 0, 0, 0, 8, 1, 84, 0, 1, 3, 0, 4, 7, 0, 2, 0, 3, 3, 3, 2, 0, 0, 2, 0, 0, 0, 0, 0, 0, 12, 0, 0, 0, 14, 0, 1, 4, 6, 0, 0, 0, 2, 1, 0, 0, 0, 220, 0, 2, 0, 5, 0, 3, 0, 6, 0, 7, 15, 7, 3, 1, 0, 0, 1, 16, 0, 1, 0, 0, 1, 7, 3, 2, 0, 0, 6, 15, 4, 3, 19, 1, 2, 161, 0, 0, 3, 4, 6, 0, 0, 2, 1, 2, 65, 12, 2, 0, 1, 0, 0, 1, 3, 0, 11, 4, 4, 1, 0, 1, 0, 5, 11, 12, 0, 36, 0, 2, 1, 10, 1, 517, 2, 19, 2, 1, 2, 0]}, {\"domain\": {\"x\": [0.55, 1.0], \"y\": [0.0, 1.0]}, \"hole\": 0.4, \"hoverinfo\": \"label+value\", \"labels\": [\"R1-LOA\", \"TcMar-Tc1\", \"TcMar-Tc1\", \"I-Jockey\", \"I-Jockey\", \"I-Jockey\", \"I-Jockey\", \"Gypsy\", \"Gypsy\", \"Gypsy\", \"CR1\", \"Gypsy\", \"R1\", \"R1\", \"R1\", \"Helitron\", \"I-Jockey\", \"I-Jockey\", \"I-Jockey\", \"I-Jockey\", \"I-Jockey\", \"I-Jockey\", \"TcMar-Tc1\", \"I-Jockey\", \"I-Jockey\", \"I-Jockey\", \"I-Jockey\", \"I-Jockey\", \"I-Jockey\", \"I-Jockey\", \"I-Jockey\", \"I-Jockey\", \"I-Jockey\", \"Gypsy\", \"Gypsy\", \"I-Jockey\", \"Helitron\", \"I-Jockey\", \"Gypsy\", \"hAT-hobo\", \"I\", \"I\", \"I-Jockey\", \"I-Jockey\", \"PiggyBac\", \"CMC-Transib\", \"TcMar-Tc1\", \"TcMar-Tc1\", \"MULE-NOF\", \"P\", \"TcMar-Pogo\", \"TcMar-Pogo\", \"P\", \"P\", \"P\", \"R1\", \"R1\", \"R2\", \"TcMar-Tc1\", \"Gypsy\", \"I-Jockey\", \"I-Jockey\", \"I-Jockey\", \"TcMar-Tc1\", \"TcMar-Tc1\", \"Gypsy\", \"CMC-Transib\", \"CMC-Transib\", \"CMC-Transib\", \"CMC-Transib\", \"CMC-Transib\", \"CMC-Transib\", \"TcMar-Tc1\", \"Gypsy\", \"Gypsy\", \"Gypsy\", \"Pao\", \"Pao\", \"Gypsy\", \"Gypsy\", \"Gypsy\", \"Gypsy\", \"Gypsy\", \"Gypsy\", \"Copia\", \"Copia\", \"Copia\", \"Pao\", \"Pao\", \"Copia\", \"Gypsy\", \"Gypsy\", \"Gypsy\", \"Copia\", \"Gypsy\", \"Gypsy\", \"Gypsy\", \"Gypsy\", \"Gypsy\", \"Gypsy\", \"Gypsy\", \"Gypsy\", \"Gypsy\", \"Gypsy\", \"Gypsy\", \"Gypsy\", \"Gypsy\", \"Gypsy\", \"Gypsy\", \"Gypsy\", \"Gypsy\", \"Gypsy\", \"Gypsy\", \"Gypsy\", \"Gypsy\", \"Pao\", \"Gypsy\", \"Gypsy\", \"Gypsy\", \"Pao\", \"Gypsy\", \"Gypsy\", \"Gypsy\", \"Pao\", \"Pao\", \"Gypsy\", \"Gypsy\", \"Gypsy\", \"Gypsy\", \"Gypsy\", \"Gypsy\"], \"name\": \"Male\", \"textinfo\": \"value\", \"type\": \"pie\", \"values\": [13, 5, 0, 3, 10, 9, 1, 31, 14, 5, 117, 28, 25, 17, 1, 43, 28, 33, 23, 14, 3, 15, 82, 29, 32, 1, 9, 48, 70, 5, 2, 0, 15, 59, 13, 0, 0, 785, 4, 1, 47, 1, 104, 28, 1, 67, 61, 0, 0, 0, 30, 0, 21, 5, 6, 0, 0, 0, 14, 0, 668, 210, 260, 0, 0, 0, 0, 151, 7, 1, 2, 0, 1, 31, 13, 2, 15, 27, 4, 179, 1, 58, 2, 22, 20, 9, 310, 75, 3, 43, 35, 17, 4, 42, 2, 517, 1, 97, 34, 15, 1, 9, 1, 4, 2, 8, 24, 160, 65, 5, 6, 6, 3, 1, 8, 40, 23, 8, 51, 10, 599, 3, 168, 4, 199, 5, 27, 9, 6, 71, 116]}],                        {\"annotations\": [{\"font\": {\"size\": 20}, \"showarrow\": false, \"text\": \"Female\", \"x\": 0.19, \"y\": 0.5}, {\"font\": {\"size\": 20}, \"showarrow\": false, \"text\": \"Male\", \"x\": 0.8, \"y\": 0.5}], \"height\": 500, \"template\": {\"data\": {\"bar\": [{\"error_x\": {\"color\": \"#2a3f5f\"}, \"error_y\": {\"color\": \"#2a3f5f\"}, \"marker\": {\"line\": {\"color\": \"#E5ECF6\", \"width\": 0.5}}, \"type\": \"bar\"}], \"barpolar\": [{\"marker\": {\"line\": {\"color\": \"#E5ECF6\", \"width\": 0.5}}, \"type\": \"barpolar\"}], \"carpet\": [{\"aaxis\": {\"endlinecolor\": \"#2a3f5f\", \"gridcolor\": \"white\", \"linecolor\": \"white\", \"minorgridcolor\": \"white\", \"startlinecolor\": \"#2a3f5f\"}, \"baxis\": {\"endlinecolor\": \"#2a3f5f\", \"gridcolor\": \"white\", \"linecolor\": \"white\", \"minorgridcolor\": \"white\", \"startlinecolor\": \"#2a3f5f\"}, \"type\": \"carpet\"}], \"choropleth\": [{\"colorbar\": {\"outlinewidth\": 0, \"ticks\": \"\"}, \"type\": \"choropleth\"}], \"contour\": [{\"colorbar\": {\"outlinewidth\": 0, \"ticks\": \"\"}, \"colorscale\": [[0.0, \"#0d0887\"], [0.1111111111111111, \"#46039f\"], [0.2222222222222222, \"#7201a8\"], [0.3333333333333333, \"#9c179e\"], [0.4444444444444444, \"#bd3786\"], [0.5555555555555556, \"#d8576b\"], [0.6666666666666666, \"#ed7953\"], [0.7777777777777778, \"#fb9f3a\"], [0.8888888888888888, \"#fdca26\"], [1.0, \"#f0f921\"]], \"type\": \"contour\"}], \"contourcarpet\": [{\"colorbar\": {\"outlinewidth\": 0, \"ticks\": \"\"}, \"type\": \"contourcarpet\"}], \"heatmap\": [{\"colorbar\": {\"outlinewidth\": 0, \"ticks\": \"\"}, \"colorscale\": [[0.0, \"#0d0887\"], [0.1111111111111111, \"#46039f\"], [0.2222222222222222, \"#7201a8\"], [0.3333333333333333, \"#9c179e\"], [0.4444444444444444, \"#bd3786\"], [0.5555555555555556, \"#d8576b\"], [0.6666666666666666, \"#ed7953\"], [0.7777777777777778, \"#fb9f3a\"], [0.8888888888888888, \"#fdca26\"], [1.0, \"#f0f921\"]], \"type\": \"heatmap\"}], \"heatmapgl\": [{\"colorbar\": {\"outlinewidth\": 0, \"ticks\": \"\"}, \"colorscale\": [[0.0, \"#0d0887\"], [0.1111111111111111, \"#46039f\"], [0.2222222222222222, \"#7201a8\"], [0.3333333333333333, \"#9c179e\"], [0.4444444444444444, \"#bd3786\"], [0.5555555555555556, \"#d8576b\"], [0.6666666666666666, \"#ed7953\"], [0.7777777777777778, \"#fb9f3a\"], [0.8888888888888888, \"#fdca26\"], [1.0, \"#f0f921\"]], \"type\": \"heatmapgl\"}], \"histogram\": [{\"marker\": {\"colorbar\": {\"outlinewidth\": 0, \"ticks\": \"\"}}, \"type\": \"histogram\"}], \"histogram2d\": [{\"colorbar\": {\"outlinewidth\": 0, \"ticks\": \"\"}, \"colorscale\": [[0.0, \"#0d0887\"], [0.1111111111111111, \"#46039f\"], [0.2222222222222222, \"#7201a8\"], [0.3333333333333333, \"#9c179e\"], [0.4444444444444444, \"#bd3786\"], [0.5555555555555556, \"#d8576b\"], [0.6666666666666666, \"#ed7953\"], [0.7777777777777778, \"#fb9f3a\"], [0.8888888888888888, \"#fdca26\"], [1.0, \"#f0f921\"]], \"type\": \"histogram2d\"}], \"histogram2dcontour\": [{\"colorbar\": {\"outlinewidth\": 0, \"ticks\": \"\"}, \"colorscale\": [[0.0, \"#0d0887\"], [0.1111111111111111, \"#46039f\"], [0.2222222222222222, \"#7201a8\"], [0.3333333333333333, \"#9c179e\"], [0.4444444444444444, \"#bd3786\"], [0.5555555555555556, \"#d8576b\"], [0.6666666666666666, \"#ed7953\"], [0.7777777777777778, \"#fb9f3a\"], [0.8888888888888888, \"#fdca26\"], [1.0, \"#f0f921\"]], \"type\": \"histogram2dcontour\"}], \"mesh3d\": [{\"colorbar\": {\"outlinewidth\": 0, \"ticks\": \"\"}, \"type\": \"mesh3d\"}], \"parcoords\": [{\"line\": {\"colorbar\": {\"outlinewidth\": 0, \"ticks\": \"\"}}, \"type\": \"parcoords\"}], \"pie\": [{\"automargin\": true, \"type\": \"pie\"}], \"scatter\": [{\"marker\": {\"colorbar\": {\"outlinewidth\": 0, \"ticks\": \"\"}}, \"type\": \"scatter\"}], \"scatter3d\": [{\"line\": {\"colorbar\": {\"outlinewidth\": 0, \"ticks\": \"\"}}, \"marker\": {\"colorbar\": {\"outlinewidth\": 0, \"ticks\": \"\"}}, \"type\": \"scatter3d\"}], \"scattercarpet\": [{\"marker\": {\"colorbar\": {\"outlinewidth\": 0, \"ticks\": \"\"}}, \"type\": \"scattercarpet\"}], \"scattergeo\": [{\"marker\": {\"colorbar\": {\"outlinewidth\": 0, \"ticks\": \"\"}}, \"type\": \"scattergeo\"}], \"scattergl\": [{\"marker\": {\"colorbar\": {\"outlinewidth\": 0, \"ticks\": \"\"}}, \"type\": \"scattergl\"}], \"scattermapbox\": [{\"marker\": {\"colorbar\": {\"outlinewidth\": 0, \"ticks\": \"\"}}, \"type\": \"scattermapbox\"}], \"scatterpolar\": [{\"marker\": {\"colorbar\": {\"outlinewidth\": 0, \"ticks\": \"\"}}, \"type\": \"scatterpolar\"}], \"scatterpolargl\": [{\"marker\": {\"colorbar\": {\"outlinewidth\": 0, \"ticks\": \"\"}}, \"type\": \"scatterpolargl\"}], \"scatterternary\": [{\"marker\": {\"colorbar\": {\"outlinewidth\": 0, \"ticks\": \"\"}}, \"type\": \"scatterternary\"}], \"surface\": [{\"colorbar\": {\"outlinewidth\": 0, \"ticks\": \"\"}, \"colorscale\": [[0.0, \"#0d0887\"], [0.1111111111111111, \"#46039f\"], [0.2222222222222222, \"#7201a8\"], [0.3333333333333333, \"#9c179e\"], [0.4444444444444444, \"#bd3786\"], [0.5555555555555556, \"#d8576b\"], [0.6666666666666666, \"#ed7953\"], [0.7777777777777778, \"#fb9f3a\"], [0.8888888888888888, \"#fdca26\"], [1.0, \"#f0f921\"]], \"type\": \"surface\"}], \"table\": [{\"cells\": {\"fill\": {\"color\": \"#EBF0F8\"}, \"line\": {\"color\": \"white\"}}, \"header\": {\"fill\": {\"color\": \"#C8D4E3\"}, \"line\": {\"color\": \"white\"}}, \"type\": \"table\"}]}, \"layout\": {\"annotationdefaults\": {\"arrowcolor\": \"#2a3f5f\", \"arrowhead\": 0, \"arrowwidth\": 1}, \"autotypenumbers\": \"strict\", \"coloraxis\": {\"colorbar\": {\"outlinewidth\": 0, \"ticks\": \"\"}}, \"colorscale\": {\"diverging\": [[0, \"#8e0152\"], [0.1, \"#c51b7d\"], [0.2, \"#de77ae\"], [0.3, \"#f1b6da\"], [0.4, \"#fde0ef\"], [0.5, \"#f7f7f7\"], [0.6, \"#e6f5d0\"], [0.7, \"#b8e186\"], [0.8, \"#7fbc41\"], [0.9, \"#4d9221\"], [1, \"#276419\"]], \"sequential\": [[0.0, \"#0d0887\"], [0.1111111111111111, \"#46039f\"], [0.2222222222222222, \"#7201a8\"], [0.3333333333333333, \"#9c179e\"], [0.4444444444444444, \"#bd3786\"], [0.5555555555555556, \"#d8576b\"], [0.6666666666666666, \"#ed7953\"], [0.7777777777777778, \"#fb9f3a\"], [0.8888888888888888, \"#fdca26\"], [1.0, \"#f0f921\"]], \"sequentialminus\": [[0.0, \"#0d0887\"], [0.1111111111111111, \"#46039f\"], [0.2222222222222222, \"#7201a8\"], [0.3333333333333333, \"#9c179e\"], [0.4444444444444444, \"#bd3786\"], [0.5555555555555556, \"#d8576b\"], [0.6666666666666666, \"#ed7953\"], [0.7777777777777778, \"#fb9f3a\"], [0.8888888888888888, \"#fdca26\"], [1.0, \"#f0f921\"]]}, \"colorway\": [\"#636efa\", \"#EF553B\", \"#00cc96\", \"#ab63fa\", \"#FFA15A\", \"#19d3f3\", \"#FF6692\", \"#B6E880\", \"#FF97FF\", \"#FECB52\"], \"font\": {\"color\": \"#2a3f5f\"}, \"geo\": {\"bgcolor\": \"white\", \"lakecolor\": \"white\", \"landcolor\": \"#E5ECF6\", \"showlakes\": true, \"showland\": true, \"subunitcolor\": \"white\"}, \"hoverlabel\": {\"align\": \"left\"}, \"hovermode\": \"closest\", \"mapbox\": {\"style\": \"light\"}, \"paper_bgcolor\": \"white\", \"plot_bgcolor\": \"#E5ECF6\", \"polar\": {\"angularaxis\": {\"gridcolor\": \"white\", \"linecolor\": \"white\", \"ticks\": \"\"}, \"bgcolor\": \"#E5ECF6\", \"radialaxis\": {\"gridcolor\": \"white\", \"linecolor\": \"white\", \"ticks\": \"\"}}, \"scene\": {\"xaxis\": {\"backgroundcolor\": \"#E5ECF6\", \"gridcolor\": \"white\", \"gridwidth\": 2, \"linecolor\": \"white\", \"showbackground\": true, \"ticks\": \"\", \"zerolinecolor\": \"white\"}, \"yaxis\": {\"backgroundcolor\": \"#E5ECF6\", \"gridcolor\": \"white\", \"gridwidth\": 2, \"linecolor\": \"white\", \"showbackground\": true, \"ticks\": \"\", \"zerolinecolor\": \"white\"}, \"zaxis\": {\"backgroundcolor\": \"#E5ECF6\", \"gridcolor\": \"white\", \"gridwidth\": 2, \"linecolor\": \"white\", \"showbackground\": true, \"ticks\": \"\", \"zerolinecolor\": \"white\"}}, \"shapedefaults\": {\"line\": {\"color\": \"#2a3f5f\"}}, \"ternary\": {\"aaxis\": {\"gridcolor\": \"white\", \"linecolor\": \"white\", \"ticks\": \"\"}, \"baxis\": {\"gridcolor\": \"white\", \"linecolor\": \"white\", \"ticks\": \"\"}, \"bgcolor\": \"#E5ECF6\", \"caxis\": {\"gridcolor\": \"white\", \"linecolor\": \"white\", \"ticks\": \"\"}}, \"title\": {\"x\": 0.05}, \"xaxis\": {\"automargin\": true, \"gridcolor\": \"white\", \"linecolor\": \"white\", \"ticks\": \"\", \"title\": {\"standoff\": 15}, \"zerolinecolor\": \"white\", \"zerolinewidth\": 2}, \"yaxis\": {\"automargin\": true, \"gridcolor\": \"white\", \"linecolor\": \"white\", \"ticks\": \"\", \"title\": {\"standoff\": 15}, \"zerolinecolor\": \"white\", \"zerolinewidth\": 2}}}, \"title\": {\"text\": \"Superfamily expression profile\"}, \"width\": 1200},                        {\"responsive\": true}                    ).then(function(){\n                            \nvar gd = document.getElementById('8a3aafc6-f120-408e-8943-e9d037c92619');\nvar x = new MutationObserver(function (mutations, observer) {{\n        var display = window.getComputedStyle(gd).display;\n        if (!display || display === 'none') {{\n            console.log([gd, 'removed!']);\n            Plotly.purge(gd);\n            observer.disconnect();\n        }}\n}});\n\n// Listen for the removal of the full notebook cells\nvar notebookContainer = gd.closest('#notebook-container');\nif (notebookContainer) {{\n    x.observe(notebookContainer, {childList: true});\n}}\n\n// Listen for the clearing of the current output cell\nvar outputEl = gd.closest('.output');\nif (outputEl) {{\n    x.observe(outputEl, {childList: true});\n}}\n\n                        })                };                });            </script>        </div>"
     },
     "metadata": {}
    }
   ],
   "source": [
    "plot_TE_expression_profile_by_family(TE_data_table)"
   ]
  },
  {
   "cell_type": "code",
   "execution_count": 48,
   "metadata": {},
   "outputs": [
    {
     "output_type": "display_data",
     "data": {
      "application/vnd.plotly.v1+json": {
       "config": {
        "plotlyServerURL": "https://plot.ly"
       },
       "data": [
        {
         "domain": {
          "x": [
           0,
           0.45
          ],
          "y": [
           0,
           1
          ]
         },
         "hole": 0.4,
         "hoverinfo": "label+value",
         "labels": [
          "LINE",
          "DNA",
          "DNA",
          "LINE",
          "LINE",
          "LINE",
          "LINE",
          "LTR",
          "LTR",
          "LTR",
          "LINE",
          "LTR",
          "LINE",
          "LINE",
          "LINE",
          "RC",
          "LINE",
          "LINE",
          "LINE",
          "LINE",
          "LINE",
          "LINE",
          "DNA",
          "LINE",
          "LINE",
          "LINE",
          "LINE",
          "LINE",
          "LINE",
          "LINE",
          "LINE",
          "LINE",
          "LINE",
          "LTR",
          "LTR",
          "LINE",
          "RC",
          "LINE",
          "LTR",
          "DNA",
          "LINE",
          "LINE",
          "LINE",
          "LINE",
          "DNA",
          "DNA",
          "DNA",
          "DNA",
          "DNA",
          "DNA",
          "DNA",
          "DNA",
          "DNA",
          "DNA",
          "DNA",
          "LINE",
          "LINE",
          "LINE",
          "DNA",
          "LTR",
          "LINE",
          "LINE",
          "LINE",
          "DNA",
          "DNA",
          "LTR",
          "DNA",
          "DNA",
          "DNA",
          "DNA",
          "DNA",
          "DNA",
          "DNA",
          "LTR",
          "LTR",
          "LTR",
          "LTR",
          "LTR",
          "LTR",
          "LTR",
          "LTR",
          "LTR",
          "LTR",
          "LTR",
          "LTR",
          "LTR",
          "LTR",
          "LTR",
          "LTR",
          "LTR",
          "LTR",
          "LTR",
          "LTR",
          "LTR",
          "LTR",
          "LTR",
          "LTR",
          "LTR",
          "LTR",
          "LTR",
          "LTR",
          "LTR",
          "LTR",
          "LTR",
          "LTR",
          "LTR",
          "LTR",
          "LTR",
          "LTR",
          "LTR",
          "LTR",
          "LTR",
          "LTR",
          "LTR",
          "LTR",
          "LTR",
          "LTR",
          "LTR",
          "LTR",
          "LTR",
          "LTR",
          "LTR",
          "LTR",
          "LTR",
          "LTR",
          "LTR",
          "LTR",
          "LTR",
          "LTR",
          "LTR",
          "LTR"
         ],
         "name": "Female",
         "textinfo": "value",
         "type": "pie",
         "values": [
          2,
          0,
          1,
          2,
          1,
          0,
          0,
          0,
          8,
          1,
          84,
          0,
          1,
          3,
          0,
          4,
          7,
          0,
          2,
          0,
          3,
          3,
          3,
          2,
          0,
          0,
          2,
          0,
          0,
          0,
          0,
          0,
          0,
          12,
          0,
          0,
          0,
          14,
          0,
          1,
          4,
          6,
          0,
          0,
          0,
          2,
          1,
          0,
          0,
          0,
          220,
          0,
          2,
          0,
          5,
          0,
          3,
          0,
          6,
          0,
          7,
          15,
          7,
          3,
          1,
          0,
          0,
          1,
          16,
          0,
          1,
          0,
          0,
          1,
          7,
          3,
          2,
          0,
          0,
          6,
          15,
          4,
          3,
          19,
          1,
          2,
          161,
          0,
          0,
          3,
          4,
          6,
          0,
          0,
          2,
          1,
          2,
          65,
          12,
          2,
          0,
          1,
          0,
          0,
          1,
          3,
          0,
          11,
          4,
          4,
          1,
          0,
          1,
          0,
          5,
          11,
          12,
          0,
          36,
          0,
          2,
          1,
          10,
          1,
          517,
          2,
          19,
          2,
          1,
          2,
          0
         ]
        },
        {
         "domain": {
          "x": [
           0.55,
           1
          ],
          "y": [
           0,
           1
          ]
         },
         "hole": 0.4,
         "hoverinfo": "label+value",
         "labels": [
          "LINE",
          "DNA",
          "DNA",
          "LINE",
          "LINE",
          "LINE",
          "LINE",
          "LTR",
          "LTR",
          "LTR",
          "LINE",
          "LTR",
          "LINE",
          "LINE",
          "LINE",
          "RC",
          "LINE",
          "LINE",
          "LINE",
          "LINE",
          "LINE",
          "LINE",
          "DNA",
          "LINE",
          "LINE",
          "LINE",
          "LINE",
          "LINE",
          "LINE",
          "LINE",
          "LINE",
          "LINE",
          "LINE",
          "LTR",
          "LTR",
          "LINE",
          "RC",
          "LINE",
          "LTR",
          "DNA",
          "LINE",
          "LINE",
          "LINE",
          "LINE",
          "DNA",
          "DNA",
          "DNA",
          "DNA",
          "DNA",
          "DNA",
          "DNA",
          "DNA",
          "DNA",
          "DNA",
          "DNA",
          "LINE",
          "LINE",
          "LINE",
          "DNA",
          "LTR",
          "LINE",
          "LINE",
          "LINE",
          "DNA",
          "DNA",
          "LTR",
          "DNA",
          "DNA",
          "DNA",
          "DNA",
          "DNA",
          "DNA",
          "DNA",
          "LTR",
          "LTR",
          "LTR",
          "LTR",
          "LTR",
          "LTR",
          "LTR",
          "LTR",
          "LTR",
          "LTR",
          "LTR",
          "LTR",
          "LTR",
          "LTR",
          "LTR",
          "LTR",
          "LTR",
          "LTR",
          "LTR",
          "LTR",
          "LTR",
          "LTR",
          "LTR",
          "LTR",
          "LTR",
          "LTR",
          "LTR",
          "LTR",
          "LTR",
          "LTR",
          "LTR",
          "LTR",
          "LTR",
          "LTR",
          "LTR",
          "LTR",
          "LTR",
          "LTR",
          "LTR",
          "LTR",
          "LTR",
          "LTR",
          "LTR",
          "LTR",
          "LTR",
          "LTR",
          "LTR",
          "LTR",
          "LTR",
          "LTR",
          "LTR",
          "LTR",
          "LTR",
          "LTR",
          "LTR",
          "LTR",
          "LTR",
          "LTR"
         ],
         "name": "Male",
         "textinfo": "value",
         "type": "pie",
         "values": [
          13,
          5,
          0,
          3,
          10,
          9,
          1,
          31,
          14,
          5,
          117,
          28,
          25,
          17,
          1,
          43,
          28,
          33,
          23,
          14,
          3,
          15,
          82,
          29,
          32,
          1,
          9,
          48,
          70,
          5,
          2,
          0,
          15,
          59,
          13,
          0,
          0,
          785,
          4,
          1,
          47,
          1,
          104,
          28,
          1,
          67,
          61,
          0,
          0,
          0,
          30,
          0,
          21,
          5,
          6,
          0,
          0,
          0,
          14,
          0,
          668,
          210,
          260,
          0,
          0,
          0,
          0,
          151,
          7,
          1,
          2,
          0,
          1,
          31,
          13,
          2,
          15,
          27,
          4,
          179,
          1,
          58,
          2,
          22,
          20,
          9,
          310,
          75,
          3,
          43,
          35,
          17,
          4,
          42,
          2,
          517,
          1,
          97,
          34,
          15,
          1,
          9,
          1,
          4,
          2,
          8,
          24,
          160,
          65,
          5,
          6,
          6,
          3,
          1,
          8,
          40,
          23,
          8,
          51,
          10,
          599,
          3,
          168,
          4,
          199,
          5,
          27,
          9,
          6,
          71,
          116
         ]
        }
       ],
       "layout": {
        "annotations": [
         {
          "font": {
           "size": 20
          },
          "showarrow": false,
          "text": "Female",
          "x": 0.19,
          "y": 0.5
         },
         {
          "font": {
           "size": 20
          },
          "showarrow": false,
          "text": "Male",
          "x": 0.8,
          "y": 0.5
         }
        ],
        "height": 500,
        "template": {
         "data": {
          "bar": [
           {
            "error_x": {
             "color": "#2a3f5f"
            },
            "error_y": {
             "color": "#2a3f5f"
            },
            "marker": {
             "line": {
              "color": "#E5ECF6",
              "width": 0.5
             }
            },
            "type": "bar"
           }
          ],
          "barpolar": [
           {
            "marker": {
             "line": {
              "color": "#E5ECF6",
              "width": 0.5
             }
            },
            "type": "barpolar"
           }
          ],
          "carpet": [
           {
            "aaxis": {
             "endlinecolor": "#2a3f5f",
             "gridcolor": "white",
             "linecolor": "white",
             "minorgridcolor": "white",
             "startlinecolor": "#2a3f5f"
            },
            "baxis": {
             "endlinecolor": "#2a3f5f",
             "gridcolor": "white",
             "linecolor": "white",
             "minorgridcolor": "white",
             "startlinecolor": "#2a3f5f"
            },
            "type": "carpet"
           }
          ],
          "choropleth": [
           {
            "colorbar": {
             "outlinewidth": 0,
             "ticks": ""
            },
            "type": "choropleth"
           }
          ],
          "contour": [
           {
            "colorbar": {
             "outlinewidth": 0,
             "ticks": ""
            },
            "colorscale": [
             [
              0,
              "#0d0887"
             ],
             [
              0.1111111111111111,
              "#46039f"
             ],
             [
              0.2222222222222222,
              "#7201a8"
             ],
             [
              0.3333333333333333,
              "#9c179e"
             ],
             [
              0.4444444444444444,
              "#bd3786"
             ],
             [
              0.5555555555555556,
              "#d8576b"
             ],
             [
              0.6666666666666666,
              "#ed7953"
             ],
             [
              0.7777777777777778,
              "#fb9f3a"
             ],
             [
              0.8888888888888888,
              "#fdca26"
             ],
             [
              1,
              "#f0f921"
             ]
            ],
            "type": "contour"
           }
          ],
          "contourcarpet": [
           {
            "colorbar": {
             "outlinewidth": 0,
             "ticks": ""
            },
            "type": "contourcarpet"
           }
          ],
          "heatmap": [
           {
            "colorbar": {
             "outlinewidth": 0,
             "ticks": ""
            },
            "colorscale": [
             [
              0,
              "#0d0887"
             ],
             [
              0.1111111111111111,
              "#46039f"
             ],
             [
              0.2222222222222222,
              "#7201a8"
             ],
             [
              0.3333333333333333,
              "#9c179e"
             ],
             [
              0.4444444444444444,
              "#bd3786"
             ],
             [
              0.5555555555555556,
              "#d8576b"
             ],
             [
              0.6666666666666666,
              "#ed7953"
             ],
             [
              0.7777777777777778,
              "#fb9f3a"
             ],
             [
              0.8888888888888888,
              "#fdca26"
             ],
             [
              1,
              "#f0f921"
             ]
            ],
            "type": "heatmap"
           }
          ],
          "heatmapgl": [
           {
            "colorbar": {
             "outlinewidth": 0,
             "ticks": ""
            },
            "colorscale": [
             [
              0,
              "#0d0887"
             ],
             [
              0.1111111111111111,
              "#46039f"
             ],
             [
              0.2222222222222222,
              "#7201a8"
             ],
             [
              0.3333333333333333,
              "#9c179e"
             ],
             [
              0.4444444444444444,
              "#bd3786"
             ],
             [
              0.5555555555555556,
              "#d8576b"
             ],
             [
              0.6666666666666666,
              "#ed7953"
             ],
             [
              0.7777777777777778,
              "#fb9f3a"
             ],
             [
              0.8888888888888888,
              "#fdca26"
             ],
             [
              1,
              "#f0f921"
             ]
            ],
            "type": "heatmapgl"
           }
          ],
          "histogram": [
           {
            "marker": {
             "colorbar": {
              "outlinewidth": 0,
              "ticks": ""
             }
            },
            "type": "histogram"
           }
          ],
          "histogram2d": [
           {
            "colorbar": {
             "outlinewidth": 0,
             "ticks": ""
            },
            "colorscale": [
             [
              0,
              "#0d0887"
             ],
             [
              0.1111111111111111,
              "#46039f"
             ],
             [
              0.2222222222222222,
              "#7201a8"
             ],
             [
              0.3333333333333333,
              "#9c179e"
             ],
             [
              0.4444444444444444,
              "#bd3786"
             ],
             [
              0.5555555555555556,
              "#d8576b"
             ],
             [
              0.6666666666666666,
              "#ed7953"
             ],
             [
              0.7777777777777778,
              "#fb9f3a"
             ],
             [
              0.8888888888888888,
              "#fdca26"
             ],
             [
              1,
              "#f0f921"
             ]
            ],
            "type": "histogram2d"
           }
          ],
          "histogram2dcontour": [
           {
            "colorbar": {
             "outlinewidth": 0,
             "ticks": ""
            },
            "colorscale": [
             [
              0,
              "#0d0887"
             ],
             [
              0.1111111111111111,
              "#46039f"
             ],
             [
              0.2222222222222222,
              "#7201a8"
             ],
             [
              0.3333333333333333,
              "#9c179e"
             ],
             [
              0.4444444444444444,
              "#bd3786"
             ],
             [
              0.5555555555555556,
              "#d8576b"
             ],
             [
              0.6666666666666666,
              "#ed7953"
             ],
             [
              0.7777777777777778,
              "#fb9f3a"
             ],
             [
              0.8888888888888888,
              "#fdca26"
             ],
             [
              1,
              "#f0f921"
             ]
            ],
            "type": "histogram2dcontour"
           }
          ],
          "mesh3d": [
           {
            "colorbar": {
             "outlinewidth": 0,
             "ticks": ""
            },
            "type": "mesh3d"
           }
          ],
          "parcoords": [
           {
            "line": {
             "colorbar": {
              "outlinewidth": 0,
              "ticks": ""
             }
            },
            "type": "parcoords"
           }
          ],
          "pie": [
           {
            "automargin": true,
            "type": "pie"
           }
          ],
          "scatter": [
           {
            "marker": {
             "colorbar": {
              "outlinewidth": 0,
              "ticks": ""
             }
            },
            "type": "scatter"
           }
          ],
          "scatter3d": [
           {
            "line": {
             "colorbar": {
              "outlinewidth": 0,
              "ticks": ""
             }
            },
            "marker": {
             "colorbar": {
              "outlinewidth": 0,
              "ticks": ""
             }
            },
            "type": "scatter3d"
           }
          ],
          "scattercarpet": [
           {
            "marker": {
             "colorbar": {
              "outlinewidth": 0,
              "ticks": ""
             }
            },
            "type": "scattercarpet"
           }
          ],
          "scattergeo": [
           {
            "marker": {
             "colorbar": {
              "outlinewidth": 0,
              "ticks": ""
             }
            },
            "type": "scattergeo"
           }
          ],
          "scattergl": [
           {
            "marker": {
             "colorbar": {
              "outlinewidth": 0,
              "ticks": ""
             }
            },
            "type": "scattergl"
           }
          ],
          "scattermapbox": [
           {
            "marker": {
             "colorbar": {
              "outlinewidth": 0,
              "ticks": ""
             }
            },
            "type": "scattermapbox"
           }
          ],
          "scatterpolar": [
           {
            "marker": {
             "colorbar": {
              "outlinewidth": 0,
              "ticks": ""
             }
            },
            "type": "scatterpolar"
           }
          ],
          "scatterpolargl": [
           {
            "marker": {
             "colorbar": {
              "outlinewidth": 0,
              "ticks": ""
             }
            },
            "type": "scatterpolargl"
           }
          ],
          "scatterternary": [
           {
            "marker": {
             "colorbar": {
              "outlinewidth": 0,
              "ticks": ""
             }
            },
            "type": "scatterternary"
           }
          ],
          "surface": [
           {
            "colorbar": {
             "outlinewidth": 0,
             "ticks": ""
            },
            "colorscale": [
             [
              0,
              "#0d0887"
             ],
             [
              0.1111111111111111,
              "#46039f"
             ],
             [
              0.2222222222222222,
              "#7201a8"
             ],
             [
              0.3333333333333333,
              "#9c179e"
             ],
             [
              0.4444444444444444,
              "#bd3786"
             ],
             [
              0.5555555555555556,
              "#d8576b"
             ],
             [
              0.6666666666666666,
              "#ed7953"
             ],
             [
              0.7777777777777778,
              "#fb9f3a"
             ],
             [
              0.8888888888888888,
              "#fdca26"
             ],
             [
              1,
              "#f0f921"
             ]
            ],
            "type": "surface"
           }
          ],
          "table": [
           {
            "cells": {
             "fill": {
              "color": "#EBF0F8"
             },
             "line": {
              "color": "white"
             }
            },
            "header": {
             "fill": {
              "color": "#C8D4E3"
             },
             "line": {
              "color": "white"
             }
            },
            "type": "table"
           }
          ]
         },
         "layout": {
          "annotationdefaults": {
           "arrowcolor": "#2a3f5f",
           "arrowhead": 0,
           "arrowwidth": 1
          },
          "autotypenumbers": "strict",
          "coloraxis": {
           "colorbar": {
            "outlinewidth": 0,
            "ticks": ""
           }
          },
          "colorscale": {
           "diverging": [
            [
             0,
             "#8e0152"
            ],
            [
             0.1,
             "#c51b7d"
            ],
            [
             0.2,
             "#de77ae"
            ],
            [
             0.3,
             "#f1b6da"
            ],
            [
             0.4,
             "#fde0ef"
            ],
            [
             0.5,
             "#f7f7f7"
            ],
            [
             0.6,
             "#e6f5d0"
            ],
            [
             0.7,
             "#b8e186"
            ],
            [
             0.8,
             "#7fbc41"
            ],
            [
             0.9,
             "#4d9221"
            ],
            [
             1,
             "#276419"
            ]
           ],
           "sequential": [
            [
             0,
             "#0d0887"
            ],
            [
             0.1111111111111111,
             "#46039f"
            ],
            [
             0.2222222222222222,
             "#7201a8"
            ],
            [
             0.3333333333333333,
             "#9c179e"
            ],
            [
             0.4444444444444444,
             "#bd3786"
            ],
            [
             0.5555555555555556,
             "#d8576b"
            ],
            [
             0.6666666666666666,
             "#ed7953"
            ],
            [
             0.7777777777777778,
             "#fb9f3a"
            ],
            [
             0.8888888888888888,
             "#fdca26"
            ],
            [
             1,
             "#f0f921"
            ]
           ],
           "sequentialminus": [
            [
             0,
             "#0d0887"
            ],
            [
             0.1111111111111111,
             "#46039f"
            ],
            [
             0.2222222222222222,
             "#7201a8"
            ],
            [
             0.3333333333333333,
             "#9c179e"
            ],
            [
             0.4444444444444444,
             "#bd3786"
            ],
            [
             0.5555555555555556,
             "#d8576b"
            ],
            [
             0.6666666666666666,
             "#ed7953"
            ],
            [
             0.7777777777777778,
             "#fb9f3a"
            ],
            [
             0.8888888888888888,
             "#fdca26"
            ],
            [
             1,
             "#f0f921"
            ]
           ]
          },
          "colorway": [
           "#636efa",
           "#EF553B",
           "#00cc96",
           "#ab63fa",
           "#FFA15A",
           "#19d3f3",
           "#FF6692",
           "#B6E880",
           "#FF97FF",
           "#FECB52"
          ],
          "font": {
           "color": "#2a3f5f"
          },
          "geo": {
           "bgcolor": "white",
           "lakecolor": "white",
           "landcolor": "#E5ECF6",
           "showlakes": true,
           "showland": true,
           "subunitcolor": "white"
          },
          "hoverlabel": {
           "align": "left"
          },
          "hovermode": "closest",
          "mapbox": {
           "style": "light"
          },
          "paper_bgcolor": "white",
          "plot_bgcolor": "#E5ECF6",
          "polar": {
           "angularaxis": {
            "gridcolor": "white",
            "linecolor": "white",
            "ticks": ""
           },
           "bgcolor": "#E5ECF6",
           "radialaxis": {
            "gridcolor": "white",
            "linecolor": "white",
            "ticks": ""
           }
          },
          "scene": {
           "xaxis": {
            "backgroundcolor": "#E5ECF6",
            "gridcolor": "white",
            "gridwidth": 2,
            "linecolor": "white",
            "showbackground": true,
            "ticks": "",
            "zerolinecolor": "white"
           },
           "yaxis": {
            "backgroundcolor": "#E5ECF6",
            "gridcolor": "white",
            "gridwidth": 2,
            "linecolor": "white",
            "showbackground": true,
            "ticks": "",
            "zerolinecolor": "white"
           },
           "zaxis": {
            "backgroundcolor": "#E5ECF6",
            "gridcolor": "white",
            "gridwidth": 2,
            "linecolor": "white",
            "showbackground": true,
            "ticks": "",
            "zerolinecolor": "white"
           }
          },
          "shapedefaults": {
           "line": {
            "color": "#2a3f5f"
           }
          },
          "ternary": {
           "aaxis": {
            "gridcolor": "white",
            "linecolor": "white",
            "ticks": ""
           },
           "baxis": {
            "gridcolor": "white",
            "linecolor": "white",
            "ticks": ""
           },
           "bgcolor": "#E5ECF6",
           "caxis": {
            "gridcolor": "white",
            "linecolor": "white",
            "ticks": ""
           }
          },
          "title": {
           "x": 0.05
          },
          "xaxis": {
           "automargin": true,
           "gridcolor": "white",
           "linecolor": "white",
           "ticks": "",
           "title": {
            "standoff": 15
           },
           "zerolinecolor": "white",
           "zerolinewidth": 2
          },
          "yaxis": {
           "automargin": true,
           "gridcolor": "white",
           "linecolor": "white",
           "ticks": "",
           "title": {
            "standoff": 15
           },
           "zerolinecolor": "white",
           "zerolinewidth": 2
          }
         }
        },
        "title": {
         "text": "Subclass expression profile"
        },
        "width": 1200
       }
      },
      "text/html": "<div>                            <div id=\"eb44ba61-80e2-46f4-b862-ba0a07211065\" class=\"plotly-graph-div\" style=\"height:500px; width:1200px;\"></div>            <script type=\"text/javascript\">                require([\"plotly\"], function(Plotly) {                    window.PLOTLYENV=window.PLOTLYENV || {};                                    if (document.getElementById(\"eb44ba61-80e2-46f4-b862-ba0a07211065\")) {                    Plotly.newPlot(                        \"eb44ba61-80e2-46f4-b862-ba0a07211065\",                        [{\"domain\": {\"x\": [0.0, 0.45], \"y\": [0.0, 1.0]}, \"hole\": 0.4, \"hoverinfo\": \"label+value\", \"labels\": [\"LINE\", \"DNA\", \"DNA\", \"LINE\", \"LINE\", \"LINE\", \"LINE\", \"LTR\", \"LTR\", \"LTR\", \"LINE\", \"LTR\", \"LINE\", \"LINE\", \"LINE\", \"RC\", \"LINE\", \"LINE\", \"LINE\", \"LINE\", \"LINE\", \"LINE\", \"DNA\", \"LINE\", \"LINE\", \"LINE\", \"LINE\", \"LINE\", \"LINE\", \"LINE\", \"LINE\", \"LINE\", \"LINE\", \"LTR\", \"LTR\", \"LINE\", \"RC\", \"LINE\", \"LTR\", \"DNA\", \"LINE\", \"LINE\", \"LINE\", \"LINE\", \"DNA\", \"DNA\", \"DNA\", \"DNA\", \"DNA\", \"DNA\", \"DNA\", \"DNA\", \"DNA\", \"DNA\", \"DNA\", \"LINE\", \"LINE\", \"LINE\", \"DNA\", \"LTR\", \"LINE\", \"LINE\", \"LINE\", \"DNA\", \"DNA\", \"LTR\", \"DNA\", \"DNA\", \"DNA\", \"DNA\", \"DNA\", \"DNA\", \"DNA\", \"LTR\", \"LTR\", \"LTR\", \"LTR\", \"LTR\", \"LTR\", \"LTR\", \"LTR\", \"LTR\", \"LTR\", \"LTR\", \"LTR\", \"LTR\", \"LTR\", \"LTR\", \"LTR\", \"LTR\", \"LTR\", \"LTR\", \"LTR\", \"LTR\", \"LTR\", \"LTR\", \"LTR\", \"LTR\", \"LTR\", \"LTR\", \"LTR\", \"LTR\", \"LTR\", \"LTR\", \"LTR\", \"LTR\", \"LTR\", \"LTR\", \"LTR\", \"LTR\", \"LTR\", \"LTR\", \"LTR\", \"LTR\", \"LTR\", \"LTR\", \"LTR\", \"LTR\", \"LTR\", \"LTR\", \"LTR\", \"LTR\", \"LTR\", \"LTR\", \"LTR\", \"LTR\", \"LTR\", \"LTR\", \"LTR\", \"LTR\", \"LTR\"], \"name\": \"Female\", \"textinfo\": \"value\", \"type\": \"pie\", \"values\": [2, 0, 1, 2, 1, 0, 0, 0, 8, 1, 84, 0, 1, 3, 0, 4, 7, 0, 2, 0, 3, 3, 3, 2, 0, 0, 2, 0, 0, 0, 0, 0, 0, 12, 0, 0, 0, 14, 0, 1, 4, 6, 0, 0, 0, 2, 1, 0, 0, 0, 220, 0, 2, 0, 5, 0, 3, 0, 6, 0, 7, 15, 7, 3, 1, 0, 0, 1, 16, 0, 1, 0, 0, 1, 7, 3, 2, 0, 0, 6, 15, 4, 3, 19, 1, 2, 161, 0, 0, 3, 4, 6, 0, 0, 2, 1, 2, 65, 12, 2, 0, 1, 0, 0, 1, 3, 0, 11, 4, 4, 1, 0, 1, 0, 5, 11, 12, 0, 36, 0, 2, 1, 10, 1, 517, 2, 19, 2, 1, 2, 0]}, {\"domain\": {\"x\": [0.55, 1.0], \"y\": [0.0, 1.0]}, \"hole\": 0.4, \"hoverinfo\": \"label+value\", \"labels\": [\"LINE\", \"DNA\", \"DNA\", \"LINE\", \"LINE\", \"LINE\", \"LINE\", \"LTR\", \"LTR\", \"LTR\", \"LINE\", \"LTR\", \"LINE\", \"LINE\", \"LINE\", \"RC\", \"LINE\", \"LINE\", \"LINE\", \"LINE\", \"LINE\", \"LINE\", \"DNA\", \"LINE\", \"LINE\", \"LINE\", \"LINE\", \"LINE\", \"LINE\", \"LINE\", \"LINE\", \"LINE\", \"LINE\", \"LTR\", \"LTR\", \"LINE\", \"RC\", \"LINE\", \"LTR\", \"DNA\", \"LINE\", \"LINE\", \"LINE\", \"LINE\", \"DNA\", \"DNA\", \"DNA\", \"DNA\", \"DNA\", \"DNA\", \"DNA\", \"DNA\", \"DNA\", \"DNA\", \"DNA\", \"LINE\", \"LINE\", \"LINE\", \"DNA\", \"LTR\", \"LINE\", \"LINE\", \"LINE\", \"DNA\", \"DNA\", \"LTR\", \"DNA\", \"DNA\", \"DNA\", \"DNA\", \"DNA\", \"DNA\", \"DNA\", \"LTR\", \"LTR\", \"LTR\", \"LTR\", \"LTR\", \"LTR\", \"LTR\", \"LTR\", \"LTR\", \"LTR\", \"LTR\", \"LTR\", \"LTR\", \"LTR\", \"LTR\", \"LTR\", \"LTR\", \"LTR\", \"LTR\", \"LTR\", \"LTR\", \"LTR\", \"LTR\", \"LTR\", \"LTR\", \"LTR\", \"LTR\", \"LTR\", \"LTR\", \"LTR\", \"LTR\", \"LTR\", \"LTR\", \"LTR\", \"LTR\", \"LTR\", \"LTR\", \"LTR\", \"LTR\", \"LTR\", \"LTR\", \"LTR\", \"LTR\", \"LTR\", \"LTR\", \"LTR\", \"LTR\", \"LTR\", \"LTR\", \"LTR\", \"LTR\", \"LTR\", \"LTR\", \"LTR\", \"LTR\", \"LTR\", \"LTR\", \"LTR\"], \"name\": \"Male\", \"textinfo\": \"value\", \"type\": \"pie\", \"values\": [13, 5, 0, 3, 10, 9, 1, 31, 14, 5, 117, 28, 25, 17, 1, 43, 28, 33, 23, 14, 3, 15, 82, 29, 32, 1, 9, 48, 70, 5, 2, 0, 15, 59, 13, 0, 0, 785, 4, 1, 47, 1, 104, 28, 1, 67, 61, 0, 0, 0, 30, 0, 21, 5, 6, 0, 0, 0, 14, 0, 668, 210, 260, 0, 0, 0, 0, 151, 7, 1, 2, 0, 1, 31, 13, 2, 15, 27, 4, 179, 1, 58, 2, 22, 20, 9, 310, 75, 3, 43, 35, 17, 4, 42, 2, 517, 1, 97, 34, 15, 1, 9, 1, 4, 2, 8, 24, 160, 65, 5, 6, 6, 3, 1, 8, 40, 23, 8, 51, 10, 599, 3, 168, 4, 199, 5, 27, 9, 6, 71, 116]}],                        {\"annotations\": [{\"font\": {\"size\": 20}, \"showarrow\": false, \"text\": \"Female\", \"x\": 0.19, \"y\": 0.5}, {\"font\": {\"size\": 20}, \"showarrow\": false, \"text\": \"Male\", \"x\": 0.8, \"y\": 0.5}], \"height\": 500, \"template\": {\"data\": {\"bar\": [{\"error_x\": {\"color\": \"#2a3f5f\"}, \"error_y\": {\"color\": \"#2a3f5f\"}, \"marker\": {\"line\": {\"color\": \"#E5ECF6\", \"width\": 0.5}}, \"type\": \"bar\"}], \"barpolar\": [{\"marker\": {\"line\": {\"color\": \"#E5ECF6\", \"width\": 0.5}}, \"type\": \"barpolar\"}], \"carpet\": [{\"aaxis\": {\"endlinecolor\": \"#2a3f5f\", \"gridcolor\": \"white\", \"linecolor\": \"white\", \"minorgridcolor\": \"white\", \"startlinecolor\": \"#2a3f5f\"}, \"baxis\": {\"endlinecolor\": \"#2a3f5f\", \"gridcolor\": \"white\", \"linecolor\": \"white\", \"minorgridcolor\": \"white\", \"startlinecolor\": \"#2a3f5f\"}, \"type\": \"carpet\"}], \"choropleth\": [{\"colorbar\": {\"outlinewidth\": 0, \"ticks\": \"\"}, \"type\": \"choropleth\"}], \"contour\": [{\"colorbar\": {\"outlinewidth\": 0, \"ticks\": \"\"}, \"colorscale\": [[0.0, \"#0d0887\"], [0.1111111111111111, \"#46039f\"], [0.2222222222222222, \"#7201a8\"], [0.3333333333333333, \"#9c179e\"], [0.4444444444444444, \"#bd3786\"], [0.5555555555555556, \"#d8576b\"], [0.6666666666666666, \"#ed7953\"], [0.7777777777777778, \"#fb9f3a\"], [0.8888888888888888, \"#fdca26\"], [1.0, \"#f0f921\"]], \"type\": \"contour\"}], \"contourcarpet\": [{\"colorbar\": {\"outlinewidth\": 0, \"ticks\": \"\"}, \"type\": \"contourcarpet\"}], \"heatmap\": [{\"colorbar\": {\"outlinewidth\": 0, \"ticks\": \"\"}, \"colorscale\": [[0.0, \"#0d0887\"], [0.1111111111111111, \"#46039f\"], [0.2222222222222222, \"#7201a8\"], [0.3333333333333333, \"#9c179e\"], [0.4444444444444444, \"#bd3786\"], [0.5555555555555556, \"#d8576b\"], [0.6666666666666666, \"#ed7953\"], [0.7777777777777778, \"#fb9f3a\"], [0.8888888888888888, \"#fdca26\"], [1.0, \"#f0f921\"]], \"type\": \"heatmap\"}], \"heatmapgl\": [{\"colorbar\": {\"outlinewidth\": 0, \"ticks\": \"\"}, \"colorscale\": [[0.0, \"#0d0887\"], [0.1111111111111111, \"#46039f\"], [0.2222222222222222, \"#7201a8\"], [0.3333333333333333, \"#9c179e\"], [0.4444444444444444, \"#bd3786\"], [0.5555555555555556, \"#d8576b\"], [0.6666666666666666, \"#ed7953\"], [0.7777777777777778, \"#fb9f3a\"], [0.8888888888888888, \"#fdca26\"], [1.0, \"#f0f921\"]], \"type\": \"heatmapgl\"}], \"histogram\": [{\"marker\": {\"colorbar\": {\"outlinewidth\": 0, \"ticks\": \"\"}}, \"type\": \"histogram\"}], \"histogram2d\": [{\"colorbar\": {\"outlinewidth\": 0, \"ticks\": \"\"}, \"colorscale\": [[0.0, \"#0d0887\"], [0.1111111111111111, \"#46039f\"], [0.2222222222222222, \"#7201a8\"], [0.3333333333333333, \"#9c179e\"], [0.4444444444444444, \"#bd3786\"], [0.5555555555555556, \"#d8576b\"], [0.6666666666666666, \"#ed7953\"], [0.7777777777777778, \"#fb9f3a\"], [0.8888888888888888, \"#fdca26\"], [1.0, \"#f0f921\"]], \"type\": \"histogram2d\"}], \"histogram2dcontour\": [{\"colorbar\": {\"outlinewidth\": 0, \"ticks\": \"\"}, \"colorscale\": [[0.0, \"#0d0887\"], [0.1111111111111111, \"#46039f\"], [0.2222222222222222, \"#7201a8\"], [0.3333333333333333, \"#9c179e\"], [0.4444444444444444, \"#bd3786\"], [0.5555555555555556, \"#d8576b\"], [0.6666666666666666, \"#ed7953\"], [0.7777777777777778, \"#fb9f3a\"], [0.8888888888888888, \"#fdca26\"], [1.0, \"#f0f921\"]], \"type\": \"histogram2dcontour\"}], \"mesh3d\": [{\"colorbar\": {\"outlinewidth\": 0, \"ticks\": \"\"}, \"type\": \"mesh3d\"}], \"parcoords\": [{\"line\": {\"colorbar\": {\"outlinewidth\": 0, \"ticks\": \"\"}}, \"type\": \"parcoords\"}], \"pie\": [{\"automargin\": true, \"type\": \"pie\"}], \"scatter\": [{\"marker\": {\"colorbar\": {\"outlinewidth\": 0, \"ticks\": \"\"}}, \"type\": \"scatter\"}], \"scatter3d\": [{\"line\": {\"colorbar\": {\"outlinewidth\": 0, \"ticks\": \"\"}}, \"marker\": {\"colorbar\": {\"outlinewidth\": 0, \"ticks\": \"\"}}, \"type\": \"scatter3d\"}], \"scattercarpet\": [{\"marker\": {\"colorbar\": {\"outlinewidth\": 0, \"ticks\": \"\"}}, \"type\": \"scattercarpet\"}], \"scattergeo\": [{\"marker\": {\"colorbar\": {\"outlinewidth\": 0, \"ticks\": \"\"}}, \"type\": \"scattergeo\"}], \"scattergl\": [{\"marker\": {\"colorbar\": {\"outlinewidth\": 0, \"ticks\": \"\"}}, \"type\": \"scattergl\"}], \"scattermapbox\": [{\"marker\": {\"colorbar\": {\"outlinewidth\": 0, \"ticks\": \"\"}}, \"type\": \"scattermapbox\"}], \"scatterpolar\": [{\"marker\": {\"colorbar\": {\"outlinewidth\": 0, \"ticks\": \"\"}}, \"type\": \"scatterpolar\"}], \"scatterpolargl\": [{\"marker\": {\"colorbar\": {\"outlinewidth\": 0, \"ticks\": \"\"}}, \"type\": \"scatterpolargl\"}], \"scatterternary\": [{\"marker\": {\"colorbar\": {\"outlinewidth\": 0, \"ticks\": \"\"}}, \"type\": \"scatterternary\"}], \"surface\": [{\"colorbar\": {\"outlinewidth\": 0, \"ticks\": \"\"}, \"colorscale\": [[0.0, \"#0d0887\"], [0.1111111111111111, \"#46039f\"], [0.2222222222222222, \"#7201a8\"], [0.3333333333333333, \"#9c179e\"], [0.4444444444444444, \"#bd3786\"], [0.5555555555555556, \"#d8576b\"], [0.6666666666666666, \"#ed7953\"], [0.7777777777777778, \"#fb9f3a\"], [0.8888888888888888, \"#fdca26\"], [1.0, \"#f0f921\"]], \"type\": \"surface\"}], \"table\": [{\"cells\": {\"fill\": {\"color\": \"#EBF0F8\"}, \"line\": {\"color\": \"white\"}}, \"header\": {\"fill\": {\"color\": \"#C8D4E3\"}, \"line\": {\"color\": \"white\"}}, \"type\": \"table\"}]}, \"layout\": {\"annotationdefaults\": {\"arrowcolor\": \"#2a3f5f\", \"arrowhead\": 0, \"arrowwidth\": 1}, \"autotypenumbers\": \"strict\", \"coloraxis\": {\"colorbar\": {\"outlinewidth\": 0, \"ticks\": \"\"}}, \"colorscale\": {\"diverging\": [[0, \"#8e0152\"], [0.1, \"#c51b7d\"], [0.2, \"#de77ae\"], [0.3, \"#f1b6da\"], [0.4, \"#fde0ef\"], [0.5, \"#f7f7f7\"], [0.6, \"#e6f5d0\"], [0.7, \"#b8e186\"], [0.8, \"#7fbc41\"], [0.9, \"#4d9221\"], [1, \"#276419\"]], \"sequential\": [[0.0, \"#0d0887\"], [0.1111111111111111, \"#46039f\"], [0.2222222222222222, \"#7201a8\"], [0.3333333333333333, \"#9c179e\"], [0.4444444444444444, \"#bd3786\"], [0.5555555555555556, \"#d8576b\"], [0.6666666666666666, \"#ed7953\"], [0.7777777777777778, \"#fb9f3a\"], [0.8888888888888888, \"#fdca26\"], [1.0, \"#f0f921\"]], \"sequentialminus\": [[0.0, \"#0d0887\"], [0.1111111111111111, \"#46039f\"], [0.2222222222222222, \"#7201a8\"], [0.3333333333333333, \"#9c179e\"], [0.4444444444444444, \"#bd3786\"], [0.5555555555555556, \"#d8576b\"], [0.6666666666666666, \"#ed7953\"], [0.7777777777777778, \"#fb9f3a\"], [0.8888888888888888, \"#fdca26\"], [1.0, \"#f0f921\"]]}, \"colorway\": [\"#636efa\", \"#EF553B\", \"#00cc96\", \"#ab63fa\", \"#FFA15A\", \"#19d3f3\", \"#FF6692\", \"#B6E880\", \"#FF97FF\", \"#FECB52\"], \"font\": {\"color\": \"#2a3f5f\"}, \"geo\": {\"bgcolor\": \"white\", \"lakecolor\": \"white\", \"landcolor\": \"#E5ECF6\", \"showlakes\": true, \"showland\": true, \"subunitcolor\": \"white\"}, \"hoverlabel\": {\"align\": \"left\"}, \"hovermode\": \"closest\", \"mapbox\": {\"style\": \"light\"}, \"paper_bgcolor\": \"white\", \"plot_bgcolor\": \"#E5ECF6\", \"polar\": {\"angularaxis\": {\"gridcolor\": \"white\", \"linecolor\": \"white\", \"ticks\": \"\"}, \"bgcolor\": \"#E5ECF6\", \"radialaxis\": {\"gridcolor\": \"white\", \"linecolor\": \"white\", \"ticks\": \"\"}}, \"scene\": {\"xaxis\": {\"backgroundcolor\": \"#E5ECF6\", \"gridcolor\": \"white\", \"gridwidth\": 2, \"linecolor\": \"white\", \"showbackground\": true, \"ticks\": \"\", \"zerolinecolor\": \"white\"}, \"yaxis\": {\"backgroundcolor\": \"#E5ECF6\", \"gridcolor\": \"white\", \"gridwidth\": 2, \"linecolor\": \"white\", \"showbackground\": true, \"ticks\": \"\", \"zerolinecolor\": \"white\"}, \"zaxis\": {\"backgroundcolor\": \"#E5ECF6\", \"gridcolor\": \"white\", \"gridwidth\": 2, \"linecolor\": \"white\", \"showbackground\": true, \"ticks\": \"\", \"zerolinecolor\": \"white\"}}, \"shapedefaults\": {\"line\": {\"color\": \"#2a3f5f\"}}, \"ternary\": {\"aaxis\": {\"gridcolor\": \"white\", \"linecolor\": \"white\", \"ticks\": \"\"}, \"baxis\": {\"gridcolor\": \"white\", \"linecolor\": \"white\", \"ticks\": \"\"}, \"bgcolor\": \"#E5ECF6\", \"caxis\": {\"gridcolor\": \"white\", \"linecolor\": \"white\", \"ticks\": \"\"}}, \"title\": {\"x\": 0.05}, \"xaxis\": {\"automargin\": true, \"gridcolor\": \"white\", \"linecolor\": \"white\", \"ticks\": \"\", \"title\": {\"standoff\": 15}, \"zerolinecolor\": \"white\", \"zerolinewidth\": 2}, \"yaxis\": {\"automargin\": true, \"gridcolor\": \"white\", \"linecolor\": \"white\", \"ticks\": \"\", \"title\": {\"standoff\": 15}, \"zerolinecolor\": \"white\", \"zerolinewidth\": 2}}}, \"title\": {\"text\": \"Subclass expression profile\"}, \"width\": 1200},                        {\"responsive\": true}                    ).then(function(){\n                            \nvar gd = document.getElementById('eb44ba61-80e2-46f4-b862-ba0a07211065');\nvar x = new MutationObserver(function (mutations, observer) {{\n        var display = window.getComputedStyle(gd).display;\n        if (!display || display === 'none') {{\n            console.log([gd, 'removed!']);\n            Plotly.purge(gd);\n            observer.disconnect();\n        }}\n}});\n\n// Listen for the removal of the full notebook cells\nvar notebookContainer = gd.closest('#notebook-container');\nif (notebookContainer) {{\n    x.observe(notebookContainer, {childList: true});\n}}\n\n// Listen for the clearing of the current output cell\nvar outputEl = gd.closest('.output');\nif (outputEl) {{\n    x.observe(outputEl, {childList: true});\n}}\n\n                        })                };                });            </script>        </div>"
     },
     "metadata": {}
    }
   ],
   "source": [
    "plot_TE_expression_profile_by_superfamily(TE_data_table)"
   ]
  }
 ]
}