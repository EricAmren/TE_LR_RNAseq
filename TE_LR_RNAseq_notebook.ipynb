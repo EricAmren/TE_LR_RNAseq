{
 "metadata": {
  "language_info": {
   "codemirror_mode": {
    "name": "ipython",
    "version": 3
   },
   "file_extension": ".py",
   "mimetype": "text/x-python",
   "name": "python",
   "nbconvert_exporter": "python",
   "pygments_lexer": "ipython3",
   "version": "3.9.1-final"
  },
  "orig_nbformat": 2,
  "kernelspec": {
   "name": "python3",
   "display_name": "Python 3.9.1 64-bit",
   "metadata": {
    "interpreter": {
     "hash": "31f2aee4e71d21fbe5cf8b01ff0e069b9275f58929596ceb00d14d90e3e16cd6"
    }
   }
  }
 },
 "nbformat": 4,
 "nbformat_minor": 2,
 "cells": [
  {
   "cell_type": "code",
   "execution_count": 21,
   "metadata": {},
   "outputs": [],
   "source": [
    "# DEPENDENCIES\n",
    "\n",
    "import pysam\n",
    "import pandas as pd\n",
    "import HTSeq\n",
    "\n",
    "# GLOBAL VARS\n",
    "\n",
    "FC30_DMGOTH_BAMFILE = \"/data2/eric/TE_LR_RNAseq/data/dmgoth101_genome_alignments/bam/FC30.against_dmgoth.bam\"\n",
    "FC29_DMGOTH_BAMFILE = \"/data2/eric/TE_LR_RNAseq/data/dmgoth101_genome_alignments/bam/FC29.against_dmgoth.bam\"\n",
    "FC30_DMGOTH_SUBSET_BAMFILE = \"/data2/eric/TE_LR_RNAseq/data/dmgoth101_genome_alignments/bam/FC30.subset.against_dmgoth.bam\"\n",
    "FC30_DMGOTH_SUBSET_MAX_AS_BAMFILE = \"/data2/eric/TE_LR_RNAseq/data/dmgoth101_genome_alignments/bam/FC30.subset.against_dmgoth.filtered.bam\"\n",
    "\n",
    "REPEATMASKER_TE_ANNOTATIONS = \"/data2/eric/TE_LR_RNAseq/data/dmgoth101_genome_alignments/annotations/dmgoth101.onecode.v2.gtf\"\n",
    "DMGOTH_GENE_ANNOTATIONS = \"/data2/eric/TE_LR_RNAseq/data/dmgoth101_genome_alignments/annotations/Dm_Goth_10-1.dmel6.23LiftOff.sorted.gff\""
   ]
  },
  {
   "cell_type": "code",
   "execution_count": 6,
   "metadata": {},
   "outputs": [
    {
     "output_type": "execute_result",
     "data": {
      "text/plain": [
       "<pysam.libcalignmentfile.IteratorRowSelection at 0x7fd882b036d0>"
      ]
     },
     "metadata": {},
     "execution_count": 6
    }
   ],
   "source": [
    "alignment_index.find(\"ceafd9ce-643e-4b66-835a-5af47d256ce1\")"
   ]
  },
  {
   "cell_type": "code",
   "execution_count": 11,
   "metadata": {},
   "outputs": [],
   "source": [
    "def build_index(bamfile):\n",
    "    bam = pysam.AlignmentFile(bamfile, 'rb')\n",
    "    read_index = pysam.IndexedReads(bam)\n",
    "    read_index.build()\n",
    "    return read_index\n",
    "\n",
    "def get_query_names(bamfile):\n",
    "    query_names = []\n",
    "    with pysam.AlignmentFile(bamfile, 'rb') as bam:\n",
    "        for ali in bam:\n",
    "            query_names.append(ali.query_name)\n",
    "    return set(query_names)\n"
   ]
  },
  {
   "cell_type": "code",
   "execution_count": 20,
   "metadata": {},
   "outputs": [],
   "source": [
    "# Filter out reads : \n",
    "\n",
    "## We filter unmapped, supplementary, and reads with non-optimal AS score.\n",
    "\n",
    "def filter_max_AS_reads(bamfile, output_bamfile):\n",
    "    query_names = get_query_names(bamfile)\n",
    "    read_index = build_index(bamfile)\n",
    "    with pysam.AlignmentFile(output_bamfile, 'wb', template = pysam.AlignmentFile(bamfile,'rb')) as output:\n",
    "        for read in query_names:\n",
    "            ali_list = read_index.find(read)\n",
    "            max_AS = 0\n",
    "            primary_and_secondary_alignments = [ali for ali in ali_list if not (ali.is_unmapped or ali.is_supplementary)]\n",
    "            if primary_and_secondary_alignments :\n",
    "                max_AS = max([ali.get_tag('AS') for ali in primary_and_secondary_alignments])\n",
    "                max_AS_alignments = [ali for ali in primary_and_secondary_alignments if ali.get_tag('AS') == max_AS]\n",
    "                for ali in max_AS_alignments:\n",
    "                    output.write(ali)\n",
    "    return output_bamfile\n",
    "filter_max_AS_reads(FC30_DMGOTH_SUBSET_BAMFILE, FC30_DMGOTH_SUBSET_MAX_AS_BAMFILE)\n"
   ]
  },
  {
   "cell_type": "code",
   "execution_count": 44,
   "metadata": {},
   "outputs": [],
   "source": [
    "class TransposableElementInsertion:\n",
    "    def __init__(self, insertion_id, chrom, start, end):\n",
    "        self.id = insertion_id\n",
    "        self.chrom = chrom\n",
    "        self.start = start\n",
    "        self.end = end\n",
    "        self.alignments = []\n",
    "\n",
    "        \n",
    "\n"
   ]
  },
  {
   "cell_type": "code",
   "execution_count": 45,
   "metadata": {},
   "outputs": [],
   "source": [
    "def initiate_transposable_element_family_dict(annotations):\n",
    "    transposable_element_family_dict = {}\n",
    "    with open(annotations) as annot:\n",
    "        for line in annot:\n",
    "            splitted_line = line.strip().split(\"\\t\")\n",
    "            chrom, start, end = [splitted_line[i] for i in [0, 3, 4]]\n",
    "            ids = splitted_line[-1].split('\"')\n",
    "            family_name = ids[1]\n",
    "            new_insertion = TransposableElementInsertion(ids[3], chrom, start, end)\n",
    "            if family_name not in transposable_element_family_dict:\n",
    "                transposable_element_family_dict[family_name] = []\n",
    "            transposable_element_family_dict[family_name].append(new_insertion)\n",
    "    return transposable_element_family_dict\n",
    "FC30_SUBSET_FAMILY_DICT = initiate_transposable_element_family_dict(REPEATMASKER_TE_ANNOTATIONS)"
   ]
  },
  {
   "cell_type": "code",
   "execution_count": 50,
   "metadata": {},
   "outputs": [
    {
     "output_type": "stream",
     "name": "stdout",
     "text": [
      "IVK_DM_2L_RaGOO_1_356\nDM297_I_2L_RaGOO_366_2025\nTAHRE_2L_RaGOO_4083_4246\nTART-A_2L_RaGOO_4304_8214\nHETA_2L_RaGOO_5123_5232\nMDG1_LTR_2L_RaGOO_8208_9729\nZAM_I_2L_RaGOO_10009_10694\nQUASIMODO_LTR_2L_RaGOO_10703_23126\nCopia_LTR_2L_RaGOO_12650_17604\nQUASIMODO_I_2L_RaGOO_23127_26120\nBLASTOPIA_I_2L_RaGOO_26796_29201\nHOBO_2L_RaGOO_29304_30758\nM4DM_2L_RaGOO_30759_32079\nIDEFIX_LTR_2L_RaGOO_76396_76529\nDNAREP1_DM_2L_RaGOO_76559_76663\nBS2_2L_RaGOO_128782_129373\nQUASIMODO2-LTR_DM_2L_RaGOO_187955_188043\nI_DM_2L_RaGOO_241126_241241\nROO_I_2L_RaGOO_279695_279751\nROO_LTR_2L_RaGOO_833659_841384\nFW2_DM_2L_RaGOO_1444418_1448277\nIDEFIX_I_2L_RaGOO_1826802_1833031\nBS_2L_RaGOO_1957044_1957171\nBLOOD_LTR_2L_RaGOO_2148055_2155527\nTRANSPAC_LTR_2L_RaGOO_2221225_2226474\nPOGO_2L_RaGOO_2955877_2958004\nDM412_2L_RaGOO_3096440_3096922\nLINEJ1_DM_2L_RaGOO_3156645_3161540\nPROTOP_B_2L_RaGOO_3199598_3199632\nNOMAD_LTR_2L_RaGOO_3400786_3408481\nACCORD2_I_2L_RaGOO_3969176_3969396\nMICROPIA_I_2L_RaGOO_3970137_3974092\nFB4_DM_2L_RaGOO_4214299_4214350\nDM297_LTR_2L_RaGOO_4310346_4316635\nGypsy11_I_2L_RaGOO_4444299_4444334\nBURDOCK_LTR_2L_RaGOO_4499214_4501787\nG2_DM_2L_RaGOO_4807935_4807988\nTART_B1_2L_RaGOO_4843726_4843804\nS2_DM_2L_RaGOO_4991174_4991386\nBLOOD_I_2L_RaGOO_5991381_5991427\nS_DM_2L_RaGOO_6107470_6107859\nDM1731_LTR_2L_RaGOO_6946565_6946632\nMDG1_I_2L_RaGOO_6947804_6947854\nPOGON1_2L_RaGOO_7688088_7688278\nNOF_FB_2L_RaGOO_7956647_7956706\nG4_DM_2L_RaGOO_8726783_8726938\nDOC6_DM_2L_RaGOO_8926966_8931176\nDMRT1A_2L_RaGOO_9115049_9117321\nDOC_2L_RaGOO_9310102_9314822\nMDG3_LTR_2L_RaGOO_9410285_9415840\nPROTOP_A_2L_RaGOO_9736835_9736878\nBARI1_2L_RaGOO_9973991_9974049\nDMRT1B_2L_RaGOO_10125034_10130138\nDMCR1A_2L_RaGOO_10942055_10942203\nStalker2_LTR_2L_RaGOO_11737120_11737158\nDIVER_LTR_2L_RaGOO_14805095_14811207\nG5A_DM_2L_RaGOO_15063174_15063251\nTransib-N1_DM_2L_RaGOO_15191260_15191320\nBS3_DM_2L_RaGOO_15945359_15945446\nDOC4_DM_2L_RaGOO_16629887_16632082\nR1_DM_2L_RaGOO_17786626_17786841\nTC1_DM_2L_RaGOO_17845818_17846416\nGypsy6A_LTR_2L_RaGOO_18412957_18413236\nDOC3_DM_2L_RaGOO_18442083_18442136\nPROTOP_2L_RaGOO_19412800_19416205\nG_DM_2L_RaGOO_19775335_19775827\nG6_DM_2L_RaGOO_19775873_19777005\nG5_DM_2L_RaGOO_19782576_19782857\nTC1-2_DM_2L_RaGOO_19783547_19784085\nTransib5_2L_RaGOO_19784082_19785282\nJockey2_2L_RaGOO_19789399_19789611\nCopia2_LTR_DM_2L_RaGOO_19790733_19790769\nHELENA_RT_2L_RaGOO_19824472_19825491\nInvader3_LTR_2L_RaGOO_19826007_19826339\nTRANSIB1_2L_RaGOO_19829206_19829336\nInvader4_I_2L_RaGOO_19830616_19832818\nTRANSIB2_2L_RaGOO_19831876_19832224\nInvader3_I_2L_RaGOO_19835743_19836854\nInvader2_LTR_2L_RaGOO_19838920_19839184\nDMLTR5_2L_RaGOO_20224644_20231354\nSTALKER4_LTR_2L_RaGOO_20261276_20261652\nDMRT1C_2L_RaGOO_20262641_20264263\nMAX_I_2L_RaGOO_20264288_20264366\nChimpo_LTR_2L_RaGOO_20545013_20545218\nTIRANT_LTR_2L_RaGOO_20669409_20674055\nCopia1-I_DM_2L_RaGOO_20757396_20757650\nBaggins1_2L_RaGOO_20875239_20877357\nInvader4_LTR_2L_RaGOO_20931476_20931812\nMariner2_DM_2L_RaGOO_20959920_20960114\nDOC2_DM_2L_RaGOO_21006642_21006756\nGTWIN_I_2L_RaGOO_21030362_21031533\nDM412B_LTR_2L_RaGOO_21046372_21046764\nGypsy6_LTR_2L_RaGOO_21046808_21046852\nBEL_I_2L_RaGOO_21054595_21061040\nGypsy5_I_2L_RaGOO_21056550_21056775\nDIVER2_I_2L_RaGOO_21061389_21061449\nFW3_DM_2L_RaGOO_21062069_21062104\nBATUMI_I_2L_RaGOO_21072560_21073336\nGypsy4_I_2L_RaGOO_21073724_21074513\nGypsy9_I_2L_RaGOO_21074619_21074729\nInvader6_LTR_2L_RaGOO_21088956_21089341\nGypsy12A_LTR_2L_RaGOO_21095856_21097546\nGypsy1-LTR_DM_2L_RaGOO_21103966_21104246\nCIRCE_2L_RaGOO_21118081_21120425\nChouto_I_2L_RaGOO_21123770_21123948\nNINJA_I_2L_RaGOO_21129065_21129351\nGypsy8_I_2L_RaGOO_21162599_21162767\nInvader1_LTR_2L_RaGOO_21174244_21174612\nDM176_LTR_2L_RaGOO_21227096_21227265\nGTWIN_LTR_2L_RaGOO_21249700_21250020\nCopia1-LTR_DM_2L_RaGOO_21442180_21442382\nTABOR_I_2L_RaGOO_21536938_21536978\nInvader6_I_2L_RaGOO_21606926_21607153\nGypsy_I_2L_RaGOO_21678736_21678882\nDIVER2_LTR_2L_RaGOO_21718905_21719290\nG3_DM_2L_RaGOO_21721006_21729491\nTRANSIB4_2L_RaGOO_21731155_21731572\nBica_LTR_2L_RaGOO_21731573_21736296\nInvader1_I_2L_RaGOO_21745515_21745779\nTLD2_2L_RaGOO_21769131_21769207\nInvader2_I_2L_RaGOO_21769412_21769625\nGypsy12_LTR_2L_RaGOO_21785070_21794924\nGypsy4_LTR_2L_RaGOO_21791702_21792670\nGypsy12_I_2L_RaGOO_21803535_21804990\nHMSBEAGLE_I_2L_RaGOO_21811324_21811419\nFROGGER_LTR_2L_RaGOO_21825655_21828138\nInvader5_I_2L_RaGOO_21843825_21845567\nTRANSIB3_2L_RaGOO_21845568_21846949\nInvader5_LTR_2L_RaGOO_21846950_21847107\nGypsy2-LTR_DM_2L_RaGOO_21849305_21856662\nGypsy2-I_DM_2L_RaGOO_21887611_21887728\nGypsy8_LTR_2L_RaGOO_21912816_21921694\nSTALKER4_I_2L_RaGOO_21913834_21920333\nNINJA_LTR_2L_RaGOO_21977853_21977933\nDIVER_I_2L_RaGOO_21980727_21980874\nTIRANT_I_2L_RaGOO_22001891_22002006\nDOC5_DM_2L_RaGOO_22035095_22036781\nDMTOM1_LTR_2L_RaGOO_22038838_22038981\nDM1731_I_2L_RaGOO_22091831_22093304\nLOOPER1_DM_2L_RaGOO_22123162_22123278\nGypsy7_LTR_2L_RaGOO_22131610_22131778\nGypsy2_I_2L_RaGOO_22173341_22176165\nGypsy2_LTR_2L_RaGOO_22176169_22176338\nR1-2_DM_2L_RaGOO_22181120_22181573\nCopia_I_2L_RaGOO_22226782_22227028\nBURDOCK_I_2L_RaGOO_22230388_22235886\nGypsy3_I_2L_RaGOO_22237807_22238181\nGypsy10_I_2L_RaGOO_22267491_22267731\nTOM_I_2L_RaGOO_22297597_22298425\nNOMAD_I_2L_RaGOO_22315750_22316143\nBARI_DM_2L_RaGOO_22317991_22318048\nROOA_LTR_2L_RaGOO_22371191_22371489\nMINOS_2L_RaGOO_22420712_22420818\nMuDR-1_DEl_2L_RaGOO_22442442_22442556\nACCORD2_LTR_2L_RaGOO_22466183_22467557\nDM176_I_2L_RaGOO_22475256_22486743\nGypsy6_I_2L_RaGOO_22514116_22514922\nROOA_I_2L_RaGOO_22514950_22520026\nMICROPIA_LTR_2L_RaGOO_22526174_22526676\nCopia2_I_2L_RaGOO_22526932_22529014\nZAM_LTR_2L_RaGOO_22600310_22600371\nStalker2_I_2L_RaGOO_22605261_22605336\nQUASIMODO2-I_DM_2L_RaGOO_22608449_22614803\nGypsy_LTR_2L_RaGOO_22614836_22615029\nACCORD_LTR_2L_RaGOO_22631471_22632026\nBEL_LTR_2L_RaGOO_22687009_22692185\nROVER-LTR_DM_2R_RaGOO_14710_15009\nBica_I_2R_RaGOO_136819_136929\nMAX_LTR_2R_RaGOO_137030_138260\nGypsy5_LTR_2R_RaGOO_146429_146728\nROVER-I_DM_2R_RaGOO_257575_263147\nFROGGER_I_2R_RaGOO_468208_468259\nACCORD_I_2R_RaGOO_481270_481337\nStalker3_LTR_2R_RaGOO_632069_632456\nGypsy9_LTR_2R_RaGOO_847941_848083\nGypsy3_LTR_2R_RaGOO_979484_979533\nTABOR_LTR_2R_RaGOO_1109204_1109295\nGypsy10_LTR_2R_RaGOO_1223416_1229789\nBATUMI_LTR_2R_RaGOO_1365572_1365770\nP-1_DY_2R_RaGOO_1443715_1443848\nGypsy11_LTR_2R_RaGOO_1478181_1482030\nGypsy1-I_DM_2R_RaGOO_1543705_1544654\nBS4_DM_2R_RaGOO_1899007_1899746\nChouto_LTR_2R_RaGOO_2008921_2009533\nTRANSPAC_I_2R_RaGOO_2176840_2177158\nG7_DM_2R_RaGOO_2505847_2506252\nBLASTOPIA_LTR_2R_RaGOO_2878638_2883652\nMDG3_I_2R_RaGOO_4203553_4205161\nR2_DM_3L_RaGOO_1508678_1508741\nPLACW_DM_3L_RaGOO_13917593_13918520\nGypsy7_I_3L_RaGOO_23826758_23829919\nChimpo_I_3L_RaGOO_24683105_24684455\nRehavkus-1_DY_4_RaGOO_569164_569238\nHelitron1_DM_X_RaGOO_21992722_21993285\n"
     ]
    }
   ],
   "source": [
    "def match_reads_with_insertions(bamfile, family_dict):\n",
    "    with AlignmentFile(bamfile, 'rb') as bam:\n",
    "        for family, insertion_list in family_dict.items():\n",
    "            for insertion in insertion_list:\n",
    "                bam.fetch(insertion.chrom, )\n",
    "                print(insertion.id)\n",
    "                break\n",
    "match_reads_with_insertions(FC30_DMGOTH_SUBSET_BAMFILE, FC30_SUBSET_FAMILY_DICT)"
   ]
  }
 ]
}