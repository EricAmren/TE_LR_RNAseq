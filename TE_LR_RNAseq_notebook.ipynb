{
 "cells": [
  {
   "cell_type": "code",
   "execution_count": 1,
   "source": [
    "# DEPENDENCIES\n",
    "\n",
    "import pysam\n",
    "import pandas as pd\n",
    "import HTSeq\n",
    "import GeneImage\n",
    "import plotly.express as px\n",
    "import plotly.graph_objects as go\n",
    "from plotly.subplots import make_subplots\n",
    "import matplotlib.pyplot as plt\n",
    "# from tqdm.notebook import tqdm, trange\n",
    "from tqdm import tqdm as tqdm\n",
    "import cProfile\n",
    "import plotly.io as pio\n",
    "pio.renderers.default = 'notebook_connected'\n",
    "import numpy as np\n",
    "\n",
    "# GLOBAL VARS\n",
    "\n",
    "FC30_DMGOTH_BAMFILE = \"/data2/eric/TE_LR_RNAseq/data/dmgoth101_genome_alignments/bam/FC30.against_dmgoth.bam\"\n",
    "FC30_DMGOTH_MAX_AS_BAMFILE = \"/data2/eric/TE_LR_RNAseq/data/dmgoth101_genome_alignments/bam/FC30.against_dmgoth.filtered_max_AS.bam\"\n",
    "FC30_DMGOTH_MAX_AS_PRIMARY_ONLY_BAMFILE =\"/data2/eric/TE_LR_RNAseq/data/dmgoth101_genome_alignments/bam/FC30.against_dmgoth.filtered_max_AS.primary_only.bam\"\n",
    "\n",
    "FC29_DMGOTH_BAMFILE = \"/data2/eric/TE_LR_RNAseq/data/dmgoth101_genome_alignments/bam/FC29.against_dmgoth.bam\"\n",
    "FC29_DMGOTH_MAX_AS_BAMFILE = \"/data2/eric/TE_LR_RNAseq/data/dmgoth101_genome_alignments/bam/FC29.against_dmgoth.filtered_max_AS.bam\"\n",
    "FC29_DMGOTH_MAX_AS_PRIMARY_ONLY_BAMFILE =\"/data2/eric/TE_LR_RNAseq/data/dmgoth101_genome_alignments/bam/FC29.against_dmgoth.filtered_max_AS.primary_only.bam\"\n",
    "\n",
    "FC30_DMGOTH_SUBSET_BAMFILE = \"/data2/eric/TE_LR_RNAseq/data/dmgoth101_genome_alignments/bam/FC30.subset.against_dmgoth.bam\"\n",
    "FC30_DMGOTH_SUBSET_MAX_AS_BAMFILE = \"/data2/eric/TE_LR_RNAseq/data/dmgoth101_genome_alignments/bam/FC30.subset.against_dmgoth.filtered.bam\"\n",
    "\n",
    "REPEATMASKER_TE_ANNOTATIONS = \"/data2/eric/TE_LR_RNAseq/data/dmgoth101_genome_alignments/annotations/dmgoth101.onecode.v2.gtf\"\n",
    "DMGOTH_GENE_ANNOTATIONS = \"/data2/eric/TE_LR_RNAseq/data/dmgoth101_genome_alignments/annotations/Dm_Goth_10-1.dmel6.23LiftOff.sorted.gff\"\n",
    "\n",
    "DFAM_TE_ANNOTATION = \"/data2/eric/TE_LR_RNAseq/data/families.flanked_LTR.hierarchy.fa\"\n",
    "\n",
    "INSERTION_TABLE = \"/data2/eric/TE_LR_RNAseq/data/dmgoth101_genome_alignments/insertion_table.tsv\""
   ],
   "outputs": [],
   "metadata": {}
  },
  {
   "cell_type": "code",
   "execution_count": 23,
   "source": [
    "def get_TE_hierarchy(consensus_fasta):\n",
    "    subclass_list = []\n",
    "    superfamily_list = []\n",
    "    family_list = []\n",
    "    with open(consensus_fasta, 'r') as consensus:\n",
    "        for line in consensus:\n",
    "            if line.startswith(\">\"):\n",
    "                family = line.split(\"#\")[0][1:]\n",
    "                subclass, superfamily= line.strip().split(\"#\")[1].split(\"/\")\n",
    "                subclass_list.append(subclass)\n",
    "                superfamily_list.append(superfamily)\n",
    "                family_list.append(family)\n",
    "    hierarchy_df = pd.DataFrame(list(zip(subclass_list, superfamily_list, family_list)), columns =['Subclass', 'Superfamily', 'Family'])\n",
    "    return hierarchy_df\n",
    "\n",
    "def manually_fix_hierarchy(hierarchy_df):\n",
    "    gypsy6A_row = {\"Subclass\":\"LTR\", \"Superfamily\":\"Gypsy\", \"Family\":\"Gypsy6A\"}\n",
    "    gypsy12A_row = {\"Subclass\":\"LTR\", \"Superfamily\":\"Gypsy\", \"Family\":\"Gypsy12A\"}\n",
    "    dm412B_row = {\"Subclass\":\"LTR\", \"Superfamily\":\"Gypsy\", \"Family\":\"DM412B\"}\n",
    "    hmsbeagle_row = {\"Subclass\":\"LTR\", \"Superfamily\":\"Gypsy\", \"Family\":\"HMSBEAGLE\"}\n",
    "    dmtom1_row = {\"Subclass\":\"LTR\", \"Superfamily\":\"Gypsy\", \"Family\":\"DMTOM1\"}\n",
    "    mudr1_row = {\"Subclass\":\"Unknown\", \"Superfamily\":\"Unknown\", \"Family\":\"MuDR-1_DEl\"}\n",
    "    stalker3_row = {\"Subclass\":\"LTR\", \"Superfamily\":\"Gypsy\", \"Family\":\"Stalker3\"}\n",
    "    P_row = {\"Subclass\":\"TIR\", \"Superfamily\":\"P\", \"Family\":\"P-1_DY\"}\n",
    "    rehavkus_row = {\"Subclass\":\"Unknown\", \"Superfamily\":\"Unknown\", \"Family\":\"Rehavkus-1_DY\"}\n",
    "    new_row_list = [gypsy6A_row, gypsy12A_row, dm412B_row, hmsbeagle_row, dmtom1_row, mudr1_row, stalker3_row, P_row,rehavkus_row]\n",
    "    for new_row in new_row_list :\n",
    "        hierarchy_df = hierarchy_df.append(new_row, ignore_index=True)\n",
    "    return hierarchy_df"
   ],
   "outputs": [],
   "metadata": {}
  },
  {
   "cell_type": "code",
   "execution_count": 24,
   "source": [
    "HIERARCHY_DF = get_TE_hierarchy(DFAM_TE_ANNOTATION)\n",
    "HIERARCHY_DF = manually_fix_hierarchy(HIERARCHY_DF)\n",
    "\n"
   ],
   "outputs": [],
   "metadata": {}
  },
  {
   "cell_type": "code",
   "execution_count": 25,
   "source": [
    "def get_TE_hierarchy(consensus_fasta):\n",
    "    subclass_list = []\n",
    "    superfamily_list = []\n",
    "    family_list = []\n",
    "    with open(consensus_fasta, 'r') as consensus:\n",
    "        for line in consensus:\n",
    "            if line.startswith(\">\"):\n",
    "                family = line.split(\"#\")[0][1:]\n",
    "                subclass, superfamily= line.strip().split(\"#\")[1].split(\"/\")\n",
    "                subclass_list.append(subclass)\n",
    "                superfamily_list.append(superfamily)\n",
    "                family_list.append(family)\n",
    "    hierarchy_df = pd.DataFrame(list(zip(subclass_list, superfamily_list, family_list)), columns =['Subclass', 'Superfamily', 'Family'])\n",
    "    return hierarchy_df\n",
    "\n",
    "def manually_fix_hierarchy(hierarchy_df):\n",
    "    gypsy6A_row = {\"Subclass\":\"LTR\", \"Superfamily\":\"Gypsy\", \"Family\":\"Gypsy6A\"}\n",
    "    gypsy12A_row = {\"Subclass\":\"LTR\", \"Superfamily\":\"Gypsy\", \"Family\":\"Gypsy12A\"}\n",
    "    dm412B_row = {\"Subclass\":\"LTR\", \"Superfamily\":\"Gypsy\", \"Family\":\"DM412B\"}\n",
    "    hmsbeagle_row = {\"Subclass\":\"LTR\", \"Superfamily\":\"Gypsy\", \"Family\":\"HMSBEAGLE\"}\n",
    "    dmtom1_row = {\"Subclass\":\"LTR\", \"Superfamily\":\"Gypsy\", \"Family\":\"DMTOM1\"}\n",
    "    mudr1_row = {\"Subclass\":\"Unknown\", \"Superfamily\":\"Unknown\", \"Family\":\"MuDR-1_DEl\"}\n",
    "    stalker3_row = {\"Subclass\":\"LTR\", \"Superfamily\":\"Gypsy\", \"Family\":\"Stalker3\"}\n",
    "    P_row = {\"Subclass\":\"TIR\", \"Superfamily\":\"P\", \"Family\":\"P-1_DY\"}\n",
    "    rehavkus_row = {\"Subclass\":\"Unknown\", \"Superfamily\":\"Unknown\", \"Family\":\"Rehavkus-1_DY\"}\n",
    "    new_row_list = [gypsy6A_row, gypsy12A_row, dm412B_row, hmsbeagle_row, dmtom1_row, mudr1_row, stalker3_row, P_row,rehavkus_row]\n",
    "    for new_row in new_row_list :\n",
    "        hierarchy_df = hierarchy_df.append(new_row, ignore_index=True)\n",
    "    return hierarchy_df"
   ],
   "outputs": [],
   "metadata": {}
  },
  {
   "cell_type": "code",
   "execution_count": 26,
   "source": [
    "### REBOOT\n",
    "def gene_id_to_family_name(gene_id):\n",
    "    family_name = gene_id\n",
    "    suffix_list = [\"_I\", \"-I_DM\", \"_I_DM\", \"_LTR\", \"-LTR_DM\", \"_LTR_DM\"]\n",
    "    for suffix in suffix_list:\n",
    "        if gene_id[-len(suffix):] == suffix:\n",
    "            family_name = gene_id[:-len(suffix)]\n",
    "            break\n",
    "    return family_name\n",
    "\n",
    "class TE_feature:\n",
    "    def __init__(self, chrom, start, end, gene_id, insertion_id):\n",
    "        self.chrom = chrom\n",
    "        self.start = start\n",
    "        self.end = end\n",
    "        # self.gene_id = gene_id\n",
    "        self.insertion_id = insertion_id\n",
    "        self.count = 0\n",
    "        self.family = gene_id_to_family_name(gene_id)\n",
    "        self.counted_reads = {}\n",
    "    \n",
    "    def __len__(self):\n",
    "        return self.end - self.start\n",
    "    \n",
    "    def __repr__(self):\n",
    "        return self.insertion_id\n",
    "    \n",
    "    def is_valid_feature(self):\n",
    "        return len(self) > 150\n",
    "    \n",
    "def parse_TE_annotation_line(line):\n",
    "    sline = line.strip().split(\"\\t\")\n",
    "    chrom = sline[0]\n",
    "    start = int(sline[3])\n",
    "    end = int(sline[4])\n",
    "    gene_id = sline[-1].split(\";\")[0].split('\"')[1]\n",
    "    insertion_id = sline[-1].strip().split('transcript_id \"')[-1][:-2]\n",
    "\n",
    "    return TE_feature(chrom, start, end, gene_id, insertion_id)\n",
    "\n",
    "def parse_TE_annotation_file(annotations):\n",
    "    dict_of_valid_TE = {}\n",
    "    with open(annotations, 'r') as annot:\n",
    "        for line in annot :\n",
    "            new_feature = parse_TE_annotation_line(line)\n",
    "            if new_feature.is_valid_feature:\n",
    "                if new_feature.chrom not in dict_of_valid_TE:\n",
    "                    dict_of_valid_TE[new_feature.chrom] = [new_feature]\n",
    "                else :\n",
    "                    dict_of_valid_TE[new_feature.chrom].append(new_feature)\n",
    "    for chrom in dict_of_valid_TE :\n",
    "        dict_of_valid_TE[chrom].sort(key=lambda x: x.start, reverse=False)\n",
    "    return dict_of_valid_TE\n",
    "\n",
    "def get_reads_mapped_on_TE_feature(alignment_file, TE_annotation):\n",
    "    reads_mapped_on_TE = []\n",
    "    dict_of_valid_TE = parse_TE_annotation_file(TE_annotation)\n",
    "    with pysam.AlignmentFile(alignment_file, 'rb') as bam:\n",
    "        for chrom, insertion_list in tqdm(dict_of_valid_TE.items(), desc=\"Chromosome\", position=0, leave=True):\n",
    "            for insertion in tqdm(insertion_list, desc =chrom, position=0, leave=True):\n",
    "                reads_mapped_on_TE += list(bam.fetch(contig=insertion.chrom, start=insertion.start, stop=insertion.end))\n",
    "    return set(reads_mapped_on_TE)"
   ],
   "outputs": [],
   "metadata": {
    "tags": []
   }
  },
  {
   "cell_type": "code",
   "execution_count": 27,
   "source": [
    "class Gene:\n",
    "    def __init__(self, chrom, start, end, gene_id):\n",
    "        self.chrom = chrom\n",
    "        self.start = start\n",
    "        self.end = end\n",
    "        self.gene_id = gene_id\n",
    "    \n",
    "    def __len__(self):\n",
    "        return self.end - self.start\n",
    "    \n",
    "    def __repr__(self):\n",
    "        return self.gene_id\n",
    "\n",
    "def parse_gene_annotation_line(line):\n",
    "    sline = line.strip().split(\"\\t\")\n",
    "    chrom = sline[0]\n",
    "    start = int(sline[3])\n",
    "    end = int(sline[4])\n",
    "    gene_id = sline[-1].split(\";\")[0].split('\"')[1]\n",
    "    return Gene(chrom, start, end, gene_id)\n",
    "\n",
    "\n",
    "def is_overlapped(start1, end1, start2, end2):\n",
    "    return end1 >= start2 and end2 >= start1\n",
    "\n",
    "def get_overlapped_TE(read, dict_of_valid_TE):\n",
    "    list_of_overlapped_TE =[]\n",
    "    chrom = read.reference_name\n",
    "    for insertion in dict_of_valid_TE[chrom]:\n",
    "        if read.reference_end < insertion.start:\n",
    "            continue\n",
    "        if read.reference_end >= insertion.start and insertion.end >= read.reference_start :\n",
    "            list_of_overlapped_TE.append(insertion)\n",
    "    return list_of_overlapped_TE\n",
    "\n",
    "def get_dict_of_overlapped_gene(dict_of_valid_TE, gene_annotation):\n",
    "    dict_of_overlapped_gene = {}\n",
    "    with open(gene_annotation, 'r') as gene_annot:\n",
    "        for line in gene_annot:\n",
    "            sline = line.strip().split('\\t')\n",
    "            if sline[2] == \"gene\" :\n",
    "                chrom = sline[0]\n",
    "                gene_start = int(sline[3])\n",
    "                gene_stop = int(sline[4])\n",
    "                if chrom in dict_of_valid_TE:\n",
    "                    for insertion in dict_of_valid_TE[chrom]:\n",
    "                        if is_overlapped(insertion.start, insertion.end, gene_start, gene_stop):\n",
    "                            new_gene = parse_gene_annotation_line(line)\n",
    "                            if chrom in dict_of_overlapped_gene:\n",
    "                                dict_of_overlapped_gene[chrom].append(new_gene)\n",
    "                            else:\n",
    "                                dict_of_overlapped_gene[chrom] = [new_gene]\n",
    "    return dict_of_overlapped_gene   \n",
    "    \n",
    "def get_overlapped_gene(read, dict_of_overlapped_gene):\n",
    "    list_of_overlapped_gene =[]\n",
    "    for gene in dict_of_overlapped_gene[read.reference_name]:\n",
    "        if read.reference_end < gene.start:\n",
    "            continue\n",
    "        if is_overlapped(read.reference_start, read.reference_end, gene.start, gene.end):\n",
    "            list_of_overlapped_gene.append(gene)\n",
    "    return list_of_overlapped_gene\n",
    "\n",
    "def choose_optimal_feature(read, list_of_overlapped_feature):\n",
    "    min_dist = 999999999999\n",
    "    optimal_feature = None\n",
    "    for overlapped_feature in list_of_overlapped_feature:\n",
    "        start_dist = abs(overlapped_feature.start - read.reference_start)\n",
    "        end_dist = abs(overlapped_feature.end - read.reference_end)\n",
    "        total_dist = start_dist + end_dist\n",
    "        if total_dist < min_dist:\n",
    "            min_dist = total_dist\n",
    "            optimal_feature = overlapped_feature\n",
    "    return optimal_feature\n",
    "\n",
    "def get_subject_coverage(alignment, insertion):\n",
    "    overlap_start = max(alignment.reference_start, insertion.start)\n",
    "    overlap_end = min(alignment.reference_end, insertion.end)\n",
    "    overlap_length = overlap_end - overlap_start\n",
    "    insertion_length = insertion.end - insertion.start\n",
    "    subject_coverage = overlap_length / insertion_length\n",
    "    return subject_coverage\n",
    "\n",
    "def default_filter(alignment, insertion):\n",
    "    subject_coverage = get_subject_coverage(alignment, insertion)\n",
    "    nb_aligned_pairs =  alignment.get_overlap(insertion.start, insertion.end)\n",
    "    is_ok = (subject_coverage > 0.1 and nb_aligned_pairs > 1)\n",
    "    return is_ok\n",
    "\n",
    "def get_exceeding_alignment_length(alignment, insertion):\n",
    "    overflow_length = 0\n",
    "    if alignment.reference_start < insertion.start:\n",
    "        overflow_length += insertion.start -alignment.reference_start\n",
    "    if alignment.reference_end > insertion.end:\n",
    "        overflow_length += alignment.reference_end - insertion.end\n",
    "    return overflow_length\n",
    "\n",
    "def filter_out_co_expressed(alignment, insertion):\n",
    "    exceeding_length = get_exceeding_alignment_length(alignment, insertion)\n",
    "    alignment_length = alignment.reference_end - alignment.reference_start\n",
    "    is_ok = (exceeding_length < (0.1 * alignment_length))\n",
    "    return is_ok\n",
    "\n",
    "def map_reads_to_TE(reads_mapped_on_TE_feature, bamfile, TE_annotations, gene_annotations):\n",
    "    insertion_countings = {}\n",
    "    dict_of_valid_TE = parse_TE_annotation_file(TE_annotations)\n",
    "    dict_of_overlapped_gene = get_dict_of_overlapped_gene(dict_of_valid_TE, gene_annotations)\n",
    "    for read in tqdm(reads_mapped_on_TE_feature, position=0, leave=True):\n",
    "        list_of_overlapped_gene = get_overlapped_gene(read, dict_of_overlapped_gene)\n",
    "        list_of_overlapped_TE = get_overlapped_TE(read, dict_of_valid_TE)\n",
    "        best_feature = choose_optimal_feature(read, list_of_overlapped_TE + list_of_overlapped_gene)\n",
    "        if isinstance(best_feature, TE_feature):\n",
    "            ################### FILTERS GO HERE ########################\n",
    "            if default_filter(read, best_feature) and filter_out_co_expressed(read, best_feature):\n",
    "                best_feature.count += 1\n",
    "                best_feature.counted_reads[read.query_name] = read\n",
    "    for insertion_list in dict_of_valid_TE.values():\n",
    "        for insertion in insertion_list:\n",
    "            if insertion.family not in insertion_countings:\n",
    "                insertion_countings[insertion.family] = {insertion.insertion_id : insertion}\n",
    "            else :\n",
    "                insertion_countings[insertion.family][insertion.insertion_id] = insertion\n",
    "    return insertion_countings"
   ],
   "outputs": [],
   "metadata": {
    "tags": []
   }
  },
  {
   "cell_type": "code",
   "execution_count": 28,
   "source": [
    "dict_of_valid_TE = parse_TE_annotation_file(REPEATMASKER_TE_ANNOTATIONS)\n",
    "DICT_OF_INSERTION = {}\n",
    "for TE_list in dict_of_valid_TE.values():\n",
    "    for feature in TE_list:\n",
    "        DICT_OF_INSERTION[feature.insertion_id] = feature "
   ],
   "outputs": [],
   "metadata": {
    "tags": []
   }
  },
  {
   "cell_type": "code",
   "execution_count": 29,
   "source": [
    "def get_reads_counted_on_feature(feature_id, reads_mapped_on_TE_feature, bamfile, TE_annotations, gene_annotations):\n",
    "    read_list = []\n",
    "    dict_of_valid_TE = parse_TE_annotation_file(TE_annotations)\n",
    "    dict_of_overlapped_gene = get_dict_of_overlapped_gene(dict_of_valid_TE, gene_annotations)\n",
    "    feature_chrom = None\n",
    "    for chrom, feature_list in dict_of_valid_TE.items():\n",
    "        if feature_id in [f.insertion_id for f in feature_list]:\n",
    "            feature_chrom = chrom\n",
    "    if feature_chrom == None :\n",
    "        return 0\n",
    "    for read in tqdm(reads_mapped_on_TE_feature, position=0, leave=True):\n",
    "        if read.reference_name == feature_chrom:\n",
    "            list_of_overlapped_gene = get_overlapped_gene(read, dict_of_overlapped_gene)\n",
    "            list_of_overlapped_TE = get_overlapped_TE(read, dict_of_valid_TE)\n",
    "            best_feature = choose_optimal_feature(read, list_of_overlapped_TE + list_of_overlapped_gene)\n",
    "            if isinstance(best_feature, TE_feature):\n",
    "                if best_feature.insertion_id == feature_id:\n",
    "                    if default_filter(read, best_feature) and filter_out_co_expressed(read, best_feature):\n",
    "                        read_list.append(read)\n",
    "    return read_list\n",
    "\n",
    "def from_counting_to_dataframe(insertion_countings):\n",
    "    subclass_list = []\n",
    "    superfamily_list = []\n",
    "    family_list = []\n",
    "    insertion_list = []\n",
    "    counting_list = []\n",
    "    counted_reads = []\n",
    "    for family, family_insertion_dict in insertion_countings.items() :\n",
    "        try:\n",
    "            subclass = HIERARCHY_DF.loc[HIERARCHY_DF['Family'] == family, 'Subclass'].values[0]\n",
    "            superfamily = HIERARCHY_DF.loc[HIERARCHY_DF['Family'] == family, 'Superfamily'].values[0]\n",
    "        except KeyError:\n",
    "            print(family + \" hierarchy unknown in the consensus file : tagged as Unknown...\")\n",
    "            subclass = \"Unknown\"\n",
    "            superfamily = \"Unknown\"\n",
    "        for insertion_id, insertion in family_insertion_dict.items():\n",
    "            family_list.append(family)\n",
    "            insertion_list.append(insertion_id)\n",
    "            counting_list.append(insertion.count)\n",
    "            superfamily_list.append(superfamily)\n",
    "            subclass_list.append(subclass)\n",
    "            counted_reads.append(insertion.counted_reads)\n",
    "    df = pd.DataFrame(list(zip(subclass_list, superfamily_list, family_list, insertion_list, counting_list, counted_reads)),\n",
    "               columns =['Subclass', 'Superfamily', \"Family\", \"Insertion\", \"Counting\", \"Reads\"])\n",
    "    return df"
   ],
   "outputs": [],
   "metadata": {}
  },
  {
   "cell_type": "code",
   "execution_count": 30,
   "source": [
    "def get_subject_coverage(alignment, insertion):\n",
    "    overlap_start = max(alignment.reference_start, insertion.start)\n",
    "    overlap_end = min(alignment.reference_end, insertion.end)\n",
    "    overlap_length = overlap_end - overlap_start\n",
    "    insertion_length = insertion.end - insertion.start\n",
    "    if insertion_length != 0 :\n",
    "        subject_coverage = overlap_length / insertion_length\n",
    "    else :\n",
    "        subject_coverage = 0\n",
    "    return subject_coverage\n",
    "\n",
    "def get_insertion_mean_subject_coverage(insertion_id, counted_reads):\n",
    "    insertion = DICT_OF_INSERTION[insertion_id]\n",
    "    # if insertion.insertion_id == \"POGO_X_RaGOO_21863530_21864880\":\n",
    "    #     print(insertion.count)\n",
    "    mean_subject_coverage = 0\n",
    "    for read in counted_reads.values():\n",
    "        mean_subject_coverage += get_subject_coverage(read, insertion)\n",
    "    if len(counted_reads) == 0 :\n",
    "        return 0\n",
    "    else:\n",
    "        return mean_subject_coverage/len(counted_reads)\n",
    "\n",
    "def add_mean_subject_coverage_to_df(counting_df):\n",
    "    counting_df[\"mean_subcov\"] = counting_df.apply(lambda x: get_insertion_mean_subject_coverage(x['Insertion'], x['Reads']), axis=1)\n",
    "    return counting_df\n"
   ],
   "outputs": [],
   "metadata": {}
  },
  {
   "cell_type": "code",
   "execution_count": 31,
   "source": [
    "def count_TE_feature(alignment_file, TE_annotation, gene_annotation):\n",
    "    reads_mapped_on_TE_feature = get_reads_mapped_on_TE_feature(alignment_file, TE_annotation)\n",
    "    insertion_countings = map_reads_to_TE(reads_mapped_on_TE_feature, alignment_file, TE_annotation, gene_annotation)\n",
    "    counting_df = from_counting_to_dataframe(insertion_countings)\n",
    "    add_mean_subject_coverage_to_df(counting_df)\n",
    "    return counting_df\n",
    "\n",
    "\n",
    "\n",
    "\n",
    "# with cProfile.Profile() as pr:\n",
    "#     FC30_counting_df = count_TE_feature(FC29_DMGOTH_MAX_AS_BAMFILE, REPEATMASKER_TE_ANNOTATIONS, DMGOTH_GENE_ANNOTATIONS)\n",
    "# stats = pstats.Stats(pr)\n",
    "# stats.sort_stats(pstats.SortKey.TIME)\n",
    "# stats.dump_stats(filename=\"profiling_test.prof\")\n",
    "# pd.set_option('display.max_rows', 100)\n",
    "# FC30_counting_df.sort_values(by=['Counting'], ascending=False).head(100)"
   ],
   "outputs": [],
   "metadata": {}
  },
  {
   "cell_type": "code",
   "execution_count": 32,
   "source": [
    "FC30_counting_df = count_TE_feature(FC30_DMGOTH_MAX_AS_BAMFILE, REPEATMASKER_TE_ANNOTATIONS, DMGOTH_GENE_ANNOTATIONS)\n",
    "FC29_counting_df = count_TE_feature(FC29_DMGOTH_MAX_AS_BAMFILE, REPEATMASKER_TE_ANNOTATIONS, DMGOTH_GENE_ANNOTATIONS)\n"
   ],
   "outputs": [
    {
     "output_type": "stream",
     "name": "stderr",
     "text": [
      "2L_RaGOO: 100%|██████████| 1830/1830 [00:19<00:00, 92.30it/s] \n",
      "2R_RaGOO: 100%|██████████| 4271/4271 [00:14<00:00, 287.56it/s]\n",
      "3L_RaGOO: 100%|██████████| 3577/3577 [00:10<00:00, 348.51it/s]\n",
      "3R_RaGOO: 100%|██████████| 2964/2964 [00:06<00:00, 468.50it/s]\n",
      "4_RaGOO: 100%|██████████| 692/692 [00:03<00:00, 211.65it/s]\n",
      "X_RaGOO: 100%|██████████| 1418/1418 [00:05<00:00, 239.51it/s]\n",
      "Chromosome: 100%|██████████| 6/6 [01:00<00:00, 10.08s/it]\n",
      "100%|██████████| 38275/38275 [01:20<00:00, 476.36it/s]\n",
      "2L_RaGOO: 100%|██████████| 1830/1830 [00:32<00:00, 56.81it/s] \n",
      "2R_RaGOO: 100%|██████████| 4271/4271 [00:25<00:00, 169.63it/s]\n",
      "3L_RaGOO: 100%|██████████| 3577/3577 [00:24<00:00, 147.88it/s]\n",
      "3R_RaGOO: 100%|██████████| 2964/2964 [00:22<00:00, 134.21it/s]\n",
      "4_RaGOO: 100%|██████████| 692/692 [00:02<00:00, 264.19it/s]\n",
      "X_RaGOO: 100%|██████████| 1418/1418 [00:13<00:00, 107.74it/s]\n",
      "Chromosome: 100%|██████████| 6/6 [01:59<00:00, 19.91s/it]\n",
      "100%|██████████| 127490/127490 [04:54<00:00, 432.88it/s]\n"
     ]
    }
   ],
   "metadata": {}
  },
  {
   "cell_type": "code",
   "execution_count": 33,
   "source": [
    "!noti echo Done"
   ],
   "outputs": [
    {
     "output_type": "stream",
     "name": "stdout",
     "text": [
      "Done\n"
     ]
    }
   ],
   "metadata": {}
  },
  {
   "cell_type": "code",
   "execution_count": 39,
   "source": [
    "FC29_counting_df.sort_values(by=['Counting'], ascending=False).head(100)"
   ],
   "outputs": [
    {
     "output_type": "execute_result",
     "data": {
      "text/plain": [
       "      Subclass Superfamily      Family                              Insertion  \\\n",
       "197       LINE    I-Jockey       TAHRE         TAHRE_2R_RaGOO_1145909_1151824   \n",
       "8254      LINE    I-Jockey     TART_B1     TART_B1_2R_RaGOO_23920095_23923160   \n",
       "257       LINE    I-Jockey        HETA              HETA_3L_RaGOO_12349_18402   \n",
       "258       LINE    I-Jockey        HETA              HETA_3L_RaGOO_18403_20679   \n",
       "241       LINE    I-Jockey      TART-A                  TART-A_X_RaGOO_3_3271   \n",
       "...        ...         ...         ...                                    ...   \n",
       "12362      LTR         Pao         BEL       BEL_LTR_2R_RaGOO_2068892_2074965   \n",
       "14150      LTR       Gypsy      Gypsy2     Gypsy2-I_DM_2R_RaGOO_545702_556702   \n",
       "617        LTR       Copia       Copia       Copia_I_3R_RaGOO_1738736_1739720   \n",
       "2551        RC    Helitron  DNAREP1_DM    DNAREP1_DM_2R_RaGOO_5274469_5275451   \n",
       "11868      LTR       Gypsy      TIRANT  TIRANT_LTR_2L_RaGOO_20669409_20674055   \n",
       "\n",
       "       Counting                                              Reads  \\\n",
       "197         267  {'d7dedb28-76e2-4740-aeef-22bd7e936577': d7ded...   \n",
       "8254        247  {'444b015d-6ecf-428f-95cd-30b4a206f715': 444b0...   \n",
       "257         141  {'39c656e4-149f-4961-ba3a-682e177bb78f': 39c65...   \n",
       "258         136  {'d8f190c1-7e57-4ad0-8601-fe70baa9c42f': d8f19...   \n",
       "241         105  {'96d23915-1bb0-45a5-9d38-7ac5f6b3b0e5': 96d23...   \n",
       "...         ...                                                ...   \n",
       "12362         6  {'80b7ea0f-631d-450c-ace6-7df76dacce3a': 80b7e...   \n",
       "14150         6  {'afc4782b-7c65-464f-b52e-43a8a0e8e17b': afc47...   \n",
       "617           6  {'6f3a25a9-7f11-4f46-af3e-970908a99d43': 6f3a2...   \n",
       "2551          6  {'82acda28-ea03-4a5c-bb59-06b80318e8d0': 82acd...   \n",
       "11868         5  {'da12644e-7e6e-4747-86f7-0826d4ebec00': da126...   \n",
       "\n",
       "       mean_subcov  \n",
       "197       0.165054  \n",
       "8254      0.623737  \n",
       "257       0.347078  \n",
       "258       0.357868  \n",
       "241       0.505942  \n",
       "...            ...  \n",
       "12362     0.322026  \n",
       "14150     0.441379  \n",
       "617       0.190210  \n",
       "2551      0.585031  \n",
       "11868     0.816014  \n",
       "\n",
       "[100 rows x 7 columns]"
      ],
      "text/html": [
       "<div>\n",
       "<style scoped>\n",
       "    .dataframe tbody tr th:only-of-type {\n",
       "        vertical-align: middle;\n",
       "    }\n",
       "\n",
       "    .dataframe tbody tr th {\n",
       "        vertical-align: top;\n",
       "    }\n",
       "\n",
       "    .dataframe thead th {\n",
       "        text-align: right;\n",
       "    }\n",
       "</style>\n",
       "<table border=\"1\" class=\"dataframe\">\n",
       "  <thead>\n",
       "    <tr style=\"text-align: right;\">\n",
       "      <th></th>\n",
       "      <th>Subclass</th>\n",
       "      <th>Superfamily</th>\n",
       "      <th>Family</th>\n",
       "      <th>Insertion</th>\n",
       "      <th>Counting</th>\n",
       "      <th>Reads</th>\n",
       "      <th>mean_subcov</th>\n",
       "    </tr>\n",
       "  </thead>\n",
       "  <tbody>\n",
       "    <tr>\n",
       "      <th>197</th>\n",
       "      <td>LINE</td>\n",
       "      <td>I-Jockey</td>\n",
       "      <td>TAHRE</td>\n",
       "      <td>TAHRE_2R_RaGOO_1145909_1151824</td>\n",
       "      <td>267</td>\n",
       "      <td>{'d7dedb28-76e2-4740-aeef-22bd7e936577': d7ded...</td>\n",
       "      <td>0.165054</td>\n",
       "    </tr>\n",
       "    <tr>\n",
       "      <th>8254</th>\n",
       "      <td>LINE</td>\n",
       "      <td>I-Jockey</td>\n",
       "      <td>TART_B1</td>\n",
       "      <td>TART_B1_2R_RaGOO_23920095_23923160</td>\n",
       "      <td>247</td>\n",
       "      <td>{'444b015d-6ecf-428f-95cd-30b4a206f715': 444b0...</td>\n",
       "      <td>0.623737</td>\n",
       "    </tr>\n",
       "    <tr>\n",
       "      <th>257</th>\n",
       "      <td>LINE</td>\n",
       "      <td>I-Jockey</td>\n",
       "      <td>HETA</td>\n",
       "      <td>HETA_3L_RaGOO_12349_18402</td>\n",
       "      <td>141</td>\n",
       "      <td>{'39c656e4-149f-4961-ba3a-682e177bb78f': 39c65...</td>\n",
       "      <td>0.347078</td>\n",
       "    </tr>\n",
       "    <tr>\n",
       "      <th>258</th>\n",
       "      <td>LINE</td>\n",
       "      <td>I-Jockey</td>\n",
       "      <td>HETA</td>\n",
       "      <td>HETA_3L_RaGOO_18403_20679</td>\n",
       "      <td>136</td>\n",
       "      <td>{'d8f190c1-7e57-4ad0-8601-fe70baa9c42f': d8f19...</td>\n",
       "      <td>0.357868</td>\n",
       "    </tr>\n",
       "    <tr>\n",
       "      <th>241</th>\n",
       "      <td>LINE</td>\n",
       "      <td>I-Jockey</td>\n",
       "      <td>TART-A</td>\n",
       "      <td>TART-A_X_RaGOO_3_3271</td>\n",
       "      <td>105</td>\n",
       "      <td>{'96d23915-1bb0-45a5-9d38-7ac5f6b3b0e5': 96d23...</td>\n",
       "      <td>0.505942</td>\n",
       "    </tr>\n",
       "    <tr>\n",
       "      <th>...</th>\n",
       "      <td>...</td>\n",
       "      <td>...</td>\n",
       "      <td>...</td>\n",
       "      <td>...</td>\n",
       "      <td>...</td>\n",
       "      <td>...</td>\n",
       "      <td>...</td>\n",
       "    </tr>\n",
       "    <tr>\n",
       "      <th>12362</th>\n",
       "      <td>LTR</td>\n",
       "      <td>Pao</td>\n",
       "      <td>BEL</td>\n",
       "      <td>BEL_LTR_2R_RaGOO_2068892_2074965</td>\n",
       "      <td>6</td>\n",
       "      <td>{'80b7ea0f-631d-450c-ace6-7df76dacce3a': 80b7e...</td>\n",
       "      <td>0.322026</td>\n",
       "    </tr>\n",
       "    <tr>\n",
       "      <th>14150</th>\n",
       "      <td>LTR</td>\n",
       "      <td>Gypsy</td>\n",
       "      <td>Gypsy2</td>\n",
       "      <td>Gypsy2-I_DM_2R_RaGOO_545702_556702</td>\n",
       "      <td>6</td>\n",
       "      <td>{'afc4782b-7c65-464f-b52e-43a8a0e8e17b': afc47...</td>\n",
       "      <td>0.441379</td>\n",
       "    </tr>\n",
       "    <tr>\n",
       "      <th>617</th>\n",
       "      <td>LTR</td>\n",
       "      <td>Copia</td>\n",
       "      <td>Copia</td>\n",
       "      <td>Copia_I_3R_RaGOO_1738736_1739720</td>\n",
       "      <td>6</td>\n",
       "      <td>{'6f3a25a9-7f11-4f46-af3e-970908a99d43': 6f3a2...</td>\n",
       "      <td>0.190210</td>\n",
       "    </tr>\n",
       "    <tr>\n",
       "      <th>2551</th>\n",
       "      <td>RC</td>\n",
       "      <td>Helitron</td>\n",
       "      <td>DNAREP1_DM</td>\n",
       "      <td>DNAREP1_DM_2R_RaGOO_5274469_5275451</td>\n",
       "      <td>6</td>\n",
       "      <td>{'82acda28-ea03-4a5c-bb59-06b80318e8d0': 82acd...</td>\n",
       "      <td>0.585031</td>\n",
       "    </tr>\n",
       "    <tr>\n",
       "      <th>11868</th>\n",
       "      <td>LTR</td>\n",
       "      <td>Gypsy</td>\n",
       "      <td>TIRANT</td>\n",
       "      <td>TIRANT_LTR_2L_RaGOO_20669409_20674055</td>\n",
       "      <td>5</td>\n",
       "      <td>{'da12644e-7e6e-4747-86f7-0826d4ebec00': da126...</td>\n",
       "      <td>0.816014</td>\n",
       "    </tr>\n",
       "  </tbody>\n",
       "</table>\n",
       "<p>100 rows × 7 columns</p>\n",
       "</div>"
      ]
     },
     "metadata": {},
     "execution_count": 39
    }
   ],
   "metadata": {}
  },
  {
   "cell_type": "code",
   "execution_count": 48,
   "source": [
    "def save_counting_df(counting_df, csv_file):\n",
    "    counting_df.to_csv(csv_file, sep = '\\t', index=False)\n",
    "\n",
    "save_counting_df(FC29_counting_df, \"FC29_counting_df.v2.tsv\")\n",
    "save_counting_df(FC30_counting_df, \"FC30_counting_df.v2.tsv\")"
   ],
   "outputs": [],
   "metadata": {}
  },
  {
   "cell_type": "code",
   "execution_count": 2,
   "source": [
    "### Import counting\n",
    "\n",
    "saved_FC29_counting_df = pd.read_csv(\"FC29_counting_df.v2.tsv\", sep = \"\\t\")\n",
    "filtered_FC29_counting_df = saved_FC29_counting_df[saved_FC29_counting_df['Counting'] != 0]\n",
    "\n",
    "saved_FC30_counting_df = pd.read_csv(\"FC30_counting_df.v2.tsv\", sep = \"\\t\")\n",
    "filtered_FC30_counting_df = saved_FC30_counting_df[saved_FC30_counting_df['Counting'] != 0]"
   ],
   "outputs": [],
   "metadata": {}
  },
  {
   "cell_type": "code",
   "execution_count": 3,
   "source": [
    "def draw_icicle(df):\n",
    "    fig = px.icicle(df, path=['Subclass', 'Superfamily', 'Family', 'Insertion'], values='Counting',\n",
    "                    color='mean_subcov',\n",
    "                    hover_data=['Counting'],\n",
    "                    color_continuous_scale='RdBu',\n",
    "                    color_continuous_midpoint=np.average(df['mean_subcov'],weights=df['Counting'])\n",
    "                    )\n",
    "    fig.update_traces(root_color=\"lightgrey\")\n",
    "    fig.update_layout(margin = dict(t=50, l=25, r=25, b=25))\n",
    "    fig.show()\n",
    "\n",
    "def draw_sunburst(df):\n",
    "    fig = px.sunburst(df, path=['Subclass', 'Superfamily', 'Family', 'Insertion'], values='Counting',\n",
    "                    color='mean_subcov',\n",
    "                    hover_data=['Counting'],\n",
    "                    color_continuous_scale='RdBu',\n",
    "                    color_continuous_midpoint=np.average(df['mean_subcov'],weights=df['Counting'])\n",
    "                    )\n",
    "    fig.update_traces(root_color=\"lightgrey\")\n",
    "    fig.update_layout(margin = dict(t=50, l=25, r=25, b=25))\n",
    "    fig.show()"
   ],
   "outputs": [],
   "metadata": {}
  },
  {
   "cell_type": "code",
   "execution_count": 12,
   "source": [
    "draw_icicle(filtered_FC29_counting_df)"
   ],
   "outputs": [
    {
     "output_type": "display_data",
     "data": {
      "text/html": [
       "        <script type=\"text/javascript\">\n",
       "        window.PlotlyConfig = {MathJaxConfig: 'local'};\n",
       "        if (window.MathJax) {MathJax.Hub.Config({SVG: {font: \"STIX-Web\"}});}\n",
       "        if (typeof require !== 'undefined') {\n",
       "        require.undef(\"plotly\");\n",
       "        requirejs.config({\n",
       "            paths: {\n",
       "                'plotly': ['https://cdn.plot.ly/plotly-2.2.0.min']\n",
       "            }\n",
       "        });\n",
       "        require(['plotly'], function(Plotly) {\n",
       "            window._Plotly = Plotly;\n",
       "        });\n",
       "        }\n",
       "        </script>\n",
       "        "
      ]
     },
     "metadata": {}
    },
    {
     "output_type": "display_data",
     "data": {
      "text/html": [
       "<div>                            <div id=\"dd3d5559-1fac-47af-9302-5fee4c13483a\" class=\"plotly-graph-div\" style=\"height:525px; width:100%;\"></div>            <script type=\"text/javascript\">                require([\"plotly\"], function(Plotly) {                    window.PLOTLYENV=window.PLOTLYENV || {};                                    if (document.getElementById(\"dd3d5559-1fac-47af-9302-5fee4c13483a\")) {                    Plotly.newPlot(                        \"dd3d5559-1fac-47af-9302-5fee4c13483a\",                        [{\"branchvalues\":\"total\",\"customdata\":[[2.0,0.2130044843049327],[1.0,0.4954954954954955],[1.0,0.5681818181818182],[5.0,0.9275179856115108],[1.0,0.2405740695694478],[2.0,0.5286321327397815],[2.0,0.1906967378171566],[1.0,0.9330451039962608],[1.0,0.8834688346883469],[1.0,0.2685555362419607],[1.0,0.3063673311399265],[1.0,0.2361516034985422],[2.0,0.6771516788884601],[1.0,0.2772792534099066],[6.0,0.3220264558976892],[8.0,0.3373521196187972],[2.0,0.3196381142098273],[19.0,0.1367267747089705],[4.0,0.1972472472472472],[24.0,0.1266453928998803],[21.0,0.1175209380234506],[3.0,0.136896498534629],[21.0,0.1148665964292833],[19.0,0.1582444835407084],[24.0,0.1527639607374983],[22.0,0.1231919432993418],[2.0,0.3569311820875864],[1.0,0.3142011834319526],[4.0,0.4340314692749308],[2.0,0.5262512266928361],[1.0,0.5929675013319127],[3.0,0.8415235839747385],[5.0,0.45508982035928136],[1.0,0.5866666666666667],[1.0,0.8944213923467036],[1.0,0.5315068493150685],[1.0,0.2984305457952682],[5.0,0.4274387874076953],[6.0,0.2700884275278739],[1.0,0.9212535154680594],[11.0,0.23383838383838376],[3.0,0.1711936725986055],[2.0,0.3306106573317775],[16.0,0.3801719114219113],[2.0,0.1828770413064361],[1.0,0.1308179990722127],[1.0,0.4103846153846154],[3.0,0.3746572659616138],[1.0,0.9426751592356688],[1.0,0.9997120644975526],[1.0,0.3061875398681692],[1.0,0.8368592351505288],[1.0,0.1625154566331036],[19.0,0.1619615430173333],[2.0,0.109437751004016],[2.0,0.3006067291781577],[1.0,0.2596230001584033],[2.0,0.3055726600985222],[18.0,0.1410955347871235],[2.0,0.7334568554790895],[1.0,0.7508719481813653],[2.0,0.2206756756756757],[3.0,0.9978902953586498],[6.0,0.190210027100271],[1.0,0.7557529269277352],[8.0,0.8938326205287714],[35.0,0.91044501962094],[16.0,0.8361159929701232],[4.0,0.908524717789023],[24.0,0.7663170163170167],[82.0,0.8792709548448925],[64.0,0.8922610938108213],[35.0,0.9181959564541214],[5.0,0.7837575286574705],[2.0,0.8202443280977312],[1.0,0.7881818181818182],[2.0,0.2544592030360531],[1.0,0.4599877825290165],[1.0,0.4537381839014609],[1.0,0.8677685950413223],[3.0,0.23336527201107202],[2.0,0.2085036794766966],[1.0,0.3007703655138501],[2.0,0.3079656862745098],[1.0,0.5934803451581975],[32.0,0.4749931544359255],[22.0,0.1196474848542056],[3.0,0.2425980261403041],[2.0,0.2355019330755899],[1.0,0.271690629647992],[1.0,0.3841010401188707],[1.0,0.1762807583703106],[2.0,0.1738694139684238],[3.0,0.186919727220442],[1.0,0.1196331804918716],[1.0,0.7416835406421753],[1.0,0.3683127572016461],[1.0,0.9125],[1.0,0.1220815425717272],[2.0,0.1515333734215273],[6.0,0.1184104960120817],[1.0,0.1019861286254728],[2.0,0.1173310715295448],[1.0,0.1198756007916313],[10.0,0.1156435643564356],[1.0,0.1872015281757402],[1.0,0.5815630481387644],[2.0,1.0],[1.0,0.7707612456747405],[13.0,0.7951960490870997],[1.0,1.0],[1.0,0.3974358974358974],[1.0,0.1563388288800455],[1.0,0.1561791383219954],[1.0,0.4323144104803493],[1.0,0.2259541984732824],[6.0,0.585030549898167],[1.0,0.2722457627118644],[1.0,0.7481481481481481],[3.0,0.9696969696969696],[1.0,0.4792626728110599],[11.0,0.7183856502242153],[1.0,0.1255098839033573],[5.0,0.8046342270771267],[5.0,0.474368],[1.0,0.4456018518518518],[11.0,0.6069588392063962],[1.0,0.2857142857142857],[1.0,0.3008225616921269],[1.0,0.3356294536817102],[1.0,0.3825597749648382],[1.0,0.8923212709620476],[2.0,0.1663649529326575],[1.0,0.113582443653618],[1.0,0.744875708678587],[2.0,0.1407624633431085],[2.0,0.8242524916943521],[2.0,0.3011107254425547],[31.0,0.6594758064516129],[1.0,0.4809081527347781],[11.0,0.4765670939668352],[17.0,0.4739588292422829],[1.0,0.8953866146848602],[5.0,0.2646913580246913],[3.0,0.4582766439909296],[5.0,0.41646754924120105],[39.0,0.48665608092213586],[1.0,0.615703550142524],[1.0,0.3957783641160949],[1.0,0.5890596745027125],[9.0,0.7634316046194676],[1.0,0.7006651884700665],[1.0,0.5065772504513799],[1.0,0.8604651162790697],[1.0,0.4009691096305269],[1.0,0.5068493150684932],[1.0,0.3685503685503685],[1.0,0.3685503685503685],[7.0,0.1832993105573316],[7.0,0.2104462123832584],[1.0,0.8377501352082206],[1.0,0.9722814498933902],[3.0,0.6799537839399191],[3.0,0.7597960279119699],[1.0,0.2916906543849549],[7.0,0.6098142363965149],[3.0,0.4313725490196078],[19.0,0.2064350112001777],[1.0,0.7274119448698315],[8.0,0.2545582047685835],[6.0,0.8849642421070993],[1.0,0.3483551149166291],[1.0,0.6146044624746451],[4.0,0.5894803017602682],[1.0,0.109743321110529],[3.0,0.5569593598652348],[3.0,0.6574074074074074],[2.0,0.6115520282186949],[1.0,0.17061973986228],[1.0,0.5832675611681136],[20.0,0.3799915754001685],[1.0,0.6671698113207547],[1.0,0.4737620103473762],[1.0,0.1719022687609075],[2.0,0.1591534079748576],[6.0,0.3567023026315789],[43.0,0.1703201603455102],[1.0,0.3463957426221577],[23.0,0.40928020172690444],[6.0,0.4413787878787878],[1.0,0.1177100053504547],[1.0,0.4440780434185216],[1.0,1.0],[1.0,0.1801692865779927],[1.0,0.1575123510607381],[1.0,0.2183297947629157],[1.0,0.19129392971246],[2.0,0.1329388560157791],[8.0,0.2736233854520734],[1.0,1.0],[3.0,0.5362441712590081],[1.0,0.1543762922122674],[1.0,0.4921630094043887],[1.0,0.5056662758890191],[1.0,0.7252475247524752],[7.0,0.1579244074311339],[5.0,0.2020610224287735],[6.0,0.1633705475810739],[7.0,0.555815768930523],[1.0,0.136975328420378],[2.0,0.1624002202036884],[14.0,0.1894205443371378],[13.0,0.5385755830529738],[47.0,0.2794002517119384],[6.0,0.3693528693528693],[5.0,0.504225352112676],[141.0,0.3470783492858004],[3.0,0.5797385620915033],[136.0,0.3578679055101831],[31.0,0.3589542406253238],[59.0,0.6468633315739056],[42.0,0.2747797265111011],[4.0,0.343890134529148],[57.0,0.3622656266325161],[4.0,0.2139966508512419],[1.0,0.5659871244635193],[1.0,0.1788409054422861],[3.0,0.2511820330969267],[1.0,0.1544799176107106],[3.0,0.1235895393601486],[1.0,0.5861546235472461],[3.0,0.1290948798835234],[2.0,0.1578898828737434],[1.0,0.3105560032232071],[2.0,0.1272302463891249],[1.0,0.2865950676213206],[1.0,0.2639543537583726],[1.0,0.2555306984837186],[3.0,0.2324487739334901],[1.0,0.2072368421052631],[1.0,0.2594987873888439],[1.0,0.3466744006187162],[1.0,0.2622549019607843],[4.0,0.5829682365826944],[1.0,0.1611836059547877],[1.0,0.19375],[3.0,0.390875596012137],[4.0,0.5665231652316522],[1.0,0.1360454115421003],[1.0,0.2548262548262548],[1.0,0.9173419773095624],[1.0,1.0],[1.0,0.3684210526315789],[101.0,0.7330188516233824],[1.0,0.7138643067846607],[1.0,0.5535889872173058],[1.0,0.1907013396375098],[1.0,0.4930747922437673],[4.0,0.2344652459669388],[1.0,0.1609403254972875],[1.0,0.5674255691768827],[1.0,0.9585798816568049],[1.0,0.2940446650124069],[1.0,0.3847980997624703],[1.0,0.4033333333333333],[1.0,0.4822485207100592],[1.0,0.5042492917847026],[1.0,0.5460905349794238],[1.0,0.6742424242424242],[1.0,0.9766974688629972],[1.0,0.9700598802395208],[1.0,0.9152542372881356],[2.0,0.7994691831318195],[1.0,0.2701990940693142],[1.0,0.1748082357690755],[4.0,0.5107092696629214],[3.0,0.3857076350093109],[1.0,0.4281524926686217],[5.0,0.570890188434048],[1.0,0.3930555555555555],[15.0,0.1685697187312986],[1.0,0.8951219512195122],[1.0,0.3095967932091488],[11.0,0.1481767770122668],[1.0,0.1147587511825922],[4.0,0.3505519144532597],[3.0,0.833044982698962],[1.0,0.1070893659510733],[1.0,0.1070893659510733],[2.0,0.1847438276009704],[1.0,0.536723163841808],[1.0,0.1388286334056399],[2.0,0.2230520064783156],[2.0,0.2152311876699909],[2.0,0.2252407777575867],[1.0,0.139348735674004],[1.0,0.1788515051859347],[4.0,0.2192902638762511],[1.0,0.2165605095541401],[4.0,0.3944129819211501],[1.0,0.1789873417721519],[2.0,0.4627011744236624],[2.0,0.1914663461538461],[4.0,0.6128835037794576],[1.0,0.1787158746208291],[3.0,0.7073656270736564],[2.0,0.2194444444444444],[1.0,0.1787158746208291],[8.0,0.9232551799345692],[2.0,0.732981220657277],[2.0,0.694672131147541],[16.0,0.8853884372177055],[23.0,0.865876628472767],[1.0,0.9498117942283564],[8.0,0.5909694555112882],[1.0,0.2126436781609195],[1.0,0.4647619047619047],[2.0,0.6701289398280803],[2.0,0.4429336629583848],[4.0,0.5303391384051329],[5.0,0.1696755343687529],[3.0,0.2934442034225114],[2.0,0.9015151515151516],[11.0,0.2526368658965344],[4.0,0.1735542560103963],[8.0,0.2174311010517907],[3.0,0.1200535554894376],[10.0,0.1685699250098671],[1.0,0.7795841209829868],[1.0,0.1672473867595819],[1.0,0.139448073590188],[1.0,0.1138494508438253],[1.0,0.8147157190635451],[22.0,0.2299568133564949],[2.0,0.6082193599787545],[3.0,0.9590973201692524],[3.0,0.6927309585867363],[17.0,0.9017100783785926],[2.0,0.6910801963993454],[2.0,0.9563585171281088],[3.0,0.7423411065386375],[1.0,0.6269430051813472],[3.0,0.55825316842266],[1.0,0.1184627575277337],[1.0,0.260253164556962],[1.0,0.7307343608340888],[1.0,0.5011764705882353],[1.0,0.3424408014571949],[1.0,0.365296803652968],[1.0,0.2276315789473684],[1.0,0.2893481717011129],[3.0,0.4249182277728219],[1.0,0.5419039869812856],[1.0,0.1496344688131902],[1.0,0.146],[1.0,0.2283464566929134],[3.0,0.1386691012375735],[1.0,0.9945076500588466],[27.0,0.3089504439869404],[1.0,0.2300185873605948],[1.0,0.2784588441330998],[3.0,0.2039528808714081],[1.0,0.2420091324200913],[9.0,0.8911824668705403],[1.0,0.9927007299270072],[1.0,0.2441809398331137],[1.0,0.1565069464133824],[1.0,0.8401826484018264],[11.0,0.7279095685400414],[1.0,0.4112444725205306],[1.0,0.517442803829304],[1.0,0.7473630048880885],[6.0,0.1145418326693227],[1.0,0.1354806049484275],[1.0,0.649746192893401],[7.0,0.4593639575971732],[2.0,0.1271468512847823],[7.0,0.6585018035399716],[1.0,1.0],[3.0,0.37476979742173117],[2.0,0.9588620833914376],[1.0,0.1473125414731254],[1.0,0.3045537340619307],[1.0,0.1405285255618671],[4.0,0.1277015659376213],[1.0,0.1087939975725477],[1.0,0.1041941150636802],[1.0,0.1094406367455228],[1.0,0.1731025299600532],[1.0,0.4446564885496183],[1.0,0.7667224080267558],[1.0,0.2169637369391518],[1.0,0.3679154658981748],[1.0,0.3214723926380368],[1.0,0.2757225433526011],[1.0,0.1558149977548271],[2.0,0.2765432098765432],[1.0,0.2754041570438799],[1.0,0.2498516320474777],[1.0,0.2682660850599782],[1.0,0.8373493975903614],[2.0,0.3423394787031151],[1.0,0.3632717375734136],[1.0,0.2877172484299693],[3.0,0.1341163908168713],[4.0,0.3711620217288616],[6.0,0.3263046916183447],[267.0,0.1650536153561218],[1.0,0.4944852941176471],[47.0,0.722658019810776],[62.0,0.6050967302751492],[49.0,0.4852938107758441],[1.0,0.2065727699530516],[19.0,0.204360499767021],[2.0,0.3529411764705882],[2.0,0.8735714285714286],[24.0,0.7336974511751074],[2.0,0.2203468746362472],[3.0,0.7010065127294257],[5.0,0.3077757685352622],[105.0,0.5059421810339804],[247.0,0.6237367166190034],[5.0,0.8160137752905726],[1.0,0.2683280208635178],[1.0,0.7656103286384977],[1.0,0.8815897136177674],[1.0,0.3254281949934124],[1.0,0.2837423312883436],[1.0,0.2405891980360065],[1.0,0.1771700356718192],[2.0,0.1316989737742303],[1.0,0.4666666666666667],[32.0,0.4032183790421612],[10.0,0.3927389705882353],[1.0,0.7453416149068323],[1.0,0.2756892230576441],[10.0,0.2632718524458701],[19.0,0.4600989653621232],[1.0,0.1171875],[1.0,0.3159315931593159],[1.0,0.7496463932107497],[6.0,0.7421469960353767],[1.0,0.5900216919739696],[3.0,0.1519763263580638],[18.0,0.158083021104549],[2.0,0.1583460365853658],[1.0,0.1676509811392646],[1.0,0.3013333333333333],[19.0,0.2100820822437832],[15.0,0.160820161239129],[21.0,0.1733391394279182],[1.0,0.1370150965029619],[7.0,0.1545734448652625],[6.0,0.1534210024776062],[1.0,0.3000987166831194],[1.0,0.2918008422095615],[4.0,0.2266636891469406],[16.0,0.1818988370104327],[2.0,0.5318386568386568],[2.0,0.2130044843049327],[5.0,0.9275179856115108],[6.0,0.43537948577993074],[23.0,0.3737555581526857],[159.0,0.13719610200567275],[2.0,0.7129641208308861],[7.0,0.44326135913104975],[9.0,0.5992208172280594],[1.0,0.5866666666666667],[48.0,0.318828245470548],[4.0,0.3835891033173642],[4.0,0.7713584996879799],[22.0,0.15721183072593037],[2.0,0.3006067291781577],[3.0,0.29025610678514924],[280.0,0.862776383254051],[18.0,0.1410955347871235],[8.0,0.7066009870708556],[3.0,0.2392592414890811],[11.0,0.49265265981403666],[35.0,0.46883407599019516],[27.0,0.14189046708757833],[2.0,0.3278958348834313],[7.0,0.38612695142814557],[3.0,0.17467319543571938],[3.0,0.14171609647159394],[21.0,0.11955352477565619],[3.0,0.8605210160462547],[15.0,0.8072206589204692],[1.0,0.3974358974358974],[2.0,0.15625898360102045],[25.0,0.6591776621428393],[11.0,0.4196146081926907],[11.0,0.5927746381171811],[12.0,0.5935124235935175],[2.0,0.29326842370320627],[2.0,0.35909461432327416],[74.0,0.5391919914388633],[39.0,0.48665608092213586],[19.0,0.6412659340703586],[14.0,0.196872761470295],[1.0,0.8377501352082206],[4.0,0.7530357004282869],[42.0,0.352858067518504],[12.0,0.7192221864229119],[4.0,0.44515535017655833],[6.0,0.5609910030869821],[16.0,0.33329433980174117],[21.0,0.3896713842462611],[76.0,0.25939513391707886],[2.0,0.5704659108340655],[9.0,0.4677845306713004],[2.0,0.1688408188193654],[1.0,0.2183297947629157],[1.0,1.0],[11.0,0.24055988412369136],[5.0,0.45105436307873603],[14.0,0.23904926891452136],[558.0,0.37585607864585896],[4.0,0.2139966508512419],[1.0,0.5659871244635193],[17.0,0.1948159450218225],[1.0,0.2865950676213206],[5.0,0.2433662748085123],[4.0,0.2689162330184019],[6.0,0.44780109204759416],[3.0,0.390875596012137],[6.0,0.442827387882494],[104.0,0.7338525677298342],[24.0,0.5248413376096],[1.0,0.1748082357690755],[29.0,0.3242815432773626],[21.0,0.32622688803124344],[5.0,0.22407791018917908],[8.0,0.20065316411142875],[26.0,0.37336534289716133],[61.0,0.8231628968839787],[9.0,0.5346937404394851],[75.0,0.2544080696542253],[30.0,0.8602152305124954],[6.0,0.4467364054223371],[4.0,0.48491210913312177],[5.0,0.3583468867933894],[63.0,0.472223608333183],[2.0,0.3457692278972379],[40.0,0.37548737994161424],[3.0,0.5586834270793076],[2.0,0.30887950925483576],[1.0,0.7667224080267558],[11.0,0.32016789346159774],[4.0,0.33391698585240326],[461.0,0.32204826802153586],[141.0,0.5429957647095778],[247.0,0.6237367166190034],[8.0,0.7494496174465807],[1.0,0.3254281949934124],[81.0,0.3838357137272301],[7.0,0.7432183384890013],[1.0,0.5900216919739696],[94.0,0.17309190299180785],[1.0,0.3000987166831194],[21.0,0.1956589043316308],[119.0,0.39149164995822905],[3.0,0.14171609647159394],[380.0,0.7504176174986564],[816.0,0.25628868905233637],[25.0,0.6591776621428393],[1.0,0.2865950676213206],[1694.0,0.4458047106851237],[15.0,0.4274534202022305],[116.0,0.39400142694937046],[1.0,0.1748082357690755],[19.0,0.7940688857569316],[4.0,0.3835891033173642],[30.0,0.8602152305124954],[152.0,0.6515743634247398],[1.0,0.5659871244635193],[318.0,0.561590764667392],[1721.0,0.44888238727500696],[1312.0,0.41158112076396564],[25.0,0.6591776621428393]],\"domain\":{\"x\":[0.0,1.0],\"y\":[0.0,1.0]},\"hovertemplate\":\"labels=%{label}<br>Counting=%{customdata[0]}<br>parent=%{parent}<br>id=%{id}<br>mean_subcov=%{color}<extra></extra>\",\"ids\":[\"LTR/Gypsy/ACCORD2/ACCORD2_LTR_2R_RaGOO_780158_781719\",\"LTR/Gypsy/ACCORD/ACCORD_LTR_2L_RaGOO_22631471_22632026\",\"LTR/Gypsy/ACCORD/ACCORD_LTR_2R_RaGOO_10985734_10986218\",\"DNA/TcMar-Tc1/BARI1/BARI1_2L_RaGOO_21112657_21113769\",\"LTR/Pao/BATUMI/BATUMI_I_3R_RaGOO_2416724_2424946\",\"LTR/Pao/BATUMI/BATUMI_LTR_2R_RaGOO_4345307_4350249\",\"LTR/Pao/BATUMI/BATUMI_LTR_3L_RaGOO_23406069_23411035\",\"LTR/Pao/BATUMI/BATUMI_LTR_3L_RaGOO_24966975_24975533\",\"LTR/Pao/BEL/BEL_I_2L_RaGOO_22140085_22145620\",\"LTR/Pao/BEL/BEL_I_2R_RaGOO_2039893_2045646\",\"LTR/Pao/BEL/BEL_I_2R_RaGOO_2083395_2088562\",\"LTR/Pao/BEL/BEL_I_2R_RaGOO_23360371_23363115\",\"LTR/Pao/BEL/BEL_I_3L_RaGOO_26289408_26291999\",\"LTR/Pao/BEL/BEL_LTR_2R_RaGOO_2034320_2039892\",\"LTR/Pao/BEL/BEL_LTR_2R_RaGOO_2068892_2074965\",\"LTR/Pao/BEL/BEL_LTR_3R_RaGOO_11276926_11283012\",\"LTR/Pao/BEL/BEL_LTR_3R_RaGOO_2548314_2554338\",\"LTR/Gypsy/BLASTOPIA/BLASTOPIA_I_3R_RaGOO_11787155_11791536\",\"LTR/Gypsy/BLASTOPIA/BLASTOPIA_I_3R_RaGOO_3126038_3131033\",\"LTR/Gypsy/BLASTOPIA/BLASTOPIA_LTR_2R_RaGOO_2878638_2883652\",\"LTR/Gypsy/BLASTOPIA/BLASTOPIA_LTR_2R_RaGOO_3217647_3222622\",\"LTR/Gypsy/BLASTOPIA/BLASTOPIA_LTR_2R_RaGOO_3837273_3841595\",\"LTR/Gypsy/BLASTOPIA/BLASTOPIA_LTR_3L_RaGOO_23419160_23424177\",\"LTR/Gypsy/BLASTOPIA/BLASTOPIA_LTR_3L_RaGOO_23460661_23465627\",\"LTR/Gypsy/BLASTOPIA/BLASTOPIA_LTR_3R_RaGOO_8215021_8220047\",\"LTR/Gypsy/BLASTOPIA/BLASTOPIA_LTR_X_RaGOO_10104239_10109267\",\"LTR/Gypsy/BLASTOPIA/BLASTOPIA_LTR_X_RaGOO_8707375_8710412\",\"LINE/I-Jockey/BS2/BS2_2R_RaGOO_2406301_2407991\",\"LINE/I-Jockey/BS2/BS2_2R_RaGOO_3748515_3753218\",\"LINE/I-Jockey/BS2/BS2_3L_RaGOO_25323736_25325774\",\"LINE/I-Jockey/BS3_DM/BS3_DM_3L_RaGOO_23041919_23043796\",\"LINE/I-Jockey/BS3_DM/BS3_DM_3L_RaGOO_23572783_23574472\",\"LINE/I-Jockey/BS3_DM/BS3_DM_3R_RaGOO_1150409_1151578\",\"LINE/I-Jockey/BS4_DM/BS4_DM_3R_RaGOO_4052534_4053284\",\"LINE/I-Jockey/BS/BS_2L_RaGOO_21012781_21017119\",\"LINE/I-Jockey/BS/BS_3L_RaGOO_26196418_26197513\",\"LTR/Gypsy/BURDOCK/BURDOCK_I_2R_RaGOO_1726260_1734798\",\"LTR/Gypsy/BURDOCK/BURDOCK_LTR_2L_RaGOO_4499214_4501787\",\"LTR/Gypsy/BURDOCK/BURDOCK_LTR_2R_RaGOO_14046385_14048986\",\"LTR/Gypsy/BURDOCK/BURDOCK_LTR_2R_RaGOO_1428763_1433741\",\"LTR/Gypsy/BURDOCK/BURDOCK_LTR_2R_RaGOO_18620960_18624380\",\"LTR/Gypsy/BURDOCK/BURDOCK_LTR_2R_RaGOO_216960_223366\",\"LTR/Gypsy/BURDOCK/BURDOCK_LTR_2R_RaGOO_5173682_5176253\",\"LTR/Gypsy/BURDOCK/BURDOCK_LTR_3L_RaGOO_10638503_10641077\",\"LTR/Gypsy/BURDOCK/BURDOCK_LTR_3R_RaGOO_24036640_24040804\",\"LTR/Gypsy/BURDOCK/BURDOCK_LTR_3R_RaGOO_30423715_30430182\",\"LINE/R1-LOA/Baggins1/Baggins1_3R_RaGOO_1477244_1479844\",\"LINE/R1-LOA/Baggins1/Baggins1_X_RaGOO_21982566_21987672\",\"LTR/Gypsy/Bica/Bica_LTR_2R_RaGOO_3530447_3531703\",\"LTR/Gypsy/Bica/Bica_LTR_3R_RaGOO_2884824_2888297\",\"LTR/Gypsy/Bica/Bica_LTR_3R_RaGOO_756222_760925\",\"LTR/Gypsy/Bica/Bica_LTR_3R_RaGOO_935684_940600\",\"LTR/Gypsy/CIRCE/CIRCE_2L_RaGOO_22747719_22753380\",\"LTR/Gypsy/CIRCE/CIRCE_3R_RaGOO_3073861_3079193\",\"LTR/Gypsy/CIRCE/CIRCE_3R_RaGOO_661262_663254\",\"LTR/Gypsy/Chimpo/Chimpo_LTR_3L_RaGOO_16584918_16588544\",\"LTR/Gypsy/Chouto/Chouto_I_3R_RaGOO_2003553_2009866\",\"LTR/Gypsy/Chouto/Chouto_LTR_3R_RaGOO_2874586_2881082\",\"LTR/Copia/Copia1/Copia1-I_DM_2R_RaGOO_2841061_2845341\",\"LTR/Copia/Copia2/Copia2_I_2L_RaGOO_22533654_22535543\",\"LTR/Copia/Copia2/Copia2_I_2L_RaGOO_22537082_22539089\",\"LTR/Copia/Copia2/Copia2_I_3L_RaGOO_23755452_23759152\",\"LTR/Copia/Copia2/Copia2_I_3L_RaGOO_25902823_25904087\",\"LTR/Copia/Copia/Copia_I_3R_RaGOO_1738736_1739720\",\"LTR/Copia/Copia/Copia_LTR_2L_RaGOO_12650_17604\",\"LTR/Copia/Copia/Copia_LTR_2L_RaGOO_13770083_13775227\",\"LTR/Copia/Copia/Copia_LTR_2L_RaGOO_14753817_14758950\",\"LTR/Copia/Copia/Copia_LTR_2L_RaGOO_21771835_21776956\",\"LTR/Copia/Copia/Copia_LTR_2L_RaGOO_9004503_9009641\",\"LTR/Copia/Copia/Copia_LTR_2R_RaGOO_20482857_20488005\",\"LTR/Copia/Copia/Copia_LTR_3L_RaGOO_10022428_10027467\",\"LTR/Copia/Copia/Copia_LTR_3L_RaGOO_10052506_10057644\",\"LTR/Copia/Copia/Copia_LTR_3L_RaGOO_17623155_17628299\",\"LTR/Copia/Copia/Copia_LTR_3R_RaGOO_1372041_1377188\",\"LTR/Pao/DIVER2/DIVER2_I_2R_RaGOO_226749_227895\",\"LTR/Pao/DIVER2/DIVER2_I_2R_RaGOO_2625663_2626763\",\"LTR/Pao/DIVER2/DIVER2_I_2R_RaGOO_3973922_3976557\",\"LTR/Pao/DIVER2/DIVER2_LTR_2R_RaGOO_32697_34334\",\"LTR/Pao/DIVER2/DIVER2_LTR_3L_RaGOO_23132660_23136151\",\"LTR/Pao/DIVER2/DIVER2_LTR_3L_RaGOO_24400525_24401251\",\"LTR/Pao/DIVER2/DIVER2_LTR_3R_RaGOO_2278224_2281355\",\"LTR/Pao/DIVER/DIVER_LTR_3L_RaGOO_23629771_23635886\",\"LTR/Pao/DIVER/DIVER_LTR_3L_RaGOO_23659267_23665368\",\"LTR/Copia/DM1731/DM1731_I_2R_RaGOO_2509093_2513173\",\"LTR/Copia/DM1731/DM1731_I_2R_RaGOO_3224667_3226753\",\"LTR/Copia/DM1731/DM1731_LTR_3L_RaGOO_24209333_24213898\",\"LTR/Gypsy/DM176/DM176_I_2R_RaGOO_196886_202183\",\"LTR/Gypsy/DM176/DM176_LTR_2R_RaGOO_1810865_1818363\",\"LTR/Gypsy/DM176/DM176_LTR_3R_RaGOO_16769763_16777264\",\"LTR/Gypsy/DM297/DM297_I_2R_RaGOO_16168_20202\",\"LTR/Gypsy/DM297/DM297_LTR_3R_RaGOO_29474982_29479020\",\"LTR/Gypsy/DM412B/DM412B_LTR_2R_RaGOO_15154633_15162070\",\"LTR/Gypsy/DM412B/DM412B_LTR_3R_RaGOO_21307972_21315446\",\"LTR/Gypsy/DM412/DM412_2R_RaGOO_2546519_2550576\",\"LTR/Gypsy/DM412/DM412_2R_RaGOO_3802214_3804613\",\"LTR/Gypsy/DM412/DM412_3L_RaGOO_23966181_23969638\",\"LTR/Gypsy/DM412/DM412_3R_RaGOO_1828602_1829088\",\"LTR/Gypsy/DM412/DM412_X_RaGOO_21683716_21684196\",\"LINE/CR1/DMCR1A/DMCR1A_2R_RaGOO_1696052_1704661\",\"LINE/CR1/DMCR1A/DMCR1A_3R_RaGOO_3606626_3614941\",\"LTR/Gypsy/DMLTR5/DMLTR5_2R_RaGOO_209115_216178\",\"LTR/Gypsy/DMLTR5/DMLTR5_3L_RaGOO_20040252_20046596\",\"LTR/Gypsy/DMLTR5/DMLTR5_3L_RaGOO_9000054_9007128\",\"LTR/Gypsy/DMLTR5/DMLTR5_3R_RaGOO_4864395_4871469\",\"LTR/Gypsy/DMLTR5/DMLTR5_X_RaGOO_1828728_1835798\",\"LTR/Gypsy/DMLTR5/DMLTR5_X_RaGOO_51338_54479\",\"LINE/R1/DMRT1A/DMRT1A_2R_RaGOO_2314724_2319855\",\"LINE/R1/DMRT1A/DMRT1A_2R_RaGOO_3571985_3576878\",\"LINE/R1/DMRT1B/DMRT1B_2R_RaGOO_4313497_4314653\",\"LINE/R1/DMRT1B/DMRT1B_2R_RaGOO_4404275_4406331\",\"LINE/R1/DMRT1B/DMRT1B_X_RaGOO_18329002_18330754\",\"LINE/R1/DMRT1C/DMRT1C_X_RaGOO_20495200_20495668\",\"LTR/Gypsy/DMTOM1/DMTOM1_LTR_3L_RaGOO_25120882_25124400\",\"LTR/Gypsy/DMTOM1/DMTOM1_LTR_3L_RaGOO_25153928_25157456\",\"RC/Helitron/DNAREP1_DM/DNAREP1_DM_2R_RaGOO_2628409_2628867\",\"RC/Helitron/DNAREP1_DM/DNAREP1_DM_2R_RaGOO_3774996_3775651\",\"RC/Helitron/DNAREP1_DM/DNAREP1_DM_2R_RaGOO_5274469_5275451\",\"RC/Helitron/DNAREP1_DM/DNAREP1_DM_3L_RaGOO_22591311_22592255\",\"RC/Helitron/DNAREP1_DM/DNAREP1_DM_3L_RaGOO_23563089_23563359\",\"RC/Helitron/DNAREP1_DM/DNAREP1_DM_3R_RaGOO_3632660_3633639\",\"RC/Helitron/DNAREP1_DM/DNAREP1_DM_3R_RaGOO_3758706_3759140\",\"RC/Helitron/DNAREP1_DM/DNAREP1_DM_X_RaGOO_712208_713323\",\"LINE/I-Jockey/DOC2_DM/DOC2_DM_2L_RaGOO_22281476_22284663\",\"LINE/I-Jockey/DOC2_DM/DOC2_DM_2R_RaGOO_3631456_3634477\",\"LINE/I-Jockey/DOC2_DM/DOC2_DM_2R_RaGOO_4321721_4324846\",\"LINE/I-Jockey/DOC3_DM/DOC3_DM_2R_RaGOO_860527_861391\",\"LINE/I-Jockey/DOC3_DM/DOC3_DM_3R_RaGOO_2983770_2986840\",\"LINE/I-Jockey/DOC4_DM/DOC4_DM_2R_RaGOO_3295532_3296428\",\"LINE/I-Jockey/DOC4_DM/DOC4_DM_2R_RaGOO_3363873_3364724\",\"LINE/I-Jockey/DOC6_DM/DOC6_DM_2L_RaGOO_8926966_8931176\",\"LINE/I-Jockey/DOC6_DM/DOC6_DM_3R_RaGOO_12924881_12926303\",\"LINE/I-Jockey/DOC/DOC_2L_RaGOO_10374119_10376385\",\"LINE/I-Jockey/DOC/DOC_2L_RaGOO_11197822_11200584\",\"LINE/I-Jockey/DOC/DOC_2R_RaGOO_2456335_2459707\",\"LINE/I-Jockey/DOC/DOC_3L_RaGOO_11738950_11741243\",\"LINE/I-Jockey/DOC/DOC_3L_RaGOO_24733562_24735608\",\"LINE/I-Jockey/DOC/DOC_3R_RaGOO_24532793_24537308\",\"LINE/I-Jockey/DOC/DOC_3R_RaGOO_2584606_2587487\",\"DNA/TcMar-Tc1/FB4_DM/FB4_DM_2R_RaGOO_3378778_3380218\",\"DNA/TcMar-Tc1/FB4_DM/FB4_DM_2R_RaGOO_4872115_4873084\",\"DNA/TcMar-Tc1/FB4_DM/FB4_DM_3R_RaGOO_16914758_16917850\",\"DNA/TcMar-Tc1/FB4_DM/FB4_DM_3R_RaGOO_16921110_16924199\",\"DNA/TcMar-Tc1/FB4_DM/FB4_DM_3R_RaGOO_30986386_30987925\",\"DNA/TcMar-Tc1/FB4_DM/FB4_DM_3R_RaGOO_4811780_4813400\",\"DNA/TcMar-Tc1/FB4_DM/FB4_DM_X_RaGOO_21327350_21328820\",\"DNA/TcMar-Tc1/FB4_DM/FB4_DM_X_RaGOO_2599171_2602268\",\"LTR/Copia/FROGGER/FROGGER_LTR_2R_RaGOO_3942161_3946521\",\"LINE/I-Jockey/FW2_DM/FW2_DM_2L_RaGOO_1444418_1448277\",\"LINE/I-Jockey/FW2_DM/FW2_DM_2L_RaGOO_22126527_22126906\",\"LINE/I-Jockey/FW2_DM/FW2_DM_2R_RaGOO_16422077_16426501\",\"LINE/I-Jockey/FW2_DM/FW2_DM_2R_RaGOO_4440629_4442178\",\"LINE/I-Jockey/FW2_DM/FW2_DM_2R_RaGOO_837106_838459\",\"LINE/I-Jockey/FW2_DM/FW2_DM_2R_RaGOO_9471212_9475089\",\"LINE/I-Jockey/FW2_DM/FW2_DM_2R_RaGOO_9475282_9475454\",\"LINE/I-Jockey/FW2_DM/FW2_DM_3L_RaGOO_15544081_15545732\",\"LINE/I-Jockey/FW2_DM/FW2_DM_3L_RaGOO_25270388_25271045\",\"LINE/I-Jockey/FW2_DM/FW2_DM_3L_RaGOO_25468282_25468689\",\"LINE/I-Jockey/FW2_DM/FW2_DM_3R_RaGOO_23975283_23975690\",\"LINE/I-Jockey/FW3_DM/FW3_DM_3L_RaGOO_24482361_24486070\",\"LINE/I-Jockey/FW3_DM/FW3_DM_3R_RaGOO_2079747_2081812\",\"LINE/I-Jockey/G2_DM/G2_DM_2R_RaGOO_3025369_3027218\",\"LINE/I-Jockey/G3_DM/G3_DM_3L_RaGOO_24448303_24448772\",\"LINE/I-Jockey/G3_DM/G3_DM_3R_RaGOO_987129_988860\",\"LINE/I-Jockey/G4_DM/G4_DM_2R_RaGOO_3770363_3771605\",\"LINE/I-Jockey/G4_DM/G4_DM_2R_RaGOO_5428573_5433784\",\"LINE/I-Jockey/G4_DM/G4_DM_3L_RaGOO_24449098_24450836\",\"LINE/I-Jockey/G4_DM/G4_DM_3L_RaGOO_25463237_25464087\",\"LINE/I-Jockey/G4_DM/G4_DM_3L_RaGOO_25501627_25504470\",\"LINE/I-Jockey/G4_DM/G4_DM_3R_RaGOO_2542636_2543942\",\"LINE/I-Jockey/G4_DM/G4_DM_3R_RaGOO_3291399_3294964\",\"LINE/I-Jockey/G5A_DM/G5A_DM_2R_RaGOO_3275262_3277173\",\"LINE/I-Jockey/G5A_DM/G5A_DM_2R_RaGOO_4442347_4444566\",\"LINE/I-Jockey/G5A_DM/G5A_DM_3L_RaGOO_23341585_23343064\",\"LINE/I-Jockey/G5A_DM/G5A_DM_X_RaGOO_21990167_21991360\",\"LINE/I-Jockey/G5_DM/G5_DM_2R_RaGOO_2445224_2449042\",\"LINE/I-Jockey/G5_DM/G5_DM_3R_RaGOO_5264596_5267762\",\"LINE/I-Jockey/G_DM/G_DM_2R_RaGOO_1024944_1025700\",\"LINE/I-Jockey/G_DM/G_DM_2R_RaGOO_4175900_4177034\",\"LINE/I-Jockey/G_DM/G_DM_3R_RaGOO_683694_686308\",\"LTR/Gypsy/Gypsy10/Gypsy10_I_3L_RaGOO_23680911_23682178\",\"LTR/Gypsy/Gypsy10/Gypsy10_I_3R_RaGOO_761442_762629\",\"LTR/Gypsy/Gypsy12A/Gypsy12A_LTR_3R_RaGOO_1864004_1865329\",\"LTR/Gypsy/Gypsy12A/Gypsy12A_LTR_3R_RaGOO_3432347_3433700\",\"LTR/Gypsy/Gypsy12/Gypsy12_I_3R_RaGOO_11767009_11769301\",\"LTR/Gypsy/Gypsy12/Gypsy12_LTR_2R_RaGOO_1299099_1309281\",\"LTR/Gypsy/Gypsy12/Gypsy12_LTR_3R_RaGOO_2266515_2268947\",\"LTR/Gypsy/Gypsy12/Gypsy12_LTR_3R_RaGOO_842982_854376\",\"LTR/Gypsy/Gypsy12/Gypsy12_LTR_3R_RaGOO_854376_858510\",\"LTR/Gypsy/Gypsy12/Gypsy12_LTR_3R_RaGOO_960900_963176\",\"LTR/Gypsy/Gypsy2/Gypsy2-I_DM_2R_RaGOO_545702_556702\",\"LTR/Gypsy/Gypsy2/Gypsy2-I_DM_X_RaGOO_21780820_21782689\",\"LTR/Gypsy/Gypsy2/Gypsy2_I_2R_RaGOO_2754731_2758370\",\"LTR/Gypsy/Gypsy2/Gypsy2_LTR_3R_RaGOO_795037_796049\",\"LTR/Gypsy/Gypsy4/Gypsy4_I_3L_RaGOO_24436421_24438902\",\"LTR/Gypsy/Gypsy4/Gypsy4_I_3R_RaGOO_1706691_1713573\",\"LTR/Gypsy/Gypsy5/Gypsy5_LTR_3L_RaGOO_22847293_22850119\",\"LTR/Gypsy/Gypsy6A/Gypsy6A_LTR_2R_RaGOO_1594276_1596780\",\"LTR/Gypsy/Gypsy6A/Gypsy6A_LTR_2R_RaGOO_2192166_2199771\",\"LTR/Gypsy/Gypsy6A/Gypsy6A_LTR_2R_RaGOO_2808245_2809716\",\"LTR/Gypsy/Gypsy6/Gypsy6_I_3L_RaGOO_24203509_24205270\",\"LTR/Gypsy/Gypsy8/Gypsy8_I_2R_RaGOO_2534282_2536641\",\"LTR/Gypsy/Gypsy8/Gypsy8_I_2R_RaGOO_3245111_3248013\",\"LTR/Gypsy/Gypsy8/Gypsy8_I_3L_RaGOO_23435681_23436000\",\"LTR/Gypsy/Gypsy9/Gypsy9_I_2R_RaGOO_4520165_4522724\",\"LTR/Gypsy/Gypsy9/Gypsy9_I_3R_RaGOO_1751109_1752321\",\"LTR/Gypsy/Gypsy9/Gypsy9_LTR_2R_RaGOO_1564853_1570428\",\"LTR/Gypsy/Gypsy9/Gypsy9_LTR_3L_RaGOO_24678043_24682992\",\"LTR/Gypsy/Gypsy/Gypsy_I_3R_RaGOO_4187299_4190434\",\"LTR/Gypsy/Gypsy/Gypsy_LTR_2R_RaGOO_3014728_3015826\",\"LTR/Gypsy/Gypsy/Gypsy_LTR_2R_RaGOO_3023081_3029323\",\"LTR/Gypsy/Gypsy/Gypsy_LTR_X_RaGOO_21952250_21959516\",\"LINE/I-Jockey/HETA/HETA_2R_RaGOO_1141073_1145629\",\"LINE/I-Jockey/HETA/HETA_2R_RaGOO_2824725_2826074\",\"LINE/I-Jockey/HETA/HETA_2R_RaGOO_2831691_2835985\",\"LINE/I-Jockey/HETA/HETA_2R_RaGOO_3703418_3705329\",\"LINE/I-Jockey/HETA/HETA_2R_RaGOO_3705344_3707190\",\"LINE/I-Jockey/HETA/HETA_3L_RaGOO_12349_18402\",\"LINE/I-Jockey/HETA/HETA_3L_RaGOO_1459_2479\",\"LINE/I-Jockey/HETA/HETA_3L_RaGOO_18403_20679\",\"LINE/I-Jockey/HETA/HETA_3L_RaGOO_24251790_24258327\",\"LINE/I-Jockey/HETA/HETA_3L_RaGOO_24251825_24252692\",\"LINE/I-Jockey/HETA/HETA_X_RaGOO_3925_6784\",\"LINE/I-Jockey/HETA/HETA_X_RaGOO_85920_94840\",\"LINE/I-Jockey/HETA/HETA_X_RaGOO_87709_93586\",\"LTR/Gypsy/HMSBEAGLE/HMSBEAGLE_I_X_RaGOO_20979244_20982827\",\"DNA/hAT-hobo/HOBO/HOBO_2R_RaGOO_7159203_7161067\",\"LTR/Gypsy/IDEFIX/IDEFIX_I_2L_RaGOO_1826802_1833031\",\"LTR/Gypsy/IDEFIX/IDEFIX_I_2R_RaGOO_1769992_1776196\",\"LTR/Gypsy/IDEFIX/IDEFIX_I_3L_RaGOO_23168345_23170287\",\"LTR/Gypsy/IDEFIX/IDEFIX_I_3L_RaGOO_25115262_25120284\",\"LTR/Gypsy/IDEFIX/IDEFIX_I_3L_RaGOO_26187834_26189813\",\"LTR/Gypsy/IDEFIX/IDEFIX_I_3R_RaGOO_1951636_1955757\",\"LTR/Gypsy/IDEFIX/IDEFIX_I_3R_RaGOO_3401465_3412308\",\"LTR/Gypsy/IDEFIX/IDEFIX_LTR_3L_RaGOO_20046597_20052802\",\"LTR/Gypsy/IDEFIX/IDEFIX_LTR_3L_RaGOO_24086580_24091288\",\"LINE/I/I_DM/I_DM_3R_RaGOO_2656520_2661548\",\"LTR/Gypsy/Invader1/Invader1_LTR_2R_RaGOO_4582435_4586466\",\"LTR/Gypsy/Invader1/Invader1_LTR_2R_RaGOO_4667269_4671292\",\"LTR/Gypsy/Invader1/Invader1_LTR_3L_RaGOO_25028557_25031534\",\"LTR/Gypsy/Invader2/Invader2_LTR_2L_RaGOO_21812134_21815478\",\"LTR/Gypsy/Invader2/Invader2_LTR_2L_RaGOO_21838879_21843827\",\"LTR/Gypsy/Invader2/Invader2_LTR_2R_RaGOO_1490054_1495226\",\"LTR/Gypsy/Invader2/Invader2_LTR_3R_RaGOO_3025165_3030061\",\"LTR/Gypsy/Invader3/Invader3_I_2R_RaGOO_4009780_4011606\",\"LTR/Gypsy/Invader3/Invader3_LTR_2R_RaGOO_1085221_1090662\",\"LTR/Gypsy/Invader3/Invader3_LTR_3L_RaGOO_25707637_25710357\",\"LTR/Gypsy/Invader4/Invader4_LTR_4_RaGOO_899649_902725\",\"LTR/Gypsy/Invader6/Invader6_I_3L_RaGOO_25623224_25628102\",\"LTR/Gypsy/Invader6/Invader6_LTR_3L_RaGOO_25617938_25623223\",\"LTR/Gypsy/Invader6/Invader6_LTR_3R_RaGOO_2712551_2717731\",\"LINE/I-Jockey/Jockey2/Jockey2_3L_RaGOO_23444902_23445519\",\"LINE/I-Jockey/Jockey2/Jockey2_X_RaGOO_20630903_20633313\",\"LINE/I-Jockey/Jockey2/Jockey2_X_RaGOO_21267965_21268839\",\"LINE/I-Jockey/Jockey2/Jockey2_X_RaGOO_21275337_21276483\",\"LINE/I-Jockey/LINEJ1_DM/LINEJ1_DM_2L_RaGOO_14486763_14487102\",\"LINE/I-Jockey/LINEJ1_DM/LINEJ1_DM_2L_RaGOO_21781469_21782486\",\"LINE/I-Jockey/LINEJ1_DM/LINEJ1_DM_2R_RaGOO_13409014_13410283\",\"LINE/I-Jockey/LINEJ1_DM/LINEJ1_DM_2R_RaGOO_14196105_14196466\",\"LINE/I-Jockey/LINEJ1_DM/LINEJ1_DM_2R_RaGOO_14471638_14476659\",\"LINE/I-Jockey/LINEJ1_DM/LINEJ1_DM_2R_RaGOO_15316919_15318025\",\"LINE/I-Jockey/LINEJ1_DM/LINEJ1_DM_2R_RaGOO_16066858_16067429\",\"LINE/I-Jockey/LINEJ1_DM/LINEJ1_DM_2R_RaGOO_17291470_17291808\",\"LINE/I-Jockey/LINEJ1_DM/LINEJ1_DM_2R_RaGOO_4418576_4420188\",\"LINE/I-Jockey/LINEJ1_DM/LINEJ1_DM_3L_RaGOO_22260268_22261110\",\"LINE/I-Jockey/LINEJ1_DM/LINEJ1_DM_3L_RaGOO_22531026_22531626\",\"LINE/I-Jockey/LINEJ1_DM/LINEJ1_DM_3L_RaGOO_2446918_2447256\",\"LINE/I-Jockey/LINEJ1_DM/LINEJ1_DM_3L_RaGOO_2780157_2780510\",\"LINE/I-Jockey/LINEJ1_DM/LINEJ1_DM_3L_RaGOO_8152194_8154624\",\"LINE/I-Jockey/LINEJ1_DM/LINEJ1_DM_3R_RaGOO_19526132_19526396\",\"LINE/I-Jockey/LINEJ1_DM/LINEJ1_DM_3R_RaGOO_7164645_7169623\",\"LINE/I-Jockey/LINEJ1_DM/LINEJ1_DM_X_RaGOO_14865499_14865833\",\"LINE/I-Jockey/LINEJ1_DM/LINEJ1_DM_X_RaGOO_16362095_16362449\",\"LINE/I-Jockey/LINEJ1_DM/LINEJ1_DM_X_RaGOO_19652833_19656224\",\"LINE/I-Jockey/LINEJ1_DM/LINEJ1_DM_X_RaGOO_7424439_7433932\",\"DNA/PiggyBac/LOOPER1_DM/LOOPER1_DM_2R_RaGOO_3949985_3952462\",\"DNA/CMC-Transib/M4DM/M4DM_2L_RaGOO_20556174_20557598\",\"DNA/CMC-Transib/M4DM/M4DM_2R_RaGOO_2014409_2015841\",\"DNA/CMC-Transib/M4DM/M4DM_2R_RaGOO_344818_345841\",\"DNA/CMC-Transib/M4DM/M4DM_2R_RaGOO_4214054_4215593\",\"DNA/CMC-Transib/M4DM/M4DM_3L_RaGOO_22270623_22272063\",\"DNA/CMC-Transib/M4DM/M4DM_3L_RaGOO_25693372_25696157\",\"LTR/Pao/MAX/MAX_LTR_2R_RaGOO_137030_138260\",\"LTR/Pao/MAX/MAX_LTR_3L_RaGOO_18036944_18045426\",\"LTR/Pao/MAX/MAX_LTR_3L_RaGOO_24378598_24386713\",\"LTR/Pao/MAX/MAX_LTR_3L_RaGOO_24772475_24783045\",\"LTR/Pao/MAX/MAX_LTR_3L_RaGOO_3640512_3649209\",\"LTR/Pao/MAX/MAX_LTR_3R_RaGOO_2817082_2818238\",\"LTR/Gypsy/MDG1/MDG1_I_3L_RaGOO_5843715_5847721\",\"LTR/Gypsy/MDG1/MDG1_I_3L_RaGOO_5902786_5906792\",\"LTR/Gypsy/MDG1/MDG1_LTR_3L_RaGOO_22730419_22737426\",\"LTR/Gypsy/MDG1/MDG1_LTR_X_RaGOO_6133671_6134025\",\"LTR/Gypsy/MDG3/MDG3_LTR_3R_RaGOO_4405841_4411373\",\"LTR/Gypsy/MDG3/MDG3_LTR_X_RaGOO_11132720_11138277\",\"LTR/Gypsy/MDG3/MDG3_LTR_X_RaGOO_11298256_11303771\",\"LTR/Gypsy/MDG3/MDG3_LTR_X_RaGOO_14587062_14592565\",\"LTR/Gypsy/MDG3/MDG3_LTR_X_RaGOO_15113881_15119378\",\"LTR/Gypsy/MICROPIA/MICROPIA_I_2R_RaGOO_21655615_21659568\",\"LTR/Gypsy/MICROPIA/MICROPIA_I_2R_RaGOO_3123540_3124639\",\"LTR/Gypsy/MICROPIA/MICROPIA_I_2R_RaGOO_3215745_3216844\",\"LTR/Gypsy/MICROPIA/MICROPIA_I_3L_RaGOO_4604350_4608941\",\"LTR/Gypsy/MICROPIA/MICROPIA_I_3R_RaGOO_15561841_15565791\",\"LTR/Gypsy/MICROPIA/MICROPIA_I_3R_RaGOO_23396903_23401501\",\"LTR/Gypsy/MICROPIA/MICROPIA_I_3R_RaGOO_23423966_23428126\",\"LTR/Gypsy/MICROPIA/MICROPIA_I_3R_RaGOO_31083506_31088004\",\"LTR/Gypsy/MICROPIA/MICROPIA_I_4_RaGOO_311799_315755\",\"LTR/Gypsy/MICROPIA/MICROPIA_I_X_RaGOO_17340828_17345349\",\"LTR/Gypsy/MICROPIA/MICROPIA_I_X_RaGOO_3133282_3137242\",\"LTR/Gypsy/MICROPIA/MICROPIA_I_X_RaGOO_603817_607773\",\"DNA/TcMar-Tc1/Mariner2_DM/Mariner2_DM_2L_RaGOO_21507526_21508443\",\"DNA/TcMar-Tc1/Mariner2_DM/Mariner2_DM_2R_RaGOO_1808583_1809435\",\"DNA/TcMar-Tc1/Mariner2_DM/Mariner2_DM_2R_RaGOO_6313845_6314821\",\"DNA/TcMar-Tc1/Mariner2_DM/Mariner2_DM_3L_RaGOO_22748069_22749176\",\"DNA/TcMar-Tc1/Mariner2_DM/Mariner2_DM_3L_RaGOO_22903450_22904558\",\"DNA/TcMar-Tc1/Mariner2_DM/Mariner2_DM_3L_RaGOO_26311078_26311875\",\"DNA/TcMar-Tc1/Mariner2_DM/Mariner2_DM_4_RaGOO_638924_639677\",\"DNA/TcMar-Tc1/Mariner2_DM/Mariner2_DM_X_RaGOO_21869176_21870046\",\"LTR/Pao/NINJA/NINJA_I_3R_RaGOO_1358085_1360185\",\"LTR/Pao/NINJA/NINJA_LTR_3L_RaGOO_25746489_25749281\",\"LTR/Pao/NINJA/NINJA_LTR_3R_RaGOO_3468445_3473299\",\"LTR/Pao/NINJA/NINJA_LTR_3R_RaGOO_615399_620854\",\"LTR/Gypsy/NOMAD/NOMAD_I_2L_RaGOO_22581023_22587526\",\"LTR/Gypsy/NOMAD/NOMAD_I_2R_RaGOO_383343_386109\",\"LTR/Gypsy/NOMAD/NOMAD_I_2R_RaGOO_4093744_4094800\",\"LTR/Gypsy/NOMAD/NOMAD_LTR_2L_RaGOO_13384378_13391980\",\"LTR/Gypsy/NOMAD/NOMAD_LTR_2L_RaGOO_3400786_3408481\",\"LTR/Gypsy/NOMAD/NOMAD_LTR_2R_RaGOO_15583316_15590827\",\"LTR/Gypsy/NOMAD/NOMAD_LTR_2R_RaGOO_1925644_1932366\",\"LTR/Gypsy/NOMAD/NOMAD_LTR_2R_RaGOO_20674240_20681841\",\"LTR/Gypsy/NOMAD/NOMAD_LTR_2R_RaGOO_471172_473817\",\"LTR/Gypsy/NOMAD/NOMAD_LTR_3L_RaGOO_10268410_10275872\",\"LTR/Gypsy/NOMAD/NOMAD_LTR_3L_RaGOO_23497748_23505249\",\"LTR/Gypsy/NOMAD/NOMAD_LTR_3R_RaGOO_1014813_1022279\",\"LTR/Gypsy/NOMAD/NOMAD_LTR_3R_RaGOO_28971169_28974159\",\"LTR/Gypsy/NOMAD/NOMAD_LTR_X_RaGOO_11398933_11406469\",\"LTR/Gypsy/NOMAD/NOMAD_LTR_X_RaGOO_14781769_14789300\",\"DNA/TcMar-Pogo/POGO/POGO_2L_RaGOO_2955877_2958004\",\"DNA/TcMar-Pogo/POGO/POGO_2R_RaGOO_16569084_16570235\",\"DNA/TcMar-Pogo/POGO/POGO_2R_RaGOO_7201268_7202754\",\"DNA/TcMar-Pogo/POGO/POGO_3L_RaGOO_9733928_9735150\",\"DNA/TcMar-Pogo/POGO/POGO_3R_RaGOO_11285980_11288111\",\"DNA/TcMar-Pogo/POGO/POGO_X_RaGOO_14998652_15000110\",\"DNA/P/PROTOP/PROTOP_3L_RaGOO_25377208_25377594\",\"DNA/P/PROTOP/PROTOP_3L_RaGOO_25955252_25957435\",\"DNA/P/PROTOP/PROTOP_3L_RaGOO_26174341_26176865\",\"DNA/P/PROTOP/PROTOP_4_RaGOO_358464_360439\",\"DNA/P/PROTOP_A/PROTOP_A_3L_RaGOO_18608230_18609333\",\"DNA/P/PROTOP_A/PROTOP_A_3R_RaGOO_1946916_1947766\",\"DNA/P/PROTOP_A/PROTOP_A_3R_RaGOO_2145521_2146619\",\"DNA/P/PROTOP_A/PROTOP_A_4_RaGOO_24706_25801\",\"DNA/P/PROTOP_B/PROTOP_B_2R_RaGOO_6428707_6429467\",\"DNA/P/PROTOP_B/PROTOP_B_3L_RaGOO_26361704_26362962\",\"DNA/P/PROTOP_B/PROTOP_B_4_RaGOO_175159_176280\",\"LTR/Gypsy/QUASIMODO2/QUASIMODO2-I_DM_3R_RaGOO_777690_778919\",\"LTR/Gypsy/QUASIMODO2/QUASIMODO2-LTR_DM_4_RaGOO_13230_19659\",\"LTR/Gypsy/QUASIMODO/QUASIMODO_I_2L_RaGOO_22728039_22732539\",\"LTR/Gypsy/QUASIMODO/QUASIMODO_I_2R_RaGOO_2240068_2244259\",\"LTR/Gypsy/QUASIMODO/QUASIMODO_I_2R_RaGOO_3071782_3075068\",\"LTR/Gypsy/QUASIMODO/QUASIMODO_I_2R_RaGOO_3940692_3953437\",\"LTR/Gypsy/QUASIMODO/QUASIMODO_I_2R_RaGOO_4031047_4034609\",\"LTR/Gypsy/QUASIMODO/QUASIMODO_I_3L_RaGOO_25608743_25613047\",\"LTR/Gypsy/QUASIMODO/QUASIMODO_LTR_2R_RaGOO_2572412_2572983\",\"LTR/Gypsy/QUASIMODO/QUASIMODO_LTR_2R_RaGOO_3561204_3567967\",\"LTR/Gypsy/QUASIMODO/QUASIMODO_LTR_3L_RaGOO_23734260_23734917\",\"LTR/Gypsy/QUASIMODO/QUASIMODO_LTR_3L_RaGOO_25055074_25055510\",\"LTR/Gypsy/QUASIMODO/QUASIMODO_LTR_3R_RaGOO_1809892_1810303\",\"LTR/Gypsy/QUASIMODO/QUASIMODO_LTR_3R_RaGOO_2062159_2066713\",\"LTR/Gypsy/QUASIMODO/QUASIMODO_LTR_3R_RaGOO_2953500_2957027\",\"LTR/Gypsy/QUASIMODO/QUASIMODO_LTR_3R_RaGOO_2970516_2971173\",\"LTR/Gypsy/QUASIMODO/QUASIMODO_LTR_3R_RaGOO_3643836_3644407\",\"LTR/Pao/ROOA/ROOA_I_2R_RaGOO_3369128_3375460\",\"LTR/Pao/ROOA/ROOA_LTR_2R_RaGOO_4206312_4212475\",\"LTR/Pao/ROOA/ROOA_LTR_2R_RaGOO_944947_948834\",\"LTR/Pao/ROO/ROO_I_2R_RaGOO_17052400_17055914\",\"LTR/Pao/ROO/ROO_I_2R_RaGOO_18916354_18932157\",\"LTR/Pao/ROO/ROO_I_3L_RaGOO_11054181_11056742\",\"LTR/Pao/ROO/ROO_I_3L_RaGOO_19559699_19561114\",\"LTR/Pao/ROO/ROO_I_3L_RaGOO_2683031_2690542\",\"LTR/Pao/ROO/ROO_I_3R_RaGOO_12957465_12959168\",\"LTR/Pao/ROO/ROO_I_3R_RaGOO_13786472_13790447\",\"LTR/Pao/ROO/ROO_I_3R_RaGOO_15240450_15245518\",\"LTR/Pao/ROO/ROO_I_3R_RaGOO_1548324_1562666\",\"LTR/Pao/ROO/ROO_I_3R_RaGOO_6611977_6613484\",\"LTR/Pao/ROO/ROO_I_X_RaGOO_13302951_13311186\",\"LTR/Pao/ROO/ROO_I_X_RaGOO_19301259_19305308\",\"LTR/Pao/ROO/ROO_I_X_RaGOO_5586864_5594591\",\"LTR/Pao/ROO/ROO_LTR_2L_RaGOO_1554051_1563114\",\"LTR/Pao/ROO/ROO_LTR_3L_RaGOO_9180412_9189520\",\"LTR/Pao/ROO/ROO_LTR_3R_RaGOO_24484209_24493255\",\"LTR/Gypsy/ROVER/ROVER-I_DM_3R_RaGOO_602392_603894\",\"LTR/Gypsy/ROVER/ROVER-LTR_DM_2R_RaGOO_3256225_3263561\",\"DNA/TcMar-Tc1/S2_DM/S2_DM_2L_RaGOO_22291772_22294164\",\"DNA/TcMar-Tc1/S_DM/S_DM_2L_RaGOO_22311465_22313092\",\"DNA/TcMar-Tc1/S_DM/S_DM_2R_RaGOO_1267254_1268295\",\"DNA/TcMar-Tc1/S_DM/S_DM_2R_RaGOO_7347017_7347832\",\"DNA/TcMar-Tc1/S_DM/S_DM_3L_RaGOO_15369099_15370829\",\"DNA/TcMar-Tc1/S_DM/S_DM_3L_RaGOO_23313261_23315488\",\"DNA/TcMar-Tc1/S_DM/S_DM_3L_RaGOO_23677604_23678414\",\"DNA/TcMar-Tc1/S_DM/S_DM_3L_RaGOO_24954457_24956189\",\"DNA/TcMar-Tc1/S_DM/S_DM_3L_RaGOO_26043127_26044812\",\"DNA/TcMar-Tc1/S_DM/S_DM_3R_RaGOO_657036_657953\",\"DNA/TcMar-Tc1/S_DM/S_DM_4_RaGOO_220378_221042\",\"LTR/Gypsy/TABOR/TABOR_I_2R_RaGOO_2811324_2817616\",\"LTR/Gypsy/TABOR/TABOR_LTR_2R_RaGOO_1855147_1862128\",\"LTR/Gypsy/TABOR/TABOR_LTR_X_RaGOO_18271260_18278107\",\"LINE/I-Jockey/TAHRE/TAHRE_2L_RaGOO_38366_47731\",\"LINE/I-Jockey/TAHRE/TAHRE_2L_RaGOO_5229_7346\",\"LINE/I-Jockey/TAHRE/TAHRE_2L_RaGOO_5506_7403\",\"LINE/I-Jockey/TAHRE/TAHRE_2R_RaGOO_1145909_1151824\",\"LINE/I-Jockey/TAHRE/TAHRE_2R_RaGOO_1151895_1152439\",\"LINE/I-Jockey/TAHRE/TAHRE_2R_RaGOO_3700966_3703361\",\"LINE/I-Jockey/TAHRE/TAHRE_3L_RaGOO_20705_26581\",\"LINE/I-Jockey/TAHRE/TAHRE_3L_RaGOO_24249813_24257637\",\"LINE/I-Jockey/TAHRE/TAHRE_3L_RaGOO_24252861_24253713\",\"LINE/I-Jockey/TAHRE/TAHRE_3L_RaGOO_2547_12261\",\"LINE/I-Jockey/TAHRE/TAHRE_X_RaGOO_94808_95641\",\"LINE/I-Jockey/TART-A/TART-A_3L_RaGOO_16376942_16377642\",\"LINE/I-Jockey/TART-A/TART-A_3L_RaGOO_24811306_24813320\",\"LINE/I-Jockey/TART-A/TART-A_3L_RaGOO_24818846_24827437\",\"LINE/I-Jockey/TART-A/TART-A_4_RaGOO_1262950_1263513\",\"LINE/I-Jockey/TART-A/TART-A_X_RaGOO_3270_3823\",\"LINE/I-Jockey/TART-A/TART-A_X_RaGOO_3_3271\",\"LINE/I-Jockey/TART_B1/TART_B1_2R_RaGOO_23920095_23923160\",\"LTR/Gypsy/TIRANT/TIRANT_LTR_2L_RaGOO_20669409_20674055\",\"LTR/Gypsy/TIRANT/TIRANT_LTR_2L_RaGOO_22323129_22326580\",\"LTR/Gypsy/TIRANT/TIRANT_LTR_3L_RaGOO_23807453_23815973\",\"LTR/Gypsy/TIRANT/TIRANT_LTR_3R_RaGOO_22583602_22592157\",\"LTR/Gypsy/TOM/TOM_I_3R_RaGOO_779996_780755\",\"DNA/CMC-Transib/TRANSIB2/TRANSIB2_2L_RaGOO_21593386_21595342\",\"DNA/CMC-Transib/TRANSIB2/TRANSIB2_2R_RaGOO_15059_15670\",\"DNA/CMC-Transib/TRANSIB2/TRANSIB2_2R_RaGOO_1674937_1676619\",\"DNA/CMC-Transib/TRANSIB2/TRANSIB2_2R_RaGOO_1819719_1821473\",\"DNA/CMC-Transib/TRANSIB2/TRANSIB2_2R_RaGOO_3035974_3037999\",\"DNA/CMC-Transib/TRANSIB2/TRANSIB2_2R_RaGOO_3421509_3423952\",\"DNA/CMC-Transib/TRANSIB2/TRANSIB2_2R_RaGOO_5449525_5451701\",\"DNA/CMC-Transib/TRANSIB2/TRANSIB2_3L_RaGOO_14769394_14771004\",\"DNA/CMC-Transib/TRANSIB2/TRANSIB2_3L_RaGOO_23526338_23527136\",\"DNA/CMC-Transib/TRANSIB2/TRANSIB2_3L_RaGOO_24511852_24514346\",\"DNA/CMC-Transib/TRANSIB2/TRANSIB2_3R_RaGOO_1753687_1756027\",\"DNA/CMC-Transib/TRANSIB2/TRANSIB2_X_RaGOO_21175244_21178316\",\"DNA/CMC-Transib/TRANSIB2/TRANSIB2_X_RaGOO_22006547_22007658\",\"DNA/CMC-Transib/TRANSIB3/TRANSIB3_3R_RaGOO_2204217_2205631\",\"DNA/CMC-Transib/TRANSIB3/TRANSIB3_3R_RaGOO_2679434_2681620\",\"DNA/CMC-Transib/TRANSIB4/TRANSIB4_2R_RaGOO_4423372_4424755\",\"LTR/Gypsy/TRANSPAC/TRANSPAC_I_3R_RaGOO_26707140_26711871\",\"LTR/Gypsy/TRANSPAC/TRANSPAC_LTR_2L_RaGOO_2221225_2226474\",\"LTR/Gypsy/TRANSPAC/TRANSPAC_LTR_2L_RaGOO_8985200_8990448\",\"LTR/Gypsy/TRANSPAC/TRANSPAC_LTR_2R_RaGOO_109057_114306\",\"LTR/Gypsy/TRANSPAC/TRANSPAC_LTR_2R_RaGOO_15245759_15251009\",\"LTR/Gypsy/TRANSPAC/TRANSPAC_LTR_2R_RaGOO_21445727_21450940\",\"LTR/Gypsy/TRANSPAC/TRANSPAC_LTR_3L_RaGOO_1562415_1567666\",\"LTR/Gypsy/TRANSPAC/TRANSPAC_LTR_3R_RaGOO_21217775_21223024\",\"LTR/Gypsy/TRANSPAC/TRANSPAC_LTR_X_RaGOO_17017750_17022983\",\"LTR/Gypsy/TRANSPAC/TRANSPAC_LTR_X_RaGOO_19519061_19524304\",\"LTR/Gypsy/TRANSPAC/TRANSPAC_LTR_X_RaGOO_4638939_4644186\",\"DNA/CMC-Transib/Transib5/Transib5_3R_RaGOO_1262033_1264059\",\"LTR/Gypsy/ZAM/ZAM_I_3R_RaGOO_1939464_1943501\",\"LTR/Gypsy/ZAM/ZAM_LTR_2R_RaGOO_1559245_1563723\",\"LTR/Gypsy/ZAM/ZAM_LTR_3R_RaGOO_3216098_3221945\",\"LTR/Gypsy/ACCORD\",\"LTR/Gypsy/ACCORD2\",\"DNA/TcMar-Tc1/BARI1\",\"LTR/Pao/BATUMI\",\"LTR/Pao/BEL\",\"LTR/Gypsy/BLASTOPIA\",\"LINE/I-Jockey/BS\",\"LINE/I-Jockey/BS2\",\"LINE/I-Jockey/BS3_DM\",\"LINE/I-Jockey/BS4_DM\",\"LTR/Gypsy/BURDOCK\",\"LINE/R1-LOA/Baggins1\",\"LTR/Gypsy/Bica\",\"LTR/Gypsy/CIRCE\",\"LTR/Gypsy/Chimpo\",\"LTR/Gypsy/Chouto\",\"LTR/Copia/Copia\",\"LTR/Copia/Copia1\",\"LTR/Copia/Copia2\",\"LTR/Pao/DIVER\",\"LTR/Pao/DIVER2\",\"LTR/Copia/DM1731\",\"LTR/Gypsy/DM176\",\"LTR/Gypsy/DM297\",\"LTR/Gypsy/DM412\",\"LTR/Gypsy/DM412B\",\"LINE/CR1/DMCR1A\",\"LTR/Gypsy/DMLTR5\",\"LINE/R1/DMRT1A\",\"LINE/R1/DMRT1B\",\"LINE/R1/DMRT1C\",\"LTR/Gypsy/DMTOM1\",\"RC/Helitron/DNAREP1_DM\",\"LINE/I-Jockey/DOC\",\"LINE/I-Jockey/DOC2_DM\",\"LINE/I-Jockey/DOC3_DM\",\"LINE/I-Jockey/DOC4_DM\",\"LINE/I-Jockey/DOC6_DM\",\"DNA/TcMar-Tc1/FB4_DM\",\"LTR/Copia/FROGGER\",\"LINE/I-Jockey/FW2_DM\",\"LINE/I-Jockey/FW3_DM\",\"LINE/I-Jockey/G2_DM\",\"LINE/I-Jockey/G3_DM\",\"LINE/I-Jockey/G4_DM\",\"LINE/I-Jockey/G5A_DM\",\"LINE/I-Jockey/G5_DM\",\"LINE/I-Jockey/G_DM\",\"LTR/Gypsy/Gypsy\",\"LTR/Gypsy/Gypsy10\",\"LTR/Gypsy/Gypsy12\",\"LTR/Gypsy/Gypsy12A\",\"LTR/Gypsy/Gypsy2\",\"LTR/Gypsy/Gypsy4\",\"LTR/Gypsy/Gypsy5\",\"LTR/Gypsy/Gypsy6\",\"LTR/Gypsy/Gypsy6A\",\"LTR/Gypsy/Gypsy8\",\"LTR/Gypsy/Gypsy9\",\"LINE/I-Jockey/HETA\",\"LTR/Gypsy/HMSBEAGLE\",\"DNA/hAT-hobo/HOBO\",\"LTR/Gypsy/IDEFIX\",\"LINE/I/I_DM\",\"LTR/Gypsy/Invader1\",\"LTR/Gypsy/Invader2\",\"LTR/Gypsy/Invader3\",\"LTR/Gypsy/Invader4\",\"LTR/Gypsy/Invader6\",\"LINE/I-Jockey/Jockey2\",\"LINE/I-Jockey/LINEJ1_DM\",\"DNA/PiggyBac/LOOPER1_DM\",\"DNA/CMC-Transib/M4DM\",\"LTR/Pao/MAX\",\"LTR/Gypsy/MDG1\",\"LTR/Gypsy/MDG3\",\"LTR/Gypsy/MICROPIA\",\"DNA/TcMar-Tc1/Mariner2_DM\",\"LTR/Pao/NINJA\",\"LTR/Gypsy/NOMAD\",\"DNA/TcMar-Pogo/POGO\",\"DNA/P/PROTOP\",\"DNA/P/PROTOP_A\",\"DNA/P/PROTOP_B\",\"LTR/Gypsy/QUASIMODO\",\"LTR/Gypsy/QUASIMODO2\",\"LTR/Pao/ROO\",\"LTR/Pao/ROOA\",\"LTR/Gypsy/ROVER\",\"DNA/TcMar-Tc1/S2_DM\",\"DNA/TcMar-Tc1/S_DM\",\"LTR/Gypsy/TABOR\",\"LINE/I-Jockey/TAHRE\",\"LINE/I-Jockey/TART-A\",\"LINE/I-Jockey/TART_B1\",\"LTR/Gypsy/TIRANT\",\"LTR/Gypsy/TOM\",\"DNA/CMC-Transib/TRANSIB2\",\"DNA/CMC-Transib/TRANSIB3\",\"DNA/CMC-Transib/TRANSIB4\",\"LTR/Gypsy/TRANSPAC\",\"DNA/CMC-Transib/Transib5\",\"LTR/Gypsy/ZAM\",\"DNA/CMC-Transib\",\"LINE/CR1\",\"LTR/Copia\",\"LTR/Gypsy\",\"RC/Helitron\",\"LINE/I\",\"LINE/I-Jockey\",\"DNA/P\",\"LTR/Pao\",\"DNA/PiggyBac\",\"LINE/R1\",\"LINE/R1-LOA\",\"DNA/TcMar-Pogo\",\"DNA/TcMar-Tc1\",\"DNA/hAT-hobo\",\"DNA\",\"LINE\",\"LTR\",\"RC\"],\"labels\":[\"ACCORD2_LTR_2R_RaGOO_780158_781719\",\"ACCORD_LTR_2L_RaGOO_22631471_22632026\",\"ACCORD_LTR_2R_RaGOO_10985734_10986218\",\"BARI1_2L_RaGOO_21112657_21113769\",\"BATUMI_I_3R_RaGOO_2416724_2424946\",\"BATUMI_LTR_2R_RaGOO_4345307_4350249\",\"BATUMI_LTR_3L_RaGOO_23406069_23411035\",\"BATUMI_LTR_3L_RaGOO_24966975_24975533\",\"BEL_I_2L_RaGOO_22140085_22145620\",\"BEL_I_2R_RaGOO_2039893_2045646\",\"BEL_I_2R_RaGOO_2083395_2088562\",\"BEL_I_2R_RaGOO_23360371_23363115\",\"BEL_I_3L_RaGOO_26289408_26291999\",\"BEL_LTR_2R_RaGOO_2034320_2039892\",\"BEL_LTR_2R_RaGOO_2068892_2074965\",\"BEL_LTR_3R_RaGOO_11276926_11283012\",\"BEL_LTR_3R_RaGOO_2548314_2554338\",\"BLASTOPIA_I_3R_RaGOO_11787155_11791536\",\"BLASTOPIA_I_3R_RaGOO_3126038_3131033\",\"BLASTOPIA_LTR_2R_RaGOO_2878638_2883652\",\"BLASTOPIA_LTR_2R_RaGOO_3217647_3222622\",\"BLASTOPIA_LTR_2R_RaGOO_3837273_3841595\",\"BLASTOPIA_LTR_3L_RaGOO_23419160_23424177\",\"BLASTOPIA_LTR_3L_RaGOO_23460661_23465627\",\"BLASTOPIA_LTR_3R_RaGOO_8215021_8220047\",\"BLASTOPIA_LTR_X_RaGOO_10104239_10109267\",\"BLASTOPIA_LTR_X_RaGOO_8707375_8710412\",\"BS2_2R_RaGOO_2406301_2407991\",\"BS2_2R_RaGOO_3748515_3753218\",\"BS2_3L_RaGOO_25323736_25325774\",\"BS3_DM_3L_RaGOO_23041919_23043796\",\"BS3_DM_3L_RaGOO_23572783_23574472\",\"BS3_DM_3R_RaGOO_1150409_1151578\",\"BS4_DM_3R_RaGOO_4052534_4053284\",\"BS_2L_RaGOO_21012781_21017119\",\"BS_3L_RaGOO_26196418_26197513\",\"BURDOCK_I_2R_RaGOO_1726260_1734798\",\"BURDOCK_LTR_2L_RaGOO_4499214_4501787\",\"BURDOCK_LTR_2R_RaGOO_14046385_14048986\",\"BURDOCK_LTR_2R_RaGOO_1428763_1433741\",\"BURDOCK_LTR_2R_RaGOO_18620960_18624380\",\"BURDOCK_LTR_2R_RaGOO_216960_223366\",\"BURDOCK_LTR_2R_RaGOO_5173682_5176253\",\"BURDOCK_LTR_3L_RaGOO_10638503_10641077\",\"BURDOCK_LTR_3R_RaGOO_24036640_24040804\",\"BURDOCK_LTR_3R_RaGOO_30423715_30430182\",\"Baggins1_3R_RaGOO_1477244_1479844\",\"Baggins1_X_RaGOO_21982566_21987672\",\"Bica_LTR_2R_RaGOO_3530447_3531703\",\"Bica_LTR_3R_RaGOO_2884824_2888297\",\"Bica_LTR_3R_RaGOO_756222_760925\",\"Bica_LTR_3R_RaGOO_935684_940600\",\"CIRCE_2L_RaGOO_22747719_22753380\",\"CIRCE_3R_RaGOO_3073861_3079193\",\"CIRCE_3R_RaGOO_661262_663254\",\"Chimpo_LTR_3L_RaGOO_16584918_16588544\",\"Chouto_I_3R_RaGOO_2003553_2009866\",\"Chouto_LTR_3R_RaGOO_2874586_2881082\",\"Copia1-I_DM_2R_RaGOO_2841061_2845341\",\"Copia2_I_2L_RaGOO_22533654_22535543\",\"Copia2_I_2L_RaGOO_22537082_22539089\",\"Copia2_I_3L_RaGOO_23755452_23759152\",\"Copia2_I_3L_RaGOO_25902823_25904087\",\"Copia_I_3R_RaGOO_1738736_1739720\",\"Copia_LTR_2L_RaGOO_12650_17604\",\"Copia_LTR_2L_RaGOO_13770083_13775227\",\"Copia_LTR_2L_RaGOO_14753817_14758950\",\"Copia_LTR_2L_RaGOO_21771835_21776956\",\"Copia_LTR_2L_RaGOO_9004503_9009641\",\"Copia_LTR_2R_RaGOO_20482857_20488005\",\"Copia_LTR_3L_RaGOO_10022428_10027467\",\"Copia_LTR_3L_RaGOO_10052506_10057644\",\"Copia_LTR_3L_RaGOO_17623155_17628299\",\"Copia_LTR_3R_RaGOO_1372041_1377188\",\"DIVER2_I_2R_RaGOO_226749_227895\",\"DIVER2_I_2R_RaGOO_2625663_2626763\",\"DIVER2_I_2R_RaGOO_3973922_3976557\",\"DIVER2_LTR_2R_RaGOO_32697_34334\",\"DIVER2_LTR_3L_RaGOO_23132660_23136151\",\"DIVER2_LTR_3L_RaGOO_24400525_24401251\",\"DIVER2_LTR_3R_RaGOO_2278224_2281355\",\"DIVER_LTR_3L_RaGOO_23629771_23635886\",\"DIVER_LTR_3L_RaGOO_23659267_23665368\",\"DM1731_I_2R_RaGOO_2509093_2513173\",\"DM1731_I_2R_RaGOO_3224667_3226753\",\"DM1731_LTR_3L_RaGOO_24209333_24213898\",\"DM176_I_2R_RaGOO_196886_202183\",\"DM176_LTR_2R_RaGOO_1810865_1818363\",\"DM176_LTR_3R_RaGOO_16769763_16777264\",\"DM297_I_2R_RaGOO_16168_20202\",\"DM297_LTR_3R_RaGOO_29474982_29479020\",\"DM412B_LTR_2R_RaGOO_15154633_15162070\",\"DM412B_LTR_3R_RaGOO_21307972_21315446\",\"DM412_2R_RaGOO_2546519_2550576\",\"DM412_2R_RaGOO_3802214_3804613\",\"DM412_3L_RaGOO_23966181_23969638\",\"DM412_3R_RaGOO_1828602_1829088\",\"DM412_X_RaGOO_21683716_21684196\",\"DMCR1A_2R_RaGOO_1696052_1704661\",\"DMCR1A_3R_RaGOO_3606626_3614941\",\"DMLTR5_2R_RaGOO_209115_216178\",\"DMLTR5_3L_RaGOO_20040252_20046596\",\"DMLTR5_3L_RaGOO_9000054_9007128\",\"DMLTR5_3R_RaGOO_4864395_4871469\",\"DMLTR5_X_RaGOO_1828728_1835798\",\"DMLTR5_X_RaGOO_51338_54479\",\"DMRT1A_2R_RaGOO_2314724_2319855\",\"DMRT1A_2R_RaGOO_3571985_3576878\",\"DMRT1B_2R_RaGOO_4313497_4314653\",\"DMRT1B_2R_RaGOO_4404275_4406331\",\"DMRT1B_X_RaGOO_18329002_18330754\",\"DMRT1C_X_RaGOO_20495200_20495668\",\"DMTOM1_LTR_3L_RaGOO_25120882_25124400\",\"DMTOM1_LTR_3L_RaGOO_25153928_25157456\",\"DNAREP1_DM_2R_RaGOO_2628409_2628867\",\"DNAREP1_DM_2R_RaGOO_3774996_3775651\",\"DNAREP1_DM_2R_RaGOO_5274469_5275451\",\"DNAREP1_DM_3L_RaGOO_22591311_22592255\",\"DNAREP1_DM_3L_RaGOO_23563089_23563359\",\"DNAREP1_DM_3R_RaGOO_3632660_3633639\",\"DNAREP1_DM_3R_RaGOO_3758706_3759140\",\"DNAREP1_DM_X_RaGOO_712208_713323\",\"DOC2_DM_2L_RaGOO_22281476_22284663\",\"DOC2_DM_2R_RaGOO_3631456_3634477\",\"DOC2_DM_2R_RaGOO_4321721_4324846\",\"DOC3_DM_2R_RaGOO_860527_861391\",\"DOC3_DM_3R_RaGOO_2983770_2986840\",\"DOC4_DM_2R_RaGOO_3295532_3296428\",\"DOC4_DM_2R_RaGOO_3363873_3364724\",\"DOC6_DM_2L_RaGOO_8926966_8931176\",\"DOC6_DM_3R_RaGOO_12924881_12926303\",\"DOC_2L_RaGOO_10374119_10376385\",\"DOC_2L_RaGOO_11197822_11200584\",\"DOC_2R_RaGOO_2456335_2459707\",\"DOC_3L_RaGOO_11738950_11741243\",\"DOC_3L_RaGOO_24733562_24735608\",\"DOC_3R_RaGOO_24532793_24537308\",\"DOC_3R_RaGOO_2584606_2587487\",\"FB4_DM_2R_RaGOO_3378778_3380218\",\"FB4_DM_2R_RaGOO_4872115_4873084\",\"FB4_DM_3R_RaGOO_16914758_16917850\",\"FB4_DM_3R_RaGOO_16921110_16924199\",\"FB4_DM_3R_RaGOO_30986386_30987925\",\"FB4_DM_3R_RaGOO_4811780_4813400\",\"FB4_DM_X_RaGOO_21327350_21328820\",\"FB4_DM_X_RaGOO_2599171_2602268\",\"FROGGER_LTR_2R_RaGOO_3942161_3946521\",\"FW2_DM_2L_RaGOO_1444418_1448277\",\"FW2_DM_2L_RaGOO_22126527_22126906\",\"FW2_DM_2R_RaGOO_16422077_16426501\",\"FW2_DM_2R_RaGOO_4440629_4442178\",\"FW2_DM_2R_RaGOO_837106_838459\",\"FW2_DM_2R_RaGOO_9471212_9475089\",\"FW2_DM_2R_RaGOO_9475282_9475454\",\"FW2_DM_3L_RaGOO_15544081_15545732\",\"FW2_DM_3L_RaGOO_25270388_25271045\",\"FW2_DM_3L_RaGOO_25468282_25468689\",\"FW2_DM_3R_RaGOO_23975283_23975690\",\"FW3_DM_3L_RaGOO_24482361_24486070\",\"FW3_DM_3R_RaGOO_2079747_2081812\",\"G2_DM_2R_RaGOO_3025369_3027218\",\"G3_DM_3L_RaGOO_24448303_24448772\",\"G3_DM_3R_RaGOO_987129_988860\",\"G4_DM_2R_RaGOO_3770363_3771605\",\"G4_DM_2R_RaGOO_5428573_5433784\",\"G4_DM_3L_RaGOO_24449098_24450836\",\"G4_DM_3L_RaGOO_25463237_25464087\",\"G4_DM_3L_RaGOO_25501627_25504470\",\"G4_DM_3R_RaGOO_2542636_2543942\",\"G4_DM_3R_RaGOO_3291399_3294964\",\"G5A_DM_2R_RaGOO_3275262_3277173\",\"G5A_DM_2R_RaGOO_4442347_4444566\",\"G5A_DM_3L_RaGOO_23341585_23343064\",\"G5A_DM_X_RaGOO_21990167_21991360\",\"G5_DM_2R_RaGOO_2445224_2449042\",\"G5_DM_3R_RaGOO_5264596_5267762\",\"G_DM_2R_RaGOO_1024944_1025700\",\"G_DM_2R_RaGOO_4175900_4177034\",\"G_DM_3R_RaGOO_683694_686308\",\"Gypsy10_I_3L_RaGOO_23680911_23682178\",\"Gypsy10_I_3R_RaGOO_761442_762629\",\"Gypsy12A_LTR_3R_RaGOO_1864004_1865329\",\"Gypsy12A_LTR_3R_RaGOO_3432347_3433700\",\"Gypsy12_I_3R_RaGOO_11767009_11769301\",\"Gypsy12_LTR_2R_RaGOO_1299099_1309281\",\"Gypsy12_LTR_3R_RaGOO_2266515_2268947\",\"Gypsy12_LTR_3R_RaGOO_842982_854376\",\"Gypsy12_LTR_3R_RaGOO_854376_858510\",\"Gypsy12_LTR_3R_RaGOO_960900_963176\",\"Gypsy2-I_DM_2R_RaGOO_545702_556702\",\"Gypsy2-I_DM_X_RaGOO_21780820_21782689\",\"Gypsy2_I_2R_RaGOO_2754731_2758370\",\"Gypsy2_LTR_3R_RaGOO_795037_796049\",\"Gypsy4_I_3L_RaGOO_24436421_24438902\",\"Gypsy4_I_3R_RaGOO_1706691_1713573\",\"Gypsy5_LTR_3L_RaGOO_22847293_22850119\",\"Gypsy6A_LTR_2R_RaGOO_1594276_1596780\",\"Gypsy6A_LTR_2R_RaGOO_2192166_2199771\",\"Gypsy6A_LTR_2R_RaGOO_2808245_2809716\",\"Gypsy6_I_3L_RaGOO_24203509_24205270\",\"Gypsy8_I_2R_RaGOO_2534282_2536641\",\"Gypsy8_I_2R_RaGOO_3245111_3248013\",\"Gypsy8_I_3L_RaGOO_23435681_23436000\",\"Gypsy9_I_2R_RaGOO_4520165_4522724\",\"Gypsy9_I_3R_RaGOO_1751109_1752321\",\"Gypsy9_LTR_2R_RaGOO_1564853_1570428\",\"Gypsy9_LTR_3L_RaGOO_24678043_24682992\",\"Gypsy_I_3R_RaGOO_4187299_4190434\",\"Gypsy_LTR_2R_RaGOO_3014728_3015826\",\"Gypsy_LTR_2R_RaGOO_3023081_3029323\",\"Gypsy_LTR_X_RaGOO_21952250_21959516\",\"HETA_2R_RaGOO_1141073_1145629\",\"HETA_2R_RaGOO_2824725_2826074\",\"HETA_2R_RaGOO_2831691_2835985\",\"HETA_2R_RaGOO_3703418_3705329\",\"HETA_2R_RaGOO_3705344_3707190\",\"HETA_3L_RaGOO_12349_18402\",\"HETA_3L_RaGOO_1459_2479\",\"HETA_3L_RaGOO_18403_20679\",\"HETA_3L_RaGOO_24251790_24258327\",\"HETA_3L_RaGOO_24251825_24252692\",\"HETA_X_RaGOO_3925_6784\",\"HETA_X_RaGOO_85920_94840\",\"HETA_X_RaGOO_87709_93586\",\"HMSBEAGLE_I_X_RaGOO_20979244_20982827\",\"HOBO_2R_RaGOO_7159203_7161067\",\"IDEFIX_I_2L_RaGOO_1826802_1833031\",\"IDEFIX_I_2R_RaGOO_1769992_1776196\",\"IDEFIX_I_3L_RaGOO_23168345_23170287\",\"IDEFIX_I_3L_RaGOO_25115262_25120284\",\"IDEFIX_I_3L_RaGOO_26187834_26189813\",\"IDEFIX_I_3R_RaGOO_1951636_1955757\",\"IDEFIX_I_3R_RaGOO_3401465_3412308\",\"IDEFIX_LTR_3L_RaGOO_20046597_20052802\",\"IDEFIX_LTR_3L_RaGOO_24086580_24091288\",\"I_DM_3R_RaGOO_2656520_2661548\",\"Invader1_LTR_2R_RaGOO_4582435_4586466\",\"Invader1_LTR_2R_RaGOO_4667269_4671292\",\"Invader1_LTR_3L_RaGOO_25028557_25031534\",\"Invader2_LTR_2L_RaGOO_21812134_21815478\",\"Invader2_LTR_2L_RaGOO_21838879_21843827\",\"Invader2_LTR_2R_RaGOO_1490054_1495226\",\"Invader2_LTR_3R_RaGOO_3025165_3030061\",\"Invader3_I_2R_RaGOO_4009780_4011606\",\"Invader3_LTR_2R_RaGOO_1085221_1090662\",\"Invader3_LTR_3L_RaGOO_25707637_25710357\",\"Invader4_LTR_4_RaGOO_899649_902725\",\"Invader6_I_3L_RaGOO_25623224_25628102\",\"Invader6_LTR_3L_RaGOO_25617938_25623223\",\"Invader6_LTR_3R_RaGOO_2712551_2717731\",\"Jockey2_3L_RaGOO_23444902_23445519\",\"Jockey2_X_RaGOO_20630903_20633313\",\"Jockey2_X_RaGOO_21267965_21268839\",\"Jockey2_X_RaGOO_21275337_21276483\",\"LINEJ1_DM_2L_RaGOO_14486763_14487102\",\"LINEJ1_DM_2L_RaGOO_21781469_21782486\",\"LINEJ1_DM_2R_RaGOO_13409014_13410283\",\"LINEJ1_DM_2R_RaGOO_14196105_14196466\",\"LINEJ1_DM_2R_RaGOO_14471638_14476659\",\"LINEJ1_DM_2R_RaGOO_15316919_15318025\",\"LINEJ1_DM_2R_RaGOO_16066858_16067429\",\"LINEJ1_DM_2R_RaGOO_17291470_17291808\",\"LINEJ1_DM_2R_RaGOO_4418576_4420188\",\"LINEJ1_DM_3L_RaGOO_22260268_22261110\",\"LINEJ1_DM_3L_RaGOO_22531026_22531626\",\"LINEJ1_DM_3L_RaGOO_2446918_2447256\",\"LINEJ1_DM_3L_RaGOO_2780157_2780510\",\"LINEJ1_DM_3L_RaGOO_8152194_8154624\",\"LINEJ1_DM_3R_RaGOO_19526132_19526396\",\"LINEJ1_DM_3R_RaGOO_7164645_7169623\",\"LINEJ1_DM_X_RaGOO_14865499_14865833\",\"LINEJ1_DM_X_RaGOO_16362095_16362449\",\"LINEJ1_DM_X_RaGOO_19652833_19656224\",\"LINEJ1_DM_X_RaGOO_7424439_7433932\",\"LOOPER1_DM_2R_RaGOO_3949985_3952462\",\"M4DM_2L_RaGOO_20556174_20557598\",\"M4DM_2R_RaGOO_2014409_2015841\",\"M4DM_2R_RaGOO_344818_345841\",\"M4DM_2R_RaGOO_4214054_4215593\",\"M4DM_3L_RaGOO_22270623_22272063\",\"M4DM_3L_RaGOO_25693372_25696157\",\"MAX_LTR_2R_RaGOO_137030_138260\",\"MAX_LTR_3L_RaGOO_18036944_18045426\",\"MAX_LTR_3L_RaGOO_24378598_24386713\",\"MAX_LTR_3L_RaGOO_24772475_24783045\",\"MAX_LTR_3L_RaGOO_3640512_3649209\",\"MAX_LTR_3R_RaGOO_2817082_2818238\",\"MDG1_I_3L_RaGOO_5843715_5847721\",\"MDG1_I_3L_RaGOO_5902786_5906792\",\"MDG1_LTR_3L_RaGOO_22730419_22737426\",\"MDG1_LTR_X_RaGOO_6133671_6134025\",\"MDG3_LTR_3R_RaGOO_4405841_4411373\",\"MDG3_LTR_X_RaGOO_11132720_11138277\",\"MDG3_LTR_X_RaGOO_11298256_11303771\",\"MDG3_LTR_X_RaGOO_14587062_14592565\",\"MDG3_LTR_X_RaGOO_15113881_15119378\",\"MICROPIA_I_2R_RaGOO_21655615_21659568\",\"MICROPIA_I_2R_RaGOO_3123540_3124639\",\"MICROPIA_I_2R_RaGOO_3215745_3216844\",\"MICROPIA_I_3L_RaGOO_4604350_4608941\",\"MICROPIA_I_3R_RaGOO_15561841_15565791\",\"MICROPIA_I_3R_RaGOO_23396903_23401501\",\"MICROPIA_I_3R_RaGOO_23423966_23428126\",\"MICROPIA_I_3R_RaGOO_31083506_31088004\",\"MICROPIA_I_4_RaGOO_311799_315755\",\"MICROPIA_I_X_RaGOO_17340828_17345349\",\"MICROPIA_I_X_RaGOO_3133282_3137242\",\"MICROPIA_I_X_RaGOO_603817_607773\",\"Mariner2_DM_2L_RaGOO_21507526_21508443\",\"Mariner2_DM_2R_RaGOO_1808583_1809435\",\"Mariner2_DM_2R_RaGOO_6313845_6314821\",\"Mariner2_DM_3L_RaGOO_22748069_22749176\",\"Mariner2_DM_3L_RaGOO_22903450_22904558\",\"Mariner2_DM_3L_RaGOO_26311078_26311875\",\"Mariner2_DM_4_RaGOO_638924_639677\",\"Mariner2_DM_X_RaGOO_21869176_21870046\",\"NINJA_I_3R_RaGOO_1358085_1360185\",\"NINJA_LTR_3L_RaGOO_25746489_25749281\",\"NINJA_LTR_3R_RaGOO_3468445_3473299\",\"NINJA_LTR_3R_RaGOO_615399_620854\",\"NOMAD_I_2L_RaGOO_22581023_22587526\",\"NOMAD_I_2R_RaGOO_383343_386109\",\"NOMAD_I_2R_RaGOO_4093744_4094800\",\"NOMAD_LTR_2L_RaGOO_13384378_13391980\",\"NOMAD_LTR_2L_RaGOO_3400786_3408481\",\"NOMAD_LTR_2R_RaGOO_15583316_15590827\",\"NOMAD_LTR_2R_RaGOO_1925644_1932366\",\"NOMAD_LTR_2R_RaGOO_20674240_20681841\",\"NOMAD_LTR_2R_RaGOO_471172_473817\",\"NOMAD_LTR_3L_RaGOO_10268410_10275872\",\"NOMAD_LTR_3L_RaGOO_23497748_23505249\",\"NOMAD_LTR_3R_RaGOO_1014813_1022279\",\"NOMAD_LTR_3R_RaGOO_28971169_28974159\",\"NOMAD_LTR_X_RaGOO_11398933_11406469\",\"NOMAD_LTR_X_RaGOO_14781769_14789300\",\"POGO_2L_RaGOO_2955877_2958004\",\"POGO_2R_RaGOO_16569084_16570235\",\"POGO_2R_RaGOO_7201268_7202754\",\"POGO_3L_RaGOO_9733928_9735150\",\"POGO_3R_RaGOO_11285980_11288111\",\"POGO_X_RaGOO_14998652_15000110\",\"PROTOP_3L_RaGOO_25377208_25377594\",\"PROTOP_3L_RaGOO_25955252_25957435\",\"PROTOP_3L_RaGOO_26174341_26176865\",\"PROTOP_4_RaGOO_358464_360439\",\"PROTOP_A_3L_RaGOO_18608230_18609333\",\"PROTOP_A_3R_RaGOO_1946916_1947766\",\"PROTOP_A_3R_RaGOO_2145521_2146619\",\"PROTOP_A_4_RaGOO_24706_25801\",\"PROTOP_B_2R_RaGOO_6428707_6429467\",\"PROTOP_B_3L_RaGOO_26361704_26362962\",\"PROTOP_B_4_RaGOO_175159_176280\",\"QUASIMODO2-I_DM_3R_RaGOO_777690_778919\",\"QUASIMODO2-LTR_DM_4_RaGOO_13230_19659\",\"QUASIMODO_I_2L_RaGOO_22728039_22732539\",\"QUASIMODO_I_2R_RaGOO_2240068_2244259\",\"QUASIMODO_I_2R_RaGOO_3071782_3075068\",\"QUASIMODO_I_2R_RaGOO_3940692_3953437\",\"QUASIMODO_I_2R_RaGOO_4031047_4034609\",\"QUASIMODO_I_3L_RaGOO_25608743_25613047\",\"QUASIMODO_LTR_2R_RaGOO_2572412_2572983\",\"QUASIMODO_LTR_2R_RaGOO_3561204_3567967\",\"QUASIMODO_LTR_3L_RaGOO_23734260_23734917\",\"QUASIMODO_LTR_3L_RaGOO_25055074_25055510\",\"QUASIMODO_LTR_3R_RaGOO_1809892_1810303\",\"QUASIMODO_LTR_3R_RaGOO_2062159_2066713\",\"QUASIMODO_LTR_3R_RaGOO_2953500_2957027\",\"QUASIMODO_LTR_3R_RaGOO_2970516_2971173\",\"QUASIMODO_LTR_3R_RaGOO_3643836_3644407\",\"ROOA_I_2R_RaGOO_3369128_3375460\",\"ROOA_LTR_2R_RaGOO_4206312_4212475\",\"ROOA_LTR_2R_RaGOO_944947_948834\",\"ROO_I_2R_RaGOO_17052400_17055914\",\"ROO_I_2R_RaGOO_18916354_18932157\",\"ROO_I_3L_RaGOO_11054181_11056742\",\"ROO_I_3L_RaGOO_19559699_19561114\",\"ROO_I_3L_RaGOO_2683031_2690542\",\"ROO_I_3R_RaGOO_12957465_12959168\",\"ROO_I_3R_RaGOO_13786472_13790447\",\"ROO_I_3R_RaGOO_15240450_15245518\",\"ROO_I_3R_RaGOO_1548324_1562666\",\"ROO_I_3R_RaGOO_6611977_6613484\",\"ROO_I_X_RaGOO_13302951_13311186\",\"ROO_I_X_RaGOO_19301259_19305308\",\"ROO_I_X_RaGOO_5586864_5594591\",\"ROO_LTR_2L_RaGOO_1554051_1563114\",\"ROO_LTR_3L_RaGOO_9180412_9189520\",\"ROO_LTR_3R_RaGOO_24484209_24493255\",\"ROVER-I_DM_3R_RaGOO_602392_603894\",\"ROVER-LTR_DM_2R_RaGOO_3256225_3263561\",\"S2_DM_2L_RaGOO_22291772_22294164\",\"S_DM_2L_RaGOO_22311465_22313092\",\"S_DM_2R_RaGOO_1267254_1268295\",\"S_DM_2R_RaGOO_7347017_7347832\",\"S_DM_3L_RaGOO_15369099_15370829\",\"S_DM_3L_RaGOO_23313261_23315488\",\"S_DM_3L_RaGOO_23677604_23678414\",\"S_DM_3L_RaGOO_24954457_24956189\",\"S_DM_3L_RaGOO_26043127_26044812\",\"S_DM_3R_RaGOO_657036_657953\",\"S_DM_4_RaGOO_220378_221042\",\"TABOR_I_2R_RaGOO_2811324_2817616\",\"TABOR_LTR_2R_RaGOO_1855147_1862128\",\"TABOR_LTR_X_RaGOO_18271260_18278107\",\"TAHRE_2L_RaGOO_38366_47731\",\"TAHRE_2L_RaGOO_5229_7346\",\"TAHRE_2L_RaGOO_5506_7403\",\"TAHRE_2R_RaGOO_1145909_1151824\",\"TAHRE_2R_RaGOO_1151895_1152439\",\"TAHRE_2R_RaGOO_3700966_3703361\",\"TAHRE_3L_RaGOO_20705_26581\",\"TAHRE_3L_RaGOO_24249813_24257637\",\"TAHRE_3L_RaGOO_24252861_24253713\",\"TAHRE_3L_RaGOO_2547_12261\",\"TAHRE_X_RaGOO_94808_95641\",\"TART-A_3L_RaGOO_16376942_16377642\",\"TART-A_3L_RaGOO_24811306_24813320\",\"TART-A_3L_RaGOO_24818846_24827437\",\"TART-A_4_RaGOO_1262950_1263513\",\"TART-A_X_RaGOO_3270_3823\",\"TART-A_X_RaGOO_3_3271\",\"TART_B1_2R_RaGOO_23920095_23923160\",\"TIRANT_LTR_2L_RaGOO_20669409_20674055\",\"TIRANT_LTR_2L_RaGOO_22323129_22326580\",\"TIRANT_LTR_3L_RaGOO_23807453_23815973\",\"TIRANT_LTR_3R_RaGOO_22583602_22592157\",\"TOM_I_3R_RaGOO_779996_780755\",\"TRANSIB2_2L_RaGOO_21593386_21595342\",\"TRANSIB2_2R_RaGOO_15059_15670\",\"TRANSIB2_2R_RaGOO_1674937_1676619\",\"TRANSIB2_2R_RaGOO_1819719_1821473\",\"TRANSIB2_2R_RaGOO_3035974_3037999\",\"TRANSIB2_2R_RaGOO_3421509_3423952\",\"TRANSIB2_2R_RaGOO_5449525_5451701\",\"TRANSIB2_3L_RaGOO_14769394_14771004\",\"TRANSIB2_3L_RaGOO_23526338_23527136\",\"TRANSIB2_3L_RaGOO_24511852_24514346\",\"TRANSIB2_3R_RaGOO_1753687_1756027\",\"TRANSIB2_X_RaGOO_21175244_21178316\",\"TRANSIB2_X_RaGOO_22006547_22007658\",\"TRANSIB3_3R_RaGOO_2204217_2205631\",\"TRANSIB3_3R_RaGOO_2679434_2681620\",\"TRANSIB4_2R_RaGOO_4423372_4424755\",\"TRANSPAC_I_3R_RaGOO_26707140_26711871\",\"TRANSPAC_LTR_2L_RaGOO_2221225_2226474\",\"TRANSPAC_LTR_2L_RaGOO_8985200_8990448\",\"TRANSPAC_LTR_2R_RaGOO_109057_114306\",\"TRANSPAC_LTR_2R_RaGOO_15245759_15251009\",\"TRANSPAC_LTR_2R_RaGOO_21445727_21450940\",\"TRANSPAC_LTR_3L_RaGOO_1562415_1567666\",\"TRANSPAC_LTR_3R_RaGOO_21217775_21223024\",\"TRANSPAC_LTR_X_RaGOO_17017750_17022983\",\"TRANSPAC_LTR_X_RaGOO_19519061_19524304\",\"TRANSPAC_LTR_X_RaGOO_4638939_4644186\",\"Transib5_3R_RaGOO_1262033_1264059\",\"ZAM_I_3R_RaGOO_1939464_1943501\",\"ZAM_LTR_2R_RaGOO_1559245_1563723\",\"ZAM_LTR_3R_RaGOO_3216098_3221945\",\"ACCORD\",\"ACCORD2\",\"BARI1\",\"BATUMI\",\"BEL\",\"BLASTOPIA\",\"BS\",\"BS2\",\"BS3_DM\",\"BS4_DM\",\"BURDOCK\",\"Baggins1\",\"Bica\",\"CIRCE\",\"Chimpo\",\"Chouto\",\"Copia\",\"Copia1\",\"Copia2\",\"DIVER\",\"DIVER2\",\"DM1731\",\"DM176\",\"DM297\",\"DM412\",\"DM412B\",\"DMCR1A\",\"DMLTR5\",\"DMRT1A\",\"DMRT1B\",\"DMRT1C\",\"DMTOM1\",\"DNAREP1_DM\",\"DOC\",\"DOC2_DM\",\"DOC3_DM\",\"DOC4_DM\",\"DOC6_DM\",\"FB4_DM\",\"FROGGER\",\"FW2_DM\",\"FW3_DM\",\"G2_DM\",\"G3_DM\",\"G4_DM\",\"G5A_DM\",\"G5_DM\",\"G_DM\",\"Gypsy\",\"Gypsy10\",\"Gypsy12\",\"Gypsy12A\",\"Gypsy2\",\"Gypsy4\",\"Gypsy5\",\"Gypsy6\",\"Gypsy6A\",\"Gypsy8\",\"Gypsy9\",\"HETA\",\"HMSBEAGLE\",\"HOBO\",\"IDEFIX\",\"I_DM\",\"Invader1\",\"Invader2\",\"Invader3\",\"Invader4\",\"Invader6\",\"Jockey2\",\"LINEJ1_DM\",\"LOOPER1_DM\",\"M4DM\",\"MAX\",\"MDG1\",\"MDG3\",\"MICROPIA\",\"Mariner2_DM\",\"NINJA\",\"NOMAD\",\"POGO\",\"PROTOP\",\"PROTOP_A\",\"PROTOP_B\",\"QUASIMODO\",\"QUASIMODO2\",\"ROO\",\"ROOA\",\"ROVER\",\"S2_DM\",\"S_DM\",\"TABOR\",\"TAHRE\",\"TART-A\",\"TART_B1\",\"TIRANT\",\"TOM\",\"TRANSIB2\",\"TRANSIB3\",\"TRANSIB4\",\"TRANSPAC\",\"Transib5\",\"ZAM\",\"CMC-Transib\",\"CR1\",\"Copia\",\"Gypsy\",\"Helitron\",\"I\",\"I-Jockey\",\"P\",\"Pao\",\"PiggyBac\",\"R1\",\"R1-LOA\",\"TcMar-Pogo\",\"TcMar-Tc1\",\"hAT-hobo\",\"DNA\",\"LINE\",\"LTR\",\"RC\"],\"marker\":{\"coloraxis\":\"coloraxis\",\"colors\":[0.2130044843049327,0.4954954954954955,0.5681818181818182,0.9275179856115108,0.2405740695694478,0.5286321327397815,0.1906967378171566,0.9330451039962608,0.8834688346883469,0.2685555362419607,0.3063673311399265,0.2361516034985422,0.6771516788884601,0.2772792534099066,0.3220264558976892,0.3373521196187972,0.3196381142098273,0.1367267747089705,0.1972472472472472,0.1266453928998803,0.1175209380234506,0.136896498534629,0.1148665964292833,0.1582444835407084,0.1527639607374983,0.1231919432993418,0.3569311820875864,0.3142011834319526,0.4340314692749308,0.5262512266928361,0.5929675013319127,0.8415235839747385,0.45508982035928136,0.5866666666666667,0.8944213923467036,0.5315068493150685,0.2984305457952682,0.4274387874076953,0.2700884275278739,0.9212535154680594,0.23383838383838376,0.1711936725986055,0.3306106573317775,0.3801719114219113,0.1828770413064361,0.1308179990722127,0.4103846153846154,0.3746572659616138,0.9426751592356688,0.9997120644975526,0.3061875398681692,0.8368592351505288,0.1625154566331036,0.1619615430173333,0.109437751004016,0.3006067291781577,0.2596230001584033,0.3055726600985222,0.1410955347871235,0.7334568554790895,0.7508719481813653,0.2206756756756757,0.9978902953586498,0.190210027100271,0.7557529269277352,0.8938326205287714,0.91044501962094,0.8361159929701232,0.908524717789023,0.7663170163170167,0.8792709548448925,0.8922610938108213,0.9181959564541214,0.7837575286574705,0.8202443280977312,0.7881818181818182,0.2544592030360531,0.4599877825290165,0.4537381839014609,0.8677685950413223,0.23336527201107202,0.2085036794766966,0.3007703655138501,0.3079656862745098,0.5934803451581975,0.4749931544359255,0.1196474848542056,0.2425980261403041,0.2355019330755899,0.271690629647992,0.3841010401188707,0.1762807583703106,0.1738694139684238,0.186919727220442,0.1196331804918716,0.7416835406421753,0.3683127572016461,0.9125,0.1220815425717272,0.1515333734215273,0.1184104960120817,0.1019861286254728,0.1173310715295448,0.1198756007916313,0.1156435643564356,0.1872015281757402,0.5815630481387644,1.0,0.7707612456747405,0.7951960490870997,1.0,0.3974358974358974,0.1563388288800455,0.1561791383219954,0.4323144104803493,0.2259541984732824,0.585030549898167,0.2722457627118644,0.7481481481481481,0.9696969696969696,0.4792626728110599,0.7183856502242153,0.1255098839033573,0.8046342270771267,0.474368,0.4456018518518518,0.6069588392063962,0.2857142857142857,0.3008225616921269,0.3356294536817102,0.3825597749648382,0.8923212709620476,0.1663649529326575,0.113582443653618,0.744875708678587,0.1407624633431085,0.8242524916943521,0.3011107254425547,0.6594758064516129,0.4809081527347781,0.4765670939668352,0.4739588292422829,0.8953866146848602,0.2646913580246913,0.4582766439909296,0.41646754924120105,0.48665608092213586,0.615703550142524,0.3957783641160949,0.5890596745027125,0.7634316046194676,0.7006651884700665,0.5065772504513799,0.8604651162790697,0.4009691096305269,0.5068493150684932,0.3685503685503685,0.3685503685503685,0.1832993105573316,0.2104462123832584,0.8377501352082206,0.9722814498933902,0.6799537839399191,0.7597960279119699,0.2916906543849549,0.6098142363965149,0.4313725490196078,0.2064350112001777,0.7274119448698315,0.2545582047685835,0.8849642421070993,0.3483551149166291,0.6146044624746451,0.5894803017602682,0.109743321110529,0.5569593598652348,0.6574074074074074,0.6115520282186949,0.17061973986228,0.5832675611681136,0.3799915754001685,0.6671698113207547,0.4737620103473762,0.1719022687609075,0.1591534079748576,0.3567023026315789,0.1703201603455102,0.3463957426221577,0.40928020172690444,0.4413787878787878,0.1177100053504547,0.4440780434185216,1.0,0.1801692865779927,0.1575123510607381,0.2183297947629157,0.19129392971246,0.1329388560157791,0.2736233854520734,1.0,0.5362441712590081,0.1543762922122674,0.4921630094043887,0.5056662758890191,0.7252475247524752,0.1579244074311339,0.2020610224287735,0.1633705475810739,0.555815768930523,0.136975328420378,0.1624002202036884,0.1894205443371378,0.5385755830529738,0.2794002517119384,0.3693528693528693,0.504225352112676,0.3470783492858004,0.5797385620915033,0.3578679055101831,0.3589542406253238,0.6468633315739056,0.2747797265111011,0.343890134529148,0.3622656266325161,0.2139966508512419,0.5659871244635193,0.1788409054422861,0.2511820330969267,0.1544799176107106,0.1235895393601486,0.5861546235472461,0.1290948798835234,0.1578898828737434,0.3105560032232071,0.1272302463891249,0.2865950676213206,0.2639543537583726,0.2555306984837186,0.2324487739334901,0.2072368421052631,0.2594987873888439,0.3466744006187162,0.2622549019607843,0.5829682365826944,0.1611836059547877,0.19375,0.390875596012137,0.5665231652316522,0.1360454115421003,0.2548262548262548,0.9173419773095624,1.0,0.3684210526315789,0.7330188516233824,0.7138643067846607,0.5535889872173058,0.1907013396375098,0.4930747922437673,0.2344652459669388,0.1609403254972875,0.5674255691768827,0.9585798816568049,0.2940446650124069,0.3847980997624703,0.4033333333333333,0.4822485207100592,0.5042492917847026,0.5460905349794238,0.6742424242424242,0.9766974688629972,0.9700598802395208,0.9152542372881356,0.7994691831318195,0.2701990940693142,0.1748082357690755,0.5107092696629214,0.3857076350093109,0.4281524926686217,0.570890188434048,0.3930555555555555,0.1685697187312986,0.8951219512195122,0.3095967932091488,0.1481767770122668,0.1147587511825922,0.3505519144532597,0.833044982698962,0.1070893659510733,0.1070893659510733,0.1847438276009704,0.536723163841808,0.1388286334056399,0.2230520064783156,0.2152311876699909,0.2252407777575867,0.139348735674004,0.1788515051859347,0.2192902638762511,0.2165605095541401,0.3944129819211501,0.1789873417721519,0.4627011744236624,0.1914663461538461,0.6128835037794576,0.1787158746208291,0.7073656270736564,0.2194444444444444,0.1787158746208291,0.9232551799345692,0.732981220657277,0.694672131147541,0.8853884372177055,0.865876628472767,0.9498117942283564,0.5909694555112882,0.2126436781609195,0.4647619047619047,0.6701289398280803,0.4429336629583848,0.5303391384051329,0.1696755343687529,0.2934442034225114,0.9015151515151516,0.2526368658965344,0.1735542560103963,0.2174311010517907,0.1200535554894376,0.1685699250098671,0.7795841209829868,0.1672473867595819,0.139448073590188,0.1138494508438253,0.8147157190635451,0.2299568133564949,0.6082193599787545,0.9590973201692524,0.6927309585867363,0.9017100783785926,0.6910801963993454,0.9563585171281088,0.7423411065386375,0.6269430051813472,0.55825316842266,0.1184627575277337,0.260253164556962,0.7307343608340888,0.5011764705882353,0.3424408014571949,0.365296803652968,0.2276315789473684,0.2893481717011129,0.4249182277728219,0.5419039869812856,0.1496344688131902,0.146,0.2283464566929134,0.1386691012375735,0.9945076500588466,0.3089504439869404,0.2300185873605948,0.2784588441330998,0.2039528808714081,0.2420091324200913,0.8911824668705403,0.9927007299270072,0.2441809398331137,0.1565069464133824,0.8401826484018264,0.7279095685400414,0.4112444725205306,0.517442803829304,0.7473630048880885,0.1145418326693227,0.1354806049484275,0.649746192893401,0.4593639575971732,0.1271468512847823,0.6585018035399716,1.0,0.37476979742173117,0.9588620833914376,0.1473125414731254,0.3045537340619307,0.1405285255618671,0.1277015659376213,0.1087939975725477,0.1041941150636802,0.1094406367455228,0.1731025299600532,0.4446564885496183,0.7667224080267558,0.2169637369391518,0.3679154658981748,0.3214723926380368,0.2757225433526011,0.1558149977548271,0.2765432098765432,0.2754041570438799,0.2498516320474777,0.2682660850599782,0.8373493975903614,0.3423394787031151,0.3632717375734136,0.2877172484299693,0.1341163908168713,0.3711620217288616,0.3263046916183447,0.1650536153561218,0.4944852941176471,0.722658019810776,0.6050967302751492,0.4852938107758441,0.2065727699530516,0.204360499767021,0.3529411764705882,0.8735714285714286,0.7336974511751074,0.2203468746362472,0.7010065127294257,0.3077757685352622,0.5059421810339804,0.6237367166190034,0.8160137752905726,0.2683280208635178,0.7656103286384977,0.8815897136177674,0.3254281949934124,0.2837423312883436,0.2405891980360065,0.1771700356718192,0.1316989737742303,0.4666666666666667,0.4032183790421612,0.3927389705882353,0.7453416149068323,0.2756892230576441,0.2632718524458701,0.4600989653621232,0.1171875,0.3159315931593159,0.7496463932107497,0.7421469960353767,0.5900216919739696,0.1519763263580638,0.158083021104549,0.1583460365853658,0.1676509811392646,0.3013333333333333,0.2100820822437832,0.160820161239129,0.1733391394279182,0.1370150965029619,0.1545734448652625,0.1534210024776062,0.3000987166831194,0.2918008422095615,0.2266636891469406,0.1818988370104327,0.5318386568386568,0.2130044843049327,0.9275179856115108,0.43537948577993074,0.3737555581526857,0.13719610200567275,0.7129641208308861,0.44326135913104975,0.5992208172280594,0.5866666666666667,0.318828245470548,0.3835891033173642,0.7713584996879799,0.15721183072593037,0.3006067291781577,0.29025610678514924,0.862776383254051,0.1410955347871235,0.7066009870708556,0.2392592414890811,0.49265265981403666,0.46883407599019516,0.14189046708757833,0.3278958348834313,0.38612695142814557,0.17467319543571938,0.14171609647159394,0.11955352477565619,0.8605210160462547,0.8072206589204692,0.3974358974358974,0.15625898360102045,0.6591776621428393,0.4196146081926907,0.5927746381171811,0.5935124235935175,0.29326842370320627,0.35909461432327416,0.5391919914388633,0.48665608092213586,0.6412659340703586,0.196872761470295,0.8377501352082206,0.7530357004282869,0.352858067518504,0.7192221864229119,0.44515535017655833,0.5609910030869821,0.33329433980174117,0.3896713842462611,0.25939513391707886,0.5704659108340655,0.4677845306713004,0.1688408188193654,0.2183297947629157,1.0,0.24055988412369136,0.45105436307873603,0.23904926891452136,0.37585607864585896,0.2139966508512419,0.5659871244635193,0.1948159450218225,0.2865950676213206,0.2433662748085123,0.2689162330184019,0.44780109204759416,0.390875596012137,0.442827387882494,0.7338525677298342,0.5248413376096,0.1748082357690755,0.3242815432773626,0.32622688803124344,0.22407791018917908,0.20065316411142875,0.37336534289716133,0.8231628968839787,0.5346937404394851,0.2544080696542253,0.8602152305124954,0.4467364054223371,0.48491210913312177,0.3583468867933894,0.472223608333183,0.3457692278972379,0.37548737994161424,0.5586834270793076,0.30887950925483576,0.7667224080267558,0.32016789346159774,0.33391698585240326,0.32204826802153586,0.5429957647095778,0.6237367166190034,0.7494496174465807,0.3254281949934124,0.3838357137272301,0.7432183384890013,0.5900216919739696,0.17309190299180785,0.3000987166831194,0.1956589043316308,0.39149164995822905,0.14171609647159394,0.7504176174986564,0.25628868905233637,0.6591776621428393,0.2865950676213206,0.4458047106851237,0.4274534202022305,0.39400142694937046,0.1748082357690755,0.7940688857569316,0.3835891033173642,0.8602152305124954,0.6515743634247398,0.5659871244635193,0.561590764667392,0.44888238727500696,0.41158112076396564,0.6591776621428393]},\"name\":\"\",\"parents\":[\"LTR/Gypsy/ACCORD2\",\"LTR/Gypsy/ACCORD\",\"LTR/Gypsy/ACCORD\",\"DNA/TcMar-Tc1/BARI1\",\"LTR/Pao/BATUMI\",\"LTR/Pao/BATUMI\",\"LTR/Pao/BATUMI\",\"LTR/Pao/BATUMI\",\"LTR/Pao/BEL\",\"LTR/Pao/BEL\",\"LTR/Pao/BEL\",\"LTR/Pao/BEL\",\"LTR/Pao/BEL\",\"LTR/Pao/BEL\",\"LTR/Pao/BEL\",\"LTR/Pao/BEL\",\"LTR/Pao/BEL\",\"LTR/Gypsy/BLASTOPIA\",\"LTR/Gypsy/BLASTOPIA\",\"LTR/Gypsy/BLASTOPIA\",\"LTR/Gypsy/BLASTOPIA\",\"LTR/Gypsy/BLASTOPIA\",\"LTR/Gypsy/BLASTOPIA\",\"LTR/Gypsy/BLASTOPIA\",\"LTR/Gypsy/BLASTOPIA\",\"LTR/Gypsy/BLASTOPIA\",\"LTR/Gypsy/BLASTOPIA\",\"LINE/I-Jockey/BS2\",\"LINE/I-Jockey/BS2\",\"LINE/I-Jockey/BS2\",\"LINE/I-Jockey/BS3_DM\",\"LINE/I-Jockey/BS3_DM\",\"LINE/I-Jockey/BS3_DM\",\"LINE/I-Jockey/BS4_DM\",\"LINE/I-Jockey/BS\",\"LINE/I-Jockey/BS\",\"LTR/Gypsy/BURDOCK\",\"LTR/Gypsy/BURDOCK\",\"LTR/Gypsy/BURDOCK\",\"LTR/Gypsy/BURDOCK\",\"LTR/Gypsy/BURDOCK\",\"LTR/Gypsy/BURDOCK\",\"LTR/Gypsy/BURDOCK\",\"LTR/Gypsy/BURDOCK\",\"LTR/Gypsy/BURDOCK\",\"LTR/Gypsy/BURDOCK\",\"LINE/R1-LOA/Baggins1\",\"LINE/R1-LOA/Baggins1\",\"LTR/Gypsy/Bica\",\"LTR/Gypsy/Bica\",\"LTR/Gypsy/Bica\",\"LTR/Gypsy/Bica\",\"LTR/Gypsy/CIRCE\",\"LTR/Gypsy/CIRCE\",\"LTR/Gypsy/CIRCE\",\"LTR/Gypsy/Chimpo\",\"LTR/Gypsy/Chouto\",\"LTR/Gypsy/Chouto\",\"LTR/Copia/Copia1\",\"LTR/Copia/Copia2\",\"LTR/Copia/Copia2\",\"LTR/Copia/Copia2\",\"LTR/Copia/Copia2\",\"LTR/Copia/Copia\",\"LTR/Copia/Copia\",\"LTR/Copia/Copia\",\"LTR/Copia/Copia\",\"LTR/Copia/Copia\",\"LTR/Copia/Copia\",\"LTR/Copia/Copia\",\"LTR/Copia/Copia\",\"LTR/Copia/Copia\",\"LTR/Copia/Copia\",\"LTR/Copia/Copia\",\"LTR/Pao/DIVER2\",\"LTR/Pao/DIVER2\",\"LTR/Pao/DIVER2\",\"LTR/Pao/DIVER2\",\"LTR/Pao/DIVER2\",\"LTR/Pao/DIVER2\",\"LTR/Pao/DIVER2\",\"LTR/Pao/DIVER\",\"LTR/Pao/DIVER\",\"LTR/Copia/DM1731\",\"LTR/Copia/DM1731\",\"LTR/Copia/DM1731\",\"LTR/Gypsy/DM176\",\"LTR/Gypsy/DM176\",\"LTR/Gypsy/DM176\",\"LTR/Gypsy/DM297\",\"LTR/Gypsy/DM297\",\"LTR/Gypsy/DM412B\",\"LTR/Gypsy/DM412B\",\"LTR/Gypsy/DM412\",\"LTR/Gypsy/DM412\",\"LTR/Gypsy/DM412\",\"LTR/Gypsy/DM412\",\"LTR/Gypsy/DM412\",\"LINE/CR1/DMCR1A\",\"LINE/CR1/DMCR1A\",\"LTR/Gypsy/DMLTR5\",\"LTR/Gypsy/DMLTR5\",\"LTR/Gypsy/DMLTR5\",\"LTR/Gypsy/DMLTR5\",\"LTR/Gypsy/DMLTR5\",\"LTR/Gypsy/DMLTR5\",\"LINE/R1/DMRT1A\",\"LINE/R1/DMRT1A\",\"LINE/R1/DMRT1B\",\"LINE/R1/DMRT1B\",\"LINE/R1/DMRT1B\",\"LINE/R1/DMRT1C\",\"LTR/Gypsy/DMTOM1\",\"LTR/Gypsy/DMTOM1\",\"RC/Helitron/DNAREP1_DM\",\"RC/Helitron/DNAREP1_DM\",\"RC/Helitron/DNAREP1_DM\",\"RC/Helitron/DNAREP1_DM\",\"RC/Helitron/DNAREP1_DM\",\"RC/Helitron/DNAREP1_DM\",\"RC/Helitron/DNAREP1_DM\",\"RC/Helitron/DNAREP1_DM\",\"LINE/I-Jockey/DOC2_DM\",\"LINE/I-Jockey/DOC2_DM\",\"LINE/I-Jockey/DOC2_DM\",\"LINE/I-Jockey/DOC3_DM\",\"LINE/I-Jockey/DOC3_DM\",\"LINE/I-Jockey/DOC4_DM\",\"LINE/I-Jockey/DOC4_DM\",\"LINE/I-Jockey/DOC6_DM\",\"LINE/I-Jockey/DOC6_DM\",\"LINE/I-Jockey/DOC\",\"LINE/I-Jockey/DOC\",\"LINE/I-Jockey/DOC\",\"LINE/I-Jockey/DOC\",\"LINE/I-Jockey/DOC\",\"LINE/I-Jockey/DOC\",\"LINE/I-Jockey/DOC\",\"DNA/TcMar-Tc1/FB4_DM\",\"DNA/TcMar-Tc1/FB4_DM\",\"DNA/TcMar-Tc1/FB4_DM\",\"DNA/TcMar-Tc1/FB4_DM\",\"DNA/TcMar-Tc1/FB4_DM\",\"DNA/TcMar-Tc1/FB4_DM\",\"DNA/TcMar-Tc1/FB4_DM\",\"DNA/TcMar-Tc1/FB4_DM\",\"LTR/Copia/FROGGER\",\"LINE/I-Jockey/FW2_DM\",\"LINE/I-Jockey/FW2_DM\",\"LINE/I-Jockey/FW2_DM\",\"LINE/I-Jockey/FW2_DM\",\"LINE/I-Jockey/FW2_DM\",\"LINE/I-Jockey/FW2_DM\",\"LINE/I-Jockey/FW2_DM\",\"LINE/I-Jockey/FW2_DM\",\"LINE/I-Jockey/FW2_DM\",\"LINE/I-Jockey/FW2_DM\",\"LINE/I-Jockey/FW2_DM\",\"LINE/I-Jockey/FW3_DM\",\"LINE/I-Jockey/FW3_DM\",\"LINE/I-Jockey/G2_DM\",\"LINE/I-Jockey/G3_DM\",\"LINE/I-Jockey/G3_DM\",\"LINE/I-Jockey/G4_DM\",\"LINE/I-Jockey/G4_DM\",\"LINE/I-Jockey/G4_DM\",\"LINE/I-Jockey/G4_DM\",\"LINE/I-Jockey/G4_DM\",\"LINE/I-Jockey/G4_DM\",\"LINE/I-Jockey/G4_DM\",\"LINE/I-Jockey/G5A_DM\",\"LINE/I-Jockey/G5A_DM\",\"LINE/I-Jockey/G5A_DM\",\"LINE/I-Jockey/G5A_DM\",\"LINE/I-Jockey/G5_DM\",\"LINE/I-Jockey/G5_DM\",\"LINE/I-Jockey/G_DM\",\"LINE/I-Jockey/G_DM\",\"LINE/I-Jockey/G_DM\",\"LTR/Gypsy/Gypsy10\",\"LTR/Gypsy/Gypsy10\",\"LTR/Gypsy/Gypsy12A\",\"LTR/Gypsy/Gypsy12A\",\"LTR/Gypsy/Gypsy12\",\"LTR/Gypsy/Gypsy12\",\"LTR/Gypsy/Gypsy12\",\"LTR/Gypsy/Gypsy12\",\"LTR/Gypsy/Gypsy12\",\"LTR/Gypsy/Gypsy12\",\"LTR/Gypsy/Gypsy2\",\"LTR/Gypsy/Gypsy2\",\"LTR/Gypsy/Gypsy2\",\"LTR/Gypsy/Gypsy2\",\"LTR/Gypsy/Gypsy4\",\"LTR/Gypsy/Gypsy4\",\"LTR/Gypsy/Gypsy5\",\"LTR/Gypsy/Gypsy6A\",\"LTR/Gypsy/Gypsy6A\",\"LTR/Gypsy/Gypsy6A\",\"LTR/Gypsy/Gypsy6\",\"LTR/Gypsy/Gypsy8\",\"LTR/Gypsy/Gypsy8\",\"LTR/Gypsy/Gypsy8\",\"LTR/Gypsy/Gypsy9\",\"LTR/Gypsy/Gypsy9\",\"LTR/Gypsy/Gypsy9\",\"LTR/Gypsy/Gypsy9\",\"LTR/Gypsy/Gypsy\",\"LTR/Gypsy/Gypsy\",\"LTR/Gypsy/Gypsy\",\"LTR/Gypsy/Gypsy\",\"LINE/I-Jockey/HETA\",\"LINE/I-Jockey/HETA\",\"LINE/I-Jockey/HETA\",\"LINE/I-Jockey/HETA\",\"LINE/I-Jockey/HETA\",\"LINE/I-Jockey/HETA\",\"LINE/I-Jockey/HETA\",\"LINE/I-Jockey/HETA\",\"LINE/I-Jockey/HETA\",\"LINE/I-Jockey/HETA\",\"LINE/I-Jockey/HETA\",\"LINE/I-Jockey/HETA\",\"LINE/I-Jockey/HETA\",\"LTR/Gypsy/HMSBEAGLE\",\"DNA/hAT-hobo/HOBO\",\"LTR/Gypsy/IDEFIX\",\"LTR/Gypsy/IDEFIX\",\"LTR/Gypsy/IDEFIX\",\"LTR/Gypsy/IDEFIX\",\"LTR/Gypsy/IDEFIX\",\"LTR/Gypsy/IDEFIX\",\"LTR/Gypsy/IDEFIX\",\"LTR/Gypsy/IDEFIX\",\"LTR/Gypsy/IDEFIX\",\"LINE/I/I_DM\",\"LTR/Gypsy/Invader1\",\"LTR/Gypsy/Invader1\",\"LTR/Gypsy/Invader1\",\"LTR/Gypsy/Invader2\",\"LTR/Gypsy/Invader2\",\"LTR/Gypsy/Invader2\",\"LTR/Gypsy/Invader2\",\"LTR/Gypsy/Invader3\",\"LTR/Gypsy/Invader3\",\"LTR/Gypsy/Invader3\",\"LTR/Gypsy/Invader4\",\"LTR/Gypsy/Invader6\",\"LTR/Gypsy/Invader6\",\"LTR/Gypsy/Invader6\",\"LINE/I-Jockey/Jockey2\",\"LINE/I-Jockey/Jockey2\",\"LINE/I-Jockey/Jockey2\",\"LINE/I-Jockey/Jockey2\",\"LINE/I-Jockey/LINEJ1_DM\",\"LINE/I-Jockey/LINEJ1_DM\",\"LINE/I-Jockey/LINEJ1_DM\",\"LINE/I-Jockey/LINEJ1_DM\",\"LINE/I-Jockey/LINEJ1_DM\",\"LINE/I-Jockey/LINEJ1_DM\",\"LINE/I-Jockey/LINEJ1_DM\",\"LINE/I-Jockey/LINEJ1_DM\",\"LINE/I-Jockey/LINEJ1_DM\",\"LINE/I-Jockey/LINEJ1_DM\",\"LINE/I-Jockey/LINEJ1_DM\",\"LINE/I-Jockey/LINEJ1_DM\",\"LINE/I-Jockey/LINEJ1_DM\",\"LINE/I-Jockey/LINEJ1_DM\",\"LINE/I-Jockey/LINEJ1_DM\",\"LINE/I-Jockey/LINEJ1_DM\",\"LINE/I-Jockey/LINEJ1_DM\",\"LINE/I-Jockey/LINEJ1_DM\",\"LINE/I-Jockey/LINEJ1_DM\",\"LINE/I-Jockey/LINEJ1_DM\",\"DNA/PiggyBac/LOOPER1_DM\",\"DNA/CMC-Transib/M4DM\",\"DNA/CMC-Transib/M4DM\",\"DNA/CMC-Transib/M4DM\",\"DNA/CMC-Transib/M4DM\",\"DNA/CMC-Transib/M4DM\",\"DNA/CMC-Transib/M4DM\",\"LTR/Pao/MAX\",\"LTR/Pao/MAX\",\"LTR/Pao/MAX\",\"LTR/Pao/MAX\",\"LTR/Pao/MAX\",\"LTR/Pao/MAX\",\"LTR/Gypsy/MDG1\",\"LTR/Gypsy/MDG1\",\"LTR/Gypsy/MDG1\",\"LTR/Gypsy/MDG1\",\"LTR/Gypsy/MDG3\",\"LTR/Gypsy/MDG3\",\"LTR/Gypsy/MDG3\",\"LTR/Gypsy/MDG3\",\"LTR/Gypsy/MDG3\",\"LTR/Gypsy/MICROPIA\",\"LTR/Gypsy/MICROPIA\",\"LTR/Gypsy/MICROPIA\",\"LTR/Gypsy/MICROPIA\",\"LTR/Gypsy/MICROPIA\",\"LTR/Gypsy/MICROPIA\",\"LTR/Gypsy/MICROPIA\",\"LTR/Gypsy/MICROPIA\",\"LTR/Gypsy/MICROPIA\",\"LTR/Gypsy/MICROPIA\",\"LTR/Gypsy/MICROPIA\",\"LTR/Gypsy/MICROPIA\",\"DNA/TcMar-Tc1/Mariner2_DM\",\"DNA/TcMar-Tc1/Mariner2_DM\",\"DNA/TcMar-Tc1/Mariner2_DM\",\"DNA/TcMar-Tc1/Mariner2_DM\",\"DNA/TcMar-Tc1/Mariner2_DM\",\"DNA/TcMar-Tc1/Mariner2_DM\",\"DNA/TcMar-Tc1/Mariner2_DM\",\"DNA/TcMar-Tc1/Mariner2_DM\",\"LTR/Pao/NINJA\",\"LTR/Pao/NINJA\",\"LTR/Pao/NINJA\",\"LTR/Pao/NINJA\",\"LTR/Gypsy/NOMAD\",\"LTR/Gypsy/NOMAD\",\"LTR/Gypsy/NOMAD\",\"LTR/Gypsy/NOMAD\",\"LTR/Gypsy/NOMAD\",\"LTR/Gypsy/NOMAD\",\"LTR/Gypsy/NOMAD\",\"LTR/Gypsy/NOMAD\",\"LTR/Gypsy/NOMAD\",\"LTR/Gypsy/NOMAD\",\"LTR/Gypsy/NOMAD\",\"LTR/Gypsy/NOMAD\",\"LTR/Gypsy/NOMAD\",\"LTR/Gypsy/NOMAD\",\"LTR/Gypsy/NOMAD\",\"DNA/TcMar-Pogo/POGO\",\"DNA/TcMar-Pogo/POGO\",\"DNA/TcMar-Pogo/POGO\",\"DNA/TcMar-Pogo/POGO\",\"DNA/TcMar-Pogo/POGO\",\"DNA/TcMar-Pogo/POGO\",\"DNA/P/PROTOP\",\"DNA/P/PROTOP\",\"DNA/P/PROTOP\",\"DNA/P/PROTOP\",\"DNA/P/PROTOP_A\",\"DNA/P/PROTOP_A\",\"DNA/P/PROTOP_A\",\"DNA/P/PROTOP_A\",\"DNA/P/PROTOP_B\",\"DNA/P/PROTOP_B\",\"DNA/P/PROTOP_B\",\"LTR/Gypsy/QUASIMODO2\",\"LTR/Gypsy/QUASIMODO2\",\"LTR/Gypsy/QUASIMODO\",\"LTR/Gypsy/QUASIMODO\",\"LTR/Gypsy/QUASIMODO\",\"LTR/Gypsy/QUASIMODO\",\"LTR/Gypsy/QUASIMODO\",\"LTR/Gypsy/QUASIMODO\",\"LTR/Gypsy/QUASIMODO\",\"LTR/Gypsy/QUASIMODO\",\"LTR/Gypsy/QUASIMODO\",\"LTR/Gypsy/QUASIMODO\",\"LTR/Gypsy/QUASIMODO\",\"LTR/Gypsy/QUASIMODO\",\"LTR/Gypsy/QUASIMODO\",\"LTR/Gypsy/QUASIMODO\",\"LTR/Gypsy/QUASIMODO\",\"LTR/Pao/ROOA\",\"LTR/Pao/ROOA\",\"LTR/Pao/ROOA\",\"LTR/Pao/ROO\",\"LTR/Pao/ROO\",\"LTR/Pao/ROO\",\"LTR/Pao/ROO\",\"LTR/Pao/ROO\",\"LTR/Pao/ROO\",\"LTR/Pao/ROO\",\"LTR/Pao/ROO\",\"LTR/Pao/ROO\",\"LTR/Pao/ROO\",\"LTR/Pao/ROO\",\"LTR/Pao/ROO\",\"LTR/Pao/ROO\",\"LTR/Pao/ROO\",\"LTR/Pao/ROO\",\"LTR/Pao/ROO\",\"LTR/Gypsy/ROVER\",\"LTR/Gypsy/ROVER\",\"DNA/TcMar-Tc1/S2_DM\",\"DNA/TcMar-Tc1/S_DM\",\"DNA/TcMar-Tc1/S_DM\",\"DNA/TcMar-Tc1/S_DM\",\"DNA/TcMar-Tc1/S_DM\",\"DNA/TcMar-Tc1/S_DM\",\"DNA/TcMar-Tc1/S_DM\",\"DNA/TcMar-Tc1/S_DM\",\"DNA/TcMar-Tc1/S_DM\",\"DNA/TcMar-Tc1/S_DM\",\"DNA/TcMar-Tc1/S_DM\",\"LTR/Gypsy/TABOR\",\"LTR/Gypsy/TABOR\",\"LTR/Gypsy/TABOR\",\"LINE/I-Jockey/TAHRE\",\"LINE/I-Jockey/TAHRE\",\"LINE/I-Jockey/TAHRE\",\"LINE/I-Jockey/TAHRE\",\"LINE/I-Jockey/TAHRE\",\"LINE/I-Jockey/TAHRE\",\"LINE/I-Jockey/TAHRE\",\"LINE/I-Jockey/TAHRE\",\"LINE/I-Jockey/TAHRE\",\"LINE/I-Jockey/TAHRE\",\"LINE/I-Jockey/TAHRE\",\"LINE/I-Jockey/TART-A\",\"LINE/I-Jockey/TART-A\",\"LINE/I-Jockey/TART-A\",\"LINE/I-Jockey/TART-A\",\"LINE/I-Jockey/TART-A\",\"LINE/I-Jockey/TART-A\",\"LINE/I-Jockey/TART_B1\",\"LTR/Gypsy/TIRANT\",\"LTR/Gypsy/TIRANT\",\"LTR/Gypsy/TIRANT\",\"LTR/Gypsy/TIRANT\",\"LTR/Gypsy/TOM\",\"DNA/CMC-Transib/TRANSIB2\",\"DNA/CMC-Transib/TRANSIB2\",\"DNA/CMC-Transib/TRANSIB2\",\"DNA/CMC-Transib/TRANSIB2\",\"DNA/CMC-Transib/TRANSIB2\",\"DNA/CMC-Transib/TRANSIB2\",\"DNA/CMC-Transib/TRANSIB2\",\"DNA/CMC-Transib/TRANSIB2\",\"DNA/CMC-Transib/TRANSIB2\",\"DNA/CMC-Transib/TRANSIB2\",\"DNA/CMC-Transib/TRANSIB2\",\"DNA/CMC-Transib/TRANSIB2\",\"DNA/CMC-Transib/TRANSIB2\",\"DNA/CMC-Transib/TRANSIB3\",\"DNA/CMC-Transib/TRANSIB3\",\"DNA/CMC-Transib/TRANSIB4\",\"LTR/Gypsy/TRANSPAC\",\"LTR/Gypsy/TRANSPAC\",\"LTR/Gypsy/TRANSPAC\",\"LTR/Gypsy/TRANSPAC\",\"LTR/Gypsy/TRANSPAC\",\"LTR/Gypsy/TRANSPAC\",\"LTR/Gypsy/TRANSPAC\",\"LTR/Gypsy/TRANSPAC\",\"LTR/Gypsy/TRANSPAC\",\"LTR/Gypsy/TRANSPAC\",\"LTR/Gypsy/TRANSPAC\",\"DNA/CMC-Transib/Transib5\",\"LTR/Gypsy/ZAM\",\"LTR/Gypsy/ZAM\",\"LTR/Gypsy/ZAM\",\"LTR/Gypsy\",\"LTR/Gypsy\",\"DNA/TcMar-Tc1\",\"LTR/Pao\",\"LTR/Pao\",\"LTR/Gypsy\",\"LINE/I-Jockey\",\"LINE/I-Jockey\",\"LINE/I-Jockey\",\"LINE/I-Jockey\",\"LTR/Gypsy\",\"LINE/R1-LOA\",\"LTR/Gypsy\",\"LTR/Gypsy\",\"LTR/Gypsy\",\"LTR/Gypsy\",\"LTR/Copia\",\"LTR/Copia\",\"LTR/Copia\",\"LTR/Pao\",\"LTR/Pao\",\"LTR/Copia\",\"LTR/Gypsy\",\"LTR/Gypsy\",\"LTR/Gypsy\",\"LTR/Gypsy\",\"LINE/CR1\",\"LTR/Gypsy\",\"LINE/R1\",\"LINE/R1\",\"LINE/R1\",\"LTR/Gypsy\",\"RC/Helitron\",\"LINE/I-Jockey\",\"LINE/I-Jockey\",\"LINE/I-Jockey\",\"LINE/I-Jockey\",\"LINE/I-Jockey\",\"DNA/TcMar-Tc1\",\"LTR/Copia\",\"LINE/I-Jockey\",\"LINE/I-Jockey\",\"LINE/I-Jockey\",\"LINE/I-Jockey\",\"LINE/I-Jockey\",\"LINE/I-Jockey\",\"LINE/I-Jockey\",\"LINE/I-Jockey\",\"LTR/Gypsy\",\"LTR/Gypsy\",\"LTR/Gypsy\",\"LTR/Gypsy\",\"LTR/Gypsy\",\"LTR/Gypsy\",\"LTR/Gypsy\",\"LTR/Gypsy\",\"LTR/Gypsy\",\"LTR/Gypsy\",\"LTR/Gypsy\",\"LINE/I-Jockey\",\"LTR/Gypsy\",\"DNA/hAT-hobo\",\"LTR/Gypsy\",\"LINE/I\",\"LTR/Gypsy\",\"LTR/Gypsy\",\"LTR/Gypsy\",\"LTR/Gypsy\",\"LTR/Gypsy\",\"LINE/I-Jockey\",\"LINE/I-Jockey\",\"DNA/PiggyBac\",\"DNA/CMC-Transib\",\"LTR/Pao\",\"LTR/Gypsy\",\"LTR/Gypsy\",\"LTR/Gypsy\",\"DNA/TcMar-Tc1\",\"LTR/Pao\",\"LTR/Gypsy\",\"DNA/TcMar-Pogo\",\"DNA/P\",\"DNA/P\",\"DNA/P\",\"LTR/Gypsy\",\"LTR/Gypsy\",\"LTR/Pao\",\"LTR/Pao\",\"LTR/Gypsy\",\"DNA/TcMar-Tc1\",\"DNA/TcMar-Tc1\",\"LTR/Gypsy\",\"LINE/I-Jockey\",\"LINE/I-Jockey\",\"LINE/I-Jockey\",\"LTR/Gypsy\",\"LTR/Gypsy\",\"DNA/CMC-Transib\",\"DNA/CMC-Transib\",\"DNA/CMC-Transib\",\"LTR/Gypsy\",\"DNA/CMC-Transib\",\"LTR/Gypsy\",\"DNA\",\"LINE\",\"LTR\",\"LTR\",\"RC\",\"LINE\",\"LINE\",\"DNA\",\"LTR\",\"DNA\",\"LINE\",\"LINE\",\"DNA\",\"DNA\",\"DNA\",\"\",\"\",\"\",\"\"],\"root\":{\"color\":\"lightgrey\"},\"type\":\"icicle\",\"values\":[2,1,1,5,1,2,2,1,1,1,1,1,2,1,6,8,2,19,4,24,21,3,21,19,24,22,2,1,4,2,1,3,5,1,1,1,1,5,6,1,11,3,2,16,2,1,1,3,1,1,1,1,1,19,2,2,1,2,18,2,1,2,3,6,1,8,35,16,4,24,82,64,35,5,2,1,2,1,1,1,3,2,1,2,1,32,22,3,2,1,1,1,2,3,1,1,1,1,1,2,6,1,2,1,10,1,1,2,1,13,1,1,1,1,1,1,6,1,1,3,1,11,1,5,5,1,11,1,1,1,1,1,2,1,1,2,2,2,31,1,11,17,1,5,3,5,39,1,1,1,9,1,1,1,1,1,1,1,7,7,1,1,3,3,1,7,3,19,1,8,6,1,1,4,1,3,3,2,1,1,20,1,1,1,2,6,43,1,23,6,1,1,1,1,1,1,1,2,8,1,3,1,1,1,1,7,5,6,7,1,2,14,13,47,6,5,141,3,136,31,59,42,4,57,4,1,1,3,1,3,1,3,2,1,2,1,1,1,3,1,1,1,1,4,1,1,3,4,1,1,1,1,1,101,1,1,1,1,4,1,1,1,1,1,1,1,1,1,1,1,1,1,2,1,1,4,3,1,5,1,15,1,1,11,1,4,3,1,1,2,1,1,2,2,2,1,1,4,1,4,1,2,2,4,1,3,2,1,8,2,2,16,23,1,8,1,1,2,2,4,5,3,2,11,4,8,3,10,1,1,1,1,1,22,2,3,3,17,2,2,3,1,3,1,1,1,1,1,1,1,1,3,1,1,1,1,3,1,27,1,1,3,1,9,1,1,1,1,11,1,1,1,6,1,1,7,2,7,1,3,2,1,1,1,4,1,1,1,1,1,1,1,1,1,1,1,2,1,1,1,1,2,1,1,3,4,6,267,1,47,62,49,1,19,2,2,24,2,3,5,105,247,5,1,1,1,1,1,1,1,2,1,32,10,1,1,10,19,1,1,1,6,1,3,18,2,1,1,19,15,21,1,7,6,1,1,4,16,2,2,5,6,23,159,2,7,9,1,48,4,4,22,2,3,280,18,8,3,11,35,27,2,7,3,3,21,3,15,1,2,25,11,11,12,2,2,74,39,19,14,1,4,42,12,4,6,16,21,76,2,9,2,1,1,11,5,14,558,4,1,17,1,5,4,6,3,6,104,24,1,29,21,5,8,26,61,9,75,30,6,4,5,63,2,40,3,2,1,11,4,461,141,247,8,1,81,7,1,94,1,21,119,3,380,816,25,1,1694,15,116,1,19,4,30,152,1,318,1721,1312,25]}],                        {\"coloraxis\":{\"cmid\":0.44655992999419764,\"colorbar\":{\"title\":{\"text\":\"mean_subcov\"}},\"colorscale\":[[0.0,\"rgb(103,0,31)\"],[0.1,\"rgb(178,24,43)\"],[0.2,\"rgb(214,96,77)\"],[0.3,\"rgb(244,165,130)\"],[0.4,\"rgb(253,219,199)\"],[0.5,\"rgb(247,247,247)\"],[0.6,\"rgb(209,229,240)\"],[0.7,\"rgb(146,197,222)\"],[0.8,\"rgb(67,147,195)\"],[0.9,\"rgb(33,102,172)\"],[1.0,\"rgb(5,48,97)\"]]},\"legend\":{\"tracegroupgap\":0},\"margin\":{\"b\":25,\"l\":25,\"r\":25,\"t\":50},\"template\":{\"data\":{\"bar\":[{\"error_x\":{\"color\":\"#2a3f5f\"},\"error_y\":{\"color\":\"#2a3f5f\"},\"marker\":{\"line\":{\"color\":\"#E5ECF6\",\"width\":0.5},\"pattern\":{\"fillmode\":\"overlay\",\"size\":10,\"solidity\":0.2}},\"type\":\"bar\"}],\"barpolar\":[{\"marker\":{\"line\":{\"color\":\"#E5ECF6\",\"width\":0.5},\"pattern\":{\"fillmode\":\"overlay\",\"size\":10,\"solidity\":0.2}},\"type\":\"barpolar\"}],\"carpet\":[{\"aaxis\":{\"endlinecolor\":\"#2a3f5f\",\"gridcolor\":\"white\",\"linecolor\":\"white\",\"minorgridcolor\":\"white\",\"startlinecolor\":\"#2a3f5f\"},\"baxis\":{\"endlinecolor\":\"#2a3f5f\",\"gridcolor\":\"white\",\"linecolor\":\"white\",\"minorgridcolor\":\"white\",\"startlinecolor\":\"#2a3f5f\"},\"type\":\"carpet\"}],\"choropleth\":[{\"colorbar\":{\"outlinewidth\":0,\"ticks\":\"\"},\"type\":\"choropleth\"}],\"contour\":[{\"colorbar\":{\"outlinewidth\":0,\"ticks\":\"\"},\"colorscale\":[[0.0,\"#0d0887\"],[0.1111111111111111,\"#46039f\"],[0.2222222222222222,\"#7201a8\"],[0.3333333333333333,\"#9c179e\"],[0.4444444444444444,\"#bd3786\"],[0.5555555555555556,\"#d8576b\"],[0.6666666666666666,\"#ed7953\"],[0.7777777777777778,\"#fb9f3a\"],[0.8888888888888888,\"#fdca26\"],[1.0,\"#f0f921\"]],\"type\":\"contour\"}],\"contourcarpet\":[{\"colorbar\":{\"outlinewidth\":0,\"ticks\":\"\"},\"type\":\"contourcarpet\"}],\"heatmap\":[{\"colorbar\":{\"outlinewidth\":0,\"ticks\":\"\"},\"colorscale\":[[0.0,\"#0d0887\"],[0.1111111111111111,\"#46039f\"],[0.2222222222222222,\"#7201a8\"],[0.3333333333333333,\"#9c179e\"],[0.4444444444444444,\"#bd3786\"],[0.5555555555555556,\"#d8576b\"],[0.6666666666666666,\"#ed7953\"],[0.7777777777777778,\"#fb9f3a\"],[0.8888888888888888,\"#fdca26\"],[1.0,\"#f0f921\"]],\"type\":\"heatmap\"}],\"heatmapgl\":[{\"colorbar\":{\"outlinewidth\":0,\"ticks\":\"\"},\"colorscale\":[[0.0,\"#0d0887\"],[0.1111111111111111,\"#46039f\"],[0.2222222222222222,\"#7201a8\"],[0.3333333333333333,\"#9c179e\"],[0.4444444444444444,\"#bd3786\"],[0.5555555555555556,\"#d8576b\"],[0.6666666666666666,\"#ed7953\"],[0.7777777777777778,\"#fb9f3a\"],[0.8888888888888888,\"#fdca26\"],[1.0,\"#f0f921\"]],\"type\":\"heatmapgl\"}],\"histogram\":[{\"marker\":{\"pattern\":{\"fillmode\":\"overlay\",\"size\":10,\"solidity\":0.2}},\"type\":\"histogram\"}],\"histogram2d\":[{\"colorbar\":{\"outlinewidth\":0,\"ticks\":\"\"},\"colorscale\":[[0.0,\"#0d0887\"],[0.1111111111111111,\"#46039f\"],[0.2222222222222222,\"#7201a8\"],[0.3333333333333333,\"#9c179e\"],[0.4444444444444444,\"#bd3786\"],[0.5555555555555556,\"#d8576b\"],[0.6666666666666666,\"#ed7953\"],[0.7777777777777778,\"#fb9f3a\"],[0.8888888888888888,\"#fdca26\"],[1.0,\"#f0f921\"]],\"type\":\"histogram2d\"}],\"histogram2dcontour\":[{\"colorbar\":{\"outlinewidth\":0,\"ticks\":\"\"},\"colorscale\":[[0.0,\"#0d0887\"],[0.1111111111111111,\"#46039f\"],[0.2222222222222222,\"#7201a8\"],[0.3333333333333333,\"#9c179e\"],[0.4444444444444444,\"#bd3786\"],[0.5555555555555556,\"#d8576b\"],[0.6666666666666666,\"#ed7953\"],[0.7777777777777778,\"#fb9f3a\"],[0.8888888888888888,\"#fdca26\"],[1.0,\"#f0f921\"]],\"type\":\"histogram2dcontour\"}],\"mesh3d\":[{\"colorbar\":{\"outlinewidth\":0,\"ticks\":\"\"},\"type\":\"mesh3d\"}],\"parcoords\":[{\"line\":{\"colorbar\":{\"outlinewidth\":0,\"ticks\":\"\"}},\"type\":\"parcoords\"}],\"pie\":[{\"automargin\":true,\"type\":\"pie\"}],\"scatter\":[{\"marker\":{\"colorbar\":{\"outlinewidth\":0,\"ticks\":\"\"}},\"type\":\"scatter\"}],\"scatter3d\":[{\"line\":{\"colorbar\":{\"outlinewidth\":0,\"ticks\":\"\"}},\"marker\":{\"colorbar\":{\"outlinewidth\":0,\"ticks\":\"\"}},\"type\":\"scatter3d\"}],\"scattercarpet\":[{\"marker\":{\"colorbar\":{\"outlinewidth\":0,\"ticks\":\"\"}},\"type\":\"scattercarpet\"}],\"scattergeo\":[{\"marker\":{\"colorbar\":{\"outlinewidth\":0,\"ticks\":\"\"}},\"type\":\"scattergeo\"}],\"scattergl\":[{\"marker\":{\"colorbar\":{\"outlinewidth\":0,\"ticks\":\"\"}},\"type\":\"scattergl\"}],\"scattermapbox\":[{\"marker\":{\"colorbar\":{\"outlinewidth\":0,\"ticks\":\"\"}},\"type\":\"scattermapbox\"}],\"scatterpolar\":[{\"marker\":{\"colorbar\":{\"outlinewidth\":0,\"ticks\":\"\"}},\"type\":\"scatterpolar\"}],\"scatterpolargl\":[{\"marker\":{\"colorbar\":{\"outlinewidth\":0,\"ticks\":\"\"}},\"type\":\"scatterpolargl\"}],\"scatterternary\":[{\"marker\":{\"colorbar\":{\"outlinewidth\":0,\"ticks\":\"\"}},\"type\":\"scatterternary\"}],\"surface\":[{\"colorbar\":{\"outlinewidth\":0,\"ticks\":\"\"},\"colorscale\":[[0.0,\"#0d0887\"],[0.1111111111111111,\"#46039f\"],[0.2222222222222222,\"#7201a8\"],[0.3333333333333333,\"#9c179e\"],[0.4444444444444444,\"#bd3786\"],[0.5555555555555556,\"#d8576b\"],[0.6666666666666666,\"#ed7953\"],[0.7777777777777778,\"#fb9f3a\"],[0.8888888888888888,\"#fdca26\"],[1.0,\"#f0f921\"]],\"type\":\"surface\"}],\"table\":[{\"cells\":{\"fill\":{\"color\":\"#EBF0F8\"},\"line\":{\"color\":\"white\"}},\"header\":{\"fill\":{\"color\":\"#C8D4E3\"},\"line\":{\"color\":\"white\"}},\"type\":\"table\"}]},\"layout\":{\"annotationdefaults\":{\"arrowcolor\":\"#2a3f5f\",\"arrowhead\":0,\"arrowwidth\":1},\"autotypenumbers\":\"strict\",\"coloraxis\":{\"colorbar\":{\"outlinewidth\":0,\"ticks\":\"\"}},\"colorscale\":{\"diverging\":[[0,\"#8e0152\"],[0.1,\"#c51b7d\"],[0.2,\"#de77ae\"],[0.3,\"#f1b6da\"],[0.4,\"#fde0ef\"],[0.5,\"#f7f7f7\"],[0.6,\"#e6f5d0\"],[0.7,\"#b8e186\"],[0.8,\"#7fbc41\"],[0.9,\"#4d9221\"],[1,\"#276419\"]],\"sequential\":[[0.0,\"#0d0887\"],[0.1111111111111111,\"#46039f\"],[0.2222222222222222,\"#7201a8\"],[0.3333333333333333,\"#9c179e\"],[0.4444444444444444,\"#bd3786\"],[0.5555555555555556,\"#d8576b\"],[0.6666666666666666,\"#ed7953\"],[0.7777777777777778,\"#fb9f3a\"],[0.8888888888888888,\"#fdca26\"],[1.0,\"#f0f921\"]],\"sequentialminus\":[[0.0,\"#0d0887\"],[0.1111111111111111,\"#46039f\"],[0.2222222222222222,\"#7201a8\"],[0.3333333333333333,\"#9c179e\"],[0.4444444444444444,\"#bd3786\"],[0.5555555555555556,\"#d8576b\"],[0.6666666666666666,\"#ed7953\"],[0.7777777777777778,\"#fb9f3a\"],[0.8888888888888888,\"#fdca26\"],[1.0,\"#f0f921\"]]},\"colorway\":[\"#636efa\",\"#EF553B\",\"#00cc96\",\"#ab63fa\",\"#FFA15A\",\"#19d3f3\",\"#FF6692\",\"#B6E880\",\"#FF97FF\",\"#FECB52\"],\"font\":{\"color\":\"#2a3f5f\"},\"geo\":{\"bgcolor\":\"white\",\"lakecolor\":\"white\",\"landcolor\":\"#E5ECF6\",\"showlakes\":true,\"showland\":true,\"subunitcolor\":\"white\"},\"hoverlabel\":{\"align\":\"left\"},\"hovermode\":\"closest\",\"mapbox\":{\"style\":\"light\"},\"paper_bgcolor\":\"white\",\"plot_bgcolor\":\"#E5ECF6\",\"polar\":{\"angularaxis\":{\"gridcolor\":\"white\",\"linecolor\":\"white\",\"ticks\":\"\"},\"bgcolor\":\"#E5ECF6\",\"radialaxis\":{\"gridcolor\":\"white\",\"linecolor\":\"white\",\"ticks\":\"\"}},\"scene\":{\"xaxis\":{\"backgroundcolor\":\"#E5ECF6\",\"gridcolor\":\"white\",\"gridwidth\":2,\"linecolor\":\"white\",\"showbackground\":true,\"ticks\":\"\",\"zerolinecolor\":\"white\"},\"yaxis\":{\"backgroundcolor\":\"#E5ECF6\",\"gridcolor\":\"white\",\"gridwidth\":2,\"linecolor\":\"white\",\"showbackground\":true,\"ticks\":\"\",\"zerolinecolor\":\"white\"},\"zaxis\":{\"backgroundcolor\":\"#E5ECF6\",\"gridcolor\":\"white\",\"gridwidth\":2,\"linecolor\":\"white\",\"showbackground\":true,\"ticks\":\"\",\"zerolinecolor\":\"white\"}},\"shapedefaults\":{\"line\":{\"color\":\"#2a3f5f\"}},\"ternary\":{\"aaxis\":{\"gridcolor\":\"white\",\"linecolor\":\"white\",\"ticks\":\"\"},\"baxis\":{\"gridcolor\":\"white\",\"linecolor\":\"white\",\"ticks\":\"\"},\"bgcolor\":\"#E5ECF6\",\"caxis\":{\"gridcolor\":\"white\",\"linecolor\":\"white\",\"ticks\":\"\"}},\"title\":{\"x\":0.05},\"xaxis\":{\"automargin\":true,\"gridcolor\":\"white\",\"linecolor\":\"white\",\"ticks\":\"\",\"title\":{\"standoff\":15},\"zerolinecolor\":\"white\",\"zerolinewidth\":2},\"yaxis\":{\"automargin\":true,\"gridcolor\":\"white\",\"linecolor\":\"white\",\"ticks\":\"\",\"title\":{\"standoff\":15},\"zerolinecolor\":\"white\",\"zerolinewidth\":2}}}},                        {\"responsive\": true}                    ).then(function(){\n",
       "                            \n",
       "var gd = document.getElementById('dd3d5559-1fac-47af-9302-5fee4c13483a');\n",
       "var x = new MutationObserver(function (mutations, observer) {{\n",
       "        var display = window.getComputedStyle(gd).display;\n",
       "        if (!display || display === 'none') {{\n",
       "            console.log([gd, 'removed!']);\n",
       "            Plotly.purge(gd);\n",
       "            observer.disconnect();\n",
       "        }}\n",
       "}});\n",
       "\n",
       "// Listen for the removal of the full notebook cells\n",
       "var notebookContainer = gd.closest('#notebook-container');\n",
       "if (notebookContainer) {{\n",
       "    x.observe(notebookContainer, {childList: true});\n",
       "}}\n",
       "\n",
       "// Listen for the clearing of the current output cell\n",
       "var outputEl = gd.closest('.output');\n",
       "if (outputEl) {{\n",
       "    x.observe(outputEl, {childList: true});\n",
       "}}\n",
       "\n",
       "                        })                };                });            </script>        </div>"
      ]
     },
     "metadata": {}
    }
   ],
   "metadata": {}
  },
  {
   "cell_type": "code",
   "execution_count": 4,
   "source": [
    "draw_icicle(filtered_FC30_counting_df)"
   ],
   "outputs": [
    {
     "output_type": "display_data",
     "data": {
      "text/html": [
       "        <script type=\"text/javascript\">\n",
       "        window.PlotlyConfig = {MathJaxConfig: 'local'};\n",
       "        if (window.MathJax) {MathJax.Hub.Config({SVG: {font: \"STIX-Web\"}});}\n",
       "        if (typeof require !== 'undefined') {\n",
       "        require.undef(\"plotly\");\n",
       "        requirejs.config({\n",
       "            paths: {\n",
       "                'plotly': ['https://cdn.plot.ly/plotly-2.2.0.min']\n",
       "            }\n",
       "        });\n",
       "        require(['plotly'], function(Plotly) {\n",
       "            window._Plotly = Plotly;\n",
       "        });\n",
       "        }\n",
       "        </script>\n",
       "        "
      ]
     },
     "metadata": {}
    },
    {
     "output_type": "display_data",
     "data": {
      "text/html": [
       "<div>                            <div id=\"c46b0258-8799-41d2-9c3d-8bf98990f906\" class=\"plotly-graph-div\" style=\"height:525px; width:100%;\"></div>            <script type=\"text/javascript\">                require([\"plotly\"], function(Plotly) {                    window.PLOTLYENV=window.PLOTLYENV || {};                                    if (document.getElementById(\"c46b0258-8799-41d2-9c3d-8bf98990f906\")) {                    Plotly.newPlot(                        \"c46b0258-8799-41d2-9c3d-8bf98990f906\",                        [{\"branchvalues\":\"total\",\"customdata\":[[1.0,0.111296512598031],[1.0,0.2282516891891892],[1.0,0.2074856046065259],[1.0,0.7593023255813953],[1.0,0.2461108895093737],[1.0,0.2650986645405621],[2.0,0.177708417237213],[1.0,0.1707122960604854],[1.0,0.2163319064866644],[5.0,0.1812098501070664],[4.0,0.2126274825550188],[4.0,0.2634750427026001],[1.0,0.3680473372781065],[1.0,0.4700665188470067],[1.0,0.4700665188470067],[1.0,0.409249902837155],[1.0,0.4095682613768961],[1.0,0.4090909090909091],[1.0,0.3174831892411143],[1.0,0.3390320250421382],[1.0,0.2526199669056811],[1.0,0.1999562458980529],[1.0,0.1105140186915887],[2.0,0.9970444615780004],[1.0,0.9444893015744852],[8.0,0.8043351477449455],[16.0,0.7608489187609585],[16.0,0.8945152314001172],[4.0,0.7422148695990657],[10.0,0.6767482517482517],[33.0,0.8226680377900858],[24.0,0.8367555469054108],[15.0,0.8639450492483152],[6.0,0.4866265138268246],[2.0,0.1863813229571984],[1.0,0.4495412844036697],[1.0,0.15125],[1.0,0.1240506329113924],[1.0,0.1371032275273406],[1.0,0.2314920273348519],[1.0,0.706506162224133],[1.0,0.749183895538629],[1.0,0.2560275545350172],[1.0,0.868421052631579],[5.0,0.631132075471698],[1.0,0.8621291448516579],[1.0,0.997716894977169],[8.0,0.6124031007751939],[1.0,0.4256410256410256],[1.0,0.3658070678127985],[1.0,0.6145146088595664],[1.0,0.5163793103448275],[1.0,0.9004629629629629],[1.0,0.2521432173474534],[1.0,0.5627980922098569],[1.0,0.3806739069896964],[1.0,0.3021377672209026],[2.0,0.434937188907324],[1.0,0.3346872461413485],[1.0,0.3442838370565046],[1.0,0.6753246753246753],[1.0,0.2392996108949416],[1.0,0.1982044198895027],[1.0,0.8064743138634765],[1.0,0.2148612354521038],[1.0,0.1452325279293323],[1.0,0.2690839694656488],[1.0,0.4895191122071516],[4.0,0.6050943396226415],[1.0,0.5927568366592757],[2.0,0.8399135729719112],[2.0,0.2674753289473684],[14.0,0.2099413225005642],[35.0,0.5690057745418027],[1.0,0.3470903838217086],[1.0,0.2380741069447526],[2.0,0.3022959183673469],[1.0,0.2213068713724021],[4.0,0.4219024604569419],[1.0,0.6735870818915801],[1.0,0.4330185379503323],[2.0,0.1259996596903181],[1.0,0.6532097948378557],[1.0,0.1838311019567456],[1.0,0.1857069232090706],[1.0,0.2482771465822313],[1.0,0.313543599257885],[1.0,0.1057458356728429],[1.0,0.7487562189054726],[1.0,0.3111510791366906],[1.0,0.1108625403927417],[1.0,0.1941598360655737],[1.0,0.1550944946589975],[1.0,0.7217340363210311],[1.0,0.1660516605166051],[1.0,0.1885913853317811],[1.0,0.1532639545884579],[1.0,0.3845559845559845],[1.0,0.5252808988764045],[1.0,0.4290843806104129],[1.0,0.8016260162601626],[7.0,0.9564546066788218],[1.0,0.1103129386508133],[1.0,0.1278741427995159],[1.0,0.1486666666666666],[1.0,0.1714975845410628],[1.0,0.268909688843916],[1.0,0.3461441213653603],[1.0,0.3478370857576524],[1.0,0.3286908077994429],[2.0,0.2708333333333333],[1.0,0.2905685035939882],[1.0,0.2859939103958243],[2.0,0.2362160960426856],[1.0,0.3596004439511653],[1.0,0.2908648529086485],[1.0,0.2689777327935223],[1.0,0.268705763397371],[1.0,0.7224435590969456],[1.0,0.1322701688555347],[2.0,0.5036549707602339],[1.0,0.2938992042440318],[1.0,0.2810867293625914],[6.0,0.9606644726531893],[3.0,0.4891398783666377],[1.0,0.1276696725201708],[37.0,0.8365465061292786],[1.0,0.735934664246824],[4.0,0.4251740139211137],[4.0,0.5205146036161336],[1.0,0.2072419106317411],[2.0,0.4307574598316755],[68.0,0.6611870607490132],[4.0,0.9472078836227124],[4.0,0.5778463648834019],[4.0,0.3289141414141414],[75.0,0.7416],[1.0,0.3756613756613756],[5.0,0.43871543264942015],[1.0,0.9301385681293304],[1.0,0.1326334466952536],[1.0,0.1553114571746384],[1.0,0.1773577317514578],[2.0,0.7296303656597773],[1.0,0.2615542622389593],[6.0,0.1126707449928769],[1.0,0.10748367654445],[3.0,0.20533490627867343],[1.0,0.5136417556346382],[1.0,0.260191579416351],[1.0,0.7618367832500594],[3.0,0.1502281829188786],[1.0,0.1088190764572293],[1.0,0.1498091603053435],[1.0,0.1551007847361132],[1.0,0.5667134831460674],[1.0,0.3815865662999421],[1.0,0.2430715935334872],[1.0,0.3821356615177971],[1.0,0.7429577464788732],[1.0,0.4686774941995359],[1.0,0.1709157658576381],[1.0,0.1314303638644918],[2.0,0.1162775616083009],[1.0,0.3568075117370892],[1.0,0.3434942139429862],[1.0,0.1116924719701014],[1.0,0.4258872651356993],[1.0,0.1516337644656228],[1.0,0.1207535515750463],[1.0,0.6338535414165666],[1.0,0.7318768619662364],[1.0,0.1089351285189718],[4.0,0.4502446982055464],[2.0,0.1866391184573002],[1.0,0.5377162629757786],[1.0,0.9700085689802912],[1.0,0.9165507649513212],[1.0,0.7557038312526905],[4.0,0.7377250409165304],[3.0,0.7371149740774626],[9.0,0.6535679374389053],[1.0,0.3524752475247524],[2.0,0.21786864689785757],[1.0,0.111296512598031],[1.0,0.7593023255813953],[6.0,0.2089450985119186],[13.0,0.21618918088967748],[2.0,0.4700665188470067],[1.0,0.3680473372781065],[4.0,0.38634806563651863],[3.0,0.26386941261529073],[135.0,0.7932089979436502],[1.0,0.1105140186915887],[2.0,0.9970444615780004],[1.0,0.4495412844036697],[4.0,0.16097397194339624],[3.0,0.5705725374325931],[7.0,0.6980300821202468],[1.0,0.997716894977169],[8.0,0.6124031007751939],[4.0,0.48058550316455456],[2.0,0.5763030901552082],[2.0,0.47173599959977663],[3.0,0.39067071501185024],[3.0,0.45143191950750944],[2.0,0.21875201539222214],[1.0,0.8064743138634765],[1.0,0.2213068713724021],[1.0,0.2148612354521038],[1.0,0.1452325279293323],[53.0,0.4730029892039538],[7.0,0.5388196109746631],[1.0,0.3470903838217086],[1.0,0.2380741069447526],[2.0,0.3022959183673469],[8.0,0.38077684763128955],[1.0,0.6532097948378557],[2.0,0.1847690125829081],[2.0,0.28091037292005816],[2.0,0.42725102728915776],[4.0,0.19281698756350088],[1.0,0.7217340363210311],[4.0,0.22311574624820715],[2.0,0.4771826397434087],[8.0,0.9371010328764894],[4.0,0.13958783316451465],[14.0,0.29074226925420915],[1.0,0.7224435590969456],[1.0,0.1322701688555347],[218.0,0.7040258367007084],[1.0,0.3756613756613756],[5.0,0.43871543264942015],[2.0,0.143972451934946],[1.0,0.9301385681293304],[3.0,0.5455394876903376],[17.0,0.2145542232137868],[2.0,0.1293141183812864],[1.0,0.1551007847361132],[6.0,0.4641904241959505],[5.0,0.17834175293516416],[1.0,0.3434942139429862],[5.0,0.2887641189126072],[2.0,0.4204059952426041],[4.0,0.4502446982055464],[3.0,0.303664833296793],[1.0,0.9700085689802912],[2.0,0.8361272981020058],[16.0,0.690272282678041],[1.0,0.3524752475247524],[19.0,0.6500630026242223],[139.0,0.7887579780477988],[163.0,0.3838222481436518],[4.0,0.48058550316455456],[4.0,0.35408070010460796],[31.0,0.3917935770717042],[6.0,0.4282064231514127],[25.0,0.4457692023058516],[4.0,0.6585838395120454],[218.0,0.7040258367007084],[15.0,0.5001458171498162],[1.0,0.6532097948378557],[259.0,0.6816736101992596],[39.0,0.4152886935304987],[327.0,0.5606868974119438],[4.0,0.48058550316455456]],\"domain\":{\"x\":[0.0,1.0],\"y\":[0.0,1.0]},\"hovertemplate\":\"labels=%{label}<br>Counting=%{customdata[0]}<br>parent=%{parent}<br>id=%{id}<br>mean_subcov=%{color}<extra></extra>\",\"ids\":[\"LTR/Gypsy/ACCORD2/ACCORD2_LTR_3L_RaGOO_24099817_24111803\",\"LTR/Gypsy/ACCORD/ACCORD_I_2R_RaGOO_818637_823373\",\"LTR/Gypsy/ACCORD/ACCORD_LTR_2R_RaGOO_813426_818636\",\"DNA/TcMar-Tc1/BARI_DM/BARI_DM_2R_RaGOO_42130_43850\",\"LTR/Gypsy/BLASTOPIA/BLASTOPIA_LTR_2R_RaGOO_2878638_2883652\",\"LTR/Gypsy/BLASTOPIA/BLASTOPIA_LTR_3L_RaGOO_23419160_23424177\",\"LTR/Gypsy/BLASTOPIA/BLASTOPIA_LTR_3L_RaGOO_23460661_23465627\",\"LTR/Gypsy/BLASTOPIA/BLASTOPIA_LTR_3R_RaGOO_8215021_8220047\",\"LTR/Gypsy/BLASTOPIA/BLASTOPIA_LTR_X_RaGOO_8707375_8710412\",\"LTR/Gypsy/BLOOD/BLOOD_LTR_2L_RaGOO_2148055_2155527\",\"LTR/Gypsy/BLOOD/BLOOD_LTR_2L_RaGOO_3268611_3276063\",\"LTR/Gypsy/BLOOD/BLOOD_LTR_2R_RaGOO_416001_421270\",\"LINE/I-Jockey/BS2/BS2_2R_RaGOO_2406301_2407991\",\"LINE/I-Jockey/BS/BS_3L_RaGOO_25664497_25665850\",\"LINE/I-Jockey/BS/BS_3L_RaGOO_25670374_25671727\",\"LTR/Gypsy/BURDOCK/BURDOCK_LTR_2L_RaGOO_4499214_4501787\",\"LTR/Gypsy/BURDOCK/BURDOCK_LTR_2R_RaGOO_5173682_5176253\",\"LTR/Gypsy/BURDOCK/BURDOCK_LTR_3L_RaGOO_10638503_10641077\",\"LTR/Gypsy/BURDOCK/BURDOCK_LTR_3R_RaGOO_24036640_24040804\",\"LTR/Gypsy/Chimpo/Chimpo_I_4_RaGOO_776018_780171\",\"LTR/Gypsy/Chimpo/Chimpo_LTR_3L_RaGOO_16584918_16588544\",\"LTR/Gypsy/Chimpo/Chimpo_LTR_3L_RaGOO_24516813_24521384\",\"LTR/Copia/Copia1/Copia1-I_DM_2R_RaGOO_2841061_2845341\",\"LTR/Copia/Copia2/Copia2_I_2L_RaGOO_22718178_22722069\",\"LTR/Copia/Copia/Copia_LTR_2L_RaGOO_12650_17604\",\"LTR/Copia/Copia/Copia_LTR_2L_RaGOO_13770083_13775227\",\"LTR/Copia/Copia/Copia_LTR_2L_RaGOO_14753817_14758950\",\"LTR/Copia/Copia/Copia_LTR_2L_RaGOO_21771835_21776956\",\"LTR/Copia/Copia/Copia_LTR_2L_RaGOO_9004503_9009641\",\"LTR/Copia/Copia/Copia_LTR_2R_RaGOO_20482857_20488005\",\"LTR/Copia/Copia/Copia_LTR_3L_RaGOO_10022428_10027467\",\"LTR/Copia/Copia/Copia_LTR_3L_RaGOO_10052506_10057644\",\"LTR/Copia/Copia/Copia_LTR_3L_RaGOO_17623155_17628299\",\"LTR/Copia/Copia/Copia_LTR_3R_RaGOO_1372041_1377188\",\"LTR/Copia/Copia/Copia_LTR_3R_RaGOO_2965355_2970495\",\"LTR/Copia/DM1731/DM1731_LTR_2R_RaGOO_2383388_2383715\",\"LTR/Gypsy/DM176/DM176_I_2L_RaGOO_22492424_22494024\",\"LTR/Gypsy/DM176/DM176_LTR_2R_RaGOO_1374047_1381552\",\"LTR/Gypsy/DM176/DM176_LTR_3L_RaGOO_15231455_15238953\",\"LTR/Gypsy/DM176/DM176_LTR_3R_RaGOO_1830992_1834504\",\"LTR/Gypsy/DM297/DM297_I_2R_RaGOO_2216579_2220068\",\"LTR/Gypsy/DM297/DM297_I_3L_RaGOO_23746062_23747900\",\"LTR/Gypsy/DM297/DM297_LTR_3R_RaGOO_1483241_1488467\",\"LTR/Gypsy/DM412/DM412_3L_RaGOO_5894148_5894718\",\"LTR/Gypsy/DM412/DM412_3R_RaGOO_3388391_3389451\",\"LTR/Gypsy/DM412/DM412_X_RaGOO_11799214_11799787\",\"LINE/R1/DMRT1B/DMRT1B_X_RaGOO_18329002_18330754\",\"LTR/Gypsy/DMTOM1/DMTOM1_LTR_X_RaGOO_11258002_11258389\",\"RC/Helitron/DNAREP1_DM/DNAREP1_DM_2L_RaGOO_21664116_21664701\",\"RC/Helitron/DNAREP1_DM/DNAREP1_DM_3L_RaGOO_24320820_24321867\",\"RC/Helitron/DNAREP1_DM/DNAREP1_DM_3L_RaGOO_25780405_25781466\",\"RC/Helitron/DNAREP1_DM/DNAREP1_DM_3R_RaGOO_3686735_3687895\",\"LINE/I-Jockey/DOC3_DM/DOC3_DM_2R_RaGOO_860527_861391\",\"LINE/I-Jockey/DOC3_DM/DOC3_DM_X_RaGOO_21994216_21996199\",\"LINE/I-Jockey/DOC5_DM/DOC5_DM_2R_RaGOO_625358_625987\",\"LINE/I-Jockey/DOC5_DM/DOC5_DM_3L_RaGOO_24441325_24444916\",\"LINE/I-Jockey/DOC6_DM/DOC6_DM_2L_RaGOO_8926966_8931176\",\"LINE/I-Jockey/DOC6_DM/DOC6_DM_X_RaGOO_7744303_7748522\",\"DNA/TcMar-Tc1/FB4_DM/FB4_DM_2L_RaGOO_21192802_21194033\",\"DNA/TcMar-Tc1/FB4_DM/FB4_DM_2R_RaGOO_855726_857248\",\"DNA/TcMar-Tc1/FB4_DM/FB4_DM_4_RaGOO_769101_769563\",\"LINE/I-Jockey/FW2_DM/FW2_DM_3L_RaGOO_25562036_25565634\",\"LINE/I-Jockey/FW2_DM/FW2_DM_3R_RaGOO_1276264_1280608\",\"LTR/Gypsy/GTWIN/GTWIN_I_3L_RaGOO_25605414_25606835\",\"LTR/Gypsy/Gypsy1/Gypsy1-I_DM_3L_RaGOO_23197800_23202268\",\"LTR/Gypsy/Gypsy11/Gypsy11_LTR_2R_RaGOO_1478181_1482030\",\"LTR/Gypsy/Gypsy12A/Gypsy12A_LTR_2L_RaGOO_21242356_21244976\",\"LTR/Gypsy/Gypsy12A/Gypsy12A_LTR_3R_RaGOO_1801038_1802660\",\"LTR/Gypsy/Gypsy12A/Gypsy12A_LTR_3R_RaGOO_1864004_1865329\",\"LTR/Gypsy/Gypsy12A/Gypsy12A_LTR_3R_RaGOO_3432347_3433700\",\"LTR/Gypsy/Gypsy12/Gypsy12_LTR_2R_RaGOO_1299099_1309281\",\"LTR/Gypsy/Gypsy12/Gypsy12_LTR_3R_RaGOO_2266515_2268947\",\"LTR/Gypsy/Gypsy12/Gypsy12_LTR_3R_RaGOO_842982_854376\",\"LTR/Gypsy/Gypsy12/Gypsy12_LTR_3R_RaGOO_960900_963176\",\"LTR/Gypsy/Gypsy2/Gypsy2-I_DM_2R_RaGOO_1185019_1189865\",\"LTR/Gypsy/Gypsy7/Gypsy7_I_3L_RaGOO_25724750_25729257\",\"LTR/Gypsy/Gypsy8/Gypsy8_LTR_3R_RaGOO_3489645_3494741\",\"LTR/Gypsy/Gypsy/Gypsy_I_3R_RaGOO_3134007_3139348\",\"LINE/I-Jockey/HETA/HETA_3L_RaGOO_18403_20679\",\"LINE/I-Jockey/HETA/HETA_3L_RaGOO_24251825_24252692\",\"LINE/I-Jockey/HETA/HETA_X_RaGOO_3925_6784\",\"LINE/I-Jockey/HETA/HETA_X_RaGOO_87709_93586\",\"DNA/hAT-hobo/HOBO/HOBO_2L_RaGOO_8465431_8466942\",\"LTR/Gypsy/IDEFIX/IDEFIX_I_3L_RaGOO_23168345_23170287\",\"LTR/Gypsy/IDEFIX/IDEFIX_LTR_3R_RaGOO_1194385_1200206\",\"LINE/I/IVK_DM/IVK_DM_3L_RaGOO_19656431_19661800\",\"LINE/I/IVK_DM/IVK_DM_3L_RaGOO_26401974_26403591\",\"LINE/I/I_DM/I_DM_2L_RaGOO_8443816_8449159\",\"LINE/I/I_DM/I_DM_3L_RaGOO_24636314_24637118\",\"LTR/Gypsy/Invader1/Invader1_I_3L_RaGOO_26375243_26376911\",\"LTR/Gypsy/Invader1/Invader1_LTR_2R_RaGOO_4667269_4671292\",\"LTR/Gypsy/Invader1/Invader1_LTR_3L_RaGOO_22836953_22840857\",\"LTR/Gypsy/Invader1/Invader1_LTR_3R_RaGOO_1539422_1544290\",\"LTR/Gypsy/Invader4/Invader4_LTR_2L_RaGOO_21089350_21091057\",\"LTR/Gypsy/Invader6/Invader6_I_3L_RaGOO_25623224_25628102\",\"LTR/Gypsy/Invader6/Invader6_I_3L_RaGOO_25628103_25632398\",\"LTR/Gypsy/Invader6/Invader6_LTR_3L_RaGOO_25617938_25623223\",\"LTR/Gypsy/Invader6/Invader6_LTR_3R_RaGOO_2712551_2717731\",\"DNA/CMC-Transib/M4DM/M4DM_2L_RaGOO_19850340_19851052\",\"DNA/CMC-Transib/M4DM/M4DM_3L_RaGOO_25693372_25696157\",\"LTR/Pao/MAX/MAX_LTR_2R_RaGOO_137030_138260\",\"LTR/Pao/MAX/MAX_LTR_3L_RaGOO_3640512_3649209\",\"LTR/Gypsy/MDG1/MDG1_I_2R_RaGOO_916381_928492\",\"LTR/Gypsy/MDG1/MDG1_I_3R_RaGOO_3302870_3305349\",\"LTR/Gypsy/MDG1/MDG1_LTR_2R_RaGOO_567704_573704\",\"LTR/Gypsy/MDG1/MDG1_LTR_X_RaGOO_18264248_18271286\",\"LTR/Gypsy/MICROPIA/MICROPIA_I_2L_RaGOO_13442293_13446246\",\"LTR/Gypsy/MICROPIA/MICROPIA_I_2L_RaGOO_3970137_3974092\",\"LTR/Gypsy/MICROPIA/MICROPIA_I_2R_RaGOO_21655615_21659568\",\"LTR/Gypsy/MICROPIA/MICROPIA_I_3L_RaGOO_11129215_11133164\",\"LTR/Gypsy/MICROPIA/MICROPIA_I_3L_RaGOO_25834006_25836118\",\"LTR/Gypsy/MICROPIA/MICROPIA_I_3L_RaGOO_4604350_4608941\",\"LTR/Gypsy/MICROPIA/MICROPIA_I_3R_RaGOO_23396903_23401501\",\"LTR/Gypsy/MICROPIA/MICROPIA_I_3R_RaGOO_31083506_31088004\",\"LTR/Gypsy/MICROPIA/MICROPIA_I_4_RaGOO_617814_622319\",\"LTR/Gypsy/MICROPIA/MICROPIA_I_X_RaGOO_17340828_17345349\",\"LTR/Gypsy/MICROPIA/MICROPIA_I_X_RaGOO_2765010_2768962\",\"LTR/Gypsy/MICROPIA/MICROPIA_I_X_RaGOO_603817_607773\",\"DNA/TcMar-Tc1/Mariner2_DM/Mariner2_DM_4_RaGOO_638924_639677\",\"LTR/Gypsy/NOMAD/NOMAD_LTR_3L_RaGOO_10268410_10275872\",\"DNA/TcMar-Pogo/POGO/POGO_2L_RaGOO_14260359_14261043\",\"DNA/TcMar-Pogo/POGO/POGO_2L_RaGOO_19914701_19916586\",\"DNA/TcMar-Pogo/POGO/POGO_2L_RaGOO_21617872_21618829\",\"DNA/TcMar-Pogo/POGO/POGO_2L_RaGOO_2955877_2958004\",\"DNA/TcMar-Pogo/POGO/POGO_2R_RaGOO_16569084_16570235\",\"DNA/TcMar-Pogo/POGO/POGO_2R_RaGOO_3208365_3210472\",\"DNA/TcMar-Pogo/POGO/POGO_2R_RaGOO_7201268_7202754\",\"DNA/TcMar-Pogo/POGO/POGO_2R_RaGOO_8955878_8956980\",\"DNA/TcMar-Pogo/POGO/POGO_3L_RaGOO_17298517_17299810\",\"DNA/TcMar-Pogo/POGO/POGO_3L_RaGOO_20073927_20075365\",\"DNA/TcMar-Pogo/POGO/POGO_3L_RaGOO_22175824_22177122\",\"DNA/TcMar-Pogo/POGO/POGO_3L_RaGOO_24288086_24289393\",\"DNA/TcMar-Pogo/POGO/POGO_3L_RaGOO_9733928_9735150\",\"DNA/TcMar-Pogo/POGO/POGO_3R_RaGOO_11285980_11288111\",\"DNA/TcMar-Pogo/POGO/POGO_X_RaGOO_14998652_15000110\",\"DNA/TcMar-Pogo/POGO/POGO_X_RaGOO_20422614_20423802\",\"DNA/TcMar-Pogo/POGO/POGO_X_RaGOO_21863530_21864880\",\"DNA/P/PROTOP/PROTOP_3L_RaGOO_23000805_23002317\",\"DNA/P/PROTOP_B/PROTOP_B_4_RaGOO_175159_176280\",\"LTR/Gypsy/QUASIMODO2/QUASIMODO2-I_DM_3L_RaGOO_24183512_24185244\",\"LTR/Gypsy/QUASIMODO/QUASIMODO_LTR_2R_RaGOO_3561204_3567967\",\"LTR/Gypsy/QUASIMODO/QUASIMODO_LTR_3L_RaGOO_26470518_26477710\",\"LINE/R1/R1_DM/R1_DM_3L_RaGOO_22723213_22728186\",\"LINE/R1/R1_DM/R1_DM_X_RaGOO_21996524_22001556\",\"LTR/Pao/ROO/ROO_I_2L_RaGOO_12458755_12461676\",\"LTR/Pao/ROO/ROO_I_2R_RaGOO_13238874_13250807\",\"LTR/Pao/ROO/ROO_I_3L_RaGOO_6649709_6657673\",\"LTR/Pao/ROO/ROO_I_3L_RaGOO_7744557_7749643\",\"LTR/Pao/ROO/ROO_I_X_RaGOO_10157853_10159539\",\"LTR/Pao/ROO/ROO_I_X_RaGOO_12254906_12259395\",\"LTR/Pao/ROO/ROO_I_X_RaGOO_4684190_4696799\",\"LTR/Pao/ROO/ROO_I_X_RaGOO_6590807_6605123\",\"LTR/Gypsy/ROVER/ROVER-I_DM_X_RaGOO_21298736_21304020\",\"LTR/Gypsy/ROVER/ROVER-LTR_DM_2R_RaGOO_3256225_3263561\",\"LTR/Gypsy/STALKER4/STALKER4_I_2L_RaGOO_21913834_21920333\",\"DNA/TcMar-Tc1/S_DM/S_DM_2R_RaGOO_3667995_3669419\",\"DNA/TcMar-Tc1/S_DM/S_DM_3L_RaGOO_20608071_20609798\",\"DNA/TcMar-Tc1/S_DM/S_DM_3L_RaGOO_24954457_24956189\",\"DNA/TcMar-Tc1/S_DM/S_DM_3L_RaGOO_5888047_5889536\",\"DNA/TcMar-Tc1/S_DM/S_DM_3R_RaGOO_4154687_4156391\",\"DNA/TcMar-Tc1/S_DM/S_DM_3R_RaGOO_4710881_4712605\",\"LTR/Gypsy/Stalker2/Stalker2_I_3R_RaGOO_12477203_12482106\",\"LTR/Gypsy/Stalker2/Stalker2_LTR_2R_RaGOO_15238139_15244515\",\"LTR/Gypsy/Stalker2/Stalker2_LTR_3L_RaGOO_22813949_22821659\",\"LTR/Gypsy/Stalker2/Stalker2_LTR_3R_RaGOO_12482112_12482538\",\"LTR/Gypsy/TABOR/TABOR_I_3R_RaGOO_1081451_1084994\",\"LINE/I-Jockey/TAHRE/TAHRE_2L_RaGOO_38366_47731\",\"LINE/I-Jockey/TAHRE/TAHRE_2R_RaGOO_3700966_3703361\",\"LINE/I-Jockey/TAHRE/TAHRE_3L_RaGOO_20705_26581\",\"LINE/I-Jockey/TAHRE/TAHRE_3L_RaGOO_2547_12261\",\"LINE/I-Jockey/TAHRE/TAHRE_X_RaGOO_94808_95641\",\"LINE/I-Jockey/TART-A/TART-A_3L_RaGOO_24811306_24813320\",\"LINE/I-Jockey/TART-A/TART-A_X_RaGOO_3_3271\",\"LINE/I-Jockey/TART_B1/TART_B1_2R_RaGOO_23920095_23923160\",\"DNA/TcMar-Tc1/TC1-2_DM/TC1-2_DM_2R_RaGOO_2258745_2260197\",\"DNA/TcMar-Tc1/TC1-2_DM/TC1-2_DM_4_RaGOO_958695_960140\",\"DNA/TcMar-Tc1/TC1_DM/TC1_DM_4_RaGOO_119749_120916\",\"LTR/Gypsy/TIRANT/TIRANT_I_2R_RaGOO_626164_626883\",\"LTR/Gypsy/TIRANT/TIRANT_LTR_2L_RaGOO_20669409_20674055\",\"DNA/CMC-Transib/TRANSIB3/TRANSIB3_3R_RaGOO_1852612_1853834\",\"DNA/CMC-Transib/TRANSIB3/TRANSIB3_3R_RaGOO_2679434_2681620\",\"DNA/CMC-Transib/TRANSIB3/TRANSIB3_X_RaGOO_21749054_21750759\",\"DNA/CMC-Transib/Transib5/Transib5_3R_RaGOO_2639090_2641615\",\"LTR/Gypsy/ACCORD\",\"LTR/Gypsy/ACCORD2\",\"DNA/TcMar-Tc1/BARI_DM\",\"LTR/Gypsy/BLASTOPIA\",\"LTR/Gypsy/BLOOD\",\"LINE/I-Jockey/BS\",\"LINE/I-Jockey/BS2\",\"LTR/Gypsy/BURDOCK\",\"LTR/Gypsy/Chimpo\",\"LTR/Copia/Copia\",\"LTR/Copia/Copia1\",\"LTR/Copia/Copia2\",\"LTR/Copia/DM1731\",\"LTR/Gypsy/DM176\",\"LTR/Gypsy/DM297\",\"LTR/Gypsy/DM412\",\"LINE/R1/DMRT1B\",\"LTR/Gypsy/DMTOM1\",\"RC/Helitron/DNAREP1_DM\",\"LINE/I-Jockey/DOC3_DM\",\"LINE/I-Jockey/DOC5_DM\",\"LINE/I-Jockey/DOC6_DM\",\"DNA/TcMar-Tc1/FB4_DM\",\"LINE/I-Jockey/FW2_DM\",\"LTR/Gypsy/GTWIN\",\"LTR/Gypsy/Gypsy\",\"LTR/Gypsy/Gypsy1\",\"LTR/Gypsy/Gypsy11\",\"LTR/Gypsy/Gypsy12\",\"LTR/Gypsy/Gypsy12A\",\"LTR/Gypsy/Gypsy2\",\"LTR/Gypsy/Gypsy7\",\"LTR/Gypsy/Gypsy8\",\"LINE/I-Jockey/HETA\",\"DNA/hAT-hobo/HOBO\",\"LTR/Gypsy/IDEFIX\",\"LINE/I/IVK_DM\",\"LINE/I/I_DM\",\"LTR/Gypsy/Invader1\",\"LTR/Gypsy/Invader4\",\"LTR/Gypsy/Invader6\",\"DNA/CMC-Transib/M4DM\",\"LTR/Pao/MAX\",\"LTR/Gypsy/MDG1\",\"LTR/Gypsy/MICROPIA\",\"DNA/TcMar-Tc1/Mariner2_DM\",\"LTR/Gypsy/NOMAD\",\"DNA/TcMar-Pogo/POGO\",\"DNA/P/PROTOP\",\"DNA/P/PROTOP_B\",\"LTR/Gypsy/QUASIMODO\",\"LTR/Gypsy/QUASIMODO2\",\"LINE/R1/R1_DM\",\"LTR/Pao/ROO\",\"LTR/Gypsy/ROVER\",\"LTR/Gypsy/STALKER4\",\"DNA/TcMar-Tc1/S_DM\",\"LTR/Gypsy/Stalker2\",\"LTR/Gypsy/TABOR\",\"LINE/I-Jockey/TAHRE\",\"LINE/I-Jockey/TART-A\",\"LINE/I-Jockey/TART_B1\",\"DNA/TcMar-Tc1/TC1-2_DM\",\"DNA/TcMar-Tc1/TC1_DM\",\"LTR/Gypsy/TIRANT\",\"DNA/CMC-Transib/TRANSIB3\",\"DNA/CMC-Transib/Transib5\",\"DNA/CMC-Transib\",\"LTR/Copia\",\"LTR/Gypsy\",\"RC/Helitron\",\"LINE/I\",\"LINE/I-Jockey\",\"DNA/P\",\"LTR/Pao\",\"LINE/R1\",\"DNA/TcMar-Pogo\",\"DNA/TcMar-Tc1\",\"DNA/hAT-hobo\",\"DNA\",\"LINE\",\"LTR\",\"RC\"],\"labels\":[\"ACCORD2_LTR_3L_RaGOO_24099817_24111803\",\"ACCORD_I_2R_RaGOO_818637_823373\",\"ACCORD_LTR_2R_RaGOO_813426_818636\",\"BARI_DM_2R_RaGOO_42130_43850\",\"BLASTOPIA_LTR_2R_RaGOO_2878638_2883652\",\"BLASTOPIA_LTR_3L_RaGOO_23419160_23424177\",\"BLASTOPIA_LTR_3L_RaGOO_23460661_23465627\",\"BLASTOPIA_LTR_3R_RaGOO_8215021_8220047\",\"BLASTOPIA_LTR_X_RaGOO_8707375_8710412\",\"BLOOD_LTR_2L_RaGOO_2148055_2155527\",\"BLOOD_LTR_2L_RaGOO_3268611_3276063\",\"BLOOD_LTR_2R_RaGOO_416001_421270\",\"BS2_2R_RaGOO_2406301_2407991\",\"BS_3L_RaGOO_25664497_25665850\",\"BS_3L_RaGOO_25670374_25671727\",\"BURDOCK_LTR_2L_RaGOO_4499214_4501787\",\"BURDOCK_LTR_2R_RaGOO_5173682_5176253\",\"BURDOCK_LTR_3L_RaGOO_10638503_10641077\",\"BURDOCK_LTR_3R_RaGOO_24036640_24040804\",\"Chimpo_I_4_RaGOO_776018_780171\",\"Chimpo_LTR_3L_RaGOO_16584918_16588544\",\"Chimpo_LTR_3L_RaGOO_24516813_24521384\",\"Copia1-I_DM_2R_RaGOO_2841061_2845341\",\"Copia2_I_2L_RaGOO_22718178_22722069\",\"Copia_LTR_2L_RaGOO_12650_17604\",\"Copia_LTR_2L_RaGOO_13770083_13775227\",\"Copia_LTR_2L_RaGOO_14753817_14758950\",\"Copia_LTR_2L_RaGOO_21771835_21776956\",\"Copia_LTR_2L_RaGOO_9004503_9009641\",\"Copia_LTR_2R_RaGOO_20482857_20488005\",\"Copia_LTR_3L_RaGOO_10022428_10027467\",\"Copia_LTR_3L_RaGOO_10052506_10057644\",\"Copia_LTR_3L_RaGOO_17623155_17628299\",\"Copia_LTR_3R_RaGOO_1372041_1377188\",\"Copia_LTR_3R_RaGOO_2965355_2970495\",\"DM1731_LTR_2R_RaGOO_2383388_2383715\",\"DM176_I_2L_RaGOO_22492424_22494024\",\"DM176_LTR_2R_RaGOO_1374047_1381552\",\"DM176_LTR_3L_RaGOO_15231455_15238953\",\"DM176_LTR_3R_RaGOO_1830992_1834504\",\"DM297_I_2R_RaGOO_2216579_2220068\",\"DM297_I_3L_RaGOO_23746062_23747900\",\"DM297_LTR_3R_RaGOO_1483241_1488467\",\"DM412_3L_RaGOO_5894148_5894718\",\"DM412_3R_RaGOO_3388391_3389451\",\"DM412_X_RaGOO_11799214_11799787\",\"DMRT1B_X_RaGOO_18329002_18330754\",\"DMTOM1_LTR_X_RaGOO_11258002_11258389\",\"DNAREP1_DM_2L_RaGOO_21664116_21664701\",\"DNAREP1_DM_3L_RaGOO_24320820_24321867\",\"DNAREP1_DM_3L_RaGOO_25780405_25781466\",\"DNAREP1_DM_3R_RaGOO_3686735_3687895\",\"DOC3_DM_2R_RaGOO_860527_861391\",\"DOC3_DM_X_RaGOO_21994216_21996199\",\"DOC5_DM_2R_RaGOO_625358_625987\",\"DOC5_DM_3L_RaGOO_24441325_24444916\",\"DOC6_DM_2L_RaGOO_8926966_8931176\",\"DOC6_DM_X_RaGOO_7744303_7748522\",\"FB4_DM_2L_RaGOO_21192802_21194033\",\"FB4_DM_2R_RaGOO_855726_857248\",\"FB4_DM_4_RaGOO_769101_769563\",\"FW2_DM_3L_RaGOO_25562036_25565634\",\"FW2_DM_3R_RaGOO_1276264_1280608\",\"GTWIN_I_3L_RaGOO_25605414_25606835\",\"Gypsy1-I_DM_3L_RaGOO_23197800_23202268\",\"Gypsy11_LTR_2R_RaGOO_1478181_1482030\",\"Gypsy12A_LTR_2L_RaGOO_21242356_21244976\",\"Gypsy12A_LTR_3R_RaGOO_1801038_1802660\",\"Gypsy12A_LTR_3R_RaGOO_1864004_1865329\",\"Gypsy12A_LTR_3R_RaGOO_3432347_3433700\",\"Gypsy12_LTR_2R_RaGOO_1299099_1309281\",\"Gypsy12_LTR_3R_RaGOO_2266515_2268947\",\"Gypsy12_LTR_3R_RaGOO_842982_854376\",\"Gypsy12_LTR_3R_RaGOO_960900_963176\",\"Gypsy2-I_DM_2R_RaGOO_1185019_1189865\",\"Gypsy7_I_3L_RaGOO_25724750_25729257\",\"Gypsy8_LTR_3R_RaGOO_3489645_3494741\",\"Gypsy_I_3R_RaGOO_3134007_3139348\",\"HETA_3L_RaGOO_18403_20679\",\"HETA_3L_RaGOO_24251825_24252692\",\"HETA_X_RaGOO_3925_6784\",\"HETA_X_RaGOO_87709_93586\",\"HOBO_2L_RaGOO_8465431_8466942\",\"IDEFIX_I_3L_RaGOO_23168345_23170287\",\"IDEFIX_LTR_3R_RaGOO_1194385_1200206\",\"IVK_DM_3L_RaGOO_19656431_19661800\",\"IVK_DM_3L_RaGOO_26401974_26403591\",\"I_DM_2L_RaGOO_8443816_8449159\",\"I_DM_3L_RaGOO_24636314_24637118\",\"Invader1_I_3L_RaGOO_26375243_26376911\",\"Invader1_LTR_2R_RaGOO_4667269_4671292\",\"Invader1_LTR_3L_RaGOO_22836953_22840857\",\"Invader1_LTR_3R_RaGOO_1539422_1544290\",\"Invader4_LTR_2L_RaGOO_21089350_21091057\",\"Invader6_I_3L_RaGOO_25623224_25628102\",\"Invader6_I_3L_RaGOO_25628103_25632398\",\"Invader6_LTR_3L_RaGOO_25617938_25623223\",\"Invader6_LTR_3R_RaGOO_2712551_2717731\",\"M4DM_2L_RaGOO_19850340_19851052\",\"M4DM_3L_RaGOO_25693372_25696157\",\"MAX_LTR_2R_RaGOO_137030_138260\",\"MAX_LTR_3L_RaGOO_3640512_3649209\",\"MDG1_I_2R_RaGOO_916381_928492\",\"MDG1_I_3R_RaGOO_3302870_3305349\",\"MDG1_LTR_2R_RaGOO_567704_573704\",\"MDG1_LTR_X_RaGOO_18264248_18271286\",\"MICROPIA_I_2L_RaGOO_13442293_13446246\",\"MICROPIA_I_2L_RaGOO_3970137_3974092\",\"MICROPIA_I_2R_RaGOO_21655615_21659568\",\"MICROPIA_I_3L_RaGOO_11129215_11133164\",\"MICROPIA_I_3L_RaGOO_25834006_25836118\",\"MICROPIA_I_3L_RaGOO_4604350_4608941\",\"MICROPIA_I_3R_RaGOO_23396903_23401501\",\"MICROPIA_I_3R_RaGOO_31083506_31088004\",\"MICROPIA_I_4_RaGOO_617814_622319\",\"MICROPIA_I_X_RaGOO_17340828_17345349\",\"MICROPIA_I_X_RaGOO_2765010_2768962\",\"MICROPIA_I_X_RaGOO_603817_607773\",\"Mariner2_DM_4_RaGOO_638924_639677\",\"NOMAD_LTR_3L_RaGOO_10268410_10275872\",\"POGO_2L_RaGOO_14260359_14261043\",\"POGO_2L_RaGOO_19914701_19916586\",\"POGO_2L_RaGOO_21617872_21618829\",\"POGO_2L_RaGOO_2955877_2958004\",\"POGO_2R_RaGOO_16569084_16570235\",\"POGO_2R_RaGOO_3208365_3210472\",\"POGO_2R_RaGOO_7201268_7202754\",\"POGO_2R_RaGOO_8955878_8956980\",\"POGO_3L_RaGOO_17298517_17299810\",\"POGO_3L_RaGOO_20073927_20075365\",\"POGO_3L_RaGOO_22175824_22177122\",\"POGO_3L_RaGOO_24288086_24289393\",\"POGO_3L_RaGOO_9733928_9735150\",\"POGO_3R_RaGOO_11285980_11288111\",\"POGO_X_RaGOO_14998652_15000110\",\"POGO_X_RaGOO_20422614_20423802\",\"POGO_X_RaGOO_21863530_21864880\",\"PROTOP_3L_RaGOO_23000805_23002317\",\"PROTOP_B_4_RaGOO_175159_176280\",\"QUASIMODO2-I_DM_3L_RaGOO_24183512_24185244\",\"QUASIMODO_LTR_2R_RaGOO_3561204_3567967\",\"QUASIMODO_LTR_3L_RaGOO_26470518_26477710\",\"R1_DM_3L_RaGOO_22723213_22728186\",\"R1_DM_X_RaGOO_21996524_22001556\",\"ROO_I_2L_RaGOO_12458755_12461676\",\"ROO_I_2R_RaGOO_13238874_13250807\",\"ROO_I_3L_RaGOO_6649709_6657673\",\"ROO_I_3L_RaGOO_7744557_7749643\",\"ROO_I_X_RaGOO_10157853_10159539\",\"ROO_I_X_RaGOO_12254906_12259395\",\"ROO_I_X_RaGOO_4684190_4696799\",\"ROO_I_X_RaGOO_6590807_6605123\",\"ROVER-I_DM_X_RaGOO_21298736_21304020\",\"ROVER-LTR_DM_2R_RaGOO_3256225_3263561\",\"STALKER4_I_2L_RaGOO_21913834_21920333\",\"S_DM_2R_RaGOO_3667995_3669419\",\"S_DM_3L_RaGOO_20608071_20609798\",\"S_DM_3L_RaGOO_24954457_24956189\",\"S_DM_3L_RaGOO_5888047_5889536\",\"S_DM_3R_RaGOO_4154687_4156391\",\"S_DM_3R_RaGOO_4710881_4712605\",\"Stalker2_I_3R_RaGOO_12477203_12482106\",\"Stalker2_LTR_2R_RaGOO_15238139_15244515\",\"Stalker2_LTR_3L_RaGOO_22813949_22821659\",\"Stalker2_LTR_3R_RaGOO_12482112_12482538\",\"TABOR_I_3R_RaGOO_1081451_1084994\",\"TAHRE_2L_RaGOO_38366_47731\",\"TAHRE_2R_RaGOO_3700966_3703361\",\"TAHRE_3L_RaGOO_20705_26581\",\"TAHRE_3L_RaGOO_2547_12261\",\"TAHRE_X_RaGOO_94808_95641\",\"TART-A_3L_RaGOO_24811306_24813320\",\"TART-A_X_RaGOO_3_3271\",\"TART_B1_2R_RaGOO_23920095_23923160\",\"TC1-2_DM_2R_RaGOO_2258745_2260197\",\"TC1-2_DM_4_RaGOO_958695_960140\",\"TC1_DM_4_RaGOO_119749_120916\",\"TIRANT_I_2R_RaGOO_626164_626883\",\"TIRANT_LTR_2L_RaGOO_20669409_20674055\",\"TRANSIB3_3R_RaGOO_1852612_1853834\",\"TRANSIB3_3R_RaGOO_2679434_2681620\",\"TRANSIB3_X_RaGOO_21749054_21750759\",\"Transib5_3R_RaGOO_2639090_2641615\",\"ACCORD\",\"ACCORD2\",\"BARI_DM\",\"BLASTOPIA\",\"BLOOD\",\"BS\",\"BS2\",\"BURDOCK\",\"Chimpo\",\"Copia\",\"Copia1\",\"Copia2\",\"DM1731\",\"DM176\",\"DM297\",\"DM412\",\"DMRT1B\",\"DMTOM1\",\"DNAREP1_DM\",\"DOC3_DM\",\"DOC5_DM\",\"DOC6_DM\",\"FB4_DM\",\"FW2_DM\",\"GTWIN\",\"Gypsy\",\"Gypsy1\",\"Gypsy11\",\"Gypsy12\",\"Gypsy12A\",\"Gypsy2\",\"Gypsy7\",\"Gypsy8\",\"HETA\",\"HOBO\",\"IDEFIX\",\"IVK_DM\",\"I_DM\",\"Invader1\",\"Invader4\",\"Invader6\",\"M4DM\",\"MAX\",\"MDG1\",\"MICROPIA\",\"Mariner2_DM\",\"NOMAD\",\"POGO\",\"PROTOP\",\"PROTOP_B\",\"QUASIMODO\",\"QUASIMODO2\",\"R1_DM\",\"ROO\",\"ROVER\",\"STALKER4\",\"S_DM\",\"Stalker2\",\"TABOR\",\"TAHRE\",\"TART-A\",\"TART_B1\",\"TC1-2_DM\",\"TC1_DM\",\"TIRANT\",\"TRANSIB3\",\"Transib5\",\"CMC-Transib\",\"Copia\",\"Gypsy\",\"Helitron\",\"I\",\"I-Jockey\",\"P\",\"Pao\",\"R1\",\"TcMar-Pogo\",\"TcMar-Tc1\",\"hAT-hobo\",\"DNA\",\"LINE\",\"LTR\",\"RC\"],\"marker\":{\"coloraxis\":\"coloraxis\",\"colors\":[0.111296512598031,0.2282516891891892,0.2074856046065259,0.7593023255813953,0.2461108895093737,0.2650986645405621,0.177708417237213,0.1707122960604854,0.2163319064866644,0.1812098501070664,0.2126274825550188,0.2634750427026001,0.3680473372781065,0.4700665188470067,0.4700665188470067,0.409249902837155,0.4095682613768961,0.4090909090909091,0.3174831892411143,0.3390320250421382,0.2526199669056811,0.1999562458980529,0.1105140186915887,0.9970444615780004,0.9444893015744852,0.8043351477449455,0.7608489187609585,0.8945152314001172,0.7422148695990657,0.6767482517482517,0.8226680377900858,0.8367555469054108,0.8639450492483152,0.4866265138268246,0.1863813229571984,0.4495412844036697,0.15125,0.1240506329113924,0.1371032275273406,0.2314920273348519,0.706506162224133,0.749183895538629,0.2560275545350172,0.868421052631579,0.631132075471698,0.8621291448516579,0.997716894977169,0.6124031007751939,0.4256410256410256,0.3658070678127985,0.6145146088595664,0.5163793103448275,0.9004629629629629,0.2521432173474534,0.5627980922098569,0.3806739069896964,0.3021377672209026,0.434937188907324,0.3346872461413485,0.3442838370565046,0.6753246753246753,0.2392996108949416,0.1982044198895027,0.8064743138634765,0.2148612354521038,0.1452325279293323,0.2690839694656488,0.4895191122071516,0.6050943396226415,0.5927568366592757,0.8399135729719112,0.2674753289473684,0.2099413225005642,0.5690057745418027,0.3470903838217086,0.2380741069447526,0.3022959183673469,0.2213068713724021,0.4219024604569419,0.6735870818915801,0.4330185379503323,0.1259996596903181,0.6532097948378557,0.1838311019567456,0.1857069232090706,0.2482771465822313,0.313543599257885,0.1057458356728429,0.7487562189054726,0.3111510791366906,0.1108625403927417,0.1941598360655737,0.1550944946589975,0.7217340363210311,0.1660516605166051,0.1885913853317811,0.1532639545884579,0.3845559845559845,0.5252808988764045,0.4290843806104129,0.8016260162601626,0.9564546066788218,0.1103129386508133,0.1278741427995159,0.1486666666666666,0.1714975845410628,0.268909688843916,0.3461441213653603,0.3478370857576524,0.3286908077994429,0.2708333333333333,0.2905685035939882,0.2859939103958243,0.2362160960426856,0.3596004439511653,0.2908648529086485,0.2689777327935223,0.268705763397371,0.7224435590969456,0.1322701688555347,0.5036549707602339,0.2938992042440318,0.2810867293625914,0.9606644726531893,0.4891398783666377,0.1276696725201708,0.8365465061292786,0.735934664246824,0.4251740139211137,0.5205146036161336,0.2072419106317411,0.4307574598316755,0.6611870607490132,0.9472078836227124,0.5778463648834019,0.3289141414141414,0.7416,0.3756613756613756,0.43871543264942015,0.9301385681293304,0.1326334466952536,0.1553114571746384,0.1773577317514578,0.7296303656597773,0.2615542622389593,0.1126707449928769,0.10748367654445,0.20533490627867343,0.5136417556346382,0.260191579416351,0.7618367832500594,0.1502281829188786,0.1088190764572293,0.1498091603053435,0.1551007847361132,0.5667134831460674,0.3815865662999421,0.2430715935334872,0.3821356615177971,0.7429577464788732,0.4686774941995359,0.1709157658576381,0.1314303638644918,0.1162775616083009,0.3568075117370892,0.3434942139429862,0.1116924719701014,0.4258872651356993,0.1516337644656228,0.1207535515750463,0.6338535414165666,0.7318768619662364,0.1089351285189718,0.4502446982055464,0.1866391184573002,0.5377162629757786,0.9700085689802912,0.9165507649513212,0.7557038312526905,0.7377250409165304,0.7371149740774626,0.6535679374389053,0.3524752475247524,0.21786864689785757,0.111296512598031,0.7593023255813953,0.2089450985119186,0.21618918088967748,0.4700665188470067,0.3680473372781065,0.38634806563651863,0.26386941261529073,0.7932089979436502,0.1105140186915887,0.9970444615780004,0.4495412844036697,0.16097397194339624,0.5705725374325931,0.6980300821202468,0.997716894977169,0.6124031007751939,0.48058550316455456,0.5763030901552082,0.47173599959977663,0.39067071501185024,0.45143191950750944,0.21875201539222214,0.8064743138634765,0.2213068713724021,0.2148612354521038,0.1452325279293323,0.4730029892039538,0.5388196109746631,0.3470903838217086,0.2380741069447526,0.3022959183673469,0.38077684763128955,0.6532097948378557,0.1847690125829081,0.28091037292005816,0.42725102728915776,0.19281698756350088,0.7217340363210311,0.22311574624820715,0.4771826397434087,0.9371010328764894,0.13958783316451465,0.29074226925420915,0.7224435590969456,0.1322701688555347,0.7040258367007084,0.3756613756613756,0.43871543264942015,0.143972451934946,0.9301385681293304,0.5455394876903376,0.2145542232137868,0.1293141183812864,0.1551007847361132,0.4641904241959505,0.17834175293516416,0.3434942139429862,0.2887641189126072,0.4204059952426041,0.4502446982055464,0.303664833296793,0.9700085689802912,0.8361272981020058,0.690272282678041,0.3524752475247524,0.6500630026242223,0.7887579780477988,0.3838222481436518,0.48058550316455456,0.35408070010460796,0.3917935770717042,0.4282064231514127,0.4457692023058516,0.6585838395120454,0.7040258367007084,0.5001458171498162,0.6532097948378557,0.6816736101992596,0.4152886935304987,0.5606868974119438,0.48058550316455456]},\"name\":\"\",\"parents\":[\"LTR/Gypsy/ACCORD2\",\"LTR/Gypsy/ACCORD\",\"LTR/Gypsy/ACCORD\",\"DNA/TcMar-Tc1/BARI_DM\",\"LTR/Gypsy/BLASTOPIA\",\"LTR/Gypsy/BLASTOPIA\",\"LTR/Gypsy/BLASTOPIA\",\"LTR/Gypsy/BLASTOPIA\",\"LTR/Gypsy/BLASTOPIA\",\"LTR/Gypsy/BLOOD\",\"LTR/Gypsy/BLOOD\",\"LTR/Gypsy/BLOOD\",\"LINE/I-Jockey/BS2\",\"LINE/I-Jockey/BS\",\"LINE/I-Jockey/BS\",\"LTR/Gypsy/BURDOCK\",\"LTR/Gypsy/BURDOCK\",\"LTR/Gypsy/BURDOCK\",\"LTR/Gypsy/BURDOCK\",\"LTR/Gypsy/Chimpo\",\"LTR/Gypsy/Chimpo\",\"LTR/Gypsy/Chimpo\",\"LTR/Copia/Copia1\",\"LTR/Copia/Copia2\",\"LTR/Copia/Copia\",\"LTR/Copia/Copia\",\"LTR/Copia/Copia\",\"LTR/Copia/Copia\",\"LTR/Copia/Copia\",\"LTR/Copia/Copia\",\"LTR/Copia/Copia\",\"LTR/Copia/Copia\",\"LTR/Copia/Copia\",\"LTR/Copia/Copia\",\"LTR/Copia/Copia\",\"LTR/Copia/DM1731\",\"LTR/Gypsy/DM176\",\"LTR/Gypsy/DM176\",\"LTR/Gypsy/DM176\",\"LTR/Gypsy/DM176\",\"LTR/Gypsy/DM297\",\"LTR/Gypsy/DM297\",\"LTR/Gypsy/DM297\",\"LTR/Gypsy/DM412\",\"LTR/Gypsy/DM412\",\"LTR/Gypsy/DM412\",\"LINE/R1/DMRT1B\",\"LTR/Gypsy/DMTOM1\",\"RC/Helitron/DNAREP1_DM\",\"RC/Helitron/DNAREP1_DM\",\"RC/Helitron/DNAREP1_DM\",\"RC/Helitron/DNAREP1_DM\",\"LINE/I-Jockey/DOC3_DM\",\"LINE/I-Jockey/DOC3_DM\",\"LINE/I-Jockey/DOC5_DM\",\"LINE/I-Jockey/DOC5_DM\",\"LINE/I-Jockey/DOC6_DM\",\"LINE/I-Jockey/DOC6_DM\",\"DNA/TcMar-Tc1/FB4_DM\",\"DNA/TcMar-Tc1/FB4_DM\",\"DNA/TcMar-Tc1/FB4_DM\",\"LINE/I-Jockey/FW2_DM\",\"LINE/I-Jockey/FW2_DM\",\"LTR/Gypsy/GTWIN\",\"LTR/Gypsy/Gypsy1\",\"LTR/Gypsy/Gypsy11\",\"LTR/Gypsy/Gypsy12A\",\"LTR/Gypsy/Gypsy12A\",\"LTR/Gypsy/Gypsy12A\",\"LTR/Gypsy/Gypsy12A\",\"LTR/Gypsy/Gypsy12\",\"LTR/Gypsy/Gypsy12\",\"LTR/Gypsy/Gypsy12\",\"LTR/Gypsy/Gypsy12\",\"LTR/Gypsy/Gypsy2\",\"LTR/Gypsy/Gypsy7\",\"LTR/Gypsy/Gypsy8\",\"LTR/Gypsy/Gypsy\",\"LINE/I-Jockey/HETA\",\"LINE/I-Jockey/HETA\",\"LINE/I-Jockey/HETA\",\"LINE/I-Jockey/HETA\",\"DNA/hAT-hobo/HOBO\",\"LTR/Gypsy/IDEFIX\",\"LTR/Gypsy/IDEFIX\",\"LINE/I/IVK_DM\",\"LINE/I/IVK_DM\",\"LINE/I/I_DM\",\"LINE/I/I_DM\",\"LTR/Gypsy/Invader1\",\"LTR/Gypsy/Invader1\",\"LTR/Gypsy/Invader1\",\"LTR/Gypsy/Invader1\",\"LTR/Gypsy/Invader4\",\"LTR/Gypsy/Invader6\",\"LTR/Gypsy/Invader6\",\"LTR/Gypsy/Invader6\",\"LTR/Gypsy/Invader6\",\"DNA/CMC-Transib/M4DM\",\"DNA/CMC-Transib/M4DM\",\"LTR/Pao/MAX\",\"LTR/Pao/MAX\",\"LTR/Gypsy/MDG1\",\"LTR/Gypsy/MDG1\",\"LTR/Gypsy/MDG1\",\"LTR/Gypsy/MDG1\",\"LTR/Gypsy/MICROPIA\",\"LTR/Gypsy/MICROPIA\",\"LTR/Gypsy/MICROPIA\",\"LTR/Gypsy/MICROPIA\",\"LTR/Gypsy/MICROPIA\",\"LTR/Gypsy/MICROPIA\",\"LTR/Gypsy/MICROPIA\",\"LTR/Gypsy/MICROPIA\",\"LTR/Gypsy/MICROPIA\",\"LTR/Gypsy/MICROPIA\",\"LTR/Gypsy/MICROPIA\",\"LTR/Gypsy/MICROPIA\",\"DNA/TcMar-Tc1/Mariner2_DM\",\"LTR/Gypsy/NOMAD\",\"DNA/TcMar-Pogo/POGO\",\"DNA/TcMar-Pogo/POGO\",\"DNA/TcMar-Pogo/POGO\",\"DNA/TcMar-Pogo/POGO\",\"DNA/TcMar-Pogo/POGO\",\"DNA/TcMar-Pogo/POGO\",\"DNA/TcMar-Pogo/POGO\",\"DNA/TcMar-Pogo/POGO\",\"DNA/TcMar-Pogo/POGO\",\"DNA/TcMar-Pogo/POGO\",\"DNA/TcMar-Pogo/POGO\",\"DNA/TcMar-Pogo/POGO\",\"DNA/TcMar-Pogo/POGO\",\"DNA/TcMar-Pogo/POGO\",\"DNA/TcMar-Pogo/POGO\",\"DNA/TcMar-Pogo/POGO\",\"DNA/TcMar-Pogo/POGO\",\"DNA/P/PROTOP\",\"DNA/P/PROTOP_B\",\"LTR/Gypsy/QUASIMODO2\",\"LTR/Gypsy/QUASIMODO\",\"LTR/Gypsy/QUASIMODO\",\"LINE/R1/R1_DM\",\"LINE/R1/R1_DM\",\"LTR/Pao/ROO\",\"LTR/Pao/ROO\",\"LTR/Pao/ROO\",\"LTR/Pao/ROO\",\"LTR/Pao/ROO\",\"LTR/Pao/ROO\",\"LTR/Pao/ROO\",\"LTR/Pao/ROO\",\"LTR/Gypsy/ROVER\",\"LTR/Gypsy/ROVER\",\"LTR/Gypsy/STALKER4\",\"DNA/TcMar-Tc1/S_DM\",\"DNA/TcMar-Tc1/S_DM\",\"DNA/TcMar-Tc1/S_DM\",\"DNA/TcMar-Tc1/S_DM\",\"DNA/TcMar-Tc1/S_DM\",\"DNA/TcMar-Tc1/S_DM\",\"LTR/Gypsy/Stalker2\",\"LTR/Gypsy/Stalker2\",\"LTR/Gypsy/Stalker2\",\"LTR/Gypsy/Stalker2\",\"LTR/Gypsy/TABOR\",\"LINE/I-Jockey/TAHRE\",\"LINE/I-Jockey/TAHRE\",\"LINE/I-Jockey/TAHRE\",\"LINE/I-Jockey/TAHRE\",\"LINE/I-Jockey/TAHRE\",\"LINE/I-Jockey/TART-A\",\"LINE/I-Jockey/TART-A\",\"LINE/I-Jockey/TART_B1\",\"DNA/TcMar-Tc1/TC1-2_DM\",\"DNA/TcMar-Tc1/TC1-2_DM\",\"DNA/TcMar-Tc1/TC1_DM\",\"LTR/Gypsy/TIRANT\",\"LTR/Gypsy/TIRANT\",\"DNA/CMC-Transib/TRANSIB3\",\"DNA/CMC-Transib/TRANSIB3\",\"DNA/CMC-Transib/TRANSIB3\",\"DNA/CMC-Transib/Transib5\",\"LTR/Gypsy\",\"LTR/Gypsy\",\"DNA/TcMar-Tc1\",\"LTR/Gypsy\",\"LTR/Gypsy\",\"LINE/I-Jockey\",\"LINE/I-Jockey\",\"LTR/Gypsy\",\"LTR/Gypsy\",\"LTR/Copia\",\"LTR/Copia\",\"LTR/Copia\",\"LTR/Copia\",\"LTR/Gypsy\",\"LTR/Gypsy\",\"LTR/Gypsy\",\"LINE/R1\",\"LTR/Gypsy\",\"RC/Helitron\",\"LINE/I-Jockey\",\"LINE/I-Jockey\",\"LINE/I-Jockey\",\"DNA/TcMar-Tc1\",\"LINE/I-Jockey\",\"LTR/Gypsy\",\"LTR/Gypsy\",\"LTR/Gypsy\",\"LTR/Gypsy\",\"LTR/Gypsy\",\"LTR/Gypsy\",\"LTR/Gypsy\",\"LTR/Gypsy\",\"LTR/Gypsy\",\"LINE/I-Jockey\",\"DNA/hAT-hobo\",\"LTR/Gypsy\",\"LINE/I\",\"LINE/I\",\"LTR/Gypsy\",\"LTR/Gypsy\",\"LTR/Gypsy\",\"DNA/CMC-Transib\",\"LTR/Pao\",\"LTR/Gypsy\",\"LTR/Gypsy\",\"DNA/TcMar-Tc1\",\"LTR/Gypsy\",\"DNA/TcMar-Pogo\",\"DNA/P\",\"DNA/P\",\"LTR/Gypsy\",\"LTR/Gypsy\",\"LINE/R1\",\"LTR/Pao\",\"LTR/Gypsy\",\"LTR/Gypsy\",\"DNA/TcMar-Tc1\",\"LTR/Gypsy\",\"LTR/Gypsy\",\"LINE/I-Jockey\",\"LINE/I-Jockey\",\"LINE/I-Jockey\",\"DNA/TcMar-Tc1\",\"DNA/TcMar-Tc1\",\"LTR/Gypsy\",\"DNA/CMC-Transib\",\"DNA/CMC-Transib\",\"DNA\",\"LTR\",\"LTR\",\"RC\",\"LINE\",\"LINE\",\"DNA\",\"LTR\",\"LINE\",\"DNA\",\"DNA\",\"DNA\",\"\",\"\",\"\",\"\"],\"root\":{\"color\":\"lightgrey\"},\"type\":\"icicle\",\"values\":[1,1,1,1,1,1,2,1,1,5,4,4,1,1,1,1,1,1,1,1,1,1,1,2,1,8,16,16,4,10,33,24,15,6,2,1,1,1,1,1,1,1,1,1,5,1,1,8,1,1,1,1,1,1,1,1,1,2,1,1,1,1,1,1,1,1,1,1,4,1,2,2,14,35,1,1,2,1,4,1,1,2,1,1,1,1,1,1,1,1,1,1,1,1,1,1,1,1,1,1,1,7,1,1,1,1,1,1,1,1,2,1,1,2,1,1,1,1,1,1,2,1,1,6,3,1,37,1,4,4,1,2,68,4,4,4,75,1,5,1,1,1,1,2,1,6,1,3,1,1,1,3,1,1,1,1,1,1,1,1,1,1,1,2,1,1,1,1,1,1,1,1,1,4,2,1,1,1,1,4,3,9,1,2,1,1,6,13,2,1,4,3,135,1,2,1,4,3,7,1,8,4,2,2,3,3,2,1,1,1,1,53,7,1,1,2,8,1,2,2,2,4,1,4,2,8,4,14,1,1,218,1,5,2,1,3,17,2,1,6,5,1,5,2,4,3,1,2,16,1,19,139,163,4,4,31,6,25,4,218,15,1,259,39,327,4]}],                        {\"coloraxis\":{\"cmid\":0.6009804158277606,\"colorbar\":{\"title\":{\"text\":\"mean_subcov\"}},\"colorscale\":[[0.0,\"rgb(103,0,31)\"],[0.1,\"rgb(178,24,43)\"],[0.2,\"rgb(214,96,77)\"],[0.3,\"rgb(244,165,130)\"],[0.4,\"rgb(253,219,199)\"],[0.5,\"rgb(247,247,247)\"],[0.6,\"rgb(209,229,240)\"],[0.7,\"rgb(146,197,222)\"],[0.8,\"rgb(67,147,195)\"],[0.9,\"rgb(33,102,172)\"],[1.0,\"rgb(5,48,97)\"]]},\"legend\":{\"tracegroupgap\":0},\"margin\":{\"b\":25,\"l\":25,\"r\":25,\"t\":50},\"template\":{\"data\":{\"bar\":[{\"error_x\":{\"color\":\"#2a3f5f\"},\"error_y\":{\"color\":\"#2a3f5f\"},\"marker\":{\"line\":{\"color\":\"#E5ECF6\",\"width\":0.5},\"pattern\":{\"fillmode\":\"overlay\",\"size\":10,\"solidity\":0.2}},\"type\":\"bar\"}],\"barpolar\":[{\"marker\":{\"line\":{\"color\":\"#E5ECF6\",\"width\":0.5},\"pattern\":{\"fillmode\":\"overlay\",\"size\":10,\"solidity\":0.2}},\"type\":\"barpolar\"}],\"carpet\":[{\"aaxis\":{\"endlinecolor\":\"#2a3f5f\",\"gridcolor\":\"white\",\"linecolor\":\"white\",\"minorgridcolor\":\"white\",\"startlinecolor\":\"#2a3f5f\"},\"baxis\":{\"endlinecolor\":\"#2a3f5f\",\"gridcolor\":\"white\",\"linecolor\":\"white\",\"minorgridcolor\":\"white\",\"startlinecolor\":\"#2a3f5f\"},\"type\":\"carpet\"}],\"choropleth\":[{\"colorbar\":{\"outlinewidth\":0,\"ticks\":\"\"},\"type\":\"choropleth\"}],\"contour\":[{\"colorbar\":{\"outlinewidth\":0,\"ticks\":\"\"},\"colorscale\":[[0.0,\"#0d0887\"],[0.1111111111111111,\"#46039f\"],[0.2222222222222222,\"#7201a8\"],[0.3333333333333333,\"#9c179e\"],[0.4444444444444444,\"#bd3786\"],[0.5555555555555556,\"#d8576b\"],[0.6666666666666666,\"#ed7953\"],[0.7777777777777778,\"#fb9f3a\"],[0.8888888888888888,\"#fdca26\"],[1.0,\"#f0f921\"]],\"type\":\"contour\"}],\"contourcarpet\":[{\"colorbar\":{\"outlinewidth\":0,\"ticks\":\"\"},\"type\":\"contourcarpet\"}],\"heatmap\":[{\"colorbar\":{\"outlinewidth\":0,\"ticks\":\"\"},\"colorscale\":[[0.0,\"#0d0887\"],[0.1111111111111111,\"#46039f\"],[0.2222222222222222,\"#7201a8\"],[0.3333333333333333,\"#9c179e\"],[0.4444444444444444,\"#bd3786\"],[0.5555555555555556,\"#d8576b\"],[0.6666666666666666,\"#ed7953\"],[0.7777777777777778,\"#fb9f3a\"],[0.8888888888888888,\"#fdca26\"],[1.0,\"#f0f921\"]],\"type\":\"heatmap\"}],\"heatmapgl\":[{\"colorbar\":{\"outlinewidth\":0,\"ticks\":\"\"},\"colorscale\":[[0.0,\"#0d0887\"],[0.1111111111111111,\"#46039f\"],[0.2222222222222222,\"#7201a8\"],[0.3333333333333333,\"#9c179e\"],[0.4444444444444444,\"#bd3786\"],[0.5555555555555556,\"#d8576b\"],[0.6666666666666666,\"#ed7953\"],[0.7777777777777778,\"#fb9f3a\"],[0.8888888888888888,\"#fdca26\"],[1.0,\"#f0f921\"]],\"type\":\"heatmapgl\"}],\"histogram\":[{\"marker\":{\"pattern\":{\"fillmode\":\"overlay\",\"size\":10,\"solidity\":0.2}},\"type\":\"histogram\"}],\"histogram2d\":[{\"colorbar\":{\"outlinewidth\":0,\"ticks\":\"\"},\"colorscale\":[[0.0,\"#0d0887\"],[0.1111111111111111,\"#46039f\"],[0.2222222222222222,\"#7201a8\"],[0.3333333333333333,\"#9c179e\"],[0.4444444444444444,\"#bd3786\"],[0.5555555555555556,\"#d8576b\"],[0.6666666666666666,\"#ed7953\"],[0.7777777777777778,\"#fb9f3a\"],[0.8888888888888888,\"#fdca26\"],[1.0,\"#f0f921\"]],\"type\":\"histogram2d\"}],\"histogram2dcontour\":[{\"colorbar\":{\"outlinewidth\":0,\"ticks\":\"\"},\"colorscale\":[[0.0,\"#0d0887\"],[0.1111111111111111,\"#46039f\"],[0.2222222222222222,\"#7201a8\"],[0.3333333333333333,\"#9c179e\"],[0.4444444444444444,\"#bd3786\"],[0.5555555555555556,\"#d8576b\"],[0.6666666666666666,\"#ed7953\"],[0.7777777777777778,\"#fb9f3a\"],[0.8888888888888888,\"#fdca26\"],[1.0,\"#f0f921\"]],\"type\":\"histogram2dcontour\"}],\"mesh3d\":[{\"colorbar\":{\"outlinewidth\":0,\"ticks\":\"\"},\"type\":\"mesh3d\"}],\"parcoords\":[{\"line\":{\"colorbar\":{\"outlinewidth\":0,\"ticks\":\"\"}},\"type\":\"parcoords\"}],\"pie\":[{\"automargin\":true,\"type\":\"pie\"}],\"scatter\":[{\"marker\":{\"colorbar\":{\"outlinewidth\":0,\"ticks\":\"\"}},\"type\":\"scatter\"}],\"scatter3d\":[{\"line\":{\"colorbar\":{\"outlinewidth\":0,\"ticks\":\"\"}},\"marker\":{\"colorbar\":{\"outlinewidth\":0,\"ticks\":\"\"}},\"type\":\"scatter3d\"}],\"scattercarpet\":[{\"marker\":{\"colorbar\":{\"outlinewidth\":0,\"ticks\":\"\"}},\"type\":\"scattercarpet\"}],\"scattergeo\":[{\"marker\":{\"colorbar\":{\"outlinewidth\":0,\"ticks\":\"\"}},\"type\":\"scattergeo\"}],\"scattergl\":[{\"marker\":{\"colorbar\":{\"outlinewidth\":0,\"ticks\":\"\"}},\"type\":\"scattergl\"}],\"scattermapbox\":[{\"marker\":{\"colorbar\":{\"outlinewidth\":0,\"ticks\":\"\"}},\"type\":\"scattermapbox\"}],\"scatterpolar\":[{\"marker\":{\"colorbar\":{\"outlinewidth\":0,\"ticks\":\"\"}},\"type\":\"scatterpolar\"}],\"scatterpolargl\":[{\"marker\":{\"colorbar\":{\"outlinewidth\":0,\"ticks\":\"\"}},\"type\":\"scatterpolargl\"}],\"scatterternary\":[{\"marker\":{\"colorbar\":{\"outlinewidth\":0,\"ticks\":\"\"}},\"type\":\"scatterternary\"}],\"surface\":[{\"colorbar\":{\"outlinewidth\":0,\"ticks\":\"\"},\"colorscale\":[[0.0,\"#0d0887\"],[0.1111111111111111,\"#46039f\"],[0.2222222222222222,\"#7201a8\"],[0.3333333333333333,\"#9c179e\"],[0.4444444444444444,\"#bd3786\"],[0.5555555555555556,\"#d8576b\"],[0.6666666666666666,\"#ed7953\"],[0.7777777777777778,\"#fb9f3a\"],[0.8888888888888888,\"#fdca26\"],[1.0,\"#f0f921\"]],\"type\":\"surface\"}],\"table\":[{\"cells\":{\"fill\":{\"color\":\"#EBF0F8\"},\"line\":{\"color\":\"white\"}},\"header\":{\"fill\":{\"color\":\"#C8D4E3\"},\"line\":{\"color\":\"white\"}},\"type\":\"table\"}]},\"layout\":{\"annotationdefaults\":{\"arrowcolor\":\"#2a3f5f\",\"arrowhead\":0,\"arrowwidth\":1},\"autotypenumbers\":\"strict\",\"coloraxis\":{\"colorbar\":{\"outlinewidth\":0,\"ticks\":\"\"}},\"colorscale\":{\"diverging\":[[0,\"#8e0152\"],[0.1,\"#c51b7d\"],[0.2,\"#de77ae\"],[0.3,\"#f1b6da\"],[0.4,\"#fde0ef\"],[0.5,\"#f7f7f7\"],[0.6,\"#e6f5d0\"],[0.7,\"#b8e186\"],[0.8,\"#7fbc41\"],[0.9,\"#4d9221\"],[1,\"#276419\"]],\"sequential\":[[0.0,\"#0d0887\"],[0.1111111111111111,\"#46039f\"],[0.2222222222222222,\"#7201a8\"],[0.3333333333333333,\"#9c179e\"],[0.4444444444444444,\"#bd3786\"],[0.5555555555555556,\"#d8576b\"],[0.6666666666666666,\"#ed7953\"],[0.7777777777777778,\"#fb9f3a\"],[0.8888888888888888,\"#fdca26\"],[1.0,\"#f0f921\"]],\"sequentialminus\":[[0.0,\"#0d0887\"],[0.1111111111111111,\"#46039f\"],[0.2222222222222222,\"#7201a8\"],[0.3333333333333333,\"#9c179e\"],[0.4444444444444444,\"#bd3786\"],[0.5555555555555556,\"#d8576b\"],[0.6666666666666666,\"#ed7953\"],[0.7777777777777778,\"#fb9f3a\"],[0.8888888888888888,\"#fdca26\"],[1.0,\"#f0f921\"]]},\"colorway\":[\"#636efa\",\"#EF553B\",\"#00cc96\",\"#ab63fa\",\"#FFA15A\",\"#19d3f3\",\"#FF6692\",\"#B6E880\",\"#FF97FF\",\"#FECB52\"],\"font\":{\"color\":\"#2a3f5f\"},\"geo\":{\"bgcolor\":\"white\",\"lakecolor\":\"white\",\"landcolor\":\"#E5ECF6\",\"showlakes\":true,\"showland\":true,\"subunitcolor\":\"white\"},\"hoverlabel\":{\"align\":\"left\"},\"hovermode\":\"closest\",\"mapbox\":{\"style\":\"light\"},\"paper_bgcolor\":\"white\",\"plot_bgcolor\":\"#E5ECF6\",\"polar\":{\"angularaxis\":{\"gridcolor\":\"white\",\"linecolor\":\"white\",\"ticks\":\"\"},\"bgcolor\":\"#E5ECF6\",\"radialaxis\":{\"gridcolor\":\"white\",\"linecolor\":\"white\",\"ticks\":\"\"}},\"scene\":{\"xaxis\":{\"backgroundcolor\":\"#E5ECF6\",\"gridcolor\":\"white\",\"gridwidth\":2,\"linecolor\":\"white\",\"showbackground\":true,\"ticks\":\"\",\"zerolinecolor\":\"white\"},\"yaxis\":{\"backgroundcolor\":\"#E5ECF6\",\"gridcolor\":\"white\",\"gridwidth\":2,\"linecolor\":\"white\",\"showbackground\":true,\"ticks\":\"\",\"zerolinecolor\":\"white\"},\"zaxis\":{\"backgroundcolor\":\"#E5ECF6\",\"gridcolor\":\"white\",\"gridwidth\":2,\"linecolor\":\"white\",\"showbackground\":true,\"ticks\":\"\",\"zerolinecolor\":\"white\"}},\"shapedefaults\":{\"line\":{\"color\":\"#2a3f5f\"}},\"ternary\":{\"aaxis\":{\"gridcolor\":\"white\",\"linecolor\":\"white\",\"ticks\":\"\"},\"baxis\":{\"gridcolor\":\"white\",\"linecolor\":\"white\",\"ticks\":\"\"},\"bgcolor\":\"#E5ECF6\",\"caxis\":{\"gridcolor\":\"white\",\"linecolor\":\"white\",\"ticks\":\"\"}},\"title\":{\"x\":0.05},\"xaxis\":{\"automargin\":true,\"gridcolor\":\"white\",\"linecolor\":\"white\",\"ticks\":\"\",\"title\":{\"standoff\":15},\"zerolinecolor\":\"white\",\"zerolinewidth\":2},\"yaxis\":{\"automargin\":true,\"gridcolor\":\"white\",\"linecolor\":\"white\",\"ticks\":\"\",\"title\":{\"standoff\":15},\"zerolinecolor\":\"white\",\"zerolinewidth\":2}}}},                        {\"responsive\": true}                    ).then(function(){\n",
       "                            \n",
       "var gd = document.getElementById('c46b0258-8799-41d2-9c3d-8bf98990f906');\n",
       "var x = new MutationObserver(function (mutations, observer) {{\n",
       "        var display = window.getComputedStyle(gd).display;\n",
       "        if (!display || display === 'none') {{\n",
       "            console.log([gd, 'removed!']);\n",
       "            Plotly.purge(gd);\n",
       "            observer.disconnect();\n",
       "        }}\n",
       "}});\n",
       "\n",
       "// Listen for the removal of the full notebook cells\n",
       "var notebookContainer = gd.closest('#notebook-container');\n",
       "if (notebookContainer) {{\n",
       "    x.observe(notebookContainer, {childList: true});\n",
       "}}\n",
       "\n",
       "// Listen for the clearing of the current output cell\n",
       "var outputEl = gd.closest('.output');\n",
       "if (outputEl) {{\n",
       "    x.observe(outputEl, {childList: true});\n",
       "}}\n",
       "\n",
       "                        })                };                });            </script>        </div>"
      ]
     },
     "metadata": {}
    }
   ],
   "metadata": {}
  },
  {
   "cell_type": "code",
   "execution_count": 4,
   "source": [
    "draw_sunburst(filtered_FC30_counting_df)"
   ],
   "outputs": [
    {
     "output_type": "display_data",
     "data": {
      "text/html": [
       "        <script type=\"text/javascript\">\n",
       "        window.PlotlyConfig = {MathJaxConfig: 'local'};\n",
       "        if (window.MathJax) {MathJax.Hub.Config({SVG: {font: \"STIX-Web\"}});}\n",
       "        if (typeof require !== 'undefined') {\n",
       "        require.undef(\"plotly\");\n",
       "        requirejs.config({\n",
       "            paths: {\n",
       "                'plotly': ['https://cdn.plot.ly/plotly-2.2.0.min']\n",
       "            }\n",
       "        });\n",
       "        require(['plotly'], function(Plotly) {\n",
       "            window._Plotly = Plotly;\n",
       "        });\n",
       "        }\n",
       "        </script>\n",
       "        "
      ]
     },
     "metadata": {}
    },
    {
     "output_type": "display_data",
     "data": {
      "text/html": [
       "<div>                            <div id=\"489f185e-15c7-4d0e-9704-5d361f38be6e\" class=\"plotly-graph-div\" style=\"height:525px; width:100%;\"></div>            <script type=\"text/javascript\">                require([\"plotly\"], function(Plotly) {                    window.PLOTLYENV=window.PLOTLYENV || {};                                    if (document.getElementById(\"489f185e-15c7-4d0e-9704-5d361f38be6e\")) {                    Plotly.newPlot(                        \"489f185e-15c7-4d0e-9704-5d361f38be6e\",                        [{\"branchvalues\":\"total\",\"customdata\":[[1.0,0.111296512598031],[1.0,0.2282516891891892],[1.0,0.2074856046065259],[1.0,0.7593023255813953],[1.0,0.2461108895093737],[1.0,0.2650986645405621],[2.0,0.177708417237213],[1.0,0.1707122960604854],[1.0,0.2163319064866644],[5.0,0.1812098501070664],[4.0,0.2126274825550188],[4.0,0.2634750427026001],[1.0,0.3680473372781065],[1.0,0.4700665188470067],[1.0,0.4700665188470067],[1.0,0.409249902837155],[1.0,0.4095682613768961],[1.0,0.4090909090909091],[1.0,0.3174831892411143],[1.0,0.3390320250421382],[1.0,0.2526199669056811],[1.0,0.1999562458980529],[1.0,0.1105140186915887],[2.0,0.9970444615780004],[1.0,0.9444893015744852],[8.0,0.8043351477449455],[16.0,0.7608489187609585],[16.0,0.8945152314001172],[4.0,0.7422148695990657],[10.0,0.6767482517482517],[33.0,0.8226680377900858],[24.0,0.8367555469054108],[15.0,0.8639450492483152],[6.0,0.4866265138268246],[2.0,0.1863813229571984],[1.0,0.4495412844036697],[1.0,0.15125],[1.0,0.1240506329113924],[1.0,0.1371032275273406],[1.0,0.2314920273348519],[1.0,0.706506162224133],[1.0,0.749183895538629],[1.0,0.2560275545350172],[1.0,0.868421052631579],[5.0,0.631132075471698],[1.0,0.8621291448516579],[1.0,0.997716894977169],[8.0,0.6124031007751939],[1.0,0.4256410256410256],[1.0,0.3658070678127985],[1.0,0.6145146088595664],[1.0,0.5163793103448275],[1.0,0.9004629629629629],[1.0,0.2521432173474534],[1.0,0.5627980922098569],[1.0,0.3806739069896964],[1.0,0.3021377672209026],[2.0,0.434937188907324],[1.0,0.3346872461413485],[1.0,0.3442838370565046],[1.0,0.6753246753246753],[1.0,0.2392996108949416],[1.0,0.1982044198895027],[1.0,0.8064743138634765],[1.0,0.2148612354521038],[1.0,0.1452325279293323],[1.0,0.2690839694656488],[1.0,0.4895191122071516],[4.0,0.6050943396226415],[1.0,0.5927568366592757],[2.0,0.8399135729719112],[2.0,0.2674753289473684],[14.0,0.2099413225005642],[35.0,0.5690057745418027],[1.0,0.3470903838217086],[1.0,0.2380741069447526],[2.0,0.3022959183673469],[1.0,0.2213068713724021],[4.0,0.4219024604569419],[1.0,0.6735870818915801],[1.0,0.4330185379503323],[2.0,0.1259996596903181],[1.0,0.6532097948378557],[1.0,0.1838311019567456],[1.0,0.1857069232090706],[1.0,0.2482771465822313],[1.0,0.313543599257885],[1.0,0.1057458356728429],[1.0,0.7487562189054726],[1.0,0.3111510791366906],[1.0,0.1108625403927417],[1.0,0.1941598360655737],[1.0,0.1550944946589975],[1.0,0.7217340363210311],[1.0,0.1660516605166051],[1.0,0.1885913853317811],[1.0,0.1532639545884579],[1.0,0.3845559845559845],[1.0,0.5252808988764045],[1.0,0.4290843806104129],[1.0,0.8016260162601626],[7.0,0.9564546066788218],[1.0,0.1103129386508133],[1.0,0.1278741427995159],[1.0,0.1486666666666666],[1.0,0.1714975845410628],[1.0,0.268909688843916],[1.0,0.3461441213653603],[1.0,0.3478370857576524],[1.0,0.3286908077994429],[2.0,0.2708333333333333],[1.0,0.2905685035939882],[1.0,0.2859939103958243],[2.0,0.2362160960426856],[1.0,0.3596004439511653],[1.0,0.2908648529086485],[1.0,0.2689777327935223],[1.0,0.268705763397371],[1.0,0.7224435590969456],[1.0,0.1322701688555347],[2.0,0.5036549707602339],[1.0,0.2938992042440318],[1.0,0.2810867293625914],[6.0,0.9606644726531893],[3.0,0.4891398783666377],[1.0,0.1276696725201708],[37.0,0.8365465061292786],[1.0,0.735934664246824],[4.0,0.4251740139211137],[4.0,0.5205146036161336],[1.0,0.2072419106317411],[2.0,0.4307574598316755],[68.0,0.6611870607490132],[4.0,0.9472078836227124],[4.0,0.5778463648834019],[4.0,0.3289141414141414],[75.0,0.7416],[1.0,0.3756613756613756],[5.0,0.43871543264942015],[1.0,0.9301385681293304],[1.0,0.1326334466952536],[1.0,0.1553114571746384],[1.0,0.1773577317514578],[2.0,0.7296303656597773],[1.0,0.2615542622389593],[6.0,0.1126707449928769],[1.0,0.10748367654445],[3.0,0.20533490627867343],[1.0,0.5136417556346382],[1.0,0.260191579416351],[1.0,0.7618367832500594],[3.0,0.1502281829188786],[1.0,0.1088190764572293],[1.0,0.1498091603053435],[1.0,0.1551007847361132],[1.0,0.5667134831460674],[1.0,0.3815865662999421],[1.0,0.2430715935334872],[1.0,0.3821356615177971],[1.0,0.7429577464788732],[1.0,0.4686774941995359],[1.0,0.1709157658576381],[1.0,0.1314303638644918],[2.0,0.1162775616083009],[1.0,0.3568075117370892],[1.0,0.3434942139429862],[1.0,0.1116924719701014],[1.0,0.4258872651356993],[1.0,0.1516337644656228],[1.0,0.1207535515750463],[1.0,0.6338535414165666],[1.0,0.7318768619662364],[1.0,0.1089351285189718],[4.0,0.4502446982055464],[2.0,0.1866391184573002],[1.0,0.5377162629757786],[1.0,0.9700085689802912],[1.0,0.9165507649513212],[1.0,0.7557038312526905],[4.0,0.7377250409165304],[3.0,0.7371149740774626],[9.0,0.6535679374389053],[1.0,0.3524752475247524],[2.0,0.21786864689785757],[1.0,0.111296512598031],[1.0,0.7593023255813953],[6.0,0.2089450985119186],[13.0,0.21618918088967748],[2.0,0.4700665188470067],[1.0,0.3680473372781065],[4.0,0.38634806563651863],[3.0,0.26386941261529073],[135.0,0.7932089979436502],[1.0,0.1105140186915887],[2.0,0.9970444615780004],[1.0,0.4495412844036697],[4.0,0.16097397194339624],[3.0,0.5705725374325931],[7.0,0.6980300821202468],[1.0,0.997716894977169],[8.0,0.6124031007751939],[4.0,0.48058550316455456],[2.0,0.5763030901552082],[2.0,0.47173599959977663],[3.0,0.39067071501185024],[3.0,0.45143191950750944],[2.0,0.21875201539222214],[1.0,0.8064743138634765],[1.0,0.2213068713724021],[1.0,0.2148612354521038],[1.0,0.1452325279293323],[53.0,0.4730029892039538],[7.0,0.5388196109746631],[1.0,0.3470903838217086],[1.0,0.2380741069447526],[2.0,0.3022959183673469],[8.0,0.38077684763128955],[1.0,0.6532097948378557],[2.0,0.1847690125829081],[2.0,0.28091037292005816],[2.0,0.42725102728915776],[4.0,0.19281698756350088],[1.0,0.7217340363210311],[4.0,0.22311574624820715],[2.0,0.4771826397434087],[8.0,0.9371010328764894],[4.0,0.13958783316451465],[14.0,0.29074226925420915],[1.0,0.7224435590969456],[1.0,0.1322701688555347],[218.0,0.7040258367007084],[1.0,0.3756613756613756],[5.0,0.43871543264942015],[2.0,0.143972451934946],[1.0,0.9301385681293304],[3.0,0.5455394876903376],[17.0,0.2145542232137868],[2.0,0.1293141183812864],[1.0,0.1551007847361132],[6.0,0.4641904241959505],[5.0,0.17834175293516416],[1.0,0.3434942139429862],[5.0,0.2887641189126072],[2.0,0.4204059952426041],[4.0,0.4502446982055464],[3.0,0.303664833296793],[1.0,0.9700085689802912],[2.0,0.8361272981020058],[16.0,0.690272282678041],[1.0,0.3524752475247524],[19.0,0.6500630026242223],[139.0,0.7887579780477988],[163.0,0.3838222481436518],[4.0,0.48058550316455456],[4.0,0.35408070010460796],[31.0,0.3917935770717042],[6.0,0.4282064231514127],[25.0,0.4457692023058516],[4.0,0.6585838395120454],[218.0,0.7040258367007084],[15.0,0.5001458171498162],[1.0,0.6532097948378557],[259.0,0.6816736101992596],[39.0,0.4152886935304987],[327.0,0.5606868974119438],[4.0,0.48058550316455456]],\"domain\":{\"x\":[0.0,1.0],\"y\":[0.0,1.0]},\"hovertemplate\":\"labels=%{label}<br>Counting=%{customdata[0]}<br>parent=%{parent}<br>id=%{id}<br>mean_subcov=%{color}<extra></extra>\",\"ids\":[\"LTR/Gypsy/ACCORD2/ACCORD2_LTR_3L_RaGOO_24099817_24111803\",\"LTR/Gypsy/ACCORD/ACCORD_I_2R_RaGOO_818637_823373\",\"LTR/Gypsy/ACCORD/ACCORD_LTR_2R_RaGOO_813426_818636\",\"DNA/TcMar-Tc1/BARI_DM/BARI_DM_2R_RaGOO_42130_43850\",\"LTR/Gypsy/BLASTOPIA/BLASTOPIA_LTR_2R_RaGOO_2878638_2883652\",\"LTR/Gypsy/BLASTOPIA/BLASTOPIA_LTR_3L_RaGOO_23419160_23424177\",\"LTR/Gypsy/BLASTOPIA/BLASTOPIA_LTR_3L_RaGOO_23460661_23465627\",\"LTR/Gypsy/BLASTOPIA/BLASTOPIA_LTR_3R_RaGOO_8215021_8220047\",\"LTR/Gypsy/BLASTOPIA/BLASTOPIA_LTR_X_RaGOO_8707375_8710412\",\"LTR/Gypsy/BLOOD/BLOOD_LTR_2L_RaGOO_2148055_2155527\",\"LTR/Gypsy/BLOOD/BLOOD_LTR_2L_RaGOO_3268611_3276063\",\"LTR/Gypsy/BLOOD/BLOOD_LTR_2R_RaGOO_416001_421270\",\"LINE/I-Jockey/BS2/BS2_2R_RaGOO_2406301_2407991\",\"LINE/I-Jockey/BS/BS_3L_RaGOO_25664497_25665850\",\"LINE/I-Jockey/BS/BS_3L_RaGOO_25670374_25671727\",\"LTR/Gypsy/BURDOCK/BURDOCK_LTR_2L_RaGOO_4499214_4501787\",\"LTR/Gypsy/BURDOCK/BURDOCK_LTR_2R_RaGOO_5173682_5176253\",\"LTR/Gypsy/BURDOCK/BURDOCK_LTR_3L_RaGOO_10638503_10641077\",\"LTR/Gypsy/BURDOCK/BURDOCK_LTR_3R_RaGOO_24036640_24040804\",\"LTR/Gypsy/Chimpo/Chimpo_I_4_RaGOO_776018_780171\",\"LTR/Gypsy/Chimpo/Chimpo_LTR_3L_RaGOO_16584918_16588544\",\"LTR/Gypsy/Chimpo/Chimpo_LTR_3L_RaGOO_24516813_24521384\",\"LTR/Copia/Copia1/Copia1-I_DM_2R_RaGOO_2841061_2845341\",\"LTR/Copia/Copia2/Copia2_I_2L_RaGOO_22718178_22722069\",\"LTR/Copia/Copia/Copia_LTR_2L_RaGOO_12650_17604\",\"LTR/Copia/Copia/Copia_LTR_2L_RaGOO_13770083_13775227\",\"LTR/Copia/Copia/Copia_LTR_2L_RaGOO_14753817_14758950\",\"LTR/Copia/Copia/Copia_LTR_2L_RaGOO_21771835_21776956\",\"LTR/Copia/Copia/Copia_LTR_2L_RaGOO_9004503_9009641\",\"LTR/Copia/Copia/Copia_LTR_2R_RaGOO_20482857_20488005\",\"LTR/Copia/Copia/Copia_LTR_3L_RaGOO_10022428_10027467\",\"LTR/Copia/Copia/Copia_LTR_3L_RaGOO_10052506_10057644\",\"LTR/Copia/Copia/Copia_LTR_3L_RaGOO_17623155_17628299\",\"LTR/Copia/Copia/Copia_LTR_3R_RaGOO_1372041_1377188\",\"LTR/Copia/Copia/Copia_LTR_3R_RaGOO_2965355_2970495\",\"LTR/Copia/DM1731/DM1731_LTR_2R_RaGOO_2383388_2383715\",\"LTR/Gypsy/DM176/DM176_I_2L_RaGOO_22492424_22494024\",\"LTR/Gypsy/DM176/DM176_LTR_2R_RaGOO_1374047_1381552\",\"LTR/Gypsy/DM176/DM176_LTR_3L_RaGOO_15231455_15238953\",\"LTR/Gypsy/DM176/DM176_LTR_3R_RaGOO_1830992_1834504\",\"LTR/Gypsy/DM297/DM297_I_2R_RaGOO_2216579_2220068\",\"LTR/Gypsy/DM297/DM297_I_3L_RaGOO_23746062_23747900\",\"LTR/Gypsy/DM297/DM297_LTR_3R_RaGOO_1483241_1488467\",\"LTR/Gypsy/DM412/DM412_3L_RaGOO_5894148_5894718\",\"LTR/Gypsy/DM412/DM412_3R_RaGOO_3388391_3389451\",\"LTR/Gypsy/DM412/DM412_X_RaGOO_11799214_11799787\",\"LINE/R1/DMRT1B/DMRT1B_X_RaGOO_18329002_18330754\",\"LTR/Gypsy/DMTOM1/DMTOM1_LTR_X_RaGOO_11258002_11258389\",\"RC/Helitron/DNAREP1_DM/DNAREP1_DM_2L_RaGOO_21664116_21664701\",\"RC/Helitron/DNAREP1_DM/DNAREP1_DM_3L_RaGOO_24320820_24321867\",\"RC/Helitron/DNAREP1_DM/DNAREP1_DM_3L_RaGOO_25780405_25781466\",\"RC/Helitron/DNAREP1_DM/DNAREP1_DM_3R_RaGOO_3686735_3687895\",\"LINE/I-Jockey/DOC3_DM/DOC3_DM_2R_RaGOO_860527_861391\",\"LINE/I-Jockey/DOC3_DM/DOC3_DM_X_RaGOO_21994216_21996199\",\"LINE/I-Jockey/DOC5_DM/DOC5_DM_2R_RaGOO_625358_625987\",\"LINE/I-Jockey/DOC5_DM/DOC5_DM_3L_RaGOO_24441325_24444916\",\"LINE/I-Jockey/DOC6_DM/DOC6_DM_2L_RaGOO_8926966_8931176\",\"LINE/I-Jockey/DOC6_DM/DOC6_DM_X_RaGOO_7744303_7748522\",\"DNA/TcMar-Tc1/FB4_DM/FB4_DM_2L_RaGOO_21192802_21194033\",\"DNA/TcMar-Tc1/FB4_DM/FB4_DM_2R_RaGOO_855726_857248\",\"DNA/TcMar-Tc1/FB4_DM/FB4_DM_4_RaGOO_769101_769563\",\"LINE/I-Jockey/FW2_DM/FW2_DM_3L_RaGOO_25562036_25565634\",\"LINE/I-Jockey/FW2_DM/FW2_DM_3R_RaGOO_1276264_1280608\",\"LTR/Gypsy/GTWIN/GTWIN_I_3L_RaGOO_25605414_25606835\",\"LTR/Gypsy/Gypsy1/Gypsy1-I_DM_3L_RaGOO_23197800_23202268\",\"LTR/Gypsy/Gypsy11/Gypsy11_LTR_2R_RaGOO_1478181_1482030\",\"LTR/Gypsy/Gypsy12A/Gypsy12A_LTR_2L_RaGOO_21242356_21244976\",\"LTR/Gypsy/Gypsy12A/Gypsy12A_LTR_3R_RaGOO_1801038_1802660\",\"LTR/Gypsy/Gypsy12A/Gypsy12A_LTR_3R_RaGOO_1864004_1865329\",\"LTR/Gypsy/Gypsy12A/Gypsy12A_LTR_3R_RaGOO_3432347_3433700\",\"LTR/Gypsy/Gypsy12/Gypsy12_LTR_2R_RaGOO_1299099_1309281\",\"LTR/Gypsy/Gypsy12/Gypsy12_LTR_3R_RaGOO_2266515_2268947\",\"LTR/Gypsy/Gypsy12/Gypsy12_LTR_3R_RaGOO_842982_854376\",\"LTR/Gypsy/Gypsy12/Gypsy12_LTR_3R_RaGOO_960900_963176\",\"LTR/Gypsy/Gypsy2/Gypsy2-I_DM_2R_RaGOO_1185019_1189865\",\"LTR/Gypsy/Gypsy7/Gypsy7_I_3L_RaGOO_25724750_25729257\",\"LTR/Gypsy/Gypsy8/Gypsy8_LTR_3R_RaGOO_3489645_3494741\",\"LTR/Gypsy/Gypsy/Gypsy_I_3R_RaGOO_3134007_3139348\",\"LINE/I-Jockey/HETA/HETA_3L_RaGOO_18403_20679\",\"LINE/I-Jockey/HETA/HETA_3L_RaGOO_24251825_24252692\",\"LINE/I-Jockey/HETA/HETA_X_RaGOO_3925_6784\",\"LINE/I-Jockey/HETA/HETA_X_RaGOO_87709_93586\",\"DNA/hAT-hobo/HOBO/HOBO_2L_RaGOO_8465431_8466942\",\"LTR/Gypsy/IDEFIX/IDEFIX_I_3L_RaGOO_23168345_23170287\",\"LTR/Gypsy/IDEFIX/IDEFIX_LTR_3R_RaGOO_1194385_1200206\",\"LINE/I/IVK_DM/IVK_DM_3L_RaGOO_19656431_19661800\",\"LINE/I/IVK_DM/IVK_DM_3L_RaGOO_26401974_26403591\",\"LINE/I/I_DM/I_DM_2L_RaGOO_8443816_8449159\",\"LINE/I/I_DM/I_DM_3L_RaGOO_24636314_24637118\",\"LTR/Gypsy/Invader1/Invader1_I_3L_RaGOO_26375243_26376911\",\"LTR/Gypsy/Invader1/Invader1_LTR_2R_RaGOO_4667269_4671292\",\"LTR/Gypsy/Invader1/Invader1_LTR_3L_RaGOO_22836953_22840857\",\"LTR/Gypsy/Invader1/Invader1_LTR_3R_RaGOO_1539422_1544290\",\"LTR/Gypsy/Invader4/Invader4_LTR_2L_RaGOO_21089350_21091057\",\"LTR/Gypsy/Invader6/Invader6_I_3L_RaGOO_25623224_25628102\",\"LTR/Gypsy/Invader6/Invader6_I_3L_RaGOO_25628103_25632398\",\"LTR/Gypsy/Invader6/Invader6_LTR_3L_RaGOO_25617938_25623223\",\"LTR/Gypsy/Invader6/Invader6_LTR_3R_RaGOO_2712551_2717731\",\"DNA/CMC-Transib/M4DM/M4DM_2L_RaGOO_19850340_19851052\",\"DNA/CMC-Transib/M4DM/M4DM_3L_RaGOO_25693372_25696157\",\"LTR/Pao/MAX/MAX_LTR_2R_RaGOO_137030_138260\",\"LTR/Pao/MAX/MAX_LTR_3L_RaGOO_3640512_3649209\",\"LTR/Gypsy/MDG1/MDG1_I_2R_RaGOO_916381_928492\",\"LTR/Gypsy/MDG1/MDG1_I_3R_RaGOO_3302870_3305349\",\"LTR/Gypsy/MDG1/MDG1_LTR_2R_RaGOO_567704_573704\",\"LTR/Gypsy/MDG1/MDG1_LTR_X_RaGOO_18264248_18271286\",\"LTR/Gypsy/MICROPIA/MICROPIA_I_2L_RaGOO_13442293_13446246\",\"LTR/Gypsy/MICROPIA/MICROPIA_I_2L_RaGOO_3970137_3974092\",\"LTR/Gypsy/MICROPIA/MICROPIA_I_2R_RaGOO_21655615_21659568\",\"LTR/Gypsy/MICROPIA/MICROPIA_I_3L_RaGOO_11129215_11133164\",\"LTR/Gypsy/MICROPIA/MICROPIA_I_3L_RaGOO_25834006_25836118\",\"LTR/Gypsy/MICROPIA/MICROPIA_I_3L_RaGOO_4604350_4608941\",\"LTR/Gypsy/MICROPIA/MICROPIA_I_3R_RaGOO_23396903_23401501\",\"LTR/Gypsy/MICROPIA/MICROPIA_I_3R_RaGOO_31083506_31088004\",\"LTR/Gypsy/MICROPIA/MICROPIA_I_4_RaGOO_617814_622319\",\"LTR/Gypsy/MICROPIA/MICROPIA_I_X_RaGOO_17340828_17345349\",\"LTR/Gypsy/MICROPIA/MICROPIA_I_X_RaGOO_2765010_2768962\",\"LTR/Gypsy/MICROPIA/MICROPIA_I_X_RaGOO_603817_607773\",\"DNA/TcMar-Tc1/Mariner2_DM/Mariner2_DM_4_RaGOO_638924_639677\",\"LTR/Gypsy/NOMAD/NOMAD_LTR_3L_RaGOO_10268410_10275872\",\"DNA/TcMar-Pogo/POGO/POGO_2L_RaGOO_14260359_14261043\",\"DNA/TcMar-Pogo/POGO/POGO_2L_RaGOO_19914701_19916586\",\"DNA/TcMar-Pogo/POGO/POGO_2L_RaGOO_21617872_21618829\",\"DNA/TcMar-Pogo/POGO/POGO_2L_RaGOO_2955877_2958004\",\"DNA/TcMar-Pogo/POGO/POGO_2R_RaGOO_16569084_16570235\",\"DNA/TcMar-Pogo/POGO/POGO_2R_RaGOO_3208365_3210472\",\"DNA/TcMar-Pogo/POGO/POGO_2R_RaGOO_7201268_7202754\",\"DNA/TcMar-Pogo/POGO/POGO_2R_RaGOO_8955878_8956980\",\"DNA/TcMar-Pogo/POGO/POGO_3L_RaGOO_17298517_17299810\",\"DNA/TcMar-Pogo/POGO/POGO_3L_RaGOO_20073927_20075365\",\"DNA/TcMar-Pogo/POGO/POGO_3L_RaGOO_22175824_22177122\",\"DNA/TcMar-Pogo/POGO/POGO_3L_RaGOO_24288086_24289393\",\"DNA/TcMar-Pogo/POGO/POGO_3L_RaGOO_9733928_9735150\",\"DNA/TcMar-Pogo/POGO/POGO_3R_RaGOO_11285980_11288111\",\"DNA/TcMar-Pogo/POGO/POGO_X_RaGOO_14998652_15000110\",\"DNA/TcMar-Pogo/POGO/POGO_X_RaGOO_20422614_20423802\",\"DNA/TcMar-Pogo/POGO/POGO_X_RaGOO_21863530_21864880\",\"DNA/P/PROTOP/PROTOP_3L_RaGOO_23000805_23002317\",\"DNA/P/PROTOP_B/PROTOP_B_4_RaGOO_175159_176280\",\"LTR/Gypsy/QUASIMODO2/QUASIMODO2-I_DM_3L_RaGOO_24183512_24185244\",\"LTR/Gypsy/QUASIMODO/QUASIMODO_LTR_2R_RaGOO_3561204_3567967\",\"LTR/Gypsy/QUASIMODO/QUASIMODO_LTR_3L_RaGOO_26470518_26477710\",\"LINE/R1/R1_DM/R1_DM_3L_RaGOO_22723213_22728186\",\"LINE/R1/R1_DM/R1_DM_X_RaGOO_21996524_22001556\",\"LTR/Pao/ROO/ROO_I_2L_RaGOO_12458755_12461676\",\"LTR/Pao/ROO/ROO_I_2R_RaGOO_13238874_13250807\",\"LTR/Pao/ROO/ROO_I_3L_RaGOO_6649709_6657673\",\"LTR/Pao/ROO/ROO_I_3L_RaGOO_7744557_7749643\",\"LTR/Pao/ROO/ROO_I_X_RaGOO_10157853_10159539\",\"LTR/Pao/ROO/ROO_I_X_RaGOO_12254906_12259395\",\"LTR/Pao/ROO/ROO_I_X_RaGOO_4684190_4696799\",\"LTR/Pao/ROO/ROO_I_X_RaGOO_6590807_6605123\",\"LTR/Gypsy/ROVER/ROVER-I_DM_X_RaGOO_21298736_21304020\",\"LTR/Gypsy/ROVER/ROVER-LTR_DM_2R_RaGOO_3256225_3263561\",\"LTR/Gypsy/STALKER4/STALKER4_I_2L_RaGOO_21913834_21920333\",\"DNA/TcMar-Tc1/S_DM/S_DM_2R_RaGOO_3667995_3669419\",\"DNA/TcMar-Tc1/S_DM/S_DM_3L_RaGOO_20608071_20609798\",\"DNA/TcMar-Tc1/S_DM/S_DM_3L_RaGOO_24954457_24956189\",\"DNA/TcMar-Tc1/S_DM/S_DM_3L_RaGOO_5888047_5889536\",\"DNA/TcMar-Tc1/S_DM/S_DM_3R_RaGOO_4154687_4156391\",\"DNA/TcMar-Tc1/S_DM/S_DM_3R_RaGOO_4710881_4712605\",\"LTR/Gypsy/Stalker2/Stalker2_I_3R_RaGOO_12477203_12482106\",\"LTR/Gypsy/Stalker2/Stalker2_LTR_2R_RaGOO_15238139_15244515\",\"LTR/Gypsy/Stalker2/Stalker2_LTR_3L_RaGOO_22813949_22821659\",\"LTR/Gypsy/Stalker2/Stalker2_LTR_3R_RaGOO_12482112_12482538\",\"LTR/Gypsy/TABOR/TABOR_I_3R_RaGOO_1081451_1084994\",\"LINE/I-Jockey/TAHRE/TAHRE_2L_RaGOO_38366_47731\",\"LINE/I-Jockey/TAHRE/TAHRE_2R_RaGOO_3700966_3703361\",\"LINE/I-Jockey/TAHRE/TAHRE_3L_RaGOO_20705_26581\",\"LINE/I-Jockey/TAHRE/TAHRE_3L_RaGOO_2547_12261\",\"LINE/I-Jockey/TAHRE/TAHRE_X_RaGOO_94808_95641\",\"LINE/I-Jockey/TART-A/TART-A_3L_RaGOO_24811306_24813320\",\"LINE/I-Jockey/TART-A/TART-A_X_RaGOO_3_3271\",\"LINE/I-Jockey/TART_B1/TART_B1_2R_RaGOO_23920095_23923160\",\"DNA/TcMar-Tc1/TC1-2_DM/TC1-2_DM_2R_RaGOO_2258745_2260197\",\"DNA/TcMar-Tc1/TC1-2_DM/TC1-2_DM_4_RaGOO_958695_960140\",\"DNA/TcMar-Tc1/TC1_DM/TC1_DM_4_RaGOO_119749_120916\",\"LTR/Gypsy/TIRANT/TIRANT_I_2R_RaGOO_626164_626883\",\"LTR/Gypsy/TIRANT/TIRANT_LTR_2L_RaGOO_20669409_20674055\",\"DNA/CMC-Transib/TRANSIB3/TRANSIB3_3R_RaGOO_1852612_1853834\",\"DNA/CMC-Transib/TRANSIB3/TRANSIB3_3R_RaGOO_2679434_2681620\",\"DNA/CMC-Transib/TRANSIB3/TRANSIB3_X_RaGOO_21749054_21750759\",\"DNA/CMC-Transib/Transib5/Transib5_3R_RaGOO_2639090_2641615\",\"LTR/Gypsy/ACCORD\",\"LTR/Gypsy/ACCORD2\",\"DNA/TcMar-Tc1/BARI_DM\",\"LTR/Gypsy/BLASTOPIA\",\"LTR/Gypsy/BLOOD\",\"LINE/I-Jockey/BS\",\"LINE/I-Jockey/BS2\",\"LTR/Gypsy/BURDOCK\",\"LTR/Gypsy/Chimpo\",\"LTR/Copia/Copia\",\"LTR/Copia/Copia1\",\"LTR/Copia/Copia2\",\"LTR/Copia/DM1731\",\"LTR/Gypsy/DM176\",\"LTR/Gypsy/DM297\",\"LTR/Gypsy/DM412\",\"LINE/R1/DMRT1B\",\"LTR/Gypsy/DMTOM1\",\"RC/Helitron/DNAREP1_DM\",\"LINE/I-Jockey/DOC3_DM\",\"LINE/I-Jockey/DOC5_DM\",\"LINE/I-Jockey/DOC6_DM\",\"DNA/TcMar-Tc1/FB4_DM\",\"LINE/I-Jockey/FW2_DM\",\"LTR/Gypsy/GTWIN\",\"LTR/Gypsy/Gypsy\",\"LTR/Gypsy/Gypsy1\",\"LTR/Gypsy/Gypsy11\",\"LTR/Gypsy/Gypsy12\",\"LTR/Gypsy/Gypsy12A\",\"LTR/Gypsy/Gypsy2\",\"LTR/Gypsy/Gypsy7\",\"LTR/Gypsy/Gypsy8\",\"LINE/I-Jockey/HETA\",\"DNA/hAT-hobo/HOBO\",\"LTR/Gypsy/IDEFIX\",\"LINE/I/IVK_DM\",\"LINE/I/I_DM\",\"LTR/Gypsy/Invader1\",\"LTR/Gypsy/Invader4\",\"LTR/Gypsy/Invader6\",\"DNA/CMC-Transib/M4DM\",\"LTR/Pao/MAX\",\"LTR/Gypsy/MDG1\",\"LTR/Gypsy/MICROPIA\",\"DNA/TcMar-Tc1/Mariner2_DM\",\"LTR/Gypsy/NOMAD\",\"DNA/TcMar-Pogo/POGO\",\"DNA/P/PROTOP\",\"DNA/P/PROTOP_B\",\"LTR/Gypsy/QUASIMODO\",\"LTR/Gypsy/QUASIMODO2\",\"LINE/R1/R1_DM\",\"LTR/Pao/ROO\",\"LTR/Gypsy/ROVER\",\"LTR/Gypsy/STALKER4\",\"DNA/TcMar-Tc1/S_DM\",\"LTR/Gypsy/Stalker2\",\"LTR/Gypsy/TABOR\",\"LINE/I-Jockey/TAHRE\",\"LINE/I-Jockey/TART-A\",\"LINE/I-Jockey/TART_B1\",\"DNA/TcMar-Tc1/TC1-2_DM\",\"DNA/TcMar-Tc1/TC1_DM\",\"LTR/Gypsy/TIRANT\",\"DNA/CMC-Transib/TRANSIB3\",\"DNA/CMC-Transib/Transib5\",\"DNA/CMC-Transib\",\"LTR/Copia\",\"LTR/Gypsy\",\"RC/Helitron\",\"LINE/I\",\"LINE/I-Jockey\",\"DNA/P\",\"LTR/Pao\",\"LINE/R1\",\"DNA/TcMar-Pogo\",\"DNA/TcMar-Tc1\",\"DNA/hAT-hobo\",\"DNA\",\"LINE\",\"LTR\",\"RC\"],\"labels\":[\"ACCORD2_LTR_3L_RaGOO_24099817_24111803\",\"ACCORD_I_2R_RaGOO_818637_823373\",\"ACCORD_LTR_2R_RaGOO_813426_818636\",\"BARI_DM_2R_RaGOO_42130_43850\",\"BLASTOPIA_LTR_2R_RaGOO_2878638_2883652\",\"BLASTOPIA_LTR_3L_RaGOO_23419160_23424177\",\"BLASTOPIA_LTR_3L_RaGOO_23460661_23465627\",\"BLASTOPIA_LTR_3R_RaGOO_8215021_8220047\",\"BLASTOPIA_LTR_X_RaGOO_8707375_8710412\",\"BLOOD_LTR_2L_RaGOO_2148055_2155527\",\"BLOOD_LTR_2L_RaGOO_3268611_3276063\",\"BLOOD_LTR_2R_RaGOO_416001_421270\",\"BS2_2R_RaGOO_2406301_2407991\",\"BS_3L_RaGOO_25664497_25665850\",\"BS_3L_RaGOO_25670374_25671727\",\"BURDOCK_LTR_2L_RaGOO_4499214_4501787\",\"BURDOCK_LTR_2R_RaGOO_5173682_5176253\",\"BURDOCK_LTR_3L_RaGOO_10638503_10641077\",\"BURDOCK_LTR_3R_RaGOO_24036640_24040804\",\"Chimpo_I_4_RaGOO_776018_780171\",\"Chimpo_LTR_3L_RaGOO_16584918_16588544\",\"Chimpo_LTR_3L_RaGOO_24516813_24521384\",\"Copia1-I_DM_2R_RaGOO_2841061_2845341\",\"Copia2_I_2L_RaGOO_22718178_22722069\",\"Copia_LTR_2L_RaGOO_12650_17604\",\"Copia_LTR_2L_RaGOO_13770083_13775227\",\"Copia_LTR_2L_RaGOO_14753817_14758950\",\"Copia_LTR_2L_RaGOO_21771835_21776956\",\"Copia_LTR_2L_RaGOO_9004503_9009641\",\"Copia_LTR_2R_RaGOO_20482857_20488005\",\"Copia_LTR_3L_RaGOO_10022428_10027467\",\"Copia_LTR_3L_RaGOO_10052506_10057644\",\"Copia_LTR_3L_RaGOO_17623155_17628299\",\"Copia_LTR_3R_RaGOO_1372041_1377188\",\"Copia_LTR_3R_RaGOO_2965355_2970495\",\"DM1731_LTR_2R_RaGOO_2383388_2383715\",\"DM176_I_2L_RaGOO_22492424_22494024\",\"DM176_LTR_2R_RaGOO_1374047_1381552\",\"DM176_LTR_3L_RaGOO_15231455_15238953\",\"DM176_LTR_3R_RaGOO_1830992_1834504\",\"DM297_I_2R_RaGOO_2216579_2220068\",\"DM297_I_3L_RaGOO_23746062_23747900\",\"DM297_LTR_3R_RaGOO_1483241_1488467\",\"DM412_3L_RaGOO_5894148_5894718\",\"DM412_3R_RaGOO_3388391_3389451\",\"DM412_X_RaGOO_11799214_11799787\",\"DMRT1B_X_RaGOO_18329002_18330754\",\"DMTOM1_LTR_X_RaGOO_11258002_11258389\",\"DNAREP1_DM_2L_RaGOO_21664116_21664701\",\"DNAREP1_DM_3L_RaGOO_24320820_24321867\",\"DNAREP1_DM_3L_RaGOO_25780405_25781466\",\"DNAREP1_DM_3R_RaGOO_3686735_3687895\",\"DOC3_DM_2R_RaGOO_860527_861391\",\"DOC3_DM_X_RaGOO_21994216_21996199\",\"DOC5_DM_2R_RaGOO_625358_625987\",\"DOC5_DM_3L_RaGOO_24441325_24444916\",\"DOC6_DM_2L_RaGOO_8926966_8931176\",\"DOC6_DM_X_RaGOO_7744303_7748522\",\"FB4_DM_2L_RaGOO_21192802_21194033\",\"FB4_DM_2R_RaGOO_855726_857248\",\"FB4_DM_4_RaGOO_769101_769563\",\"FW2_DM_3L_RaGOO_25562036_25565634\",\"FW2_DM_3R_RaGOO_1276264_1280608\",\"GTWIN_I_3L_RaGOO_25605414_25606835\",\"Gypsy1-I_DM_3L_RaGOO_23197800_23202268\",\"Gypsy11_LTR_2R_RaGOO_1478181_1482030\",\"Gypsy12A_LTR_2L_RaGOO_21242356_21244976\",\"Gypsy12A_LTR_3R_RaGOO_1801038_1802660\",\"Gypsy12A_LTR_3R_RaGOO_1864004_1865329\",\"Gypsy12A_LTR_3R_RaGOO_3432347_3433700\",\"Gypsy12_LTR_2R_RaGOO_1299099_1309281\",\"Gypsy12_LTR_3R_RaGOO_2266515_2268947\",\"Gypsy12_LTR_3R_RaGOO_842982_854376\",\"Gypsy12_LTR_3R_RaGOO_960900_963176\",\"Gypsy2-I_DM_2R_RaGOO_1185019_1189865\",\"Gypsy7_I_3L_RaGOO_25724750_25729257\",\"Gypsy8_LTR_3R_RaGOO_3489645_3494741\",\"Gypsy_I_3R_RaGOO_3134007_3139348\",\"HETA_3L_RaGOO_18403_20679\",\"HETA_3L_RaGOO_24251825_24252692\",\"HETA_X_RaGOO_3925_6784\",\"HETA_X_RaGOO_87709_93586\",\"HOBO_2L_RaGOO_8465431_8466942\",\"IDEFIX_I_3L_RaGOO_23168345_23170287\",\"IDEFIX_LTR_3R_RaGOO_1194385_1200206\",\"IVK_DM_3L_RaGOO_19656431_19661800\",\"IVK_DM_3L_RaGOO_26401974_26403591\",\"I_DM_2L_RaGOO_8443816_8449159\",\"I_DM_3L_RaGOO_24636314_24637118\",\"Invader1_I_3L_RaGOO_26375243_26376911\",\"Invader1_LTR_2R_RaGOO_4667269_4671292\",\"Invader1_LTR_3L_RaGOO_22836953_22840857\",\"Invader1_LTR_3R_RaGOO_1539422_1544290\",\"Invader4_LTR_2L_RaGOO_21089350_21091057\",\"Invader6_I_3L_RaGOO_25623224_25628102\",\"Invader6_I_3L_RaGOO_25628103_25632398\",\"Invader6_LTR_3L_RaGOO_25617938_25623223\",\"Invader6_LTR_3R_RaGOO_2712551_2717731\",\"M4DM_2L_RaGOO_19850340_19851052\",\"M4DM_3L_RaGOO_25693372_25696157\",\"MAX_LTR_2R_RaGOO_137030_138260\",\"MAX_LTR_3L_RaGOO_3640512_3649209\",\"MDG1_I_2R_RaGOO_916381_928492\",\"MDG1_I_3R_RaGOO_3302870_3305349\",\"MDG1_LTR_2R_RaGOO_567704_573704\",\"MDG1_LTR_X_RaGOO_18264248_18271286\",\"MICROPIA_I_2L_RaGOO_13442293_13446246\",\"MICROPIA_I_2L_RaGOO_3970137_3974092\",\"MICROPIA_I_2R_RaGOO_21655615_21659568\",\"MICROPIA_I_3L_RaGOO_11129215_11133164\",\"MICROPIA_I_3L_RaGOO_25834006_25836118\",\"MICROPIA_I_3L_RaGOO_4604350_4608941\",\"MICROPIA_I_3R_RaGOO_23396903_23401501\",\"MICROPIA_I_3R_RaGOO_31083506_31088004\",\"MICROPIA_I_4_RaGOO_617814_622319\",\"MICROPIA_I_X_RaGOO_17340828_17345349\",\"MICROPIA_I_X_RaGOO_2765010_2768962\",\"MICROPIA_I_X_RaGOO_603817_607773\",\"Mariner2_DM_4_RaGOO_638924_639677\",\"NOMAD_LTR_3L_RaGOO_10268410_10275872\",\"POGO_2L_RaGOO_14260359_14261043\",\"POGO_2L_RaGOO_19914701_19916586\",\"POGO_2L_RaGOO_21617872_21618829\",\"POGO_2L_RaGOO_2955877_2958004\",\"POGO_2R_RaGOO_16569084_16570235\",\"POGO_2R_RaGOO_3208365_3210472\",\"POGO_2R_RaGOO_7201268_7202754\",\"POGO_2R_RaGOO_8955878_8956980\",\"POGO_3L_RaGOO_17298517_17299810\",\"POGO_3L_RaGOO_20073927_20075365\",\"POGO_3L_RaGOO_22175824_22177122\",\"POGO_3L_RaGOO_24288086_24289393\",\"POGO_3L_RaGOO_9733928_9735150\",\"POGO_3R_RaGOO_11285980_11288111\",\"POGO_X_RaGOO_14998652_15000110\",\"POGO_X_RaGOO_20422614_20423802\",\"POGO_X_RaGOO_21863530_21864880\",\"PROTOP_3L_RaGOO_23000805_23002317\",\"PROTOP_B_4_RaGOO_175159_176280\",\"QUASIMODO2-I_DM_3L_RaGOO_24183512_24185244\",\"QUASIMODO_LTR_2R_RaGOO_3561204_3567967\",\"QUASIMODO_LTR_3L_RaGOO_26470518_26477710\",\"R1_DM_3L_RaGOO_22723213_22728186\",\"R1_DM_X_RaGOO_21996524_22001556\",\"ROO_I_2L_RaGOO_12458755_12461676\",\"ROO_I_2R_RaGOO_13238874_13250807\",\"ROO_I_3L_RaGOO_6649709_6657673\",\"ROO_I_3L_RaGOO_7744557_7749643\",\"ROO_I_X_RaGOO_10157853_10159539\",\"ROO_I_X_RaGOO_12254906_12259395\",\"ROO_I_X_RaGOO_4684190_4696799\",\"ROO_I_X_RaGOO_6590807_6605123\",\"ROVER-I_DM_X_RaGOO_21298736_21304020\",\"ROVER-LTR_DM_2R_RaGOO_3256225_3263561\",\"STALKER4_I_2L_RaGOO_21913834_21920333\",\"S_DM_2R_RaGOO_3667995_3669419\",\"S_DM_3L_RaGOO_20608071_20609798\",\"S_DM_3L_RaGOO_24954457_24956189\",\"S_DM_3L_RaGOO_5888047_5889536\",\"S_DM_3R_RaGOO_4154687_4156391\",\"S_DM_3R_RaGOO_4710881_4712605\",\"Stalker2_I_3R_RaGOO_12477203_12482106\",\"Stalker2_LTR_2R_RaGOO_15238139_15244515\",\"Stalker2_LTR_3L_RaGOO_22813949_22821659\",\"Stalker2_LTR_3R_RaGOO_12482112_12482538\",\"TABOR_I_3R_RaGOO_1081451_1084994\",\"TAHRE_2L_RaGOO_38366_47731\",\"TAHRE_2R_RaGOO_3700966_3703361\",\"TAHRE_3L_RaGOO_20705_26581\",\"TAHRE_3L_RaGOO_2547_12261\",\"TAHRE_X_RaGOO_94808_95641\",\"TART-A_3L_RaGOO_24811306_24813320\",\"TART-A_X_RaGOO_3_3271\",\"TART_B1_2R_RaGOO_23920095_23923160\",\"TC1-2_DM_2R_RaGOO_2258745_2260197\",\"TC1-2_DM_4_RaGOO_958695_960140\",\"TC1_DM_4_RaGOO_119749_120916\",\"TIRANT_I_2R_RaGOO_626164_626883\",\"TIRANT_LTR_2L_RaGOO_20669409_20674055\",\"TRANSIB3_3R_RaGOO_1852612_1853834\",\"TRANSIB3_3R_RaGOO_2679434_2681620\",\"TRANSIB3_X_RaGOO_21749054_21750759\",\"Transib5_3R_RaGOO_2639090_2641615\",\"ACCORD\",\"ACCORD2\",\"BARI_DM\",\"BLASTOPIA\",\"BLOOD\",\"BS\",\"BS2\",\"BURDOCK\",\"Chimpo\",\"Copia\",\"Copia1\",\"Copia2\",\"DM1731\",\"DM176\",\"DM297\",\"DM412\",\"DMRT1B\",\"DMTOM1\",\"DNAREP1_DM\",\"DOC3_DM\",\"DOC5_DM\",\"DOC6_DM\",\"FB4_DM\",\"FW2_DM\",\"GTWIN\",\"Gypsy\",\"Gypsy1\",\"Gypsy11\",\"Gypsy12\",\"Gypsy12A\",\"Gypsy2\",\"Gypsy7\",\"Gypsy8\",\"HETA\",\"HOBO\",\"IDEFIX\",\"IVK_DM\",\"I_DM\",\"Invader1\",\"Invader4\",\"Invader6\",\"M4DM\",\"MAX\",\"MDG1\",\"MICROPIA\",\"Mariner2_DM\",\"NOMAD\",\"POGO\",\"PROTOP\",\"PROTOP_B\",\"QUASIMODO\",\"QUASIMODO2\",\"R1_DM\",\"ROO\",\"ROVER\",\"STALKER4\",\"S_DM\",\"Stalker2\",\"TABOR\",\"TAHRE\",\"TART-A\",\"TART_B1\",\"TC1-2_DM\",\"TC1_DM\",\"TIRANT\",\"TRANSIB3\",\"Transib5\",\"CMC-Transib\",\"Copia\",\"Gypsy\",\"Helitron\",\"I\",\"I-Jockey\",\"P\",\"Pao\",\"R1\",\"TcMar-Pogo\",\"TcMar-Tc1\",\"hAT-hobo\",\"DNA\",\"LINE\",\"LTR\",\"RC\"],\"marker\":{\"coloraxis\":\"coloraxis\",\"colors\":[0.111296512598031,0.2282516891891892,0.2074856046065259,0.7593023255813953,0.2461108895093737,0.2650986645405621,0.177708417237213,0.1707122960604854,0.2163319064866644,0.1812098501070664,0.2126274825550188,0.2634750427026001,0.3680473372781065,0.4700665188470067,0.4700665188470067,0.409249902837155,0.4095682613768961,0.4090909090909091,0.3174831892411143,0.3390320250421382,0.2526199669056811,0.1999562458980529,0.1105140186915887,0.9970444615780004,0.9444893015744852,0.8043351477449455,0.7608489187609585,0.8945152314001172,0.7422148695990657,0.6767482517482517,0.8226680377900858,0.8367555469054108,0.8639450492483152,0.4866265138268246,0.1863813229571984,0.4495412844036697,0.15125,0.1240506329113924,0.1371032275273406,0.2314920273348519,0.706506162224133,0.749183895538629,0.2560275545350172,0.868421052631579,0.631132075471698,0.8621291448516579,0.997716894977169,0.6124031007751939,0.4256410256410256,0.3658070678127985,0.6145146088595664,0.5163793103448275,0.9004629629629629,0.2521432173474534,0.5627980922098569,0.3806739069896964,0.3021377672209026,0.434937188907324,0.3346872461413485,0.3442838370565046,0.6753246753246753,0.2392996108949416,0.1982044198895027,0.8064743138634765,0.2148612354521038,0.1452325279293323,0.2690839694656488,0.4895191122071516,0.6050943396226415,0.5927568366592757,0.8399135729719112,0.2674753289473684,0.2099413225005642,0.5690057745418027,0.3470903838217086,0.2380741069447526,0.3022959183673469,0.2213068713724021,0.4219024604569419,0.6735870818915801,0.4330185379503323,0.1259996596903181,0.6532097948378557,0.1838311019567456,0.1857069232090706,0.2482771465822313,0.313543599257885,0.1057458356728429,0.7487562189054726,0.3111510791366906,0.1108625403927417,0.1941598360655737,0.1550944946589975,0.7217340363210311,0.1660516605166051,0.1885913853317811,0.1532639545884579,0.3845559845559845,0.5252808988764045,0.4290843806104129,0.8016260162601626,0.9564546066788218,0.1103129386508133,0.1278741427995159,0.1486666666666666,0.1714975845410628,0.268909688843916,0.3461441213653603,0.3478370857576524,0.3286908077994429,0.2708333333333333,0.2905685035939882,0.2859939103958243,0.2362160960426856,0.3596004439511653,0.2908648529086485,0.2689777327935223,0.268705763397371,0.7224435590969456,0.1322701688555347,0.5036549707602339,0.2938992042440318,0.2810867293625914,0.9606644726531893,0.4891398783666377,0.1276696725201708,0.8365465061292786,0.735934664246824,0.4251740139211137,0.5205146036161336,0.2072419106317411,0.4307574598316755,0.6611870607490132,0.9472078836227124,0.5778463648834019,0.3289141414141414,0.7416,0.3756613756613756,0.43871543264942015,0.9301385681293304,0.1326334466952536,0.1553114571746384,0.1773577317514578,0.7296303656597773,0.2615542622389593,0.1126707449928769,0.10748367654445,0.20533490627867343,0.5136417556346382,0.260191579416351,0.7618367832500594,0.1502281829188786,0.1088190764572293,0.1498091603053435,0.1551007847361132,0.5667134831460674,0.3815865662999421,0.2430715935334872,0.3821356615177971,0.7429577464788732,0.4686774941995359,0.1709157658576381,0.1314303638644918,0.1162775616083009,0.3568075117370892,0.3434942139429862,0.1116924719701014,0.4258872651356993,0.1516337644656228,0.1207535515750463,0.6338535414165666,0.7318768619662364,0.1089351285189718,0.4502446982055464,0.1866391184573002,0.5377162629757786,0.9700085689802912,0.9165507649513212,0.7557038312526905,0.7377250409165304,0.7371149740774626,0.6535679374389053,0.3524752475247524,0.21786864689785757,0.111296512598031,0.7593023255813953,0.2089450985119186,0.21618918088967748,0.4700665188470067,0.3680473372781065,0.38634806563651863,0.26386941261529073,0.7932089979436502,0.1105140186915887,0.9970444615780004,0.4495412844036697,0.16097397194339624,0.5705725374325931,0.6980300821202468,0.997716894977169,0.6124031007751939,0.48058550316455456,0.5763030901552082,0.47173599959977663,0.39067071501185024,0.45143191950750944,0.21875201539222214,0.8064743138634765,0.2213068713724021,0.2148612354521038,0.1452325279293323,0.4730029892039538,0.5388196109746631,0.3470903838217086,0.2380741069447526,0.3022959183673469,0.38077684763128955,0.6532097948378557,0.1847690125829081,0.28091037292005816,0.42725102728915776,0.19281698756350088,0.7217340363210311,0.22311574624820715,0.4771826397434087,0.9371010328764894,0.13958783316451465,0.29074226925420915,0.7224435590969456,0.1322701688555347,0.7040258367007084,0.3756613756613756,0.43871543264942015,0.143972451934946,0.9301385681293304,0.5455394876903376,0.2145542232137868,0.1293141183812864,0.1551007847361132,0.4641904241959505,0.17834175293516416,0.3434942139429862,0.2887641189126072,0.4204059952426041,0.4502446982055464,0.303664833296793,0.9700085689802912,0.8361272981020058,0.690272282678041,0.3524752475247524,0.6500630026242223,0.7887579780477988,0.3838222481436518,0.48058550316455456,0.35408070010460796,0.3917935770717042,0.4282064231514127,0.4457692023058516,0.6585838395120454,0.7040258367007084,0.5001458171498162,0.6532097948378557,0.6816736101992596,0.4152886935304987,0.5606868974119438,0.48058550316455456]},\"name\":\"\",\"parents\":[\"LTR/Gypsy/ACCORD2\",\"LTR/Gypsy/ACCORD\",\"LTR/Gypsy/ACCORD\",\"DNA/TcMar-Tc1/BARI_DM\",\"LTR/Gypsy/BLASTOPIA\",\"LTR/Gypsy/BLASTOPIA\",\"LTR/Gypsy/BLASTOPIA\",\"LTR/Gypsy/BLASTOPIA\",\"LTR/Gypsy/BLASTOPIA\",\"LTR/Gypsy/BLOOD\",\"LTR/Gypsy/BLOOD\",\"LTR/Gypsy/BLOOD\",\"LINE/I-Jockey/BS2\",\"LINE/I-Jockey/BS\",\"LINE/I-Jockey/BS\",\"LTR/Gypsy/BURDOCK\",\"LTR/Gypsy/BURDOCK\",\"LTR/Gypsy/BURDOCK\",\"LTR/Gypsy/BURDOCK\",\"LTR/Gypsy/Chimpo\",\"LTR/Gypsy/Chimpo\",\"LTR/Gypsy/Chimpo\",\"LTR/Copia/Copia1\",\"LTR/Copia/Copia2\",\"LTR/Copia/Copia\",\"LTR/Copia/Copia\",\"LTR/Copia/Copia\",\"LTR/Copia/Copia\",\"LTR/Copia/Copia\",\"LTR/Copia/Copia\",\"LTR/Copia/Copia\",\"LTR/Copia/Copia\",\"LTR/Copia/Copia\",\"LTR/Copia/Copia\",\"LTR/Copia/Copia\",\"LTR/Copia/DM1731\",\"LTR/Gypsy/DM176\",\"LTR/Gypsy/DM176\",\"LTR/Gypsy/DM176\",\"LTR/Gypsy/DM176\",\"LTR/Gypsy/DM297\",\"LTR/Gypsy/DM297\",\"LTR/Gypsy/DM297\",\"LTR/Gypsy/DM412\",\"LTR/Gypsy/DM412\",\"LTR/Gypsy/DM412\",\"LINE/R1/DMRT1B\",\"LTR/Gypsy/DMTOM1\",\"RC/Helitron/DNAREP1_DM\",\"RC/Helitron/DNAREP1_DM\",\"RC/Helitron/DNAREP1_DM\",\"RC/Helitron/DNAREP1_DM\",\"LINE/I-Jockey/DOC3_DM\",\"LINE/I-Jockey/DOC3_DM\",\"LINE/I-Jockey/DOC5_DM\",\"LINE/I-Jockey/DOC5_DM\",\"LINE/I-Jockey/DOC6_DM\",\"LINE/I-Jockey/DOC6_DM\",\"DNA/TcMar-Tc1/FB4_DM\",\"DNA/TcMar-Tc1/FB4_DM\",\"DNA/TcMar-Tc1/FB4_DM\",\"LINE/I-Jockey/FW2_DM\",\"LINE/I-Jockey/FW2_DM\",\"LTR/Gypsy/GTWIN\",\"LTR/Gypsy/Gypsy1\",\"LTR/Gypsy/Gypsy11\",\"LTR/Gypsy/Gypsy12A\",\"LTR/Gypsy/Gypsy12A\",\"LTR/Gypsy/Gypsy12A\",\"LTR/Gypsy/Gypsy12A\",\"LTR/Gypsy/Gypsy12\",\"LTR/Gypsy/Gypsy12\",\"LTR/Gypsy/Gypsy12\",\"LTR/Gypsy/Gypsy12\",\"LTR/Gypsy/Gypsy2\",\"LTR/Gypsy/Gypsy7\",\"LTR/Gypsy/Gypsy8\",\"LTR/Gypsy/Gypsy\",\"LINE/I-Jockey/HETA\",\"LINE/I-Jockey/HETA\",\"LINE/I-Jockey/HETA\",\"LINE/I-Jockey/HETA\",\"DNA/hAT-hobo/HOBO\",\"LTR/Gypsy/IDEFIX\",\"LTR/Gypsy/IDEFIX\",\"LINE/I/IVK_DM\",\"LINE/I/IVK_DM\",\"LINE/I/I_DM\",\"LINE/I/I_DM\",\"LTR/Gypsy/Invader1\",\"LTR/Gypsy/Invader1\",\"LTR/Gypsy/Invader1\",\"LTR/Gypsy/Invader1\",\"LTR/Gypsy/Invader4\",\"LTR/Gypsy/Invader6\",\"LTR/Gypsy/Invader6\",\"LTR/Gypsy/Invader6\",\"LTR/Gypsy/Invader6\",\"DNA/CMC-Transib/M4DM\",\"DNA/CMC-Transib/M4DM\",\"LTR/Pao/MAX\",\"LTR/Pao/MAX\",\"LTR/Gypsy/MDG1\",\"LTR/Gypsy/MDG1\",\"LTR/Gypsy/MDG1\",\"LTR/Gypsy/MDG1\",\"LTR/Gypsy/MICROPIA\",\"LTR/Gypsy/MICROPIA\",\"LTR/Gypsy/MICROPIA\",\"LTR/Gypsy/MICROPIA\",\"LTR/Gypsy/MICROPIA\",\"LTR/Gypsy/MICROPIA\",\"LTR/Gypsy/MICROPIA\",\"LTR/Gypsy/MICROPIA\",\"LTR/Gypsy/MICROPIA\",\"LTR/Gypsy/MICROPIA\",\"LTR/Gypsy/MICROPIA\",\"LTR/Gypsy/MICROPIA\",\"DNA/TcMar-Tc1/Mariner2_DM\",\"LTR/Gypsy/NOMAD\",\"DNA/TcMar-Pogo/POGO\",\"DNA/TcMar-Pogo/POGO\",\"DNA/TcMar-Pogo/POGO\",\"DNA/TcMar-Pogo/POGO\",\"DNA/TcMar-Pogo/POGO\",\"DNA/TcMar-Pogo/POGO\",\"DNA/TcMar-Pogo/POGO\",\"DNA/TcMar-Pogo/POGO\",\"DNA/TcMar-Pogo/POGO\",\"DNA/TcMar-Pogo/POGO\",\"DNA/TcMar-Pogo/POGO\",\"DNA/TcMar-Pogo/POGO\",\"DNA/TcMar-Pogo/POGO\",\"DNA/TcMar-Pogo/POGO\",\"DNA/TcMar-Pogo/POGO\",\"DNA/TcMar-Pogo/POGO\",\"DNA/TcMar-Pogo/POGO\",\"DNA/P/PROTOP\",\"DNA/P/PROTOP_B\",\"LTR/Gypsy/QUASIMODO2\",\"LTR/Gypsy/QUASIMODO\",\"LTR/Gypsy/QUASIMODO\",\"LINE/R1/R1_DM\",\"LINE/R1/R1_DM\",\"LTR/Pao/ROO\",\"LTR/Pao/ROO\",\"LTR/Pao/ROO\",\"LTR/Pao/ROO\",\"LTR/Pao/ROO\",\"LTR/Pao/ROO\",\"LTR/Pao/ROO\",\"LTR/Pao/ROO\",\"LTR/Gypsy/ROVER\",\"LTR/Gypsy/ROVER\",\"LTR/Gypsy/STALKER4\",\"DNA/TcMar-Tc1/S_DM\",\"DNA/TcMar-Tc1/S_DM\",\"DNA/TcMar-Tc1/S_DM\",\"DNA/TcMar-Tc1/S_DM\",\"DNA/TcMar-Tc1/S_DM\",\"DNA/TcMar-Tc1/S_DM\",\"LTR/Gypsy/Stalker2\",\"LTR/Gypsy/Stalker2\",\"LTR/Gypsy/Stalker2\",\"LTR/Gypsy/Stalker2\",\"LTR/Gypsy/TABOR\",\"LINE/I-Jockey/TAHRE\",\"LINE/I-Jockey/TAHRE\",\"LINE/I-Jockey/TAHRE\",\"LINE/I-Jockey/TAHRE\",\"LINE/I-Jockey/TAHRE\",\"LINE/I-Jockey/TART-A\",\"LINE/I-Jockey/TART-A\",\"LINE/I-Jockey/TART_B1\",\"DNA/TcMar-Tc1/TC1-2_DM\",\"DNA/TcMar-Tc1/TC1-2_DM\",\"DNA/TcMar-Tc1/TC1_DM\",\"LTR/Gypsy/TIRANT\",\"LTR/Gypsy/TIRANT\",\"DNA/CMC-Transib/TRANSIB3\",\"DNA/CMC-Transib/TRANSIB3\",\"DNA/CMC-Transib/TRANSIB3\",\"DNA/CMC-Transib/Transib5\",\"LTR/Gypsy\",\"LTR/Gypsy\",\"DNA/TcMar-Tc1\",\"LTR/Gypsy\",\"LTR/Gypsy\",\"LINE/I-Jockey\",\"LINE/I-Jockey\",\"LTR/Gypsy\",\"LTR/Gypsy\",\"LTR/Copia\",\"LTR/Copia\",\"LTR/Copia\",\"LTR/Copia\",\"LTR/Gypsy\",\"LTR/Gypsy\",\"LTR/Gypsy\",\"LINE/R1\",\"LTR/Gypsy\",\"RC/Helitron\",\"LINE/I-Jockey\",\"LINE/I-Jockey\",\"LINE/I-Jockey\",\"DNA/TcMar-Tc1\",\"LINE/I-Jockey\",\"LTR/Gypsy\",\"LTR/Gypsy\",\"LTR/Gypsy\",\"LTR/Gypsy\",\"LTR/Gypsy\",\"LTR/Gypsy\",\"LTR/Gypsy\",\"LTR/Gypsy\",\"LTR/Gypsy\",\"LINE/I-Jockey\",\"DNA/hAT-hobo\",\"LTR/Gypsy\",\"LINE/I\",\"LINE/I\",\"LTR/Gypsy\",\"LTR/Gypsy\",\"LTR/Gypsy\",\"DNA/CMC-Transib\",\"LTR/Pao\",\"LTR/Gypsy\",\"LTR/Gypsy\",\"DNA/TcMar-Tc1\",\"LTR/Gypsy\",\"DNA/TcMar-Pogo\",\"DNA/P\",\"DNA/P\",\"LTR/Gypsy\",\"LTR/Gypsy\",\"LINE/R1\",\"LTR/Pao\",\"LTR/Gypsy\",\"LTR/Gypsy\",\"DNA/TcMar-Tc1\",\"LTR/Gypsy\",\"LTR/Gypsy\",\"LINE/I-Jockey\",\"LINE/I-Jockey\",\"LINE/I-Jockey\",\"DNA/TcMar-Tc1\",\"DNA/TcMar-Tc1\",\"LTR/Gypsy\",\"DNA/CMC-Transib\",\"DNA/CMC-Transib\",\"DNA\",\"LTR\",\"LTR\",\"RC\",\"LINE\",\"LINE\",\"DNA\",\"LTR\",\"LINE\",\"DNA\",\"DNA\",\"DNA\",\"\",\"\",\"\",\"\"],\"root\":{\"color\":\"lightgrey\"},\"type\":\"sunburst\",\"values\":[1,1,1,1,1,1,2,1,1,5,4,4,1,1,1,1,1,1,1,1,1,1,1,2,1,8,16,16,4,10,33,24,15,6,2,1,1,1,1,1,1,1,1,1,5,1,1,8,1,1,1,1,1,1,1,1,1,2,1,1,1,1,1,1,1,1,1,1,4,1,2,2,14,35,1,1,2,1,4,1,1,2,1,1,1,1,1,1,1,1,1,1,1,1,1,1,1,1,1,1,1,7,1,1,1,1,1,1,1,1,2,1,1,2,1,1,1,1,1,1,2,1,1,6,3,1,37,1,4,4,1,2,68,4,4,4,75,1,5,1,1,1,1,2,1,6,1,3,1,1,1,3,1,1,1,1,1,1,1,1,1,1,1,2,1,1,1,1,1,1,1,1,1,4,2,1,1,1,1,4,3,9,1,2,1,1,6,13,2,1,4,3,135,1,2,1,4,3,7,1,8,4,2,2,3,3,2,1,1,1,1,53,7,1,1,2,8,1,2,2,2,4,1,4,2,8,4,14,1,1,218,1,5,2,1,3,17,2,1,6,5,1,5,2,4,3,1,2,16,1,19,139,163,4,4,31,6,25,4,218,15,1,259,39,327,4]}],                        {\"coloraxis\":{\"cmid\":0.6009804158277606,\"colorbar\":{\"title\":{\"text\":\"mean_subcov\"}},\"colorscale\":[[0.0,\"rgb(103,0,31)\"],[0.1,\"rgb(178,24,43)\"],[0.2,\"rgb(214,96,77)\"],[0.3,\"rgb(244,165,130)\"],[0.4,\"rgb(253,219,199)\"],[0.5,\"rgb(247,247,247)\"],[0.6,\"rgb(209,229,240)\"],[0.7,\"rgb(146,197,222)\"],[0.8,\"rgb(67,147,195)\"],[0.9,\"rgb(33,102,172)\"],[1.0,\"rgb(5,48,97)\"]]},\"legend\":{\"tracegroupgap\":0},\"margin\":{\"b\":25,\"l\":25,\"r\":25,\"t\":50},\"template\":{\"data\":{\"bar\":[{\"error_x\":{\"color\":\"#2a3f5f\"},\"error_y\":{\"color\":\"#2a3f5f\"},\"marker\":{\"line\":{\"color\":\"#E5ECF6\",\"width\":0.5},\"pattern\":{\"fillmode\":\"overlay\",\"size\":10,\"solidity\":0.2}},\"type\":\"bar\"}],\"barpolar\":[{\"marker\":{\"line\":{\"color\":\"#E5ECF6\",\"width\":0.5},\"pattern\":{\"fillmode\":\"overlay\",\"size\":10,\"solidity\":0.2}},\"type\":\"barpolar\"}],\"carpet\":[{\"aaxis\":{\"endlinecolor\":\"#2a3f5f\",\"gridcolor\":\"white\",\"linecolor\":\"white\",\"minorgridcolor\":\"white\",\"startlinecolor\":\"#2a3f5f\"},\"baxis\":{\"endlinecolor\":\"#2a3f5f\",\"gridcolor\":\"white\",\"linecolor\":\"white\",\"minorgridcolor\":\"white\",\"startlinecolor\":\"#2a3f5f\"},\"type\":\"carpet\"}],\"choropleth\":[{\"colorbar\":{\"outlinewidth\":0,\"ticks\":\"\"},\"type\":\"choropleth\"}],\"contour\":[{\"colorbar\":{\"outlinewidth\":0,\"ticks\":\"\"},\"colorscale\":[[0.0,\"#0d0887\"],[0.1111111111111111,\"#46039f\"],[0.2222222222222222,\"#7201a8\"],[0.3333333333333333,\"#9c179e\"],[0.4444444444444444,\"#bd3786\"],[0.5555555555555556,\"#d8576b\"],[0.6666666666666666,\"#ed7953\"],[0.7777777777777778,\"#fb9f3a\"],[0.8888888888888888,\"#fdca26\"],[1.0,\"#f0f921\"]],\"type\":\"contour\"}],\"contourcarpet\":[{\"colorbar\":{\"outlinewidth\":0,\"ticks\":\"\"},\"type\":\"contourcarpet\"}],\"heatmap\":[{\"colorbar\":{\"outlinewidth\":0,\"ticks\":\"\"},\"colorscale\":[[0.0,\"#0d0887\"],[0.1111111111111111,\"#46039f\"],[0.2222222222222222,\"#7201a8\"],[0.3333333333333333,\"#9c179e\"],[0.4444444444444444,\"#bd3786\"],[0.5555555555555556,\"#d8576b\"],[0.6666666666666666,\"#ed7953\"],[0.7777777777777778,\"#fb9f3a\"],[0.8888888888888888,\"#fdca26\"],[1.0,\"#f0f921\"]],\"type\":\"heatmap\"}],\"heatmapgl\":[{\"colorbar\":{\"outlinewidth\":0,\"ticks\":\"\"},\"colorscale\":[[0.0,\"#0d0887\"],[0.1111111111111111,\"#46039f\"],[0.2222222222222222,\"#7201a8\"],[0.3333333333333333,\"#9c179e\"],[0.4444444444444444,\"#bd3786\"],[0.5555555555555556,\"#d8576b\"],[0.6666666666666666,\"#ed7953\"],[0.7777777777777778,\"#fb9f3a\"],[0.8888888888888888,\"#fdca26\"],[1.0,\"#f0f921\"]],\"type\":\"heatmapgl\"}],\"histogram\":[{\"marker\":{\"pattern\":{\"fillmode\":\"overlay\",\"size\":10,\"solidity\":0.2}},\"type\":\"histogram\"}],\"histogram2d\":[{\"colorbar\":{\"outlinewidth\":0,\"ticks\":\"\"},\"colorscale\":[[0.0,\"#0d0887\"],[0.1111111111111111,\"#46039f\"],[0.2222222222222222,\"#7201a8\"],[0.3333333333333333,\"#9c179e\"],[0.4444444444444444,\"#bd3786\"],[0.5555555555555556,\"#d8576b\"],[0.6666666666666666,\"#ed7953\"],[0.7777777777777778,\"#fb9f3a\"],[0.8888888888888888,\"#fdca26\"],[1.0,\"#f0f921\"]],\"type\":\"histogram2d\"}],\"histogram2dcontour\":[{\"colorbar\":{\"outlinewidth\":0,\"ticks\":\"\"},\"colorscale\":[[0.0,\"#0d0887\"],[0.1111111111111111,\"#46039f\"],[0.2222222222222222,\"#7201a8\"],[0.3333333333333333,\"#9c179e\"],[0.4444444444444444,\"#bd3786\"],[0.5555555555555556,\"#d8576b\"],[0.6666666666666666,\"#ed7953\"],[0.7777777777777778,\"#fb9f3a\"],[0.8888888888888888,\"#fdca26\"],[1.0,\"#f0f921\"]],\"type\":\"histogram2dcontour\"}],\"mesh3d\":[{\"colorbar\":{\"outlinewidth\":0,\"ticks\":\"\"},\"type\":\"mesh3d\"}],\"parcoords\":[{\"line\":{\"colorbar\":{\"outlinewidth\":0,\"ticks\":\"\"}},\"type\":\"parcoords\"}],\"pie\":[{\"automargin\":true,\"type\":\"pie\"}],\"scatter\":[{\"marker\":{\"colorbar\":{\"outlinewidth\":0,\"ticks\":\"\"}},\"type\":\"scatter\"}],\"scatter3d\":[{\"line\":{\"colorbar\":{\"outlinewidth\":0,\"ticks\":\"\"}},\"marker\":{\"colorbar\":{\"outlinewidth\":0,\"ticks\":\"\"}},\"type\":\"scatter3d\"}],\"scattercarpet\":[{\"marker\":{\"colorbar\":{\"outlinewidth\":0,\"ticks\":\"\"}},\"type\":\"scattercarpet\"}],\"scattergeo\":[{\"marker\":{\"colorbar\":{\"outlinewidth\":0,\"ticks\":\"\"}},\"type\":\"scattergeo\"}],\"scattergl\":[{\"marker\":{\"colorbar\":{\"outlinewidth\":0,\"ticks\":\"\"}},\"type\":\"scattergl\"}],\"scattermapbox\":[{\"marker\":{\"colorbar\":{\"outlinewidth\":0,\"ticks\":\"\"}},\"type\":\"scattermapbox\"}],\"scatterpolar\":[{\"marker\":{\"colorbar\":{\"outlinewidth\":0,\"ticks\":\"\"}},\"type\":\"scatterpolar\"}],\"scatterpolargl\":[{\"marker\":{\"colorbar\":{\"outlinewidth\":0,\"ticks\":\"\"}},\"type\":\"scatterpolargl\"}],\"scatterternary\":[{\"marker\":{\"colorbar\":{\"outlinewidth\":0,\"ticks\":\"\"}},\"type\":\"scatterternary\"}],\"surface\":[{\"colorbar\":{\"outlinewidth\":0,\"ticks\":\"\"},\"colorscale\":[[0.0,\"#0d0887\"],[0.1111111111111111,\"#46039f\"],[0.2222222222222222,\"#7201a8\"],[0.3333333333333333,\"#9c179e\"],[0.4444444444444444,\"#bd3786\"],[0.5555555555555556,\"#d8576b\"],[0.6666666666666666,\"#ed7953\"],[0.7777777777777778,\"#fb9f3a\"],[0.8888888888888888,\"#fdca26\"],[1.0,\"#f0f921\"]],\"type\":\"surface\"}],\"table\":[{\"cells\":{\"fill\":{\"color\":\"#EBF0F8\"},\"line\":{\"color\":\"white\"}},\"header\":{\"fill\":{\"color\":\"#C8D4E3\"},\"line\":{\"color\":\"white\"}},\"type\":\"table\"}]},\"layout\":{\"annotationdefaults\":{\"arrowcolor\":\"#2a3f5f\",\"arrowhead\":0,\"arrowwidth\":1},\"autotypenumbers\":\"strict\",\"coloraxis\":{\"colorbar\":{\"outlinewidth\":0,\"ticks\":\"\"}},\"colorscale\":{\"diverging\":[[0,\"#8e0152\"],[0.1,\"#c51b7d\"],[0.2,\"#de77ae\"],[0.3,\"#f1b6da\"],[0.4,\"#fde0ef\"],[0.5,\"#f7f7f7\"],[0.6,\"#e6f5d0\"],[0.7,\"#b8e186\"],[0.8,\"#7fbc41\"],[0.9,\"#4d9221\"],[1,\"#276419\"]],\"sequential\":[[0.0,\"#0d0887\"],[0.1111111111111111,\"#46039f\"],[0.2222222222222222,\"#7201a8\"],[0.3333333333333333,\"#9c179e\"],[0.4444444444444444,\"#bd3786\"],[0.5555555555555556,\"#d8576b\"],[0.6666666666666666,\"#ed7953\"],[0.7777777777777778,\"#fb9f3a\"],[0.8888888888888888,\"#fdca26\"],[1.0,\"#f0f921\"]],\"sequentialminus\":[[0.0,\"#0d0887\"],[0.1111111111111111,\"#46039f\"],[0.2222222222222222,\"#7201a8\"],[0.3333333333333333,\"#9c179e\"],[0.4444444444444444,\"#bd3786\"],[0.5555555555555556,\"#d8576b\"],[0.6666666666666666,\"#ed7953\"],[0.7777777777777778,\"#fb9f3a\"],[0.8888888888888888,\"#fdca26\"],[1.0,\"#f0f921\"]]},\"colorway\":[\"#636efa\",\"#EF553B\",\"#00cc96\",\"#ab63fa\",\"#FFA15A\",\"#19d3f3\",\"#FF6692\",\"#B6E880\",\"#FF97FF\",\"#FECB52\"],\"font\":{\"color\":\"#2a3f5f\"},\"geo\":{\"bgcolor\":\"white\",\"lakecolor\":\"white\",\"landcolor\":\"#E5ECF6\",\"showlakes\":true,\"showland\":true,\"subunitcolor\":\"white\"},\"hoverlabel\":{\"align\":\"left\"},\"hovermode\":\"closest\",\"mapbox\":{\"style\":\"light\"},\"paper_bgcolor\":\"white\",\"plot_bgcolor\":\"#E5ECF6\",\"polar\":{\"angularaxis\":{\"gridcolor\":\"white\",\"linecolor\":\"white\",\"ticks\":\"\"},\"bgcolor\":\"#E5ECF6\",\"radialaxis\":{\"gridcolor\":\"white\",\"linecolor\":\"white\",\"ticks\":\"\"}},\"scene\":{\"xaxis\":{\"backgroundcolor\":\"#E5ECF6\",\"gridcolor\":\"white\",\"gridwidth\":2,\"linecolor\":\"white\",\"showbackground\":true,\"ticks\":\"\",\"zerolinecolor\":\"white\"},\"yaxis\":{\"backgroundcolor\":\"#E5ECF6\",\"gridcolor\":\"white\",\"gridwidth\":2,\"linecolor\":\"white\",\"showbackground\":true,\"ticks\":\"\",\"zerolinecolor\":\"white\"},\"zaxis\":{\"backgroundcolor\":\"#E5ECF6\",\"gridcolor\":\"white\",\"gridwidth\":2,\"linecolor\":\"white\",\"showbackground\":true,\"ticks\":\"\",\"zerolinecolor\":\"white\"}},\"shapedefaults\":{\"line\":{\"color\":\"#2a3f5f\"}},\"ternary\":{\"aaxis\":{\"gridcolor\":\"white\",\"linecolor\":\"white\",\"ticks\":\"\"},\"baxis\":{\"gridcolor\":\"white\",\"linecolor\":\"white\",\"ticks\":\"\"},\"bgcolor\":\"#E5ECF6\",\"caxis\":{\"gridcolor\":\"white\",\"linecolor\":\"white\",\"ticks\":\"\"}},\"title\":{\"x\":0.05},\"xaxis\":{\"automargin\":true,\"gridcolor\":\"white\",\"linecolor\":\"white\",\"ticks\":\"\",\"title\":{\"standoff\":15},\"zerolinecolor\":\"white\",\"zerolinewidth\":2},\"yaxis\":{\"automargin\":true,\"gridcolor\":\"white\",\"linecolor\":\"white\",\"ticks\":\"\",\"title\":{\"standoff\":15},\"zerolinecolor\":\"white\",\"zerolinewidth\":2}}}},                        {\"responsive\": true}                    ).then(function(){\n",
       "                            \n",
       "var gd = document.getElementById('489f185e-15c7-4d0e-9704-5d361f38be6e');\n",
       "var x = new MutationObserver(function (mutations, observer) {{\n",
       "        var display = window.getComputedStyle(gd).display;\n",
       "        if (!display || display === 'none') {{\n",
       "            console.log([gd, 'removed!']);\n",
       "            Plotly.purge(gd);\n",
       "            observer.disconnect();\n",
       "        }}\n",
       "}});\n",
       "\n",
       "// Listen for the removal of the full notebook cells\n",
       "var notebookContainer = gd.closest('#notebook-container');\n",
       "if (notebookContainer) {{\n",
       "    x.observe(notebookContainer, {childList: true});\n",
       "}}\n",
       "\n",
       "// Listen for the clearing of the current output cell\n",
       "var outputEl = gd.closest('.output');\n",
       "if (outputEl) {{\n",
       "    x.observe(outputEl, {childList: true});\n",
       "}}\n",
       "\n",
       "                        })                };                });            </script>        </div>"
      ]
     },
     "metadata": {}
    }
   ],
   "metadata": {}
  },
  {
   "cell_type": "code",
   "execution_count": 5,
   "source": [
    "draw_sunburst(filtered_FC29_counting_df)"
   ],
   "outputs": [
    {
     "output_type": "display_data",
     "data": {
      "text/html": [
       "<div>                            <div id=\"6d74f85d-6c82-4510-83eb-d5fd77f9fef1\" class=\"plotly-graph-div\" style=\"height:525px; width:100%;\"></div>            <script type=\"text/javascript\">                require([\"plotly\"], function(Plotly) {                    window.PLOTLYENV=window.PLOTLYENV || {};                                    if (document.getElementById(\"6d74f85d-6c82-4510-83eb-d5fd77f9fef1\")) {                    Plotly.newPlot(                        \"6d74f85d-6c82-4510-83eb-d5fd77f9fef1\",                        [{\"branchvalues\":\"total\",\"customdata\":[[2.0,0.2130044843049327],[1.0,0.4954954954954955],[1.0,0.5681818181818182],[5.0,0.9275179856115108],[1.0,0.2405740695694478],[2.0,0.5286321327397815],[2.0,0.1906967378171566],[1.0,0.9330451039962608],[1.0,0.8834688346883469],[1.0,0.2685555362419607],[1.0,0.3063673311399265],[1.0,0.2361516034985422],[2.0,0.6771516788884601],[1.0,0.2772792534099066],[6.0,0.3220264558976892],[8.0,0.3373521196187972],[2.0,0.3196381142098273],[19.0,0.1367267747089705],[4.0,0.1972472472472472],[24.0,0.1266453928998803],[21.0,0.1175209380234506],[3.0,0.136896498534629],[21.0,0.1148665964292833],[19.0,0.1582444835407084],[24.0,0.1527639607374983],[22.0,0.1231919432993418],[2.0,0.3569311820875864],[1.0,0.3142011834319526],[4.0,0.4340314692749308],[2.0,0.5262512266928361],[1.0,0.5929675013319127],[3.0,0.8415235839747385],[5.0,0.45508982035928136],[1.0,0.5866666666666667],[1.0,0.8944213923467036],[1.0,0.5315068493150685],[1.0,0.2984305457952682],[5.0,0.4274387874076953],[6.0,0.2700884275278739],[1.0,0.9212535154680594],[11.0,0.23383838383838376],[3.0,0.1711936725986055],[2.0,0.3306106573317775],[16.0,0.3801719114219113],[2.0,0.1828770413064361],[1.0,0.1308179990722127],[1.0,0.4103846153846154],[3.0,0.3746572659616138],[1.0,0.9426751592356688],[1.0,0.9997120644975526],[1.0,0.3061875398681692],[1.0,0.8368592351505288],[1.0,0.1625154566331036],[19.0,0.1619615430173333],[2.0,0.109437751004016],[2.0,0.3006067291781577],[1.0,0.2596230001584033],[2.0,0.3055726600985222],[18.0,0.1410955347871235],[2.0,0.7334568554790895],[1.0,0.7508719481813653],[2.0,0.2206756756756757],[3.0,0.9978902953586498],[6.0,0.190210027100271],[1.0,0.7557529269277352],[8.0,0.8938326205287714],[35.0,0.91044501962094],[16.0,0.8361159929701232],[4.0,0.908524717789023],[24.0,0.7663170163170167],[82.0,0.8792709548448925],[64.0,0.8922610938108213],[35.0,0.9181959564541214],[5.0,0.7837575286574705],[2.0,0.8202443280977312],[1.0,0.7881818181818182],[2.0,0.2544592030360531],[1.0,0.4599877825290165],[1.0,0.4537381839014609],[1.0,0.8677685950413223],[3.0,0.23336527201107202],[2.0,0.2085036794766966],[1.0,0.3007703655138501],[2.0,0.3079656862745098],[1.0,0.5934803451581975],[32.0,0.4749931544359255],[22.0,0.1196474848542056],[3.0,0.2425980261403041],[2.0,0.2355019330755899],[1.0,0.271690629647992],[1.0,0.3841010401188707],[1.0,0.1762807583703106],[2.0,0.1738694139684238],[3.0,0.186919727220442],[1.0,0.1196331804918716],[1.0,0.7416835406421753],[1.0,0.3683127572016461],[1.0,0.9125],[1.0,0.1220815425717272],[2.0,0.1515333734215273],[6.0,0.1184104960120817],[1.0,0.1019861286254728],[2.0,0.1173310715295448],[1.0,0.1198756007916313],[10.0,0.1156435643564356],[1.0,0.1872015281757402],[1.0,0.5815630481387644],[2.0,1.0],[1.0,0.7707612456747405],[13.0,0.7951960490870997],[1.0,1.0],[1.0,0.3974358974358974],[1.0,0.1563388288800455],[1.0,0.1561791383219954],[1.0,0.4323144104803493],[1.0,0.2259541984732824],[6.0,0.585030549898167],[1.0,0.2722457627118644],[1.0,0.7481481481481481],[3.0,0.9696969696969696],[1.0,0.4792626728110599],[11.0,0.7183856502242153],[1.0,0.1255098839033573],[5.0,0.8046342270771267],[5.0,0.474368],[1.0,0.4456018518518518],[11.0,0.6069588392063962],[1.0,0.2857142857142857],[1.0,0.3008225616921269],[1.0,0.3356294536817102],[1.0,0.3825597749648382],[1.0,0.8923212709620476],[2.0,0.1663649529326575],[1.0,0.113582443653618],[1.0,0.744875708678587],[2.0,0.1407624633431085],[2.0,0.8242524916943521],[2.0,0.3011107254425547],[31.0,0.6594758064516129],[1.0,0.4809081527347781],[11.0,0.4765670939668352],[17.0,0.4739588292422829],[1.0,0.8953866146848602],[5.0,0.2646913580246913],[3.0,0.4582766439909296],[5.0,0.41646754924120105],[39.0,0.48665608092213586],[1.0,0.615703550142524],[1.0,0.3957783641160949],[1.0,0.5890596745027125],[9.0,0.7634316046194676],[1.0,0.7006651884700665],[1.0,0.5065772504513799],[1.0,0.8604651162790697],[1.0,0.4009691096305269],[1.0,0.5068493150684932],[1.0,0.3685503685503685],[1.0,0.3685503685503685],[7.0,0.1832993105573316],[7.0,0.2104462123832584],[1.0,0.8377501352082206],[1.0,0.9722814498933902],[3.0,0.6799537839399191],[3.0,0.7597960279119699],[1.0,0.2916906543849549],[7.0,0.6098142363965149],[3.0,0.4313725490196078],[19.0,0.2064350112001777],[1.0,0.7274119448698315],[8.0,0.2545582047685835],[6.0,0.8849642421070993],[1.0,0.3483551149166291],[1.0,0.6146044624746451],[4.0,0.5894803017602682],[1.0,0.109743321110529],[3.0,0.5569593598652348],[3.0,0.6574074074074074],[2.0,0.6115520282186949],[1.0,0.17061973986228],[1.0,0.5832675611681136],[20.0,0.3799915754001685],[1.0,0.6671698113207547],[1.0,0.4737620103473762],[1.0,0.1719022687609075],[2.0,0.1591534079748576],[6.0,0.3567023026315789],[43.0,0.1703201603455102],[1.0,0.3463957426221577],[23.0,0.40928020172690444],[6.0,0.4413787878787878],[1.0,0.1177100053504547],[1.0,0.4440780434185216],[1.0,1.0],[1.0,0.1801692865779927],[1.0,0.1575123510607381],[1.0,0.2183297947629157],[1.0,0.19129392971246],[2.0,0.1329388560157791],[8.0,0.2736233854520734],[1.0,1.0],[3.0,0.5362441712590081],[1.0,0.1543762922122674],[1.0,0.4921630094043887],[1.0,0.5056662758890191],[1.0,0.7252475247524752],[7.0,0.1579244074311339],[5.0,0.2020610224287735],[6.0,0.1633705475810739],[7.0,0.555815768930523],[1.0,0.136975328420378],[2.0,0.1624002202036884],[14.0,0.1894205443371378],[13.0,0.5385755830529738],[47.0,0.2794002517119384],[6.0,0.3693528693528693],[5.0,0.504225352112676],[141.0,0.3470783492858004],[3.0,0.5797385620915033],[136.0,0.3578679055101831],[31.0,0.3589542406253238],[59.0,0.6468633315739056],[42.0,0.2747797265111011],[4.0,0.343890134529148],[57.0,0.3622656266325161],[4.0,0.2139966508512419],[1.0,0.5659871244635193],[1.0,0.1788409054422861],[3.0,0.2511820330969267],[1.0,0.1544799176107106],[3.0,0.1235895393601486],[1.0,0.5861546235472461],[3.0,0.1290948798835234],[2.0,0.1578898828737434],[1.0,0.3105560032232071],[2.0,0.1272302463891249],[1.0,0.2865950676213206],[1.0,0.2639543537583726],[1.0,0.2555306984837186],[3.0,0.2324487739334901],[1.0,0.2072368421052631],[1.0,0.2594987873888439],[1.0,0.3466744006187162],[1.0,0.2622549019607843],[4.0,0.5829682365826944],[1.0,0.1611836059547877],[1.0,0.19375],[3.0,0.390875596012137],[4.0,0.5665231652316522],[1.0,0.1360454115421003],[1.0,0.2548262548262548],[1.0,0.9173419773095624],[1.0,1.0],[1.0,0.3684210526315789],[101.0,0.7330188516233824],[1.0,0.7138643067846607],[1.0,0.5535889872173058],[1.0,0.1907013396375098],[1.0,0.4930747922437673],[4.0,0.2344652459669388],[1.0,0.1609403254972875],[1.0,0.5674255691768827],[1.0,0.9585798816568049],[1.0,0.2940446650124069],[1.0,0.3847980997624703],[1.0,0.4033333333333333],[1.0,0.4822485207100592],[1.0,0.5042492917847026],[1.0,0.5460905349794238],[1.0,0.6742424242424242],[1.0,0.9766974688629972],[1.0,0.9700598802395208],[1.0,0.9152542372881356],[2.0,0.7994691831318195],[1.0,0.2701990940693142],[1.0,0.1748082357690755],[4.0,0.5107092696629214],[3.0,0.3857076350093109],[1.0,0.4281524926686217],[5.0,0.570890188434048],[1.0,0.3930555555555555],[15.0,0.1685697187312986],[1.0,0.8951219512195122],[1.0,0.3095967932091488],[11.0,0.1481767770122668],[1.0,0.1147587511825922],[4.0,0.3505519144532597],[3.0,0.833044982698962],[1.0,0.1070893659510733],[1.0,0.1070893659510733],[2.0,0.1847438276009704],[1.0,0.536723163841808],[1.0,0.1388286334056399],[2.0,0.2230520064783156],[2.0,0.2152311876699909],[2.0,0.2252407777575867],[1.0,0.139348735674004],[1.0,0.1788515051859347],[4.0,0.2192902638762511],[1.0,0.2165605095541401],[4.0,0.3944129819211501],[1.0,0.1789873417721519],[2.0,0.4627011744236624],[2.0,0.1914663461538461],[4.0,0.6128835037794576],[1.0,0.1787158746208291],[3.0,0.7073656270736564],[2.0,0.2194444444444444],[1.0,0.1787158746208291],[8.0,0.9232551799345692],[2.0,0.732981220657277],[2.0,0.694672131147541],[16.0,0.8853884372177055],[23.0,0.865876628472767],[1.0,0.9498117942283564],[8.0,0.5909694555112882],[1.0,0.2126436781609195],[1.0,0.4647619047619047],[2.0,0.6701289398280803],[2.0,0.4429336629583848],[4.0,0.5303391384051329],[5.0,0.1696755343687529],[3.0,0.2934442034225114],[2.0,0.9015151515151516],[11.0,0.2526368658965344],[4.0,0.1735542560103963],[8.0,0.2174311010517907],[3.0,0.1200535554894376],[10.0,0.1685699250098671],[1.0,0.7795841209829868],[1.0,0.1672473867595819],[1.0,0.139448073590188],[1.0,0.1138494508438253],[1.0,0.8147157190635451],[22.0,0.2299568133564949],[2.0,0.6082193599787545],[3.0,0.9590973201692524],[3.0,0.6927309585867363],[17.0,0.9017100783785926],[2.0,0.6910801963993454],[2.0,0.9563585171281088],[3.0,0.7423411065386375],[1.0,0.6269430051813472],[3.0,0.55825316842266],[1.0,0.1184627575277337],[1.0,0.260253164556962],[1.0,0.7307343608340888],[1.0,0.5011764705882353],[1.0,0.3424408014571949],[1.0,0.365296803652968],[1.0,0.2276315789473684],[1.0,0.2893481717011129],[3.0,0.4249182277728219],[1.0,0.5419039869812856],[1.0,0.1496344688131902],[1.0,0.146],[1.0,0.2283464566929134],[3.0,0.1386691012375735],[1.0,0.9945076500588466],[27.0,0.3089504439869404],[1.0,0.2300185873605948],[1.0,0.2784588441330998],[3.0,0.2039528808714081],[1.0,0.2420091324200913],[9.0,0.8911824668705403],[1.0,0.9927007299270072],[1.0,0.2441809398331137],[1.0,0.1565069464133824],[1.0,0.8401826484018264],[11.0,0.7279095685400414],[1.0,0.4112444725205306],[1.0,0.517442803829304],[1.0,0.7473630048880885],[6.0,0.1145418326693227],[1.0,0.1354806049484275],[1.0,0.649746192893401],[7.0,0.4593639575971732],[2.0,0.1271468512847823],[7.0,0.6585018035399716],[1.0,1.0],[3.0,0.37476979742173117],[2.0,0.9588620833914376],[1.0,0.1473125414731254],[1.0,0.3045537340619307],[1.0,0.1405285255618671],[4.0,0.1277015659376213],[1.0,0.1087939975725477],[1.0,0.1041941150636802],[1.0,0.1094406367455228],[1.0,0.1731025299600532],[1.0,0.4446564885496183],[1.0,0.7667224080267558],[1.0,0.2169637369391518],[1.0,0.3679154658981748],[1.0,0.3214723926380368],[1.0,0.2757225433526011],[1.0,0.1558149977548271],[2.0,0.2765432098765432],[1.0,0.2754041570438799],[1.0,0.2498516320474777],[1.0,0.2682660850599782],[1.0,0.8373493975903614],[2.0,0.3423394787031151],[1.0,0.3632717375734136],[1.0,0.2877172484299693],[3.0,0.1341163908168713],[4.0,0.3711620217288616],[6.0,0.3263046916183447],[267.0,0.1650536153561218],[1.0,0.4944852941176471],[47.0,0.722658019810776],[62.0,0.6050967302751492],[49.0,0.4852938107758441],[1.0,0.2065727699530516],[19.0,0.204360499767021],[2.0,0.3529411764705882],[2.0,0.8735714285714286],[24.0,0.7336974511751074],[2.0,0.2203468746362472],[3.0,0.7010065127294257],[5.0,0.3077757685352622],[105.0,0.5059421810339804],[247.0,0.6237367166190034],[5.0,0.8160137752905726],[1.0,0.2683280208635178],[1.0,0.7656103286384977],[1.0,0.8815897136177674],[1.0,0.3254281949934124],[1.0,0.2837423312883436],[1.0,0.2405891980360065],[1.0,0.1771700356718192],[2.0,0.1316989737742303],[1.0,0.4666666666666667],[32.0,0.4032183790421612],[10.0,0.3927389705882353],[1.0,0.7453416149068323],[1.0,0.2756892230576441],[10.0,0.2632718524458701],[19.0,0.4600989653621232],[1.0,0.1171875],[1.0,0.3159315931593159],[1.0,0.7496463932107497],[6.0,0.7421469960353767],[1.0,0.5900216919739696],[3.0,0.1519763263580638],[18.0,0.158083021104549],[2.0,0.1583460365853658],[1.0,0.1676509811392646],[1.0,0.3013333333333333],[19.0,0.2100820822437832],[15.0,0.160820161239129],[21.0,0.1733391394279182],[1.0,0.1370150965029619],[7.0,0.1545734448652625],[6.0,0.1534210024776062],[1.0,0.3000987166831194],[1.0,0.2918008422095615],[4.0,0.2266636891469406],[16.0,0.1818988370104327],[2.0,0.5318386568386568],[2.0,0.2130044843049327],[5.0,0.9275179856115108],[6.0,0.43537948577993074],[23.0,0.3737555581526857],[159.0,0.13719610200567275],[2.0,0.7129641208308861],[7.0,0.44326135913104975],[9.0,0.5992208172280594],[1.0,0.5866666666666667],[48.0,0.318828245470548],[4.0,0.3835891033173642],[4.0,0.7713584996879799],[22.0,0.15721183072593037],[2.0,0.3006067291781577],[3.0,0.29025610678514924],[280.0,0.862776383254051],[18.0,0.1410955347871235],[8.0,0.7066009870708556],[3.0,0.2392592414890811],[11.0,0.49265265981403666],[35.0,0.46883407599019516],[27.0,0.14189046708757833],[2.0,0.3278958348834313],[7.0,0.38612695142814557],[3.0,0.17467319543571938],[3.0,0.14171609647159394],[21.0,0.11955352477565619],[3.0,0.8605210160462547],[15.0,0.8072206589204692],[1.0,0.3974358974358974],[2.0,0.15625898360102045],[25.0,0.6591776621428393],[11.0,0.4196146081926907],[11.0,0.5927746381171811],[12.0,0.5935124235935175],[2.0,0.29326842370320627],[2.0,0.35909461432327416],[74.0,0.5391919914388633],[39.0,0.48665608092213586],[19.0,0.6412659340703586],[14.0,0.196872761470295],[1.0,0.8377501352082206],[4.0,0.7530357004282869],[42.0,0.352858067518504],[12.0,0.7192221864229119],[4.0,0.44515535017655833],[6.0,0.5609910030869821],[16.0,0.33329433980174117],[21.0,0.3896713842462611],[76.0,0.25939513391707886],[2.0,0.5704659108340655],[9.0,0.4677845306713004],[2.0,0.1688408188193654],[1.0,0.2183297947629157],[1.0,1.0],[11.0,0.24055988412369136],[5.0,0.45105436307873603],[14.0,0.23904926891452136],[558.0,0.37585607864585896],[4.0,0.2139966508512419],[1.0,0.5659871244635193],[17.0,0.1948159450218225],[1.0,0.2865950676213206],[5.0,0.2433662748085123],[4.0,0.2689162330184019],[6.0,0.44780109204759416],[3.0,0.390875596012137],[6.0,0.442827387882494],[104.0,0.7338525677298342],[24.0,0.5248413376096],[1.0,0.1748082357690755],[29.0,0.3242815432773626],[21.0,0.32622688803124344],[5.0,0.22407791018917908],[8.0,0.20065316411142875],[26.0,0.37336534289716133],[61.0,0.8231628968839787],[9.0,0.5346937404394851],[75.0,0.2544080696542253],[30.0,0.8602152305124954],[6.0,0.4467364054223371],[4.0,0.48491210913312177],[5.0,0.3583468867933894],[63.0,0.472223608333183],[2.0,0.3457692278972379],[40.0,0.37548737994161424],[3.0,0.5586834270793076],[2.0,0.30887950925483576],[1.0,0.7667224080267558],[11.0,0.32016789346159774],[4.0,0.33391698585240326],[461.0,0.32204826802153586],[141.0,0.5429957647095778],[247.0,0.6237367166190034],[8.0,0.7494496174465807],[1.0,0.3254281949934124],[81.0,0.3838357137272301],[7.0,0.7432183384890013],[1.0,0.5900216919739696],[94.0,0.17309190299180785],[1.0,0.3000987166831194],[21.0,0.1956589043316308],[119.0,0.39149164995822905],[3.0,0.14171609647159394],[380.0,0.7504176174986564],[816.0,0.25628868905233637],[25.0,0.6591776621428393],[1.0,0.2865950676213206],[1694.0,0.4458047106851237],[15.0,0.4274534202022305],[116.0,0.39400142694937046],[1.0,0.1748082357690755],[19.0,0.7940688857569316],[4.0,0.3835891033173642],[30.0,0.8602152305124954],[152.0,0.6515743634247398],[1.0,0.5659871244635193],[318.0,0.561590764667392],[1721.0,0.44888238727500696],[1312.0,0.41158112076396564],[25.0,0.6591776621428393]],\"domain\":{\"x\":[0.0,1.0],\"y\":[0.0,1.0]},\"hovertemplate\":\"labels=%{label}<br>Counting=%{customdata[0]}<br>parent=%{parent}<br>id=%{id}<br>mean_subcov=%{color}<extra></extra>\",\"ids\":[\"LTR/Gypsy/ACCORD2/ACCORD2_LTR_2R_RaGOO_780158_781719\",\"LTR/Gypsy/ACCORD/ACCORD_LTR_2L_RaGOO_22631471_22632026\",\"LTR/Gypsy/ACCORD/ACCORD_LTR_2R_RaGOO_10985734_10986218\",\"DNA/TcMar-Tc1/BARI1/BARI1_2L_RaGOO_21112657_21113769\",\"LTR/Pao/BATUMI/BATUMI_I_3R_RaGOO_2416724_2424946\",\"LTR/Pao/BATUMI/BATUMI_LTR_2R_RaGOO_4345307_4350249\",\"LTR/Pao/BATUMI/BATUMI_LTR_3L_RaGOO_23406069_23411035\",\"LTR/Pao/BATUMI/BATUMI_LTR_3L_RaGOO_24966975_24975533\",\"LTR/Pao/BEL/BEL_I_2L_RaGOO_22140085_22145620\",\"LTR/Pao/BEL/BEL_I_2R_RaGOO_2039893_2045646\",\"LTR/Pao/BEL/BEL_I_2R_RaGOO_2083395_2088562\",\"LTR/Pao/BEL/BEL_I_2R_RaGOO_23360371_23363115\",\"LTR/Pao/BEL/BEL_I_3L_RaGOO_26289408_26291999\",\"LTR/Pao/BEL/BEL_LTR_2R_RaGOO_2034320_2039892\",\"LTR/Pao/BEL/BEL_LTR_2R_RaGOO_2068892_2074965\",\"LTR/Pao/BEL/BEL_LTR_3R_RaGOO_11276926_11283012\",\"LTR/Pao/BEL/BEL_LTR_3R_RaGOO_2548314_2554338\",\"LTR/Gypsy/BLASTOPIA/BLASTOPIA_I_3R_RaGOO_11787155_11791536\",\"LTR/Gypsy/BLASTOPIA/BLASTOPIA_I_3R_RaGOO_3126038_3131033\",\"LTR/Gypsy/BLASTOPIA/BLASTOPIA_LTR_2R_RaGOO_2878638_2883652\",\"LTR/Gypsy/BLASTOPIA/BLASTOPIA_LTR_2R_RaGOO_3217647_3222622\",\"LTR/Gypsy/BLASTOPIA/BLASTOPIA_LTR_2R_RaGOO_3837273_3841595\",\"LTR/Gypsy/BLASTOPIA/BLASTOPIA_LTR_3L_RaGOO_23419160_23424177\",\"LTR/Gypsy/BLASTOPIA/BLASTOPIA_LTR_3L_RaGOO_23460661_23465627\",\"LTR/Gypsy/BLASTOPIA/BLASTOPIA_LTR_3R_RaGOO_8215021_8220047\",\"LTR/Gypsy/BLASTOPIA/BLASTOPIA_LTR_X_RaGOO_10104239_10109267\",\"LTR/Gypsy/BLASTOPIA/BLASTOPIA_LTR_X_RaGOO_8707375_8710412\",\"LINE/I-Jockey/BS2/BS2_2R_RaGOO_2406301_2407991\",\"LINE/I-Jockey/BS2/BS2_2R_RaGOO_3748515_3753218\",\"LINE/I-Jockey/BS2/BS2_3L_RaGOO_25323736_25325774\",\"LINE/I-Jockey/BS3_DM/BS3_DM_3L_RaGOO_23041919_23043796\",\"LINE/I-Jockey/BS3_DM/BS3_DM_3L_RaGOO_23572783_23574472\",\"LINE/I-Jockey/BS3_DM/BS3_DM_3R_RaGOO_1150409_1151578\",\"LINE/I-Jockey/BS4_DM/BS4_DM_3R_RaGOO_4052534_4053284\",\"LINE/I-Jockey/BS/BS_2L_RaGOO_21012781_21017119\",\"LINE/I-Jockey/BS/BS_3L_RaGOO_26196418_26197513\",\"LTR/Gypsy/BURDOCK/BURDOCK_I_2R_RaGOO_1726260_1734798\",\"LTR/Gypsy/BURDOCK/BURDOCK_LTR_2L_RaGOO_4499214_4501787\",\"LTR/Gypsy/BURDOCK/BURDOCK_LTR_2R_RaGOO_14046385_14048986\",\"LTR/Gypsy/BURDOCK/BURDOCK_LTR_2R_RaGOO_1428763_1433741\",\"LTR/Gypsy/BURDOCK/BURDOCK_LTR_2R_RaGOO_18620960_18624380\",\"LTR/Gypsy/BURDOCK/BURDOCK_LTR_2R_RaGOO_216960_223366\",\"LTR/Gypsy/BURDOCK/BURDOCK_LTR_2R_RaGOO_5173682_5176253\",\"LTR/Gypsy/BURDOCK/BURDOCK_LTR_3L_RaGOO_10638503_10641077\",\"LTR/Gypsy/BURDOCK/BURDOCK_LTR_3R_RaGOO_24036640_24040804\",\"LTR/Gypsy/BURDOCK/BURDOCK_LTR_3R_RaGOO_30423715_30430182\",\"LINE/R1-LOA/Baggins1/Baggins1_3R_RaGOO_1477244_1479844\",\"LINE/R1-LOA/Baggins1/Baggins1_X_RaGOO_21982566_21987672\",\"LTR/Gypsy/Bica/Bica_LTR_2R_RaGOO_3530447_3531703\",\"LTR/Gypsy/Bica/Bica_LTR_3R_RaGOO_2884824_2888297\",\"LTR/Gypsy/Bica/Bica_LTR_3R_RaGOO_756222_760925\",\"LTR/Gypsy/Bica/Bica_LTR_3R_RaGOO_935684_940600\",\"LTR/Gypsy/CIRCE/CIRCE_2L_RaGOO_22747719_22753380\",\"LTR/Gypsy/CIRCE/CIRCE_3R_RaGOO_3073861_3079193\",\"LTR/Gypsy/CIRCE/CIRCE_3R_RaGOO_661262_663254\",\"LTR/Gypsy/Chimpo/Chimpo_LTR_3L_RaGOO_16584918_16588544\",\"LTR/Gypsy/Chouto/Chouto_I_3R_RaGOO_2003553_2009866\",\"LTR/Gypsy/Chouto/Chouto_LTR_3R_RaGOO_2874586_2881082\",\"LTR/Copia/Copia1/Copia1-I_DM_2R_RaGOO_2841061_2845341\",\"LTR/Copia/Copia2/Copia2_I_2L_RaGOO_22533654_22535543\",\"LTR/Copia/Copia2/Copia2_I_2L_RaGOO_22537082_22539089\",\"LTR/Copia/Copia2/Copia2_I_3L_RaGOO_23755452_23759152\",\"LTR/Copia/Copia2/Copia2_I_3L_RaGOO_25902823_25904087\",\"LTR/Copia/Copia/Copia_I_3R_RaGOO_1738736_1739720\",\"LTR/Copia/Copia/Copia_LTR_2L_RaGOO_12650_17604\",\"LTR/Copia/Copia/Copia_LTR_2L_RaGOO_13770083_13775227\",\"LTR/Copia/Copia/Copia_LTR_2L_RaGOO_14753817_14758950\",\"LTR/Copia/Copia/Copia_LTR_2L_RaGOO_21771835_21776956\",\"LTR/Copia/Copia/Copia_LTR_2L_RaGOO_9004503_9009641\",\"LTR/Copia/Copia/Copia_LTR_2R_RaGOO_20482857_20488005\",\"LTR/Copia/Copia/Copia_LTR_3L_RaGOO_10022428_10027467\",\"LTR/Copia/Copia/Copia_LTR_3L_RaGOO_10052506_10057644\",\"LTR/Copia/Copia/Copia_LTR_3L_RaGOO_17623155_17628299\",\"LTR/Copia/Copia/Copia_LTR_3R_RaGOO_1372041_1377188\",\"LTR/Pao/DIVER2/DIVER2_I_2R_RaGOO_226749_227895\",\"LTR/Pao/DIVER2/DIVER2_I_2R_RaGOO_2625663_2626763\",\"LTR/Pao/DIVER2/DIVER2_I_2R_RaGOO_3973922_3976557\",\"LTR/Pao/DIVER2/DIVER2_LTR_2R_RaGOO_32697_34334\",\"LTR/Pao/DIVER2/DIVER2_LTR_3L_RaGOO_23132660_23136151\",\"LTR/Pao/DIVER2/DIVER2_LTR_3L_RaGOO_24400525_24401251\",\"LTR/Pao/DIVER2/DIVER2_LTR_3R_RaGOO_2278224_2281355\",\"LTR/Pao/DIVER/DIVER_LTR_3L_RaGOO_23629771_23635886\",\"LTR/Pao/DIVER/DIVER_LTR_3L_RaGOO_23659267_23665368\",\"LTR/Copia/DM1731/DM1731_I_2R_RaGOO_2509093_2513173\",\"LTR/Copia/DM1731/DM1731_I_2R_RaGOO_3224667_3226753\",\"LTR/Copia/DM1731/DM1731_LTR_3L_RaGOO_24209333_24213898\",\"LTR/Gypsy/DM176/DM176_I_2R_RaGOO_196886_202183\",\"LTR/Gypsy/DM176/DM176_LTR_2R_RaGOO_1810865_1818363\",\"LTR/Gypsy/DM176/DM176_LTR_3R_RaGOO_16769763_16777264\",\"LTR/Gypsy/DM297/DM297_I_2R_RaGOO_16168_20202\",\"LTR/Gypsy/DM297/DM297_LTR_3R_RaGOO_29474982_29479020\",\"LTR/Gypsy/DM412B/DM412B_LTR_2R_RaGOO_15154633_15162070\",\"LTR/Gypsy/DM412B/DM412B_LTR_3R_RaGOO_21307972_21315446\",\"LTR/Gypsy/DM412/DM412_2R_RaGOO_2546519_2550576\",\"LTR/Gypsy/DM412/DM412_2R_RaGOO_3802214_3804613\",\"LTR/Gypsy/DM412/DM412_3L_RaGOO_23966181_23969638\",\"LTR/Gypsy/DM412/DM412_3R_RaGOO_1828602_1829088\",\"LTR/Gypsy/DM412/DM412_X_RaGOO_21683716_21684196\",\"LINE/CR1/DMCR1A/DMCR1A_2R_RaGOO_1696052_1704661\",\"LINE/CR1/DMCR1A/DMCR1A_3R_RaGOO_3606626_3614941\",\"LTR/Gypsy/DMLTR5/DMLTR5_2R_RaGOO_209115_216178\",\"LTR/Gypsy/DMLTR5/DMLTR5_3L_RaGOO_20040252_20046596\",\"LTR/Gypsy/DMLTR5/DMLTR5_3L_RaGOO_9000054_9007128\",\"LTR/Gypsy/DMLTR5/DMLTR5_3R_RaGOO_4864395_4871469\",\"LTR/Gypsy/DMLTR5/DMLTR5_X_RaGOO_1828728_1835798\",\"LTR/Gypsy/DMLTR5/DMLTR5_X_RaGOO_51338_54479\",\"LINE/R1/DMRT1A/DMRT1A_2R_RaGOO_2314724_2319855\",\"LINE/R1/DMRT1A/DMRT1A_2R_RaGOO_3571985_3576878\",\"LINE/R1/DMRT1B/DMRT1B_2R_RaGOO_4313497_4314653\",\"LINE/R1/DMRT1B/DMRT1B_2R_RaGOO_4404275_4406331\",\"LINE/R1/DMRT1B/DMRT1B_X_RaGOO_18329002_18330754\",\"LINE/R1/DMRT1C/DMRT1C_X_RaGOO_20495200_20495668\",\"LTR/Gypsy/DMTOM1/DMTOM1_LTR_3L_RaGOO_25120882_25124400\",\"LTR/Gypsy/DMTOM1/DMTOM1_LTR_3L_RaGOO_25153928_25157456\",\"RC/Helitron/DNAREP1_DM/DNAREP1_DM_2R_RaGOO_2628409_2628867\",\"RC/Helitron/DNAREP1_DM/DNAREP1_DM_2R_RaGOO_3774996_3775651\",\"RC/Helitron/DNAREP1_DM/DNAREP1_DM_2R_RaGOO_5274469_5275451\",\"RC/Helitron/DNAREP1_DM/DNAREP1_DM_3L_RaGOO_22591311_22592255\",\"RC/Helitron/DNAREP1_DM/DNAREP1_DM_3L_RaGOO_23563089_23563359\",\"RC/Helitron/DNAREP1_DM/DNAREP1_DM_3R_RaGOO_3632660_3633639\",\"RC/Helitron/DNAREP1_DM/DNAREP1_DM_3R_RaGOO_3758706_3759140\",\"RC/Helitron/DNAREP1_DM/DNAREP1_DM_X_RaGOO_712208_713323\",\"LINE/I-Jockey/DOC2_DM/DOC2_DM_2L_RaGOO_22281476_22284663\",\"LINE/I-Jockey/DOC2_DM/DOC2_DM_2R_RaGOO_3631456_3634477\",\"LINE/I-Jockey/DOC2_DM/DOC2_DM_2R_RaGOO_4321721_4324846\",\"LINE/I-Jockey/DOC3_DM/DOC3_DM_2R_RaGOO_860527_861391\",\"LINE/I-Jockey/DOC3_DM/DOC3_DM_3R_RaGOO_2983770_2986840\",\"LINE/I-Jockey/DOC4_DM/DOC4_DM_2R_RaGOO_3295532_3296428\",\"LINE/I-Jockey/DOC4_DM/DOC4_DM_2R_RaGOO_3363873_3364724\",\"LINE/I-Jockey/DOC6_DM/DOC6_DM_2L_RaGOO_8926966_8931176\",\"LINE/I-Jockey/DOC6_DM/DOC6_DM_3R_RaGOO_12924881_12926303\",\"LINE/I-Jockey/DOC/DOC_2L_RaGOO_10374119_10376385\",\"LINE/I-Jockey/DOC/DOC_2L_RaGOO_11197822_11200584\",\"LINE/I-Jockey/DOC/DOC_2R_RaGOO_2456335_2459707\",\"LINE/I-Jockey/DOC/DOC_3L_RaGOO_11738950_11741243\",\"LINE/I-Jockey/DOC/DOC_3L_RaGOO_24733562_24735608\",\"LINE/I-Jockey/DOC/DOC_3R_RaGOO_24532793_24537308\",\"LINE/I-Jockey/DOC/DOC_3R_RaGOO_2584606_2587487\",\"DNA/TcMar-Tc1/FB4_DM/FB4_DM_2R_RaGOO_3378778_3380218\",\"DNA/TcMar-Tc1/FB4_DM/FB4_DM_2R_RaGOO_4872115_4873084\",\"DNA/TcMar-Tc1/FB4_DM/FB4_DM_3R_RaGOO_16914758_16917850\",\"DNA/TcMar-Tc1/FB4_DM/FB4_DM_3R_RaGOO_16921110_16924199\",\"DNA/TcMar-Tc1/FB4_DM/FB4_DM_3R_RaGOO_30986386_30987925\",\"DNA/TcMar-Tc1/FB4_DM/FB4_DM_3R_RaGOO_4811780_4813400\",\"DNA/TcMar-Tc1/FB4_DM/FB4_DM_X_RaGOO_21327350_21328820\",\"DNA/TcMar-Tc1/FB4_DM/FB4_DM_X_RaGOO_2599171_2602268\",\"LTR/Copia/FROGGER/FROGGER_LTR_2R_RaGOO_3942161_3946521\",\"LINE/I-Jockey/FW2_DM/FW2_DM_2L_RaGOO_1444418_1448277\",\"LINE/I-Jockey/FW2_DM/FW2_DM_2L_RaGOO_22126527_22126906\",\"LINE/I-Jockey/FW2_DM/FW2_DM_2R_RaGOO_16422077_16426501\",\"LINE/I-Jockey/FW2_DM/FW2_DM_2R_RaGOO_4440629_4442178\",\"LINE/I-Jockey/FW2_DM/FW2_DM_2R_RaGOO_837106_838459\",\"LINE/I-Jockey/FW2_DM/FW2_DM_2R_RaGOO_9471212_9475089\",\"LINE/I-Jockey/FW2_DM/FW2_DM_2R_RaGOO_9475282_9475454\",\"LINE/I-Jockey/FW2_DM/FW2_DM_3L_RaGOO_15544081_15545732\",\"LINE/I-Jockey/FW2_DM/FW2_DM_3L_RaGOO_25270388_25271045\",\"LINE/I-Jockey/FW2_DM/FW2_DM_3L_RaGOO_25468282_25468689\",\"LINE/I-Jockey/FW2_DM/FW2_DM_3R_RaGOO_23975283_23975690\",\"LINE/I-Jockey/FW3_DM/FW3_DM_3L_RaGOO_24482361_24486070\",\"LINE/I-Jockey/FW3_DM/FW3_DM_3R_RaGOO_2079747_2081812\",\"LINE/I-Jockey/G2_DM/G2_DM_2R_RaGOO_3025369_3027218\",\"LINE/I-Jockey/G3_DM/G3_DM_3L_RaGOO_24448303_24448772\",\"LINE/I-Jockey/G3_DM/G3_DM_3R_RaGOO_987129_988860\",\"LINE/I-Jockey/G4_DM/G4_DM_2R_RaGOO_3770363_3771605\",\"LINE/I-Jockey/G4_DM/G4_DM_2R_RaGOO_5428573_5433784\",\"LINE/I-Jockey/G4_DM/G4_DM_3L_RaGOO_24449098_24450836\",\"LINE/I-Jockey/G4_DM/G4_DM_3L_RaGOO_25463237_25464087\",\"LINE/I-Jockey/G4_DM/G4_DM_3L_RaGOO_25501627_25504470\",\"LINE/I-Jockey/G4_DM/G4_DM_3R_RaGOO_2542636_2543942\",\"LINE/I-Jockey/G4_DM/G4_DM_3R_RaGOO_3291399_3294964\",\"LINE/I-Jockey/G5A_DM/G5A_DM_2R_RaGOO_3275262_3277173\",\"LINE/I-Jockey/G5A_DM/G5A_DM_2R_RaGOO_4442347_4444566\",\"LINE/I-Jockey/G5A_DM/G5A_DM_3L_RaGOO_23341585_23343064\",\"LINE/I-Jockey/G5A_DM/G5A_DM_X_RaGOO_21990167_21991360\",\"LINE/I-Jockey/G5_DM/G5_DM_2R_RaGOO_2445224_2449042\",\"LINE/I-Jockey/G5_DM/G5_DM_3R_RaGOO_5264596_5267762\",\"LINE/I-Jockey/G_DM/G_DM_2R_RaGOO_1024944_1025700\",\"LINE/I-Jockey/G_DM/G_DM_2R_RaGOO_4175900_4177034\",\"LINE/I-Jockey/G_DM/G_DM_3R_RaGOO_683694_686308\",\"LTR/Gypsy/Gypsy10/Gypsy10_I_3L_RaGOO_23680911_23682178\",\"LTR/Gypsy/Gypsy10/Gypsy10_I_3R_RaGOO_761442_762629\",\"LTR/Gypsy/Gypsy12A/Gypsy12A_LTR_3R_RaGOO_1864004_1865329\",\"LTR/Gypsy/Gypsy12A/Gypsy12A_LTR_3R_RaGOO_3432347_3433700\",\"LTR/Gypsy/Gypsy12/Gypsy12_I_3R_RaGOO_11767009_11769301\",\"LTR/Gypsy/Gypsy12/Gypsy12_LTR_2R_RaGOO_1299099_1309281\",\"LTR/Gypsy/Gypsy12/Gypsy12_LTR_3R_RaGOO_2266515_2268947\",\"LTR/Gypsy/Gypsy12/Gypsy12_LTR_3R_RaGOO_842982_854376\",\"LTR/Gypsy/Gypsy12/Gypsy12_LTR_3R_RaGOO_854376_858510\",\"LTR/Gypsy/Gypsy12/Gypsy12_LTR_3R_RaGOO_960900_963176\",\"LTR/Gypsy/Gypsy2/Gypsy2-I_DM_2R_RaGOO_545702_556702\",\"LTR/Gypsy/Gypsy2/Gypsy2-I_DM_X_RaGOO_21780820_21782689\",\"LTR/Gypsy/Gypsy2/Gypsy2_I_2R_RaGOO_2754731_2758370\",\"LTR/Gypsy/Gypsy2/Gypsy2_LTR_3R_RaGOO_795037_796049\",\"LTR/Gypsy/Gypsy4/Gypsy4_I_3L_RaGOO_24436421_24438902\",\"LTR/Gypsy/Gypsy4/Gypsy4_I_3R_RaGOO_1706691_1713573\",\"LTR/Gypsy/Gypsy5/Gypsy5_LTR_3L_RaGOO_22847293_22850119\",\"LTR/Gypsy/Gypsy6A/Gypsy6A_LTR_2R_RaGOO_1594276_1596780\",\"LTR/Gypsy/Gypsy6A/Gypsy6A_LTR_2R_RaGOO_2192166_2199771\",\"LTR/Gypsy/Gypsy6A/Gypsy6A_LTR_2R_RaGOO_2808245_2809716\",\"LTR/Gypsy/Gypsy6/Gypsy6_I_3L_RaGOO_24203509_24205270\",\"LTR/Gypsy/Gypsy8/Gypsy8_I_2R_RaGOO_2534282_2536641\",\"LTR/Gypsy/Gypsy8/Gypsy8_I_2R_RaGOO_3245111_3248013\",\"LTR/Gypsy/Gypsy8/Gypsy8_I_3L_RaGOO_23435681_23436000\",\"LTR/Gypsy/Gypsy9/Gypsy9_I_2R_RaGOO_4520165_4522724\",\"LTR/Gypsy/Gypsy9/Gypsy9_I_3R_RaGOO_1751109_1752321\",\"LTR/Gypsy/Gypsy9/Gypsy9_LTR_2R_RaGOO_1564853_1570428\",\"LTR/Gypsy/Gypsy9/Gypsy9_LTR_3L_RaGOO_24678043_24682992\",\"LTR/Gypsy/Gypsy/Gypsy_I_3R_RaGOO_4187299_4190434\",\"LTR/Gypsy/Gypsy/Gypsy_LTR_2R_RaGOO_3014728_3015826\",\"LTR/Gypsy/Gypsy/Gypsy_LTR_2R_RaGOO_3023081_3029323\",\"LTR/Gypsy/Gypsy/Gypsy_LTR_X_RaGOO_21952250_21959516\",\"LINE/I-Jockey/HETA/HETA_2R_RaGOO_1141073_1145629\",\"LINE/I-Jockey/HETA/HETA_2R_RaGOO_2824725_2826074\",\"LINE/I-Jockey/HETA/HETA_2R_RaGOO_2831691_2835985\",\"LINE/I-Jockey/HETA/HETA_2R_RaGOO_3703418_3705329\",\"LINE/I-Jockey/HETA/HETA_2R_RaGOO_3705344_3707190\",\"LINE/I-Jockey/HETA/HETA_3L_RaGOO_12349_18402\",\"LINE/I-Jockey/HETA/HETA_3L_RaGOO_1459_2479\",\"LINE/I-Jockey/HETA/HETA_3L_RaGOO_18403_20679\",\"LINE/I-Jockey/HETA/HETA_3L_RaGOO_24251790_24258327\",\"LINE/I-Jockey/HETA/HETA_3L_RaGOO_24251825_24252692\",\"LINE/I-Jockey/HETA/HETA_X_RaGOO_3925_6784\",\"LINE/I-Jockey/HETA/HETA_X_RaGOO_85920_94840\",\"LINE/I-Jockey/HETA/HETA_X_RaGOO_87709_93586\",\"LTR/Gypsy/HMSBEAGLE/HMSBEAGLE_I_X_RaGOO_20979244_20982827\",\"DNA/hAT-hobo/HOBO/HOBO_2R_RaGOO_7159203_7161067\",\"LTR/Gypsy/IDEFIX/IDEFIX_I_2L_RaGOO_1826802_1833031\",\"LTR/Gypsy/IDEFIX/IDEFIX_I_2R_RaGOO_1769992_1776196\",\"LTR/Gypsy/IDEFIX/IDEFIX_I_3L_RaGOO_23168345_23170287\",\"LTR/Gypsy/IDEFIX/IDEFIX_I_3L_RaGOO_25115262_25120284\",\"LTR/Gypsy/IDEFIX/IDEFIX_I_3L_RaGOO_26187834_26189813\",\"LTR/Gypsy/IDEFIX/IDEFIX_I_3R_RaGOO_1951636_1955757\",\"LTR/Gypsy/IDEFIX/IDEFIX_I_3R_RaGOO_3401465_3412308\",\"LTR/Gypsy/IDEFIX/IDEFIX_LTR_3L_RaGOO_20046597_20052802\",\"LTR/Gypsy/IDEFIX/IDEFIX_LTR_3L_RaGOO_24086580_24091288\",\"LINE/I/I_DM/I_DM_3R_RaGOO_2656520_2661548\",\"LTR/Gypsy/Invader1/Invader1_LTR_2R_RaGOO_4582435_4586466\",\"LTR/Gypsy/Invader1/Invader1_LTR_2R_RaGOO_4667269_4671292\",\"LTR/Gypsy/Invader1/Invader1_LTR_3L_RaGOO_25028557_25031534\",\"LTR/Gypsy/Invader2/Invader2_LTR_2L_RaGOO_21812134_21815478\",\"LTR/Gypsy/Invader2/Invader2_LTR_2L_RaGOO_21838879_21843827\",\"LTR/Gypsy/Invader2/Invader2_LTR_2R_RaGOO_1490054_1495226\",\"LTR/Gypsy/Invader2/Invader2_LTR_3R_RaGOO_3025165_3030061\",\"LTR/Gypsy/Invader3/Invader3_I_2R_RaGOO_4009780_4011606\",\"LTR/Gypsy/Invader3/Invader3_LTR_2R_RaGOO_1085221_1090662\",\"LTR/Gypsy/Invader3/Invader3_LTR_3L_RaGOO_25707637_25710357\",\"LTR/Gypsy/Invader4/Invader4_LTR_4_RaGOO_899649_902725\",\"LTR/Gypsy/Invader6/Invader6_I_3L_RaGOO_25623224_25628102\",\"LTR/Gypsy/Invader6/Invader6_LTR_3L_RaGOO_25617938_25623223\",\"LTR/Gypsy/Invader6/Invader6_LTR_3R_RaGOO_2712551_2717731\",\"LINE/I-Jockey/Jockey2/Jockey2_3L_RaGOO_23444902_23445519\",\"LINE/I-Jockey/Jockey2/Jockey2_X_RaGOO_20630903_20633313\",\"LINE/I-Jockey/Jockey2/Jockey2_X_RaGOO_21267965_21268839\",\"LINE/I-Jockey/Jockey2/Jockey2_X_RaGOO_21275337_21276483\",\"LINE/I-Jockey/LINEJ1_DM/LINEJ1_DM_2L_RaGOO_14486763_14487102\",\"LINE/I-Jockey/LINEJ1_DM/LINEJ1_DM_2L_RaGOO_21781469_21782486\",\"LINE/I-Jockey/LINEJ1_DM/LINEJ1_DM_2R_RaGOO_13409014_13410283\",\"LINE/I-Jockey/LINEJ1_DM/LINEJ1_DM_2R_RaGOO_14196105_14196466\",\"LINE/I-Jockey/LINEJ1_DM/LINEJ1_DM_2R_RaGOO_14471638_14476659\",\"LINE/I-Jockey/LINEJ1_DM/LINEJ1_DM_2R_RaGOO_15316919_15318025\",\"LINE/I-Jockey/LINEJ1_DM/LINEJ1_DM_2R_RaGOO_16066858_16067429\",\"LINE/I-Jockey/LINEJ1_DM/LINEJ1_DM_2R_RaGOO_17291470_17291808\",\"LINE/I-Jockey/LINEJ1_DM/LINEJ1_DM_2R_RaGOO_4418576_4420188\",\"LINE/I-Jockey/LINEJ1_DM/LINEJ1_DM_3L_RaGOO_22260268_22261110\",\"LINE/I-Jockey/LINEJ1_DM/LINEJ1_DM_3L_RaGOO_22531026_22531626\",\"LINE/I-Jockey/LINEJ1_DM/LINEJ1_DM_3L_RaGOO_2446918_2447256\",\"LINE/I-Jockey/LINEJ1_DM/LINEJ1_DM_3L_RaGOO_2780157_2780510\",\"LINE/I-Jockey/LINEJ1_DM/LINEJ1_DM_3L_RaGOO_8152194_8154624\",\"LINE/I-Jockey/LINEJ1_DM/LINEJ1_DM_3R_RaGOO_19526132_19526396\",\"LINE/I-Jockey/LINEJ1_DM/LINEJ1_DM_3R_RaGOO_7164645_7169623\",\"LINE/I-Jockey/LINEJ1_DM/LINEJ1_DM_X_RaGOO_14865499_14865833\",\"LINE/I-Jockey/LINEJ1_DM/LINEJ1_DM_X_RaGOO_16362095_16362449\",\"LINE/I-Jockey/LINEJ1_DM/LINEJ1_DM_X_RaGOO_19652833_19656224\",\"LINE/I-Jockey/LINEJ1_DM/LINEJ1_DM_X_RaGOO_7424439_7433932\",\"DNA/PiggyBac/LOOPER1_DM/LOOPER1_DM_2R_RaGOO_3949985_3952462\",\"DNA/CMC-Transib/M4DM/M4DM_2L_RaGOO_20556174_20557598\",\"DNA/CMC-Transib/M4DM/M4DM_2R_RaGOO_2014409_2015841\",\"DNA/CMC-Transib/M4DM/M4DM_2R_RaGOO_344818_345841\",\"DNA/CMC-Transib/M4DM/M4DM_2R_RaGOO_4214054_4215593\",\"DNA/CMC-Transib/M4DM/M4DM_3L_RaGOO_22270623_22272063\",\"DNA/CMC-Transib/M4DM/M4DM_3L_RaGOO_25693372_25696157\",\"LTR/Pao/MAX/MAX_LTR_2R_RaGOO_137030_138260\",\"LTR/Pao/MAX/MAX_LTR_3L_RaGOO_18036944_18045426\",\"LTR/Pao/MAX/MAX_LTR_3L_RaGOO_24378598_24386713\",\"LTR/Pao/MAX/MAX_LTR_3L_RaGOO_24772475_24783045\",\"LTR/Pao/MAX/MAX_LTR_3L_RaGOO_3640512_3649209\",\"LTR/Pao/MAX/MAX_LTR_3R_RaGOO_2817082_2818238\",\"LTR/Gypsy/MDG1/MDG1_I_3L_RaGOO_5843715_5847721\",\"LTR/Gypsy/MDG1/MDG1_I_3L_RaGOO_5902786_5906792\",\"LTR/Gypsy/MDG1/MDG1_LTR_3L_RaGOO_22730419_22737426\",\"LTR/Gypsy/MDG1/MDG1_LTR_X_RaGOO_6133671_6134025\",\"LTR/Gypsy/MDG3/MDG3_LTR_3R_RaGOO_4405841_4411373\",\"LTR/Gypsy/MDG3/MDG3_LTR_X_RaGOO_11132720_11138277\",\"LTR/Gypsy/MDG3/MDG3_LTR_X_RaGOO_11298256_11303771\",\"LTR/Gypsy/MDG3/MDG3_LTR_X_RaGOO_14587062_14592565\",\"LTR/Gypsy/MDG3/MDG3_LTR_X_RaGOO_15113881_15119378\",\"LTR/Gypsy/MICROPIA/MICROPIA_I_2R_RaGOO_21655615_21659568\",\"LTR/Gypsy/MICROPIA/MICROPIA_I_2R_RaGOO_3123540_3124639\",\"LTR/Gypsy/MICROPIA/MICROPIA_I_2R_RaGOO_3215745_3216844\",\"LTR/Gypsy/MICROPIA/MICROPIA_I_3L_RaGOO_4604350_4608941\",\"LTR/Gypsy/MICROPIA/MICROPIA_I_3R_RaGOO_15561841_15565791\",\"LTR/Gypsy/MICROPIA/MICROPIA_I_3R_RaGOO_23396903_23401501\",\"LTR/Gypsy/MICROPIA/MICROPIA_I_3R_RaGOO_23423966_23428126\",\"LTR/Gypsy/MICROPIA/MICROPIA_I_3R_RaGOO_31083506_31088004\",\"LTR/Gypsy/MICROPIA/MICROPIA_I_4_RaGOO_311799_315755\",\"LTR/Gypsy/MICROPIA/MICROPIA_I_X_RaGOO_17340828_17345349\",\"LTR/Gypsy/MICROPIA/MICROPIA_I_X_RaGOO_3133282_3137242\",\"LTR/Gypsy/MICROPIA/MICROPIA_I_X_RaGOO_603817_607773\",\"DNA/TcMar-Tc1/Mariner2_DM/Mariner2_DM_2L_RaGOO_21507526_21508443\",\"DNA/TcMar-Tc1/Mariner2_DM/Mariner2_DM_2R_RaGOO_1808583_1809435\",\"DNA/TcMar-Tc1/Mariner2_DM/Mariner2_DM_2R_RaGOO_6313845_6314821\",\"DNA/TcMar-Tc1/Mariner2_DM/Mariner2_DM_3L_RaGOO_22748069_22749176\",\"DNA/TcMar-Tc1/Mariner2_DM/Mariner2_DM_3L_RaGOO_22903450_22904558\",\"DNA/TcMar-Tc1/Mariner2_DM/Mariner2_DM_3L_RaGOO_26311078_26311875\",\"DNA/TcMar-Tc1/Mariner2_DM/Mariner2_DM_4_RaGOO_638924_639677\",\"DNA/TcMar-Tc1/Mariner2_DM/Mariner2_DM_X_RaGOO_21869176_21870046\",\"LTR/Pao/NINJA/NINJA_I_3R_RaGOO_1358085_1360185\",\"LTR/Pao/NINJA/NINJA_LTR_3L_RaGOO_25746489_25749281\",\"LTR/Pao/NINJA/NINJA_LTR_3R_RaGOO_3468445_3473299\",\"LTR/Pao/NINJA/NINJA_LTR_3R_RaGOO_615399_620854\",\"LTR/Gypsy/NOMAD/NOMAD_I_2L_RaGOO_22581023_22587526\",\"LTR/Gypsy/NOMAD/NOMAD_I_2R_RaGOO_383343_386109\",\"LTR/Gypsy/NOMAD/NOMAD_I_2R_RaGOO_4093744_4094800\",\"LTR/Gypsy/NOMAD/NOMAD_LTR_2L_RaGOO_13384378_13391980\",\"LTR/Gypsy/NOMAD/NOMAD_LTR_2L_RaGOO_3400786_3408481\",\"LTR/Gypsy/NOMAD/NOMAD_LTR_2R_RaGOO_15583316_15590827\",\"LTR/Gypsy/NOMAD/NOMAD_LTR_2R_RaGOO_1925644_1932366\",\"LTR/Gypsy/NOMAD/NOMAD_LTR_2R_RaGOO_20674240_20681841\",\"LTR/Gypsy/NOMAD/NOMAD_LTR_2R_RaGOO_471172_473817\",\"LTR/Gypsy/NOMAD/NOMAD_LTR_3L_RaGOO_10268410_10275872\",\"LTR/Gypsy/NOMAD/NOMAD_LTR_3L_RaGOO_23497748_23505249\",\"LTR/Gypsy/NOMAD/NOMAD_LTR_3R_RaGOO_1014813_1022279\",\"LTR/Gypsy/NOMAD/NOMAD_LTR_3R_RaGOO_28971169_28974159\",\"LTR/Gypsy/NOMAD/NOMAD_LTR_X_RaGOO_11398933_11406469\",\"LTR/Gypsy/NOMAD/NOMAD_LTR_X_RaGOO_14781769_14789300\",\"DNA/TcMar-Pogo/POGO/POGO_2L_RaGOO_2955877_2958004\",\"DNA/TcMar-Pogo/POGO/POGO_2R_RaGOO_16569084_16570235\",\"DNA/TcMar-Pogo/POGO/POGO_2R_RaGOO_7201268_7202754\",\"DNA/TcMar-Pogo/POGO/POGO_3L_RaGOO_9733928_9735150\",\"DNA/TcMar-Pogo/POGO/POGO_3R_RaGOO_11285980_11288111\",\"DNA/TcMar-Pogo/POGO/POGO_X_RaGOO_14998652_15000110\",\"DNA/P/PROTOP/PROTOP_3L_RaGOO_25377208_25377594\",\"DNA/P/PROTOP/PROTOP_3L_RaGOO_25955252_25957435\",\"DNA/P/PROTOP/PROTOP_3L_RaGOO_26174341_26176865\",\"DNA/P/PROTOP/PROTOP_4_RaGOO_358464_360439\",\"DNA/P/PROTOP_A/PROTOP_A_3L_RaGOO_18608230_18609333\",\"DNA/P/PROTOP_A/PROTOP_A_3R_RaGOO_1946916_1947766\",\"DNA/P/PROTOP_A/PROTOP_A_3R_RaGOO_2145521_2146619\",\"DNA/P/PROTOP_A/PROTOP_A_4_RaGOO_24706_25801\",\"DNA/P/PROTOP_B/PROTOP_B_2R_RaGOO_6428707_6429467\",\"DNA/P/PROTOP_B/PROTOP_B_3L_RaGOO_26361704_26362962\",\"DNA/P/PROTOP_B/PROTOP_B_4_RaGOO_175159_176280\",\"LTR/Gypsy/QUASIMODO2/QUASIMODO2-I_DM_3R_RaGOO_777690_778919\",\"LTR/Gypsy/QUASIMODO2/QUASIMODO2-LTR_DM_4_RaGOO_13230_19659\",\"LTR/Gypsy/QUASIMODO/QUASIMODO_I_2L_RaGOO_22728039_22732539\",\"LTR/Gypsy/QUASIMODO/QUASIMODO_I_2R_RaGOO_2240068_2244259\",\"LTR/Gypsy/QUASIMODO/QUASIMODO_I_2R_RaGOO_3071782_3075068\",\"LTR/Gypsy/QUASIMODO/QUASIMODO_I_2R_RaGOO_3940692_3953437\",\"LTR/Gypsy/QUASIMODO/QUASIMODO_I_2R_RaGOO_4031047_4034609\",\"LTR/Gypsy/QUASIMODO/QUASIMODO_I_3L_RaGOO_25608743_25613047\",\"LTR/Gypsy/QUASIMODO/QUASIMODO_LTR_2R_RaGOO_2572412_2572983\",\"LTR/Gypsy/QUASIMODO/QUASIMODO_LTR_2R_RaGOO_3561204_3567967\",\"LTR/Gypsy/QUASIMODO/QUASIMODO_LTR_3L_RaGOO_23734260_23734917\",\"LTR/Gypsy/QUASIMODO/QUASIMODO_LTR_3L_RaGOO_25055074_25055510\",\"LTR/Gypsy/QUASIMODO/QUASIMODO_LTR_3R_RaGOO_1809892_1810303\",\"LTR/Gypsy/QUASIMODO/QUASIMODO_LTR_3R_RaGOO_2062159_2066713\",\"LTR/Gypsy/QUASIMODO/QUASIMODO_LTR_3R_RaGOO_2953500_2957027\",\"LTR/Gypsy/QUASIMODO/QUASIMODO_LTR_3R_RaGOO_2970516_2971173\",\"LTR/Gypsy/QUASIMODO/QUASIMODO_LTR_3R_RaGOO_3643836_3644407\",\"LTR/Pao/ROOA/ROOA_I_2R_RaGOO_3369128_3375460\",\"LTR/Pao/ROOA/ROOA_LTR_2R_RaGOO_4206312_4212475\",\"LTR/Pao/ROOA/ROOA_LTR_2R_RaGOO_944947_948834\",\"LTR/Pao/ROO/ROO_I_2R_RaGOO_17052400_17055914\",\"LTR/Pao/ROO/ROO_I_2R_RaGOO_18916354_18932157\",\"LTR/Pao/ROO/ROO_I_3L_RaGOO_11054181_11056742\",\"LTR/Pao/ROO/ROO_I_3L_RaGOO_19559699_19561114\",\"LTR/Pao/ROO/ROO_I_3L_RaGOO_2683031_2690542\",\"LTR/Pao/ROO/ROO_I_3R_RaGOO_12957465_12959168\",\"LTR/Pao/ROO/ROO_I_3R_RaGOO_13786472_13790447\",\"LTR/Pao/ROO/ROO_I_3R_RaGOO_15240450_15245518\",\"LTR/Pao/ROO/ROO_I_3R_RaGOO_1548324_1562666\",\"LTR/Pao/ROO/ROO_I_3R_RaGOO_6611977_6613484\",\"LTR/Pao/ROO/ROO_I_X_RaGOO_13302951_13311186\",\"LTR/Pao/ROO/ROO_I_X_RaGOO_19301259_19305308\",\"LTR/Pao/ROO/ROO_I_X_RaGOO_5586864_5594591\",\"LTR/Pao/ROO/ROO_LTR_2L_RaGOO_1554051_1563114\",\"LTR/Pao/ROO/ROO_LTR_3L_RaGOO_9180412_9189520\",\"LTR/Pao/ROO/ROO_LTR_3R_RaGOO_24484209_24493255\",\"LTR/Gypsy/ROVER/ROVER-I_DM_3R_RaGOO_602392_603894\",\"LTR/Gypsy/ROVER/ROVER-LTR_DM_2R_RaGOO_3256225_3263561\",\"DNA/TcMar-Tc1/S2_DM/S2_DM_2L_RaGOO_22291772_22294164\",\"DNA/TcMar-Tc1/S_DM/S_DM_2L_RaGOO_22311465_22313092\",\"DNA/TcMar-Tc1/S_DM/S_DM_2R_RaGOO_1267254_1268295\",\"DNA/TcMar-Tc1/S_DM/S_DM_2R_RaGOO_7347017_7347832\",\"DNA/TcMar-Tc1/S_DM/S_DM_3L_RaGOO_15369099_15370829\",\"DNA/TcMar-Tc1/S_DM/S_DM_3L_RaGOO_23313261_23315488\",\"DNA/TcMar-Tc1/S_DM/S_DM_3L_RaGOO_23677604_23678414\",\"DNA/TcMar-Tc1/S_DM/S_DM_3L_RaGOO_24954457_24956189\",\"DNA/TcMar-Tc1/S_DM/S_DM_3L_RaGOO_26043127_26044812\",\"DNA/TcMar-Tc1/S_DM/S_DM_3R_RaGOO_657036_657953\",\"DNA/TcMar-Tc1/S_DM/S_DM_4_RaGOO_220378_221042\",\"LTR/Gypsy/TABOR/TABOR_I_2R_RaGOO_2811324_2817616\",\"LTR/Gypsy/TABOR/TABOR_LTR_2R_RaGOO_1855147_1862128\",\"LTR/Gypsy/TABOR/TABOR_LTR_X_RaGOO_18271260_18278107\",\"LINE/I-Jockey/TAHRE/TAHRE_2L_RaGOO_38366_47731\",\"LINE/I-Jockey/TAHRE/TAHRE_2L_RaGOO_5229_7346\",\"LINE/I-Jockey/TAHRE/TAHRE_2L_RaGOO_5506_7403\",\"LINE/I-Jockey/TAHRE/TAHRE_2R_RaGOO_1145909_1151824\",\"LINE/I-Jockey/TAHRE/TAHRE_2R_RaGOO_1151895_1152439\",\"LINE/I-Jockey/TAHRE/TAHRE_2R_RaGOO_3700966_3703361\",\"LINE/I-Jockey/TAHRE/TAHRE_3L_RaGOO_20705_26581\",\"LINE/I-Jockey/TAHRE/TAHRE_3L_RaGOO_24249813_24257637\",\"LINE/I-Jockey/TAHRE/TAHRE_3L_RaGOO_24252861_24253713\",\"LINE/I-Jockey/TAHRE/TAHRE_3L_RaGOO_2547_12261\",\"LINE/I-Jockey/TAHRE/TAHRE_X_RaGOO_94808_95641\",\"LINE/I-Jockey/TART-A/TART-A_3L_RaGOO_16376942_16377642\",\"LINE/I-Jockey/TART-A/TART-A_3L_RaGOO_24811306_24813320\",\"LINE/I-Jockey/TART-A/TART-A_3L_RaGOO_24818846_24827437\",\"LINE/I-Jockey/TART-A/TART-A_4_RaGOO_1262950_1263513\",\"LINE/I-Jockey/TART-A/TART-A_X_RaGOO_3270_3823\",\"LINE/I-Jockey/TART-A/TART-A_X_RaGOO_3_3271\",\"LINE/I-Jockey/TART_B1/TART_B1_2R_RaGOO_23920095_23923160\",\"LTR/Gypsy/TIRANT/TIRANT_LTR_2L_RaGOO_20669409_20674055\",\"LTR/Gypsy/TIRANT/TIRANT_LTR_2L_RaGOO_22323129_22326580\",\"LTR/Gypsy/TIRANT/TIRANT_LTR_3L_RaGOO_23807453_23815973\",\"LTR/Gypsy/TIRANT/TIRANT_LTR_3R_RaGOO_22583602_22592157\",\"LTR/Gypsy/TOM/TOM_I_3R_RaGOO_779996_780755\",\"DNA/CMC-Transib/TRANSIB2/TRANSIB2_2L_RaGOO_21593386_21595342\",\"DNA/CMC-Transib/TRANSIB2/TRANSIB2_2R_RaGOO_15059_15670\",\"DNA/CMC-Transib/TRANSIB2/TRANSIB2_2R_RaGOO_1674937_1676619\",\"DNA/CMC-Transib/TRANSIB2/TRANSIB2_2R_RaGOO_1819719_1821473\",\"DNA/CMC-Transib/TRANSIB2/TRANSIB2_2R_RaGOO_3035974_3037999\",\"DNA/CMC-Transib/TRANSIB2/TRANSIB2_2R_RaGOO_3421509_3423952\",\"DNA/CMC-Transib/TRANSIB2/TRANSIB2_2R_RaGOO_5449525_5451701\",\"DNA/CMC-Transib/TRANSIB2/TRANSIB2_3L_RaGOO_14769394_14771004\",\"DNA/CMC-Transib/TRANSIB2/TRANSIB2_3L_RaGOO_23526338_23527136\",\"DNA/CMC-Transib/TRANSIB2/TRANSIB2_3L_RaGOO_24511852_24514346\",\"DNA/CMC-Transib/TRANSIB2/TRANSIB2_3R_RaGOO_1753687_1756027\",\"DNA/CMC-Transib/TRANSIB2/TRANSIB2_X_RaGOO_21175244_21178316\",\"DNA/CMC-Transib/TRANSIB2/TRANSIB2_X_RaGOO_22006547_22007658\",\"DNA/CMC-Transib/TRANSIB3/TRANSIB3_3R_RaGOO_2204217_2205631\",\"DNA/CMC-Transib/TRANSIB3/TRANSIB3_3R_RaGOO_2679434_2681620\",\"DNA/CMC-Transib/TRANSIB4/TRANSIB4_2R_RaGOO_4423372_4424755\",\"LTR/Gypsy/TRANSPAC/TRANSPAC_I_3R_RaGOO_26707140_26711871\",\"LTR/Gypsy/TRANSPAC/TRANSPAC_LTR_2L_RaGOO_2221225_2226474\",\"LTR/Gypsy/TRANSPAC/TRANSPAC_LTR_2L_RaGOO_8985200_8990448\",\"LTR/Gypsy/TRANSPAC/TRANSPAC_LTR_2R_RaGOO_109057_114306\",\"LTR/Gypsy/TRANSPAC/TRANSPAC_LTR_2R_RaGOO_15245759_15251009\",\"LTR/Gypsy/TRANSPAC/TRANSPAC_LTR_2R_RaGOO_21445727_21450940\",\"LTR/Gypsy/TRANSPAC/TRANSPAC_LTR_3L_RaGOO_1562415_1567666\",\"LTR/Gypsy/TRANSPAC/TRANSPAC_LTR_3R_RaGOO_21217775_21223024\",\"LTR/Gypsy/TRANSPAC/TRANSPAC_LTR_X_RaGOO_17017750_17022983\",\"LTR/Gypsy/TRANSPAC/TRANSPAC_LTR_X_RaGOO_19519061_19524304\",\"LTR/Gypsy/TRANSPAC/TRANSPAC_LTR_X_RaGOO_4638939_4644186\",\"DNA/CMC-Transib/Transib5/Transib5_3R_RaGOO_1262033_1264059\",\"LTR/Gypsy/ZAM/ZAM_I_3R_RaGOO_1939464_1943501\",\"LTR/Gypsy/ZAM/ZAM_LTR_2R_RaGOO_1559245_1563723\",\"LTR/Gypsy/ZAM/ZAM_LTR_3R_RaGOO_3216098_3221945\",\"LTR/Gypsy/ACCORD\",\"LTR/Gypsy/ACCORD2\",\"DNA/TcMar-Tc1/BARI1\",\"LTR/Pao/BATUMI\",\"LTR/Pao/BEL\",\"LTR/Gypsy/BLASTOPIA\",\"LINE/I-Jockey/BS\",\"LINE/I-Jockey/BS2\",\"LINE/I-Jockey/BS3_DM\",\"LINE/I-Jockey/BS4_DM\",\"LTR/Gypsy/BURDOCK\",\"LINE/R1-LOA/Baggins1\",\"LTR/Gypsy/Bica\",\"LTR/Gypsy/CIRCE\",\"LTR/Gypsy/Chimpo\",\"LTR/Gypsy/Chouto\",\"LTR/Copia/Copia\",\"LTR/Copia/Copia1\",\"LTR/Copia/Copia2\",\"LTR/Pao/DIVER\",\"LTR/Pao/DIVER2\",\"LTR/Copia/DM1731\",\"LTR/Gypsy/DM176\",\"LTR/Gypsy/DM297\",\"LTR/Gypsy/DM412\",\"LTR/Gypsy/DM412B\",\"LINE/CR1/DMCR1A\",\"LTR/Gypsy/DMLTR5\",\"LINE/R1/DMRT1A\",\"LINE/R1/DMRT1B\",\"LINE/R1/DMRT1C\",\"LTR/Gypsy/DMTOM1\",\"RC/Helitron/DNAREP1_DM\",\"LINE/I-Jockey/DOC\",\"LINE/I-Jockey/DOC2_DM\",\"LINE/I-Jockey/DOC3_DM\",\"LINE/I-Jockey/DOC4_DM\",\"LINE/I-Jockey/DOC6_DM\",\"DNA/TcMar-Tc1/FB4_DM\",\"LTR/Copia/FROGGER\",\"LINE/I-Jockey/FW2_DM\",\"LINE/I-Jockey/FW3_DM\",\"LINE/I-Jockey/G2_DM\",\"LINE/I-Jockey/G3_DM\",\"LINE/I-Jockey/G4_DM\",\"LINE/I-Jockey/G5A_DM\",\"LINE/I-Jockey/G5_DM\",\"LINE/I-Jockey/G_DM\",\"LTR/Gypsy/Gypsy\",\"LTR/Gypsy/Gypsy10\",\"LTR/Gypsy/Gypsy12\",\"LTR/Gypsy/Gypsy12A\",\"LTR/Gypsy/Gypsy2\",\"LTR/Gypsy/Gypsy4\",\"LTR/Gypsy/Gypsy5\",\"LTR/Gypsy/Gypsy6\",\"LTR/Gypsy/Gypsy6A\",\"LTR/Gypsy/Gypsy8\",\"LTR/Gypsy/Gypsy9\",\"LINE/I-Jockey/HETA\",\"LTR/Gypsy/HMSBEAGLE\",\"DNA/hAT-hobo/HOBO\",\"LTR/Gypsy/IDEFIX\",\"LINE/I/I_DM\",\"LTR/Gypsy/Invader1\",\"LTR/Gypsy/Invader2\",\"LTR/Gypsy/Invader3\",\"LTR/Gypsy/Invader4\",\"LTR/Gypsy/Invader6\",\"LINE/I-Jockey/Jockey2\",\"LINE/I-Jockey/LINEJ1_DM\",\"DNA/PiggyBac/LOOPER1_DM\",\"DNA/CMC-Transib/M4DM\",\"LTR/Pao/MAX\",\"LTR/Gypsy/MDG1\",\"LTR/Gypsy/MDG3\",\"LTR/Gypsy/MICROPIA\",\"DNA/TcMar-Tc1/Mariner2_DM\",\"LTR/Pao/NINJA\",\"LTR/Gypsy/NOMAD\",\"DNA/TcMar-Pogo/POGO\",\"DNA/P/PROTOP\",\"DNA/P/PROTOP_A\",\"DNA/P/PROTOP_B\",\"LTR/Gypsy/QUASIMODO\",\"LTR/Gypsy/QUASIMODO2\",\"LTR/Pao/ROO\",\"LTR/Pao/ROOA\",\"LTR/Gypsy/ROVER\",\"DNA/TcMar-Tc1/S2_DM\",\"DNA/TcMar-Tc1/S_DM\",\"LTR/Gypsy/TABOR\",\"LINE/I-Jockey/TAHRE\",\"LINE/I-Jockey/TART-A\",\"LINE/I-Jockey/TART_B1\",\"LTR/Gypsy/TIRANT\",\"LTR/Gypsy/TOM\",\"DNA/CMC-Transib/TRANSIB2\",\"DNA/CMC-Transib/TRANSIB3\",\"DNA/CMC-Transib/TRANSIB4\",\"LTR/Gypsy/TRANSPAC\",\"DNA/CMC-Transib/Transib5\",\"LTR/Gypsy/ZAM\",\"DNA/CMC-Transib\",\"LINE/CR1\",\"LTR/Copia\",\"LTR/Gypsy\",\"RC/Helitron\",\"LINE/I\",\"LINE/I-Jockey\",\"DNA/P\",\"LTR/Pao\",\"DNA/PiggyBac\",\"LINE/R1\",\"LINE/R1-LOA\",\"DNA/TcMar-Pogo\",\"DNA/TcMar-Tc1\",\"DNA/hAT-hobo\",\"DNA\",\"LINE\",\"LTR\",\"RC\"],\"labels\":[\"ACCORD2_LTR_2R_RaGOO_780158_781719\",\"ACCORD_LTR_2L_RaGOO_22631471_22632026\",\"ACCORD_LTR_2R_RaGOO_10985734_10986218\",\"BARI1_2L_RaGOO_21112657_21113769\",\"BATUMI_I_3R_RaGOO_2416724_2424946\",\"BATUMI_LTR_2R_RaGOO_4345307_4350249\",\"BATUMI_LTR_3L_RaGOO_23406069_23411035\",\"BATUMI_LTR_3L_RaGOO_24966975_24975533\",\"BEL_I_2L_RaGOO_22140085_22145620\",\"BEL_I_2R_RaGOO_2039893_2045646\",\"BEL_I_2R_RaGOO_2083395_2088562\",\"BEL_I_2R_RaGOO_23360371_23363115\",\"BEL_I_3L_RaGOO_26289408_26291999\",\"BEL_LTR_2R_RaGOO_2034320_2039892\",\"BEL_LTR_2R_RaGOO_2068892_2074965\",\"BEL_LTR_3R_RaGOO_11276926_11283012\",\"BEL_LTR_3R_RaGOO_2548314_2554338\",\"BLASTOPIA_I_3R_RaGOO_11787155_11791536\",\"BLASTOPIA_I_3R_RaGOO_3126038_3131033\",\"BLASTOPIA_LTR_2R_RaGOO_2878638_2883652\",\"BLASTOPIA_LTR_2R_RaGOO_3217647_3222622\",\"BLASTOPIA_LTR_2R_RaGOO_3837273_3841595\",\"BLASTOPIA_LTR_3L_RaGOO_23419160_23424177\",\"BLASTOPIA_LTR_3L_RaGOO_23460661_23465627\",\"BLASTOPIA_LTR_3R_RaGOO_8215021_8220047\",\"BLASTOPIA_LTR_X_RaGOO_10104239_10109267\",\"BLASTOPIA_LTR_X_RaGOO_8707375_8710412\",\"BS2_2R_RaGOO_2406301_2407991\",\"BS2_2R_RaGOO_3748515_3753218\",\"BS2_3L_RaGOO_25323736_25325774\",\"BS3_DM_3L_RaGOO_23041919_23043796\",\"BS3_DM_3L_RaGOO_23572783_23574472\",\"BS3_DM_3R_RaGOO_1150409_1151578\",\"BS4_DM_3R_RaGOO_4052534_4053284\",\"BS_2L_RaGOO_21012781_21017119\",\"BS_3L_RaGOO_26196418_26197513\",\"BURDOCK_I_2R_RaGOO_1726260_1734798\",\"BURDOCK_LTR_2L_RaGOO_4499214_4501787\",\"BURDOCK_LTR_2R_RaGOO_14046385_14048986\",\"BURDOCK_LTR_2R_RaGOO_1428763_1433741\",\"BURDOCK_LTR_2R_RaGOO_18620960_18624380\",\"BURDOCK_LTR_2R_RaGOO_216960_223366\",\"BURDOCK_LTR_2R_RaGOO_5173682_5176253\",\"BURDOCK_LTR_3L_RaGOO_10638503_10641077\",\"BURDOCK_LTR_3R_RaGOO_24036640_24040804\",\"BURDOCK_LTR_3R_RaGOO_30423715_30430182\",\"Baggins1_3R_RaGOO_1477244_1479844\",\"Baggins1_X_RaGOO_21982566_21987672\",\"Bica_LTR_2R_RaGOO_3530447_3531703\",\"Bica_LTR_3R_RaGOO_2884824_2888297\",\"Bica_LTR_3R_RaGOO_756222_760925\",\"Bica_LTR_3R_RaGOO_935684_940600\",\"CIRCE_2L_RaGOO_22747719_22753380\",\"CIRCE_3R_RaGOO_3073861_3079193\",\"CIRCE_3R_RaGOO_661262_663254\",\"Chimpo_LTR_3L_RaGOO_16584918_16588544\",\"Chouto_I_3R_RaGOO_2003553_2009866\",\"Chouto_LTR_3R_RaGOO_2874586_2881082\",\"Copia1-I_DM_2R_RaGOO_2841061_2845341\",\"Copia2_I_2L_RaGOO_22533654_22535543\",\"Copia2_I_2L_RaGOO_22537082_22539089\",\"Copia2_I_3L_RaGOO_23755452_23759152\",\"Copia2_I_3L_RaGOO_25902823_25904087\",\"Copia_I_3R_RaGOO_1738736_1739720\",\"Copia_LTR_2L_RaGOO_12650_17604\",\"Copia_LTR_2L_RaGOO_13770083_13775227\",\"Copia_LTR_2L_RaGOO_14753817_14758950\",\"Copia_LTR_2L_RaGOO_21771835_21776956\",\"Copia_LTR_2L_RaGOO_9004503_9009641\",\"Copia_LTR_2R_RaGOO_20482857_20488005\",\"Copia_LTR_3L_RaGOO_10022428_10027467\",\"Copia_LTR_3L_RaGOO_10052506_10057644\",\"Copia_LTR_3L_RaGOO_17623155_17628299\",\"Copia_LTR_3R_RaGOO_1372041_1377188\",\"DIVER2_I_2R_RaGOO_226749_227895\",\"DIVER2_I_2R_RaGOO_2625663_2626763\",\"DIVER2_I_2R_RaGOO_3973922_3976557\",\"DIVER2_LTR_2R_RaGOO_32697_34334\",\"DIVER2_LTR_3L_RaGOO_23132660_23136151\",\"DIVER2_LTR_3L_RaGOO_24400525_24401251\",\"DIVER2_LTR_3R_RaGOO_2278224_2281355\",\"DIVER_LTR_3L_RaGOO_23629771_23635886\",\"DIVER_LTR_3L_RaGOO_23659267_23665368\",\"DM1731_I_2R_RaGOO_2509093_2513173\",\"DM1731_I_2R_RaGOO_3224667_3226753\",\"DM1731_LTR_3L_RaGOO_24209333_24213898\",\"DM176_I_2R_RaGOO_196886_202183\",\"DM176_LTR_2R_RaGOO_1810865_1818363\",\"DM176_LTR_3R_RaGOO_16769763_16777264\",\"DM297_I_2R_RaGOO_16168_20202\",\"DM297_LTR_3R_RaGOO_29474982_29479020\",\"DM412B_LTR_2R_RaGOO_15154633_15162070\",\"DM412B_LTR_3R_RaGOO_21307972_21315446\",\"DM412_2R_RaGOO_2546519_2550576\",\"DM412_2R_RaGOO_3802214_3804613\",\"DM412_3L_RaGOO_23966181_23969638\",\"DM412_3R_RaGOO_1828602_1829088\",\"DM412_X_RaGOO_21683716_21684196\",\"DMCR1A_2R_RaGOO_1696052_1704661\",\"DMCR1A_3R_RaGOO_3606626_3614941\",\"DMLTR5_2R_RaGOO_209115_216178\",\"DMLTR5_3L_RaGOO_20040252_20046596\",\"DMLTR5_3L_RaGOO_9000054_9007128\",\"DMLTR5_3R_RaGOO_4864395_4871469\",\"DMLTR5_X_RaGOO_1828728_1835798\",\"DMLTR5_X_RaGOO_51338_54479\",\"DMRT1A_2R_RaGOO_2314724_2319855\",\"DMRT1A_2R_RaGOO_3571985_3576878\",\"DMRT1B_2R_RaGOO_4313497_4314653\",\"DMRT1B_2R_RaGOO_4404275_4406331\",\"DMRT1B_X_RaGOO_18329002_18330754\",\"DMRT1C_X_RaGOO_20495200_20495668\",\"DMTOM1_LTR_3L_RaGOO_25120882_25124400\",\"DMTOM1_LTR_3L_RaGOO_25153928_25157456\",\"DNAREP1_DM_2R_RaGOO_2628409_2628867\",\"DNAREP1_DM_2R_RaGOO_3774996_3775651\",\"DNAREP1_DM_2R_RaGOO_5274469_5275451\",\"DNAREP1_DM_3L_RaGOO_22591311_22592255\",\"DNAREP1_DM_3L_RaGOO_23563089_23563359\",\"DNAREP1_DM_3R_RaGOO_3632660_3633639\",\"DNAREP1_DM_3R_RaGOO_3758706_3759140\",\"DNAREP1_DM_X_RaGOO_712208_713323\",\"DOC2_DM_2L_RaGOO_22281476_22284663\",\"DOC2_DM_2R_RaGOO_3631456_3634477\",\"DOC2_DM_2R_RaGOO_4321721_4324846\",\"DOC3_DM_2R_RaGOO_860527_861391\",\"DOC3_DM_3R_RaGOO_2983770_2986840\",\"DOC4_DM_2R_RaGOO_3295532_3296428\",\"DOC4_DM_2R_RaGOO_3363873_3364724\",\"DOC6_DM_2L_RaGOO_8926966_8931176\",\"DOC6_DM_3R_RaGOO_12924881_12926303\",\"DOC_2L_RaGOO_10374119_10376385\",\"DOC_2L_RaGOO_11197822_11200584\",\"DOC_2R_RaGOO_2456335_2459707\",\"DOC_3L_RaGOO_11738950_11741243\",\"DOC_3L_RaGOO_24733562_24735608\",\"DOC_3R_RaGOO_24532793_24537308\",\"DOC_3R_RaGOO_2584606_2587487\",\"FB4_DM_2R_RaGOO_3378778_3380218\",\"FB4_DM_2R_RaGOO_4872115_4873084\",\"FB4_DM_3R_RaGOO_16914758_16917850\",\"FB4_DM_3R_RaGOO_16921110_16924199\",\"FB4_DM_3R_RaGOO_30986386_30987925\",\"FB4_DM_3R_RaGOO_4811780_4813400\",\"FB4_DM_X_RaGOO_21327350_21328820\",\"FB4_DM_X_RaGOO_2599171_2602268\",\"FROGGER_LTR_2R_RaGOO_3942161_3946521\",\"FW2_DM_2L_RaGOO_1444418_1448277\",\"FW2_DM_2L_RaGOO_22126527_22126906\",\"FW2_DM_2R_RaGOO_16422077_16426501\",\"FW2_DM_2R_RaGOO_4440629_4442178\",\"FW2_DM_2R_RaGOO_837106_838459\",\"FW2_DM_2R_RaGOO_9471212_9475089\",\"FW2_DM_2R_RaGOO_9475282_9475454\",\"FW2_DM_3L_RaGOO_15544081_15545732\",\"FW2_DM_3L_RaGOO_25270388_25271045\",\"FW2_DM_3L_RaGOO_25468282_25468689\",\"FW2_DM_3R_RaGOO_23975283_23975690\",\"FW3_DM_3L_RaGOO_24482361_24486070\",\"FW3_DM_3R_RaGOO_2079747_2081812\",\"G2_DM_2R_RaGOO_3025369_3027218\",\"G3_DM_3L_RaGOO_24448303_24448772\",\"G3_DM_3R_RaGOO_987129_988860\",\"G4_DM_2R_RaGOO_3770363_3771605\",\"G4_DM_2R_RaGOO_5428573_5433784\",\"G4_DM_3L_RaGOO_24449098_24450836\",\"G4_DM_3L_RaGOO_25463237_25464087\",\"G4_DM_3L_RaGOO_25501627_25504470\",\"G4_DM_3R_RaGOO_2542636_2543942\",\"G4_DM_3R_RaGOO_3291399_3294964\",\"G5A_DM_2R_RaGOO_3275262_3277173\",\"G5A_DM_2R_RaGOO_4442347_4444566\",\"G5A_DM_3L_RaGOO_23341585_23343064\",\"G5A_DM_X_RaGOO_21990167_21991360\",\"G5_DM_2R_RaGOO_2445224_2449042\",\"G5_DM_3R_RaGOO_5264596_5267762\",\"G_DM_2R_RaGOO_1024944_1025700\",\"G_DM_2R_RaGOO_4175900_4177034\",\"G_DM_3R_RaGOO_683694_686308\",\"Gypsy10_I_3L_RaGOO_23680911_23682178\",\"Gypsy10_I_3R_RaGOO_761442_762629\",\"Gypsy12A_LTR_3R_RaGOO_1864004_1865329\",\"Gypsy12A_LTR_3R_RaGOO_3432347_3433700\",\"Gypsy12_I_3R_RaGOO_11767009_11769301\",\"Gypsy12_LTR_2R_RaGOO_1299099_1309281\",\"Gypsy12_LTR_3R_RaGOO_2266515_2268947\",\"Gypsy12_LTR_3R_RaGOO_842982_854376\",\"Gypsy12_LTR_3R_RaGOO_854376_858510\",\"Gypsy12_LTR_3R_RaGOO_960900_963176\",\"Gypsy2-I_DM_2R_RaGOO_545702_556702\",\"Gypsy2-I_DM_X_RaGOO_21780820_21782689\",\"Gypsy2_I_2R_RaGOO_2754731_2758370\",\"Gypsy2_LTR_3R_RaGOO_795037_796049\",\"Gypsy4_I_3L_RaGOO_24436421_24438902\",\"Gypsy4_I_3R_RaGOO_1706691_1713573\",\"Gypsy5_LTR_3L_RaGOO_22847293_22850119\",\"Gypsy6A_LTR_2R_RaGOO_1594276_1596780\",\"Gypsy6A_LTR_2R_RaGOO_2192166_2199771\",\"Gypsy6A_LTR_2R_RaGOO_2808245_2809716\",\"Gypsy6_I_3L_RaGOO_24203509_24205270\",\"Gypsy8_I_2R_RaGOO_2534282_2536641\",\"Gypsy8_I_2R_RaGOO_3245111_3248013\",\"Gypsy8_I_3L_RaGOO_23435681_23436000\",\"Gypsy9_I_2R_RaGOO_4520165_4522724\",\"Gypsy9_I_3R_RaGOO_1751109_1752321\",\"Gypsy9_LTR_2R_RaGOO_1564853_1570428\",\"Gypsy9_LTR_3L_RaGOO_24678043_24682992\",\"Gypsy_I_3R_RaGOO_4187299_4190434\",\"Gypsy_LTR_2R_RaGOO_3014728_3015826\",\"Gypsy_LTR_2R_RaGOO_3023081_3029323\",\"Gypsy_LTR_X_RaGOO_21952250_21959516\",\"HETA_2R_RaGOO_1141073_1145629\",\"HETA_2R_RaGOO_2824725_2826074\",\"HETA_2R_RaGOO_2831691_2835985\",\"HETA_2R_RaGOO_3703418_3705329\",\"HETA_2R_RaGOO_3705344_3707190\",\"HETA_3L_RaGOO_12349_18402\",\"HETA_3L_RaGOO_1459_2479\",\"HETA_3L_RaGOO_18403_20679\",\"HETA_3L_RaGOO_24251790_24258327\",\"HETA_3L_RaGOO_24251825_24252692\",\"HETA_X_RaGOO_3925_6784\",\"HETA_X_RaGOO_85920_94840\",\"HETA_X_RaGOO_87709_93586\",\"HMSBEAGLE_I_X_RaGOO_20979244_20982827\",\"HOBO_2R_RaGOO_7159203_7161067\",\"IDEFIX_I_2L_RaGOO_1826802_1833031\",\"IDEFIX_I_2R_RaGOO_1769992_1776196\",\"IDEFIX_I_3L_RaGOO_23168345_23170287\",\"IDEFIX_I_3L_RaGOO_25115262_25120284\",\"IDEFIX_I_3L_RaGOO_26187834_26189813\",\"IDEFIX_I_3R_RaGOO_1951636_1955757\",\"IDEFIX_I_3R_RaGOO_3401465_3412308\",\"IDEFIX_LTR_3L_RaGOO_20046597_20052802\",\"IDEFIX_LTR_3L_RaGOO_24086580_24091288\",\"I_DM_3R_RaGOO_2656520_2661548\",\"Invader1_LTR_2R_RaGOO_4582435_4586466\",\"Invader1_LTR_2R_RaGOO_4667269_4671292\",\"Invader1_LTR_3L_RaGOO_25028557_25031534\",\"Invader2_LTR_2L_RaGOO_21812134_21815478\",\"Invader2_LTR_2L_RaGOO_21838879_21843827\",\"Invader2_LTR_2R_RaGOO_1490054_1495226\",\"Invader2_LTR_3R_RaGOO_3025165_3030061\",\"Invader3_I_2R_RaGOO_4009780_4011606\",\"Invader3_LTR_2R_RaGOO_1085221_1090662\",\"Invader3_LTR_3L_RaGOO_25707637_25710357\",\"Invader4_LTR_4_RaGOO_899649_902725\",\"Invader6_I_3L_RaGOO_25623224_25628102\",\"Invader6_LTR_3L_RaGOO_25617938_25623223\",\"Invader6_LTR_3R_RaGOO_2712551_2717731\",\"Jockey2_3L_RaGOO_23444902_23445519\",\"Jockey2_X_RaGOO_20630903_20633313\",\"Jockey2_X_RaGOO_21267965_21268839\",\"Jockey2_X_RaGOO_21275337_21276483\",\"LINEJ1_DM_2L_RaGOO_14486763_14487102\",\"LINEJ1_DM_2L_RaGOO_21781469_21782486\",\"LINEJ1_DM_2R_RaGOO_13409014_13410283\",\"LINEJ1_DM_2R_RaGOO_14196105_14196466\",\"LINEJ1_DM_2R_RaGOO_14471638_14476659\",\"LINEJ1_DM_2R_RaGOO_15316919_15318025\",\"LINEJ1_DM_2R_RaGOO_16066858_16067429\",\"LINEJ1_DM_2R_RaGOO_17291470_17291808\",\"LINEJ1_DM_2R_RaGOO_4418576_4420188\",\"LINEJ1_DM_3L_RaGOO_22260268_22261110\",\"LINEJ1_DM_3L_RaGOO_22531026_22531626\",\"LINEJ1_DM_3L_RaGOO_2446918_2447256\",\"LINEJ1_DM_3L_RaGOO_2780157_2780510\",\"LINEJ1_DM_3L_RaGOO_8152194_8154624\",\"LINEJ1_DM_3R_RaGOO_19526132_19526396\",\"LINEJ1_DM_3R_RaGOO_7164645_7169623\",\"LINEJ1_DM_X_RaGOO_14865499_14865833\",\"LINEJ1_DM_X_RaGOO_16362095_16362449\",\"LINEJ1_DM_X_RaGOO_19652833_19656224\",\"LINEJ1_DM_X_RaGOO_7424439_7433932\",\"LOOPER1_DM_2R_RaGOO_3949985_3952462\",\"M4DM_2L_RaGOO_20556174_20557598\",\"M4DM_2R_RaGOO_2014409_2015841\",\"M4DM_2R_RaGOO_344818_345841\",\"M4DM_2R_RaGOO_4214054_4215593\",\"M4DM_3L_RaGOO_22270623_22272063\",\"M4DM_3L_RaGOO_25693372_25696157\",\"MAX_LTR_2R_RaGOO_137030_138260\",\"MAX_LTR_3L_RaGOO_18036944_18045426\",\"MAX_LTR_3L_RaGOO_24378598_24386713\",\"MAX_LTR_3L_RaGOO_24772475_24783045\",\"MAX_LTR_3L_RaGOO_3640512_3649209\",\"MAX_LTR_3R_RaGOO_2817082_2818238\",\"MDG1_I_3L_RaGOO_5843715_5847721\",\"MDG1_I_3L_RaGOO_5902786_5906792\",\"MDG1_LTR_3L_RaGOO_22730419_22737426\",\"MDG1_LTR_X_RaGOO_6133671_6134025\",\"MDG3_LTR_3R_RaGOO_4405841_4411373\",\"MDG3_LTR_X_RaGOO_11132720_11138277\",\"MDG3_LTR_X_RaGOO_11298256_11303771\",\"MDG3_LTR_X_RaGOO_14587062_14592565\",\"MDG3_LTR_X_RaGOO_15113881_15119378\",\"MICROPIA_I_2R_RaGOO_21655615_21659568\",\"MICROPIA_I_2R_RaGOO_3123540_3124639\",\"MICROPIA_I_2R_RaGOO_3215745_3216844\",\"MICROPIA_I_3L_RaGOO_4604350_4608941\",\"MICROPIA_I_3R_RaGOO_15561841_15565791\",\"MICROPIA_I_3R_RaGOO_23396903_23401501\",\"MICROPIA_I_3R_RaGOO_23423966_23428126\",\"MICROPIA_I_3R_RaGOO_31083506_31088004\",\"MICROPIA_I_4_RaGOO_311799_315755\",\"MICROPIA_I_X_RaGOO_17340828_17345349\",\"MICROPIA_I_X_RaGOO_3133282_3137242\",\"MICROPIA_I_X_RaGOO_603817_607773\",\"Mariner2_DM_2L_RaGOO_21507526_21508443\",\"Mariner2_DM_2R_RaGOO_1808583_1809435\",\"Mariner2_DM_2R_RaGOO_6313845_6314821\",\"Mariner2_DM_3L_RaGOO_22748069_22749176\",\"Mariner2_DM_3L_RaGOO_22903450_22904558\",\"Mariner2_DM_3L_RaGOO_26311078_26311875\",\"Mariner2_DM_4_RaGOO_638924_639677\",\"Mariner2_DM_X_RaGOO_21869176_21870046\",\"NINJA_I_3R_RaGOO_1358085_1360185\",\"NINJA_LTR_3L_RaGOO_25746489_25749281\",\"NINJA_LTR_3R_RaGOO_3468445_3473299\",\"NINJA_LTR_3R_RaGOO_615399_620854\",\"NOMAD_I_2L_RaGOO_22581023_22587526\",\"NOMAD_I_2R_RaGOO_383343_386109\",\"NOMAD_I_2R_RaGOO_4093744_4094800\",\"NOMAD_LTR_2L_RaGOO_13384378_13391980\",\"NOMAD_LTR_2L_RaGOO_3400786_3408481\",\"NOMAD_LTR_2R_RaGOO_15583316_15590827\",\"NOMAD_LTR_2R_RaGOO_1925644_1932366\",\"NOMAD_LTR_2R_RaGOO_20674240_20681841\",\"NOMAD_LTR_2R_RaGOO_471172_473817\",\"NOMAD_LTR_3L_RaGOO_10268410_10275872\",\"NOMAD_LTR_3L_RaGOO_23497748_23505249\",\"NOMAD_LTR_3R_RaGOO_1014813_1022279\",\"NOMAD_LTR_3R_RaGOO_28971169_28974159\",\"NOMAD_LTR_X_RaGOO_11398933_11406469\",\"NOMAD_LTR_X_RaGOO_14781769_14789300\",\"POGO_2L_RaGOO_2955877_2958004\",\"POGO_2R_RaGOO_16569084_16570235\",\"POGO_2R_RaGOO_7201268_7202754\",\"POGO_3L_RaGOO_9733928_9735150\",\"POGO_3R_RaGOO_11285980_11288111\",\"POGO_X_RaGOO_14998652_15000110\",\"PROTOP_3L_RaGOO_25377208_25377594\",\"PROTOP_3L_RaGOO_25955252_25957435\",\"PROTOP_3L_RaGOO_26174341_26176865\",\"PROTOP_4_RaGOO_358464_360439\",\"PROTOP_A_3L_RaGOO_18608230_18609333\",\"PROTOP_A_3R_RaGOO_1946916_1947766\",\"PROTOP_A_3R_RaGOO_2145521_2146619\",\"PROTOP_A_4_RaGOO_24706_25801\",\"PROTOP_B_2R_RaGOO_6428707_6429467\",\"PROTOP_B_3L_RaGOO_26361704_26362962\",\"PROTOP_B_4_RaGOO_175159_176280\",\"QUASIMODO2-I_DM_3R_RaGOO_777690_778919\",\"QUASIMODO2-LTR_DM_4_RaGOO_13230_19659\",\"QUASIMODO_I_2L_RaGOO_22728039_22732539\",\"QUASIMODO_I_2R_RaGOO_2240068_2244259\",\"QUASIMODO_I_2R_RaGOO_3071782_3075068\",\"QUASIMODO_I_2R_RaGOO_3940692_3953437\",\"QUASIMODO_I_2R_RaGOO_4031047_4034609\",\"QUASIMODO_I_3L_RaGOO_25608743_25613047\",\"QUASIMODO_LTR_2R_RaGOO_2572412_2572983\",\"QUASIMODO_LTR_2R_RaGOO_3561204_3567967\",\"QUASIMODO_LTR_3L_RaGOO_23734260_23734917\",\"QUASIMODO_LTR_3L_RaGOO_25055074_25055510\",\"QUASIMODO_LTR_3R_RaGOO_1809892_1810303\",\"QUASIMODO_LTR_3R_RaGOO_2062159_2066713\",\"QUASIMODO_LTR_3R_RaGOO_2953500_2957027\",\"QUASIMODO_LTR_3R_RaGOO_2970516_2971173\",\"QUASIMODO_LTR_3R_RaGOO_3643836_3644407\",\"ROOA_I_2R_RaGOO_3369128_3375460\",\"ROOA_LTR_2R_RaGOO_4206312_4212475\",\"ROOA_LTR_2R_RaGOO_944947_948834\",\"ROO_I_2R_RaGOO_17052400_17055914\",\"ROO_I_2R_RaGOO_18916354_18932157\",\"ROO_I_3L_RaGOO_11054181_11056742\",\"ROO_I_3L_RaGOO_19559699_19561114\",\"ROO_I_3L_RaGOO_2683031_2690542\",\"ROO_I_3R_RaGOO_12957465_12959168\",\"ROO_I_3R_RaGOO_13786472_13790447\",\"ROO_I_3R_RaGOO_15240450_15245518\",\"ROO_I_3R_RaGOO_1548324_1562666\",\"ROO_I_3R_RaGOO_6611977_6613484\",\"ROO_I_X_RaGOO_13302951_13311186\",\"ROO_I_X_RaGOO_19301259_19305308\",\"ROO_I_X_RaGOO_5586864_5594591\",\"ROO_LTR_2L_RaGOO_1554051_1563114\",\"ROO_LTR_3L_RaGOO_9180412_9189520\",\"ROO_LTR_3R_RaGOO_24484209_24493255\",\"ROVER-I_DM_3R_RaGOO_602392_603894\",\"ROVER-LTR_DM_2R_RaGOO_3256225_3263561\",\"S2_DM_2L_RaGOO_22291772_22294164\",\"S_DM_2L_RaGOO_22311465_22313092\",\"S_DM_2R_RaGOO_1267254_1268295\",\"S_DM_2R_RaGOO_7347017_7347832\",\"S_DM_3L_RaGOO_15369099_15370829\",\"S_DM_3L_RaGOO_23313261_23315488\",\"S_DM_3L_RaGOO_23677604_23678414\",\"S_DM_3L_RaGOO_24954457_24956189\",\"S_DM_3L_RaGOO_26043127_26044812\",\"S_DM_3R_RaGOO_657036_657953\",\"S_DM_4_RaGOO_220378_221042\",\"TABOR_I_2R_RaGOO_2811324_2817616\",\"TABOR_LTR_2R_RaGOO_1855147_1862128\",\"TABOR_LTR_X_RaGOO_18271260_18278107\",\"TAHRE_2L_RaGOO_38366_47731\",\"TAHRE_2L_RaGOO_5229_7346\",\"TAHRE_2L_RaGOO_5506_7403\",\"TAHRE_2R_RaGOO_1145909_1151824\",\"TAHRE_2R_RaGOO_1151895_1152439\",\"TAHRE_2R_RaGOO_3700966_3703361\",\"TAHRE_3L_RaGOO_20705_26581\",\"TAHRE_3L_RaGOO_24249813_24257637\",\"TAHRE_3L_RaGOO_24252861_24253713\",\"TAHRE_3L_RaGOO_2547_12261\",\"TAHRE_X_RaGOO_94808_95641\",\"TART-A_3L_RaGOO_16376942_16377642\",\"TART-A_3L_RaGOO_24811306_24813320\",\"TART-A_3L_RaGOO_24818846_24827437\",\"TART-A_4_RaGOO_1262950_1263513\",\"TART-A_X_RaGOO_3270_3823\",\"TART-A_X_RaGOO_3_3271\",\"TART_B1_2R_RaGOO_23920095_23923160\",\"TIRANT_LTR_2L_RaGOO_20669409_20674055\",\"TIRANT_LTR_2L_RaGOO_22323129_22326580\",\"TIRANT_LTR_3L_RaGOO_23807453_23815973\",\"TIRANT_LTR_3R_RaGOO_22583602_22592157\",\"TOM_I_3R_RaGOO_779996_780755\",\"TRANSIB2_2L_RaGOO_21593386_21595342\",\"TRANSIB2_2R_RaGOO_15059_15670\",\"TRANSIB2_2R_RaGOO_1674937_1676619\",\"TRANSIB2_2R_RaGOO_1819719_1821473\",\"TRANSIB2_2R_RaGOO_3035974_3037999\",\"TRANSIB2_2R_RaGOO_3421509_3423952\",\"TRANSIB2_2R_RaGOO_5449525_5451701\",\"TRANSIB2_3L_RaGOO_14769394_14771004\",\"TRANSIB2_3L_RaGOO_23526338_23527136\",\"TRANSIB2_3L_RaGOO_24511852_24514346\",\"TRANSIB2_3R_RaGOO_1753687_1756027\",\"TRANSIB2_X_RaGOO_21175244_21178316\",\"TRANSIB2_X_RaGOO_22006547_22007658\",\"TRANSIB3_3R_RaGOO_2204217_2205631\",\"TRANSIB3_3R_RaGOO_2679434_2681620\",\"TRANSIB4_2R_RaGOO_4423372_4424755\",\"TRANSPAC_I_3R_RaGOO_26707140_26711871\",\"TRANSPAC_LTR_2L_RaGOO_2221225_2226474\",\"TRANSPAC_LTR_2L_RaGOO_8985200_8990448\",\"TRANSPAC_LTR_2R_RaGOO_109057_114306\",\"TRANSPAC_LTR_2R_RaGOO_15245759_15251009\",\"TRANSPAC_LTR_2R_RaGOO_21445727_21450940\",\"TRANSPAC_LTR_3L_RaGOO_1562415_1567666\",\"TRANSPAC_LTR_3R_RaGOO_21217775_21223024\",\"TRANSPAC_LTR_X_RaGOO_17017750_17022983\",\"TRANSPAC_LTR_X_RaGOO_19519061_19524304\",\"TRANSPAC_LTR_X_RaGOO_4638939_4644186\",\"Transib5_3R_RaGOO_1262033_1264059\",\"ZAM_I_3R_RaGOO_1939464_1943501\",\"ZAM_LTR_2R_RaGOO_1559245_1563723\",\"ZAM_LTR_3R_RaGOO_3216098_3221945\",\"ACCORD\",\"ACCORD2\",\"BARI1\",\"BATUMI\",\"BEL\",\"BLASTOPIA\",\"BS\",\"BS2\",\"BS3_DM\",\"BS4_DM\",\"BURDOCK\",\"Baggins1\",\"Bica\",\"CIRCE\",\"Chimpo\",\"Chouto\",\"Copia\",\"Copia1\",\"Copia2\",\"DIVER\",\"DIVER2\",\"DM1731\",\"DM176\",\"DM297\",\"DM412\",\"DM412B\",\"DMCR1A\",\"DMLTR5\",\"DMRT1A\",\"DMRT1B\",\"DMRT1C\",\"DMTOM1\",\"DNAREP1_DM\",\"DOC\",\"DOC2_DM\",\"DOC3_DM\",\"DOC4_DM\",\"DOC6_DM\",\"FB4_DM\",\"FROGGER\",\"FW2_DM\",\"FW3_DM\",\"G2_DM\",\"G3_DM\",\"G4_DM\",\"G5A_DM\",\"G5_DM\",\"G_DM\",\"Gypsy\",\"Gypsy10\",\"Gypsy12\",\"Gypsy12A\",\"Gypsy2\",\"Gypsy4\",\"Gypsy5\",\"Gypsy6\",\"Gypsy6A\",\"Gypsy8\",\"Gypsy9\",\"HETA\",\"HMSBEAGLE\",\"HOBO\",\"IDEFIX\",\"I_DM\",\"Invader1\",\"Invader2\",\"Invader3\",\"Invader4\",\"Invader6\",\"Jockey2\",\"LINEJ1_DM\",\"LOOPER1_DM\",\"M4DM\",\"MAX\",\"MDG1\",\"MDG3\",\"MICROPIA\",\"Mariner2_DM\",\"NINJA\",\"NOMAD\",\"POGO\",\"PROTOP\",\"PROTOP_A\",\"PROTOP_B\",\"QUASIMODO\",\"QUASIMODO2\",\"ROO\",\"ROOA\",\"ROVER\",\"S2_DM\",\"S_DM\",\"TABOR\",\"TAHRE\",\"TART-A\",\"TART_B1\",\"TIRANT\",\"TOM\",\"TRANSIB2\",\"TRANSIB3\",\"TRANSIB4\",\"TRANSPAC\",\"Transib5\",\"ZAM\",\"CMC-Transib\",\"CR1\",\"Copia\",\"Gypsy\",\"Helitron\",\"I\",\"I-Jockey\",\"P\",\"Pao\",\"PiggyBac\",\"R1\",\"R1-LOA\",\"TcMar-Pogo\",\"TcMar-Tc1\",\"hAT-hobo\",\"DNA\",\"LINE\",\"LTR\",\"RC\"],\"marker\":{\"coloraxis\":\"coloraxis\",\"colors\":[0.2130044843049327,0.4954954954954955,0.5681818181818182,0.9275179856115108,0.2405740695694478,0.5286321327397815,0.1906967378171566,0.9330451039962608,0.8834688346883469,0.2685555362419607,0.3063673311399265,0.2361516034985422,0.6771516788884601,0.2772792534099066,0.3220264558976892,0.3373521196187972,0.3196381142098273,0.1367267747089705,0.1972472472472472,0.1266453928998803,0.1175209380234506,0.136896498534629,0.1148665964292833,0.1582444835407084,0.1527639607374983,0.1231919432993418,0.3569311820875864,0.3142011834319526,0.4340314692749308,0.5262512266928361,0.5929675013319127,0.8415235839747385,0.45508982035928136,0.5866666666666667,0.8944213923467036,0.5315068493150685,0.2984305457952682,0.4274387874076953,0.2700884275278739,0.9212535154680594,0.23383838383838376,0.1711936725986055,0.3306106573317775,0.3801719114219113,0.1828770413064361,0.1308179990722127,0.4103846153846154,0.3746572659616138,0.9426751592356688,0.9997120644975526,0.3061875398681692,0.8368592351505288,0.1625154566331036,0.1619615430173333,0.109437751004016,0.3006067291781577,0.2596230001584033,0.3055726600985222,0.1410955347871235,0.7334568554790895,0.7508719481813653,0.2206756756756757,0.9978902953586498,0.190210027100271,0.7557529269277352,0.8938326205287714,0.91044501962094,0.8361159929701232,0.908524717789023,0.7663170163170167,0.8792709548448925,0.8922610938108213,0.9181959564541214,0.7837575286574705,0.8202443280977312,0.7881818181818182,0.2544592030360531,0.4599877825290165,0.4537381839014609,0.8677685950413223,0.23336527201107202,0.2085036794766966,0.3007703655138501,0.3079656862745098,0.5934803451581975,0.4749931544359255,0.1196474848542056,0.2425980261403041,0.2355019330755899,0.271690629647992,0.3841010401188707,0.1762807583703106,0.1738694139684238,0.186919727220442,0.1196331804918716,0.7416835406421753,0.3683127572016461,0.9125,0.1220815425717272,0.1515333734215273,0.1184104960120817,0.1019861286254728,0.1173310715295448,0.1198756007916313,0.1156435643564356,0.1872015281757402,0.5815630481387644,1.0,0.7707612456747405,0.7951960490870997,1.0,0.3974358974358974,0.1563388288800455,0.1561791383219954,0.4323144104803493,0.2259541984732824,0.585030549898167,0.2722457627118644,0.7481481481481481,0.9696969696969696,0.4792626728110599,0.7183856502242153,0.1255098839033573,0.8046342270771267,0.474368,0.4456018518518518,0.6069588392063962,0.2857142857142857,0.3008225616921269,0.3356294536817102,0.3825597749648382,0.8923212709620476,0.1663649529326575,0.113582443653618,0.744875708678587,0.1407624633431085,0.8242524916943521,0.3011107254425547,0.6594758064516129,0.4809081527347781,0.4765670939668352,0.4739588292422829,0.8953866146848602,0.2646913580246913,0.4582766439909296,0.41646754924120105,0.48665608092213586,0.615703550142524,0.3957783641160949,0.5890596745027125,0.7634316046194676,0.7006651884700665,0.5065772504513799,0.8604651162790697,0.4009691096305269,0.5068493150684932,0.3685503685503685,0.3685503685503685,0.1832993105573316,0.2104462123832584,0.8377501352082206,0.9722814498933902,0.6799537839399191,0.7597960279119699,0.2916906543849549,0.6098142363965149,0.4313725490196078,0.2064350112001777,0.7274119448698315,0.2545582047685835,0.8849642421070993,0.3483551149166291,0.6146044624746451,0.5894803017602682,0.109743321110529,0.5569593598652348,0.6574074074074074,0.6115520282186949,0.17061973986228,0.5832675611681136,0.3799915754001685,0.6671698113207547,0.4737620103473762,0.1719022687609075,0.1591534079748576,0.3567023026315789,0.1703201603455102,0.3463957426221577,0.40928020172690444,0.4413787878787878,0.1177100053504547,0.4440780434185216,1.0,0.1801692865779927,0.1575123510607381,0.2183297947629157,0.19129392971246,0.1329388560157791,0.2736233854520734,1.0,0.5362441712590081,0.1543762922122674,0.4921630094043887,0.5056662758890191,0.7252475247524752,0.1579244074311339,0.2020610224287735,0.1633705475810739,0.555815768930523,0.136975328420378,0.1624002202036884,0.1894205443371378,0.5385755830529738,0.2794002517119384,0.3693528693528693,0.504225352112676,0.3470783492858004,0.5797385620915033,0.3578679055101831,0.3589542406253238,0.6468633315739056,0.2747797265111011,0.343890134529148,0.3622656266325161,0.2139966508512419,0.5659871244635193,0.1788409054422861,0.2511820330969267,0.1544799176107106,0.1235895393601486,0.5861546235472461,0.1290948798835234,0.1578898828737434,0.3105560032232071,0.1272302463891249,0.2865950676213206,0.2639543537583726,0.2555306984837186,0.2324487739334901,0.2072368421052631,0.2594987873888439,0.3466744006187162,0.2622549019607843,0.5829682365826944,0.1611836059547877,0.19375,0.390875596012137,0.5665231652316522,0.1360454115421003,0.2548262548262548,0.9173419773095624,1.0,0.3684210526315789,0.7330188516233824,0.7138643067846607,0.5535889872173058,0.1907013396375098,0.4930747922437673,0.2344652459669388,0.1609403254972875,0.5674255691768827,0.9585798816568049,0.2940446650124069,0.3847980997624703,0.4033333333333333,0.4822485207100592,0.5042492917847026,0.5460905349794238,0.6742424242424242,0.9766974688629972,0.9700598802395208,0.9152542372881356,0.7994691831318195,0.2701990940693142,0.1748082357690755,0.5107092696629214,0.3857076350093109,0.4281524926686217,0.570890188434048,0.3930555555555555,0.1685697187312986,0.8951219512195122,0.3095967932091488,0.1481767770122668,0.1147587511825922,0.3505519144532597,0.833044982698962,0.1070893659510733,0.1070893659510733,0.1847438276009704,0.536723163841808,0.1388286334056399,0.2230520064783156,0.2152311876699909,0.2252407777575867,0.139348735674004,0.1788515051859347,0.2192902638762511,0.2165605095541401,0.3944129819211501,0.1789873417721519,0.4627011744236624,0.1914663461538461,0.6128835037794576,0.1787158746208291,0.7073656270736564,0.2194444444444444,0.1787158746208291,0.9232551799345692,0.732981220657277,0.694672131147541,0.8853884372177055,0.865876628472767,0.9498117942283564,0.5909694555112882,0.2126436781609195,0.4647619047619047,0.6701289398280803,0.4429336629583848,0.5303391384051329,0.1696755343687529,0.2934442034225114,0.9015151515151516,0.2526368658965344,0.1735542560103963,0.2174311010517907,0.1200535554894376,0.1685699250098671,0.7795841209829868,0.1672473867595819,0.139448073590188,0.1138494508438253,0.8147157190635451,0.2299568133564949,0.6082193599787545,0.9590973201692524,0.6927309585867363,0.9017100783785926,0.6910801963993454,0.9563585171281088,0.7423411065386375,0.6269430051813472,0.55825316842266,0.1184627575277337,0.260253164556962,0.7307343608340888,0.5011764705882353,0.3424408014571949,0.365296803652968,0.2276315789473684,0.2893481717011129,0.4249182277728219,0.5419039869812856,0.1496344688131902,0.146,0.2283464566929134,0.1386691012375735,0.9945076500588466,0.3089504439869404,0.2300185873605948,0.2784588441330998,0.2039528808714081,0.2420091324200913,0.8911824668705403,0.9927007299270072,0.2441809398331137,0.1565069464133824,0.8401826484018264,0.7279095685400414,0.4112444725205306,0.517442803829304,0.7473630048880885,0.1145418326693227,0.1354806049484275,0.649746192893401,0.4593639575971732,0.1271468512847823,0.6585018035399716,1.0,0.37476979742173117,0.9588620833914376,0.1473125414731254,0.3045537340619307,0.1405285255618671,0.1277015659376213,0.1087939975725477,0.1041941150636802,0.1094406367455228,0.1731025299600532,0.4446564885496183,0.7667224080267558,0.2169637369391518,0.3679154658981748,0.3214723926380368,0.2757225433526011,0.1558149977548271,0.2765432098765432,0.2754041570438799,0.2498516320474777,0.2682660850599782,0.8373493975903614,0.3423394787031151,0.3632717375734136,0.2877172484299693,0.1341163908168713,0.3711620217288616,0.3263046916183447,0.1650536153561218,0.4944852941176471,0.722658019810776,0.6050967302751492,0.4852938107758441,0.2065727699530516,0.204360499767021,0.3529411764705882,0.8735714285714286,0.7336974511751074,0.2203468746362472,0.7010065127294257,0.3077757685352622,0.5059421810339804,0.6237367166190034,0.8160137752905726,0.2683280208635178,0.7656103286384977,0.8815897136177674,0.3254281949934124,0.2837423312883436,0.2405891980360065,0.1771700356718192,0.1316989737742303,0.4666666666666667,0.4032183790421612,0.3927389705882353,0.7453416149068323,0.2756892230576441,0.2632718524458701,0.4600989653621232,0.1171875,0.3159315931593159,0.7496463932107497,0.7421469960353767,0.5900216919739696,0.1519763263580638,0.158083021104549,0.1583460365853658,0.1676509811392646,0.3013333333333333,0.2100820822437832,0.160820161239129,0.1733391394279182,0.1370150965029619,0.1545734448652625,0.1534210024776062,0.3000987166831194,0.2918008422095615,0.2266636891469406,0.1818988370104327,0.5318386568386568,0.2130044843049327,0.9275179856115108,0.43537948577993074,0.3737555581526857,0.13719610200567275,0.7129641208308861,0.44326135913104975,0.5992208172280594,0.5866666666666667,0.318828245470548,0.3835891033173642,0.7713584996879799,0.15721183072593037,0.3006067291781577,0.29025610678514924,0.862776383254051,0.1410955347871235,0.7066009870708556,0.2392592414890811,0.49265265981403666,0.46883407599019516,0.14189046708757833,0.3278958348834313,0.38612695142814557,0.17467319543571938,0.14171609647159394,0.11955352477565619,0.8605210160462547,0.8072206589204692,0.3974358974358974,0.15625898360102045,0.6591776621428393,0.4196146081926907,0.5927746381171811,0.5935124235935175,0.29326842370320627,0.35909461432327416,0.5391919914388633,0.48665608092213586,0.6412659340703586,0.196872761470295,0.8377501352082206,0.7530357004282869,0.352858067518504,0.7192221864229119,0.44515535017655833,0.5609910030869821,0.33329433980174117,0.3896713842462611,0.25939513391707886,0.5704659108340655,0.4677845306713004,0.1688408188193654,0.2183297947629157,1.0,0.24055988412369136,0.45105436307873603,0.23904926891452136,0.37585607864585896,0.2139966508512419,0.5659871244635193,0.1948159450218225,0.2865950676213206,0.2433662748085123,0.2689162330184019,0.44780109204759416,0.390875596012137,0.442827387882494,0.7338525677298342,0.5248413376096,0.1748082357690755,0.3242815432773626,0.32622688803124344,0.22407791018917908,0.20065316411142875,0.37336534289716133,0.8231628968839787,0.5346937404394851,0.2544080696542253,0.8602152305124954,0.4467364054223371,0.48491210913312177,0.3583468867933894,0.472223608333183,0.3457692278972379,0.37548737994161424,0.5586834270793076,0.30887950925483576,0.7667224080267558,0.32016789346159774,0.33391698585240326,0.32204826802153586,0.5429957647095778,0.6237367166190034,0.7494496174465807,0.3254281949934124,0.3838357137272301,0.7432183384890013,0.5900216919739696,0.17309190299180785,0.3000987166831194,0.1956589043316308,0.39149164995822905,0.14171609647159394,0.7504176174986564,0.25628868905233637,0.6591776621428393,0.2865950676213206,0.4458047106851237,0.4274534202022305,0.39400142694937046,0.1748082357690755,0.7940688857569316,0.3835891033173642,0.8602152305124954,0.6515743634247398,0.5659871244635193,0.561590764667392,0.44888238727500696,0.41158112076396564,0.6591776621428393]},\"name\":\"\",\"parents\":[\"LTR/Gypsy/ACCORD2\",\"LTR/Gypsy/ACCORD\",\"LTR/Gypsy/ACCORD\",\"DNA/TcMar-Tc1/BARI1\",\"LTR/Pao/BATUMI\",\"LTR/Pao/BATUMI\",\"LTR/Pao/BATUMI\",\"LTR/Pao/BATUMI\",\"LTR/Pao/BEL\",\"LTR/Pao/BEL\",\"LTR/Pao/BEL\",\"LTR/Pao/BEL\",\"LTR/Pao/BEL\",\"LTR/Pao/BEL\",\"LTR/Pao/BEL\",\"LTR/Pao/BEL\",\"LTR/Pao/BEL\",\"LTR/Gypsy/BLASTOPIA\",\"LTR/Gypsy/BLASTOPIA\",\"LTR/Gypsy/BLASTOPIA\",\"LTR/Gypsy/BLASTOPIA\",\"LTR/Gypsy/BLASTOPIA\",\"LTR/Gypsy/BLASTOPIA\",\"LTR/Gypsy/BLASTOPIA\",\"LTR/Gypsy/BLASTOPIA\",\"LTR/Gypsy/BLASTOPIA\",\"LTR/Gypsy/BLASTOPIA\",\"LINE/I-Jockey/BS2\",\"LINE/I-Jockey/BS2\",\"LINE/I-Jockey/BS2\",\"LINE/I-Jockey/BS3_DM\",\"LINE/I-Jockey/BS3_DM\",\"LINE/I-Jockey/BS3_DM\",\"LINE/I-Jockey/BS4_DM\",\"LINE/I-Jockey/BS\",\"LINE/I-Jockey/BS\",\"LTR/Gypsy/BURDOCK\",\"LTR/Gypsy/BURDOCK\",\"LTR/Gypsy/BURDOCK\",\"LTR/Gypsy/BURDOCK\",\"LTR/Gypsy/BURDOCK\",\"LTR/Gypsy/BURDOCK\",\"LTR/Gypsy/BURDOCK\",\"LTR/Gypsy/BURDOCK\",\"LTR/Gypsy/BURDOCK\",\"LTR/Gypsy/BURDOCK\",\"LINE/R1-LOA/Baggins1\",\"LINE/R1-LOA/Baggins1\",\"LTR/Gypsy/Bica\",\"LTR/Gypsy/Bica\",\"LTR/Gypsy/Bica\",\"LTR/Gypsy/Bica\",\"LTR/Gypsy/CIRCE\",\"LTR/Gypsy/CIRCE\",\"LTR/Gypsy/CIRCE\",\"LTR/Gypsy/Chimpo\",\"LTR/Gypsy/Chouto\",\"LTR/Gypsy/Chouto\",\"LTR/Copia/Copia1\",\"LTR/Copia/Copia2\",\"LTR/Copia/Copia2\",\"LTR/Copia/Copia2\",\"LTR/Copia/Copia2\",\"LTR/Copia/Copia\",\"LTR/Copia/Copia\",\"LTR/Copia/Copia\",\"LTR/Copia/Copia\",\"LTR/Copia/Copia\",\"LTR/Copia/Copia\",\"LTR/Copia/Copia\",\"LTR/Copia/Copia\",\"LTR/Copia/Copia\",\"LTR/Copia/Copia\",\"LTR/Copia/Copia\",\"LTR/Pao/DIVER2\",\"LTR/Pao/DIVER2\",\"LTR/Pao/DIVER2\",\"LTR/Pao/DIVER2\",\"LTR/Pao/DIVER2\",\"LTR/Pao/DIVER2\",\"LTR/Pao/DIVER2\",\"LTR/Pao/DIVER\",\"LTR/Pao/DIVER\",\"LTR/Copia/DM1731\",\"LTR/Copia/DM1731\",\"LTR/Copia/DM1731\",\"LTR/Gypsy/DM176\",\"LTR/Gypsy/DM176\",\"LTR/Gypsy/DM176\",\"LTR/Gypsy/DM297\",\"LTR/Gypsy/DM297\",\"LTR/Gypsy/DM412B\",\"LTR/Gypsy/DM412B\",\"LTR/Gypsy/DM412\",\"LTR/Gypsy/DM412\",\"LTR/Gypsy/DM412\",\"LTR/Gypsy/DM412\",\"LTR/Gypsy/DM412\",\"LINE/CR1/DMCR1A\",\"LINE/CR1/DMCR1A\",\"LTR/Gypsy/DMLTR5\",\"LTR/Gypsy/DMLTR5\",\"LTR/Gypsy/DMLTR5\",\"LTR/Gypsy/DMLTR5\",\"LTR/Gypsy/DMLTR5\",\"LTR/Gypsy/DMLTR5\",\"LINE/R1/DMRT1A\",\"LINE/R1/DMRT1A\",\"LINE/R1/DMRT1B\",\"LINE/R1/DMRT1B\",\"LINE/R1/DMRT1B\",\"LINE/R1/DMRT1C\",\"LTR/Gypsy/DMTOM1\",\"LTR/Gypsy/DMTOM1\",\"RC/Helitron/DNAREP1_DM\",\"RC/Helitron/DNAREP1_DM\",\"RC/Helitron/DNAREP1_DM\",\"RC/Helitron/DNAREP1_DM\",\"RC/Helitron/DNAREP1_DM\",\"RC/Helitron/DNAREP1_DM\",\"RC/Helitron/DNAREP1_DM\",\"RC/Helitron/DNAREP1_DM\",\"LINE/I-Jockey/DOC2_DM\",\"LINE/I-Jockey/DOC2_DM\",\"LINE/I-Jockey/DOC2_DM\",\"LINE/I-Jockey/DOC3_DM\",\"LINE/I-Jockey/DOC3_DM\",\"LINE/I-Jockey/DOC4_DM\",\"LINE/I-Jockey/DOC4_DM\",\"LINE/I-Jockey/DOC6_DM\",\"LINE/I-Jockey/DOC6_DM\",\"LINE/I-Jockey/DOC\",\"LINE/I-Jockey/DOC\",\"LINE/I-Jockey/DOC\",\"LINE/I-Jockey/DOC\",\"LINE/I-Jockey/DOC\",\"LINE/I-Jockey/DOC\",\"LINE/I-Jockey/DOC\",\"DNA/TcMar-Tc1/FB4_DM\",\"DNA/TcMar-Tc1/FB4_DM\",\"DNA/TcMar-Tc1/FB4_DM\",\"DNA/TcMar-Tc1/FB4_DM\",\"DNA/TcMar-Tc1/FB4_DM\",\"DNA/TcMar-Tc1/FB4_DM\",\"DNA/TcMar-Tc1/FB4_DM\",\"DNA/TcMar-Tc1/FB4_DM\",\"LTR/Copia/FROGGER\",\"LINE/I-Jockey/FW2_DM\",\"LINE/I-Jockey/FW2_DM\",\"LINE/I-Jockey/FW2_DM\",\"LINE/I-Jockey/FW2_DM\",\"LINE/I-Jockey/FW2_DM\",\"LINE/I-Jockey/FW2_DM\",\"LINE/I-Jockey/FW2_DM\",\"LINE/I-Jockey/FW2_DM\",\"LINE/I-Jockey/FW2_DM\",\"LINE/I-Jockey/FW2_DM\",\"LINE/I-Jockey/FW2_DM\",\"LINE/I-Jockey/FW3_DM\",\"LINE/I-Jockey/FW3_DM\",\"LINE/I-Jockey/G2_DM\",\"LINE/I-Jockey/G3_DM\",\"LINE/I-Jockey/G3_DM\",\"LINE/I-Jockey/G4_DM\",\"LINE/I-Jockey/G4_DM\",\"LINE/I-Jockey/G4_DM\",\"LINE/I-Jockey/G4_DM\",\"LINE/I-Jockey/G4_DM\",\"LINE/I-Jockey/G4_DM\",\"LINE/I-Jockey/G4_DM\",\"LINE/I-Jockey/G5A_DM\",\"LINE/I-Jockey/G5A_DM\",\"LINE/I-Jockey/G5A_DM\",\"LINE/I-Jockey/G5A_DM\",\"LINE/I-Jockey/G5_DM\",\"LINE/I-Jockey/G5_DM\",\"LINE/I-Jockey/G_DM\",\"LINE/I-Jockey/G_DM\",\"LINE/I-Jockey/G_DM\",\"LTR/Gypsy/Gypsy10\",\"LTR/Gypsy/Gypsy10\",\"LTR/Gypsy/Gypsy12A\",\"LTR/Gypsy/Gypsy12A\",\"LTR/Gypsy/Gypsy12\",\"LTR/Gypsy/Gypsy12\",\"LTR/Gypsy/Gypsy12\",\"LTR/Gypsy/Gypsy12\",\"LTR/Gypsy/Gypsy12\",\"LTR/Gypsy/Gypsy12\",\"LTR/Gypsy/Gypsy2\",\"LTR/Gypsy/Gypsy2\",\"LTR/Gypsy/Gypsy2\",\"LTR/Gypsy/Gypsy2\",\"LTR/Gypsy/Gypsy4\",\"LTR/Gypsy/Gypsy4\",\"LTR/Gypsy/Gypsy5\",\"LTR/Gypsy/Gypsy6A\",\"LTR/Gypsy/Gypsy6A\",\"LTR/Gypsy/Gypsy6A\",\"LTR/Gypsy/Gypsy6\",\"LTR/Gypsy/Gypsy8\",\"LTR/Gypsy/Gypsy8\",\"LTR/Gypsy/Gypsy8\",\"LTR/Gypsy/Gypsy9\",\"LTR/Gypsy/Gypsy9\",\"LTR/Gypsy/Gypsy9\",\"LTR/Gypsy/Gypsy9\",\"LTR/Gypsy/Gypsy\",\"LTR/Gypsy/Gypsy\",\"LTR/Gypsy/Gypsy\",\"LTR/Gypsy/Gypsy\",\"LINE/I-Jockey/HETA\",\"LINE/I-Jockey/HETA\",\"LINE/I-Jockey/HETA\",\"LINE/I-Jockey/HETA\",\"LINE/I-Jockey/HETA\",\"LINE/I-Jockey/HETA\",\"LINE/I-Jockey/HETA\",\"LINE/I-Jockey/HETA\",\"LINE/I-Jockey/HETA\",\"LINE/I-Jockey/HETA\",\"LINE/I-Jockey/HETA\",\"LINE/I-Jockey/HETA\",\"LINE/I-Jockey/HETA\",\"LTR/Gypsy/HMSBEAGLE\",\"DNA/hAT-hobo/HOBO\",\"LTR/Gypsy/IDEFIX\",\"LTR/Gypsy/IDEFIX\",\"LTR/Gypsy/IDEFIX\",\"LTR/Gypsy/IDEFIX\",\"LTR/Gypsy/IDEFIX\",\"LTR/Gypsy/IDEFIX\",\"LTR/Gypsy/IDEFIX\",\"LTR/Gypsy/IDEFIX\",\"LTR/Gypsy/IDEFIX\",\"LINE/I/I_DM\",\"LTR/Gypsy/Invader1\",\"LTR/Gypsy/Invader1\",\"LTR/Gypsy/Invader1\",\"LTR/Gypsy/Invader2\",\"LTR/Gypsy/Invader2\",\"LTR/Gypsy/Invader2\",\"LTR/Gypsy/Invader2\",\"LTR/Gypsy/Invader3\",\"LTR/Gypsy/Invader3\",\"LTR/Gypsy/Invader3\",\"LTR/Gypsy/Invader4\",\"LTR/Gypsy/Invader6\",\"LTR/Gypsy/Invader6\",\"LTR/Gypsy/Invader6\",\"LINE/I-Jockey/Jockey2\",\"LINE/I-Jockey/Jockey2\",\"LINE/I-Jockey/Jockey2\",\"LINE/I-Jockey/Jockey2\",\"LINE/I-Jockey/LINEJ1_DM\",\"LINE/I-Jockey/LINEJ1_DM\",\"LINE/I-Jockey/LINEJ1_DM\",\"LINE/I-Jockey/LINEJ1_DM\",\"LINE/I-Jockey/LINEJ1_DM\",\"LINE/I-Jockey/LINEJ1_DM\",\"LINE/I-Jockey/LINEJ1_DM\",\"LINE/I-Jockey/LINEJ1_DM\",\"LINE/I-Jockey/LINEJ1_DM\",\"LINE/I-Jockey/LINEJ1_DM\",\"LINE/I-Jockey/LINEJ1_DM\",\"LINE/I-Jockey/LINEJ1_DM\",\"LINE/I-Jockey/LINEJ1_DM\",\"LINE/I-Jockey/LINEJ1_DM\",\"LINE/I-Jockey/LINEJ1_DM\",\"LINE/I-Jockey/LINEJ1_DM\",\"LINE/I-Jockey/LINEJ1_DM\",\"LINE/I-Jockey/LINEJ1_DM\",\"LINE/I-Jockey/LINEJ1_DM\",\"LINE/I-Jockey/LINEJ1_DM\",\"DNA/PiggyBac/LOOPER1_DM\",\"DNA/CMC-Transib/M4DM\",\"DNA/CMC-Transib/M4DM\",\"DNA/CMC-Transib/M4DM\",\"DNA/CMC-Transib/M4DM\",\"DNA/CMC-Transib/M4DM\",\"DNA/CMC-Transib/M4DM\",\"LTR/Pao/MAX\",\"LTR/Pao/MAX\",\"LTR/Pao/MAX\",\"LTR/Pao/MAX\",\"LTR/Pao/MAX\",\"LTR/Pao/MAX\",\"LTR/Gypsy/MDG1\",\"LTR/Gypsy/MDG1\",\"LTR/Gypsy/MDG1\",\"LTR/Gypsy/MDG1\",\"LTR/Gypsy/MDG3\",\"LTR/Gypsy/MDG3\",\"LTR/Gypsy/MDG3\",\"LTR/Gypsy/MDG3\",\"LTR/Gypsy/MDG3\",\"LTR/Gypsy/MICROPIA\",\"LTR/Gypsy/MICROPIA\",\"LTR/Gypsy/MICROPIA\",\"LTR/Gypsy/MICROPIA\",\"LTR/Gypsy/MICROPIA\",\"LTR/Gypsy/MICROPIA\",\"LTR/Gypsy/MICROPIA\",\"LTR/Gypsy/MICROPIA\",\"LTR/Gypsy/MICROPIA\",\"LTR/Gypsy/MICROPIA\",\"LTR/Gypsy/MICROPIA\",\"LTR/Gypsy/MICROPIA\",\"DNA/TcMar-Tc1/Mariner2_DM\",\"DNA/TcMar-Tc1/Mariner2_DM\",\"DNA/TcMar-Tc1/Mariner2_DM\",\"DNA/TcMar-Tc1/Mariner2_DM\",\"DNA/TcMar-Tc1/Mariner2_DM\",\"DNA/TcMar-Tc1/Mariner2_DM\",\"DNA/TcMar-Tc1/Mariner2_DM\",\"DNA/TcMar-Tc1/Mariner2_DM\",\"LTR/Pao/NINJA\",\"LTR/Pao/NINJA\",\"LTR/Pao/NINJA\",\"LTR/Pao/NINJA\",\"LTR/Gypsy/NOMAD\",\"LTR/Gypsy/NOMAD\",\"LTR/Gypsy/NOMAD\",\"LTR/Gypsy/NOMAD\",\"LTR/Gypsy/NOMAD\",\"LTR/Gypsy/NOMAD\",\"LTR/Gypsy/NOMAD\",\"LTR/Gypsy/NOMAD\",\"LTR/Gypsy/NOMAD\",\"LTR/Gypsy/NOMAD\",\"LTR/Gypsy/NOMAD\",\"LTR/Gypsy/NOMAD\",\"LTR/Gypsy/NOMAD\",\"LTR/Gypsy/NOMAD\",\"LTR/Gypsy/NOMAD\",\"DNA/TcMar-Pogo/POGO\",\"DNA/TcMar-Pogo/POGO\",\"DNA/TcMar-Pogo/POGO\",\"DNA/TcMar-Pogo/POGO\",\"DNA/TcMar-Pogo/POGO\",\"DNA/TcMar-Pogo/POGO\",\"DNA/P/PROTOP\",\"DNA/P/PROTOP\",\"DNA/P/PROTOP\",\"DNA/P/PROTOP\",\"DNA/P/PROTOP_A\",\"DNA/P/PROTOP_A\",\"DNA/P/PROTOP_A\",\"DNA/P/PROTOP_A\",\"DNA/P/PROTOP_B\",\"DNA/P/PROTOP_B\",\"DNA/P/PROTOP_B\",\"LTR/Gypsy/QUASIMODO2\",\"LTR/Gypsy/QUASIMODO2\",\"LTR/Gypsy/QUASIMODO\",\"LTR/Gypsy/QUASIMODO\",\"LTR/Gypsy/QUASIMODO\",\"LTR/Gypsy/QUASIMODO\",\"LTR/Gypsy/QUASIMODO\",\"LTR/Gypsy/QUASIMODO\",\"LTR/Gypsy/QUASIMODO\",\"LTR/Gypsy/QUASIMODO\",\"LTR/Gypsy/QUASIMODO\",\"LTR/Gypsy/QUASIMODO\",\"LTR/Gypsy/QUASIMODO\",\"LTR/Gypsy/QUASIMODO\",\"LTR/Gypsy/QUASIMODO\",\"LTR/Gypsy/QUASIMODO\",\"LTR/Gypsy/QUASIMODO\",\"LTR/Pao/ROOA\",\"LTR/Pao/ROOA\",\"LTR/Pao/ROOA\",\"LTR/Pao/ROO\",\"LTR/Pao/ROO\",\"LTR/Pao/ROO\",\"LTR/Pao/ROO\",\"LTR/Pao/ROO\",\"LTR/Pao/ROO\",\"LTR/Pao/ROO\",\"LTR/Pao/ROO\",\"LTR/Pao/ROO\",\"LTR/Pao/ROO\",\"LTR/Pao/ROO\",\"LTR/Pao/ROO\",\"LTR/Pao/ROO\",\"LTR/Pao/ROO\",\"LTR/Pao/ROO\",\"LTR/Pao/ROO\",\"LTR/Gypsy/ROVER\",\"LTR/Gypsy/ROVER\",\"DNA/TcMar-Tc1/S2_DM\",\"DNA/TcMar-Tc1/S_DM\",\"DNA/TcMar-Tc1/S_DM\",\"DNA/TcMar-Tc1/S_DM\",\"DNA/TcMar-Tc1/S_DM\",\"DNA/TcMar-Tc1/S_DM\",\"DNA/TcMar-Tc1/S_DM\",\"DNA/TcMar-Tc1/S_DM\",\"DNA/TcMar-Tc1/S_DM\",\"DNA/TcMar-Tc1/S_DM\",\"DNA/TcMar-Tc1/S_DM\",\"LTR/Gypsy/TABOR\",\"LTR/Gypsy/TABOR\",\"LTR/Gypsy/TABOR\",\"LINE/I-Jockey/TAHRE\",\"LINE/I-Jockey/TAHRE\",\"LINE/I-Jockey/TAHRE\",\"LINE/I-Jockey/TAHRE\",\"LINE/I-Jockey/TAHRE\",\"LINE/I-Jockey/TAHRE\",\"LINE/I-Jockey/TAHRE\",\"LINE/I-Jockey/TAHRE\",\"LINE/I-Jockey/TAHRE\",\"LINE/I-Jockey/TAHRE\",\"LINE/I-Jockey/TAHRE\",\"LINE/I-Jockey/TART-A\",\"LINE/I-Jockey/TART-A\",\"LINE/I-Jockey/TART-A\",\"LINE/I-Jockey/TART-A\",\"LINE/I-Jockey/TART-A\",\"LINE/I-Jockey/TART-A\",\"LINE/I-Jockey/TART_B1\",\"LTR/Gypsy/TIRANT\",\"LTR/Gypsy/TIRANT\",\"LTR/Gypsy/TIRANT\",\"LTR/Gypsy/TIRANT\",\"LTR/Gypsy/TOM\",\"DNA/CMC-Transib/TRANSIB2\",\"DNA/CMC-Transib/TRANSIB2\",\"DNA/CMC-Transib/TRANSIB2\",\"DNA/CMC-Transib/TRANSIB2\",\"DNA/CMC-Transib/TRANSIB2\",\"DNA/CMC-Transib/TRANSIB2\",\"DNA/CMC-Transib/TRANSIB2\",\"DNA/CMC-Transib/TRANSIB2\",\"DNA/CMC-Transib/TRANSIB2\",\"DNA/CMC-Transib/TRANSIB2\",\"DNA/CMC-Transib/TRANSIB2\",\"DNA/CMC-Transib/TRANSIB2\",\"DNA/CMC-Transib/TRANSIB2\",\"DNA/CMC-Transib/TRANSIB3\",\"DNA/CMC-Transib/TRANSIB3\",\"DNA/CMC-Transib/TRANSIB4\",\"LTR/Gypsy/TRANSPAC\",\"LTR/Gypsy/TRANSPAC\",\"LTR/Gypsy/TRANSPAC\",\"LTR/Gypsy/TRANSPAC\",\"LTR/Gypsy/TRANSPAC\",\"LTR/Gypsy/TRANSPAC\",\"LTR/Gypsy/TRANSPAC\",\"LTR/Gypsy/TRANSPAC\",\"LTR/Gypsy/TRANSPAC\",\"LTR/Gypsy/TRANSPAC\",\"LTR/Gypsy/TRANSPAC\",\"DNA/CMC-Transib/Transib5\",\"LTR/Gypsy/ZAM\",\"LTR/Gypsy/ZAM\",\"LTR/Gypsy/ZAM\",\"LTR/Gypsy\",\"LTR/Gypsy\",\"DNA/TcMar-Tc1\",\"LTR/Pao\",\"LTR/Pao\",\"LTR/Gypsy\",\"LINE/I-Jockey\",\"LINE/I-Jockey\",\"LINE/I-Jockey\",\"LINE/I-Jockey\",\"LTR/Gypsy\",\"LINE/R1-LOA\",\"LTR/Gypsy\",\"LTR/Gypsy\",\"LTR/Gypsy\",\"LTR/Gypsy\",\"LTR/Copia\",\"LTR/Copia\",\"LTR/Copia\",\"LTR/Pao\",\"LTR/Pao\",\"LTR/Copia\",\"LTR/Gypsy\",\"LTR/Gypsy\",\"LTR/Gypsy\",\"LTR/Gypsy\",\"LINE/CR1\",\"LTR/Gypsy\",\"LINE/R1\",\"LINE/R1\",\"LINE/R1\",\"LTR/Gypsy\",\"RC/Helitron\",\"LINE/I-Jockey\",\"LINE/I-Jockey\",\"LINE/I-Jockey\",\"LINE/I-Jockey\",\"LINE/I-Jockey\",\"DNA/TcMar-Tc1\",\"LTR/Copia\",\"LINE/I-Jockey\",\"LINE/I-Jockey\",\"LINE/I-Jockey\",\"LINE/I-Jockey\",\"LINE/I-Jockey\",\"LINE/I-Jockey\",\"LINE/I-Jockey\",\"LINE/I-Jockey\",\"LTR/Gypsy\",\"LTR/Gypsy\",\"LTR/Gypsy\",\"LTR/Gypsy\",\"LTR/Gypsy\",\"LTR/Gypsy\",\"LTR/Gypsy\",\"LTR/Gypsy\",\"LTR/Gypsy\",\"LTR/Gypsy\",\"LTR/Gypsy\",\"LINE/I-Jockey\",\"LTR/Gypsy\",\"DNA/hAT-hobo\",\"LTR/Gypsy\",\"LINE/I\",\"LTR/Gypsy\",\"LTR/Gypsy\",\"LTR/Gypsy\",\"LTR/Gypsy\",\"LTR/Gypsy\",\"LINE/I-Jockey\",\"LINE/I-Jockey\",\"DNA/PiggyBac\",\"DNA/CMC-Transib\",\"LTR/Pao\",\"LTR/Gypsy\",\"LTR/Gypsy\",\"LTR/Gypsy\",\"DNA/TcMar-Tc1\",\"LTR/Pao\",\"LTR/Gypsy\",\"DNA/TcMar-Pogo\",\"DNA/P\",\"DNA/P\",\"DNA/P\",\"LTR/Gypsy\",\"LTR/Gypsy\",\"LTR/Pao\",\"LTR/Pao\",\"LTR/Gypsy\",\"DNA/TcMar-Tc1\",\"DNA/TcMar-Tc1\",\"LTR/Gypsy\",\"LINE/I-Jockey\",\"LINE/I-Jockey\",\"LINE/I-Jockey\",\"LTR/Gypsy\",\"LTR/Gypsy\",\"DNA/CMC-Transib\",\"DNA/CMC-Transib\",\"DNA/CMC-Transib\",\"LTR/Gypsy\",\"DNA/CMC-Transib\",\"LTR/Gypsy\",\"DNA\",\"LINE\",\"LTR\",\"LTR\",\"RC\",\"LINE\",\"LINE\",\"DNA\",\"LTR\",\"DNA\",\"LINE\",\"LINE\",\"DNA\",\"DNA\",\"DNA\",\"\",\"\",\"\",\"\"],\"root\":{\"color\":\"lightgrey\"},\"type\":\"sunburst\",\"values\":[2,1,1,5,1,2,2,1,1,1,1,1,2,1,6,8,2,19,4,24,21,3,21,19,24,22,2,1,4,2,1,3,5,1,1,1,1,5,6,1,11,3,2,16,2,1,1,3,1,1,1,1,1,19,2,2,1,2,18,2,1,2,3,6,1,8,35,16,4,24,82,64,35,5,2,1,2,1,1,1,3,2,1,2,1,32,22,3,2,1,1,1,2,3,1,1,1,1,1,2,6,1,2,1,10,1,1,2,1,13,1,1,1,1,1,1,6,1,1,3,1,11,1,5,5,1,11,1,1,1,1,1,2,1,1,2,2,2,31,1,11,17,1,5,3,5,39,1,1,1,9,1,1,1,1,1,1,1,7,7,1,1,3,3,1,7,3,19,1,8,6,1,1,4,1,3,3,2,1,1,20,1,1,1,2,6,43,1,23,6,1,1,1,1,1,1,1,2,8,1,3,1,1,1,1,7,5,6,7,1,2,14,13,47,6,5,141,3,136,31,59,42,4,57,4,1,1,3,1,3,1,3,2,1,2,1,1,1,3,1,1,1,1,4,1,1,3,4,1,1,1,1,1,101,1,1,1,1,4,1,1,1,1,1,1,1,1,1,1,1,1,1,2,1,1,4,3,1,5,1,15,1,1,11,1,4,3,1,1,2,1,1,2,2,2,1,1,4,1,4,1,2,2,4,1,3,2,1,8,2,2,16,23,1,8,1,1,2,2,4,5,3,2,11,4,8,3,10,1,1,1,1,1,22,2,3,3,17,2,2,3,1,3,1,1,1,1,1,1,1,1,3,1,1,1,1,3,1,27,1,1,3,1,9,1,1,1,1,11,1,1,1,6,1,1,7,2,7,1,3,2,1,1,1,4,1,1,1,1,1,1,1,1,1,1,1,2,1,1,1,1,2,1,1,3,4,6,267,1,47,62,49,1,19,2,2,24,2,3,5,105,247,5,1,1,1,1,1,1,1,2,1,32,10,1,1,10,19,1,1,1,6,1,3,18,2,1,1,19,15,21,1,7,6,1,1,4,16,2,2,5,6,23,159,2,7,9,1,48,4,4,22,2,3,280,18,8,3,11,35,27,2,7,3,3,21,3,15,1,2,25,11,11,12,2,2,74,39,19,14,1,4,42,12,4,6,16,21,76,2,9,2,1,1,11,5,14,558,4,1,17,1,5,4,6,3,6,104,24,1,29,21,5,8,26,61,9,75,30,6,4,5,63,2,40,3,2,1,11,4,461,141,247,8,1,81,7,1,94,1,21,119,3,380,816,25,1,1694,15,116,1,19,4,30,152,1,318,1721,1312,25]}],                        {\"coloraxis\":{\"cmid\":0.44655992999419764,\"colorbar\":{\"title\":{\"text\":\"mean_subcov\"}},\"colorscale\":[[0.0,\"rgb(103,0,31)\"],[0.1,\"rgb(178,24,43)\"],[0.2,\"rgb(214,96,77)\"],[0.3,\"rgb(244,165,130)\"],[0.4,\"rgb(253,219,199)\"],[0.5,\"rgb(247,247,247)\"],[0.6,\"rgb(209,229,240)\"],[0.7,\"rgb(146,197,222)\"],[0.8,\"rgb(67,147,195)\"],[0.9,\"rgb(33,102,172)\"],[1.0,\"rgb(5,48,97)\"]]},\"legend\":{\"tracegroupgap\":0},\"margin\":{\"b\":25,\"l\":25,\"r\":25,\"t\":50},\"template\":{\"data\":{\"bar\":[{\"error_x\":{\"color\":\"#2a3f5f\"},\"error_y\":{\"color\":\"#2a3f5f\"},\"marker\":{\"line\":{\"color\":\"#E5ECF6\",\"width\":0.5},\"pattern\":{\"fillmode\":\"overlay\",\"size\":10,\"solidity\":0.2}},\"type\":\"bar\"}],\"barpolar\":[{\"marker\":{\"line\":{\"color\":\"#E5ECF6\",\"width\":0.5},\"pattern\":{\"fillmode\":\"overlay\",\"size\":10,\"solidity\":0.2}},\"type\":\"barpolar\"}],\"carpet\":[{\"aaxis\":{\"endlinecolor\":\"#2a3f5f\",\"gridcolor\":\"white\",\"linecolor\":\"white\",\"minorgridcolor\":\"white\",\"startlinecolor\":\"#2a3f5f\"},\"baxis\":{\"endlinecolor\":\"#2a3f5f\",\"gridcolor\":\"white\",\"linecolor\":\"white\",\"minorgridcolor\":\"white\",\"startlinecolor\":\"#2a3f5f\"},\"type\":\"carpet\"}],\"choropleth\":[{\"colorbar\":{\"outlinewidth\":0,\"ticks\":\"\"},\"type\":\"choropleth\"}],\"contour\":[{\"colorbar\":{\"outlinewidth\":0,\"ticks\":\"\"},\"colorscale\":[[0.0,\"#0d0887\"],[0.1111111111111111,\"#46039f\"],[0.2222222222222222,\"#7201a8\"],[0.3333333333333333,\"#9c179e\"],[0.4444444444444444,\"#bd3786\"],[0.5555555555555556,\"#d8576b\"],[0.6666666666666666,\"#ed7953\"],[0.7777777777777778,\"#fb9f3a\"],[0.8888888888888888,\"#fdca26\"],[1.0,\"#f0f921\"]],\"type\":\"contour\"}],\"contourcarpet\":[{\"colorbar\":{\"outlinewidth\":0,\"ticks\":\"\"},\"type\":\"contourcarpet\"}],\"heatmap\":[{\"colorbar\":{\"outlinewidth\":0,\"ticks\":\"\"},\"colorscale\":[[0.0,\"#0d0887\"],[0.1111111111111111,\"#46039f\"],[0.2222222222222222,\"#7201a8\"],[0.3333333333333333,\"#9c179e\"],[0.4444444444444444,\"#bd3786\"],[0.5555555555555556,\"#d8576b\"],[0.6666666666666666,\"#ed7953\"],[0.7777777777777778,\"#fb9f3a\"],[0.8888888888888888,\"#fdca26\"],[1.0,\"#f0f921\"]],\"type\":\"heatmap\"}],\"heatmapgl\":[{\"colorbar\":{\"outlinewidth\":0,\"ticks\":\"\"},\"colorscale\":[[0.0,\"#0d0887\"],[0.1111111111111111,\"#46039f\"],[0.2222222222222222,\"#7201a8\"],[0.3333333333333333,\"#9c179e\"],[0.4444444444444444,\"#bd3786\"],[0.5555555555555556,\"#d8576b\"],[0.6666666666666666,\"#ed7953\"],[0.7777777777777778,\"#fb9f3a\"],[0.8888888888888888,\"#fdca26\"],[1.0,\"#f0f921\"]],\"type\":\"heatmapgl\"}],\"histogram\":[{\"marker\":{\"pattern\":{\"fillmode\":\"overlay\",\"size\":10,\"solidity\":0.2}},\"type\":\"histogram\"}],\"histogram2d\":[{\"colorbar\":{\"outlinewidth\":0,\"ticks\":\"\"},\"colorscale\":[[0.0,\"#0d0887\"],[0.1111111111111111,\"#46039f\"],[0.2222222222222222,\"#7201a8\"],[0.3333333333333333,\"#9c179e\"],[0.4444444444444444,\"#bd3786\"],[0.5555555555555556,\"#d8576b\"],[0.6666666666666666,\"#ed7953\"],[0.7777777777777778,\"#fb9f3a\"],[0.8888888888888888,\"#fdca26\"],[1.0,\"#f0f921\"]],\"type\":\"histogram2d\"}],\"histogram2dcontour\":[{\"colorbar\":{\"outlinewidth\":0,\"ticks\":\"\"},\"colorscale\":[[0.0,\"#0d0887\"],[0.1111111111111111,\"#46039f\"],[0.2222222222222222,\"#7201a8\"],[0.3333333333333333,\"#9c179e\"],[0.4444444444444444,\"#bd3786\"],[0.5555555555555556,\"#d8576b\"],[0.6666666666666666,\"#ed7953\"],[0.7777777777777778,\"#fb9f3a\"],[0.8888888888888888,\"#fdca26\"],[1.0,\"#f0f921\"]],\"type\":\"histogram2dcontour\"}],\"mesh3d\":[{\"colorbar\":{\"outlinewidth\":0,\"ticks\":\"\"},\"type\":\"mesh3d\"}],\"parcoords\":[{\"line\":{\"colorbar\":{\"outlinewidth\":0,\"ticks\":\"\"}},\"type\":\"parcoords\"}],\"pie\":[{\"automargin\":true,\"type\":\"pie\"}],\"scatter\":[{\"marker\":{\"colorbar\":{\"outlinewidth\":0,\"ticks\":\"\"}},\"type\":\"scatter\"}],\"scatter3d\":[{\"line\":{\"colorbar\":{\"outlinewidth\":0,\"ticks\":\"\"}},\"marker\":{\"colorbar\":{\"outlinewidth\":0,\"ticks\":\"\"}},\"type\":\"scatter3d\"}],\"scattercarpet\":[{\"marker\":{\"colorbar\":{\"outlinewidth\":0,\"ticks\":\"\"}},\"type\":\"scattercarpet\"}],\"scattergeo\":[{\"marker\":{\"colorbar\":{\"outlinewidth\":0,\"ticks\":\"\"}},\"type\":\"scattergeo\"}],\"scattergl\":[{\"marker\":{\"colorbar\":{\"outlinewidth\":0,\"ticks\":\"\"}},\"type\":\"scattergl\"}],\"scattermapbox\":[{\"marker\":{\"colorbar\":{\"outlinewidth\":0,\"ticks\":\"\"}},\"type\":\"scattermapbox\"}],\"scatterpolar\":[{\"marker\":{\"colorbar\":{\"outlinewidth\":0,\"ticks\":\"\"}},\"type\":\"scatterpolar\"}],\"scatterpolargl\":[{\"marker\":{\"colorbar\":{\"outlinewidth\":0,\"ticks\":\"\"}},\"type\":\"scatterpolargl\"}],\"scatterternary\":[{\"marker\":{\"colorbar\":{\"outlinewidth\":0,\"ticks\":\"\"}},\"type\":\"scatterternary\"}],\"surface\":[{\"colorbar\":{\"outlinewidth\":0,\"ticks\":\"\"},\"colorscale\":[[0.0,\"#0d0887\"],[0.1111111111111111,\"#46039f\"],[0.2222222222222222,\"#7201a8\"],[0.3333333333333333,\"#9c179e\"],[0.4444444444444444,\"#bd3786\"],[0.5555555555555556,\"#d8576b\"],[0.6666666666666666,\"#ed7953\"],[0.7777777777777778,\"#fb9f3a\"],[0.8888888888888888,\"#fdca26\"],[1.0,\"#f0f921\"]],\"type\":\"surface\"}],\"table\":[{\"cells\":{\"fill\":{\"color\":\"#EBF0F8\"},\"line\":{\"color\":\"white\"}},\"header\":{\"fill\":{\"color\":\"#C8D4E3\"},\"line\":{\"color\":\"white\"}},\"type\":\"table\"}]},\"layout\":{\"annotationdefaults\":{\"arrowcolor\":\"#2a3f5f\",\"arrowhead\":0,\"arrowwidth\":1},\"autotypenumbers\":\"strict\",\"coloraxis\":{\"colorbar\":{\"outlinewidth\":0,\"ticks\":\"\"}},\"colorscale\":{\"diverging\":[[0,\"#8e0152\"],[0.1,\"#c51b7d\"],[0.2,\"#de77ae\"],[0.3,\"#f1b6da\"],[0.4,\"#fde0ef\"],[0.5,\"#f7f7f7\"],[0.6,\"#e6f5d0\"],[0.7,\"#b8e186\"],[0.8,\"#7fbc41\"],[0.9,\"#4d9221\"],[1,\"#276419\"]],\"sequential\":[[0.0,\"#0d0887\"],[0.1111111111111111,\"#46039f\"],[0.2222222222222222,\"#7201a8\"],[0.3333333333333333,\"#9c179e\"],[0.4444444444444444,\"#bd3786\"],[0.5555555555555556,\"#d8576b\"],[0.6666666666666666,\"#ed7953\"],[0.7777777777777778,\"#fb9f3a\"],[0.8888888888888888,\"#fdca26\"],[1.0,\"#f0f921\"]],\"sequentialminus\":[[0.0,\"#0d0887\"],[0.1111111111111111,\"#46039f\"],[0.2222222222222222,\"#7201a8\"],[0.3333333333333333,\"#9c179e\"],[0.4444444444444444,\"#bd3786\"],[0.5555555555555556,\"#d8576b\"],[0.6666666666666666,\"#ed7953\"],[0.7777777777777778,\"#fb9f3a\"],[0.8888888888888888,\"#fdca26\"],[1.0,\"#f0f921\"]]},\"colorway\":[\"#636efa\",\"#EF553B\",\"#00cc96\",\"#ab63fa\",\"#FFA15A\",\"#19d3f3\",\"#FF6692\",\"#B6E880\",\"#FF97FF\",\"#FECB52\"],\"font\":{\"color\":\"#2a3f5f\"},\"geo\":{\"bgcolor\":\"white\",\"lakecolor\":\"white\",\"landcolor\":\"#E5ECF6\",\"showlakes\":true,\"showland\":true,\"subunitcolor\":\"white\"},\"hoverlabel\":{\"align\":\"left\"},\"hovermode\":\"closest\",\"mapbox\":{\"style\":\"light\"},\"paper_bgcolor\":\"white\",\"plot_bgcolor\":\"#E5ECF6\",\"polar\":{\"angularaxis\":{\"gridcolor\":\"white\",\"linecolor\":\"white\",\"ticks\":\"\"},\"bgcolor\":\"#E5ECF6\",\"radialaxis\":{\"gridcolor\":\"white\",\"linecolor\":\"white\",\"ticks\":\"\"}},\"scene\":{\"xaxis\":{\"backgroundcolor\":\"#E5ECF6\",\"gridcolor\":\"white\",\"gridwidth\":2,\"linecolor\":\"white\",\"showbackground\":true,\"ticks\":\"\",\"zerolinecolor\":\"white\"},\"yaxis\":{\"backgroundcolor\":\"#E5ECF6\",\"gridcolor\":\"white\",\"gridwidth\":2,\"linecolor\":\"white\",\"showbackground\":true,\"ticks\":\"\",\"zerolinecolor\":\"white\"},\"zaxis\":{\"backgroundcolor\":\"#E5ECF6\",\"gridcolor\":\"white\",\"gridwidth\":2,\"linecolor\":\"white\",\"showbackground\":true,\"ticks\":\"\",\"zerolinecolor\":\"white\"}},\"shapedefaults\":{\"line\":{\"color\":\"#2a3f5f\"}},\"ternary\":{\"aaxis\":{\"gridcolor\":\"white\",\"linecolor\":\"white\",\"ticks\":\"\"},\"baxis\":{\"gridcolor\":\"white\",\"linecolor\":\"white\",\"ticks\":\"\"},\"bgcolor\":\"#E5ECF6\",\"caxis\":{\"gridcolor\":\"white\",\"linecolor\":\"white\",\"ticks\":\"\"}},\"title\":{\"x\":0.05},\"xaxis\":{\"automargin\":true,\"gridcolor\":\"white\",\"linecolor\":\"white\",\"ticks\":\"\",\"title\":{\"standoff\":15},\"zerolinecolor\":\"white\",\"zerolinewidth\":2},\"yaxis\":{\"automargin\":true,\"gridcolor\":\"white\",\"linecolor\":\"white\",\"ticks\":\"\",\"title\":{\"standoff\":15},\"zerolinecolor\":\"white\",\"zerolinewidth\":2}}}},                        {\"responsive\": true}                    ).then(function(){\n",
       "                            \n",
       "var gd = document.getElementById('6d74f85d-6c82-4510-83eb-d5fd77f9fef1');\n",
       "var x = new MutationObserver(function (mutations, observer) {{\n",
       "        var display = window.getComputedStyle(gd).display;\n",
       "        if (!display || display === 'none') {{\n",
       "            console.log([gd, 'removed!']);\n",
       "            Plotly.purge(gd);\n",
       "            observer.disconnect();\n",
       "        }}\n",
       "}});\n",
       "\n",
       "// Listen for the removal of the full notebook cells\n",
       "var notebookContainer = gd.closest('#notebook-container');\n",
       "if (notebookContainer) {{\n",
       "    x.observe(notebookContainer, {childList: true});\n",
       "}}\n",
       "\n",
       "// Listen for the clearing of the current output cell\n",
       "var outputEl = gd.closest('.output');\n",
       "if (outputEl) {{\n",
       "    x.observe(outputEl, {childList: true});\n",
       "}}\n",
       "\n",
       "                        })                };                });            </script>        </div>"
      ]
     },
     "metadata": {}
    }
   ],
   "metadata": {}
  },
  {
   "cell_type": "code",
   "execution_count": 25,
   "source": [
    "import plotly.graph_objects as go\n",
    "import pyperclip\n",
    "\n",
    "import numpy as np\n",
    "np.random.seed(1)\n",
    "\n",
    "x = np.random.rand(100)\n",
    "y = np.random.rand(100)\n",
    "\n",
    "f = go.FigureWidget([go.Scatter(x=x, y=y, mode='markers')])\n",
    "\n",
    "scatter = f.data[0]\n",
    "colors = ['#a3a7e4'] * 100\n",
    "scatter.marker.color = colors\n",
    "scatter.marker.size = [10] * 100\n",
    "f.layout.hovermode = 'closest'\n",
    "CLIP = \"Oh\"\n",
    "# create our callback function\n",
    "def update_point(trace, points, selector):\n",
    "    # pyperclip.copy('The text to be copied to the clipboard.')\n",
    "    # spam = pyperclip.paste()\n",
    "    CLIP =\"H1\"\n",
    "    c = list(scatter.marker.color)\n",
    "    s = list(scatter.marker.size)\n",
    "    for i in points.point_inds:\n",
    "        c[i] = '#bae2be'\n",
    "        s[i] = 20\n",
    "        CLIP = \"H2\"\n",
    "        with f.batch_update():\n",
    "            CLIP = \"H2\"\n",
    "            scatter.marker.color = c\n",
    "            scatter.marker.size = s\n",
    "scatter.on_click(update_point)\n",
    "f"
   ],
   "outputs": [
    {
     "output_type": "display_data",
     "data": {
      "text/plain": [
       "FigureWidget({\n",
       "    'data': [{'marker': {'color': [#a3a7e4, #a3a7e4, #a3a7e4, #a3a7e4, #a3a7e4,\n",
       "               …"
      ],
      "application/vnd.jupyter.widget-view+json": {
       "model_id": "70f7d91689c6456e9f10f0a6221a3fbd",
       "version_major": 2,
       "version_minor": 0
      }
     },
     "metadata": {}
    }
   ],
   "metadata": {}
  },
  {
   "cell_type": "code",
   "execution_count": 6,
   "source": [
    "pd.set_option('display.max_rows', 100)\n",
    "filtered_FC29_counting_df.sort_values(by=['Counting'], ascending=False).head(100)\n",
    "# print(saved_FC29_counting_df[saved_FC29_counting_df['Insertion'] == \"Gypsy_I_2R_RaGOO_2048940_2052346\"])\n",
    "# print(saved_FC29_counting_df[saved_FC29_counting_df['Insertion'] == \"Gypsy6_LTR_2R_RaGOO_2049422_2049472\"])"
   ],
   "outputs": [
    {
     "output_type": "execute_result",
     "data": {
      "text/plain": [
       "      Subclass  Superfamily       Family  \\\n",
       "197       LINE     I-Jockey        TAHRE   \n",
       "8254      LINE     I-Jockey      TART_B1   \n",
       "257       LINE     I-Jockey         HETA   \n",
       "258       LINE     I-Jockey         HETA   \n",
       "241       LINE     I-Jockey       TART-A   \n",
       "11219     LINE     I-Jockey      Jockey2   \n",
       "595        LTR        Copia        Copia   \n",
       "596        LTR        Copia        Copia   \n",
       "204       LINE     I-Jockey        TAHRE   \n",
       "260       LINE     I-Jockey         HETA   \n",
       "263       LINE     I-Jockey         HETA   \n",
       "207       LINE     I-Jockey        TAHRE   \n",
       "200       LINE     I-Jockey        TAHRE   \n",
       "252       LINE     I-Jockey         HETA   \n",
       "13926      LTR        Gypsy      Gypsy12   \n",
       "261       LINE     I-Jockey         HETA   \n",
       "14051      LTR        Copia      FROGGER   \n",
       "597        LTR        Copia        Copia   \n",
       "580        LTR        Copia        Copia   \n",
       "8488       LTR        Copia       DM1731   \n",
       "11443      DNA  CMC-Transib     TRANSIB2   \n",
       "259       LINE     I-Jockey         HETA   \n",
       "7926       DNA    TcMar-Tc1       FB4_DM   \n",
       "470        LTR        Gypsy    QUASIMODO   \n",
       "641        LTR        Gypsy    BLASTOPIA   \n",
       "594        LTR        Copia        Copia   \n",
       "231       LINE     I-Jockey       TART-A   \n",
       "670        LTR        Gypsy    BLASTOPIA   \n",
       "12087      DNA    TcMar-Tc1  Mariner2_DM   \n",
       "13930      LTR        Gypsy      Gypsy12   \n",
       "13559      LTR        Gypsy        DM176   \n",
       "7625       LTR        Gypsy        NOMAD   \n",
       "673        LTR        Gypsy    BLASTOPIA   \n",
       "645        LTR        Gypsy    BLASTOPIA   \n",
       "653        LTR        Gypsy    BLASTOPIA   \n",
       "6942       LTR        Gypsy     TRANSPAC   \n",
       "14501      LTR        Gypsy      Gypsy10   \n",
       "654        LTR        Gypsy    BLASTOPIA   \n",
       "6938       LTR        Gypsy     TRANSPAC   \n",
       "671        LTR        Gypsy    BLASTOPIA   \n",
       "203       LINE     I-Jockey        TAHRE   \n",
       "8591      LINE     I-Jockey        G4_DM   \n",
       "11468      DNA  CMC-Transib     TRANSIB2   \n",
       "13096      LTR        Gypsy        CIRCE   \n",
       "11901      LTR        Copia       Copia1   \n",
       "6933       LTR        Gypsy     TRANSPAC   \n",
       "6955       DNA   TcMar-Pogo         POGO   \n",
       "8044       DNA    TcMar-Tc1       FB4_DM   \n",
       "416        LTR        Gypsy          ZAM   \n",
       "12085      DNA    TcMar-Tc1  Mariner2_DM   \n",
       "8192       LTR        Gypsy      BURDOCK   \n",
       "581        LTR        Copia        Copia   \n",
       "6939       LTR        Gypsy     TRANSPAC   \n",
       "861        DNA  CMC-Transib         M4DM   \n",
       "249       LINE     I-Jockey         HETA   \n",
       "251       LINE     I-Jockey         HETA   \n",
       "9317      LINE           R1       DMRT1B   \n",
       "566        LTR        Gypsy    QUASIMODO   \n",
       "8043       DNA    TcMar-Tc1       FB4_DM   \n",
       "4837        RC     Helitron   DNAREP1_DM   \n",
       "10599     LINE     I-Jockey      DOC3_DM   \n",
       "8191       LTR        Gypsy      BURDOCK   \n",
       "7565       LTR        Gypsy        NOMAD   \n",
       "11821      LTR          Pao          MAX   \n",
       "11448      DNA  CMC-Transib     TRANSIB2   \n",
       "11455      DNA  CMC-Transib     TRANSIB2   \n",
       "7600       LTR        Gypsy        NOMAD   \n",
       "11563      LTR        Gypsy       DMLTR5   \n",
       "6701      LINE     I-Jockey       FW2_DM   \n",
       "502        LTR        Gypsy    QUASIMODO   \n",
       "8599      LINE     I-Jockey        G4_DM   \n",
       "12383      LTR          Pao          BEL   \n",
       "12066      DNA    TcMar-Tc1  Mariner2_DM   \n",
       "12104      DNA    TcMar-Tc1  Mariner2_DM   \n",
       "10458      LTR        Gypsy      Gypsy6A   \n",
       "579        LTR        Copia        Copia   \n",
       "7599       LTR        Gypsy        NOMAD   \n",
       "13695      LTR        Gypsy        Gypsy   \n",
       "6037       LTR          Pao          ROO   \n",
       "12630     LINE     I-Jockey       FW3_DM   \n",
       "6946       LTR        Gypsy     TRANSPAC   \n",
       "12641     LINE     I-Jockey       FW3_DM   \n",
       "12819      LTR        Gypsy       Gypsy9   \n",
       "6173       LTR          Pao          ROO   \n",
       "8587      LINE     I-Jockey        G4_DM   \n",
       "13757      LTR        Gypsy        Gypsy   \n",
       "2551        RC     Helitron   DNAREP1_DM   \n",
       "6944       LTR        Gypsy     TRANSPAC   \n",
       "14107      DNA  CMC-Transib     TRANSIB3   \n",
       "254       LINE     I-Jockey         HETA   \n",
       "14150      LTR        Gypsy       Gypsy2   \n",
       "5781       LTR          Pao          ROO   \n",
       "8190       LTR        Gypsy      BURDOCK   \n",
       "13936      LTR        Gypsy      Gypsy12   \n",
       "617        LTR        Copia        Copia   \n",
       "195       LINE     I-Jockey        TAHRE   \n",
       "10080     LINE     I-Jockey       G5A_DM   \n",
       "11554      LTR        Gypsy       DMLTR5   \n",
       "12362      LTR          Pao          BEL   \n",
       "614        LTR        Copia        Copia   \n",
       "\n",
       "                                      Insertion  Counting  \\\n",
       "197              TAHRE_2R_RaGOO_1145909_1151824       267   \n",
       "8254         TART_B1_2R_RaGOO_23920095_23923160       247   \n",
       "257                   HETA_3L_RaGOO_12349_18402       141   \n",
       "258                   HETA_3L_RaGOO_18403_20679       136   \n",
       "241                       TART-A_X_RaGOO_3_3271       105   \n",
       "11219         Jockey2_X_RaGOO_21275337_21276483       101   \n",
       "595        Copia_LTR_3L_RaGOO_10022428_10027467        82   \n",
       "596        Copia_LTR_3L_RaGOO_10052506_10057644        64   \n",
       "204                  TAHRE_3L_RaGOO_20705_26581        62   \n",
       "260             HETA_3L_RaGOO_24251825_24252692        59   \n",
       "263                    HETA_X_RaGOO_87709_93586        57   \n",
       "207            TAHRE_3L_RaGOO_24249813_24257637        49   \n",
       "200              TAHRE_2R_RaGOO_3700966_3703361        47   \n",
       "252               HETA_2R_RaGOO_2831691_2835985        47   \n",
       "13926        Gypsy12_LTR_3R_RaGOO_842982_854376        43   \n",
       "261                      HETA_X_RaGOO_3925_6784        42   \n",
       "14051      FROGGER_LTR_2R_RaGOO_3942161_3946521        39   \n",
       "597        Copia_LTR_3L_RaGOO_17623155_17628299        35   \n",
       "580        Copia_LTR_2L_RaGOO_14753817_14758950        35   \n",
       "8488      DM1731_LTR_3L_RaGOO_24209333_24213898        32   \n",
       "11443         TRANSIB2_2R_RaGOO_3421509_3423952        32   \n",
       "259             HETA_3L_RaGOO_24251790_24258327        31   \n",
       "7926            FB4_DM_2R_RaGOO_3378778_3380218        31   \n",
       "470        QUASIMODO_I_2R_RaGOO_4031047_4034609        27   \n",
       "641      BLASTOPIA_LTR_2R_RaGOO_2878638_2883652        24   \n",
       "594        Copia_LTR_2R_RaGOO_20482857_20488005        24   \n",
       "231           TART-A_3L_RaGOO_24811306_24813320        24   \n",
       "670      BLASTOPIA_LTR_3R_RaGOO_8215021_8220047        24   \n",
       "12087    Mariner2_DM_3L_RaGOO_22903450_22904558        23   \n",
       "13930        Gypsy12_LTR_3R_RaGOO_960900_963176        23   \n",
       "13559            DM176_I_2R_RaGOO_196886_202183        22   \n",
       "7625        NOMAD_LTR_X_RaGOO_11398933_11406469        22   \n",
       "673     BLASTOPIA_LTR_X_RaGOO_10104239_10109267        22   \n",
       "645      BLASTOPIA_LTR_2R_RaGOO_3217647_3222622        21   \n",
       "653    BLASTOPIA_LTR_3L_RaGOO_23419160_23424177        21   \n",
       "6942    TRANSPAC_LTR_3R_RaGOO_21217775_21223024        21   \n",
       "14501          Gypsy10_I_3R_RaGOO_761442_762629        20   \n",
       "654    BLASTOPIA_LTR_3L_RaGOO_23460661_23465627        19   \n",
       "6938    TRANSPAC_LTR_2R_RaGOO_21445727_21450940        19   \n",
       "671      BLASTOPIA_I_3R_RaGOO_11787155_11791536        19   \n",
       "203                   TAHRE_3L_RaGOO_2547_12261        19   \n",
       "8591           G4_DM_3L_RaGOO_25501627_25504470        19   \n",
       "11468         TRANSIB2_3R_RaGOO_1753687_1756027        19   \n",
       "13096            CIRCE_3R_RaGOO_3073861_3079193        19   \n",
       "11901      Copia1-I_DM_2R_RaGOO_2841061_2845341        18   \n",
       "6933      TRANSPAC_LTR_2L_RaGOO_2221225_2226474        18   \n",
       "6955              POGO_2R_RaGOO_7201268_7202754        17   \n",
       "8044          FB4_DM_3R_RaGOO_16921110_16924199        17   \n",
       "416            ZAM_LTR_3R_RaGOO_3216098_3221945        16   \n",
       "12085    Mariner2_DM_3L_RaGOO_22748069_22749176        16   \n",
       "8192     BURDOCK_LTR_3L_RaGOO_10638503_10641077        16   \n",
       "581        Copia_LTR_2L_RaGOO_21771835_21776956        16   \n",
       "6939      TRANSPAC_LTR_3L_RaGOO_1562415_1567666        15   \n",
       "861             M4DM_3L_RaGOO_25693372_25696157        15   \n",
       "249               HETA_2R_RaGOO_1141073_1145629        14   \n",
       "251               HETA_2R_RaGOO_2824725_2826074        13   \n",
       "9317            DMRT1B_2R_RaGOO_4404275_4406331        13   \n",
       "566      QUASIMODO_LTR_3R_RaGOO_3643836_3644407        11   \n",
       "8043          FB4_DM_3R_RaGOO_16914758_16917850        11   \n",
       "4837           DNAREP1_DM_X_RaGOO_712208_713323        11   \n",
       "10599          DOC3_DM_3R_RaGOO_2983770_2986840        11   \n",
       "8191     BURDOCK_LTR_2R_RaGOO_18620960_18624380        11   \n",
       "7565       NOMAD_LTR_2L_RaGOO_13384378_13391980        11   \n",
       "11821        MAX_LTR_3L_RaGOO_24378598_24386713        11   \n",
       "11448         TRANSIB2_2R_RaGOO_5449525_5451701        10   \n",
       "11455       TRANSIB2_3L_RaGOO_24511852_24514346        10   \n",
       "7600       NOMAD_LTR_2R_RaGOO_20674240_20681841        10   \n",
       "11563            DMLTR5_X_RaGOO_1828728_1835798        10   \n",
       "6701            FW2_DM_2R_RaGOO_4440629_4442178         9   \n",
       "502    QUASIMODO_LTR_3L_RaGOO_25055074_25055510         9   \n",
       "8599             G4_DM_3R_RaGOO_3291399_3294964         8   \n",
       "12383        BEL_LTR_3R_RaGOO_11276926_11283012         8   \n",
       "12066    Mariner2_DM_2L_RaGOO_21507526_21508443         8   \n",
       "12104         Mariner2_DM_4_RaGOO_638924_639677         8   \n",
       "10458      Gypsy6A_LTR_2R_RaGOO_2808245_2809716         8   \n",
       "579        Copia_LTR_2L_RaGOO_13770083_13775227         8   \n",
       "7599       NOMAD_LTR_2R_RaGOO_15583316_15590827         8   \n",
       "13695        Gypsy_LTR_2R_RaGOO_3014728_3015826         7   \n",
       "6037           ROO_I_3L_RaGOO_19559699_19561114         7   \n",
       "12630         FW3_DM_3L_RaGOO_24482361_24486070         7   \n",
       "6946     TRANSPAC_LTR_X_RaGOO_19519061_19524304         7   \n",
       "12641           FW3_DM_3R_RaGOO_2079747_2081812         7   \n",
       "12819       Gypsy9_LTR_2R_RaGOO_1564853_1570428         7   \n",
       "6173           ROO_I_3R_RaGOO_12957465_12959168         7   \n",
       "8587           G4_DM_3L_RaGOO_24449098_24450836         7   \n",
       "13757          Gypsy_I_3R_RaGOO_4187299_4190434         6   \n",
       "2551        DNAREP1_DM_2R_RaGOO_5274469_5275451         6   \n",
       "6944       TRANSPAC_LTR_X_RaGOO_4638939_4644186         6   \n",
       "14107         TRANSIB3_3R_RaGOO_2679434_2681620         6   \n",
       "254               HETA_2R_RaGOO_3703418_3705329         6   \n",
       "14150        Gypsy2-I_DM_2R_RaGOO_545702_556702         6   \n",
       "5781           ROO_I_2R_RaGOO_17052400_17055914         6   \n",
       "8190     BURDOCK_LTR_2R_RaGOO_14046385_14048986         6   \n",
       "13936      Gypsy12_LTR_3R_RaGOO_2266515_2268947         6   \n",
       "617            Copia_I_3R_RaGOO_1738736_1739720         6   \n",
       "195                    TAHRE_2L_RaGOO_5506_7403         6   \n",
       "10080           G5A_DM_2R_RaGOO_3275262_3277173         6   \n",
       "11554             DMLTR5_2R_RaGOO_209115_216178         6   \n",
       "12362          BEL_LTR_2R_RaGOO_2068892_2074965         6   \n",
       "614          Copia_LTR_3R_RaGOO_1372041_1377188         5   \n",
       "\n",
       "                                                   Reads  mean_subcov  \n",
       "197    {'d7dedb28-76e2-4740-aeef-22bd7e936577': <pysa...     0.165054  \n",
       "8254   {'444b015d-6ecf-428f-95cd-30b4a206f715': <pysa...     0.623737  \n",
       "257    {'39c656e4-149f-4961-ba3a-682e177bb78f': <pysa...     0.347078  \n",
       "258    {'d8f190c1-7e57-4ad0-8601-fe70baa9c42f': <pysa...     0.357868  \n",
       "241    {'96d23915-1bb0-45a5-9d38-7ac5f6b3b0e5': <pysa...     0.505942  \n",
       "11219  {'f7e019b6-7545-42c0-a7ec-d06c1b5e403f': <pysa...     0.733019  \n",
       "595    {'9dbd6759-d118-4726-b1c8-090df1fcba30': <pysa...     0.879271  \n",
       "596    {'b3970f43-60b2-4dc2-9e9a-eb45407e3080': <pysa...     0.892261  \n",
       "204    {'a8cbd7dd-b6fe-481a-8601-256790555359': <pysa...     0.605097  \n",
       "260    {'eaa2ac5d-0160-4a1c-9590-2465eb718ac9': <pysa...     0.646863  \n",
       "263    {'2342cb70-7df3-45db-9e33-8e18fac00b5a': <pysa...     0.362266  \n",
       "207    {'7a042a9a-eb7a-48fc-9bfd-e685952596e2': <pysa...     0.485294  \n",
       "200    {'ed2d4c3e-eb2b-468a-bf7a-72cbe189894a': <pysa...     0.722658  \n",
       "252    {'b1f6e43e-7c80-4393-bdbc-f8bd199d22b7': <pysa...     0.279400  \n",
       "13926  {'6a22fc48-da5a-4915-9e28-d3a46bebc6e0': <pysa...     0.170320  \n",
       "261    {'aea3e625-c79c-4011-8d27-7b1a2da909da': <pysa...     0.274780  \n",
       "14051  {'deb5429d-17fe-4607-9b87-4e189daca09e': <pysa...     0.486656  \n",
       "597    {'6c5e18f0-1c10-450e-95a7-bf6cf6f9f3bd': <pysa...     0.918196  \n",
       "580    {'464112fd-1514-4a01-8182-4e1c6ad0e8c2': <pysa...     0.910445  \n",
       "8488   {'8a123010-909b-4ede-a5b7-3234e01a3feb': <pysa...     0.474993  \n",
       "11443  {'31eb43a6-cbbc-4675-94c1-4fa01c6039e7': <pysa...     0.403218  \n",
       "259    {'8ae97d7a-b65e-495b-9b81-95f49936ffeb': <pysa...     0.358954  \n",
       "7926   {'b3a54ccd-5e5d-4056-a5f1-6d7c528d2b38': <pysa...     0.659476  \n",
       "470    {'af9921c1-3b2b-476e-9d02-e472e462b8e2': <pysa...     0.308950  \n",
       "641    {'af85a877-4ca2-4b54-8391-8de3c2df6283': <pysa...     0.126645  \n",
       "594    {'7fb05b3f-1961-46f2-a8d4-87d5635ed335': <pysa...     0.766317  \n",
       "231    {'309afc0b-6e0a-4a43-bce9-7ce2983d0093': <pysa...     0.733697  \n",
       "670    {'458c2c41-0591-4ea5-b0cb-89cc75394f87': <pysa...     0.152764  \n",
       "12087  {'93c9c007-2baf-4057-8e5f-61f9272dfff2': <pysa...     0.865877  \n",
       "13930  {'8b0290d4-d85f-494b-90f0-2ea8d7b5cbdb': <pysa...     0.409280  \n",
       "13559  {'e4f4b5d9-bcbe-46fe-8aed-cabc7588ee2c': <pysa...     0.119647  \n",
       "7625   {'f1b43212-e79f-4744-b4c5-08b5890e1175': <pysa...     0.229957  \n",
       "673    {'7dae2a32-2248-4758-872e-e10560e75667': <pysa...     0.123192  \n",
       "645    {'85a11cfb-c97e-4402-83ce-fd6928bd57dd': <pysa...     0.117521  \n",
       "653    {'af85a877-4ca2-4b54-8391-8de3c2df6283': <pysa...     0.114867  \n",
       "6942   {'f52a8f05-394d-48f9-9bca-dd386a3664f8': <pysa...     0.173339  \n",
       "14501  {'dc90ca4e-a156-40c9-a642-2ca30b9719dc': <pysa...     0.379992  \n",
       "654    {'25eaec9c-d00a-4d10-ae06-9c259a7dbdb0': <pysa...     0.158244  \n",
       "6938   {'d4e19c71-f468-4f43-b253-70c762952bd2': <pysa...     0.210082  \n",
       "671    {'458c2c41-0591-4ea5-b0cb-89cc75394f87': <pysa...     0.136727  \n",
       "203    {'5a940d0f-45e6-4da1-8f1d-d936920c1817': <pysa...     0.204360  \n",
       "8591   {'c0ebe6ee-9cc5-43f4-b68c-b2a4e062501e': <pysa...     0.206435  \n",
       "11468  {'4f661000-9ab9-4054-8a13-40e20f45d572': <pysa...     0.460099  \n",
       "13096  {'e3b2470f-bba1-4f00-bb68-24f34db06476': <pysa...     0.161962  \n",
       "11901  {'61aec693-dbc8-46f3-baf1-e7edebf91922': <pysa...     0.141096  \n",
       "6933   {'4bb06be3-b437-463c-a0fe-4671d2bb3136': <pysa...     0.158083  \n",
       "6955   {'01ccb1c1-b3c7-4978-bb56-d4a0b5b3d54d': <pysa...     0.901710  \n",
       "8044   {'a27aaeac-d8ec-46ec-b619-d81e9cf1c1a3': <pysa...     0.473959  \n",
       "416    {'48d97f79-af6c-44b8-a0b4-4ad396a76dff': <pysa...     0.181899  \n",
       "12085  {'b5a089d9-7b5e-4677-99ef-39cd635a6ae4': <pysa...     0.885388  \n",
       "8192   {'d3a1de3d-35be-4f34-b1ab-4f8c57077340': <pysa...     0.380172  \n",
       "581    {'ed775913-6f9a-4e05-9e35-219f8220958a': <pysa...     0.836116  \n",
       "6939   {'7e904c12-bc0d-4eca-9926-05e8f4c6beba': <pysa...     0.160820  \n",
       "861    {'517ef04e-5327-4d14-afd5-010261916daa': <pysa...     0.168570  \n",
       "249    {'d0a83b7d-63b0-4082-bdcf-5859db2611d7': <pysa...     0.189421  \n",
       "251    {'675c3af4-a3aa-4e6e-b485-af762485efe3': <pysa...     0.538576  \n",
       "9317   {'3cc34e43-09fe-4637-aff7-3d1ccfc23995': <pysa...     0.795196  \n",
       "566    {'24c290d6-03ce-4c62-a34f-215edbc94157': <pysa...     0.727910  \n",
       "8043   {'b5350d3f-dd71-446d-a045-7229af567ea7': <pysa...     0.476567  \n",
       "4837   {'56dfe396-1d07-43e1-94d6-c3874a5ec00b': <pysa...     0.718386  \n",
       "10599  {'4e0145b9-76bb-4747-8ac3-9be5d7e8ec96': <pysa...     0.606959  \n",
       "8191   {'15dbbefb-efab-4ef2-b25b-575779131dc5': <pysa...     0.233838  \n",
       "7565   {'a8e6876a-9c9b-491c-a668-8837a1ea405b': <pysa...     0.252637  \n",
       "11821  {'52815f5d-c4e8-41ca-b051-10ac2c1a3a4a': <pysa...     0.148177  \n",
       "11448  {'dacaa10b-e3eb-486e-bd28-e203c9c1525c': <pysa...     0.392739  \n",
       "11455  {'03a9fbb4-17d4-4397-bf2b-413994b6cc98': <pysa...     0.263272  \n",
       "7600   {'d53da33a-a7f5-41d4-b03b-a055b385dc89': <pysa...     0.168570  \n",
       "11563  {'f5d9247c-f358-4e70-8682-4d35ed7b23d9': <pysa...     0.115644  \n",
       "6701   {'46fb7af7-7522-49f1-9fee-5cc5882c64be': <pysa...     0.763432  \n",
       "502    {'8b779471-3312-4c20-8966-14055fcb4b8c': <pysa...     0.891182  \n",
       "8599   {'9f95c69f-5c59-4c40-b2f4-7b134689b3ef': <pysa...     0.254558  \n",
       "12383  {'746b7b31-34e3-44f3-a54b-564a5b758b07': <pysa...     0.337352  \n",
       "12066  {'7aa7b742-acde-480c-a805-77c171719a30': <pysa...     0.923255  \n",
       "12104  {'3f14c54d-a0ac-4bea-ada4-0a02f4cb923b': <pysa...     0.590969  \n",
       "10458  {'d3a8c0ff-b199-469f-9f79-ef8875a668fa': <pysa...     0.273623  \n",
       "579    {'81c06f0e-c77d-42f6-b6d1-ffd48a5a692c': <pysa...     0.893833  \n",
       "7599   {'e0514d0f-8a1d-43d6-b9ad-bc0aa38f6ba6': <pysa...     0.217431  \n",
       "13695  {'65884a23-74ec-4cb4-b72a-307c7693d8b2': <pysa...     0.555816  \n",
       "6037   {'5106b497-ec10-4aa9-b9ed-c82ee5fde2ac': <pysa...     0.459364  \n",
       "12630  {'6e0f8cbe-b37d-43a2-9003-5371676fd50b': <pysa...     0.183299  \n",
       "6946   {'f637b743-d9e4-4fe6-97af-246999131f11': <pysa...     0.154573  \n",
       "12641  {'3bcc42a0-c9a7-435a-b401-cac13d7eb86f': <pysa...     0.210446  \n",
       "12819  {'137fd6f5-5186-4f43-9fb2-d0419b9f6364': <pysa...     0.157924  \n",
       "6173   {'f0c55218-5957-459f-bcbc-28e985b81e10': <pysa...     0.658502  \n",
       "8587   {'ba87a063-8b28-4372-a4ed-fa65389e8a34': <pysa...     0.609814  \n",
       "13757  {'721bdae8-e3a3-457d-8da0-036a9f75b891': <pysa...     0.163371  \n",
       "2551   {'82acda28-ea03-4a5c-bb59-06b80318e8d0': <pysa...     0.585031  \n",
       "6944   {'e47f388b-ed6f-43c5-84ac-84bba5555676': <pysa...     0.153421  \n",
       "14107  {'74b5e2bb-6a77-45d1-b6cf-478b9908ff65': <pysa...     0.742147  \n",
       "254    {'da843e42-f509-4ec8-baa1-f72d5fcdc073': <pysa...     0.369353  \n",
       "14150  {'afc4782b-7c65-464f-b52e-43a8a0e8e17b': <pysa...     0.441379  \n",
       "5781   {'fd2e206a-1c7c-4e37-bbc5-dce4f034088c': <pysa...     0.114542  \n",
       "8190   {'4bc25d3f-3b43-4032-abe7-78602f671607': <pysa...     0.270088  \n",
       "13936  {'8544aa40-0850-472a-b8b4-3aed72fbef48': <pysa...     0.356702  \n",
       "617    {'6f3a25a9-7f11-4f46-af3e-970908a99d43': <pysa...     0.190210  \n",
       "195    {'07f83ef7-459a-4511-8a62-5f5dac2db681': <pysa...     0.326305  \n",
       "10080  {'8adb993c-66b0-43b7-b72a-aec53605baff': <pysa...     0.884964  \n",
       "11554  {'9368a4db-7f33-47fe-9ed0-00c3e25727a0': <pysa...     0.118410  \n",
       "12362  {'80b7ea0f-631d-450c-ace6-7df76dacce3a': <pysa...     0.322026  \n",
       "614    {'5d5eb67e-89b9-4642-9a86-60568f8b366b': <pysa...     0.783758  "
      ],
      "text/html": [
       "<div>\n",
       "<style scoped>\n",
       "    .dataframe tbody tr th:only-of-type {\n",
       "        vertical-align: middle;\n",
       "    }\n",
       "\n",
       "    .dataframe tbody tr th {\n",
       "        vertical-align: top;\n",
       "    }\n",
       "\n",
       "    .dataframe thead th {\n",
       "        text-align: right;\n",
       "    }\n",
       "</style>\n",
       "<table border=\"1\" class=\"dataframe\">\n",
       "  <thead>\n",
       "    <tr style=\"text-align: right;\">\n",
       "      <th></th>\n",
       "      <th>Subclass</th>\n",
       "      <th>Superfamily</th>\n",
       "      <th>Family</th>\n",
       "      <th>Insertion</th>\n",
       "      <th>Counting</th>\n",
       "      <th>Reads</th>\n",
       "      <th>mean_subcov</th>\n",
       "    </tr>\n",
       "  </thead>\n",
       "  <tbody>\n",
       "    <tr>\n",
       "      <th>197</th>\n",
       "      <td>LINE</td>\n",
       "      <td>I-Jockey</td>\n",
       "      <td>TAHRE</td>\n",
       "      <td>TAHRE_2R_RaGOO_1145909_1151824</td>\n",
       "      <td>267</td>\n",
       "      <td>{'d7dedb28-76e2-4740-aeef-22bd7e936577': &lt;pysa...</td>\n",
       "      <td>0.165054</td>\n",
       "    </tr>\n",
       "    <tr>\n",
       "      <th>8254</th>\n",
       "      <td>LINE</td>\n",
       "      <td>I-Jockey</td>\n",
       "      <td>TART_B1</td>\n",
       "      <td>TART_B1_2R_RaGOO_23920095_23923160</td>\n",
       "      <td>247</td>\n",
       "      <td>{'444b015d-6ecf-428f-95cd-30b4a206f715': &lt;pysa...</td>\n",
       "      <td>0.623737</td>\n",
       "    </tr>\n",
       "    <tr>\n",
       "      <th>257</th>\n",
       "      <td>LINE</td>\n",
       "      <td>I-Jockey</td>\n",
       "      <td>HETA</td>\n",
       "      <td>HETA_3L_RaGOO_12349_18402</td>\n",
       "      <td>141</td>\n",
       "      <td>{'39c656e4-149f-4961-ba3a-682e177bb78f': &lt;pysa...</td>\n",
       "      <td>0.347078</td>\n",
       "    </tr>\n",
       "    <tr>\n",
       "      <th>258</th>\n",
       "      <td>LINE</td>\n",
       "      <td>I-Jockey</td>\n",
       "      <td>HETA</td>\n",
       "      <td>HETA_3L_RaGOO_18403_20679</td>\n",
       "      <td>136</td>\n",
       "      <td>{'d8f190c1-7e57-4ad0-8601-fe70baa9c42f': &lt;pysa...</td>\n",
       "      <td>0.357868</td>\n",
       "    </tr>\n",
       "    <tr>\n",
       "      <th>241</th>\n",
       "      <td>LINE</td>\n",
       "      <td>I-Jockey</td>\n",
       "      <td>TART-A</td>\n",
       "      <td>TART-A_X_RaGOO_3_3271</td>\n",
       "      <td>105</td>\n",
       "      <td>{'96d23915-1bb0-45a5-9d38-7ac5f6b3b0e5': &lt;pysa...</td>\n",
       "      <td>0.505942</td>\n",
       "    </tr>\n",
       "    <tr>\n",
       "      <th>11219</th>\n",
       "      <td>LINE</td>\n",
       "      <td>I-Jockey</td>\n",
       "      <td>Jockey2</td>\n",
       "      <td>Jockey2_X_RaGOO_21275337_21276483</td>\n",
       "      <td>101</td>\n",
       "      <td>{'f7e019b6-7545-42c0-a7ec-d06c1b5e403f': &lt;pysa...</td>\n",
       "      <td>0.733019</td>\n",
       "    </tr>\n",
       "    <tr>\n",
       "      <th>595</th>\n",
       "      <td>LTR</td>\n",
       "      <td>Copia</td>\n",
       "      <td>Copia</td>\n",
       "      <td>Copia_LTR_3L_RaGOO_10022428_10027467</td>\n",
       "      <td>82</td>\n",
       "      <td>{'9dbd6759-d118-4726-b1c8-090df1fcba30': &lt;pysa...</td>\n",
       "      <td>0.879271</td>\n",
       "    </tr>\n",
       "    <tr>\n",
       "      <th>596</th>\n",
       "      <td>LTR</td>\n",
       "      <td>Copia</td>\n",
       "      <td>Copia</td>\n",
       "      <td>Copia_LTR_3L_RaGOO_10052506_10057644</td>\n",
       "      <td>64</td>\n",
       "      <td>{'b3970f43-60b2-4dc2-9e9a-eb45407e3080': &lt;pysa...</td>\n",
       "      <td>0.892261</td>\n",
       "    </tr>\n",
       "    <tr>\n",
       "      <th>204</th>\n",
       "      <td>LINE</td>\n",
       "      <td>I-Jockey</td>\n",
       "      <td>TAHRE</td>\n",
       "      <td>TAHRE_3L_RaGOO_20705_26581</td>\n",
       "      <td>62</td>\n",
       "      <td>{'a8cbd7dd-b6fe-481a-8601-256790555359': &lt;pysa...</td>\n",
       "      <td>0.605097</td>\n",
       "    </tr>\n",
       "    <tr>\n",
       "      <th>260</th>\n",
       "      <td>LINE</td>\n",
       "      <td>I-Jockey</td>\n",
       "      <td>HETA</td>\n",
       "      <td>HETA_3L_RaGOO_24251825_24252692</td>\n",
       "      <td>59</td>\n",
       "      <td>{'eaa2ac5d-0160-4a1c-9590-2465eb718ac9': &lt;pysa...</td>\n",
       "      <td>0.646863</td>\n",
       "    </tr>\n",
       "    <tr>\n",
       "      <th>263</th>\n",
       "      <td>LINE</td>\n",
       "      <td>I-Jockey</td>\n",
       "      <td>HETA</td>\n",
       "      <td>HETA_X_RaGOO_87709_93586</td>\n",
       "      <td>57</td>\n",
       "      <td>{'2342cb70-7df3-45db-9e33-8e18fac00b5a': &lt;pysa...</td>\n",
       "      <td>0.362266</td>\n",
       "    </tr>\n",
       "    <tr>\n",
       "      <th>207</th>\n",
       "      <td>LINE</td>\n",
       "      <td>I-Jockey</td>\n",
       "      <td>TAHRE</td>\n",
       "      <td>TAHRE_3L_RaGOO_24249813_24257637</td>\n",
       "      <td>49</td>\n",
       "      <td>{'7a042a9a-eb7a-48fc-9bfd-e685952596e2': &lt;pysa...</td>\n",
       "      <td>0.485294</td>\n",
       "    </tr>\n",
       "    <tr>\n",
       "      <th>200</th>\n",
       "      <td>LINE</td>\n",
       "      <td>I-Jockey</td>\n",
       "      <td>TAHRE</td>\n",
       "      <td>TAHRE_2R_RaGOO_3700966_3703361</td>\n",
       "      <td>47</td>\n",
       "      <td>{'ed2d4c3e-eb2b-468a-bf7a-72cbe189894a': &lt;pysa...</td>\n",
       "      <td>0.722658</td>\n",
       "    </tr>\n",
       "    <tr>\n",
       "      <th>252</th>\n",
       "      <td>LINE</td>\n",
       "      <td>I-Jockey</td>\n",
       "      <td>HETA</td>\n",
       "      <td>HETA_2R_RaGOO_2831691_2835985</td>\n",
       "      <td>47</td>\n",
       "      <td>{'b1f6e43e-7c80-4393-bdbc-f8bd199d22b7': &lt;pysa...</td>\n",
       "      <td>0.279400</td>\n",
       "    </tr>\n",
       "    <tr>\n",
       "      <th>13926</th>\n",
       "      <td>LTR</td>\n",
       "      <td>Gypsy</td>\n",
       "      <td>Gypsy12</td>\n",
       "      <td>Gypsy12_LTR_3R_RaGOO_842982_854376</td>\n",
       "      <td>43</td>\n",
       "      <td>{'6a22fc48-da5a-4915-9e28-d3a46bebc6e0': &lt;pysa...</td>\n",
       "      <td>0.170320</td>\n",
       "    </tr>\n",
       "    <tr>\n",
       "      <th>261</th>\n",
       "      <td>LINE</td>\n",
       "      <td>I-Jockey</td>\n",
       "      <td>HETA</td>\n",
       "      <td>HETA_X_RaGOO_3925_6784</td>\n",
       "      <td>42</td>\n",
       "      <td>{'aea3e625-c79c-4011-8d27-7b1a2da909da': &lt;pysa...</td>\n",
       "      <td>0.274780</td>\n",
       "    </tr>\n",
       "    <tr>\n",
       "      <th>14051</th>\n",
       "      <td>LTR</td>\n",
       "      <td>Copia</td>\n",
       "      <td>FROGGER</td>\n",
       "      <td>FROGGER_LTR_2R_RaGOO_3942161_3946521</td>\n",
       "      <td>39</td>\n",
       "      <td>{'deb5429d-17fe-4607-9b87-4e189daca09e': &lt;pysa...</td>\n",
       "      <td>0.486656</td>\n",
       "    </tr>\n",
       "    <tr>\n",
       "      <th>597</th>\n",
       "      <td>LTR</td>\n",
       "      <td>Copia</td>\n",
       "      <td>Copia</td>\n",
       "      <td>Copia_LTR_3L_RaGOO_17623155_17628299</td>\n",
       "      <td>35</td>\n",
       "      <td>{'6c5e18f0-1c10-450e-95a7-bf6cf6f9f3bd': &lt;pysa...</td>\n",
       "      <td>0.918196</td>\n",
       "    </tr>\n",
       "    <tr>\n",
       "      <th>580</th>\n",
       "      <td>LTR</td>\n",
       "      <td>Copia</td>\n",
       "      <td>Copia</td>\n",
       "      <td>Copia_LTR_2L_RaGOO_14753817_14758950</td>\n",
       "      <td>35</td>\n",
       "      <td>{'464112fd-1514-4a01-8182-4e1c6ad0e8c2': &lt;pysa...</td>\n",
       "      <td>0.910445</td>\n",
       "    </tr>\n",
       "    <tr>\n",
       "      <th>8488</th>\n",
       "      <td>LTR</td>\n",
       "      <td>Copia</td>\n",
       "      <td>DM1731</td>\n",
       "      <td>DM1731_LTR_3L_RaGOO_24209333_24213898</td>\n",
       "      <td>32</td>\n",
       "      <td>{'8a123010-909b-4ede-a5b7-3234e01a3feb': &lt;pysa...</td>\n",
       "      <td>0.474993</td>\n",
       "    </tr>\n",
       "    <tr>\n",
       "      <th>11443</th>\n",
       "      <td>DNA</td>\n",
       "      <td>CMC-Transib</td>\n",
       "      <td>TRANSIB2</td>\n",
       "      <td>TRANSIB2_2R_RaGOO_3421509_3423952</td>\n",
       "      <td>32</td>\n",
       "      <td>{'31eb43a6-cbbc-4675-94c1-4fa01c6039e7': &lt;pysa...</td>\n",
       "      <td>0.403218</td>\n",
       "    </tr>\n",
       "    <tr>\n",
       "      <th>259</th>\n",
       "      <td>LINE</td>\n",
       "      <td>I-Jockey</td>\n",
       "      <td>HETA</td>\n",
       "      <td>HETA_3L_RaGOO_24251790_24258327</td>\n",
       "      <td>31</td>\n",
       "      <td>{'8ae97d7a-b65e-495b-9b81-95f49936ffeb': &lt;pysa...</td>\n",
       "      <td>0.358954</td>\n",
       "    </tr>\n",
       "    <tr>\n",
       "      <th>7926</th>\n",
       "      <td>DNA</td>\n",
       "      <td>TcMar-Tc1</td>\n",
       "      <td>FB4_DM</td>\n",
       "      <td>FB4_DM_2R_RaGOO_3378778_3380218</td>\n",
       "      <td>31</td>\n",
       "      <td>{'b3a54ccd-5e5d-4056-a5f1-6d7c528d2b38': &lt;pysa...</td>\n",
       "      <td>0.659476</td>\n",
       "    </tr>\n",
       "    <tr>\n",
       "      <th>470</th>\n",
       "      <td>LTR</td>\n",
       "      <td>Gypsy</td>\n",
       "      <td>QUASIMODO</td>\n",
       "      <td>QUASIMODO_I_2R_RaGOO_4031047_4034609</td>\n",
       "      <td>27</td>\n",
       "      <td>{'af9921c1-3b2b-476e-9d02-e472e462b8e2': &lt;pysa...</td>\n",
       "      <td>0.308950</td>\n",
       "    </tr>\n",
       "    <tr>\n",
       "      <th>641</th>\n",
       "      <td>LTR</td>\n",
       "      <td>Gypsy</td>\n",
       "      <td>BLASTOPIA</td>\n",
       "      <td>BLASTOPIA_LTR_2R_RaGOO_2878638_2883652</td>\n",
       "      <td>24</td>\n",
       "      <td>{'af85a877-4ca2-4b54-8391-8de3c2df6283': &lt;pysa...</td>\n",
       "      <td>0.126645</td>\n",
       "    </tr>\n",
       "    <tr>\n",
       "      <th>594</th>\n",
       "      <td>LTR</td>\n",
       "      <td>Copia</td>\n",
       "      <td>Copia</td>\n",
       "      <td>Copia_LTR_2R_RaGOO_20482857_20488005</td>\n",
       "      <td>24</td>\n",
       "      <td>{'7fb05b3f-1961-46f2-a8d4-87d5635ed335': &lt;pysa...</td>\n",
       "      <td>0.766317</td>\n",
       "    </tr>\n",
       "    <tr>\n",
       "      <th>231</th>\n",
       "      <td>LINE</td>\n",
       "      <td>I-Jockey</td>\n",
       "      <td>TART-A</td>\n",
       "      <td>TART-A_3L_RaGOO_24811306_24813320</td>\n",
       "      <td>24</td>\n",
       "      <td>{'309afc0b-6e0a-4a43-bce9-7ce2983d0093': &lt;pysa...</td>\n",
       "      <td>0.733697</td>\n",
       "    </tr>\n",
       "    <tr>\n",
       "      <th>670</th>\n",
       "      <td>LTR</td>\n",
       "      <td>Gypsy</td>\n",
       "      <td>BLASTOPIA</td>\n",
       "      <td>BLASTOPIA_LTR_3R_RaGOO_8215021_8220047</td>\n",
       "      <td>24</td>\n",
       "      <td>{'458c2c41-0591-4ea5-b0cb-89cc75394f87': &lt;pysa...</td>\n",
       "      <td>0.152764</td>\n",
       "    </tr>\n",
       "    <tr>\n",
       "      <th>12087</th>\n",
       "      <td>DNA</td>\n",
       "      <td>TcMar-Tc1</td>\n",
       "      <td>Mariner2_DM</td>\n",
       "      <td>Mariner2_DM_3L_RaGOO_22903450_22904558</td>\n",
       "      <td>23</td>\n",
       "      <td>{'93c9c007-2baf-4057-8e5f-61f9272dfff2': &lt;pysa...</td>\n",
       "      <td>0.865877</td>\n",
       "    </tr>\n",
       "    <tr>\n",
       "      <th>13930</th>\n",
       "      <td>LTR</td>\n",
       "      <td>Gypsy</td>\n",
       "      <td>Gypsy12</td>\n",
       "      <td>Gypsy12_LTR_3R_RaGOO_960900_963176</td>\n",
       "      <td>23</td>\n",
       "      <td>{'8b0290d4-d85f-494b-90f0-2ea8d7b5cbdb': &lt;pysa...</td>\n",
       "      <td>0.409280</td>\n",
       "    </tr>\n",
       "    <tr>\n",
       "      <th>13559</th>\n",
       "      <td>LTR</td>\n",
       "      <td>Gypsy</td>\n",
       "      <td>DM176</td>\n",
       "      <td>DM176_I_2R_RaGOO_196886_202183</td>\n",
       "      <td>22</td>\n",
       "      <td>{'e4f4b5d9-bcbe-46fe-8aed-cabc7588ee2c': &lt;pysa...</td>\n",
       "      <td>0.119647</td>\n",
       "    </tr>\n",
       "    <tr>\n",
       "      <th>7625</th>\n",
       "      <td>LTR</td>\n",
       "      <td>Gypsy</td>\n",
       "      <td>NOMAD</td>\n",
       "      <td>NOMAD_LTR_X_RaGOO_11398933_11406469</td>\n",
       "      <td>22</td>\n",
       "      <td>{'f1b43212-e79f-4744-b4c5-08b5890e1175': &lt;pysa...</td>\n",
       "      <td>0.229957</td>\n",
       "    </tr>\n",
       "    <tr>\n",
       "      <th>673</th>\n",
       "      <td>LTR</td>\n",
       "      <td>Gypsy</td>\n",
       "      <td>BLASTOPIA</td>\n",
       "      <td>BLASTOPIA_LTR_X_RaGOO_10104239_10109267</td>\n",
       "      <td>22</td>\n",
       "      <td>{'7dae2a32-2248-4758-872e-e10560e75667': &lt;pysa...</td>\n",
       "      <td>0.123192</td>\n",
       "    </tr>\n",
       "    <tr>\n",
       "      <th>645</th>\n",
       "      <td>LTR</td>\n",
       "      <td>Gypsy</td>\n",
       "      <td>BLASTOPIA</td>\n",
       "      <td>BLASTOPIA_LTR_2R_RaGOO_3217647_3222622</td>\n",
       "      <td>21</td>\n",
       "      <td>{'85a11cfb-c97e-4402-83ce-fd6928bd57dd': &lt;pysa...</td>\n",
       "      <td>0.117521</td>\n",
       "    </tr>\n",
       "    <tr>\n",
       "      <th>653</th>\n",
       "      <td>LTR</td>\n",
       "      <td>Gypsy</td>\n",
       "      <td>BLASTOPIA</td>\n",
       "      <td>BLASTOPIA_LTR_3L_RaGOO_23419160_23424177</td>\n",
       "      <td>21</td>\n",
       "      <td>{'af85a877-4ca2-4b54-8391-8de3c2df6283': &lt;pysa...</td>\n",
       "      <td>0.114867</td>\n",
       "    </tr>\n",
       "    <tr>\n",
       "      <th>6942</th>\n",
       "      <td>LTR</td>\n",
       "      <td>Gypsy</td>\n",
       "      <td>TRANSPAC</td>\n",
       "      <td>TRANSPAC_LTR_3R_RaGOO_21217775_21223024</td>\n",
       "      <td>21</td>\n",
       "      <td>{'f52a8f05-394d-48f9-9bca-dd386a3664f8': &lt;pysa...</td>\n",
       "      <td>0.173339</td>\n",
       "    </tr>\n",
       "    <tr>\n",
       "      <th>14501</th>\n",
       "      <td>LTR</td>\n",
       "      <td>Gypsy</td>\n",
       "      <td>Gypsy10</td>\n",
       "      <td>Gypsy10_I_3R_RaGOO_761442_762629</td>\n",
       "      <td>20</td>\n",
       "      <td>{'dc90ca4e-a156-40c9-a642-2ca30b9719dc': &lt;pysa...</td>\n",
       "      <td>0.379992</td>\n",
       "    </tr>\n",
       "    <tr>\n",
       "      <th>654</th>\n",
       "      <td>LTR</td>\n",
       "      <td>Gypsy</td>\n",
       "      <td>BLASTOPIA</td>\n",
       "      <td>BLASTOPIA_LTR_3L_RaGOO_23460661_23465627</td>\n",
       "      <td>19</td>\n",
       "      <td>{'25eaec9c-d00a-4d10-ae06-9c259a7dbdb0': &lt;pysa...</td>\n",
       "      <td>0.158244</td>\n",
       "    </tr>\n",
       "    <tr>\n",
       "      <th>6938</th>\n",
       "      <td>LTR</td>\n",
       "      <td>Gypsy</td>\n",
       "      <td>TRANSPAC</td>\n",
       "      <td>TRANSPAC_LTR_2R_RaGOO_21445727_21450940</td>\n",
       "      <td>19</td>\n",
       "      <td>{'d4e19c71-f468-4f43-b253-70c762952bd2': &lt;pysa...</td>\n",
       "      <td>0.210082</td>\n",
       "    </tr>\n",
       "    <tr>\n",
       "      <th>671</th>\n",
       "      <td>LTR</td>\n",
       "      <td>Gypsy</td>\n",
       "      <td>BLASTOPIA</td>\n",
       "      <td>BLASTOPIA_I_3R_RaGOO_11787155_11791536</td>\n",
       "      <td>19</td>\n",
       "      <td>{'458c2c41-0591-4ea5-b0cb-89cc75394f87': &lt;pysa...</td>\n",
       "      <td>0.136727</td>\n",
       "    </tr>\n",
       "    <tr>\n",
       "      <th>203</th>\n",
       "      <td>LINE</td>\n",
       "      <td>I-Jockey</td>\n",
       "      <td>TAHRE</td>\n",
       "      <td>TAHRE_3L_RaGOO_2547_12261</td>\n",
       "      <td>19</td>\n",
       "      <td>{'5a940d0f-45e6-4da1-8f1d-d936920c1817': &lt;pysa...</td>\n",
       "      <td>0.204360</td>\n",
       "    </tr>\n",
       "    <tr>\n",
       "      <th>8591</th>\n",
       "      <td>LINE</td>\n",
       "      <td>I-Jockey</td>\n",
       "      <td>G4_DM</td>\n",
       "      <td>G4_DM_3L_RaGOO_25501627_25504470</td>\n",
       "      <td>19</td>\n",
       "      <td>{'c0ebe6ee-9cc5-43f4-b68c-b2a4e062501e': &lt;pysa...</td>\n",
       "      <td>0.206435</td>\n",
       "    </tr>\n",
       "    <tr>\n",
       "      <th>11468</th>\n",
       "      <td>DNA</td>\n",
       "      <td>CMC-Transib</td>\n",
       "      <td>TRANSIB2</td>\n",
       "      <td>TRANSIB2_3R_RaGOO_1753687_1756027</td>\n",
       "      <td>19</td>\n",
       "      <td>{'4f661000-9ab9-4054-8a13-40e20f45d572': &lt;pysa...</td>\n",
       "      <td>0.460099</td>\n",
       "    </tr>\n",
       "    <tr>\n",
       "      <th>13096</th>\n",
       "      <td>LTR</td>\n",
       "      <td>Gypsy</td>\n",
       "      <td>CIRCE</td>\n",
       "      <td>CIRCE_3R_RaGOO_3073861_3079193</td>\n",
       "      <td>19</td>\n",
       "      <td>{'e3b2470f-bba1-4f00-bb68-24f34db06476': &lt;pysa...</td>\n",
       "      <td>0.161962</td>\n",
       "    </tr>\n",
       "    <tr>\n",
       "      <th>11901</th>\n",
       "      <td>LTR</td>\n",
       "      <td>Copia</td>\n",
       "      <td>Copia1</td>\n",
       "      <td>Copia1-I_DM_2R_RaGOO_2841061_2845341</td>\n",
       "      <td>18</td>\n",
       "      <td>{'61aec693-dbc8-46f3-baf1-e7edebf91922': &lt;pysa...</td>\n",
       "      <td>0.141096</td>\n",
       "    </tr>\n",
       "    <tr>\n",
       "      <th>6933</th>\n",
       "      <td>LTR</td>\n",
       "      <td>Gypsy</td>\n",
       "      <td>TRANSPAC</td>\n",
       "      <td>TRANSPAC_LTR_2L_RaGOO_2221225_2226474</td>\n",
       "      <td>18</td>\n",
       "      <td>{'4bb06be3-b437-463c-a0fe-4671d2bb3136': &lt;pysa...</td>\n",
       "      <td>0.158083</td>\n",
       "    </tr>\n",
       "    <tr>\n",
       "      <th>6955</th>\n",
       "      <td>DNA</td>\n",
       "      <td>TcMar-Pogo</td>\n",
       "      <td>POGO</td>\n",
       "      <td>POGO_2R_RaGOO_7201268_7202754</td>\n",
       "      <td>17</td>\n",
       "      <td>{'01ccb1c1-b3c7-4978-bb56-d4a0b5b3d54d': &lt;pysa...</td>\n",
       "      <td>0.901710</td>\n",
       "    </tr>\n",
       "    <tr>\n",
       "      <th>8044</th>\n",
       "      <td>DNA</td>\n",
       "      <td>TcMar-Tc1</td>\n",
       "      <td>FB4_DM</td>\n",
       "      <td>FB4_DM_3R_RaGOO_16921110_16924199</td>\n",
       "      <td>17</td>\n",
       "      <td>{'a27aaeac-d8ec-46ec-b619-d81e9cf1c1a3': &lt;pysa...</td>\n",
       "      <td>0.473959</td>\n",
       "    </tr>\n",
       "    <tr>\n",
       "      <th>416</th>\n",
       "      <td>LTR</td>\n",
       "      <td>Gypsy</td>\n",
       "      <td>ZAM</td>\n",
       "      <td>ZAM_LTR_3R_RaGOO_3216098_3221945</td>\n",
       "      <td>16</td>\n",
       "      <td>{'48d97f79-af6c-44b8-a0b4-4ad396a76dff': &lt;pysa...</td>\n",
       "      <td>0.181899</td>\n",
       "    </tr>\n",
       "    <tr>\n",
       "      <th>12085</th>\n",
       "      <td>DNA</td>\n",
       "      <td>TcMar-Tc1</td>\n",
       "      <td>Mariner2_DM</td>\n",
       "      <td>Mariner2_DM_3L_RaGOO_22748069_22749176</td>\n",
       "      <td>16</td>\n",
       "      <td>{'b5a089d9-7b5e-4677-99ef-39cd635a6ae4': &lt;pysa...</td>\n",
       "      <td>0.885388</td>\n",
       "    </tr>\n",
       "    <tr>\n",
       "      <th>8192</th>\n",
       "      <td>LTR</td>\n",
       "      <td>Gypsy</td>\n",
       "      <td>BURDOCK</td>\n",
       "      <td>BURDOCK_LTR_3L_RaGOO_10638503_10641077</td>\n",
       "      <td>16</td>\n",
       "      <td>{'d3a1de3d-35be-4f34-b1ab-4f8c57077340': &lt;pysa...</td>\n",
       "      <td>0.380172</td>\n",
       "    </tr>\n",
       "    <tr>\n",
       "      <th>581</th>\n",
       "      <td>LTR</td>\n",
       "      <td>Copia</td>\n",
       "      <td>Copia</td>\n",
       "      <td>Copia_LTR_2L_RaGOO_21771835_21776956</td>\n",
       "      <td>16</td>\n",
       "      <td>{'ed775913-6f9a-4e05-9e35-219f8220958a': &lt;pysa...</td>\n",
       "      <td>0.836116</td>\n",
       "    </tr>\n",
       "    <tr>\n",
       "      <th>6939</th>\n",
       "      <td>LTR</td>\n",
       "      <td>Gypsy</td>\n",
       "      <td>TRANSPAC</td>\n",
       "      <td>TRANSPAC_LTR_3L_RaGOO_1562415_1567666</td>\n",
       "      <td>15</td>\n",
       "      <td>{'7e904c12-bc0d-4eca-9926-05e8f4c6beba': &lt;pysa...</td>\n",
       "      <td>0.160820</td>\n",
       "    </tr>\n",
       "    <tr>\n",
       "      <th>861</th>\n",
       "      <td>DNA</td>\n",
       "      <td>CMC-Transib</td>\n",
       "      <td>M4DM</td>\n",
       "      <td>M4DM_3L_RaGOO_25693372_25696157</td>\n",
       "      <td>15</td>\n",
       "      <td>{'517ef04e-5327-4d14-afd5-010261916daa': &lt;pysa...</td>\n",
       "      <td>0.168570</td>\n",
       "    </tr>\n",
       "    <tr>\n",
       "      <th>249</th>\n",
       "      <td>LINE</td>\n",
       "      <td>I-Jockey</td>\n",
       "      <td>HETA</td>\n",
       "      <td>HETA_2R_RaGOO_1141073_1145629</td>\n",
       "      <td>14</td>\n",
       "      <td>{'d0a83b7d-63b0-4082-bdcf-5859db2611d7': &lt;pysa...</td>\n",
       "      <td>0.189421</td>\n",
       "    </tr>\n",
       "    <tr>\n",
       "      <th>251</th>\n",
       "      <td>LINE</td>\n",
       "      <td>I-Jockey</td>\n",
       "      <td>HETA</td>\n",
       "      <td>HETA_2R_RaGOO_2824725_2826074</td>\n",
       "      <td>13</td>\n",
       "      <td>{'675c3af4-a3aa-4e6e-b485-af762485efe3': &lt;pysa...</td>\n",
       "      <td>0.538576</td>\n",
       "    </tr>\n",
       "    <tr>\n",
       "      <th>9317</th>\n",
       "      <td>LINE</td>\n",
       "      <td>R1</td>\n",
       "      <td>DMRT1B</td>\n",
       "      <td>DMRT1B_2R_RaGOO_4404275_4406331</td>\n",
       "      <td>13</td>\n",
       "      <td>{'3cc34e43-09fe-4637-aff7-3d1ccfc23995': &lt;pysa...</td>\n",
       "      <td>0.795196</td>\n",
       "    </tr>\n",
       "    <tr>\n",
       "      <th>566</th>\n",
       "      <td>LTR</td>\n",
       "      <td>Gypsy</td>\n",
       "      <td>QUASIMODO</td>\n",
       "      <td>QUASIMODO_LTR_3R_RaGOO_3643836_3644407</td>\n",
       "      <td>11</td>\n",
       "      <td>{'24c290d6-03ce-4c62-a34f-215edbc94157': &lt;pysa...</td>\n",
       "      <td>0.727910</td>\n",
       "    </tr>\n",
       "    <tr>\n",
       "      <th>8043</th>\n",
       "      <td>DNA</td>\n",
       "      <td>TcMar-Tc1</td>\n",
       "      <td>FB4_DM</td>\n",
       "      <td>FB4_DM_3R_RaGOO_16914758_16917850</td>\n",
       "      <td>11</td>\n",
       "      <td>{'b5350d3f-dd71-446d-a045-7229af567ea7': &lt;pysa...</td>\n",
       "      <td>0.476567</td>\n",
       "    </tr>\n",
       "    <tr>\n",
       "      <th>4837</th>\n",
       "      <td>RC</td>\n",
       "      <td>Helitron</td>\n",
       "      <td>DNAREP1_DM</td>\n",
       "      <td>DNAREP1_DM_X_RaGOO_712208_713323</td>\n",
       "      <td>11</td>\n",
       "      <td>{'56dfe396-1d07-43e1-94d6-c3874a5ec00b': &lt;pysa...</td>\n",
       "      <td>0.718386</td>\n",
       "    </tr>\n",
       "    <tr>\n",
       "      <th>10599</th>\n",
       "      <td>LINE</td>\n",
       "      <td>I-Jockey</td>\n",
       "      <td>DOC3_DM</td>\n",
       "      <td>DOC3_DM_3R_RaGOO_2983770_2986840</td>\n",
       "      <td>11</td>\n",
       "      <td>{'4e0145b9-76bb-4747-8ac3-9be5d7e8ec96': &lt;pysa...</td>\n",
       "      <td>0.606959</td>\n",
       "    </tr>\n",
       "    <tr>\n",
       "      <th>8191</th>\n",
       "      <td>LTR</td>\n",
       "      <td>Gypsy</td>\n",
       "      <td>BURDOCK</td>\n",
       "      <td>BURDOCK_LTR_2R_RaGOO_18620960_18624380</td>\n",
       "      <td>11</td>\n",
       "      <td>{'15dbbefb-efab-4ef2-b25b-575779131dc5': &lt;pysa...</td>\n",
       "      <td>0.233838</td>\n",
       "    </tr>\n",
       "    <tr>\n",
       "      <th>7565</th>\n",
       "      <td>LTR</td>\n",
       "      <td>Gypsy</td>\n",
       "      <td>NOMAD</td>\n",
       "      <td>NOMAD_LTR_2L_RaGOO_13384378_13391980</td>\n",
       "      <td>11</td>\n",
       "      <td>{'a8e6876a-9c9b-491c-a668-8837a1ea405b': &lt;pysa...</td>\n",
       "      <td>0.252637</td>\n",
       "    </tr>\n",
       "    <tr>\n",
       "      <th>11821</th>\n",
       "      <td>LTR</td>\n",
       "      <td>Pao</td>\n",
       "      <td>MAX</td>\n",
       "      <td>MAX_LTR_3L_RaGOO_24378598_24386713</td>\n",
       "      <td>11</td>\n",
       "      <td>{'52815f5d-c4e8-41ca-b051-10ac2c1a3a4a': &lt;pysa...</td>\n",
       "      <td>0.148177</td>\n",
       "    </tr>\n",
       "    <tr>\n",
       "      <th>11448</th>\n",
       "      <td>DNA</td>\n",
       "      <td>CMC-Transib</td>\n",
       "      <td>TRANSIB2</td>\n",
       "      <td>TRANSIB2_2R_RaGOO_5449525_5451701</td>\n",
       "      <td>10</td>\n",
       "      <td>{'dacaa10b-e3eb-486e-bd28-e203c9c1525c': &lt;pysa...</td>\n",
       "      <td>0.392739</td>\n",
       "    </tr>\n",
       "    <tr>\n",
       "      <th>11455</th>\n",
       "      <td>DNA</td>\n",
       "      <td>CMC-Transib</td>\n",
       "      <td>TRANSIB2</td>\n",
       "      <td>TRANSIB2_3L_RaGOO_24511852_24514346</td>\n",
       "      <td>10</td>\n",
       "      <td>{'03a9fbb4-17d4-4397-bf2b-413994b6cc98': &lt;pysa...</td>\n",
       "      <td>0.263272</td>\n",
       "    </tr>\n",
       "    <tr>\n",
       "      <th>7600</th>\n",
       "      <td>LTR</td>\n",
       "      <td>Gypsy</td>\n",
       "      <td>NOMAD</td>\n",
       "      <td>NOMAD_LTR_2R_RaGOO_20674240_20681841</td>\n",
       "      <td>10</td>\n",
       "      <td>{'d53da33a-a7f5-41d4-b03b-a055b385dc89': &lt;pysa...</td>\n",
       "      <td>0.168570</td>\n",
       "    </tr>\n",
       "    <tr>\n",
       "      <th>11563</th>\n",
       "      <td>LTR</td>\n",
       "      <td>Gypsy</td>\n",
       "      <td>DMLTR5</td>\n",
       "      <td>DMLTR5_X_RaGOO_1828728_1835798</td>\n",
       "      <td>10</td>\n",
       "      <td>{'f5d9247c-f358-4e70-8682-4d35ed7b23d9': &lt;pysa...</td>\n",
       "      <td>0.115644</td>\n",
       "    </tr>\n",
       "    <tr>\n",
       "      <th>6701</th>\n",
       "      <td>LINE</td>\n",
       "      <td>I-Jockey</td>\n",
       "      <td>FW2_DM</td>\n",
       "      <td>FW2_DM_2R_RaGOO_4440629_4442178</td>\n",
       "      <td>9</td>\n",
       "      <td>{'46fb7af7-7522-49f1-9fee-5cc5882c64be': &lt;pysa...</td>\n",
       "      <td>0.763432</td>\n",
       "    </tr>\n",
       "    <tr>\n",
       "      <th>502</th>\n",
       "      <td>LTR</td>\n",
       "      <td>Gypsy</td>\n",
       "      <td>QUASIMODO</td>\n",
       "      <td>QUASIMODO_LTR_3L_RaGOO_25055074_25055510</td>\n",
       "      <td>9</td>\n",
       "      <td>{'8b779471-3312-4c20-8966-14055fcb4b8c': &lt;pysa...</td>\n",
       "      <td>0.891182</td>\n",
       "    </tr>\n",
       "    <tr>\n",
       "      <th>8599</th>\n",
       "      <td>LINE</td>\n",
       "      <td>I-Jockey</td>\n",
       "      <td>G4_DM</td>\n",
       "      <td>G4_DM_3R_RaGOO_3291399_3294964</td>\n",
       "      <td>8</td>\n",
       "      <td>{'9f95c69f-5c59-4c40-b2f4-7b134689b3ef': &lt;pysa...</td>\n",
       "      <td>0.254558</td>\n",
       "    </tr>\n",
       "    <tr>\n",
       "      <th>12383</th>\n",
       "      <td>LTR</td>\n",
       "      <td>Pao</td>\n",
       "      <td>BEL</td>\n",
       "      <td>BEL_LTR_3R_RaGOO_11276926_11283012</td>\n",
       "      <td>8</td>\n",
       "      <td>{'746b7b31-34e3-44f3-a54b-564a5b758b07': &lt;pysa...</td>\n",
       "      <td>0.337352</td>\n",
       "    </tr>\n",
       "    <tr>\n",
       "      <th>12066</th>\n",
       "      <td>DNA</td>\n",
       "      <td>TcMar-Tc1</td>\n",
       "      <td>Mariner2_DM</td>\n",
       "      <td>Mariner2_DM_2L_RaGOO_21507526_21508443</td>\n",
       "      <td>8</td>\n",
       "      <td>{'7aa7b742-acde-480c-a805-77c171719a30': &lt;pysa...</td>\n",
       "      <td>0.923255</td>\n",
       "    </tr>\n",
       "    <tr>\n",
       "      <th>12104</th>\n",
       "      <td>DNA</td>\n",
       "      <td>TcMar-Tc1</td>\n",
       "      <td>Mariner2_DM</td>\n",
       "      <td>Mariner2_DM_4_RaGOO_638924_639677</td>\n",
       "      <td>8</td>\n",
       "      <td>{'3f14c54d-a0ac-4bea-ada4-0a02f4cb923b': &lt;pysa...</td>\n",
       "      <td>0.590969</td>\n",
       "    </tr>\n",
       "    <tr>\n",
       "      <th>10458</th>\n",
       "      <td>LTR</td>\n",
       "      <td>Gypsy</td>\n",
       "      <td>Gypsy6A</td>\n",
       "      <td>Gypsy6A_LTR_2R_RaGOO_2808245_2809716</td>\n",
       "      <td>8</td>\n",
       "      <td>{'d3a8c0ff-b199-469f-9f79-ef8875a668fa': &lt;pysa...</td>\n",
       "      <td>0.273623</td>\n",
       "    </tr>\n",
       "    <tr>\n",
       "      <th>579</th>\n",
       "      <td>LTR</td>\n",
       "      <td>Copia</td>\n",
       "      <td>Copia</td>\n",
       "      <td>Copia_LTR_2L_RaGOO_13770083_13775227</td>\n",
       "      <td>8</td>\n",
       "      <td>{'81c06f0e-c77d-42f6-b6d1-ffd48a5a692c': &lt;pysa...</td>\n",
       "      <td>0.893833</td>\n",
       "    </tr>\n",
       "    <tr>\n",
       "      <th>7599</th>\n",
       "      <td>LTR</td>\n",
       "      <td>Gypsy</td>\n",
       "      <td>NOMAD</td>\n",
       "      <td>NOMAD_LTR_2R_RaGOO_15583316_15590827</td>\n",
       "      <td>8</td>\n",
       "      <td>{'e0514d0f-8a1d-43d6-b9ad-bc0aa38f6ba6': &lt;pysa...</td>\n",
       "      <td>0.217431</td>\n",
       "    </tr>\n",
       "    <tr>\n",
       "      <th>13695</th>\n",
       "      <td>LTR</td>\n",
       "      <td>Gypsy</td>\n",
       "      <td>Gypsy</td>\n",
       "      <td>Gypsy_LTR_2R_RaGOO_3014728_3015826</td>\n",
       "      <td>7</td>\n",
       "      <td>{'65884a23-74ec-4cb4-b72a-307c7693d8b2': &lt;pysa...</td>\n",
       "      <td>0.555816</td>\n",
       "    </tr>\n",
       "    <tr>\n",
       "      <th>6037</th>\n",
       "      <td>LTR</td>\n",
       "      <td>Pao</td>\n",
       "      <td>ROO</td>\n",
       "      <td>ROO_I_3L_RaGOO_19559699_19561114</td>\n",
       "      <td>7</td>\n",
       "      <td>{'5106b497-ec10-4aa9-b9ed-c82ee5fde2ac': &lt;pysa...</td>\n",
       "      <td>0.459364</td>\n",
       "    </tr>\n",
       "    <tr>\n",
       "      <th>12630</th>\n",
       "      <td>LINE</td>\n",
       "      <td>I-Jockey</td>\n",
       "      <td>FW3_DM</td>\n",
       "      <td>FW3_DM_3L_RaGOO_24482361_24486070</td>\n",
       "      <td>7</td>\n",
       "      <td>{'6e0f8cbe-b37d-43a2-9003-5371676fd50b': &lt;pysa...</td>\n",
       "      <td>0.183299</td>\n",
       "    </tr>\n",
       "    <tr>\n",
       "      <th>6946</th>\n",
       "      <td>LTR</td>\n",
       "      <td>Gypsy</td>\n",
       "      <td>TRANSPAC</td>\n",
       "      <td>TRANSPAC_LTR_X_RaGOO_19519061_19524304</td>\n",
       "      <td>7</td>\n",
       "      <td>{'f637b743-d9e4-4fe6-97af-246999131f11': &lt;pysa...</td>\n",
       "      <td>0.154573</td>\n",
       "    </tr>\n",
       "    <tr>\n",
       "      <th>12641</th>\n",
       "      <td>LINE</td>\n",
       "      <td>I-Jockey</td>\n",
       "      <td>FW3_DM</td>\n",
       "      <td>FW3_DM_3R_RaGOO_2079747_2081812</td>\n",
       "      <td>7</td>\n",
       "      <td>{'3bcc42a0-c9a7-435a-b401-cac13d7eb86f': &lt;pysa...</td>\n",
       "      <td>0.210446</td>\n",
       "    </tr>\n",
       "    <tr>\n",
       "      <th>12819</th>\n",
       "      <td>LTR</td>\n",
       "      <td>Gypsy</td>\n",
       "      <td>Gypsy9</td>\n",
       "      <td>Gypsy9_LTR_2R_RaGOO_1564853_1570428</td>\n",
       "      <td>7</td>\n",
       "      <td>{'137fd6f5-5186-4f43-9fb2-d0419b9f6364': &lt;pysa...</td>\n",
       "      <td>0.157924</td>\n",
       "    </tr>\n",
       "    <tr>\n",
       "      <th>6173</th>\n",
       "      <td>LTR</td>\n",
       "      <td>Pao</td>\n",
       "      <td>ROO</td>\n",
       "      <td>ROO_I_3R_RaGOO_12957465_12959168</td>\n",
       "      <td>7</td>\n",
       "      <td>{'f0c55218-5957-459f-bcbc-28e985b81e10': &lt;pysa...</td>\n",
       "      <td>0.658502</td>\n",
       "    </tr>\n",
       "    <tr>\n",
       "      <th>8587</th>\n",
       "      <td>LINE</td>\n",
       "      <td>I-Jockey</td>\n",
       "      <td>G4_DM</td>\n",
       "      <td>G4_DM_3L_RaGOO_24449098_24450836</td>\n",
       "      <td>7</td>\n",
       "      <td>{'ba87a063-8b28-4372-a4ed-fa65389e8a34': &lt;pysa...</td>\n",
       "      <td>0.609814</td>\n",
       "    </tr>\n",
       "    <tr>\n",
       "      <th>13757</th>\n",
       "      <td>LTR</td>\n",
       "      <td>Gypsy</td>\n",
       "      <td>Gypsy</td>\n",
       "      <td>Gypsy_I_3R_RaGOO_4187299_4190434</td>\n",
       "      <td>6</td>\n",
       "      <td>{'721bdae8-e3a3-457d-8da0-036a9f75b891': &lt;pysa...</td>\n",
       "      <td>0.163371</td>\n",
       "    </tr>\n",
       "    <tr>\n",
       "      <th>2551</th>\n",
       "      <td>RC</td>\n",
       "      <td>Helitron</td>\n",
       "      <td>DNAREP1_DM</td>\n",
       "      <td>DNAREP1_DM_2R_RaGOO_5274469_5275451</td>\n",
       "      <td>6</td>\n",
       "      <td>{'82acda28-ea03-4a5c-bb59-06b80318e8d0': &lt;pysa...</td>\n",
       "      <td>0.585031</td>\n",
       "    </tr>\n",
       "    <tr>\n",
       "      <th>6944</th>\n",
       "      <td>LTR</td>\n",
       "      <td>Gypsy</td>\n",
       "      <td>TRANSPAC</td>\n",
       "      <td>TRANSPAC_LTR_X_RaGOO_4638939_4644186</td>\n",
       "      <td>6</td>\n",
       "      <td>{'e47f388b-ed6f-43c5-84ac-84bba5555676': &lt;pysa...</td>\n",
       "      <td>0.153421</td>\n",
       "    </tr>\n",
       "    <tr>\n",
       "      <th>14107</th>\n",
       "      <td>DNA</td>\n",
       "      <td>CMC-Transib</td>\n",
       "      <td>TRANSIB3</td>\n",
       "      <td>TRANSIB3_3R_RaGOO_2679434_2681620</td>\n",
       "      <td>6</td>\n",
       "      <td>{'74b5e2bb-6a77-45d1-b6cf-478b9908ff65': &lt;pysa...</td>\n",
       "      <td>0.742147</td>\n",
       "    </tr>\n",
       "    <tr>\n",
       "      <th>254</th>\n",
       "      <td>LINE</td>\n",
       "      <td>I-Jockey</td>\n",
       "      <td>HETA</td>\n",
       "      <td>HETA_2R_RaGOO_3703418_3705329</td>\n",
       "      <td>6</td>\n",
       "      <td>{'da843e42-f509-4ec8-baa1-f72d5fcdc073': &lt;pysa...</td>\n",
       "      <td>0.369353</td>\n",
       "    </tr>\n",
       "    <tr>\n",
       "      <th>14150</th>\n",
       "      <td>LTR</td>\n",
       "      <td>Gypsy</td>\n",
       "      <td>Gypsy2</td>\n",
       "      <td>Gypsy2-I_DM_2R_RaGOO_545702_556702</td>\n",
       "      <td>6</td>\n",
       "      <td>{'afc4782b-7c65-464f-b52e-43a8a0e8e17b': &lt;pysa...</td>\n",
       "      <td>0.441379</td>\n",
       "    </tr>\n",
       "    <tr>\n",
       "      <th>5781</th>\n",
       "      <td>LTR</td>\n",
       "      <td>Pao</td>\n",
       "      <td>ROO</td>\n",
       "      <td>ROO_I_2R_RaGOO_17052400_17055914</td>\n",
       "      <td>6</td>\n",
       "      <td>{'fd2e206a-1c7c-4e37-bbc5-dce4f034088c': &lt;pysa...</td>\n",
       "      <td>0.114542</td>\n",
       "    </tr>\n",
       "    <tr>\n",
       "      <th>8190</th>\n",
       "      <td>LTR</td>\n",
       "      <td>Gypsy</td>\n",
       "      <td>BURDOCK</td>\n",
       "      <td>BURDOCK_LTR_2R_RaGOO_14046385_14048986</td>\n",
       "      <td>6</td>\n",
       "      <td>{'4bc25d3f-3b43-4032-abe7-78602f671607': &lt;pysa...</td>\n",
       "      <td>0.270088</td>\n",
       "    </tr>\n",
       "    <tr>\n",
       "      <th>13936</th>\n",
       "      <td>LTR</td>\n",
       "      <td>Gypsy</td>\n",
       "      <td>Gypsy12</td>\n",
       "      <td>Gypsy12_LTR_3R_RaGOO_2266515_2268947</td>\n",
       "      <td>6</td>\n",
       "      <td>{'8544aa40-0850-472a-b8b4-3aed72fbef48': &lt;pysa...</td>\n",
       "      <td>0.356702</td>\n",
       "    </tr>\n",
       "    <tr>\n",
       "      <th>617</th>\n",
       "      <td>LTR</td>\n",
       "      <td>Copia</td>\n",
       "      <td>Copia</td>\n",
       "      <td>Copia_I_3R_RaGOO_1738736_1739720</td>\n",
       "      <td>6</td>\n",
       "      <td>{'6f3a25a9-7f11-4f46-af3e-970908a99d43': &lt;pysa...</td>\n",
       "      <td>0.190210</td>\n",
       "    </tr>\n",
       "    <tr>\n",
       "      <th>195</th>\n",
       "      <td>LINE</td>\n",
       "      <td>I-Jockey</td>\n",
       "      <td>TAHRE</td>\n",
       "      <td>TAHRE_2L_RaGOO_5506_7403</td>\n",
       "      <td>6</td>\n",
       "      <td>{'07f83ef7-459a-4511-8a62-5f5dac2db681': &lt;pysa...</td>\n",
       "      <td>0.326305</td>\n",
       "    </tr>\n",
       "    <tr>\n",
       "      <th>10080</th>\n",
       "      <td>LINE</td>\n",
       "      <td>I-Jockey</td>\n",
       "      <td>G5A_DM</td>\n",
       "      <td>G5A_DM_2R_RaGOO_3275262_3277173</td>\n",
       "      <td>6</td>\n",
       "      <td>{'8adb993c-66b0-43b7-b72a-aec53605baff': &lt;pysa...</td>\n",
       "      <td>0.884964</td>\n",
       "    </tr>\n",
       "    <tr>\n",
       "      <th>11554</th>\n",
       "      <td>LTR</td>\n",
       "      <td>Gypsy</td>\n",
       "      <td>DMLTR5</td>\n",
       "      <td>DMLTR5_2R_RaGOO_209115_216178</td>\n",
       "      <td>6</td>\n",
       "      <td>{'9368a4db-7f33-47fe-9ed0-00c3e25727a0': &lt;pysa...</td>\n",
       "      <td>0.118410</td>\n",
       "    </tr>\n",
       "    <tr>\n",
       "      <th>12362</th>\n",
       "      <td>LTR</td>\n",
       "      <td>Pao</td>\n",
       "      <td>BEL</td>\n",
       "      <td>BEL_LTR_2R_RaGOO_2068892_2074965</td>\n",
       "      <td>6</td>\n",
       "      <td>{'80b7ea0f-631d-450c-ace6-7df76dacce3a': &lt;pysa...</td>\n",
       "      <td>0.322026</td>\n",
       "    </tr>\n",
       "    <tr>\n",
       "      <th>614</th>\n",
       "      <td>LTR</td>\n",
       "      <td>Copia</td>\n",
       "      <td>Copia</td>\n",
       "      <td>Copia_LTR_3R_RaGOO_1372041_1377188</td>\n",
       "      <td>5</td>\n",
       "      <td>{'5d5eb67e-89b9-4642-9a86-60568f8b366b': &lt;pysa...</td>\n",
       "      <td>0.783758</td>\n",
       "    </tr>\n",
       "  </tbody>\n",
       "</table>\n",
       "</div>"
      ]
     },
     "metadata": {},
     "execution_count": 6
    }
   ],
   "metadata": {}
  },
  {
   "cell_type": "code",
   "execution_count": 14,
   "source": [
    "pd.set_option('display.max_rows', 100)\n",
    "filtered_FC30_counting_df.sort_values(by=['Counting'], ascending=False).head(100)\n",
    "# print(saved_FC30_counting_df[saved_FC30_counting_df['Insertion'] == \"Gypsy6_LTR_2R_RaGOO_2049422_2049472\"])"
   ],
   "outputs": [
    {
     "output_type": "execute_result",
     "data": {
      "text/plain": [
       "      Subclass  Superfamily     Family  \\\n",
       "6972       DNA   TcMar-Pogo       POGO   \n",
       "6959       DNA   TcMar-Pogo       POGO   \n",
       "6955       DNA   TcMar-Pogo       POGO   \n",
       "13930      LTR        Gypsy    Gypsy12   \n",
       "595        LTR        Copia      Copia   \n",
       "596        LTR        Copia      Copia   \n",
       "580        LTR        Copia      Copia   \n",
       "581        LTR        Copia      Copia   \n",
       "597        LTR        Copia      Copia   \n",
       "13926      LTR        Gypsy    Gypsy12   \n",
       "594        LTR        Copia      Copia   \n",
       "14116      DNA  CMC-Transib   TRANSIB3   \n",
       "579        LTR        Copia      Copia   \n",
       "14357      LTR        Gypsy     DMTOM1   \n",
       "11814      LTR          Pao        MAX   \n",
       "5752       LTR          Pao        ROO   \n",
       "614        LTR        Copia      Copia   \n",
       "6947       DNA   TcMar-Pogo       POGO   \n",
       "6912       LTR        Gypsy      BLOOD   \n",
       "7028       LTR        Gypsy      DM412   \n",
       "7512       DNA            P   PROTOP_B   \n",
       "578        LTR        Copia      Copia   \n",
       "12979      LTR        Gypsy   Gypsy12A   \n",
       "6963       DNA   TcMar-Pogo       POGO   \n",
       "8254      LINE     I-Jockey    TART_B1   \n",
       "6968       DNA   TcMar-Pogo       POGO   \n",
       "6971       DNA   TcMar-Pogo       POGO   \n",
       "6961       DNA   TcMar-Pogo       POGO   \n",
       "14102      DNA  CMC-Transib   TRANSIB3   \n",
       "258       LINE     I-Jockey       HETA   \n",
       "6913       LTR        Gypsy      BLOOD   \n",
       "6918       LTR        Gypsy      BLOOD   \n",
       "6970       DNA   TcMar-Pogo       POGO   \n",
       "5922       LTR          Pao        ROO   \n",
       "14107      DNA  CMC-Transib   TRANSIB3   \n",
       "6957       DNA   TcMar-Pogo       POGO   \n",
       "6429       LTR          Pao        ROO   \n",
       "13441      LTR        Gypsy     Gypsy8   \n",
       "6965       DNA   TcMar-Pogo       POGO   \n",
       "6948       DNA   TcMar-Pogo       POGO   \n",
       "11099      DNA    TcMar-Tc1   TC1-2_DM   \n",
       "654        LTR        Gypsy  BLASTOPIA   \n",
       "11233      LTR        Copia     Copia2   \n",
       "13936      LTR        Gypsy    Gypsy12   \n",
       "13887      LTR        Gypsy    Gypsy12   \n",
       "8621      LINE     I-Jockey    DOC6_DM   \n",
       "10020      LTR        Gypsy   Stalker2   \n",
       "625        LTR        Copia      Copia   \n",
       "7842       LTR        Gypsy   MICROPIA   \n",
       "7808       LTR        Gypsy   MICROPIA   \n",
       "10367     LINE           R1      R1_DM   \n",
       "263       LINE     I-Jockey       HETA   \n",
       "8445       DNA    TcMar-Tc1       S_DM   \n",
       "8481       LTR        Copia     DM1731   \n",
       "8443       DNA    TcMar-Tc1       S_DM   \n",
       "8400       DNA    TcMar-Tc1       S_DM   \n",
       "8609      LINE     I-Jockey    DOC6_DM   \n",
       "8389       DNA    TcMar-Tc1       S_DM   \n",
       "8386       DNA    TcMar-Tc1       S_DM   \n",
       "10499     LINE     I-Jockey    DOC3_DM   \n",
       "11169      DNA  CMC-Transib   Transib5   \n",
       "10605     LINE     I-Jockey    DOC3_DM   \n",
       "10019      LTR        Gypsy   Stalker2   \n",
       "10040      LTR        Gypsy   Stalker2   \n",
       "11137      DNA    TcMar-Tc1   TC1-2_DM   \n",
       "10041      LTR        Gypsy   Stalker2   \n",
       "10345     LINE           R1      R1_DM   \n",
       "10766      DNA            P     PROTOP   \n",
       "10410      DNA    TcMar-Tc1     TC1_DM   \n",
       "9382      LINE           R1     DMRT1B   \n",
       "23        LINE            I     IVK_DM   \n",
       "11384      LTR        Gypsy   Invader4   \n",
       "13749      LTR        Gypsy      Gypsy   \n",
       "13525      LTR        Gypsy   Invader1   \n",
       "13530      LTR        Gypsy   Invader1   \n",
       "13556      LTR        Gypsy      DM176   \n",
       "13565      LTR        Gypsy      DM176   \n",
       "13580      LTR        Gypsy      DM176   \n",
       "13606      LTR        Gypsy      DM176   \n",
       "13648      LTR        Gypsy      TABOR   \n",
       "14156      LTR        Gypsy     Gypsy2   \n",
       "11566      LTR        Gypsy   STALKER4   \n",
       "14283     LINE     I-Jockey    DOC5_DM   \n",
       "14307     LINE     I-Jockey    DOC5_DM   \n",
       "14380      LTR        Gypsy     Gypsy7   \n",
       "14555      DNA    TcMar-Tc1    BARI_DM   \n",
       "14659      LTR        Gypsy     ACCORD   \n",
       "14660      LTR        Gypsy     ACCORD   \n",
       "14694      LTR        Gypsy      ROVER   \n",
       "13501      LTR        Gypsy   Invader1   \n",
       "13492      LTR        Gypsy   Invader1   \n",
       "13029      LTR        Gypsy     Gypsy1   \n",
       "12988      LTR        Gypsy   Gypsy12A   \n",
       "11782      LTR          Pao        MAX   \n",
       "11858      LTR        Gypsy     Chimpo   \n",
       "11860      LTR        Gypsy     Chimpo   \n",
       "11866      LTR        Gypsy     Chimpo   \n",
       "11868      LTR        Gypsy     TIRANT   \n",
       "11878      LTR        Gypsy     TIRANT   \n",
       "11901      LTR        Copia     Copia1   \n",
       "\n",
       "                                      Insertion  Counting  \\\n",
       "6972             POGO_X_RaGOO_21863530_21864880        75   \n",
       "6959              POGO_3L_RaGOO_9733928_9735150        68   \n",
       "6955              POGO_2R_RaGOO_7201268_7202754        37   \n",
       "13930        Gypsy12_LTR_3R_RaGOO_960900_963176        35   \n",
       "595        Copia_LTR_3L_RaGOO_10022428_10027467        33   \n",
       "596        Copia_LTR_3L_RaGOO_10052506_10057644        24   \n",
       "580        Copia_LTR_2L_RaGOO_14753817_14758950        16   \n",
       "581        Copia_LTR_2L_RaGOO_21771835_21776956        16   \n",
       "597        Copia_LTR_3L_RaGOO_17623155_17628299        15   \n",
       "13926        Gypsy12_LTR_3R_RaGOO_842982_854376        14   \n",
       "594        Copia_LTR_2R_RaGOO_20482857_20488005        10   \n",
       "14116        TRANSIB3_X_RaGOO_21749054_21750759         9   \n",
       "579        Copia_LTR_2L_RaGOO_13770083_13775227         8   \n",
       "14357      DMTOM1_LTR_X_RaGOO_11258002_11258389         8   \n",
       "11814          MAX_LTR_3L_RaGOO_3640512_3649209         7   \n",
       "5752           ROO_I_2R_RaGOO_13238874_13250807         6   \n",
       "614          Copia_LTR_3R_RaGOO_1372041_1377188         6   \n",
       "6947              POGO_2L_RaGOO_2955877_2958004         6   \n",
       "6912         BLOOD_LTR_2L_RaGOO_2148055_2155527         5   \n",
       "7028             DM412_3R_RaGOO_3388391_3389451         5   \n",
       "7512             PROTOP_B_4_RaGOO_175159_176280         5   \n",
       "578          Copia_LTR_2L_RaGOO_9004503_9009641         4   \n",
       "12979     Gypsy12A_LTR_3R_RaGOO_1864004_1865329         4   \n",
       "6963            POGO_3L_RaGOO_20073927_20075365         4   \n",
       "8254         TART_B1_2R_RaGOO_23920095_23923160         4   \n",
       "6968            POGO_3R_RaGOO_11285980_11288111         4   \n",
       "6971             POGO_X_RaGOO_20422614_20423802         4   \n",
       "6961            POGO_3L_RaGOO_17298517_17299810         4   \n",
       "14102         TRANSIB3_3R_RaGOO_1852612_1853834         4   \n",
       "258                   HETA_3L_RaGOO_18403_20679         4   \n",
       "6913         BLOOD_LTR_2L_RaGOO_3268611_3276063         4   \n",
       "6918           BLOOD_LTR_2R_RaGOO_416001_421270         4   \n",
       "6970             POGO_X_RaGOO_14998652_15000110         4   \n",
       "5922             ROO_I_3L_RaGOO_7744557_7749643         3   \n",
       "14107         TRANSIB3_3R_RaGOO_2679434_2681620         3   \n",
       "6957            POGO_2R_RaGOO_16569084_16570235         3   \n",
       "6429              ROO_I_X_RaGOO_6590807_6605123         3   \n",
       "13441       Gypsy8_LTR_3R_RaGOO_3489645_3494741         2   \n",
       "6965            POGO_3L_RaGOO_24288086_24289393         2   \n",
       "6948            POGO_2L_RaGOO_14260359_14261043         2   \n",
       "11099         TC1-2_DM_2R_RaGOO_2258745_2260197         2   \n",
       "654    BLASTOPIA_LTR_3L_RaGOO_23460661_23465627         2   \n",
       "11233       Copia2_I_2L_RaGOO_22718178_22722069         2   \n",
       "13936      Gypsy12_LTR_3R_RaGOO_2266515_2268947         2   \n",
       "13887      Gypsy12_LTR_2R_RaGOO_1299099_1309281         2   \n",
       "8621            DOC6_DM_X_RaGOO_7744303_7748522         2   \n",
       "10020   Stalker2_LTR_3L_RaGOO_22813949_22821659         2   \n",
       "625          Copia_LTR_3R_RaGOO_2965355_2970495         2   \n",
       "7842      MICROPIA_I_3R_RaGOO_31083506_31088004         2   \n",
       "7808      MICROPIA_I_3L_RaGOO_25834006_25836118         2   \n",
       "10367           R1_DM_X_RaGOO_21996524_22001556         2   \n",
       "263                    HETA_X_RaGOO_87709_93586         2   \n",
       "8445              S_DM_3R_RaGOO_4710881_4712605         1   \n",
       "8481        DM1731_LTR_2R_RaGOO_2383388_2383715         1   \n",
       "8443              S_DM_3R_RaGOO_4154687_4156391         1   \n",
       "8400            S_DM_3L_RaGOO_24954457_24956189         1   \n",
       "8609           DOC6_DM_2L_RaGOO_8926966_8931176         1   \n",
       "8389            S_DM_3L_RaGOO_20608071_20609798         1   \n",
       "8386              S_DM_3L_RaGOO_5888047_5889536         1   \n",
       "10499            DOC3_DM_2R_RaGOO_860527_861391         1   \n",
       "11169         Transib5_3R_RaGOO_2639090_2641615         1   \n",
       "10605         DOC3_DM_X_RaGOO_21994216_21996199         1   \n",
       "10019   Stalker2_LTR_2R_RaGOO_15238139_15244515         1   \n",
       "10040     Stalker2_I_3R_RaGOO_12477203_12482106         1   \n",
       "11137            TC1-2_DM_4_RaGOO_958695_960140         1   \n",
       "10041   Stalker2_LTR_3R_RaGOO_12482112_12482538         1   \n",
       "10345          R1_DM_3L_RaGOO_22723213_22728186         1   \n",
       "10766         PROTOP_3L_RaGOO_23000805_23002317         1   \n",
       "10410              TC1_DM_4_RaGOO_119749_120916         1   \n",
       "9382           DMRT1B_X_RaGOO_18329002_18330754         1   \n",
       "23            IVK_DM_3L_RaGOO_19656431_19661800         1   \n",
       "11384   Invader4_LTR_2L_RaGOO_21089350_21091057         1   \n",
       "13749          Gypsy_I_3R_RaGOO_3134007_3139348         1   \n",
       "13525     Invader1_I_3L_RaGOO_26375243_26376911         1   \n",
       "13530     Invader1_LTR_3R_RaGOO_1539422_1544290         1   \n",
       "13556        DM176_I_2L_RaGOO_22492424_22494024         1   \n",
       "13565        DM176_LTR_2R_RaGOO_1374047_1381552         1   \n",
       "13580      DM176_LTR_3L_RaGOO_15231455_15238953         1   \n",
       "13606        DM176_LTR_3R_RaGOO_1830992_1834504         1   \n",
       "13648          TABOR_I_3R_RaGOO_1081451_1084994         1   \n",
       "14156      Gypsy2-I_DM_2R_RaGOO_1185019_1189865         1   \n",
       "11566     STALKER4_I_2L_RaGOO_21913834_21920333         1   \n",
       "14283            DOC5_DM_2R_RaGOO_625358_625987         1   \n",
       "14307        DOC5_DM_3L_RaGOO_24441325_24444916         1   \n",
       "14380       Gypsy7_I_3L_RaGOO_25724750_25729257         1   \n",
       "14555              BARI_DM_2R_RaGOO_42130_43850         1   \n",
       "14659         ACCORD_LTR_2R_RaGOO_813426_818636         1   \n",
       "14660           ACCORD_I_2R_RaGOO_818637_823373         1   \n",
       "14694     ROVER-LTR_DM_2R_RaGOO_3256225_3263561         1   \n",
       "13501   Invader1_LTR_3L_RaGOO_22836953_22840857         1   \n",
       "13492     Invader1_LTR_2R_RaGOO_4667269_4671292         1   \n",
       "13029    Gypsy1-I_DM_3L_RaGOO_23197800_23202268         1   \n",
       "12988     Gypsy12A_LTR_3R_RaGOO_3432347_3433700         1   \n",
       "11782            MAX_LTR_2R_RaGOO_137030_138260         1   \n",
       "11858     Chimpo_LTR_3L_RaGOO_16584918_16588544         1   \n",
       "11860     Chimpo_LTR_3L_RaGOO_24516813_24521384         1   \n",
       "11866            Chimpo_I_4_RaGOO_776018_780171         1   \n",
       "11868     TIRANT_LTR_2L_RaGOO_20669409_20674055         1   \n",
       "11878           TIRANT_I_2R_RaGOO_626164_626883         1   \n",
       "11901      Copia1-I_DM_2R_RaGOO_2841061_2845341         1   \n",
       "\n",
       "                                                   Reads  mean_subcov  \n",
       "6972   {'58e167da-fb2e-4996-9f51-940b18299af1': <pysa...     0.741600  \n",
       "6959   {'f05f422b-8aa9-4d1f-aa0b-da4de8c94b78': <pysa...     0.661187  \n",
       "6955   {'6fb2acbe-705d-4d2b-9958-16c6672237c2': <pysa...     0.836547  \n",
       "13930  {'7ca658b1-4a99-4aff-b477-491dfdde31aa': <pysa...     0.569006  \n",
       "595    {'b7056dbf-20b6-449f-bcf4-42a68e1494ae': <pysa...     0.822668  \n",
       "596    {'fc572f15-32fe-413d-a181-5c248e51e6cd': <pysa...     0.836756  \n",
       "580    {'41ad0ba3-cb75-48c3-be86-0ab001e82735': <pysa...     0.760849  \n",
       "581    {'71f68844-33f9-47bc-82d8-03870582f762': <pysa...     0.894515  \n",
       "597    {'801f5c5c-3c2a-43da-82a0-5c9248000dfa': <pysa...     0.863945  \n",
       "13926  {'3f5edaa9-4828-47f8-b374-df3d87c07e43': <pysa...     0.209941  \n",
       "594    {'931e4dda-e4c8-448b-b35b-2d9e963ff819': <pysa...     0.676748  \n",
       "14116  {'613d52a9-3985-4a98-a984-4128c4f31dc2': <pysa...     0.653568  \n",
       "579    {'9da51881-2b79-41a5-b235-592a2437618e': <pysa...     0.804335  \n",
       "14357  {'60d4ece2-ba6f-4413-8a5c-89867b7a38ba': <pysa...     0.612403  \n",
       "11814  {'afe4c85a-3e42-41cd-96b0-abc1ad2eea4b': <pysa...     0.956455  \n",
       "5752   {'04e9e50b-c617-4b94-bb63-ee3beb705ecc': <pysa...     0.112671  \n",
       "614    {'2faa298c-bc95-4304-87c5-600c82cf9798': <pysa...     0.486627  \n",
       "6947   {'fb5866fb-814a-4512-a688-57f6178266ee': <pysa...     0.960664  \n",
       "6912   {'696a4bbf-0a9d-4a1a-b8d4-174e501780ba': <pysa...     0.181210  \n",
       "7028   {'cbc947ec-0a9a-4fd7-b640-a2fd1fc315cf': <pysa...     0.631132  \n",
       "7512   {'eebba678-8073-46e9-91fa-07ef3a2d0280': <pysa...     0.438715  \n",
       "578    {'116c5610-5228-49a2-9fec-6f93a1a7ed3a': <pysa...     0.742215  \n",
       "12979  {'874cf742-deec-44da-a325-0b26274a9152': <pysa...     0.605094  \n",
       "6963   {'e87fe063-b3f3-401f-bbb9-508f25fb58bb': <pysa...     0.520515  \n",
       "8254   {'b4afd431-bd19-42dc-ac2b-a60ff423176d': <pysa...     0.450245  \n",
       "6968   {'a3ed3aaa-2465-4be0-8305-97e75ebe6fd7': <pysa...     0.947208  \n",
       "6971   {'46e87eeb-b06e-4b0f-9ac6-fb136e6494b5': <pysa...     0.328914  \n",
       "6961   {'3b53e184-aeb0-4c17-a61b-8de2e3d1dce5': <pysa...     0.425174  \n",
       "14102  {'dca803fd-25d4-4505-a910-a96baf42a499': <pysa...     0.737725  \n",
       "258    {'aff1f165-b02d-435e-8ccc-311434bba5f4': <pysa...     0.421902  \n",
       "6913   {'adef264e-1e04-40c1-9fdd-b147808d2932': <pysa...     0.212627  \n",
       "6918   {'67f30019-3b1e-4100-ae7b-134c9b24cc6e': <pysa...     0.263475  \n",
       "6970   {'e87fe063-b3f3-401f-bbb9-508f25fb58bb': <pysa...     0.577846  \n",
       "5922   {'1e8bac5f-2e46-40f8-a838-74edcc90d94e': <pysa...     0.205335  \n",
       "14107  {'3bbbe7ee-0ced-4f23-8f07-e5302408abb7': <pysa...     0.737115  \n",
       "6957   {'8b92d43a-ae6b-4ba7-a23e-f416b8ae58f9': <pysa...     0.489140  \n",
       "6429   {'210bfc24-8b0f-490a-9568-fed7862db3dc': <pysa...     0.150228  \n",
       "13441  {'f64983cd-78ac-4070-aaba-356cb9fd15cf': <pysa...     0.302296  \n",
       "6965   {'8b92d43a-ae6b-4ba7-a23e-f416b8ae58f9': <pysa...     0.430757  \n",
       "6948   {'cdcb3e67-5114-491c-accc-e6ba4defb612': <pysa...     0.503655  \n",
       "11099  {'11a88aef-8952-4c3a-8387-b4ff870b9737': <pysa...     0.186639  \n",
       "654    {'882cdfb2-1141-48ad-a525-22d805cc116a': <pysa...     0.177708  \n",
       "11233  {'bd87bf21-fdee-4f71-b432-97caf649885f': <pysa...     0.997044  \n",
       "13936  {'ecbd88cf-407e-4716-8eec-6f56d7399ba5': <pysa...     0.267475  \n",
       "13887  {'c824091d-0c5d-4d71-80bd-c405b122afdf': <pysa...     0.839914  \n",
       "8621   {'df9328b8-dcd6-4f0d-ac89-c074db57433a': <pysa...     0.434937  \n",
       "10020  {'3d63a6bc-c03a-4286-aa3d-35cf7e3e04bc': <pysa...     0.116278  \n",
       "625    {'2e386109-b804-4aab-811e-474a14a2f30c': <pysa...     0.186381  \n",
       "7842   {'76208917-9058-47e1-9d8b-7be47db277da': <pysa...     0.236216  \n",
       "7808   {'556ce36e-87b0-4c16-99ea-7abdc5705f11': <pysa...     0.270833  \n",
       "10367  {'e0907cad-e22a-4c9b-9814-549c86d9b53d': <pysa...     0.729630  \n",
       "263    {'601c43bf-b1c4-4513-b599-eae27080fa41': <pysa...     0.126000  \n",
       "8445   {'56bb00d0-c3fb-4175-873a-c559d4880449': <pysa...     0.468677  \n",
       "8481   {'36bc38b1-9e99-4472-b1c6-43cfe2354387': <pysa...     0.449541  \n",
       "8443   {'3f38476d-6611-41fc-8168-ee175e87cc8d': <pysa...     0.742958  \n",
       "8400   {'a9c73f04-a7da-4023-9017-291695ee2b08': <pysa...     0.243072  \n",
       "8609   {'35962f9e-520b-4af2-bd5c-bb2a2593d79f': <pysa...     0.302138  \n",
       "8389   {'e2d49f7c-0813-43b4-8849-df617b6ad337': <pysa...     0.381587  \n",
       "8386   {'7713d445-6507-4a3b-93c7-cdd22a88c97b': <pysa...     0.382136  \n",
       "10499  {'c16a2299-caa0-4797-b895-180a67acc341': <pysa...     0.900463  \n",
       "11169  {'4a4ae1a1-4b60-4eb1-b14c-5405b08f8c46': <pysa...     0.352475  \n",
       "10605  {'8407584c-afc1-475e-95ee-8a6913f43db6': <pysa...     0.252143  \n",
       "10019  {'30b5f98a-3b81-44c3-9379-f58c56711559': <pysa...     0.131430  \n",
       "10040  {'30b5f98a-3b81-44c3-9379-f58c56711559': <pysa...     0.170916  \n",
       "11137  {'054511d4-79fd-47c8-8ee0-c9cca65dbb03': <pysa...     0.537716  \n",
       "10041  {'0a63183e-6db5-4e9d-a496-d3a5e32e58f1': <pysa...     0.356808  \n",
       "10345  {'1858ba49-da59-424d-a7da-e0623b1d98f4': <pysa...     0.177358  \n",
       "10766  {'3a017a95-ef68-4c8d-a2d2-e844d135e831': <pysa...     0.375661  \n",
       "10410  {'b82c9876-38f1-4bee-8b37-79767f4bcf8a': <pysa...     0.970009  \n",
       "9382   {'15a59922-3055-4678-8c83-ba9e92a904b6': <pysa...     0.997717  \n",
       "23     {'485809cd-a1e8-4c77-b820-2e02ce41e158': <pysa...     0.248277  \n",
       "11384  {'446c5f9b-a1c1-44db-87fb-ecb12f91fc20': <pysa...     0.721734  \n",
       "13749  {'58367752-bcdb-42f5-ad8e-64e572435561': <pysa...     0.221307  \n",
       "13525  {'9926d6ea-24f3-4fce-a736-471730ff0d0b': <pysa...     0.311151  \n",
       "13530  {'eecf960c-6270-4794-8302-00ec82f7cc49': <pysa...     0.155094  \n",
       "13556  {'c251e314-0fab-4da5-bdc1-d0bb6927e349': <pysa...     0.151250  \n",
       "13565  {'2c322858-c6ed-400f-af15-099b81735dbb': <pysa...     0.124051  \n",
       "13580  {'8bbcdb69-7d44-48bf-bf9f-883475269e8e': <pysa...     0.137103  \n",
       "13606  {'ef49775f-1739-4474-820c-1a99dc8ed26f': <pysa...     0.231492  \n",
       "13648  {'3ca2f66c-8b84-4b17-93a6-5fe929df9382': <pysa...     0.343494  \n",
       "14156  {'1457aa4f-d302-4081-993f-636eccbfc141': <pysa...     0.347090  \n",
       "11566  {'b49a05a9-b459-4bb5-b3bd-f75738e15fd0': <pysa...     0.155101  \n",
       "14283  {'775f7a33-8e55-4d86-b27e-4d1552a07f2f': <pysa...     0.562798  \n",
       "14307  {'7ccae8f5-d2e7-4ebd-b286-9f355bafec3e': <pysa...     0.380674  \n",
       "14380  {'1bf5274e-6531-4146-b59e-fb6221889f4c': <pysa...     0.238074  \n",
       "14555  {'89a3fcb8-4535-42b1-acb6-4d0ba0f4f1c1': <pysa...     0.759302  \n",
       "14659  {'e48ae952-c886-4419-a15b-e243b4d48605': <pysa...     0.207486  \n",
       "14660  {'e48ae952-c886-4419-a15b-e243b4d48605': <pysa...     0.228252  \n",
       "14694  {'82d9178f-93cb-4159-8c88-f4a11490bfe6': <pysa...     0.149809  \n",
       "13501  {'eecf960c-6270-4794-8302-00ec82f7cc49': <pysa...     0.194160  \n",
       "13492  {'8b6c717e-938c-41ec-91d5-4d7f4fa5a6a4': <pysa...     0.110863  \n",
       "13029  {'a40f7016-b456-4a93-8c17-c4d643a88aa1': <pysa...     0.214861  \n",
       "12988  {'fb11701e-ba7e-4460-b53a-1b4812cd9255': <pysa...     0.592757  \n",
       "11782  {'15b61760-fa81-4130-ac68-9814a6f2203e': <pysa...     0.801626  \n",
       "11858  {'e17c9d71-264f-4769-85d2-2d608850819d': <pysa...     0.252620  \n",
       "11860  {'e17c9d71-264f-4769-85d2-2d608850819d': <pysa...     0.199956  \n",
       "11866  {'bc50f502-fa5b-457a-91b6-973542ebffc9': <pysa...     0.339032  \n",
       "11868  {'d92a390d-c44a-424b-a487-8a5d444df674': <pysa...     0.755704  \n",
       "11878  {'9a23a57d-3efd-4870-b914-47668e92816e': <pysa...     0.916551  \n",
       "11901  {'98e1554a-5512-4a32-bea5-5ea8ce3c73f7': <pysa...     0.110514  "
      ],
      "text/html": [
       "<div>\n",
       "<style scoped>\n",
       "    .dataframe tbody tr th:only-of-type {\n",
       "        vertical-align: middle;\n",
       "    }\n",
       "\n",
       "    .dataframe tbody tr th {\n",
       "        vertical-align: top;\n",
       "    }\n",
       "\n",
       "    .dataframe thead th {\n",
       "        text-align: right;\n",
       "    }\n",
       "</style>\n",
       "<table border=\"1\" class=\"dataframe\">\n",
       "  <thead>\n",
       "    <tr style=\"text-align: right;\">\n",
       "      <th></th>\n",
       "      <th>Subclass</th>\n",
       "      <th>Superfamily</th>\n",
       "      <th>Family</th>\n",
       "      <th>Insertion</th>\n",
       "      <th>Counting</th>\n",
       "      <th>Reads</th>\n",
       "      <th>mean_subcov</th>\n",
       "    </tr>\n",
       "  </thead>\n",
       "  <tbody>\n",
       "    <tr>\n",
       "      <th>6972</th>\n",
       "      <td>DNA</td>\n",
       "      <td>TcMar-Pogo</td>\n",
       "      <td>POGO</td>\n",
       "      <td>POGO_X_RaGOO_21863530_21864880</td>\n",
       "      <td>75</td>\n",
       "      <td>{'58e167da-fb2e-4996-9f51-940b18299af1': &lt;pysa...</td>\n",
       "      <td>0.741600</td>\n",
       "    </tr>\n",
       "    <tr>\n",
       "      <th>6959</th>\n",
       "      <td>DNA</td>\n",
       "      <td>TcMar-Pogo</td>\n",
       "      <td>POGO</td>\n",
       "      <td>POGO_3L_RaGOO_9733928_9735150</td>\n",
       "      <td>68</td>\n",
       "      <td>{'f05f422b-8aa9-4d1f-aa0b-da4de8c94b78': &lt;pysa...</td>\n",
       "      <td>0.661187</td>\n",
       "    </tr>\n",
       "    <tr>\n",
       "      <th>6955</th>\n",
       "      <td>DNA</td>\n",
       "      <td>TcMar-Pogo</td>\n",
       "      <td>POGO</td>\n",
       "      <td>POGO_2R_RaGOO_7201268_7202754</td>\n",
       "      <td>37</td>\n",
       "      <td>{'6fb2acbe-705d-4d2b-9958-16c6672237c2': &lt;pysa...</td>\n",
       "      <td>0.836547</td>\n",
       "    </tr>\n",
       "    <tr>\n",
       "      <th>13930</th>\n",
       "      <td>LTR</td>\n",
       "      <td>Gypsy</td>\n",
       "      <td>Gypsy12</td>\n",
       "      <td>Gypsy12_LTR_3R_RaGOO_960900_963176</td>\n",
       "      <td>35</td>\n",
       "      <td>{'7ca658b1-4a99-4aff-b477-491dfdde31aa': &lt;pysa...</td>\n",
       "      <td>0.569006</td>\n",
       "    </tr>\n",
       "    <tr>\n",
       "      <th>595</th>\n",
       "      <td>LTR</td>\n",
       "      <td>Copia</td>\n",
       "      <td>Copia</td>\n",
       "      <td>Copia_LTR_3L_RaGOO_10022428_10027467</td>\n",
       "      <td>33</td>\n",
       "      <td>{'b7056dbf-20b6-449f-bcf4-42a68e1494ae': &lt;pysa...</td>\n",
       "      <td>0.822668</td>\n",
       "    </tr>\n",
       "    <tr>\n",
       "      <th>596</th>\n",
       "      <td>LTR</td>\n",
       "      <td>Copia</td>\n",
       "      <td>Copia</td>\n",
       "      <td>Copia_LTR_3L_RaGOO_10052506_10057644</td>\n",
       "      <td>24</td>\n",
       "      <td>{'fc572f15-32fe-413d-a181-5c248e51e6cd': &lt;pysa...</td>\n",
       "      <td>0.836756</td>\n",
       "    </tr>\n",
       "    <tr>\n",
       "      <th>580</th>\n",
       "      <td>LTR</td>\n",
       "      <td>Copia</td>\n",
       "      <td>Copia</td>\n",
       "      <td>Copia_LTR_2L_RaGOO_14753817_14758950</td>\n",
       "      <td>16</td>\n",
       "      <td>{'41ad0ba3-cb75-48c3-be86-0ab001e82735': &lt;pysa...</td>\n",
       "      <td>0.760849</td>\n",
       "    </tr>\n",
       "    <tr>\n",
       "      <th>581</th>\n",
       "      <td>LTR</td>\n",
       "      <td>Copia</td>\n",
       "      <td>Copia</td>\n",
       "      <td>Copia_LTR_2L_RaGOO_21771835_21776956</td>\n",
       "      <td>16</td>\n",
       "      <td>{'71f68844-33f9-47bc-82d8-03870582f762': &lt;pysa...</td>\n",
       "      <td>0.894515</td>\n",
       "    </tr>\n",
       "    <tr>\n",
       "      <th>597</th>\n",
       "      <td>LTR</td>\n",
       "      <td>Copia</td>\n",
       "      <td>Copia</td>\n",
       "      <td>Copia_LTR_3L_RaGOO_17623155_17628299</td>\n",
       "      <td>15</td>\n",
       "      <td>{'801f5c5c-3c2a-43da-82a0-5c9248000dfa': &lt;pysa...</td>\n",
       "      <td>0.863945</td>\n",
       "    </tr>\n",
       "    <tr>\n",
       "      <th>13926</th>\n",
       "      <td>LTR</td>\n",
       "      <td>Gypsy</td>\n",
       "      <td>Gypsy12</td>\n",
       "      <td>Gypsy12_LTR_3R_RaGOO_842982_854376</td>\n",
       "      <td>14</td>\n",
       "      <td>{'3f5edaa9-4828-47f8-b374-df3d87c07e43': &lt;pysa...</td>\n",
       "      <td>0.209941</td>\n",
       "    </tr>\n",
       "    <tr>\n",
       "      <th>594</th>\n",
       "      <td>LTR</td>\n",
       "      <td>Copia</td>\n",
       "      <td>Copia</td>\n",
       "      <td>Copia_LTR_2R_RaGOO_20482857_20488005</td>\n",
       "      <td>10</td>\n",
       "      <td>{'931e4dda-e4c8-448b-b35b-2d9e963ff819': &lt;pysa...</td>\n",
       "      <td>0.676748</td>\n",
       "    </tr>\n",
       "    <tr>\n",
       "      <th>14116</th>\n",
       "      <td>DNA</td>\n",
       "      <td>CMC-Transib</td>\n",
       "      <td>TRANSIB3</td>\n",
       "      <td>TRANSIB3_X_RaGOO_21749054_21750759</td>\n",
       "      <td>9</td>\n",
       "      <td>{'613d52a9-3985-4a98-a984-4128c4f31dc2': &lt;pysa...</td>\n",
       "      <td>0.653568</td>\n",
       "    </tr>\n",
       "    <tr>\n",
       "      <th>579</th>\n",
       "      <td>LTR</td>\n",
       "      <td>Copia</td>\n",
       "      <td>Copia</td>\n",
       "      <td>Copia_LTR_2L_RaGOO_13770083_13775227</td>\n",
       "      <td>8</td>\n",
       "      <td>{'9da51881-2b79-41a5-b235-592a2437618e': &lt;pysa...</td>\n",
       "      <td>0.804335</td>\n",
       "    </tr>\n",
       "    <tr>\n",
       "      <th>14357</th>\n",
       "      <td>LTR</td>\n",
       "      <td>Gypsy</td>\n",
       "      <td>DMTOM1</td>\n",
       "      <td>DMTOM1_LTR_X_RaGOO_11258002_11258389</td>\n",
       "      <td>8</td>\n",
       "      <td>{'60d4ece2-ba6f-4413-8a5c-89867b7a38ba': &lt;pysa...</td>\n",
       "      <td>0.612403</td>\n",
       "    </tr>\n",
       "    <tr>\n",
       "      <th>11814</th>\n",
       "      <td>LTR</td>\n",
       "      <td>Pao</td>\n",
       "      <td>MAX</td>\n",
       "      <td>MAX_LTR_3L_RaGOO_3640512_3649209</td>\n",
       "      <td>7</td>\n",
       "      <td>{'afe4c85a-3e42-41cd-96b0-abc1ad2eea4b': &lt;pysa...</td>\n",
       "      <td>0.956455</td>\n",
       "    </tr>\n",
       "    <tr>\n",
       "      <th>5752</th>\n",
       "      <td>LTR</td>\n",
       "      <td>Pao</td>\n",
       "      <td>ROO</td>\n",
       "      <td>ROO_I_2R_RaGOO_13238874_13250807</td>\n",
       "      <td>6</td>\n",
       "      <td>{'04e9e50b-c617-4b94-bb63-ee3beb705ecc': &lt;pysa...</td>\n",
       "      <td>0.112671</td>\n",
       "    </tr>\n",
       "    <tr>\n",
       "      <th>614</th>\n",
       "      <td>LTR</td>\n",
       "      <td>Copia</td>\n",
       "      <td>Copia</td>\n",
       "      <td>Copia_LTR_3R_RaGOO_1372041_1377188</td>\n",
       "      <td>6</td>\n",
       "      <td>{'2faa298c-bc95-4304-87c5-600c82cf9798': &lt;pysa...</td>\n",
       "      <td>0.486627</td>\n",
       "    </tr>\n",
       "    <tr>\n",
       "      <th>6947</th>\n",
       "      <td>DNA</td>\n",
       "      <td>TcMar-Pogo</td>\n",
       "      <td>POGO</td>\n",
       "      <td>POGO_2L_RaGOO_2955877_2958004</td>\n",
       "      <td>6</td>\n",
       "      <td>{'fb5866fb-814a-4512-a688-57f6178266ee': &lt;pysa...</td>\n",
       "      <td>0.960664</td>\n",
       "    </tr>\n",
       "    <tr>\n",
       "      <th>6912</th>\n",
       "      <td>LTR</td>\n",
       "      <td>Gypsy</td>\n",
       "      <td>BLOOD</td>\n",
       "      <td>BLOOD_LTR_2L_RaGOO_2148055_2155527</td>\n",
       "      <td>5</td>\n",
       "      <td>{'696a4bbf-0a9d-4a1a-b8d4-174e501780ba': &lt;pysa...</td>\n",
       "      <td>0.181210</td>\n",
       "    </tr>\n",
       "    <tr>\n",
       "      <th>7028</th>\n",
       "      <td>LTR</td>\n",
       "      <td>Gypsy</td>\n",
       "      <td>DM412</td>\n",
       "      <td>DM412_3R_RaGOO_3388391_3389451</td>\n",
       "      <td>5</td>\n",
       "      <td>{'cbc947ec-0a9a-4fd7-b640-a2fd1fc315cf': &lt;pysa...</td>\n",
       "      <td>0.631132</td>\n",
       "    </tr>\n",
       "    <tr>\n",
       "      <th>7512</th>\n",
       "      <td>DNA</td>\n",
       "      <td>P</td>\n",
       "      <td>PROTOP_B</td>\n",
       "      <td>PROTOP_B_4_RaGOO_175159_176280</td>\n",
       "      <td>5</td>\n",
       "      <td>{'eebba678-8073-46e9-91fa-07ef3a2d0280': &lt;pysa...</td>\n",
       "      <td>0.438715</td>\n",
       "    </tr>\n",
       "    <tr>\n",
       "      <th>578</th>\n",
       "      <td>LTR</td>\n",
       "      <td>Copia</td>\n",
       "      <td>Copia</td>\n",
       "      <td>Copia_LTR_2L_RaGOO_9004503_9009641</td>\n",
       "      <td>4</td>\n",
       "      <td>{'116c5610-5228-49a2-9fec-6f93a1a7ed3a': &lt;pysa...</td>\n",
       "      <td>0.742215</td>\n",
       "    </tr>\n",
       "    <tr>\n",
       "      <th>12979</th>\n",
       "      <td>LTR</td>\n",
       "      <td>Gypsy</td>\n",
       "      <td>Gypsy12A</td>\n",
       "      <td>Gypsy12A_LTR_3R_RaGOO_1864004_1865329</td>\n",
       "      <td>4</td>\n",
       "      <td>{'874cf742-deec-44da-a325-0b26274a9152': &lt;pysa...</td>\n",
       "      <td>0.605094</td>\n",
       "    </tr>\n",
       "    <tr>\n",
       "      <th>6963</th>\n",
       "      <td>DNA</td>\n",
       "      <td>TcMar-Pogo</td>\n",
       "      <td>POGO</td>\n",
       "      <td>POGO_3L_RaGOO_20073927_20075365</td>\n",
       "      <td>4</td>\n",
       "      <td>{'e87fe063-b3f3-401f-bbb9-508f25fb58bb': &lt;pysa...</td>\n",
       "      <td>0.520515</td>\n",
       "    </tr>\n",
       "    <tr>\n",
       "      <th>8254</th>\n",
       "      <td>LINE</td>\n",
       "      <td>I-Jockey</td>\n",
       "      <td>TART_B1</td>\n",
       "      <td>TART_B1_2R_RaGOO_23920095_23923160</td>\n",
       "      <td>4</td>\n",
       "      <td>{'b4afd431-bd19-42dc-ac2b-a60ff423176d': &lt;pysa...</td>\n",
       "      <td>0.450245</td>\n",
       "    </tr>\n",
       "    <tr>\n",
       "      <th>6968</th>\n",
       "      <td>DNA</td>\n",
       "      <td>TcMar-Pogo</td>\n",
       "      <td>POGO</td>\n",
       "      <td>POGO_3R_RaGOO_11285980_11288111</td>\n",
       "      <td>4</td>\n",
       "      <td>{'a3ed3aaa-2465-4be0-8305-97e75ebe6fd7': &lt;pysa...</td>\n",
       "      <td>0.947208</td>\n",
       "    </tr>\n",
       "    <tr>\n",
       "      <th>6971</th>\n",
       "      <td>DNA</td>\n",
       "      <td>TcMar-Pogo</td>\n",
       "      <td>POGO</td>\n",
       "      <td>POGO_X_RaGOO_20422614_20423802</td>\n",
       "      <td>4</td>\n",
       "      <td>{'46e87eeb-b06e-4b0f-9ac6-fb136e6494b5': &lt;pysa...</td>\n",
       "      <td>0.328914</td>\n",
       "    </tr>\n",
       "    <tr>\n",
       "      <th>6961</th>\n",
       "      <td>DNA</td>\n",
       "      <td>TcMar-Pogo</td>\n",
       "      <td>POGO</td>\n",
       "      <td>POGO_3L_RaGOO_17298517_17299810</td>\n",
       "      <td>4</td>\n",
       "      <td>{'3b53e184-aeb0-4c17-a61b-8de2e3d1dce5': &lt;pysa...</td>\n",
       "      <td>0.425174</td>\n",
       "    </tr>\n",
       "    <tr>\n",
       "      <th>14102</th>\n",
       "      <td>DNA</td>\n",
       "      <td>CMC-Transib</td>\n",
       "      <td>TRANSIB3</td>\n",
       "      <td>TRANSIB3_3R_RaGOO_1852612_1853834</td>\n",
       "      <td>4</td>\n",
       "      <td>{'dca803fd-25d4-4505-a910-a96baf42a499': &lt;pysa...</td>\n",
       "      <td>0.737725</td>\n",
       "    </tr>\n",
       "    <tr>\n",
       "      <th>258</th>\n",
       "      <td>LINE</td>\n",
       "      <td>I-Jockey</td>\n",
       "      <td>HETA</td>\n",
       "      <td>HETA_3L_RaGOO_18403_20679</td>\n",
       "      <td>4</td>\n",
       "      <td>{'aff1f165-b02d-435e-8ccc-311434bba5f4': &lt;pysa...</td>\n",
       "      <td>0.421902</td>\n",
       "    </tr>\n",
       "    <tr>\n",
       "      <th>6913</th>\n",
       "      <td>LTR</td>\n",
       "      <td>Gypsy</td>\n",
       "      <td>BLOOD</td>\n",
       "      <td>BLOOD_LTR_2L_RaGOO_3268611_3276063</td>\n",
       "      <td>4</td>\n",
       "      <td>{'adef264e-1e04-40c1-9fdd-b147808d2932': &lt;pysa...</td>\n",
       "      <td>0.212627</td>\n",
       "    </tr>\n",
       "    <tr>\n",
       "      <th>6918</th>\n",
       "      <td>LTR</td>\n",
       "      <td>Gypsy</td>\n",
       "      <td>BLOOD</td>\n",
       "      <td>BLOOD_LTR_2R_RaGOO_416001_421270</td>\n",
       "      <td>4</td>\n",
       "      <td>{'67f30019-3b1e-4100-ae7b-134c9b24cc6e': &lt;pysa...</td>\n",
       "      <td>0.263475</td>\n",
       "    </tr>\n",
       "    <tr>\n",
       "      <th>6970</th>\n",
       "      <td>DNA</td>\n",
       "      <td>TcMar-Pogo</td>\n",
       "      <td>POGO</td>\n",
       "      <td>POGO_X_RaGOO_14998652_15000110</td>\n",
       "      <td>4</td>\n",
       "      <td>{'e87fe063-b3f3-401f-bbb9-508f25fb58bb': &lt;pysa...</td>\n",
       "      <td>0.577846</td>\n",
       "    </tr>\n",
       "    <tr>\n",
       "      <th>5922</th>\n",
       "      <td>LTR</td>\n",
       "      <td>Pao</td>\n",
       "      <td>ROO</td>\n",
       "      <td>ROO_I_3L_RaGOO_7744557_7749643</td>\n",
       "      <td>3</td>\n",
       "      <td>{'1e8bac5f-2e46-40f8-a838-74edcc90d94e': &lt;pysa...</td>\n",
       "      <td>0.205335</td>\n",
       "    </tr>\n",
       "    <tr>\n",
       "      <th>14107</th>\n",
       "      <td>DNA</td>\n",
       "      <td>CMC-Transib</td>\n",
       "      <td>TRANSIB3</td>\n",
       "      <td>TRANSIB3_3R_RaGOO_2679434_2681620</td>\n",
       "      <td>3</td>\n",
       "      <td>{'3bbbe7ee-0ced-4f23-8f07-e5302408abb7': &lt;pysa...</td>\n",
       "      <td>0.737115</td>\n",
       "    </tr>\n",
       "    <tr>\n",
       "      <th>6957</th>\n",
       "      <td>DNA</td>\n",
       "      <td>TcMar-Pogo</td>\n",
       "      <td>POGO</td>\n",
       "      <td>POGO_2R_RaGOO_16569084_16570235</td>\n",
       "      <td>3</td>\n",
       "      <td>{'8b92d43a-ae6b-4ba7-a23e-f416b8ae58f9': &lt;pysa...</td>\n",
       "      <td>0.489140</td>\n",
       "    </tr>\n",
       "    <tr>\n",
       "      <th>6429</th>\n",
       "      <td>LTR</td>\n",
       "      <td>Pao</td>\n",
       "      <td>ROO</td>\n",
       "      <td>ROO_I_X_RaGOO_6590807_6605123</td>\n",
       "      <td>3</td>\n",
       "      <td>{'210bfc24-8b0f-490a-9568-fed7862db3dc': &lt;pysa...</td>\n",
       "      <td>0.150228</td>\n",
       "    </tr>\n",
       "    <tr>\n",
       "      <th>13441</th>\n",
       "      <td>LTR</td>\n",
       "      <td>Gypsy</td>\n",
       "      <td>Gypsy8</td>\n",
       "      <td>Gypsy8_LTR_3R_RaGOO_3489645_3494741</td>\n",
       "      <td>2</td>\n",
       "      <td>{'f64983cd-78ac-4070-aaba-356cb9fd15cf': &lt;pysa...</td>\n",
       "      <td>0.302296</td>\n",
       "    </tr>\n",
       "    <tr>\n",
       "      <th>6965</th>\n",
       "      <td>DNA</td>\n",
       "      <td>TcMar-Pogo</td>\n",
       "      <td>POGO</td>\n",
       "      <td>POGO_3L_RaGOO_24288086_24289393</td>\n",
       "      <td>2</td>\n",
       "      <td>{'8b92d43a-ae6b-4ba7-a23e-f416b8ae58f9': &lt;pysa...</td>\n",
       "      <td>0.430757</td>\n",
       "    </tr>\n",
       "    <tr>\n",
       "      <th>6948</th>\n",
       "      <td>DNA</td>\n",
       "      <td>TcMar-Pogo</td>\n",
       "      <td>POGO</td>\n",
       "      <td>POGO_2L_RaGOO_14260359_14261043</td>\n",
       "      <td>2</td>\n",
       "      <td>{'cdcb3e67-5114-491c-accc-e6ba4defb612': &lt;pysa...</td>\n",
       "      <td>0.503655</td>\n",
       "    </tr>\n",
       "    <tr>\n",
       "      <th>11099</th>\n",
       "      <td>DNA</td>\n",
       "      <td>TcMar-Tc1</td>\n",
       "      <td>TC1-2_DM</td>\n",
       "      <td>TC1-2_DM_2R_RaGOO_2258745_2260197</td>\n",
       "      <td>2</td>\n",
       "      <td>{'11a88aef-8952-4c3a-8387-b4ff870b9737': &lt;pysa...</td>\n",
       "      <td>0.186639</td>\n",
       "    </tr>\n",
       "    <tr>\n",
       "      <th>654</th>\n",
       "      <td>LTR</td>\n",
       "      <td>Gypsy</td>\n",
       "      <td>BLASTOPIA</td>\n",
       "      <td>BLASTOPIA_LTR_3L_RaGOO_23460661_23465627</td>\n",
       "      <td>2</td>\n",
       "      <td>{'882cdfb2-1141-48ad-a525-22d805cc116a': &lt;pysa...</td>\n",
       "      <td>0.177708</td>\n",
       "    </tr>\n",
       "    <tr>\n",
       "      <th>11233</th>\n",
       "      <td>LTR</td>\n",
       "      <td>Copia</td>\n",
       "      <td>Copia2</td>\n",
       "      <td>Copia2_I_2L_RaGOO_22718178_22722069</td>\n",
       "      <td>2</td>\n",
       "      <td>{'bd87bf21-fdee-4f71-b432-97caf649885f': &lt;pysa...</td>\n",
       "      <td>0.997044</td>\n",
       "    </tr>\n",
       "    <tr>\n",
       "      <th>13936</th>\n",
       "      <td>LTR</td>\n",
       "      <td>Gypsy</td>\n",
       "      <td>Gypsy12</td>\n",
       "      <td>Gypsy12_LTR_3R_RaGOO_2266515_2268947</td>\n",
       "      <td>2</td>\n",
       "      <td>{'ecbd88cf-407e-4716-8eec-6f56d7399ba5': &lt;pysa...</td>\n",
       "      <td>0.267475</td>\n",
       "    </tr>\n",
       "    <tr>\n",
       "      <th>13887</th>\n",
       "      <td>LTR</td>\n",
       "      <td>Gypsy</td>\n",
       "      <td>Gypsy12</td>\n",
       "      <td>Gypsy12_LTR_2R_RaGOO_1299099_1309281</td>\n",
       "      <td>2</td>\n",
       "      <td>{'c824091d-0c5d-4d71-80bd-c405b122afdf': &lt;pysa...</td>\n",
       "      <td>0.839914</td>\n",
       "    </tr>\n",
       "    <tr>\n",
       "      <th>8621</th>\n",
       "      <td>LINE</td>\n",
       "      <td>I-Jockey</td>\n",
       "      <td>DOC6_DM</td>\n",
       "      <td>DOC6_DM_X_RaGOO_7744303_7748522</td>\n",
       "      <td>2</td>\n",
       "      <td>{'df9328b8-dcd6-4f0d-ac89-c074db57433a': &lt;pysa...</td>\n",
       "      <td>0.434937</td>\n",
       "    </tr>\n",
       "    <tr>\n",
       "      <th>10020</th>\n",
       "      <td>LTR</td>\n",
       "      <td>Gypsy</td>\n",
       "      <td>Stalker2</td>\n",
       "      <td>Stalker2_LTR_3L_RaGOO_22813949_22821659</td>\n",
       "      <td>2</td>\n",
       "      <td>{'3d63a6bc-c03a-4286-aa3d-35cf7e3e04bc': &lt;pysa...</td>\n",
       "      <td>0.116278</td>\n",
       "    </tr>\n",
       "    <tr>\n",
       "      <th>625</th>\n",
       "      <td>LTR</td>\n",
       "      <td>Copia</td>\n",
       "      <td>Copia</td>\n",
       "      <td>Copia_LTR_3R_RaGOO_2965355_2970495</td>\n",
       "      <td>2</td>\n",
       "      <td>{'2e386109-b804-4aab-811e-474a14a2f30c': &lt;pysa...</td>\n",
       "      <td>0.186381</td>\n",
       "    </tr>\n",
       "    <tr>\n",
       "      <th>7842</th>\n",
       "      <td>LTR</td>\n",
       "      <td>Gypsy</td>\n",
       "      <td>MICROPIA</td>\n",
       "      <td>MICROPIA_I_3R_RaGOO_31083506_31088004</td>\n",
       "      <td>2</td>\n",
       "      <td>{'76208917-9058-47e1-9d8b-7be47db277da': &lt;pysa...</td>\n",
       "      <td>0.236216</td>\n",
       "    </tr>\n",
       "    <tr>\n",
       "      <th>7808</th>\n",
       "      <td>LTR</td>\n",
       "      <td>Gypsy</td>\n",
       "      <td>MICROPIA</td>\n",
       "      <td>MICROPIA_I_3L_RaGOO_25834006_25836118</td>\n",
       "      <td>2</td>\n",
       "      <td>{'556ce36e-87b0-4c16-99ea-7abdc5705f11': &lt;pysa...</td>\n",
       "      <td>0.270833</td>\n",
       "    </tr>\n",
       "    <tr>\n",
       "      <th>10367</th>\n",
       "      <td>LINE</td>\n",
       "      <td>R1</td>\n",
       "      <td>R1_DM</td>\n",
       "      <td>R1_DM_X_RaGOO_21996524_22001556</td>\n",
       "      <td>2</td>\n",
       "      <td>{'e0907cad-e22a-4c9b-9814-549c86d9b53d': &lt;pysa...</td>\n",
       "      <td>0.729630</td>\n",
       "    </tr>\n",
       "    <tr>\n",
       "      <th>263</th>\n",
       "      <td>LINE</td>\n",
       "      <td>I-Jockey</td>\n",
       "      <td>HETA</td>\n",
       "      <td>HETA_X_RaGOO_87709_93586</td>\n",
       "      <td>2</td>\n",
       "      <td>{'601c43bf-b1c4-4513-b599-eae27080fa41': &lt;pysa...</td>\n",
       "      <td>0.126000</td>\n",
       "    </tr>\n",
       "    <tr>\n",
       "      <th>8445</th>\n",
       "      <td>DNA</td>\n",
       "      <td>TcMar-Tc1</td>\n",
       "      <td>S_DM</td>\n",
       "      <td>S_DM_3R_RaGOO_4710881_4712605</td>\n",
       "      <td>1</td>\n",
       "      <td>{'56bb00d0-c3fb-4175-873a-c559d4880449': &lt;pysa...</td>\n",
       "      <td>0.468677</td>\n",
       "    </tr>\n",
       "    <tr>\n",
       "      <th>8481</th>\n",
       "      <td>LTR</td>\n",
       "      <td>Copia</td>\n",
       "      <td>DM1731</td>\n",
       "      <td>DM1731_LTR_2R_RaGOO_2383388_2383715</td>\n",
       "      <td>1</td>\n",
       "      <td>{'36bc38b1-9e99-4472-b1c6-43cfe2354387': &lt;pysa...</td>\n",
       "      <td>0.449541</td>\n",
       "    </tr>\n",
       "    <tr>\n",
       "      <th>8443</th>\n",
       "      <td>DNA</td>\n",
       "      <td>TcMar-Tc1</td>\n",
       "      <td>S_DM</td>\n",
       "      <td>S_DM_3R_RaGOO_4154687_4156391</td>\n",
       "      <td>1</td>\n",
       "      <td>{'3f38476d-6611-41fc-8168-ee175e87cc8d': &lt;pysa...</td>\n",
       "      <td>0.742958</td>\n",
       "    </tr>\n",
       "    <tr>\n",
       "      <th>8400</th>\n",
       "      <td>DNA</td>\n",
       "      <td>TcMar-Tc1</td>\n",
       "      <td>S_DM</td>\n",
       "      <td>S_DM_3L_RaGOO_24954457_24956189</td>\n",
       "      <td>1</td>\n",
       "      <td>{'a9c73f04-a7da-4023-9017-291695ee2b08': &lt;pysa...</td>\n",
       "      <td>0.243072</td>\n",
       "    </tr>\n",
       "    <tr>\n",
       "      <th>8609</th>\n",
       "      <td>LINE</td>\n",
       "      <td>I-Jockey</td>\n",
       "      <td>DOC6_DM</td>\n",
       "      <td>DOC6_DM_2L_RaGOO_8926966_8931176</td>\n",
       "      <td>1</td>\n",
       "      <td>{'35962f9e-520b-4af2-bd5c-bb2a2593d79f': &lt;pysa...</td>\n",
       "      <td>0.302138</td>\n",
       "    </tr>\n",
       "    <tr>\n",
       "      <th>8389</th>\n",
       "      <td>DNA</td>\n",
       "      <td>TcMar-Tc1</td>\n",
       "      <td>S_DM</td>\n",
       "      <td>S_DM_3L_RaGOO_20608071_20609798</td>\n",
       "      <td>1</td>\n",
       "      <td>{'e2d49f7c-0813-43b4-8849-df617b6ad337': &lt;pysa...</td>\n",
       "      <td>0.381587</td>\n",
       "    </tr>\n",
       "    <tr>\n",
       "      <th>8386</th>\n",
       "      <td>DNA</td>\n",
       "      <td>TcMar-Tc1</td>\n",
       "      <td>S_DM</td>\n",
       "      <td>S_DM_3L_RaGOO_5888047_5889536</td>\n",
       "      <td>1</td>\n",
       "      <td>{'7713d445-6507-4a3b-93c7-cdd22a88c97b': &lt;pysa...</td>\n",
       "      <td>0.382136</td>\n",
       "    </tr>\n",
       "    <tr>\n",
       "      <th>10499</th>\n",
       "      <td>LINE</td>\n",
       "      <td>I-Jockey</td>\n",
       "      <td>DOC3_DM</td>\n",
       "      <td>DOC3_DM_2R_RaGOO_860527_861391</td>\n",
       "      <td>1</td>\n",
       "      <td>{'c16a2299-caa0-4797-b895-180a67acc341': &lt;pysa...</td>\n",
       "      <td>0.900463</td>\n",
       "    </tr>\n",
       "    <tr>\n",
       "      <th>11169</th>\n",
       "      <td>DNA</td>\n",
       "      <td>CMC-Transib</td>\n",
       "      <td>Transib5</td>\n",
       "      <td>Transib5_3R_RaGOO_2639090_2641615</td>\n",
       "      <td>1</td>\n",
       "      <td>{'4a4ae1a1-4b60-4eb1-b14c-5405b08f8c46': &lt;pysa...</td>\n",
       "      <td>0.352475</td>\n",
       "    </tr>\n",
       "    <tr>\n",
       "      <th>10605</th>\n",
       "      <td>LINE</td>\n",
       "      <td>I-Jockey</td>\n",
       "      <td>DOC3_DM</td>\n",
       "      <td>DOC3_DM_X_RaGOO_21994216_21996199</td>\n",
       "      <td>1</td>\n",
       "      <td>{'8407584c-afc1-475e-95ee-8a6913f43db6': &lt;pysa...</td>\n",
       "      <td>0.252143</td>\n",
       "    </tr>\n",
       "    <tr>\n",
       "      <th>10019</th>\n",
       "      <td>LTR</td>\n",
       "      <td>Gypsy</td>\n",
       "      <td>Stalker2</td>\n",
       "      <td>Stalker2_LTR_2R_RaGOO_15238139_15244515</td>\n",
       "      <td>1</td>\n",
       "      <td>{'30b5f98a-3b81-44c3-9379-f58c56711559': &lt;pysa...</td>\n",
       "      <td>0.131430</td>\n",
       "    </tr>\n",
       "    <tr>\n",
       "      <th>10040</th>\n",
       "      <td>LTR</td>\n",
       "      <td>Gypsy</td>\n",
       "      <td>Stalker2</td>\n",
       "      <td>Stalker2_I_3R_RaGOO_12477203_12482106</td>\n",
       "      <td>1</td>\n",
       "      <td>{'30b5f98a-3b81-44c3-9379-f58c56711559': &lt;pysa...</td>\n",
       "      <td>0.170916</td>\n",
       "    </tr>\n",
       "    <tr>\n",
       "      <th>11137</th>\n",
       "      <td>DNA</td>\n",
       "      <td>TcMar-Tc1</td>\n",
       "      <td>TC1-2_DM</td>\n",
       "      <td>TC1-2_DM_4_RaGOO_958695_960140</td>\n",
       "      <td>1</td>\n",
       "      <td>{'054511d4-79fd-47c8-8ee0-c9cca65dbb03': &lt;pysa...</td>\n",
       "      <td>0.537716</td>\n",
       "    </tr>\n",
       "    <tr>\n",
       "      <th>10041</th>\n",
       "      <td>LTR</td>\n",
       "      <td>Gypsy</td>\n",
       "      <td>Stalker2</td>\n",
       "      <td>Stalker2_LTR_3R_RaGOO_12482112_12482538</td>\n",
       "      <td>1</td>\n",
       "      <td>{'0a63183e-6db5-4e9d-a496-d3a5e32e58f1': &lt;pysa...</td>\n",
       "      <td>0.356808</td>\n",
       "    </tr>\n",
       "    <tr>\n",
       "      <th>10345</th>\n",
       "      <td>LINE</td>\n",
       "      <td>R1</td>\n",
       "      <td>R1_DM</td>\n",
       "      <td>R1_DM_3L_RaGOO_22723213_22728186</td>\n",
       "      <td>1</td>\n",
       "      <td>{'1858ba49-da59-424d-a7da-e0623b1d98f4': &lt;pysa...</td>\n",
       "      <td>0.177358</td>\n",
       "    </tr>\n",
       "    <tr>\n",
       "      <th>10766</th>\n",
       "      <td>DNA</td>\n",
       "      <td>P</td>\n",
       "      <td>PROTOP</td>\n",
       "      <td>PROTOP_3L_RaGOO_23000805_23002317</td>\n",
       "      <td>1</td>\n",
       "      <td>{'3a017a95-ef68-4c8d-a2d2-e844d135e831': &lt;pysa...</td>\n",
       "      <td>0.375661</td>\n",
       "    </tr>\n",
       "    <tr>\n",
       "      <th>10410</th>\n",
       "      <td>DNA</td>\n",
       "      <td>TcMar-Tc1</td>\n",
       "      <td>TC1_DM</td>\n",
       "      <td>TC1_DM_4_RaGOO_119749_120916</td>\n",
       "      <td>1</td>\n",
       "      <td>{'b82c9876-38f1-4bee-8b37-79767f4bcf8a': &lt;pysa...</td>\n",
       "      <td>0.970009</td>\n",
       "    </tr>\n",
       "    <tr>\n",
       "      <th>9382</th>\n",
       "      <td>LINE</td>\n",
       "      <td>R1</td>\n",
       "      <td>DMRT1B</td>\n",
       "      <td>DMRT1B_X_RaGOO_18329002_18330754</td>\n",
       "      <td>1</td>\n",
       "      <td>{'15a59922-3055-4678-8c83-ba9e92a904b6': &lt;pysa...</td>\n",
       "      <td>0.997717</td>\n",
       "    </tr>\n",
       "    <tr>\n",
       "      <th>23</th>\n",
       "      <td>LINE</td>\n",
       "      <td>I</td>\n",
       "      <td>IVK_DM</td>\n",
       "      <td>IVK_DM_3L_RaGOO_19656431_19661800</td>\n",
       "      <td>1</td>\n",
       "      <td>{'485809cd-a1e8-4c77-b820-2e02ce41e158': &lt;pysa...</td>\n",
       "      <td>0.248277</td>\n",
       "    </tr>\n",
       "    <tr>\n",
       "      <th>11384</th>\n",
       "      <td>LTR</td>\n",
       "      <td>Gypsy</td>\n",
       "      <td>Invader4</td>\n",
       "      <td>Invader4_LTR_2L_RaGOO_21089350_21091057</td>\n",
       "      <td>1</td>\n",
       "      <td>{'446c5f9b-a1c1-44db-87fb-ecb12f91fc20': &lt;pysa...</td>\n",
       "      <td>0.721734</td>\n",
       "    </tr>\n",
       "    <tr>\n",
       "      <th>13749</th>\n",
       "      <td>LTR</td>\n",
       "      <td>Gypsy</td>\n",
       "      <td>Gypsy</td>\n",
       "      <td>Gypsy_I_3R_RaGOO_3134007_3139348</td>\n",
       "      <td>1</td>\n",
       "      <td>{'58367752-bcdb-42f5-ad8e-64e572435561': &lt;pysa...</td>\n",
       "      <td>0.221307</td>\n",
       "    </tr>\n",
       "    <tr>\n",
       "      <th>13525</th>\n",
       "      <td>LTR</td>\n",
       "      <td>Gypsy</td>\n",
       "      <td>Invader1</td>\n",
       "      <td>Invader1_I_3L_RaGOO_26375243_26376911</td>\n",
       "      <td>1</td>\n",
       "      <td>{'9926d6ea-24f3-4fce-a736-471730ff0d0b': &lt;pysa...</td>\n",
       "      <td>0.311151</td>\n",
       "    </tr>\n",
       "    <tr>\n",
       "      <th>13530</th>\n",
       "      <td>LTR</td>\n",
       "      <td>Gypsy</td>\n",
       "      <td>Invader1</td>\n",
       "      <td>Invader1_LTR_3R_RaGOO_1539422_1544290</td>\n",
       "      <td>1</td>\n",
       "      <td>{'eecf960c-6270-4794-8302-00ec82f7cc49': &lt;pysa...</td>\n",
       "      <td>0.155094</td>\n",
       "    </tr>\n",
       "    <tr>\n",
       "      <th>13556</th>\n",
       "      <td>LTR</td>\n",
       "      <td>Gypsy</td>\n",
       "      <td>DM176</td>\n",
       "      <td>DM176_I_2L_RaGOO_22492424_22494024</td>\n",
       "      <td>1</td>\n",
       "      <td>{'c251e314-0fab-4da5-bdc1-d0bb6927e349': &lt;pysa...</td>\n",
       "      <td>0.151250</td>\n",
       "    </tr>\n",
       "    <tr>\n",
       "      <th>13565</th>\n",
       "      <td>LTR</td>\n",
       "      <td>Gypsy</td>\n",
       "      <td>DM176</td>\n",
       "      <td>DM176_LTR_2R_RaGOO_1374047_1381552</td>\n",
       "      <td>1</td>\n",
       "      <td>{'2c322858-c6ed-400f-af15-099b81735dbb': &lt;pysa...</td>\n",
       "      <td>0.124051</td>\n",
       "    </tr>\n",
       "    <tr>\n",
       "      <th>13580</th>\n",
       "      <td>LTR</td>\n",
       "      <td>Gypsy</td>\n",
       "      <td>DM176</td>\n",
       "      <td>DM176_LTR_3L_RaGOO_15231455_15238953</td>\n",
       "      <td>1</td>\n",
       "      <td>{'8bbcdb69-7d44-48bf-bf9f-883475269e8e': &lt;pysa...</td>\n",
       "      <td>0.137103</td>\n",
       "    </tr>\n",
       "    <tr>\n",
       "      <th>13606</th>\n",
       "      <td>LTR</td>\n",
       "      <td>Gypsy</td>\n",
       "      <td>DM176</td>\n",
       "      <td>DM176_LTR_3R_RaGOO_1830992_1834504</td>\n",
       "      <td>1</td>\n",
       "      <td>{'ef49775f-1739-4474-820c-1a99dc8ed26f': &lt;pysa...</td>\n",
       "      <td>0.231492</td>\n",
       "    </tr>\n",
       "    <tr>\n",
       "      <th>13648</th>\n",
       "      <td>LTR</td>\n",
       "      <td>Gypsy</td>\n",
       "      <td>TABOR</td>\n",
       "      <td>TABOR_I_3R_RaGOO_1081451_1084994</td>\n",
       "      <td>1</td>\n",
       "      <td>{'3ca2f66c-8b84-4b17-93a6-5fe929df9382': &lt;pysa...</td>\n",
       "      <td>0.343494</td>\n",
       "    </tr>\n",
       "    <tr>\n",
       "      <th>14156</th>\n",
       "      <td>LTR</td>\n",
       "      <td>Gypsy</td>\n",
       "      <td>Gypsy2</td>\n",
       "      <td>Gypsy2-I_DM_2R_RaGOO_1185019_1189865</td>\n",
       "      <td>1</td>\n",
       "      <td>{'1457aa4f-d302-4081-993f-636eccbfc141': &lt;pysa...</td>\n",
       "      <td>0.347090</td>\n",
       "    </tr>\n",
       "    <tr>\n",
       "      <th>11566</th>\n",
       "      <td>LTR</td>\n",
       "      <td>Gypsy</td>\n",
       "      <td>STALKER4</td>\n",
       "      <td>STALKER4_I_2L_RaGOO_21913834_21920333</td>\n",
       "      <td>1</td>\n",
       "      <td>{'b49a05a9-b459-4bb5-b3bd-f75738e15fd0': &lt;pysa...</td>\n",
       "      <td>0.155101</td>\n",
       "    </tr>\n",
       "    <tr>\n",
       "      <th>14283</th>\n",
       "      <td>LINE</td>\n",
       "      <td>I-Jockey</td>\n",
       "      <td>DOC5_DM</td>\n",
       "      <td>DOC5_DM_2R_RaGOO_625358_625987</td>\n",
       "      <td>1</td>\n",
       "      <td>{'775f7a33-8e55-4d86-b27e-4d1552a07f2f': &lt;pysa...</td>\n",
       "      <td>0.562798</td>\n",
       "    </tr>\n",
       "    <tr>\n",
       "      <th>14307</th>\n",
       "      <td>LINE</td>\n",
       "      <td>I-Jockey</td>\n",
       "      <td>DOC5_DM</td>\n",
       "      <td>DOC5_DM_3L_RaGOO_24441325_24444916</td>\n",
       "      <td>1</td>\n",
       "      <td>{'7ccae8f5-d2e7-4ebd-b286-9f355bafec3e': &lt;pysa...</td>\n",
       "      <td>0.380674</td>\n",
       "    </tr>\n",
       "    <tr>\n",
       "      <th>14380</th>\n",
       "      <td>LTR</td>\n",
       "      <td>Gypsy</td>\n",
       "      <td>Gypsy7</td>\n",
       "      <td>Gypsy7_I_3L_RaGOO_25724750_25729257</td>\n",
       "      <td>1</td>\n",
       "      <td>{'1bf5274e-6531-4146-b59e-fb6221889f4c': &lt;pysa...</td>\n",
       "      <td>0.238074</td>\n",
       "    </tr>\n",
       "    <tr>\n",
       "      <th>14555</th>\n",
       "      <td>DNA</td>\n",
       "      <td>TcMar-Tc1</td>\n",
       "      <td>BARI_DM</td>\n",
       "      <td>BARI_DM_2R_RaGOO_42130_43850</td>\n",
       "      <td>1</td>\n",
       "      <td>{'89a3fcb8-4535-42b1-acb6-4d0ba0f4f1c1': &lt;pysa...</td>\n",
       "      <td>0.759302</td>\n",
       "    </tr>\n",
       "    <tr>\n",
       "      <th>14659</th>\n",
       "      <td>LTR</td>\n",
       "      <td>Gypsy</td>\n",
       "      <td>ACCORD</td>\n",
       "      <td>ACCORD_LTR_2R_RaGOO_813426_818636</td>\n",
       "      <td>1</td>\n",
       "      <td>{'e48ae952-c886-4419-a15b-e243b4d48605': &lt;pysa...</td>\n",
       "      <td>0.207486</td>\n",
       "    </tr>\n",
       "    <tr>\n",
       "      <th>14660</th>\n",
       "      <td>LTR</td>\n",
       "      <td>Gypsy</td>\n",
       "      <td>ACCORD</td>\n",
       "      <td>ACCORD_I_2R_RaGOO_818637_823373</td>\n",
       "      <td>1</td>\n",
       "      <td>{'e48ae952-c886-4419-a15b-e243b4d48605': &lt;pysa...</td>\n",
       "      <td>0.228252</td>\n",
       "    </tr>\n",
       "    <tr>\n",
       "      <th>14694</th>\n",
       "      <td>LTR</td>\n",
       "      <td>Gypsy</td>\n",
       "      <td>ROVER</td>\n",
       "      <td>ROVER-LTR_DM_2R_RaGOO_3256225_3263561</td>\n",
       "      <td>1</td>\n",
       "      <td>{'82d9178f-93cb-4159-8c88-f4a11490bfe6': &lt;pysa...</td>\n",
       "      <td>0.149809</td>\n",
       "    </tr>\n",
       "    <tr>\n",
       "      <th>13501</th>\n",
       "      <td>LTR</td>\n",
       "      <td>Gypsy</td>\n",
       "      <td>Invader1</td>\n",
       "      <td>Invader1_LTR_3L_RaGOO_22836953_22840857</td>\n",
       "      <td>1</td>\n",
       "      <td>{'eecf960c-6270-4794-8302-00ec82f7cc49': &lt;pysa...</td>\n",
       "      <td>0.194160</td>\n",
       "    </tr>\n",
       "    <tr>\n",
       "      <th>13492</th>\n",
       "      <td>LTR</td>\n",
       "      <td>Gypsy</td>\n",
       "      <td>Invader1</td>\n",
       "      <td>Invader1_LTR_2R_RaGOO_4667269_4671292</td>\n",
       "      <td>1</td>\n",
       "      <td>{'8b6c717e-938c-41ec-91d5-4d7f4fa5a6a4': &lt;pysa...</td>\n",
       "      <td>0.110863</td>\n",
       "    </tr>\n",
       "    <tr>\n",
       "      <th>13029</th>\n",
       "      <td>LTR</td>\n",
       "      <td>Gypsy</td>\n",
       "      <td>Gypsy1</td>\n",
       "      <td>Gypsy1-I_DM_3L_RaGOO_23197800_23202268</td>\n",
       "      <td>1</td>\n",
       "      <td>{'a40f7016-b456-4a93-8c17-c4d643a88aa1': &lt;pysa...</td>\n",
       "      <td>0.214861</td>\n",
       "    </tr>\n",
       "    <tr>\n",
       "      <th>12988</th>\n",
       "      <td>LTR</td>\n",
       "      <td>Gypsy</td>\n",
       "      <td>Gypsy12A</td>\n",
       "      <td>Gypsy12A_LTR_3R_RaGOO_3432347_3433700</td>\n",
       "      <td>1</td>\n",
       "      <td>{'fb11701e-ba7e-4460-b53a-1b4812cd9255': &lt;pysa...</td>\n",
       "      <td>0.592757</td>\n",
       "    </tr>\n",
       "    <tr>\n",
       "      <th>11782</th>\n",
       "      <td>LTR</td>\n",
       "      <td>Pao</td>\n",
       "      <td>MAX</td>\n",
       "      <td>MAX_LTR_2R_RaGOO_137030_138260</td>\n",
       "      <td>1</td>\n",
       "      <td>{'15b61760-fa81-4130-ac68-9814a6f2203e': &lt;pysa...</td>\n",
       "      <td>0.801626</td>\n",
       "    </tr>\n",
       "    <tr>\n",
       "      <th>11858</th>\n",
       "      <td>LTR</td>\n",
       "      <td>Gypsy</td>\n",
       "      <td>Chimpo</td>\n",
       "      <td>Chimpo_LTR_3L_RaGOO_16584918_16588544</td>\n",
       "      <td>1</td>\n",
       "      <td>{'e17c9d71-264f-4769-85d2-2d608850819d': &lt;pysa...</td>\n",
       "      <td>0.252620</td>\n",
       "    </tr>\n",
       "    <tr>\n",
       "      <th>11860</th>\n",
       "      <td>LTR</td>\n",
       "      <td>Gypsy</td>\n",
       "      <td>Chimpo</td>\n",
       "      <td>Chimpo_LTR_3L_RaGOO_24516813_24521384</td>\n",
       "      <td>1</td>\n",
       "      <td>{'e17c9d71-264f-4769-85d2-2d608850819d': &lt;pysa...</td>\n",
       "      <td>0.199956</td>\n",
       "    </tr>\n",
       "    <tr>\n",
       "      <th>11866</th>\n",
       "      <td>LTR</td>\n",
       "      <td>Gypsy</td>\n",
       "      <td>Chimpo</td>\n",
       "      <td>Chimpo_I_4_RaGOO_776018_780171</td>\n",
       "      <td>1</td>\n",
       "      <td>{'bc50f502-fa5b-457a-91b6-973542ebffc9': &lt;pysa...</td>\n",
       "      <td>0.339032</td>\n",
       "    </tr>\n",
       "    <tr>\n",
       "      <th>11868</th>\n",
       "      <td>LTR</td>\n",
       "      <td>Gypsy</td>\n",
       "      <td>TIRANT</td>\n",
       "      <td>TIRANT_LTR_2L_RaGOO_20669409_20674055</td>\n",
       "      <td>1</td>\n",
       "      <td>{'d92a390d-c44a-424b-a487-8a5d444df674': &lt;pysa...</td>\n",
       "      <td>0.755704</td>\n",
       "    </tr>\n",
       "    <tr>\n",
       "      <th>11878</th>\n",
       "      <td>LTR</td>\n",
       "      <td>Gypsy</td>\n",
       "      <td>TIRANT</td>\n",
       "      <td>TIRANT_I_2R_RaGOO_626164_626883</td>\n",
       "      <td>1</td>\n",
       "      <td>{'9a23a57d-3efd-4870-b914-47668e92816e': &lt;pysa...</td>\n",
       "      <td>0.916551</td>\n",
       "    </tr>\n",
       "    <tr>\n",
       "      <th>11901</th>\n",
       "      <td>LTR</td>\n",
       "      <td>Copia</td>\n",
       "      <td>Copia1</td>\n",
       "      <td>Copia1-I_DM_2R_RaGOO_2841061_2845341</td>\n",
       "      <td>1</td>\n",
       "      <td>{'98e1554a-5512-4a32-bea5-5ea8ce3c73f7': &lt;pysa...</td>\n",
       "      <td>0.110514</td>\n",
       "    </tr>\n",
       "  </tbody>\n",
       "</table>\n",
       "</div>"
      ]
     },
     "metadata": {},
     "execution_count": 14
    }
   ],
   "metadata": {}
  },
  {
   "cell_type": "code",
   "execution_count": 2,
   "source": [
    "def build_index(bamfile):\n",
    "    bam = pysam.AlignmentFile(bamfile, 'rb')\n",
    "    read_index = pysam.IndexedReads(bam)\n",
    "    read_index.build()\n",
    "    return read_index\n",
    "\n",
    "def get_query_names(bamfile):\n",
    "    query_names = []\n",
    "    with pysam.AlignmentFile(bamfile, 'rb') as bam:\n",
    "        for ali in bam:\n",
    "            query_names.append(ali.query_name)\n",
    "    return set(query_names)\n"
   ],
   "outputs": [],
   "metadata": {}
  },
  {
   "cell_type": "code",
   "execution_count": 7,
   "source": [
    "def get_TE_hierarchy(consensus_fasta):\n",
    "    subclass_list = []\n",
    "    superfamily_list = []\n",
    "    family_list = []\n",
    "    with open(consensus_fasta, 'r') as consensus:\n",
    "        for line in consensus:\n",
    "            if line.startswith(\">\"):\n",
    "                family = line.split(\"#\")[0][1:]\n",
    "                subclass, superfamily= line.strip().split(\"#\")[1].split(\"/\")\n",
    "                subclass_list.append(subclass)\n",
    "                superfamily_list.append(superfamily)\n",
    "                family_list.append(family)\n",
    "    hierarchy_df = pd.DataFrame(list(zip(subclass_list, superfamily_list, family_list)), columns =['Subclass', 'Superfamily', 'Family'])\n",
    "    return hierarchy_df.set_index(\"Family\", inplace=True)\n",
    "    \n",
    "HIERARCHY_DF = get_TE_hierarchy(DFAM_TE_ANNOTATION)"
   ],
   "outputs": [],
   "metadata": {}
  },
  {
   "cell_type": "code",
   "execution_count": 4,
   "source": [
    "# Filter out reads : \n",
    "\n",
    "## We filter unmapped, supplementary, and reads with non-optimal AS score.\n",
    "\n",
    "def filter_max_AS_reads(bamfile, output_bamfile):\n",
    "    query_names = get_query_names(bamfile)\n",
    "    read_index = build_index(bamfile)\n",
    "    with pysam.AlignmentFile(output_bamfile, 'wb', template = pysam.AlignmentFile(bamfile,'rb')) as output:\n",
    "        for read in query_names:\n",
    "            ali_list = read_index.find(read)\n",
    "            max_AS = 0\n",
    "            primary_and_secondary_alignments = [ali for ali in ali_list if not (ali.is_unmapped or ali.is_supplementary)]\n",
    "            if primary_and_secondary_alignments :\n",
    "                max_AS = max([ali.get_tag('AS') for ali in primary_and_secondary_alignments])\n",
    "                max_AS_alignments = [ali for ali in primary_and_secondary_alignments if ali.get_tag('AS') == max_AS]\n",
    "                for ali in max_AS_alignments:\n",
    "                    output.write(ali)\n",
    "    return output_bamfile\n"
   ],
   "outputs": [],
   "metadata": {}
  },
  {
   "cell_type": "code",
   "execution_count": 5,
   "source": [
    "class TransposableElementInsertion:\n",
    "    def __init__(self, insertion_id, chrom, start, end):\n",
    "        self.id = insertion_id\n",
    "        self.chrom = chrom\n",
    "        self.start = int(start)\n",
    "        self.end = int(end)\n",
    "        self.alignments = []\n",
    "        self.counts = 0\n",
    "    \n",
    "    def __repr__(self):\n",
    "        return self.id\n",
    "    "
   ],
   "outputs": [],
   "metadata": {}
  },
  {
   "cell_type": "code",
   "execution_count": 6,
   "source": [
    "class Exon:\n",
    "    def __init__(self, gene_id, chrom, start, end):\n",
    "        self.gene_id = gene_id\n",
    "        self.chrom = chrom\n",
    "        self.start = start\n",
    "        self.end = end"
   ],
   "outputs": [],
   "metadata": {}
  },
  {
   "cell_type": "code",
   "execution_count": 7,
   "source": [
    "def initiate_transposable_element_family_dict(annotations):\n",
    "    transposable_element_family_dict = {}\n",
    "    with open(annotations) as annot:\n",
    "        for line in annot:\n",
    "            splitted_line = line.strip().split(\"\\t\")\n",
    "            chrom, start, end = [splitted_line[i] for i in [0, 3, 4]]\n",
    "            ids = splitted_line[-1].split('\"')\n",
    "            family_name = ids[1]\n",
    "            if int(end) - int(start) > 100:\n",
    "                new_insertion = TransposableElementInsertion(ids[3], chrom, start, end)\n",
    "                if family_name not in transposable_element_family_dict:\n",
    "                    transposable_element_family_dict[family_name] = []\n",
    "                transposable_element_family_dict[family_name].append(new_insertion)\n",
    "    return transposable_element_family_dict\n",
    "\n"
   ],
   "outputs": [],
   "metadata": {}
  },
  {
   "cell_type": "code",
   "execution_count": 8,
   "source": [
    "def get_subject_coverage(alignment, insertion):\n",
    "    overlap_start = max(alignment.reference_start, insertion.start)\n",
    "    overlap_end = min(alignment.reference_end, insertion.end)\n",
    "    overlap_length = overlap_end - overlap_start\n",
    "    insertion_length = insertion.end - insertion.start\n",
    "    subject_coverage = overlap_length / insertion_length\n",
    "    return subject_coverage\n",
    "\n",
    "def default_filter(alignment, insertion):\n",
    "    subject_coverage = get_subject_coverage(alignment, insertion)\n",
    "    nb_aligned_pairs =  alignment.get_overlap(insertion.start, insertion.end)\n",
    "    is_ok = (subject_coverage > 0.1 and nb_aligned_pairs > 1)\n",
    "    return is_ok\n",
    "\n",
    "def get_exceeding_alignment_length(alignment, insertion):\n",
    "    overflow_length = 0\n",
    "    if alignment.reference_start < insertion.start:\n",
    "        overflow_length += insertion.start -alignment.reference_start\n",
    "    if alignment.reference_end > insertion.end:\n",
    "        overflow_length += alignment.reference_end - insertion.end\n",
    "    return overflow_length\n",
    "\n",
    "def filter_out_co_expressed(alignment, insertion):\n",
    "    exceeding_length = get_exceeding_alignment_length(alignment, insertion)\n",
    "    alignment_length = alignment.reference_end - alignment.reference_start\n",
    "    is_ok = (exceeding_length < (0.1 * alignment_length))\n",
    "    return is_ok\n",
    "\n",
    "def no_filter(alignment, insertion):\n",
    "    return True\n",
    "\n",
    "def match_reads_with_insertions(bamfile, family_dict, filter_strategy):\n",
    "    with pysam.AlignmentFile(bamfile, 'rb') as bam:\n",
    "        for family, insertion_list in family_dict.items():\n",
    "            for insertion in insertion_list:\n",
    "                def apply_filter_strategy(read):\n",
    "                    return filter_strategy(read, insertion)\n",
    "                insertion.counts = bam.count(contig=insertion.chrom, start=insertion.start, end=insertion.end, read_callback=apply_filter_strategy)\n",
    "\n",
    "    return family_dict\n"
   ],
   "outputs": [],
   "metadata": {
    "tags": []
   }
  },
  {
   "cell_type": "code",
   "execution_count": 64,
   "source": [
    "def attributing_reads_to_feature(bamfile, family_dict, gene_annotation, filter_strategy):\n",
    "    def apply_filter_strategy(read):\n",
    "        return filter_strategy(read, insertion, gene_annotation)\n",
    "    nb_family = len(family_dict)\n",
    "    with pysam.AlignmentFile(bamfile, 'rb') as bam:       \n",
    "        for family, insertion_list in family_dict.items():\n",
    "            for insertion in insertion_list:\n",
    "                insertion.counts = bam.count(contig=insertion.chrom, start=insertion.start, end=insertion.end, read_callback=apply_filter_strategy)\n",
    "    return 0\n",
    "\n",
    "def parse_gene_annotations(gene_annotations):\n",
    "    exon_dict = {}\n",
    "    with open(gene_annotations) as gene_annot:\n",
    "        for line in gene_annot:\n",
    "            sline = line.strip().split(\"\\t\")\n",
    "            if \"exon\" in sline[2]:\n",
    "                gene_id = sline[8].split('\"')[1]\n",
    "                chrom = sline[0]\n",
    "                start = int(sline[3])\n",
    "                end = int(sline[4])\n",
    "                new_exon = Exon(gene_id, chrom, start, end)\n",
    "                if chrom not in exon_dict :\n",
    "                    exon_dict[chrom] = []\n",
    "                exon_dict[chrom].append(new_exon)\n",
    "    return exon_dict \n",
    "\n",
    "parse_gene_annotations(DMGOTH_GENE_ANNOTATIONS)\n",
    "\n",
    "def get_overlapped_genes(read, gene_annotations):\n",
    "    exon_dict = parse_gene_annotations(gene_annotations)\n",
    "    overlapped_exons = []\n",
    "    for exon in exon_dict[read.reference_name]:\n",
    "        if read.reference_end >= exon.start and exon.end >= read.reference_start:\n",
    "            overlapped_exons.append(exon)\n",
    "        if read.reference_start > exon.end :\n",
    "            break\n",
    "    overlapped_genes = {}\n",
    "    for exon in overlapped_exons:\n",
    "        if not exon.gene_id in overlapped_genes:\n",
    "           overlapped_genes[exon.gene_id] = []\n",
    "        overlapped_genes[exon.gene_id].append(exon)\n",
    "    return overlapped_genes\n",
    "\n",
    "\n",
    "def filter_strategy2(read, insertion, gene_annotations):\n",
    "    if not filter_out_co_expressed(read, insertion):\n",
    "        return False\n",
    "    overlapped_genes = get_overlapped_genes(read, gene_annotations)\n",
    "    max_nb_of_aligned_pb = read.get_overlap(insertion.start, insertion.end)\n",
    "    max_aligned_feature = insertion\n",
    "\n",
    "    for gene, overlapped_exons in overlapped_genes.items():\n",
    "        nb_of_aligned_pb = 0\n",
    "        for exon in overlapped_exons:\n",
    "            nb_of_aligned_pb += read.get_overlap(exon.start, exon.end)\n",
    "            if nb_of_aligned_pb > max_nb_of_aligned_pb:\n",
    "                return False\n",
    "            max_aligned_feature = gene\n",
    "            max_nb_of_aligned_pb = nb_of_aligned_pb\n",
    "    return max_aligned_feature == insertion\n",
    "    # if max_aligned_feature != insertion :\n",
    "    #     print(\"Pop\")\n",
    "    #     print(max_aligned_feature)\n",
    "    #     print(read.query_name, read.reference_name, read.reference_start, read.reference_end)\n",
    "    #     if not max_aligned_feature == \"FBgn0267428\":\n",
    "    #         print(read.query_name, read.reference_name, read.reference_start, read.reference_end)\n",
    "    #         print(max_aligned_feature)\n",
    "    #     return False\n",
    "    # else : \n",
    "    #     print(\"poup\")\n",
    "    #     return True\n",
    "\n",
    "\n",
    "def get_TE_counting_bis(filtered_bamfile, annotations, gene_annotations, TE_hierarchy_df, filter_strategy):\n",
    "    family_dict = initiate_transposable_element_family_dict(annotations)\n",
    "    family_dict = attributing_reads_to_feature(filtered_bamfile, family_dict, gene_annotations, filter_strategy)\n",
    "    # family_dict, TE_hierarchy_df = merge_family_splitted_between_intern_and_LTR(family_dict, TE_hierarchy_df)\n",
    "    return (family_dict, TE_hierarchy_df)\n",
    "\n",
    "new_counting = get_TE_counting_bis(FC30_DMGOTH_MAX_AS_PRIMARY_ONLY_BAMFILE, REPEATMASKER_TE_ANNOTATIONS, DMGOTH_GENE_ANNOTATIONS, HIERARCHY_DF, filter_strategy2)"
   ],
   "outputs": [
    {
     "output_type": "stream",
     "name": "stdout",
     "text": [
      "\n",
      "poup\n",
      "poup\n",
      "poup\n",
      "poup\n",
      "poup\n",
      "poup\n",
      "\n",
      "poup\n",
      "poup\n",
      "poup\n",
      "\n",
      "poup\n",
      "poup\n",
      "poup\n",
      "poup\n",
      "poup\n",
      "poup\n",
      "poup\n",
      "\n",
      "poup\n",
      "poup\n",
      "poup\n",
      "poup\n",
      "poup\n",
      "poup\n",
      "poup\n",
      "poup\n",
      "poup\n",
      "poup\n",
      "poup\n",
      "poup\n",
      "poup\n"
     ]
    },
    {
     "output_type": "error",
     "ename": "KeyboardInterrupt",
     "evalue": "",
     "traceback": [
      "\u001b[0;31m---------------------------------------------------------------------------\u001b[0m",
      "\u001b[0;31mKeyboardInterrupt\u001b[0m                         Traceback (most recent call last)",
      "\u001b[0;32m<ipython-input-64-3db9396548c9>\u001b[0m in \u001b[0;36m<module>\u001b[0;34m\u001b[0m\n\u001b[1;32m     78\u001b[0m     \u001b[0;32mreturn\u001b[0m \u001b[0;34m(\u001b[0m\u001b[0mfamily_dict\u001b[0m\u001b[0;34m,\u001b[0m \u001b[0mTE_hierarchy_df\u001b[0m\u001b[0;34m)\u001b[0m\u001b[0;34m\u001b[0m\u001b[0;34m\u001b[0m\u001b[0m\n\u001b[1;32m     79\u001b[0m \u001b[0;34m\u001b[0m\u001b[0m\n\u001b[0;32m---> 80\u001b[0;31m \u001b[0mget_TE_counting_bis\u001b[0m\u001b[0;34m(\u001b[0m\u001b[0mFC30_DMGOTH_MAX_AS_PRIMARY_ONLY_BAMFILE\u001b[0m\u001b[0;34m,\u001b[0m \u001b[0mREPEATMASKER_TE_ANNOTATIONS\u001b[0m\u001b[0;34m,\u001b[0m \u001b[0mDMGOTH_GENE_ANNOTATIONS\u001b[0m\u001b[0;34m,\u001b[0m \u001b[0mHIERARCHY_DF\u001b[0m\u001b[0;34m,\u001b[0m \u001b[0mfilter_strategy2\u001b[0m\u001b[0;34m)\u001b[0m\u001b[0;34m\u001b[0m\u001b[0;34m\u001b[0m\u001b[0m\n\u001b[0m",
      "\u001b[0;32m<ipython-input-64-3db9396548c9>\u001b[0m in \u001b[0;36mget_TE_counting_bis\u001b[0;34m(filtered_bamfile, annotations, gene_annotations, TE_hierarchy_df, filter_strategy)\u001b[0m\n\u001b[1;32m     74\u001b[0m \u001b[0;32mdef\u001b[0m \u001b[0mget_TE_counting_bis\u001b[0m\u001b[0;34m(\u001b[0m\u001b[0mfiltered_bamfile\u001b[0m\u001b[0;34m,\u001b[0m \u001b[0mannotations\u001b[0m\u001b[0;34m,\u001b[0m \u001b[0mgene_annotations\u001b[0m\u001b[0;34m,\u001b[0m \u001b[0mTE_hierarchy_df\u001b[0m\u001b[0;34m,\u001b[0m \u001b[0mfilter_strategy\u001b[0m\u001b[0;34m)\u001b[0m\u001b[0;34m:\u001b[0m\u001b[0;34m\u001b[0m\u001b[0;34m\u001b[0m\u001b[0m\n\u001b[1;32m     75\u001b[0m     \u001b[0mfamily_dict\u001b[0m \u001b[0;34m=\u001b[0m \u001b[0minitiate_transposable_element_family_dict\u001b[0m\u001b[0;34m(\u001b[0m\u001b[0mannotations\u001b[0m\u001b[0;34m)\u001b[0m\u001b[0;34m\u001b[0m\u001b[0;34m\u001b[0m\u001b[0m\n\u001b[0;32m---> 76\u001b[0;31m     \u001b[0mfamily_dict\u001b[0m \u001b[0;34m=\u001b[0m \u001b[0mattributing_reads_to_feature\u001b[0m\u001b[0;34m(\u001b[0m\u001b[0mfiltered_bamfile\u001b[0m\u001b[0;34m,\u001b[0m \u001b[0mfamily_dict\u001b[0m\u001b[0;34m,\u001b[0m \u001b[0mgene_annotations\u001b[0m\u001b[0;34m,\u001b[0m \u001b[0mfilter_strategy\u001b[0m\u001b[0;34m)\u001b[0m\u001b[0;34m\u001b[0m\u001b[0;34m\u001b[0m\u001b[0m\n\u001b[0m\u001b[1;32m     77\u001b[0m     \u001b[0;31m# family_dict, TE_hierarchy_df = merge_family_splitted_between_intern_and_LTR(family_dict, TE_hierarchy_df)\u001b[0m\u001b[0;34m\u001b[0m\u001b[0;34m\u001b[0m\u001b[0;34m\u001b[0m\u001b[0m\n\u001b[1;32m     78\u001b[0m     \u001b[0;32mreturn\u001b[0m \u001b[0;34m(\u001b[0m\u001b[0mfamily_dict\u001b[0m\u001b[0;34m,\u001b[0m \u001b[0mTE_hierarchy_df\u001b[0m\u001b[0;34m)\u001b[0m\u001b[0;34m\u001b[0m\u001b[0;34m\u001b[0m\u001b[0m\n",
      "\u001b[0;32m<ipython-input-64-3db9396548c9>\u001b[0m in \u001b[0;36mattributing_reads_to_feature\u001b[0;34m(bamfile, family_dict, gene_annotation, filter_strategy)\u001b[0m\n\u001b[1;32m      8\u001b[0m             \u001b[0mprint\u001b[0m\u001b[0;34m(\u001b[0m\u001b[0;34m)\u001b[0m\u001b[0;34m\u001b[0m\u001b[0;34m\u001b[0m\u001b[0m\n\u001b[1;32m      9\u001b[0m             \u001b[0;32mfor\u001b[0m \u001b[0minsertion\u001b[0m \u001b[0;32min\u001b[0m \u001b[0minsertion_list\u001b[0m\u001b[0;34m:\u001b[0m\u001b[0;34m\u001b[0m\u001b[0;34m\u001b[0m\u001b[0m\n\u001b[0;32m---> 10\u001b[0;31m                 \u001b[0minsertion\u001b[0m\u001b[0;34m.\u001b[0m\u001b[0mcounts\u001b[0m \u001b[0;34m=\u001b[0m \u001b[0mbam\u001b[0m\u001b[0;34m.\u001b[0m\u001b[0mcount\u001b[0m\u001b[0;34m(\u001b[0m\u001b[0mcontig\u001b[0m\u001b[0;34m=\u001b[0m\u001b[0minsertion\u001b[0m\u001b[0;34m.\u001b[0m\u001b[0mchrom\u001b[0m\u001b[0;34m,\u001b[0m \u001b[0mstart\u001b[0m\u001b[0;34m=\u001b[0m\u001b[0minsertion\u001b[0m\u001b[0;34m.\u001b[0m\u001b[0mstart\u001b[0m\u001b[0;34m,\u001b[0m \u001b[0mend\u001b[0m\u001b[0;34m=\u001b[0m\u001b[0minsertion\u001b[0m\u001b[0;34m.\u001b[0m\u001b[0mend\u001b[0m\u001b[0;34m,\u001b[0m \u001b[0mread_callback\u001b[0m\u001b[0;34m=\u001b[0m\u001b[0mapply_filter_strategy\u001b[0m\u001b[0;34m)\u001b[0m\u001b[0;34m\u001b[0m\u001b[0;34m\u001b[0m\u001b[0m\n\u001b[0m\u001b[1;32m     11\u001b[0m     \u001b[0;32mreturn\u001b[0m \u001b[0;36m0\u001b[0m\u001b[0;34m\u001b[0m\u001b[0;34m\u001b[0m\u001b[0m\n\u001b[1;32m     12\u001b[0m \u001b[0;34m\u001b[0m\u001b[0m\n",
      "\u001b[0;32mpysam/libcalignmentfile.pyx\u001b[0m in \u001b[0;36mpysam.libcalignmentfile.AlignmentFile.count\u001b[0;34m()\u001b[0m\n",
      "\u001b[0;32m<ipython-input-64-3db9396548c9>\u001b[0m in \u001b[0;36mapply_filter_strategy\u001b[0;34m(read)\u001b[0m\n\u001b[1;32m      1\u001b[0m \u001b[0;32mdef\u001b[0m \u001b[0mattributing_reads_to_feature\u001b[0m\u001b[0;34m(\u001b[0m\u001b[0mbamfile\u001b[0m\u001b[0;34m,\u001b[0m \u001b[0mfamily_dict\u001b[0m\u001b[0;34m,\u001b[0m \u001b[0mgene_annotation\u001b[0m\u001b[0;34m,\u001b[0m \u001b[0mfilter_strategy\u001b[0m\u001b[0;34m)\u001b[0m\u001b[0;34m:\u001b[0m\u001b[0;34m\u001b[0m\u001b[0;34m\u001b[0m\u001b[0m\n\u001b[1;32m      2\u001b[0m     \u001b[0;32mdef\u001b[0m \u001b[0mapply_filter_strategy\u001b[0m\u001b[0;34m(\u001b[0m\u001b[0mread\u001b[0m\u001b[0;34m)\u001b[0m\u001b[0;34m:\u001b[0m\u001b[0;34m\u001b[0m\u001b[0;34m\u001b[0m\u001b[0m\n\u001b[0;32m----> 3\u001b[0;31m         \u001b[0;32mreturn\u001b[0m \u001b[0mfilter_strategy\u001b[0m\u001b[0;34m(\u001b[0m\u001b[0mread\u001b[0m\u001b[0;34m,\u001b[0m \u001b[0minsertion\u001b[0m\u001b[0;34m,\u001b[0m \u001b[0mgene_annotation\u001b[0m\u001b[0;34m)\u001b[0m\u001b[0;34m\u001b[0m\u001b[0;34m\u001b[0m\u001b[0m\n\u001b[0m\u001b[1;32m      4\u001b[0m     \u001b[0;31m# Faire une première pass sur les TEs puis une deuxième pour retirer les lectures qui mappent mieux sur un gène\u001b[0m\u001b[0;34m\u001b[0m\u001b[0;34m\u001b[0m\u001b[0;34m\u001b[0m\u001b[0m\n\u001b[1;32m      5\u001b[0m     \u001b[0mnb_family\u001b[0m \u001b[0;34m=\u001b[0m \u001b[0mlen\u001b[0m\u001b[0;34m(\u001b[0m\u001b[0mfamily_dict\u001b[0m\u001b[0;34m)\u001b[0m\u001b[0;34m\u001b[0m\u001b[0;34m\u001b[0m\u001b[0m\n",
      "\u001b[0;32m<ipython-input-64-3db9396548c9>\u001b[0m in \u001b[0;36mfilter_strategy2\u001b[0;34m(read, insertion, gene_annotations)\u001b[0m\n\u001b[1;32m     48\u001b[0m     \u001b[0;32mif\u001b[0m \u001b[0;32mnot\u001b[0m \u001b[0mfilter_out_co_expressed\u001b[0m\u001b[0;34m(\u001b[0m\u001b[0mread\u001b[0m\u001b[0;34m,\u001b[0m \u001b[0minsertion\u001b[0m\u001b[0;34m)\u001b[0m\u001b[0;34m:\u001b[0m\u001b[0;34m\u001b[0m\u001b[0;34m\u001b[0m\u001b[0m\n\u001b[1;32m     49\u001b[0m         \u001b[0;32mreturn\u001b[0m \u001b[0;32mFalse\u001b[0m\u001b[0;34m\u001b[0m\u001b[0;34m\u001b[0m\u001b[0m\n\u001b[0;32m---> 50\u001b[0;31m     \u001b[0moverlapped_genes\u001b[0m \u001b[0;34m=\u001b[0m \u001b[0mget_overlapped_genes\u001b[0m\u001b[0;34m(\u001b[0m\u001b[0mread\u001b[0m\u001b[0;34m,\u001b[0m \u001b[0mgene_annotations\u001b[0m\u001b[0;34m)\u001b[0m\u001b[0;34m\u001b[0m\u001b[0;34m\u001b[0m\u001b[0m\n\u001b[0m\u001b[1;32m     51\u001b[0m     \u001b[0mmax_nb_of_aligned_pb\u001b[0m \u001b[0;34m=\u001b[0m \u001b[0mread\u001b[0m\u001b[0;34m.\u001b[0m\u001b[0mget_overlap\u001b[0m\u001b[0;34m(\u001b[0m\u001b[0minsertion\u001b[0m\u001b[0;34m.\u001b[0m\u001b[0mstart\u001b[0m\u001b[0;34m,\u001b[0m \u001b[0minsertion\u001b[0m\u001b[0;34m.\u001b[0m\u001b[0mend\u001b[0m\u001b[0;34m)\u001b[0m\u001b[0;34m\u001b[0m\u001b[0;34m\u001b[0m\u001b[0m\n\u001b[1;32m     52\u001b[0m     \u001b[0mmax_aligned_feature\u001b[0m \u001b[0;34m=\u001b[0m \u001b[0minsertion\u001b[0m\u001b[0;34m\u001b[0m\u001b[0;34m\u001b[0m\u001b[0m\n",
      "\u001b[0;32m<ipython-input-64-3db9396548c9>\u001b[0m in \u001b[0;36mget_overlapped_genes\u001b[0;34m(read, gene_annotations)\u001b[0m\n\u001b[1;32m     30\u001b[0m \u001b[0;34m\u001b[0m\u001b[0m\n\u001b[1;32m     31\u001b[0m \u001b[0;32mdef\u001b[0m \u001b[0mget_overlapped_genes\u001b[0m\u001b[0;34m(\u001b[0m\u001b[0mread\u001b[0m\u001b[0;34m,\u001b[0m \u001b[0mgene_annotations\u001b[0m\u001b[0;34m)\u001b[0m\u001b[0;34m:\u001b[0m\u001b[0;34m\u001b[0m\u001b[0;34m\u001b[0m\u001b[0m\n\u001b[0;32m---> 32\u001b[0;31m     \u001b[0mexon_dict\u001b[0m \u001b[0;34m=\u001b[0m \u001b[0mparse_gene_annotations\u001b[0m\u001b[0;34m(\u001b[0m\u001b[0mgene_annotations\u001b[0m\u001b[0;34m)\u001b[0m\u001b[0;34m\u001b[0m\u001b[0;34m\u001b[0m\u001b[0m\n\u001b[0m\u001b[1;32m     33\u001b[0m     \u001b[0moverlapped_exons\u001b[0m \u001b[0;34m=\u001b[0m \u001b[0;34m[\u001b[0m\u001b[0;34m]\u001b[0m\u001b[0;34m\u001b[0m\u001b[0;34m\u001b[0m\u001b[0m\n\u001b[1;32m     34\u001b[0m     \u001b[0;32mfor\u001b[0m \u001b[0mexon\u001b[0m \u001b[0;32min\u001b[0m \u001b[0mexon_dict\u001b[0m\u001b[0;34m[\u001b[0m\u001b[0mread\u001b[0m\u001b[0;34m.\u001b[0m\u001b[0mreference_name\u001b[0m\u001b[0;34m]\u001b[0m\u001b[0;34m:\u001b[0m\u001b[0;34m\u001b[0m\u001b[0;34m\u001b[0m\u001b[0m\n",
      "\u001b[0;32m<ipython-input-64-3db9396548c9>\u001b[0m in \u001b[0;36mparse_gene_annotations\u001b[0;34m(gene_annotations)\u001b[0m\n\u001b[1;32m     15\u001b[0m     \u001b[0;32mwith\u001b[0m \u001b[0mopen\u001b[0m\u001b[0;34m(\u001b[0m\u001b[0mgene_annotations\u001b[0m\u001b[0;34m)\u001b[0m \u001b[0;32mas\u001b[0m \u001b[0mgene_annot\u001b[0m\u001b[0;34m:\u001b[0m\u001b[0;34m\u001b[0m\u001b[0;34m\u001b[0m\u001b[0m\n\u001b[1;32m     16\u001b[0m         \u001b[0;32mfor\u001b[0m \u001b[0mline\u001b[0m \u001b[0;32min\u001b[0m \u001b[0mgene_annot\u001b[0m\u001b[0;34m:\u001b[0m\u001b[0;34m\u001b[0m\u001b[0;34m\u001b[0m\u001b[0m\n\u001b[0;32m---> 17\u001b[0;31m             \u001b[0msline\u001b[0m \u001b[0;34m=\u001b[0m \u001b[0mline\u001b[0m\u001b[0;34m.\u001b[0m\u001b[0mstrip\u001b[0m\u001b[0;34m(\u001b[0m\u001b[0;34m)\u001b[0m\u001b[0;34m.\u001b[0m\u001b[0msplit\u001b[0m\u001b[0;34m(\u001b[0m\u001b[0;34m\"\\t\"\u001b[0m\u001b[0;34m)\u001b[0m\u001b[0;34m\u001b[0m\u001b[0;34m\u001b[0m\u001b[0m\n\u001b[0m\u001b[1;32m     18\u001b[0m             \u001b[0;32mif\u001b[0m \u001b[0;34m\"exon\"\u001b[0m \u001b[0;32min\u001b[0m \u001b[0msline\u001b[0m\u001b[0;34m[\u001b[0m\u001b[0;36m2\u001b[0m\u001b[0;34m]\u001b[0m\u001b[0;34m:\u001b[0m\u001b[0;34m\u001b[0m\u001b[0;34m\u001b[0m\u001b[0m\n\u001b[1;32m     19\u001b[0m                 \u001b[0mgene_id\u001b[0m \u001b[0;34m=\u001b[0m \u001b[0msline\u001b[0m\u001b[0;34m[\u001b[0m\u001b[0;36m8\u001b[0m\u001b[0;34m]\u001b[0m\u001b[0;34m.\u001b[0m\u001b[0msplit\u001b[0m\u001b[0;34m(\u001b[0m\u001b[0;34m'\"'\u001b[0m\u001b[0;34m)\u001b[0m\u001b[0;34m[\u001b[0m\u001b[0;36m1\u001b[0m\u001b[0;34m]\u001b[0m\u001b[0;34m\u001b[0m\u001b[0;34m\u001b[0m\u001b[0m\n",
      "\u001b[0;31mKeyboardInterrupt\u001b[0m: "
     ]
    }
   ],
   "metadata": {
    "tags": []
   }
  },
  {
   "cell_type": "code",
   "execution_count": 7,
   "source": [
    "def match_reads_with_insertions_bis(bamfile, family_dict, filter_strategy):\n",
    "    with pysam.AlignmentFile(bamfile, 'rb') as bam:\n",
    "        for family, insertion_list in family_dict.items():\n",
    "            for insertion in insertion_list:\n",
    "                reads_list = list(bam.fetch(contig=insertion.chrom, start=insertion.start, stop=insertion.end))\n",
    "                if len(reads_list) > 0:\n",
    "                    for read in reads_list:\n",
    "                        features_mapped = get_overlapped_features(read, TE_annotations, gene_annotations)\n",
    "                        # max_subject_coverage = max([get_subject_coverage(read, feature) for feature in features_mapped])\n",
    "                        # max_features = [feature ]\n",
    "                        # attraper toutes les features overlappées par ce read\n",
    "                        # Calculer le subject coverage pour chacune des features\n",
    "                        # attribuer la lecture à la feature avec le max subject_coverage\n",
    "                        # et tant qu'à faire, mean_subject_coverage de la feature s'il s'agit d'un TE\n",
    "\n",
    "                        print(read.query_name)\n",
    "                        break\n",
    "                    break\n",
    "            break\n",
    "\n",
    "def get_TE_counting_bis(filtered_bamfile, annotations, TE_hierarchy_df, filter_strategy):\n",
    "    family_dict = initiate_transposable_element_family_dict(annotations)\n",
    "    family_dict = match_reads_with_insertions_bis(filtered_bamfile, family_dict, filter_strategy)\n",
    "    # family_dict, TE_hierarchy_df = merge_family_splitted_between_intern_and_LTR(family_dict, TE_hierarchy_df)\n",
    "    return (family_dict, TE_hierarchy_df)\n",
    "\n",
    "# FC30_FAMILY_DICT_bis, HIERARCHY_DF_bis = get_TE_counting_bis(FC30_DMGOTH_MAX_AS_PRIMARY_ONLY_BAMFILE, REPEATMASKER_TE_ANNOTATIONS, HIERARCHY_DF, filter_out_co_expressed)\n"
   ],
   "outputs": [],
   "metadata": {
    "tags": []
   }
  },
  {
   "cell_type": "code",
   "execution_count": 61,
   "source": [
    "def merge_family_splitted_between_intern_and_LTR(family_dict, TE_hierarchy_df):\n",
    "    bad_suffix_list = [\"_I\", \"-I_DM\", \"_I_DM\", \"_LTR\", \"-LTR_DM\", \"_LTR_DM\"]\n",
    "    new_family_dict = {}\n",
    "    new_row_list = []\n",
    "    for family, insertion_list in family_dict.items() :\n",
    "        if family in list(TE_hierarchy_df[\"Family\"]):\n",
    "            new_family_dict[family] = insertion_list\n",
    "        else:\n",
    "            family_name_fixed = False\n",
    "            for bad_suffix in bad_suffix_list:\n",
    "                if family.endswith(bad_suffix):\n",
    "                    new_family = family[:-len(bad_suffix)]\n",
    "                    if not new_family in new_family_dict:\n",
    "                        new_family_dict[new_family] = insertion_list\n",
    "                    else :\n",
    "                        new_family_dict[new_family] += insertion_list\n",
    "            if family_name_fixed :\n",
    "                continue\n",
    "            else:\n",
    "                new_row_list.append([\"Unknown\", \"Unknown\", family])\n",
    "    TE_hierarchy_df.append(pd.DataFrame(new_row_list,  columns = TE_hierarchy_df.columns))\n",
    "    return (new_family_dict, TE_hierarchy_df)\n"
   ],
   "outputs": [],
   "metadata": {}
  },
  {
   "cell_type": "code",
   "execution_count": 62,
   "source": [
    "def get_TE_counting(filtered_bamfile, annotations, TE_hierarchy_df, filter_strategy):\n",
    "    family_dict = initiate_transposable_element_family_dict(annotations)\n",
    "    family_dict = match_reads_with_insertions(filtered_bamfile, family_dict, filter_strategy)\n",
    "    family_dict, TE_hierarchy_df = merge_family_splitted_between_intern_and_LTR(family_dict, TE_hierarchy_df)\n",
    "    return (family_dict, TE_hierarchy_df)\n",
    "# FC30_FAMILY_DICT, HIERARCHY_DF = get_TE_counting(FC30_DMGOTH_MAX_AS_BAMFILE, REPEATMASKER_TE_ANNOTATIONS, HIERARCHY_DF, filter_out_co_expressed)\n",
    "# FC29_FAMILY_DICT, HIERARCHY_DF = get_TE_counting(FC29_DMGOTH_MAX_AS_BAMFILE, REPEATMASKER_TE_ANNOTATIONS, HIERARCHY_DF, filter_out_co_expressed)\n",
    "\n",
    "FC30_FAMILY_DICT, HIERARCHY_DF = get_TE_counting(FC30_DMGOTH_MAX_AS_PRIMARY_ONLY_BAMFILE, REPEATMASKER_TE_ANNOTATIONS, HIERARCHY_DF, filter_out_co_expressed)\n",
    "FC29_FAMILY_DICT, HIERARCHY_DF = get_TE_counting(FC29_DMGOTH_MAX_AS_PRIMARY_ONLY_BAMFILE, REPEATMASKER_TE_ANNOTATIONS, HIERARCHY_DF, filter_out_co_expressed)"
   ],
   "outputs": [],
   "metadata": {}
  },
  {
   "cell_type": "code",
   "execution_count": 63,
   "source": [
    "def from_counting_to_df(counting_dict):\n",
    "    family_list = []\n",
    "    min_TE_length_list = []\n",
    "    max_TE_length_list = []\n",
    "    counting_list = []\n",
    "    nb_expressed_insertion_list = []\n",
    "    nb_insertion_list = []\n",
    "    most_expressed_insertion_list = []\n",
    "    for family, insertion_list in counting_dict.items():\n",
    "        family_list.append(family)\n",
    "        nb_insertion_list.append(len(insertion_list))\n",
    "        nb_expressed_insertion = 0\n",
    "        min_TE_length = 9999999999\n",
    "        max_TE_length = 0\n",
    "        family_counts = 0\n",
    "        most_expressed_insertion = None\n",
    "        max_count = 0\n",
    "        for insertion in insertion_list :\n",
    "            insertion_length = insertion.end - insertion.start\n",
    "            min_TE_length = min(min_TE_length, insertion_length)\n",
    "            max_TE_length = max(max_TE_length, insertion_length)\n",
    "            family_counts += insertion.counts\n",
    "            max_count = max(max_count,insertion.counts)\n",
    "            if insertion.counts >= max_count :\n",
    "                most_expressed_insertion = insertion.id\n",
    "            if insertion.counts > 0 :\n",
    "                nb_expressed_insertion += 1\n",
    "        nb_expressed_insertion_list.append(nb_expressed_insertion)\n",
    "        min_TE_length_list.append(min_TE_length)\n",
    "        max_TE_length_list.append(max_TE_length)\n",
    "        counting_list.append(family_counts)\n",
    "        most_expressed_insertion_list.append(most_expressed_insertion)\n",
    "        \n",
    "    counting_df = pd.DataFrame(list(zip(family_list, min_TE_length_list, max_TE_length_list, counting_list, nb_insertion_list, nb_expressed_insertion_list, most_expressed_insertion_list)), columns=[\"Family\", \"Min_TE_length\",\"Max_TE_length\", \"Counts\", \"nb_of_insertion\", \"nb_of_expressed_insertion\", \"Most_expressed_insertion\"])\n",
    "    return counting_df\n"
   ],
   "outputs": [],
   "metadata": {}
  },
  {
   "cell_type": "code",
   "execution_count": 64,
   "source": [
    "FC30_DMGOTH_COUNTING_DF = from_counting_to_df(FC30_FAMILY_DICT)\n",
    "FC29_DMGOTH_COUNTING_DF = from_counting_to_df(FC29_FAMILY_DICT)"
   ],
   "outputs": [],
   "metadata": {}
  },
  {
   "cell_type": "code",
   "execution_count": 65,
   "source": [
    "FC30_DMGOTH_COUNTING_DF.to_csv('FC30_DMGOTH_COUNTING_DF.filter_no_co-expressed.tsv', sep = '\\t', index=False)\n",
    "FC29_DMGOTH_COUNTING_DF.to_csv('FC29_DMGOTH_COUNTING_DF.filter_no_co-expressed.tsv', sep = '\\t', index=False)"
   ],
   "outputs": [],
   "metadata": {}
  },
  {
   "cell_type": "code",
   "execution_count": 66,
   "source": [
    "# def add_hierarchy_to_counting_df(counting_df, hierarchy_df):\n",
    "#     new_df = hierarchy_df.merge(counting_df, on='Family')\n",
    "#     return new_df\n",
    "# new_df = add_hierarchy_to_counting_df(FC29_DMGOTH_COUNTING_DF, HIERARCHY_DF)\n",
    "# new_df.head()"
   ],
   "outputs": [],
   "metadata": {}
  },
  {
   "cell_type": "code",
   "execution_count": 67,
   "source": [
    "def create_table_from_counting(female_counting, male_counting, hierarchy):\n",
    "    male_counting = male_counting.drop(columns=[\"Min_TE_length\", \"Max_TE_length\", \"nb_of_insertion\"])\n",
    "    TE_data_table = hierarchy.merge(female_counting, on='Family').merge(male_counting, on='Family')\n",
    "    TE_data_table.columns = [\"Subclass\", \"Superfamily\", \"Family\", \"Min_TE_length\", \"Max_TE_length\", \"Female_Counts\", \"Nb_of_insertion\", \"Female_nb_of_expressed_insertion\", \"Female_most_expressed_insertion\", \"Male_Counts\", \"Male_nb_of_expressed_insertion\", \"Male_most_expressed_insertion\"]\n",
    "    TE_data_table = TE_data_table[[\"Subclass\", \"Superfamily\", \"Family\", \"Nb_of_insertion\", \"Min_TE_length\", \"Max_TE_length\", \"Female_Counts\", \"Female_nb_of_expressed_insertion\", \"Female_most_expressed_insertion\", \"Male_Counts\", \"Male_nb_of_expressed_insertion\", \"Male_most_expressed_insertion\"]]\n",
    "    return TE_data_table\n",
    "\n",
    "TE_data_table = create_table_from_counting(FC30_DMGOTH_COUNTING_DF, FC29_DMGOTH_COUNTING_DF, HIERARCHY_DF)\n",
    "\n"
   ],
   "outputs": [],
   "metadata": {}
  },
  {
   "cell_type": "code",
   "execution_count": 68,
   "source": [
    "TE_data_table.sort_values(by=\"Male_Counts\", axis=0,  ascending=False).head(10)\n",
    "TE_data_table.to_csv('TE_data_table.tsv', sep = '\\t', index=False)"
   ],
   "outputs": [],
   "metadata": {}
  },
  {
   "cell_type": "code",
   "execution_count": 3,
   "source": [
    "TE_data_table = pd.read_csv('TE_data_table.tsv', sep = '\\t')"
   ],
   "outputs": [],
   "metadata": {}
  },
  {
   "cell_type": "code",
   "execution_count": 69,
   "source": [
    "def write_insertion_table(male_family_dict, female_family_dict, outputfile):\n",
    "    with open(outputfile, 'w') as output:\n",
    "        output.write(\"insertion_id\\tfemale_count\\tmale_count\\n\")\n",
    "        for family_name in male_family_dict.keys():\n",
    "            male_insertion_list = male_family_dict[family_name]\n",
    "            female_insertion_list = female_family_dict[family_name]\n",
    "            for index, insertion in enumerate(male_insertion_list):\n",
    "\n",
    "                insertion_id = male_insertion_list[index].id\n",
    "                male_count = male_insertion_list[index].counts\n",
    "                female_count = female_insertion_list[index].counts\n",
    "                if male_count > 0 or female_count > 0 :\n",
    "                    output.write(\"\\t\".join([insertion.id, str(female_count), str(male_count)]) + \"\\n\")\n",
    "\n",
    "write_insertion_table(FC29_FAMILY_DICT, FC30_FAMILY_DICT, INSERTION_TABLE)"
   ],
   "outputs": [],
   "metadata": {}
  },
  {
   "cell_type": "code",
   "execution_count": 5,
   "source": [
    "def plot_TE_expression_profile_by_family(TE_data_table):\n",
    "\n",
    "    fig = make_subplots(rows=1, cols=2, specs=[[{'type':'domain'}, {'type':'domain'}]])\n",
    "\n",
    "    fig.add_trace(\n",
    "        go.Pie(labels=TE_data_table[\"Superfamily\"], values=TE_data_table[\"Female_Counts\"], textinfo='value', name = \"Female\"),\n",
    "        1, 1)\n",
    "\n",
    "    fig.add_trace(\n",
    "        go.Pie(labels=TE_data_table[\"Superfamily\"], values=TE_data_table[\"Male_Counts\"], textinfo='value', name = \"Male\"),\n",
    "        1, 2)\n",
    "    fig.update_traces(hole=.4, hoverinfo=\"label+value\")\n",
    "\n",
    "    fig.update_layout(\n",
    "        title_text= \"Superfamily expression profile\",\n",
    "        width=1200,\n",
    "        height=500,\n",
    "        # Add annotations in the center of the donut pies.\n",
    "        annotations=[dict(text='Female', x=0.19, y=0.5, font_size=20, showarrow=False),\n",
    "                    dict(text='Male', x=0.80, y=0.5, font_size=20, showarrow=False)])\n",
    "    fig.show()"
   ],
   "outputs": [],
   "metadata": {}
  },
  {
   "cell_type": "code",
   "execution_count": 6,
   "source": [
    "def plot_TE_expression_profile_by_superfamily(TE_data_table):\n",
    "    fig = make_subplots(rows=1, cols=2, specs=[[{'type':'domain'}, {'type':'domain'}]])\n",
    "\n",
    "    fig.add_trace(\n",
    "        go.Pie(labels=TE_data_table[\"Subclass\"], values=TE_data_table[\"Female_Counts\"], textinfo='value', name = \"Female\"),\n",
    "        1, 1)\n",
    "\n",
    "    fig.add_trace(\n",
    "        go.Pie(labels=TE_data_table[\"Subclass\"], values=TE_data_table[\"Male_Counts\"], textinfo='value', name = \"Male\"),\n",
    "        1, 2)\n",
    "    fig.update_traces(hole=.4, hoverinfo=\"label+value\")\n",
    "\n",
    "    fig.update_layout(\n",
    "        title_text= \"Subclass expression profile\",\n",
    "        width=1200,\n",
    "        height=500,\n",
    "        # Add annotations in the center of the donut pies.\n",
    "        annotations=[dict(text='Female', x=0.19, y=0.5, font_size=20, showarrow=False),\n",
    "                    dict(text='Male', x=0.80, y=0.5, font_size=20, showarrow=False)])\n",
    "    fig.show()"
   ],
   "outputs": [],
   "metadata": {}
  },
  {
   "cell_type": "code",
   "execution_count": 7,
   "source": [
    "plot_TE_expression_profile_by_family(TE_data_table)"
   ],
   "outputs": [
    {
     "output_type": "display_data",
     "data": {
      "text/html": [
       "<div>                            <div id=\"5f178c48-978e-4a38-8562-784cc28c035c\" class=\"plotly-graph-div\" style=\"height:500px; width:1200px;\"></div>            <script type=\"text/javascript\">                require([\"plotly\"], function(Plotly) {                    window.PLOTLYENV=window.PLOTLYENV || {};                                    if (document.getElementById(\"5f178c48-978e-4a38-8562-784cc28c035c\")) {                    Plotly.newPlot(                        \"5f178c48-978e-4a38-8562-784cc28c035c\",                        [{\"domain\":{\"x\":[0.0,0.45],\"y\":[0.0,1.0]},\"hole\":0.4,\"hoverinfo\":\"label+value\",\"labels\":[\"R1-LOA\",\"TcMar-Tc1\",\"TcMar-Tc1\",\"I-Jockey\",\"I-Jockey\",\"I-Jockey\",\"I-Jockey\",\"Gypsy\",\"Gypsy\",\"Gypsy\",\"CR1\",\"Gypsy\",\"R1\",\"R1\",\"R1\",\"Helitron\",\"I-Jockey\",\"I-Jockey\",\"I-Jockey\",\"I-Jockey\",\"I-Jockey\",\"I-Jockey\",\"TcMar-Tc1\",\"I-Jockey\",\"I-Jockey\",\"I-Jockey\",\"I-Jockey\",\"I-Jockey\",\"I-Jockey\",\"I-Jockey\",\"I-Jockey\",\"I-Jockey\",\"I-Jockey\",\"Gypsy\",\"Gypsy\",\"I-Jockey\",\"Helitron\",\"I-Jockey\",\"Gypsy\",\"hAT-hobo\",\"I\",\"I\",\"I-Jockey\",\"I-Jockey\",\"PiggyBac\",\"CMC-Transib\",\"TcMar-Tc1\",\"TcMar-Tc1\",\"MULE-NOF\",\"P\",\"TcMar-Pogo\",\"TcMar-Pogo\",\"P\",\"P\",\"P\",\"R1\",\"R1\",\"R2\",\"TcMar-Tc1\",\"Gypsy\",\"I-Jockey\",\"I-Jockey\",\"I-Jockey\",\"TcMar-Tc1\",\"TcMar-Tc1\",\"Gypsy\",\"CMC-Transib\",\"CMC-Transib\",\"CMC-Transib\",\"CMC-Transib\",\"CMC-Transib\",\"CMC-Transib\",\"TcMar-Tc1\",\"Gypsy\",\"Gypsy\",\"Gypsy\",\"Pao\",\"Pao\",\"Gypsy\",\"Gypsy\",\"Gypsy\",\"Gypsy\",\"Gypsy\",\"Gypsy\",\"Copia\",\"Copia\",\"Copia\",\"Pao\",\"Pao\",\"Copia\",\"Gypsy\",\"Gypsy\",\"Gypsy\",\"Copia\",\"Gypsy\",\"Gypsy\",\"Gypsy\",\"Gypsy\",\"Gypsy\",\"Gypsy\",\"Gypsy\",\"Gypsy\",\"Gypsy\",\"Gypsy\",\"Gypsy\",\"Gypsy\",\"Gypsy\",\"Gypsy\",\"Gypsy\",\"Gypsy\",\"Gypsy\",\"Gypsy\",\"Gypsy\",\"Gypsy\",\"Gypsy\",\"Pao\",\"Gypsy\",\"Gypsy\",\"Gypsy\",\"Pao\",\"Gypsy\",\"Gypsy\",\"Gypsy\",\"Pao\",\"Pao\",\"Gypsy\",\"Gypsy\",\"Gypsy\",\"Gypsy\",\"Gypsy\",\"Gypsy\"],\"name\":\"Female\",\"textinfo\":\"value\",\"type\":\"pie\",\"values\":[2,0,1,2,1,0,0,0,8,1,84,0,1,3,0,4,7,0,2,0,3,3,3,2,0,0,2,0,0,0,0,0,0,12,0,0,0,14,0,1,4,6,0,0,0,2,1,0,0,0,220,0,2,0,5,0,3,0,6,0,7,15,7,3,1,0,0,1,16,0,1,0,0,1,7,3,2,0,0,6,15,4,3,19,1,2,161,0,0,3,4,6,0,0,2,1,2,65,12,2,0,1,0,0,1,3,0,11,4,4,1,0,1,0,5,11,12,0,36,0,2,1,10,1,517,2,19,2,1,2,0]},{\"domain\":{\"x\":[0.55,1.0],\"y\":[0.0,1.0]},\"hole\":0.4,\"hoverinfo\":\"label+value\",\"labels\":[\"R1-LOA\",\"TcMar-Tc1\",\"TcMar-Tc1\",\"I-Jockey\",\"I-Jockey\",\"I-Jockey\",\"I-Jockey\",\"Gypsy\",\"Gypsy\",\"Gypsy\",\"CR1\",\"Gypsy\",\"R1\",\"R1\",\"R1\",\"Helitron\",\"I-Jockey\",\"I-Jockey\",\"I-Jockey\",\"I-Jockey\",\"I-Jockey\",\"I-Jockey\",\"TcMar-Tc1\",\"I-Jockey\",\"I-Jockey\",\"I-Jockey\",\"I-Jockey\",\"I-Jockey\",\"I-Jockey\",\"I-Jockey\",\"I-Jockey\",\"I-Jockey\",\"I-Jockey\",\"Gypsy\",\"Gypsy\",\"I-Jockey\",\"Helitron\",\"I-Jockey\",\"Gypsy\",\"hAT-hobo\",\"I\",\"I\",\"I-Jockey\",\"I-Jockey\",\"PiggyBac\",\"CMC-Transib\",\"TcMar-Tc1\",\"TcMar-Tc1\",\"MULE-NOF\",\"P\",\"TcMar-Pogo\",\"TcMar-Pogo\",\"P\",\"P\",\"P\",\"R1\",\"R1\",\"R2\",\"TcMar-Tc1\",\"Gypsy\",\"I-Jockey\",\"I-Jockey\",\"I-Jockey\",\"TcMar-Tc1\",\"TcMar-Tc1\",\"Gypsy\",\"CMC-Transib\",\"CMC-Transib\",\"CMC-Transib\",\"CMC-Transib\",\"CMC-Transib\",\"CMC-Transib\",\"TcMar-Tc1\",\"Gypsy\",\"Gypsy\",\"Gypsy\",\"Pao\",\"Pao\",\"Gypsy\",\"Gypsy\",\"Gypsy\",\"Gypsy\",\"Gypsy\",\"Gypsy\",\"Copia\",\"Copia\",\"Copia\",\"Pao\",\"Pao\",\"Copia\",\"Gypsy\",\"Gypsy\",\"Gypsy\",\"Copia\",\"Gypsy\",\"Gypsy\",\"Gypsy\",\"Gypsy\",\"Gypsy\",\"Gypsy\",\"Gypsy\",\"Gypsy\",\"Gypsy\",\"Gypsy\",\"Gypsy\",\"Gypsy\",\"Gypsy\",\"Gypsy\",\"Gypsy\",\"Gypsy\",\"Gypsy\",\"Gypsy\",\"Gypsy\",\"Gypsy\",\"Gypsy\",\"Pao\",\"Gypsy\",\"Gypsy\",\"Gypsy\",\"Pao\",\"Gypsy\",\"Gypsy\",\"Gypsy\",\"Pao\",\"Pao\",\"Gypsy\",\"Gypsy\",\"Gypsy\",\"Gypsy\",\"Gypsy\",\"Gypsy\"],\"name\":\"Male\",\"textinfo\":\"value\",\"type\":\"pie\",\"values\":[13,5,0,3,10,9,1,31,14,5,117,28,25,17,1,43,28,33,23,14,3,15,82,29,32,1,9,48,70,5,2,0,15,59,13,0,0,785,4,1,47,1,104,28,1,67,61,0,0,0,30,0,21,5,6,0,0,0,14,0,668,210,260,0,0,0,0,151,7,1,2,0,1,31,13,2,15,27,4,179,1,58,2,22,20,9,310,75,3,43,35,17,4,42,2,517,1,97,34,15,1,9,1,4,2,8,24,160,65,5,6,6,3,1,8,40,23,8,51,10,599,3,168,4,199,5,27,9,6,71,116]}],                        {\"annotations\":[{\"font\":{\"size\":20},\"showarrow\":false,\"text\":\"Female\",\"x\":0.19,\"y\":0.5},{\"font\":{\"size\":20},\"showarrow\":false,\"text\":\"Male\",\"x\":0.8,\"y\":0.5}],\"height\":500,\"template\":{\"data\":{\"bar\":[{\"error_x\":{\"color\":\"#2a3f5f\"},\"error_y\":{\"color\":\"#2a3f5f\"},\"marker\":{\"line\":{\"color\":\"#E5ECF6\",\"width\":0.5},\"pattern\":{\"fillmode\":\"overlay\",\"size\":10,\"solidity\":0.2}},\"type\":\"bar\"}],\"barpolar\":[{\"marker\":{\"line\":{\"color\":\"#E5ECF6\",\"width\":0.5},\"pattern\":{\"fillmode\":\"overlay\",\"size\":10,\"solidity\":0.2}},\"type\":\"barpolar\"}],\"carpet\":[{\"aaxis\":{\"endlinecolor\":\"#2a3f5f\",\"gridcolor\":\"white\",\"linecolor\":\"white\",\"minorgridcolor\":\"white\",\"startlinecolor\":\"#2a3f5f\"},\"baxis\":{\"endlinecolor\":\"#2a3f5f\",\"gridcolor\":\"white\",\"linecolor\":\"white\",\"minorgridcolor\":\"white\",\"startlinecolor\":\"#2a3f5f\"},\"type\":\"carpet\"}],\"choropleth\":[{\"colorbar\":{\"outlinewidth\":0,\"ticks\":\"\"},\"type\":\"choropleth\"}],\"contour\":[{\"colorbar\":{\"outlinewidth\":0,\"ticks\":\"\"},\"colorscale\":[[0.0,\"#0d0887\"],[0.1111111111111111,\"#46039f\"],[0.2222222222222222,\"#7201a8\"],[0.3333333333333333,\"#9c179e\"],[0.4444444444444444,\"#bd3786\"],[0.5555555555555556,\"#d8576b\"],[0.6666666666666666,\"#ed7953\"],[0.7777777777777778,\"#fb9f3a\"],[0.8888888888888888,\"#fdca26\"],[1.0,\"#f0f921\"]],\"type\":\"contour\"}],\"contourcarpet\":[{\"colorbar\":{\"outlinewidth\":0,\"ticks\":\"\"},\"type\":\"contourcarpet\"}],\"heatmap\":[{\"colorbar\":{\"outlinewidth\":0,\"ticks\":\"\"},\"colorscale\":[[0.0,\"#0d0887\"],[0.1111111111111111,\"#46039f\"],[0.2222222222222222,\"#7201a8\"],[0.3333333333333333,\"#9c179e\"],[0.4444444444444444,\"#bd3786\"],[0.5555555555555556,\"#d8576b\"],[0.6666666666666666,\"#ed7953\"],[0.7777777777777778,\"#fb9f3a\"],[0.8888888888888888,\"#fdca26\"],[1.0,\"#f0f921\"]],\"type\":\"heatmap\"}],\"heatmapgl\":[{\"colorbar\":{\"outlinewidth\":0,\"ticks\":\"\"},\"colorscale\":[[0.0,\"#0d0887\"],[0.1111111111111111,\"#46039f\"],[0.2222222222222222,\"#7201a8\"],[0.3333333333333333,\"#9c179e\"],[0.4444444444444444,\"#bd3786\"],[0.5555555555555556,\"#d8576b\"],[0.6666666666666666,\"#ed7953\"],[0.7777777777777778,\"#fb9f3a\"],[0.8888888888888888,\"#fdca26\"],[1.0,\"#f0f921\"]],\"type\":\"heatmapgl\"}],\"histogram\":[{\"marker\":{\"pattern\":{\"fillmode\":\"overlay\",\"size\":10,\"solidity\":0.2}},\"type\":\"histogram\"}],\"histogram2d\":[{\"colorbar\":{\"outlinewidth\":0,\"ticks\":\"\"},\"colorscale\":[[0.0,\"#0d0887\"],[0.1111111111111111,\"#46039f\"],[0.2222222222222222,\"#7201a8\"],[0.3333333333333333,\"#9c179e\"],[0.4444444444444444,\"#bd3786\"],[0.5555555555555556,\"#d8576b\"],[0.6666666666666666,\"#ed7953\"],[0.7777777777777778,\"#fb9f3a\"],[0.8888888888888888,\"#fdca26\"],[1.0,\"#f0f921\"]],\"type\":\"histogram2d\"}],\"histogram2dcontour\":[{\"colorbar\":{\"outlinewidth\":0,\"ticks\":\"\"},\"colorscale\":[[0.0,\"#0d0887\"],[0.1111111111111111,\"#46039f\"],[0.2222222222222222,\"#7201a8\"],[0.3333333333333333,\"#9c179e\"],[0.4444444444444444,\"#bd3786\"],[0.5555555555555556,\"#d8576b\"],[0.6666666666666666,\"#ed7953\"],[0.7777777777777778,\"#fb9f3a\"],[0.8888888888888888,\"#fdca26\"],[1.0,\"#f0f921\"]],\"type\":\"histogram2dcontour\"}],\"mesh3d\":[{\"colorbar\":{\"outlinewidth\":0,\"ticks\":\"\"},\"type\":\"mesh3d\"}],\"parcoords\":[{\"line\":{\"colorbar\":{\"outlinewidth\":0,\"ticks\":\"\"}},\"type\":\"parcoords\"}],\"pie\":[{\"automargin\":true,\"type\":\"pie\"}],\"scatter\":[{\"marker\":{\"colorbar\":{\"outlinewidth\":0,\"ticks\":\"\"}},\"type\":\"scatter\"}],\"scatter3d\":[{\"line\":{\"colorbar\":{\"outlinewidth\":0,\"ticks\":\"\"}},\"marker\":{\"colorbar\":{\"outlinewidth\":0,\"ticks\":\"\"}},\"type\":\"scatter3d\"}],\"scattercarpet\":[{\"marker\":{\"colorbar\":{\"outlinewidth\":0,\"ticks\":\"\"}},\"type\":\"scattercarpet\"}],\"scattergeo\":[{\"marker\":{\"colorbar\":{\"outlinewidth\":0,\"ticks\":\"\"}},\"type\":\"scattergeo\"}],\"scattergl\":[{\"marker\":{\"colorbar\":{\"outlinewidth\":0,\"ticks\":\"\"}},\"type\":\"scattergl\"}],\"scattermapbox\":[{\"marker\":{\"colorbar\":{\"outlinewidth\":0,\"ticks\":\"\"}},\"type\":\"scattermapbox\"}],\"scatterpolar\":[{\"marker\":{\"colorbar\":{\"outlinewidth\":0,\"ticks\":\"\"}},\"type\":\"scatterpolar\"}],\"scatterpolargl\":[{\"marker\":{\"colorbar\":{\"outlinewidth\":0,\"ticks\":\"\"}},\"type\":\"scatterpolargl\"}],\"scatterternary\":[{\"marker\":{\"colorbar\":{\"outlinewidth\":0,\"ticks\":\"\"}},\"type\":\"scatterternary\"}],\"surface\":[{\"colorbar\":{\"outlinewidth\":0,\"ticks\":\"\"},\"colorscale\":[[0.0,\"#0d0887\"],[0.1111111111111111,\"#46039f\"],[0.2222222222222222,\"#7201a8\"],[0.3333333333333333,\"#9c179e\"],[0.4444444444444444,\"#bd3786\"],[0.5555555555555556,\"#d8576b\"],[0.6666666666666666,\"#ed7953\"],[0.7777777777777778,\"#fb9f3a\"],[0.8888888888888888,\"#fdca26\"],[1.0,\"#f0f921\"]],\"type\":\"surface\"}],\"table\":[{\"cells\":{\"fill\":{\"color\":\"#EBF0F8\"},\"line\":{\"color\":\"white\"}},\"header\":{\"fill\":{\"color\":\"#C8D4E3\"},\"line\":{\"color\":\"white\"}},\"type\":\"table\"}]},\"layout\":{\"annotationdefaults\":{\"arrowcolor\":\"#2a3f5f\",\"arrowhead\":0,\"arrowwidth\":1},\"autotypenumbers\":\"strict\",\"coloraxis\":{\"colorbar\":{\"outlinewidth\":0,\"ticks\":\"\"}},\"colorscale\":{\"diverging\":[[0,\"#8e0152\"],[0.1,\"#c51b7d\"],[0.2,\"#de77ae\"],[0.3,\"#f1b6da\"],[0.4,\"#fde0ef\"],[0.5,\"#f7f7f7\"],[0.6,\"#e6f5d0\"],[0.7,\"#b8e186\"],[0.8,\"#7fbc41\"],[0.9,\"#4d9221\"],[1,\"#276419\"]],\"sequential\":[[0.0,\"#0d0887\"],[0.1111111111111111,\"#46039f\"],[0.2222222222222222,\"#7201a8\"],[0.3333333333333333,\"#9c179e\"],[0.4444444444444444,\"#bd3786\"],[0.5555555555555556,\"#d8576b\"],[0.6666666666666666,\"#ed7953\"],[0.7777777777777778,\"#fb9f3a\"],[0.8888888888888888,\"#fdca26\"],[1.0,\"#f0f921\"]],\"sequentialminus\":[[0.0,\"#0d0887\"],[0.1111111111111111,\"#46039f\"],[0.2222222222222222,\"#7201a8\"],[0.3333333333333333,\"#9c179e\"],[0.4444444444444444,\"#bd3786\"],[0.5555555555555556,\"#d8576b\"],[0.6666666666666666,\"#ed7953\"],[0.7777777777777778,\"#fb9f3a\"],[0.8888888888888888,\"#fdca26\"],[1.0,\"#f0f921\"]]},\"colorway\":[\"#636efa\",\"#EF553B\",\"#00cc96\",\"#ab63fa\",\"#FFA15A\",\"#19d3f3\",\"#FF6692\",\"#B6E880\",\"#FF97FF\",\"#FECB52\"],\"font\":{\"color\":\"#2a3f5f\"},\"geo\":{\"bgcolor\":\"white\",\"lakecolor\":\"white\",\"landcolor\":\"#E5ECF6\",\"showlakes\":true,\"showland\":true,\"subunitcolor\":\"white\"},\"hoverlabel\":{\"align\":\"left\"},\"hovermode\":\"closest\",\"mapbox\":{\"style\":\"light\"},\"paper_bgcolor\":\"white\",\"plot_bgcolor\":\"#E5ECF6\",\"polar\":{\"angularaxis\":{\"gridcolor\":\"white\",\"linecolor\":\"white\",\"ticks\":\"\"},\"bgcolor\":\"#E5ECF6\",\"radialaxis\":{\"gridcolor\":\"white\",\"linecolor\":\"white\",\"ticks\":\"\"}},\"scene\":{\"xaxis\":{\"backgroundcolor\":\"#E5ECF6\",\"gridcolor\":\"white\",\"gridwidth\":2,\"linecolor\":\"white\",\"showbackground\":true,\"ticks\":\"\",\"zerolinecolor\":\"white\"},\"yaxis\":{\"backgroundcolor\":\"#E5ECF6\",\"gridcolor\":\"white\",\"gridwidth\":2,\"linecolor\":\"white\",\"showbackground\":true,\"ticks\":\"\",\"zerolinecolor\":\"white\"},\"zaxis\":{\"backgroundcolor\":\"#E5ECF6\",\"gridcolor\":\"white\",\"gridwidth\":2,\"linecolor\":\"white\",\"showbackground\":true,\"ticks\":\"\",\"zerolinecolor\":\"white\"}},\"shapedefaults\":{\"line\":{\"color\":\"#2a3f5f\"}},\"ternary\":{\"aaxis\":{\"gridcolor\":\"white\",\"linecolor\":\"white\",\"ticks\":\"\"},\"baxis\":{\"gridcolor\":\"white\",\"linecolor\":\"white\",\"ticks\":\"\"},\"bgcolor\":\"#E5ECF6\",\"caxis\":{\"gridcolor\":\"white\",\"linecolor\":\"white\",\"ticks\":\"\"}},\"title\":{\"x\":0.05},\"xaxis\":{\"automargin\":true,\"gridcolor\":\"white\",\"linecolor\":\"white\",\"ticks\":\"\",\"title\":{\"standoff\":15},\"zerolinecolor\":\"white\",\"zerolinewidth\":2},\"yaxis\":{\"automargin\":true,\"gridcolor\":\"white\",\"linecolor\":\"white\",\"ticks\":\"\",\"title\":{\"standoff\":15},\"zerolinecolor\":\"white\",\"zerolinewidth\":2}}},\"title\":{\"text\":\"Superfamily expression profile\"},\"width\":1200},                        {\"responsive\": true}                    ).then(function(){\n",
       "                            \n",
       "var gd = document.getElementById('5f178c48-978e-4a38-8562-784cc28c035c');\n",
       "var x = new MutationObserver(function (mutations, observer) {{\n",
       "        var display = window.getComputedStyle(gd).display;\n",
       "        if (!display || display === 'none') {{\n",
       "            console.log([gd, 'removed!']);\n",
       "            Plotly.purge(gd);\n",
       "            observer.disconnect();\n",
       "        }}\n",
       "}});\n",
       "\n",
       "// Listen for the removal of the full notebook cells\n",
       "var notebookContainer = gd.closest('#notebook-container');\n",
       "if (notebookContainer) {{\n",
       "    x.observe(notebookContainer, {childList: true});\n",
       "}}\n",
       "\n",
       "// Listen for the clearing of the current output cell\n",
       "var outputEl = gd.closest('.output');\n",
       "if (outputEl) {{\n",
       "    x.observe(outputEl, {childList: true});\n",
       "}}\n",
       "\n",
       "                        })                };                });            </script>        </div>"
      ],
      "application/vnd.plotly.v1+json": {
       "config": {
        "plotlyServerURL": "https://plot.ly"
       },
       "data": [
        {
         "domain": {
          "x": [
           0,
           0.45
          ],
          "y": [
           0,
           1
          ]
         },
         "hole": 0.4,
         "hoverinfo": "label+value",
         "labels": [
          "R1-LOA",
          "TcMar-Tc1",
          "TcMar-Tc1",
          "I-Jockey",
          "I-Jockey",
          "I-Jockey",
          "I-Jockey",
          "Gypsy",
          "Gypsy",
          "Gypsy",
          "CR1",
          "Gypsy",
          "R1",
          "R1",
          "R1",
          "Helitron",
          "I-Jockey",
          "I-Jockey",
          "I-Jockey",
          "I-Jockey",
          "I-Jockey",
          "I-Jockey",
          "TcMar-Tc1",
          "I-Jockey",
          "I-Jockey",
          "I-Jockey",
          "I-Jockey",
          "I-Jockey",
          "I-Jockey",
          "I-Jockey",
          "I-Jockey",
          "I-Jockey",
          "I-Jockey",
          "Gypsy",
          "Gypsy",
          "I-Jockey",
          "Helitron",
          "I-Jockey",
          "Gypsy",
          "hAT-hobo",
          "I",
          "I",
          "I-Jockey",
          "I-Jockey",
          "PiggyBac",
          "CMC-Transib",
          "TcMar-Tc1",
          "TcMar-Tc1",
          "MULE-NOF",
          "P",
          "TcMar-Pogo",
          "TcMar-Pogo",
          "P",
          "P",
          "P",
          "R1",
          "R1",
          "R2",
          "TcMar-Tc1",
          "Gypsy",
          "I-Jockey",
          "I-Jockey",
          "I-Jockey",
          "TcMar-Tc1",
          "TcMar-Tc1",
          "Gypsy",
          "CMC-Transib",
          "CMC-Transib",
          "CMC-Transib",
          "CMC-Transib",
          "CMC-Transib",
          "CMC-Transib",
          "TcMar-Tc1",
          "Gypsy",
          "Gypsy",
          "Gypsy",
          "Pao",
          "Pao",
          "Gypsy",
          "Gypsy",
          "Gypsy",
          "Gypsy",
          "Gypsy",
          "Gypsy",
          "Copia",
          "Copia",
          "Copia",
          "Pao",
          "Pao",
          "Copia",
          "Gypsy",
          "Gypsy",
          "Gypsy",
          "Copia",
          "Gypsy",
          "Gypsy",
          "Gypsy",
          "Gypsy",
          "Gypsy",
          "Gypsy",
          "Gypsy",
          "Gypsy",
          "Gypsy",
          "Gypsy",
          "Gypsy",
          "Gypsy",
          "Gypsy",
          "Gypsy",
          "Gypsy",
          "Gypsy",
          "Gypsy",
          "Gypsy",
          "Gypsy",
          "Gypsy",
          "Gypsy",
          "Pao",
          "Gypsy",
          "Gypsy",
          "Gypsy",
          "Pao",
          "Gypsy",
          "Gypsy",
          "Gypsy",
          "Pao",
          "Pao",
          "Gypsy",
          "Gypsy",
          "Gypsy",
          "Gypsy",
          "Gypsy",
          "Gypsy"
         ],
         "name": "Female",
         "textinfo": "value",
         "type": "pie",
         "values": [
          2,
          0,
          1,
          2,
          1,
          0,
          0,
          0,
          8,
          1,
          84,
          0,
          1,
          3,
          0,
          4,
          7,
          0,
          2,
          0,
          3,
          3,
          3,
          2,
          0,
          0,
          2,
          0,
          0,
          0,
          0,
          0,
          0,
          12,
          0,
          0,
          0,
          14,
          0,
          1,
          4,
          6,
          0,
          0,
          0,
          2,
          1,
          0,
          0,
          0,
          220,
          0,
          2,
          0,
          5,
          0,
          3,
          0,
          6,
          0,
          7,
          15,
          7,
          3,
          1,
          0,
          0,
          1,
          16,
          0,
          1,
          0,
          0,
          1,
          7,
          3,
          2,
          0,
          0,
          6,
          15,
          4,
          3,
          19,
          1,
          2,
          161,
          0,
          0,
          3,
          4,
          6,
          0,
          0,
          2,
          1,
          2,
          65,
          12,
          2,
          0,
          1,
          0,
          0,
          1,
          3,
          0,
          11,
          4,
          4,
          1,
          0,
          1,
          0,
          5,
          11,
          12,
          0,
          36,
          0,
          2,
          1,
          10,
          1,
          517,
          2,
          19,
          2,
          1,
          2,
          0
         ]
        },
        {
         "domain": {
          "x": [
           0.55,
           1
          ],
          "y": [
           0,
           1
          ]
         },
         "hole": 0.4,
         "hoverinfo": "label+value",
         "labels": [
          "R1-LOA",
          "TcMar-Tc1",
          "TcMar-Tc1",
          "I-Jockey",
          "I-Jockey",
          "I-Jockey",
          "I-Jockey",
          "Gypsy",
          "Gypsy",
          "Gypsy",
          "CR1",
          "Gypsy",
          "R1",
          "R1",
          "R1",
          "Helitron",
          "I-Jockey",
          "I-Jockey",
          "I-Jockey",
          "I-Jockey",
          "I-Jockey",
          "I-Jockey",
          "TcMar-Tc1",
          "I-Jockey",
          "I-Jockey",
          "I-Jockey",
          "I-Jockey",
          "I-Jockey",
          "I-Jockey",
          "I-Jockey",
          "I-Jockey",
          "I-Jockey",
          "I-Jockey",
          "Gypsy",
          "Gypsy",
          "I-Jockey",
          "Helitron",
          "I-Jockey",
          "Gypsy",
          "hAT-hobo",
          "I",
          "I",
          "I-Jockey",
          "I-Jockey",
          "PiggyBac",
          "CMC-Transib",
          "TcMar-Tc1",
          "TcMar-Tc1",
          "MULE-NOF",
          "P",
          "TcMar-Pogo",
          "TcMar-Pogo",
          "P",
          "P",
          "P",
          "R1",
          "R1",
          "R2",
          "TcMar-Tc1",
          "Gypsy",
          "I-Jockey",
          "I-Jockey",
          "I-Jockey",
          "TcMar-Tc1",
          "TcMar-Tc1",
          "Gypsy",
          "CMC-Transib",
          "CMC-Transib",
          "CMC-Transib",
          "CMC-Transib",
          "CMC-Transib",
          "CMC-Transib",
          "TcMar-Tc1",
          "Gypsy",
          "Gypsy",
          "Gypsy",
          "Pao",
          "Pao",
          "Gypsy",
          "Gypsy",
          "Gypsy",
          "Gypsy",
          "Gypsy",
          "Gypsy",
          "Copia",
          "Copia",
          "Copia",
          "Pao",
          "Pao",
          "Copia",
          "Gypsy",
          "Gypsy",
          "Gypsy",
          "Copia",
          "Gypsy",
          "Gypsy",
          "Gypsy",
          "Gypsy",
          "Gypsy",
          "Gypsy",
          "Gypsy",
          "Gypsy",
          "Gypsy",
          "Gypsy",
          "Gypsy",
          "Gypsy",
          "Gypsy",
          "Gypsy",
          "Gypsy",
          "Gypsy",
          "Gypsy",
          "Gypsy",
          "Gypsy",
          "Gypsy",
          "Gypsy",
          "Pao",
          "Gypsy",
          "Gypsy",
          "Gypsy",
          "Pao",
          "Gypsy",
          "Gypsy",
          "Gypsy",
          "Pao",
          "Pao",
          "Gypsy",
          "Gypsy",
          "Gypsy",
          "Gypsy",
          "Gypsy",
          "Gypsy"
         ],
         "name": "Male",
         "textinfo": "value",
         "type": "pie",
         "values": [
          13,
          5,
          0,
          3,
          10,
          9,
          1,
          31,
          14,
          5,
          117,
          28,
          25,
          17,
          1,
          43,
          28,
          33,
          23,
          14,
          3,
          15,
          82,
          29,
          32,
          1,
          9,
          48,
          70,
          5,
          2,
          0,
          15,
          59,
          13,
          0,
          0,
          785,
          4,
          1,
          47,
          1,
          104,
          28,
          1,
          67,
          61,
          0,
          0,
          0,
          30,
          0,
          21,
          5,
          6,
          0,
          0,
          0,
          14,
          0,
          668,
          210,
          260,
          0,
          0,
          0,
          0,
          151,
          7,
          1,
          2,
          0,
          1,
          31,
          13,
          2,
          15,
          27,
          4,
          179,
          1,
          58,
          2,
          22,
          20,
          9,
          310,
          75,
          3,
          43,
          35,
          17,
          4,
          42,
          2,
          517,
          1,
          97,
          34,
          15,
          1,
          9,
          1,
          4,
          2,
          8,
          24,
          160,
          65,
          5,
          6,
          6,
          3,
          1,
          8,
          40,
          23,
          8,
          51,
          10,
          599,
          3,
          168,
          4,
          199,
          5,
          27,
          9,
          6,
          71,
          116
         ]
        }
       ],
       "layout": {
        "annotations": [
         {
          "font": {
           "size": 20
          },
          "showarrow": false,
          "text": "Female",
          "x": 0.19,
          "y": 0.5
         },
         {
          "font": {
           "size": 20
          },
          "showarrow": false,
          "text": "Male",
          "x": 0.8,
          "y": 0.5
         }
        ],
        "height": 500,
        "template": {
         "data": {
          "bar": [
           {
            "error_x": {
             "color": "#2a3f5f"
            },
            "error_y": {
             "color": "#2a3f5f"
            },
            "marker": {
             "line": {
              "color": "#E5ECF6",
              "width": 0.5
             },
             "pattern": {
              "fillmode": "overlay",
              "size": 10,
              "solidity": 0.2
             }
            },
            "type": "bar"
           }
          ],
          "barpolar": [
           {
            "marker": {
             "line": {
              "color": "#E5ECF6",
              "width": 0.5
             },
             "pattern": {
              "fillmode": "overlay",
              "size": 10,
              "solidity": 0.2
             }
            },
            "type": "barpolar"
           }
          ],
          "carpet": [
           {
            "aaxis": {
             "endlinecolor": "#2a3f5f",
             "gridcolor": "white",
             "linecolor": "white",
             "minorgridcolor": "white",
             "startlinecolor": "#2a3f5f"
            },
            "baxis": {
             "endlinecolor": "#2a3f5f",
             "gridcolor": "white",
             "linecolor": "white",
             "minorgridcolor": "white",
             "startlinecolor": "#2a3f5f"
            },
            "type": "carpet"
           }
          ],
          "choropleth": [
           {
            "colorbar": {
             "outlinewidth": 0,
             "ticks": ""
            },
            "type": "choropleth"
           }
          ],
          "contour": [
           {
            "colorbar": {
             "outlinewidth": 0,
             "ticks": ""
            },
            "colorscale": [
             [
              0,
              "#0d0887"
             ],
             [
              0.1111111111111111,
              "#46039f"
             ],
             [
              0.2222222222222222,
              "#7201a8"
             ],
             [
              0.3333333333333333,
              "#9c179e"
             ],
             [
              0.4444444444444444,
              "#bd3786"
             ],
             [
              0.5555555555555556,
              "#d8576b"
             ],
             [
              0.6666666666666666,
              "#ed7953"
             ],
             [
              0.7777777777777778,
              "#fb9f3a"
             ],
             [
              0.8888888888888888,
              "#fdca26"
             ],
             [
              1,
              "#f0f921"
             ]
            ],
            "type": "contour"
           }
          ],
          "contourcarpet": [
           {
            "colorbar": {
             "outlinewidth": 0,
             "ticks": ""
            },
            "type": "contourcarpet"
           }
          ],
          "heatmap": [
           {
            "colorbar": {
             "outlinewidth": 0,
             "ticks": ""
            },
            "colorscale": [
             [
              0,
              "#0d0887"
             ],
             [
              0.1111111111111111,
              "#46039f"
             ],
             [
              0.2222222222222222,
              "#7201a8"
             ],
             [
              0.3333333333333333,
              "#9c179e"
             ],
             [
              0.4444444444444444,
              "#bd3786"
             ],
             [
              0.5555555555555556,
              "#d8576b"
             ],
             [
              0.6666666666666666,
              "#ed7953"
             ],
             [
              0.7777777777777778,
              "#fb9f3a"
             ],
             [
              0.8888888888888888,
              "#fdca26"
             ],
             [
              1,
              "#f0f921"
             ]
            ],
            "type": "heatmap"
           }
          ],
          "heatmapgl": [
           {
            "colorbar": {
             "outlinewidth": 0,
             "ticks": ""
            },
            "colorscale": [
             [
              0,
              "#0d0887"
             ],
             [
              0.1111111111111111,
              "#46039f"
             ],
             [
              0.2222222222222222,
              "#7201a8"
             ],
             [
              0.3333333333333333,
              "#9c179e"
             ],
             [
              0.4444444444444444,
              "#bd3786"
             ],
             [
              0.5555555555555556,
              "#d8576b"
             ],
             [
              0.6666666666666666,
              "#ed7953"
             ],
             [
              0.7777777777777778,
              "#fb9f3a"
             ],
             [
              0.8888888888888888,
              "#fdca26"
             ],
             [
              1,
              "#f0f921"
             ]
            ],
            "type": "heatmapgl"
           }
          ],
          "histogram": [
           {
            "marker": {
             "pattern": {
              "fillmode": "overlay",
              "size": 10,
              "solidity": 0.2
             }
            },
            "type": "histogram"
           }
          ],
          "histogram2d": [
           {
            "colorbar": {
             "outlinewidth": 0,
             "ticks": ""
            },
            "colorscale": [
             [
              0,
              "#0d0887"
             ],
             [
              0.1111111111111111,
              "#46039f"
             ],
             [
              0.2222222222222222,
              "#7201a8"
             ],
             [
              0.3333333333333333,
              "#9c179e"
             ],
             [
              0.4444444444444444,
              "#bd3786"
             ],
             [
              0.5555555555555556,
              "#d8576b"
             ],
             [
              0.6666666666666666,
              "#ed7953"
             ],
             [
              0.7777777777777778,
              "#fb9f3a"
             ],
             [
              0.8888888888888888,
              "#fdca26"
             ],
             [
              1,
              "#f0f921"
             ]
            ],
            "type": "histogram2d"
           }
          ],
          "histogram2dcontour": [
           {
            "colorbar": {
             "outlinewidth": 0,
             "ticks": ""
            },
            "colorscale": [
             [
              0,
              "#0d0887"
             ],
             [
              0.1111111111111111,
              "#46039f"
             ],
             [
              0.2222222222222222,
              "#7201a8"
             ],
             [
              0.3333333333333333,
              "#9c179e"
             ],
             [
              0.4444444444444444,
              "#bd3786"
             ],
             [
              0.5555555555555556,
              "#d8576b"
             ],
             [
              0.6666666666666666,
              "#ed7953"
             ],
             [
              0.7777777777777778,
              "#fb9f3a"
             ],
             [
              0.8888888888888888,
              "#fdca26"
             ],
             [
              1,
              "#f0f921"
             ]
            ],
            "type": "histogram2dcontour"
           }
          ],
          "mesh3d": [
           {
            "colorbar": {
             "outlinewidth": 0,
             "ticks": ""
            },
            "type": "mesh3d"
           }
          ],
          "parcoords": [
           {
            "line": {
             "colorbar": {
              "outlinewidth": 0,
              "ticks": ""
             }
            },
            "type": "parcoords"
           }
          ],
          "pie": [
           {
            "automargin": true,
            "type": "pie"
           }
          ],
          "scatter": [
           {
            "marker": {
             "colorbar": {
              "outlinewidth": 0,
              "ticks": ""
             }
            },
            "type": "scatter"
           }
          ],
          "scatter3d": [
           {
            "line": {
             "colorbar": {
              "outlinewidth": 0,
              "ticks": ""
             }
            },
            "marker": {
             "colorbar": {
              "outlinewidth": 0,
              "ticks": ""
             }
            },
            "type": "scatter3d"
           }
          ],
          "scattercarpet": [
           {
            "marker": {
             "colorbar": {
              "outlinewidth": 0,
              "ticks": ""
             }
            },
            "type": "scattercarpet"
           }
          ],
          "scattergeo": [
           {
            "marker": {
             "colorbar": {
              "outlinewidth": 0,
              "ticks": ""
             }
            },
            "type": "scattergeo"
           }
          ],
          "scattergl": [
           {
            "marker": {
             "colorbar": {
              "outlinewidth": 0,
              "ticks": ""
             }
            },
            "type": "scattergl"
           }
          ],
          "scattermapbox": [
           {
            "marker": {
             "colorbar": {
              "outlinewidth": 0,
              "ticks": ""
             }
            },
            "type": "scattermapbox"
           }
          ],
          "scatterpolar": [
           {
            "marker": {
             "colorbar": {
              "outlinewidth": 0,
              "ticks": ""
             }
            },
            "type": "scatterpolar"
           }
          ],
          "scatterpolargl": [
           {
            "marker": {
             "colorbar": {
              "outlinewidth": 0,
              "ticks": ""
             }
            },
            "type": "scatterpolargl"
           }
          ],
          "scatterternary": [
           {
            "marker": {
             "colorbar": {
              "outlinewidth": 0,
              "ticks": ""
             }
            },
            "type": "scatterternary"
           }
          ],
          "surface": [
           {
            "colorbar": {
             "outlinewidth": 0,
             "ticks": ""
            },
            "colorscale": [
             [
              0,
              "#0d0887"
             ],
             [
              0.1111111111111111,
              "#46039f"
             ],
             [
              0.2222222222222222,
              "#7201a8"
             ],
             [
              0.3333333333333333,
              "#9c179e"
             ],
             [
              0.4444444444444444,
              "#bd3786"
             ],
             [
              0.5555555555555556,
              "#d8576b"
             ],
             [
              0.6666666666666666,
              "#ed7953"
             ],
             [
              0.7777777777777778,
              "#fb9f3a"
             ],
             [
              0.8888888888888888,
              "#fdca26"
             ],
             [
              1,
              "#f0f921"
             ]
            ],
            "type": "surface"
           }
          ],
          "table": [
           {
            "cells": {
             "fill": {
              "color": "#EBF0F8"
             },
             "line": {
              "color": "white"
             }
            },
            "header": {
             "fill": {
              "color": "#C8D4E3"
             },
             "line": {
              "color": "white"
             }
            },
            "type": "table"
           }
          ]
         },
         "layout": {
          "annotationdefaults": {
           "arrowcolor": "#2a3f5f",
           "arrowhead": 0,
           "arrowwidth": 1
          },
          "autotypenumbers": "strict",
          "coloraxis": {
           "colorbar": {
            "outlinewidth": 0,
            "ticks": ""
           }
          },
          "colorscale": {
           "diverging": [
            [
             0,
             "#8e0152"
            ],
            [
             0.1,
             "#c51b7d"
            ],
            [
             0.2,
             "#de77ae"
            ],
            [
             0.3,
             "#f1b6da"
            ],
            [
             0.4,
             "#fde0ef"
            ],
            [
             0.5,
             "#f7f7f7"
            ],
            [
             0.6,
             "#e6f5d0"
            ],
            [
             0.7,
             "#b8e186"
            ],
            [
             0.8,
             "#7fbc41"
            ],
            [
             0.9,
             "#4d9221"
            ],
            [
             1,
             "#276419"
            ]
           ],
           "sequential": [
            [
             0,
             "#0d0887"
            ],
            [
             0.1111111111111111,
             "#46039f"
            ],
            [
             0.2222222222222222,
             "#7201a8"
            ],
            [
             0.3333333333333333,
             "#9c179e"
            ],
            [
             0.4444444444444444,
             "#bd3786"
            ],
            [
             0.5555555555555556,
             "#d8576b"
            ],
            [
             0.6666666666666666,
             "#ed7953"
            ],
            [
             0.7777777777777778,
             "#fb9f3a"
            ],
            [
             0.8888888888888888,
             "#fdca26"
            ],
            [
             1,
             "#f0f921"
            ]
           ],
           "sequentialminus": [
            [
             0,
             "#0d0887"
            ],
            [
             0.1111111111111111,
             "#46039f"
            ],
            [
             0.2222222222222222,
             "#7201a8"
            ],
            [
             0.3333333333333333,
             "#9c179e"
            ],
            [
             0.4444444444444444,
             "#bd3786"
            ],
            [
             0.5555555555555556,
             "#d8576b"
            ],
            [
             0.6666666666666666,
             "#ed7953"
            ],
            [
             0.7777777777777778,
             "#fb9f3a"
            ],
            [
             0.8888888888888888,
             "#fdca26"
            ],
            [
             1,
             "#f0f921"
            ]
           ]
          },
          "colorway": [
           "#636efa",
           "#EF553B",
           "#00cc96",
           "#ab63fa",
           "#FFA15A",
           "#19d3f3",
           "#FF6692",
           "#B6E880",
           "#FF97FF",
           "#FECB52"
          ],
          "font": {
           "color": "#2a3f5f"
          },
          "geo": {
           "bgcolor": "white",
           "lakecolor": "white",
           "landcolor": "#E5ECF6",
           "showlakes": true,
           "showland": true,
           "subunitcolor": "white"
          },
          "hoverlabel": {
           "align": "left"
          },
          "hovermode": "closest",
          "mapbox": {
           "style": "light"
          },
          "paper_bgcolor": "white",
          "plot_bgcolor": "#E5ECF6",
          "polar": {
           "angularaxis": {
            "gridcolor": "white",
            "linecolor": "white",
            "ticks": ""
           },
           "bgcolor": "#E5ECF6",
           "radialaxis": {
            "gridcolor": "white",
            "linecolor": "white",
            "ticks": ""
           }
          },
          "scene": {
           "xaxis": {
            "backgroundcolor": "#E5ECF6",
            "gridcolor": "white",
            "gridwidth": 2,
            "linecolor": "white",
            "showbackground": true,
            "ticks": "",
            "zerolinecolor": "white"
           },
           "yaxis": {
            "backgroundcolor": "#E5ECF6",
            "gridcolor": "white",
            "gridwidth": 2,
            "linecolor": "white",
            "showbackground": true,
            "ticks": "",
            "zerolinecolor": "white"
           },
           "zaxis": {
            "backgroundcolor": "#E5ECF6",
            "gridcolor": "white",
            "gridwidth": 2,
            "linecolor": "white",
            "showbackground": true,
            "ticks": "",
            "zerolinecolor": "white"
           }
          },
          "shapedefaults": {
           "line": {
            "color": "#2a3f5f"
           }
          },
          "ternary": {
           "aaxis": {
            "gridcolor": "white",
            "linecolor": "white",
            "ticks": ""
           },
           "baxis": {
            "gridcolor": "white",
            "linecolor": "white",
            "ticks": ""
           },
           "bgcolor": "#E5ECF6",
           "caxis": {
            "gridcolor": "white",
            "linecolor": "white",
            "ticks": ""
           }
          },
          "title": {
           "x": 0.05
          },
          "xaxis": {
           "automargin": true,
           "gridcolor": "white",
           "linecolor": "white",
           "ticks": "",
           "title": {
            "standoff": 15
           },
           "zerolinecolor": "white",
           "zerolinewidth": 2
          },
          "yaxis": {
           "automargin": true,
           "gridcolor": "white",
           "linecolor": "white",
           "ticks": "",
           "title": {
            "standoff": 15
           },
           "zerolinecolor": "white",
           "zerolinewidth": 2
          }
         }
        },
        "title": {
         "text": "Superfamily expression profile"
        },
        "width": 1200
       }
      }
     },
     "metadata": {}
    }
   ],
   "metadata": {}
  },
  {
   "cell_type": "code",
   "execution_count": 8,
   "source": [
    "plot_TE_expression_profile_by_superfamily(TE_data_table)"
   ],
   "outputs": [
    {
     "output_type": "display_data",
     "data": {
      "text/html": [
       "<div>                            <div id=\"1090ad58-dfc2-4467-a3ea-2bf12e469f90\" class=\"plotly-graph-div\" style=\"height:500px; width:1200px;\"></div>            <script type=\"text/javascript\">                require([\"plotly\"], function(Plotly) {                    window.PLOTLYENV=window.PLOTLYENV || {};                                    if (document.getElementById(\"1090ad58-dfc2-4467-a3ea-2bf12e469f90\")) {                    Plotly.newPlot(                        \"1090ad58-dfc2-4467-a3ea-2bf12e469f90\",                        [{\"domain\":{\"x\":[0.0,0.45],\"y\":[0.0,1.0]},\"hole\":0.4,\"hoverinfo\":\"label+value\",\"labels\":[\"LINE\",\"DNA\",\"DNA\",\"LINE\",\"LINE\",\"LINE\",\"LINE\",\"LTR\",\"LTR\",\"LTR\",\"LINE\",\"LTR\",\"LINE\",\"LINE\",\"LINE\",\"RC\",\"LINE\",\"LINE\",\"LINE\",\"LINE\",\"LINE\",\"LINE\",\"DNA\",\"LINE\",\"LINE\",\"LINE\",\"LINE\",\"LINE\",\"LINE\",\"LINE\",\"LINE\",\"LINE\",\"LINE\",\"LTR\",\"LTR\",\"LINE\",\"RC\",\"LINE\",\"LTR\",\"DNA\",\"LINE\",\"LINE\",\"LINE\",\"LINE\",\"DNA\",\"DNA\",\"DNA\",\"DNA\",\"DNA\",\"DNA\",\"DNA\",\"DNA\",\"DNA\",\"DNA\",\"DNA\",\"LINE\",\"LINE\",\"LINE\",\"DNA\",\"LTR\",\"LINE\",\"LINE\",\"LINE\",\"DNA\",\"DNA\",\"LTR\",\"DNA\",\"DNA\",\"DNA\",\"DNA\",\"DNA\",\"DNA\",\"DNA\",\"LTR\",\"LTR\",\"LTR\",\"LTR\",\"LTR\",\"LTR\",\"LTR\",\"LTR\",\"LTR\",\"LTR\",\"LTR\",\"LTR\",\"LTR\",\"LTR\",\"LTR\",\"LTR\",\"LTR\",\"LTR\",\"LTR\",\"LTR\",\"LTR\",\"LTR\",\"LTR\",\"LTR\",\"LTR\",\"LTR\",\"LTR\",\"LTR\",\"LTR\",\"LTR\",\"LTR\",\"LTR\",\"LTR\",\"LTR\",\"LTR\",\"LTR\",\"LTR\",\"LTR\",\"LTR\",\"LTR\",\"LTR\",\"LTR\",\"LTR\",\"LTR\",\"LTR\",\"LTR\",\"LTR\",\"LTR\",\"LTR\",\"LTR\",\"LTR\",\"LTR\",\"LTR\",\"LTR\",\"LTR\",\"LTR\",\"LTR\",\"LTR\"],\"name\":\"Female\",\"textinfo\":\"value\",\"type\":\"pie\",\"values\":[2,0,1,2,1,0,0,0,8,1,84,0,1,3,0,4,7,0,2,0,3,3,3,2,0,0,2,0,0,0,0,0,0,12,0,0,0,14,0,1,4,6,0,0,0,2,1,0,0,0,220,0,2,0,5,0,3,0,6,0,7,15,7,3,1,0,0,1,16,0,1,0,0,1,7,3,2,0,0,6,15,4,3,19,1,2,161,0,0,3,4,6,0,0,2,1,2,65,12,2,0,1,0,0,1,3,0,11,4,4,1,0,1,0,5,11,12,0,36,0,2,1,10,1,517,2,19,2,1,2,0]},{\"domain\":{\"x\":[0.55,1.0],\"y\":[0.0,1.0]},\"hole\":0.4,\"hoverinfo\":\"label+value\",\"labels\":[\"LINE\",\"DNA\",\"DNA\",\"LINE\",\"LINE\",\"LINE\",\"LINE\",\"LTR\",\"LTR\",\"LTR\",\"LINE\",\"LTR\",\"LINE\",\"LINE\",\"LINE\",\"RC\",\"LINE\",\"LINE\",\"LINE\",\"LINE\",\"LINE\",\"LINE\",\"DNA\",\"LINE\",\"LINE\",\"LINE\",\"LINE\",\"LINE\",\"LINE\",\"LINE\",\"LINE\",\"LINE\",\"LINE\",\"LTR\",\"LTR\",\"LINE\",\"RC\",\"LINE\",\"LTR\",\"DNA\",\"LINE\",\"LINE\",\"LINE\",\"LINE\",\"DNA\",\"DNA\",\"DNA\",\"DNA\",\"DNA\",\"DNA\",\"DNA\",\"DNA\",\"DNA\",\"DNA\",\"DNA\",\"LINE\",\"LINE\",\"LINE\",\"DNA\",\"LTR\",\"LINE\",\"LINE\",\"LINE\",\"DNA\",\"DNA\",\"LTR\",\"DNA\",\"DNA\",\"DNA\",\"DNA\",\"DNA\",\"DNA\",\"DNA\",\"LTR\",\"LTR\",\"LTR\",\"LTR\",\"LTR\",\"LTR\",\"LTR\",\"LTR\",\"LTR\",\"LTR\",\"LTR\",\"LTR\",\"LTR\",\"LTR\",\"LTR\",\"LTR\",\"LTR\",\"LTR\",\"LTR\",\"LTR\",\"LTR\",\"LTR\",\"LTR\",\"LTR\",\"LTR\",\"LTR\",\"LTR\",\"LTR\",\"LTR\",\"LTR\",\"LTR\",\"LTR\",\"LTR\",\"LTR\",\"LTR\",\"LTR\",\"LTR\",\"LTR\",\"LTR\",\"LTR\",\"LTR\",\"LTR\",\"LTR\",\"LTR\",\"LTR\",\"LTR\",\"LTR\",\"LTR\",\"LTR\",\"LTR\",\"LTR\",\"LTR\",\"LTR\",\"LTR\",\"LTR\",\"LTR\",\"LTR\",\"LTR\"],\"name\":\"Male\",\"textinfo\":\"value\",\"type\":\"pie\",\"values\":[13,5,0,3,10,9,1,31,14,5,117,28,25,17,1,43,28,33,23,14,3,15,82,29,32,1,9,48,70,5,2,0,15,59,13,0,0,785,4,1,47,1,104,28,1,67,61,0,0,0,30,0,21,5,6,0,0,0,14,0,668,210,260,0,0,0,0,151,7,1,2,0,1,31,13,2,15,27,4,179,1,58,2,22,20,9,310,75,3,43,35,17,4,42,2,517,1,97,34,15,1,9,1,4,2,8,24,160,65,5,6,6,3,1,8,40,23,8,51,10,599,3,168,4,199,5,27,9,6,71,116]}],                        {\"annotations\":[{\"font\":{\"size\":20},\"showarrow\":false,\"text\":\"Female\",\"x\":0.19,\"y\":0.5},{\"font\":{\"size\":20},\"showarrow\":false,\"text\":\"Male\",\"x\":0.8,\"y\":0.5}],\"height\":500,\"template\":{\"data\":{\"bar\":[{\"error_x\":{\"color\":\"#2a3f5f\"},\"error_y\":{\"color\":\"#2a3f5f\"},\"marker\":{\"line\":{\"color\":\"#E5ECF6\",\"width\":0.5},\"pattern\":{\"fillmode\":\"overlay\",\"size\":10,\"solidity\":0.2}},\"type\":\"bar\"}],\"barpolar\":[{\"marker\":{\"line\":{\"color\":\"#E5ECF6\",\"width\":0.5},\"pattern\":{\"fillmode\":\"overlay\",\"size\":10,\"solidity\":0.2}},\"type\":\"barpolar\"}],\"carpet\":[{\"aaxis\":{\"endlinecolor\":\"#2a3f5f\",\"gridcolor\":\"white\",\"linecolor\":\"white\",\"minorgridcolor\":\"white\",\"startlinecolor\":\"#2a3f5f\"},\"baxis\":{\"endlinecolor\":\"#2a3f5f\",\"gridcolor\":\"white\",\"linecolor\":\"white\",\"minorgridcolor\":\"white\",\"startlinecolor\":\"#2a3f5f\"},\"type\":\"carpet\"}],\"choropleth\":[{\"colorbar\":{\"outlinewidth\":0,\"ticks\":\"\"},\"type\":\"choropleth\"}],\"contour\":[{\"colorbar\":{\"outlinewidth\":0,\"ticks\":\"\"},\"colorscale\":[[0.0,\"#0d0887\"],[0.1111111111111111,\"#46039f\"],[0.2222222222222222,\"#7201a8\"],[0.3333333333333333,\"#9c179e\"],[0.4444444444444444,\"#bd3786\"],[0.5555555555555556,\"#d8576b\"],[0.6666666666666666,\"#ed7953\"],[0.7777777777777778,\"#fb9f3a\"],[0.8888888888888888,\"#fdca26\"],[1.0,\"#f0f921\"]],\"type\":\"contour\"}],\"contourcarpet\":[{\"colorbar\":{\"outlinewidth\":0,\"ticks\":\"\"},\"type\":\"contourcarpet\"}],\"heatmap\":[{\"colorbar\":{\"outlinewidth\":0,\"ticks\":\"\"},\"colorscale\":[[0.0,\"#0d0887\"],[0.1111111111111111,\"#46039f\"],[0.2222222222222222,\"#7201a8\"],[0.3333333333333333,\"#9c179e\"],[0.4444444444444444,\"#bd3786\"],[0.5555555555555556,\"#d8576b\"],[0.6666666666666666,\"#ed7953\"],[0.7777777777777778,\"#fb9f3a\"],[0.8888888888888888,\"#fdca26\"],[1.0,\"#f0f921\"]],\"type\":\"heatmap\"}],\"heatmapgl\":[{\"colorbar\":{\"outlinewidth\":0,\"ticks\":\"\"},\"colorscale\":[[0.0,\"#0d0887\"],[0.1111111111111111,\"#46039f\"],[0.2222222222222222,\"#7201a8\"],[0.3333333333333333,\"#9c179e\"],[0.4444444444444444,\"#bd3786\"],[0.5555555555555556,\"#d8576b\"],[0.6666666666666666,\"#ed7953\"],[0.7777777777777778,\"#fb9f3a\"],[0.8888888888888888,\"#fdca26\"],[1.0,\"#f0f921\"]],\"type\":\"heatmapgl\"}],\"histogram\":[{\"marker\":{\"pattern\":{\"fillmode\":\"overlay\",\"size\":10,\"solidity\":0.2}},\"type\":\"histogram\"}],\"histogram2d\":[{\"colorbar\":{\"outlinewidth\":0,\"ticks\":\"\"},\"colorscale\":[[0.0,\"#0d0887\"],[0.1111111111111111,\"#46039f\"],[0.2222222222222222,\"#7201a8\"],[0.3333333333333333,\"#9c179e\"],[0.4444444444444444,\"#bd3786\"],[0.5555555555555556,\"#d8576b\"],[0.6666666666666666,\"#ed7953\"],[0.7777777777777778,\"#fb9f3a\"],[0.8888888888888888,\"#fdca26\"],[1.0,\"#f0f921\"]],\"type\":\"histogram2d\"}],\"histogram2dcontour\":[{\"colorbar\":{\"outlinewidth\":0,\"ticks\":\"\"},\"colorscale\":[[0.0,\"#0d0887\"],[0.1111111111111111,\"#46039f\"],[0.2222222222222222,\"#7201a8\"],[0.3333333333333333,\"#9c179e\"],[0.4444444444444444,\"#bd3786\"],[0.5555555555555556,\"#d8576b\"],[0.6666666666666666,\"#ed7953\"],[0.7777777777777778,\"#fb9f3a\"],[0.8888888888888888,\"#fdca26\"],[1.0,\"#f0f921\"]],\"type\":\"histogram2dcontour\"}],\"mesh3d\":[{\"colorbar\":{\"outlinewidth\":0,\"ticks\":\"\"},\"type\":\"mesh3d\"}],\"parcoords\":[{\"line\":{\"colorbar\":{\"outlinewidth\":0,\"ticks\":\"\"}},\"type\":\"parcoords\"}],\"pie\":[{\"automargin\":true,\"type\":\"pie\"}],\"scatter\":[{\"marker\":{\"colorbar\":{\"outlinewidth\":0,\"ticks\":\"\"}},\"type\":\"scatter\"}],\"scatter3d\":[{\"line\":{\"colorbar\":{\"outlinewidth\":0,\"ticks\":\"\"}},\"marker\":{\"colorbar\":{\"outlinewidth\":0,\"ticks\":\"\"}},\"type\":\"scatter3d\"}],\"scattercarpet\":[{\"marker\":{\"colorbar\":{\"outlinewidth\":0,\"ticks\":\"\"}},\"type\":\"scattercarpet\"}],\"scattergeo\":[{\"marker\":{\"colorbar\":{\"outlinewidth\":0,\"ticks\":\"\"}},\"type\":\"scattergeo\"}],\"scattergl\":[{\"marker\":{\"colorbar\":{\"outlinewidth\":0,\"ticks\":\"\"}},\"type\":\"scattergl\"}],\"scattermapbox\":[{\"marker\":{\"colorbar\":{\"outlinewidth\":0,\"ticks\":\"\"}},\"type\":\"scattermapbox\"}],\"scatterpolar\":[{\"marker\":{\"colorbar\":{\"outlinewidth\":0,\"ticks\":\"\"}},\"type\":\"scatterpolar\"}],\"scatterpolargl\":[{\"marker\":{\"colorbar\":{\"outlinewidth\":0,\"ticks\":\"\"}},\"type\":\"scatterpolargl\"}],\"scatterternary\":[{\"marker\":{\"colorbar\":{\"outlinewidth\":0,\"ticks\":\"\"}},\"type\":\"scatterternary\"}],\"surface\":[{\"colorbar\":{\"outlinewidth\":0,\"ticks\":\"\"},\"colorscale\":[[0.0,\"#0d0887\"],[0.1111111111111111,\"#46039f\"],[0.2222222222222222,\"#7201a8\"],[0.3333333333333333,\"#9c179e\"],[0.4444444444444444,\"#bd3786\"],[0.5555555555555556,\"#d8576b\"],[0.6666666666666666,\"#ed7953\"],[0.7777777777777778,\"#fb9f3a\"],[0.8888888888888888,\"#fdca26\"],[1.0,\"#f0f921\"]],\"type\":\"surface\"}],\"table\":[{\"cells\":{\"fill\":{\"color\":\"#EBF0F8\"},\"line\":{\"color\":\"white\"}},\"header\":{\"fill\":{\"color\":\"#C8D4E3\"},\"line\":{\"color\":\"white\"}},\"type\":\"table\"}]},\"layout\":{\"annotationdefaults\":{\"arrowcolor\":\"#2a3f5f\",\"arrowhead\":0,\"arrowwidth\":1},\"autotypenumbers\":\"strict\",\"coloraxis\":{\"colorbar\":{\"outlinewidth\":0,\"ticks\":\"\"}},\"colorscale\":{\"diverging\":[[0,\"#8e0152\"],[0.1,\"#c51b7d\"],[0.2,\"#de77ae\"],[0.3,\"#f1b6da\"],[0.4,\"#fde0ef\"],[0.5,\"#f7f7f7\"],[0.6,\"#e6f5d0\"],[0.7,\"#b8e186\"],[0.8,\"#7fbc41\"],[0.9,\"#4d9221\"],[1,\"#276419\"]],\"sequential\":[[0.0,\"#0d0887\"],[0.1111111111111111,\"#46039f\"],[0.2222222222222222,\"#7201a8\"],[0.3333333333333333,\"#9c179e\"],[0.4444444444444444,\"#bd3786\"],[0.5555555555555556,\"#d8576b\"],[0.6666666666666666,\"#ed7953\"],[0.7777777777777778,\"#fb9f3a\"],[0.8888888888888888,\"#fdca26\"],[1.0,\"#f0f921\"]],\"sequentialminus\":[[0.0,\"#0d0887\"],[0.1111111111111111,\"#46039f\"],[0.2222222222222222,\"#7201a8\"],[0.3333333333333333,\"#9c179e\"],[0.4444444444444444,\"#bd3786\"],[0.5555555555555556,\"#d8576b\"],[0.6666666666666666,\"#ed7953\"],[0.7777777777777778,\"#fb9f3a\"],[0.8888888888888888,\"#fdca26\"],[1.0,\"#f0f921\"]]},\"colorway\":[\"#636efa\",\"#EF553B\",\"#00cc96\",\"#ab63fa\",\"#FFA15A\",\"#19d3f3\",\"#FF6692\",\"#B6E880\",\"#FF97FF\",\"#FECB52\"],\"font\":{\"color\":\"#2a3f5f\"},\"geo\":{\"bgcolor\":\"white\",\"lakecolor\":\"white\",\"landcolor\":\"#E5ECF6\",\"showlakes\":true,\"showland\":true,\"subunitcolor\":\"white\"},\"hoverlabel\":{\"align\":\"left\"},\"hovermode\":\"closest\",\"mapbox\":{\"style\":\"light\"},\"paper_bgcolor\":\"white\",\"plot_bgcolor\":\"#E5ECF6\",\"polar\":{\"angularaxis\":{\"gridcolor\":\"white\",\"linecolor\":\"white\",\"ticks\":\"\"},\"bgcolor\":\"#E5ECF6\",\"radialaxis\":{\"gridcolor\":\"white\",\"linecolor\":\"white\",\"ticks\":\"\"}},\"scene\":{\"xaxis\":{\"backgroundcolor\":\"#E5ECF6\",\"gridcolor\":\"white\",\"gridwidth\":2,\"linecolor\":\"white\",\"showbackground\":true,\"ticks\":\"\",\"zerolinecolor\":\"white\"},\"yaxis\":{\"backgroundcolor\":\"#E5ECF6\",\"gridcolor\":\"white\",\"gridwidth\":2,\"linecolor\":\"white\",\"showbackground\":true,\"ticks\":\"\",\"zerolinecolor\":\"white\"},\"zaxis\":{\"backgroundcolor\":\"#E5ECF6\",\"gridcolor\":\"white\",\"gridwidth\":2,\"linecolor\":\"white\",\"showbackground\":true,\"ticks\":\"\",\"zerolinecolor\":\"white\"}},\"shapedefaults\":{\"line\":{\"color\":\"#2a3f5f\"}},\"ternary\":{\"aaxis\":{\"gridcolor\":\"white\",\"linecolor\":\"white\",\"ticks\":\"\"},\"baxis\":{\"gridcolor\":\"white\",\"linecolor\":\"white\",\"ticks\":\"\"},\"bgcolor\":\"#E5ECF6\",\"caxis\":{\"gridcolor\":\"white\",\"linecolor\":\"white\",\"ticks\":\"\"}},\"title\":{\"x\":0.05},\"xaxis\":{\"automargin\":true,\"gridcolor\":\"white\",\"linecolor\":\"white\",\"ticks\":\"\",\"title\":{\"standoff\":15},\"zerolinecolor\":\"white\",\"zerolinewidth\":2},\"yaxis\":{\"automargin\":true,\"gridcolor\":\"white\",\"linecolor\":\"white\",\"ticks\":\"\",\"title\":{\"standoff\":15},\"zerolinecolor\":\"white\",\"zerolinewidth\":2}}},\"title\":{\"text\":\"Subclass expression profile\"},\"width\":1200},                        {\"responsive\": true}                    ).then(function(){\n",
       "                            \n",
       "var gd = document.getElementById('1090ad58-dfc2-4467-a3ea-2bf12e469f90');\n",
       "var x = new MutationObserver(function (mutations, observer) {{\n",
       "        var display = window.getComputedStyle(gd).display;\n",
       "        if (!display || display === 'none') {{\n",
       "            console.log([gd, 'removed!']);\n",
       "            Plotly.purge(gd);\n",
       "            observer.disconnect();\n",
       "        }}\n",
       "}});\n",
       "\n",
       "// Listen for the removal of the full notebook cells\n",
       "var notebookContainer = gd.closest('#notebook-container');\n",
       "if (notebookContainer) {{\n",
       "    x.observe(notebookContainer, {childList: true});\n",
       "}}\n",
       "\n",
       "// Listen for the clearing of the current output cell\n",
       "var outputEl = gd.closest('.output');\n",
       "if (outputEl) {{\n",
       "    x.observe(outputEl, {childList: true});\n",
       "}}\n",
       "\n",
       "                        })                };                });            </script>        </div>"
      ],
      "application/vnd.plotly.v1+json": {
       "config": {
        "plotlyServerURL": "https://plot.ly"
       },
       "data": [
        {
         "domain": {
          "x": [
           0,
           0.45
          ],
          "y": [
           0,
           1
          ]
         },
         "hole": 0.4,
         "hoverinfo": "label+value",
         "labels": [
          "LINE",
          "DNA",
          "DNA",
          "LINE",
          "LINE",
          "LINE",
          "LINE",
          "LTR",
          "LTR",
          "LTR",
          "LINE",
          "LTR",
          "LINE",
          "LINE",
          "LINE",
          "RC",
          "LINE",
          "LINE",
          "LINE",
          "LINE",
          "LINE",
          "LINE",
          "DNA",
          "LINE",
          "LINE",
          "LINE",
          "LINE",
          "LINE",
          "LINE",
          "LINE",
          "LINE",
          "LINE",
          "LINE",
          "LTR",
          "LTR",
          "LINE",
          "RC",
          "LINE",
          "LTR",
          "DNA",
          "LINE",
          "LINE",
          "LINE",
          "LINE",
          "DNA",
          "DNA",
          "DNA",
          "DNA",
          "DNA",
          "DNA",
          "DNA",
          "DNA",
          "DNA",
          "DNA",
          "DNA",
          "LINE",
          "LINE",
          "LINE",
          "DNA",
          "LTR",
          "LINE",
          "LINE",
          "LINE",
          "DNA",
          "DNA",
          "LTR",
          "DNA",
          "DNA",
          "DNA",
          "DNA",
          "DNA",
          "DNA",
          "DNA",
          "LTR",
          "LTR",
          "LTR",
          "LTR",
          "LTR",
          "LTR",
          "LTR",
          "LTR",
          "LTR",
          "LTR",
          "LTR",
          "LTR",
          "LTR",
          "LTR",
          "LTR",
          "LTR",
          "LTR",
          "LTR",
          "LTR",
          "LTR",
          "LTR",
          "LTR",
          "LTR",
          "LTR",
          "LTR",
          "LTR",
          "LTR",
          "LTR",
          "LTR",
          "LTR",
          "LTR",
          "LTR",
          "LTR",
          "LTR",
          "LTR",
          "LTR",
          "LTR",
          "LTR",
          "LTR",
          "LTR",
          "LTR",
          "LTR",
          "LTR",
          "LTR",
          "LTR",
          "LTR",
          "LTR",
          "LTR",
          "LTR",
          "LTR",
          "LTR",
          "LTR",
          "LTR",
          "LTR",
          "LTR",
          "LTR",
          "LTR",
          "LTR"
         ],
         "name": "Female",
         "textinfo": "value",
         "type": "pie",
         "values": [
          2,
          0,
          1,
          2,
          1,
          0,
          0,
          0,
          8,
          1,
          84,
          0,
          1,
          3,
          0,
          4,
          7,
          0,
          2,
          0,
          3,
          3,
          3,
          2,
          0,
          0,
          2,
          0,
          0,
          0,
          0,
          0,
          0,
          12,
          0,
          0,
          0,
          14,
          0,
          1,
          4,
          6,
          0,
          0,
          0,
          2,
          1,
          0,
          0,
          0,
          220,
          0,
          2,
          0,
          5,
          0,
          3,
          0,
          6,
          0,
          7,
          15,
          7,
          3,
          1,
          0,
          0,
          1,
          16,
          0,
          1,
          0,
          0,
          1,
          7,
          3,
          2,
          0,
          0,
          6,
          15,
          4,
          3,
          19,
          1,
          2,
          161,
          0,
          0,
          3,
          4,
          6,
          0,
          0,
          2,
          1,
          2,
          65,
          12,
          2,
          0,
          1,
          0,
          0,
          1,
          3,
          0,
          11,
          4,
          4,
          1,
          0,
          1,
          0,
          5,
          11,
          12,
          0,
          36,
          0,
          2,
          1,
          10,
          1,
          517,
          2,
          19,
          2,
          1,
          2,
          0
         ]
        },
        {
         "domain": {
          "x": [
           0.55,
           1
          ],
          "y": [
           0,
           1
          ]
         },
         "hole": 0.4,
         "hoverinfo": "label+value",
         "labels": [
          "LINE",
          "DNA",
          "DNA",
          "LINE",
          "LINE",
          "LINE",
          "LINE",
          "LTR",
          "LTR",
          "LTR",
          "LINE",
          "LTR",
          "LINE",
          "LINE",
          "LINE",
          "RC",
          "LINE",
          "LINE",
          "LINE",
          "LINE",
          "LINE",
          "LINE",
          "DNA",
          "LINE",
          "LINE",
          "LINE",
          "LINE",
          "LINE",
          "LINE",
          "LINE",
          "LINE",
          "LINE",
          "LINE",
          "LTR",
          "LTR",
          "LINE",
          "RC",
          "LINE",
          "LTR",
          "DNA",
          "LINE",
          "LINE",
          "LINE",
          "LINE",
          "DNA",
          "DNA",
          "DNA",
          "DNA",
          "DNA",
          "DNA",
          "DNA",
          "DNA",
          "DNA",
          "DNA",
          "DNA",
          "LINE",
          "LINE",
          "LINE",
          "DNA",
          "LTR",
          "LINE",
          "LINE",
          "LINE",
          "DNA",
          "DNA",
          "LTR",
          "DNA",
          "DNA",
          "DNA",
          "DNA",
          "DNA",
          "DNA",
          "DNA",
          "LTR",
          "LTR",
          "LTR",
          "LTR",
          "LTR",
          "LTR",
          "LTR",
          "LTR",
          "LTR",
          "LTR",
          "LTR",
          "LTR",
          "LTR",
          "LTR",
          "LTR",
          "LTR",
          "LTR",
          "LTR",
          "LTR",
          "LTR",
          "LTR",
          "LTR",
          "LTR",
          "LTR",
          "LTR",
          "LTR",
          "LTR",
          "LTR",
          "LTR",
          "LTR",
          "LTR",
          "LTR",
          "LTR",
          "LTR",
          "LTR",
          "LTR",
          "LTR",
          "LTR",
          "LTR",
          "LTR",
          "LTR",
          "LTR",
          "LTR",
          "LTR",
          "LTR",
          "LTR",
          "LTR",
          "LTR",
          "LTR",
          "LTR",
          "LTR",
          "LTR",
          "LTR",
          "LTR",
          "LTR",
          "LTR",
          "LTR",
          "LTR"
         ],
         "name": "Male",
         "textinfo": "value",
         "type": "pie",
         "values": [
          13,
          5,
          0,
          3,
          10,
          9,
          1,
          31,
          14,
          5,
          117,
          28,
          25,
          17,
          1,
          43,
          28,
          33,
          23,
          14,
          3,
          15,
          82,
          29,
          32,
          1,
          9,
          48,
          70,
          5,
          2,
          0,
          15,
          59,
          13,
          0,
          0,
          785,
          4,
          1,
          47,
          1,
          104,
          28,
          1,
          67,
          61,
          0,
          0,
          0,
          30,
          0,
          21,
          5,
          6,
          0,
          0,
          0,
          14,
          0,
          668,
          210,
          260,
          0,
          0,
          0,
          0,
          151,
          7,
          1,
          2,
          0,
          1,
          31,
          13,
          2,
          15,
          27,
          4,
          179,
          1,
          58,
          2,
          22,
          20,
          9,
          310,
          75,
          3,
          43,
          35,
          17,
          4,
          42,
          2,
          517,
          1,
          97,
          34,
          15,
          1,
          9,
          1,
          4,
          2,
          8,
          24,
          160,
          65,
          5,
          6,
          6,
          3,
          1,
          8,
          40,
          23,
          8,
          51,
          10,
          599,
          3,
          168,
          4,
          199,
          5,
          27,
          9,
          6,
          71,
          116
         ]
        }
       ],
       "layout": {
        "annotations": [
         {
          "font": {
           "size": 20
          },
          "showarrow": false,
          "text": "Female",
          "x": 0.19,
          "y": 0.5
         },
         {
          "font": {
           "size": 20
          },
          "showarrow": false,
          "text": "Male",
          "x": 0.8,
          "y": 0.5
         }
        ],
        "height": 500,
        "template": {
         "data": {
          "bar": [
           {
            "error_x": {
             "color": "#2a3f5f"
            },
            "error_y": {
             "color": "#2a3f5f"
            },
            "marker": {
             "line": {
              "color": "#E5ECF6",
              "width": 0.5
             },
             "pattern": {
              "fillmode": "overlay",
              "size": 10,
              "solidity": 0.2
             }
            },
            "type": "bar"
           }
          ],
          "barpolar": [
           {
            "marker": {
             "line": {
              "color": "#E5ECF6",
              "width": 0.5
             },
             "pattern": {
              "fillmode": "overlay",
              "size": 10,
              "solidity": 0.2
             }
            },
            "type": "barpolar"
           }
          ],
          "carpet": [
           {
            "aaxis": {
             "endlinecolor": "#2a3f5f",
             "gridcolor": "white",
             "linecolor": "white",
             "minorgridcolor": "white",
             "startlinecolor": "#2a3f5f"
            },
            "baxis": {
             "endlinecolor": "#2a3f5f",
             "gridcolor": "white",
             "linecolor": "white",
             "minorgridcolor": "white",
             "startlinecolor": "#2a3f5f"
            },
            "type": "carpet"
           }
          ],
          "choropleth": [
           {
            "colorbar": {
             "outlinewidth": 0,
             "ticks": ""
            },
            "type": "choropleth"
           }
          ],
          "contour": [
           {
            "colorbar": {
             "outlinewidth": 0,
             "ticks": ""
            },
            "colorscale": [
             [
              0,
              "#0d0887"
             ],
             [
              0.1111111111111111,
              "#46039f"
             ],
             [
              0.2222222222222222,
              "#7201a8"
             ],
             [
              0.3333333333333333,
              "#9c179e"
             ],
             [
              0.4444444444444444,
              "#bd3786"
             ],
             [
              0.5555555555555556,
              "#d8576b"
             ],
             [
              0.6666666666666666,
              "#ed7953"
             ],
             [
              0.7777777777777778,
              "#fb9f3a"
             ],
             [
              0.8888888888888888,
              "#fdca26"
             ],
             [
              1,
              "#f0f921"
             ]
            ],
            "type": "contour"
           }
          ],
          "contourcarpet": [
           {
            "colorbar": {
             "outlinewidth": 0,
             "ticks": ""
            },
            "type": "contourcarpet"
           }
          ],
          "heatmap": [
           {
            "colorbar": {
             "outlinewidth": 0,
             "ticks": ""
            },
            "colorscale": [
             [
              0,
              "#0d0887"
             ],
             [
              0.1111111111111111,
              "#46039f"
             ],
             [
              0.2222222222222222,
              "#7201a8"
             ],
             [
              0.3333333333333333,
              "#9c179e"
             ],
             [
              0.4444444444444444,
              "#bd3786"
             ],
             [
              0.5555555555555556,
              "#d8576b"
             ],
             [
              0.6666666666666666,
              "#ed7953"
             ],
             [
              0.7777777777777778,
              "#fb9f3a"
             ],
             [
              0.8888888888888888,
              "#fdca26"
             ],
             [
              1,
              "#f0f921"
             ]
            ],
            "type": "heatmap"
           }
          ],
          "heatmapgl": [
           {
            "colorbar": {
             "outlinewidth": 0,
             "ticks": ""
            },
            "colorscale": [
             [
              0,
              "#0d0887"
             ],
             [
              0.1111111111111111,
              "#46039f"
             ],
             [
              0.2222222222222222,
              "#7201a8"
             ],
             [
              0.3333333333333333,
              "#9c179e"
             ],
             [
              0.4444444444444444,
              "#bd3786"
             ],
             [
              0.5555555555555556,
              "#d8576b"
             ],
             [
              0.6666666666666666,
              "#ed7953"
             ],
             [
              0.7777777777777778,
              "#fb9f3a"
             ],
             [
              0.8888888888888888,
              "#fdca26"
             ],
             [
              1,
              "#f0f921"
             ]
            ],
            "type": "heatmapgl"
           }
          ],
          "histogram": [
           {
            "marker": {
             "pattern": {
              "fillmode": "overlay",
              "size": 10,
              "solidity": 0.2
             }
            },
            "type": "histogram"
           }
          ],
          "histogram2d": [
           {
            "colorbar": {
             "outlinewidth": 0,
             "ticks": ""
            },
            "colorscale": [
             [
              0,
              "#0d0887"
             ],
             [
              0.1111111111111111,
              "#46039f"
             ],
             [
              0.2222222222222222,
              "#7201a8"
             ],
             [
              0.3333333333333333,
              "#9c179e"
             ],
             [
              0.4444444444444444,
              "#bd3786"
             ],
             [
              0.5555555555555556,
              "#d8576b"
             ],
             [
              0.6666666666666666,
              "#ed7953"
             ],
             [
              0.7777777777777778,
              "#fb9f3a"
             ],
             [
              0.8888888888888888,
              "#fdca26"
             ],
             [
              1,
              "#f0f921"
             ]
            ],
            "type": "histogram2d"
           }
          ],
          "histogram2dcontour": [
           {
            "colorbar": {
             "outlinewidth": 0,
             "ticks": ""
            },
            "colorscale": [
             [
              0,
              "#0d0887"
             ],
             [
              0.1111111111111111,
              "#46039f"
             ],
             [
              0.2222222222222222,
              "#7201a8"
             ],
             [
              0.3333333333333333,
              "#9c179e"
             ],
             [
              0.4444444444444444,
              "#bd3786"
             ],
             [
              0.5555555555555556,
              "#d8576b"
             ],
             [
              0.6666666666666666,
              "#ed7953"
             ],
             [
              0.7777777777777778,
              "#fb9f3a"
             ],
             [
              0.8888888888888888,
              "#fdca26"
             ],
             [
              1,
              "#f0f921"
             ]
            ],
            "type": "histogram2dcontour"
           }
          ],
          "mesh3d": [
           {
            "colorbar": {
             "outlinewidth": 0,
             "ticks": ""
            },
            "type": "mesh3d"
           }
          ],
          "parcoords": [
           {
            "line": {
             "colorbar": {
              "outlinewidth": 0,
              "ticks": ""
             }
            },
            "type": "parcoords"
           }
          ],
          "pie": [
           {
            "automargin": true,
            "type": "pie"
           }
          ],
          "scatter": [
           {
            "marker": {
             "colorbar": {
              "outlinewidth": 0,
              "ticks": ""
             }
            },
            "type": "scatter"
           }
          ],
          "scatter3d": [
           {
            "line": {
             "colorbar": {
              "outlinewidth": 0,
              "ticks": ""
             }
            },
            "marker": {
             "colorbar": {
              "outlinewidth": 0,
              "ticks": ""
             }
            },
            "type": "scatter3d"
           }
          ],
          "scattercarpet": [
           {
            "marker": {
             "colorbar": {
              "outlinewidth": 0,
              "ticks": ""
             }
            },
            "type": "scattercarpet"
           }
          ],
          "scattergeo": [
           {
            "marker": {
             "colorbar": {
              "outlinewidth": 0,
              "ticks": ""
             }
            },
            "type": "scattergeo"
           }
          ],
          "scattergl": [
           {
            "marker": {
             "colorbar": {
              "outlinewidth": 0,
              "ticks": ""
             }
            },
            "type": "scattergl"
           }
          ],
          "scattermapbox": [
           {
            "marker": {
             "colorbar": {
              "outlinewidth": 0,
              "ticks": ""
             }
            },
            "type": "scattermapbox"
           }
          ],
          "scatterpolar": [
           {
            "marker": {
             "colorbar": {
              "outlinewidth": 0,
              "ticks": ""
             }
            },
            "type": "scatterpolar"
           }
          ],
          "scatterpolargl": [
           {
            "marker": {
             "colorbar": {
              "outlinewidth": 0,
              "ticks": ""
             }
            },
            "type": "scatterpolargl"
           }
          ],
          "scatterternary": [
           {
            "marker": {
             "colorbar": {
              "outlinewidth": 0,
              "ticks": ""
             }
            },
            "type": "scatterternary"
           }
          ],
          "surface": [
           {
            "colorbar": {
             "outlinewidth": 0,
             "ticks": ""
            },
            "colorscale": [
             [
              0,
              "#0d0887"
             ],
             [
              0.1111111111111111,
              "#46039f"
             ],
             [
              0.2222222222222222,
              "#7201a8"
             ],
             [
              0.3333333333333333,
              "#9c179e"
             ],
             [
              0.4444444444444444,
              "#bd3786"
             ],
             [
              0.5555555555555556,
              "#d8576b"
             ],
             [
              0.6666666666666666,
              "#ed7953"
             ],
             [
              0.7777777777777778,
              "#fb9f3a"
             ],
             [
              0.8888888888888888,
              "#fdca26"
             ],
             [
              1,
              "#f0f921"
             ]
            ],
            "type": "surface"
           }
          ],
          "table": [
           {
            "cells": {
             "fill": {
              "color": "#EBF0F8"
             },
             "line": {
              "color": "white"
             }
            },
            "header": {
             "fill": {
              "color": "#C8D4E3"
             },
             "line": {
              "color": "white"
             }
            },
            "type": "table"
           }
          ]
         },
         "layout": {
          "annotationdefaults": {
           "arrowcolor": "#2a3f5f",
           "arrowhead": 0,
           "arrowwidth": 1
          },
          "autotypenumbers": "strict",
          "coloraxis": {
           "colorbar": {
            "outlinewidth": 0,
            "ticks": ""
           }
          },
          "colorscale": {
           "diverging": [
            [
             0,
             "#8e0152"
            ],
            [
             0.1,
             "#c51b7d"
            ],
            [
             0.2,
             "#de77ae"
            ],
            [
             0.3,
             "#f1b6da"
            ],
            [
             0.4,
             "#fde0ef"
            ],
            [
             0.5,
             "#f7f7f7"
            ],
            [
             0.6,
             "#e6f5d0"
            ],
            [
             0.7,
             "#b8e186"
            ],
            [
             0.8,
             "#7fbc41"
            ],
            [
             0.9,
             "#4d9221"
            ],
            [
             1,
             "#276419"
            ]
           ],
           "sequential": [
            [
             0,
             "#0d0887"
            ],
            [
             0.1111111111111111,
             "#46039f"
            ],
            [
             0.2222222222222222,
             "#7201a8"
            ],
            [
             0.3333333333333333,
             "#9c179e"
            ],
            [
             0.4444444444444444,
             "#bd3786"
            ],
            [
             0.5555555555555556,
             "#d8576b"
            ],
            [
             0.6666666666666666,
             "#ed7953"
            ],
            [
             0.7777777777777778,
             "#fb9f3a"
            ],
            [
             0.8888888888888888,
             "#fdca26"
            ],
            [
             1,
             "#f0f921"
            ]
           ],
           "sequentialminus": [
            [
             0,
             "#0d0887"
            ],
            [
             0.1111111111111111,
             "#46039f"
            ],
            [
             0.2222222222222222,
             "#7201a8"
            ],
            [
             0.3333333333333333,
             "#9c179e"
            ],
            [
             0.4444444444444444,
             "#bd3786"
            ],
            [
             0.5555555555555556,
             "#d8576b"
            ],
            [
             0.6666666666666666,
             "#ed7953"
            ],
            [
             0.7777777777777778,
             "#fb9f3a"
            ],
            [
             0.8888888888888888,
             "#fdca26"
            ],
            [
             1,
             "#f0f921"
            ]
           ]
          },
          "colorway": [
           "#636efa",
           "#EF553B",
           "#00cc96",
           "#ab63fa",
           "#FFA15A",
           "#19d3f3",
           "#FF6692",
           "#B6E880",
           "#FF97FF",
           "#FECB52"
          ],
          "font": {
           "color": "#2a3f5f"
          },
          "geo": {
           "bgcolor": "white",
           "lakecolor": "white",
           "landcolor": "#E5ECF6",
           "showlakes": true,
           "showland": true,
           "subunitcolor": "white"
          },
          "hoverlabel": {
           "align": "left"
          },
          "hovermode": "closest",
          "mapbox": {
           "style": "light"
          },
          "paper_bgcolor": "white",
          "plot_bgcolor": "#E5ECF6",
          "polar": {
           "angularaxis": {
            "gridcolor": "white",
            "linecolor": "white",
            "ticks": ""
           },
           "bgcolor": "#E5ECF6",
           "radialaxis": {
            "gridcolor": "white",
            "linecolor": "white",
            "ticks": ""
           }
          },
          "scene": {
           "xaxis": {
            "backgroundcolor": "#E5ECF6",
            "gridcolor": "white",
            "gridwidth": 2,
            "linecolor": "white",
            "showbackground": true,
            "ticks": "",
            "zerolinecolor": "white"
           },
           "yaxis": {
            "backgroundcolor": "#E5ECF6",
            "gridcolor": "white",
            "gridwidth": 2,
            "linecolor": "white",
            "showbackground": true,
            "ticks": "",
            "zerolinecolor": "white"
           },
           "zaxis": {
            "backgroundcolor": "#E5ECF6",
            "gridcolor": "white",
            "gridwidth": 2,
            "linecolor": "white",
            "showbackground": true,
            "ticks": "",
            "zerolinecolor": "white"
           }
          },
          "shapedefaults": {
           "line": {
            "color": "#2a3f5f"
           }
          },
          "ternary": {
           "aaxis": {
            "gridcolor": "white",
            "linecolor": "white",
            "ticks": ""
           },
           "baxis": {
            "gridcolor": "white",
            "linecolor": "white",
            "ticks": ""
           },
           "bgcolor": "#E5ECF6",
           "caxis": {
            "gridcolor": "white",
            "linecolor": "white",
            "ticks": ""
           }
          },
          "title": {
           "x": 0.05
          },
          "xaxis": {
           "automargin": true,
           "gridcolor": "white",
           "linecolor": "white",
           "ticks": "",
           "title": {
            "standoff": 15
           },
           "zerolinecolor": "white",
           "zerolinewidth": 2
          },
          "yaxis": {
           "automargin": true,
           "gridcolor": "white",
           "linecolor": "white",
           "ticks": "",
           "title": {
            "standoff": 15
           },
           "zerolinecolor": "white",
           "zerolinewidth": 2
          }
         }
        },
        "title": {
         "text": "Subclass expression profile"
        },
        "width": 1200
       }
      }
     },
     "metadata": {}
    }
   ],
   "metadata": {}
  },
  {
   "cell_type": "code",
   "execution_count": 74,
   "source": [
    "TE_data_table.head(10)"
   ],
   "outputs": [
    {
     "output_type": "execute_result",
     "data": {
      "text/plain": [
       "  Subclass Superfamily      Family  Nb_of_insertion  Min_TE_length  \\\n",
       "0     LINE      R1-LOA    Baggins1              137            121   \n",
       "1      DNA   TcMar-Tc1       BARI1                9            114   \n",
       "2      DNA   TcMar-Tc1     BARI_DM               16           1232   \n",
       "3     LINE    I-Jockey          BS               66            101   \n",
       "4     LINE    I-Jockey         BS2              117            120   \n",
       "5     LINE    I-Jockey      BS3_DM               52            114   \n",
       "6     LINE    I-Jockey      BS4_DM                3            103   \n",
       "7      LTR       Gypsy       CIRCE               36            123   \n",
       "8      LTR       Gypsy       DM412               60            111   \n",
       "9      LTR       Gypsy  DM412B_LTR               20            107   \n",
       "\n",
       "   Max_TE_length  Female_Counts  Female_nb_of_expressed_insertion  \\\n",
       "0          10648              2                                 2   \n",
       "1           1563              0                                 0   \n",
       "2           1732              1                                 1   \n",
       "3           7501              2                                 2   \n",
       "4           9056              1                                 1   \n",
       "5           2183              0                                 0   \n",
       "6            750              0                                 0   \n",
       "7           7880              0                                 0   \n",
       "8           7034              8                                 4   \n",
       "9           8866              1                                 1   \n",
       "\n",
       "         Female_most_expressed_insertion  Male_Counts  \\\n",
       "0    Baggins1_3L_RaGOO_24293575_24300805           13   \n",
       "1        BARI1_X_RaGOO_21428317_21429694            5   \n",
       "2           BARI_DM_2R_RaGOO_42130_43850            0   \n",
       "3          BS_3L_RaGOO_25670374_25671727            3   \n",
       "4           BS2_2R_RaGOO_2406301_2407991           10   \n",
       "5       BS3_DM_X_RaGOO_21935688_21936234            9   \n",
       "6        BS4_DM_3R_RaGOO_4052534_4053284            1   \n",
       "7        CIRCE_X_RaGOO_22014034_22017447           31   \n",
       "8         DM412_3R_RaGOO_3388391_3389451           14   \n",
       "9  DM412B_LTR_3R_RaGOO_21307972_21315446            5   \n",
       "\n",
       "   Male_nb_of_expressed_insertion         Male_most_expressed_insertion  \n",
       "0                               5     Baggins1_2R_RaGOO_2570496_2580847  \n",
       "1                               1      BARI1_2L_RaGOO_21112657_21113769  \n",
       "2                               0    BARI_DM_3R_RaGOO_18377955_18379687  \n",
       "3                               3         BS_3L_RaGOO_26196418_26197513  \n",
       "4                               4          BS2_2R_RaGOO_3748515_3753218  \n",
       "5                               3       BS3_DM_3R_RaGOO_1150409_1151578  \n",
       "6                               1       BS4_DM_3R_RaGOO_4052534_4053284  \n",
       "7                               6        CIRCE_3R_RaGOO_3073861_3079193  \n",
       "8                              10        DM412_2R_RaGOO_2546519_2550576  \n",
       "9                               3  DM412B_LTR_X_RaGOO_11799809_11807235  "
      ],
      "text/html": [
       "<div>\n",
       "<style scoped>\n",
       "    .dataframe tbody tr th:only-of-type {\n",
       "        vertical-align: middle;\n",
       "    }\n",
       "\n",
       "    .dataframe tbody tr th {\n",
       "        vertical-align: top;\n",
       "    }\n",
       "\n",
       "    .dataframe thead th {\n",
       "        text-align: right;\n",
       "    }\n",
       "</style>\n",
       "<table border=\"1\" class=\"dataframe\">\n",
       "  <thead>\n",
       "    <tr style=\"text-align: right;\">\n",
       "      <th></th>\n",
       "      <th>Subclass</th>\n",
       "      <th>Superfamily</th>\n",
       "      <th>Family</th>\n",
       "      <th>Nb_of_insertion</th>\n",
       "      <th>Min_TE_length</th>\n",
       "      <th>Max_TE_length</th>\n",
       "      <th>Female_Counts</th>\n",
       "      <th>Female_nb_of_expressed_insertion</th>\n",
       "      <th>Female_most_expressed_insertion</th>\n",
       "      <th>Male_Counts</th>\n",
       "      <th>Male_nb_of_expressed_insertion</th>\n",
       "      <th>Male_most_expressed_insertion</th>\n",
       "    </tr>\n",
       "  </thead>\n",
       "  <tbody>\n",
       "    <tr>\n",
       "      <th>0</th>\n",
       "      <td>LINE</td>\n",
       "      <td>R1-LOA</td>\n",
       "      <td>Baggins1</td>\n",
       "      <td>137</td>\n",
       "      <td>121</td>\n",
       "      <td>10648</td>\n",
       "      <td>2</td>\n",
       "      <td>2</td>\n",
       "      <td>Baggins1_3L_RaGOO_24293575_24300805</td>\n",
       "      <td>13</td>\n",
       "      <td>5</td>\n",
       "      <td>Baggins1_2R_RaGOO_2570496_2580847</td>\n",
       "    </tr>\n",
       "    <tr>\n",
       "      <th>1</th>\n",
       "      <td>DNA</td>\n",
       "      <td>TcMar-Tc1</td>\n",
       "      <td>BARI1</td>\n",
       "      <td>9</td>\n",
       "      <td>114</td>\n",
       "      <td>1563</td>\n",
       "      <td>0</td>\n",
       "      <td>0</td>\n",
       "      <td>BARI1_X_RaGOO_21428317_21429694</td>\n",
       "      <td>5</td>\n",
       "      <td>1</td>\n",
       "      <td>BARI1_2L_RaGOO_21112657_21113769</td>\n",
       "    </tr>\n",
       "    <tr>\n",
       "      <th>2</th>\n",
       "      <td>DNA</td>\n",
       "      <td>TcMar-Tc1</td>\n",
       "      <td>BARI_DM</td>\n",
       "      <td>16</td>\n",
       "      <td>1232</td>\n",
       "      <td>1732</td>\n",
       "      <td>1</td>\n",
       "      <td>1</td>\n",
       "      <td>BARI_DM_2R_RaGOO_42130_43850</td>\n",
       "      <td>0</td>\n",
       "      <td>0</td>\n",
       "      <td>BARI_DM_3R_RaGOO_18377955_18379687</td>\n",
       "    </tr>\n",
       "    <tr>\n",
       "      <th>3</th>\n",
       "      <td>LINE</td>\n",
       "      <td>I-Jockey</td>\n",
       "      <td>BS</td>\n",
       "      <td>66</td>\n",
       "      <td>101</td>\n",
       "      <td>7501</td>\n",
       "      <td>2</td>\n",
       "      <td>2</td>\n",
       "      <td>BS_3L_RaGOO_25670374_25671727</td>\n",
       "      <td>3</td>\n",
       "      <td>3</td>\n",
       "      <td>BS_3L_RaGOO_26196418_26197513</td>\n",
       "    </tr>\n",
       "    <tr>\n",
       "      <th>4</th>\n",
       "      <td>LINE</td>\n",
       "      <td>I-Jockey</td>\n",
       "      <td>BS2</td>\n",
       "      <td>117</td>\n",
       "      <td>120</td>\n",
       "      <td>9056</td>\n",
       "      <td>1</td>\n",
       "      <td>1</td>\n",
       "      <td>BS2_2R_RaGOO_2406301_2407991</td>\n",
       "      <td>10</td>\n",
       "      <td>4</td>\n",
       "      <td>BS2_2R_RaGOO_3748515_3753218</td>\n",
       "    </tr>\n",
       "    <tr>\n",
       "      <th>5</th>\n",
       "      <td>LINE</td>\n",
       "      <td>I-Jockey</td>\n",
       "      <td>BS3_DM</td>\n",
       "      <td>52</td>\n",
       "      <td>114</td>\n",
       "      <td>2183</td>\n",
       "      <td>0</td>\n",
       "      <td>0</td>\n",
       "      <td>BS3_DM_X_RaGOO_21935688_21936234</td>\n",
       "      <td>9</td>\n",
       "      <td>3</td>\n",
       "      <td>BS3_DM_3R_RaGOO_1150409_1151578</td>\n",
       "    </tr>\n",
       "    <tr>\n",
       "      <th>6</th>\n",
       "      <td>LINE</td>\n",
       "      <td>I-Jockey</td>\n",
       "      <td>BS4_DM</td>\n",
       "      <td>3</td>\n",
       "      <td>103</td>\n",
       "      <td>750</td>\n",
       "      <td>0</td>\n",
       "      <td>0</td>\n",
       "      <td>BS4_DM_3R_RaGOO_4052534_4053284</td>\n",
       "      <td>1</td>\n",
       "      <td>1</td>\n",
       "      <td>BS4_DM_3R_RaGOO_4052534_4053284</td>\n",
       "    </tr>\n",
       "    <tr>\n",
       "      <th>7</th>\n",
       "      <td>LTR</td>\n",
       "      <td>Gypsy</td>\n",
       "      <td>CIRCE</td>\n",
       "      <td>36</td>\n",
       "      <td>123</td>\n",
       "      <td>7880</td>\n",
       "      <td>0</td>\n",
       "      <td>0</td>\n",
       "      <td>CIRCE_X_RaGOO_22014034_22017447</td>\n",
       "      <td>31</td>\n",
       "      <td>6</td>\n",
       "      <td>CIRCE_3R_RaGOO_3073861_3079193</td>\n",
       "    </tr>\n",
       "    <tr>\n",
       "      <th>8</th>\n",
       "      <td>LTR</td>\n",
       "      <td>Gypsy</td>\n",
       "      <td>DM412</td>\n",
       "      <td>60</td>\n",
       "      <td>111</td>\n",
       "      <td>7034</td>\n",
       "      <td>8</td>\n",
       "      <td>4</td>\n",
       "      <td>DM412_3R_RaGOO_3388391_3389451</td>\n",
       "      <td>14</td>\n",
       "      <td>10</td>\n",
       "      <td>DM412_2R_RaGOO_2546519_2550576</td>\n",
       "    </tr>\n",
       "    <tr>\n",
       "      <th>9</th>\n",
       "      <td>LTR</td>\n",
       "      <td>Gypsy</td>\n",
       "      <td>DM412B_LTR</td>\n",
       "      <td>20</td>\n",
       "      <td>107</td>\n",
       "      <td>8866</td>\n",
       "      <td>1</td>\n",
       "      <td>1</td>\n",
       "      <td>DM412B_LTR_3R_RaGOO_21307972_21315446</td>\n",
       "      <td>5</td>\n",
       "      <td>3</td>\n",
       "      <td>DM412B_LTR_X_RaGOO_11799809_11807235</td>\n",
       "    </tr>\n",
       "  </tbody>\n",
       "</table>\n",
       "</div>"
      ]
     },
     "metadata": {},
     "execution_count": 74
    }
   ],
   "metadata": {}
  },
  {
   "cell_type": "code",
   "execution_count": 75,
   "source": [
    "df = TE_data_table.copy()\n",
    "expressed = df[\"Female_Counts\"] > 0\n",
    "df = df[expressed]\n",
    "# fig = px.sunburst(df, path=['SubClass', 'SuperFamily', 'Family'], values='Male_Counts', color = \"Male_subject_coverage\")\n",
    "fig = px.sunburst(df, path=['Subclass', 'Superfamily', 'Family'], values='Female_Counts')\n",
    "fig.show()"
   ],
   "outputs": [
    {
     "output_type": "display_data",
     "data": {
      "text/html": [
       "<div>                            <div id=\"b7cc85e1-9a54-44be-8e41-e32cd9670f6b\" class=\"plotly-graph-div\" style=\"height:525px; width:100%;\"></div>            <script type=\"text/javascript\">                require([\"plotly\"], function(Plotly) {                    window.PLOTLYENV=window.PLOTLYENV || {};                                    if (document.getElementById(\"b7cc85e1-9a54-44be-8e41-e32cd9670f6b\")) {                    Plotly.newPlot(                        \"b7cc85e1-9a54-44be-8e41-e32cd9670f6b\",                        [{\"branchvalues\": \"total\", \"domain\": {\"x\": [0.0, 1.0], \"y\": [0.0, 1.0]}, \"hovertemplate\": \"labels=%{label}<br>Female_Counts=%{value}<br>parent=%{parent}<br>id=%{id}<extra></extra>\", \"ids\": [\"LTR/Gypsy/ACCORD\", \"LTR/Gypsy/ACCORD2\", \"DNA/TcMar-Tc1/BARI_DM\", \"LTR/Pao/BATUMI\", \"LTR/Gypsy/BLASTOPIA\", \"LTR/Gypsy/BLOOD\", \"LINE/I-Jockey/BS\", \"LINE/I-Jockey/BS2\", \"LTR/Gypsy/BURDOCK\", \"LINE/R1-LOA/Baggins1\", \"LTR/Gypsy/Chimpo\", \"LTR/Gypsy/Chouto\", \"LTR/Copia/Copia\", \"LTR/Copia/Copia1\", \"LTR/Copia/Copia2\", \"LTR/Copia/DM1731\", \"LTR/Gypsy/DM176\", \"LTR/Gypsy/DM297\", \"LTR/Gypsy/DM412\", \"LTR/Gypsy/DM412B_LTR\", \"LINE/CR1/DMCR1A\", \"LINE/R1/DMRT1A\", \"LINE/R1/DMRT1B\", \"RC/Helitron/DNAREP1_DM\", \"LINE/I-Jockey/DOC\", \"LINE/I-Jockey/DOC3_DM\", \"LINE/I-Jockey/DOC5_DM\", \"LINE/I-Jockey/DOC6_DM\", \"DNA/TcMar-Tc1/FB4_DM\", \"LINE/I-Jockey/FW2_DM\", \"LINE/I-Jockey/G3_DM\", \"LTR/Gypsy/GTWIN\", \"LTR/Gypsy/Gypsy\", \"LTR/Gypsy/Gypsy1\", \"LTR/Gypsy/Gypsy10\", \"LTR/Gypsy/Gypsy11\", \"LTR/Gypsy/Gypsy12\", \"LTR/Gypsy/Gypsy12A_LTR\", \"LTR/Gypsy/Gypsy2\", \"LTR/Gypsy/Gypsy4\", \"LTR/Gypsy/Gypsy7\", \"LTR/Gypsy/Gypsy8\", \"LINE/I-Jockey/HETA\", \"DNA/hAT-hobo/HOBO\", \"LTR/Gypsy/IDEFIX\", \"LINE/I/IVK_DM\", \"LINE/I/I_DM\", \"LTR/Gypsy/Invader1\", \"LTR/Gypsy/Invader2\", \"LTR/Gypsy/Invader4\", \"LTR/Gypsy/Invader6\", \"DNA/CMC-Transib/M4DM\", \"LTR/Pao/MAX\", \"LTR/Gypsy/MDG1\", \"LTR/Gypsy/MICROPIA\", \"DNA/TcMar-Tc1/Mariner2_DM\", \"LTR/Gypsy/NOMAD\", \"DNA/TcMar-Pogo/POGO\", \"DNA/P/PROTOP\", \"DNA/P/PROTOP_B\", \"LTR/Gypsy/QUASIMODO\", \"LTR/Gypsy/QUASIMODO2\", \"LINE/R1/R1_DM\", \"LTR/Pao/ROO\", \"LTR/Pao/ROOA\", \"LTR/Gypsy/ROVER\", \"LTR/Gypsy/STALKER4\", \"DNA/TcMar-Tc1/S_DM\", \"LTR/Gypsy/Stalker2\", \"LTR/Gypsy/TABOR\", \"LINE/I-Jockey/TAHRE\", \"LINE/I-Jockey/TART-A\", \"LINE/I-Jockey/TART_B1\", \"DNA/TcMar-Tc1/TC1-2_DM\", \"DNA/TcMar-Tc1/TC1_DM\", \"LTR/Gypsy/TIRANT\", \"DNA/CMC-Transib/TRANSIB2\", \"DNA/CMC-Transib/TRANSIB3\", \"DNA/CMC-Transib/Transib5\", \"LTR/Gypsy/ZAM\", \"DNA/CMC-Transib\", \"LINE/CR1\", \"LTR/Copia\", \"LTR/Gypsy\", \"RC/Helitron\", \"LINE/I\", \"LINE/I-Jockey\", \"DNA/P\", \"LTR/Pao\", \"LINE/R1\", \"LINE/R1-LOA\", \"DNA/TcMar-Pogo\", \"DNA/TcMar-Tc1\", \"DNA/hAT-hobo\", \"DNA\", \"LINE\", \"LTR\", \"RC\"], \"labels\": [\"ACCORD\", \"ACCORD2\", \"BARI_DM\", \"BATUMI\", \"BLASTOPIA\", \"BLOOD\", \"BS\", \"BS2\", \"BURDOCK\", \"Baggins1\", \"Chimpo\", \"Chouto\", \"Copia\", \"Copia1\", \"Copia2\", \"DM1731\", \"DM176\", \"DM297\", \"DM412\", \"DM412B_LTR\", \"DMCR1A\", \"DMRT1A\", \"DMRT1B\", \"DNAREP1_DM\", \"DOC\", \"DOC3_DM\", \"DOC5_DM\", \"DOC6_DM\", \"FB4_DM\", \"FW2_DM\", \"G3_DM\", \"GTWIN\", \"Gypsy\", \"Gypsy1\", \"Gypsy10\", \"Gypsy11\", \"Gypsy12\", \"Gypsy12A_LTR\", \"Gypsy2\", \"Gypsy4\", \"Gypsy7\", \"Gypsy8\", \"HETA\", \"HOBO\", \"IDEFIX\", \"IVK_DM\", \"I_DM\", \"Invader1\", \"Invader2\", \"Invader4\", \"Invader6\", \"M4DM\", \"MAX\", \"MDG1\", \"MICROPIA\", \"Mariner2_DM\", \"NOMAD\", \"POGO\", \"PROTOP\", \"PROTOP_B\", \"QUASIMODO\", \"QUASIMODO2\", \"R1_DM\", \"ROO\", \"ROOA\", \"ROVER\", \"STALKER4\", \"S_DM\", \"Stalker2\", \"TABOR\", \"TAHRE\", \"TART-A\", \"TART_B1\", \"TC1-2_DM\", \"TC1_DM\", \"TIRANT\", \"TRANSIB2\", \"TRANSIB3\", \"Transib5\", \"ZAM\", \"CMC-Transib\", \"CR1\", \"Copia\", \"Gypsy\", \"Helitron\", \"I\", \"I-Jockey\", \"P\", \"Pao\", \"R1\", \"R1-LOA\", \"TcMar-Pogo\", \"TcMar-Tc1\", \"hAT-hobo\", \"DNA\", \"LINE\", \"LTR\", \"RC\"], \"name\": \"\", \"parents\": [\"LTR/Gypsy\", \"LTR/Gypsy\", \"DNA/TcMar-Tc1\", \"LTR/Pao\", \"LTR/Gypsy\", \"LTR/Gypsy\", \"LINE/I-Jockey\", \"LINE/I-Jockey\", \"LTR/Gypsy\", \"LINE/R1-LOA\", \"LTR/Gypsy\", \"LTR/Gypsy\", \"LTR/Copia\", \"LTR/Copia\", \"LTR/Copia\", \"LTR/Copia\", \"LTR/Gypsy\", \"LTR/Gypsy\", \"LTR/Gypsy\", \"LTR/Gypsy\", \"LINE/CR1\", \"LINE/R1\", \"LINE/R1\", \"RC/Helitron\", \"LINE/I-Jockey\", \"LINE/I-Jockey\", \"LINE/I-Jockey\", \"LINE/I-Jockey\", \"DNA/TcMar-Tc1\", \"LINE/I-Jockey\", \"LINE/I-Jockey\", \"LTR/Gypsy\", \"LTR/Gypsy\", \"LTR/Gypsy\", \"LTR/Gypsy\", \"LTR/Gypsy\", \"LTR/Gypsy\", \"LTR/Gypsy\", \"LTR/Gypsy\", \"LTR/Gypsy\", \"LTR/Gypsy\", \"LTR/Gypsy\", \"LINE/I-Jockey\", \"DNA/hAT-hobo\", \"LTR/Gypsy\", \"LINE/I\", \"LINE/I\", \"LTR/Gypsy\", \"LTR/Gypsy\", \"LTR/Gypsy\", \"LTR/Gypsy\", \"DNA/CMC-Transib\", \"LTR/Pao\", \"LTR/Gypsy\", \"LTR/Gypsy\", \"DNA/TcMar-Tc1\", \"LTR/Gypsy\", \"DNA/TcMar-Pogo\", \"DNA/P\", \"DNA/P\", \"LTR/Gypsy\", \"LTR/Gypsy\", \"LINE/R1\", \"LTR/Pao\", \"LTR/Pao\", \"LTR/Gypsy\", \"LTR/Gypsy\", \"DNA/TcMar-Tc1\", \"LTR/Gypsy\", \"LTR/Gypsy\", \"LINE/I-Jockey\", \"LINE/I-Jockey\", \"LINE/I-Jockey\", \"DNA/TcMar-Tc1\", \"DNA/TcMar-Tc1\", \"LTR/Gypsy\", \"DNA/CMC-Transib\", \"DNA/CMC-Transib\", \"DNA/CMC-Transib\", \"LTR/Gypsy\", \"DNA\", \"LINE\", \"LTR\", \"LTR\", \"RC\", \"LINE\", \"LINE\", \"DNA\", \"LTR\", \"LINE\", \"LINE\", \"DNA\", \"DNA\", \"DNA\", \"\", \"\", \"\", \"\"], \"type\": \"sunburst\", \"values\": [3, 7, 1, 2, 6, 15, 2, 1, 4, 2, 3, 19, 161, 1, 2, 3, 4, 6, 8, 1, 84, 1, 3, 4, 7, 2, 3, 3, 3, 2, 2, 2, 11, 12, 1, 2, 65, 12, 2, 1, 1, 3, 14, 1, 4, 6, 4, 4, 1, 1, 5, 2, 11, 12, 36, 1, 2, 220, 2, 5, 10, 1, 3, 517, 1, 2, 2, 6, 19, 1, 7, 15, 7, 3, 1, 2, 1, 16, 1, 1, 20, 84, 167, 291, 4, 10, 65, 7, 531, 7, 2, 220, 15, 1, 263, 168, 989, 4]}],                        {\"legend\": {\"tracegroupgap\": 0}, \"margin\": {\"t\": 60}, \"template\": {\"data\": {\"bar\": [{\"error_x\": {\"color\": \"#2a3f5f\"}, \"error_y\": {\"color\": \"#2a3f5f\"}, \"marker\": {\"line\": {\"color\": \"#E5ECF6\", \"width\": 0.5}}, \"type\": \"bar\"}], \"barpolar\": [{\"marker\": {\"line\": {\"color\": \"#E5ECF6\", \"width\": 0.5}}, \"type\": \"barpolar\"}], \"carpet\": [{\"aaxis\": {\"endlinecolor\": \"#2a3f5f\", \"gridcolor\": \"white\", \"linecolor\": \"white\", \"minorgridcolor\": \"white\", \"startlinecolor\": \"#2a3f5f\"}, \"baxis\": {\"endlinecolor\": \"#2a3f5f\", \"gridcolor\": \"white\", \"linecolor\": \"white\", \"minorgridcolor\": \"white\", \"startlinecolor\": \"#2a3f5f\"}, \"type\": \"carpet\"}], \"choropleth\": [{\"colorbar\": {\"outlinewidth\": 0, \"ticks\": \"\"}, \"type\": \"choropleth\"}], \"contour\": [{\"colorbar\": {\"outlinewidth\": 0, \"ticks\": \"\"}, \"colorscale\": [[0.0, \"#0d0887\"], [0.1111111111111111, \"#46039f\"], [0.2222222222222222, \"#7201a8\"], [0.3333333333333333, \"#9c179e\"], [0.4444444444444444, \"#bd3786\"], [0.5555555555555556, \"#d8576b\"], [0.6666666666666666, \"#ed7953\"], [0.7777777777777778, \"#fb9f3a\"], [0.8888888888888888, \"#fdca26\"], [1.0, \"#f0f921\"]], \"type\": \"contour\"}], \"contourcarpet\": [{\"colorbar\": {\"outlinewidth\": 0, \"ticks\": \"\"}, \"type\": \"contourcarpet\"}], \"heatmap\": [{\"colorbar\": {\"outlinewidth\": 0, \"ticks\": \"\"}, \"colorscale\": [[0.0, \"#0d0887\"], [0.1111111111111111, \"#46039f\"], [0.2222222222222222, \"#7201a8\"], [0.3333333333333333, \"#9c179e\"], [0.4444444444444444, \"#bd3786\"], [0.5555555555555556, \"#d8576b\"], [0.6666666666666666, \"#ed7953\"], [0.7777777777777778, \"#fb9f3a\"], [0.8888888888888888, \"#fdca26\"], [1.0, \"#f0f921\"]], \"type\": \"heatmap\"}], \"heatmapgl\": [{\"colorbar\": {\"outlinewidth\": 0, \"ticks\": \"\"}, \"colorscale\": [[0.0, \"#0d0887\"], [0.1111111111111111, \"#46039f\"], [0.2222222222222222, \"#7201a8\"], [0.3333333333333333, \"#9c179e\"], [0.4444444444444444, \"#bd3786\"], [0.5555555555555556, \"#d8576b\"], [0.6666666666666666, \"#ed7953\"], [0.7777777777777778, \"#fb9f3a\"], [0.8888888888888888, \"#fdca26\"], [1.0, \"#f0f921\"]], \"type\": \"heatmapgl\"}], \"histogram\": [{\"marker\": {\"colorbar\": {\"outlinewidth\": 0, \"ticks\": \"\"}}, \"type\": \"histogram\"}], \"histogram2d\": [{\"colorbar\": {\"outlinewidth\": 0, \"ticks\": \"\"}, \"colorscale\": [[0.0, \"#0d0887\"], [0.1111111111111111, \"#46039f\"], [0.2222222222222222, \"#7201a8\"], [0.3333333333333333, \"#9c179e\"], [0.4444444444444444, \"#bd3786\"], [0.5555555555555556, \"#d8576b\"], [0.6666666666666666, \"#ed7953\"], [0.7777777777777778, \"#fb9f3a\"], [0.8888888888888888, \"#fdca26\"], [1.0, \"#f0f921\"]], \"type\": \"histogram2d\"}], \"histogram2dcontour\": [{\"colorbar\": {\"outlinewidth\": 0, \"ticks\": \"\"}, \"colorscale\": [[0.0, \"#0d0887\"], [0.1111111111111111, \"#46039f\"], [0.2222222222222222, \"#7201a8\"], [0.3333333333333333, \"#9c179e\"], [0.4444444444444444, \"#bd3786\"], [0.5555555555555556, \"#d8576b\"], [0.6666666666666666, \"#ed7953\"], [0.7777777777777778, \"#fb9f3a\"], [0.8888888888888888, \"#fdca26\"], [1.0, \"#f0f921\"]], \"type\": \"histogram2dcontour\"}], \"mesh3d\": [{\"colorbar\": {\"outlinewidth\": 0, \"ticks\": \"\"}, \"type\": \"mesh3d\"}], \"parcoords\": [{\"line\": {\"colorbar\": {\"outlinewidth\": 0, \"ticks\": \"\"}}, \"type\": \"parcoords\"}], \"pie\": [{\"automargin\": true, \"type\": \"pie\"}], \"scatter\": [{\"marker\": {\"colorbar\": {\"outlinewidth\": 0, \"ticks\": \"\"}}, \"type\": \"scatter\"}], \"scatter3d\": [{\"line\": {\"colorbar\": {\"outlinewidth\": 0, \"ticks\": \"\"}}, \"marker\": {\"colorbar\": {\"outlinewidth\": 0, \"ticks\": \"\"}}, \"type\": \"scatter3d\"}], \"scattercarpet\": [{\"marker\": {\"colorbar\": {\"outlinewidth\": 0, \"ticks\": \"\"}}, \"type\": \"scattercarpet\"}], \"scattergeo\": [{\"marker\": {\"colorbar\": {\"outlinewidth\": 0, \"ticks\": \"\"}}, \"type\": \"scattergeo\"}], \"scattergl\": [{\"marker\": {\"colorbar\": {\"outlinewidth\": 0, \"ticks\": \"\"}}, \"type\": \"scattergl\"}], \"scattermapbox\": [{\"marker\": {\"colorbar\": {\"outlinewidth\": 0, \"ticks\": \"\"}}, \"type\": \"scattermapbox\"}], \"scatterpolar\": [{\"marker\": {\"colorbar\": {\"outlinewidth\": 0, \"ticks\": \"\"}}, \"type\": \"scatterpolar\"}], \"scatterpolargl\": [{\"marker\": {\"colorbar\": {\"outlinewidth\": 0, \"ticks\": \"\"}}, \"type\": \"scatterpolargl\"}], \"scatterternary\": [{\"marker\": {\"colorbar\": {\"outlinewidth\": 0, \"ticks\": \"\"}}, \"type\": \"scatterternary\"}], \"surface\": [{\"colorbar\": {\"outlinewidth\": 0, \"ticks\": \"\"}, \"colorscale\": [[0.0, \"#0d0887\"], [0.1111111111111111, \"#46039f\"], [0.2222222222222222, \"#7201a8\"], [0.3333333333333333, \"#9c179e\"], [0.4444444444444444, \"#bd3786\"], [0.5555555555555556, \"#d8576b\"], [0.6666666666666666, \"#ed7953\"], [0.7777777777777778, \"#fb9f3a\"], [0.8888888888888888, \"#fdca26\"], [1.0, \"#f0f921\"]], \"type\": \"surface\"}], \"table\": [{\"cells\": {\"fill\": {\"color\": \"#EBF0F8\"}, \"line\": {\"color\": \"white\"}}, \"header\": {\"fill\": {\"color\": \"#C8D4E3\"}, \"line\": {\"color\": \"white\"}}, \"type\": \"table\"}]}, \"layout\": {\"annotationdefaults\": {\"arrowcolor\": \"#2a3f5f\", \"arrowhead\": 0, \"arrowwidth\": 1}, \"autotypenumbers\": \"strict\", \"coloraxis\": {\"colorbar\": {\"outlinewidth\": 0, \"ticks\": \"\"}}, \"colorscale\": {\"diverging\": [[0, \"#8e0152\"], [0.1, \"#c51b7d\"], [0.2, \"#de77ae\"], [0.3, \"#f1b6da\"], [0.4, \"#fde0ef\"], [0.5, \"#f7f7f7\"], [0.6, \"#e6f5d0\"], [0.7, \"#b8e186\"], [0.8, \"#7fbc41\"], [0.9, \"#4d9221\"], [1, \"#276419\"]], \"sequential\": [[0.0, \"#0d0887\"], [0.1111111111111111, \"#46039f\"], [0.2222222222222222, \"#7201a8\"], [0.3333333333333333, \"#9c179e\"], [0.4444444444444444, \"#bd3786\"], [0.5555555555555556, \"#d8576b\"], [0.6666666666666666, \"#ed7953\"], [0.7777777777777778, \"#fb9f3a\"], [0.8888888888888888, \"#fdca26\"], [1.0, \"#f0f921\"]], \"sequentialminus\": [[0.0, \"#0d0887\"], [0.1111111111111111, \"#46039f\"], [0.2222222222222222, \"#7201a8\"], [0.3333333333333333, \"#9c179e\"], [0.4444444444444444, \"#bd3786\"], [0.5555555555555556, \"#d8576b\"], [0.6666666666666666, \"#ed7953\"], [0.7777777777777778, \"#fb9f3a\"], [0.8888888888888888, \"#fdca26\"], [1.0, \"#f0f921\"]]}, \"colorway\": [\"#636efa\", \"#EF553B\", \"#00cc96\", \"#ab63fa\", \"#FFA15A\", \"#19d3f3\", \"#FF6692\", \"#B6E880\", \"#FF97FF\", \"#FECB52\"], \"font\": {\"color\": \"#2a3f5f\"}, \"geo\": {\"bgcolor\": \"white\", \"lakecolor\": \"white\", \"landcolor\": \"#E5ECF6\", \"showlakes\": true, \"showland\": true, \"subunitcolor\": \"white\"}, \"hoverlabel\": {\"align\": \"left\"}, \"hovermode\": \"closest\", \"mapbox\": {\"style\": \"light\"}, \"paper_bgcolor\": \"white\", \"plot_bgcolor\": \"#E5ECF6\", \"polar\": {\"angularaxis\": {\"gridcolor\": \"white\", \"linecolor\": \"white\", \"ticks\": \"\"}, \"bgcolor\": \"#E5ECF6\", \"radialaxis\": {\"gridcolor\": \"white\", \"linecolor\": \"white\", \"ticks\": \"\"}}, \"scene\": {\"xaxis\": {\"backgroundcolor\": \"#E5ECF6\", \"gridcolor\": \"white\", \"gridwidth\": 2, \"linecolor\": \"white\", \"showbackground\": true, \"ticks\": \"\", \"zerolinecolor\": \"white\"}, \"yaxis\": {\"backgroundcolor\": \"#E5ECF6\", \"gridcolor\": \"white\", \"gridwidth\": 2, \"linecolor\": \"white\", \"showbackground\": true, \"ticks\": \"\", \"zerolinecolor\": \"white\"}, \"zaxis\": {\"backgroundcolor\": \"#E5ECF6\", \"gridcolor\": \"white\", \"gridwidth\": 2, \"linecolor\": \"white\", \"showbackground\": true, \"ticks\": \"\", \"zerolinecolor\": \"white\"}}, \"shapedefaults\": {\"line\": {\"color\": \"#2a3f5f\"}}, \"ternary\": {\"aaxis\": {\"gridcolor\": \"white\", \"linecolor\": \"white\", \"ticks\": \"\"}, \"baxis\": {\"gridcolor\": \"white\", \"linecolor\": \"white\", \"ticks\": \"\"}, \"bgcolor\": \"#E5ECF6\", \"caxis\": {\"gridcolor\": \"white\", \"linecolor\": \"white\", \"ticks\": \"\"}}, \"title\": {\"x\": 0.05}, \"xaxis\": {\"automargin\": true, \"gridcolor\": \"white\", \"linecolor\": \"white\", \"ticks\": \"\", \"title\": {\"standoff\": 15}, \"zerolinecolor\": \"white\", \"zerolinewidth\": 2}, \"yaxis\": {\"automargin\": true, \"gridcolor\": \"white\", \"linecolor\": \"white\", \"ticks\": \"\", \"title\": {\"standoff\": 15}, \"zerolinecolor\": \"white\", \"zerolinewidth\": 2}}}},                        {\"responsive\": true}                    ).then(function(){\n",
       "                            \n",
       "var gd = document.getElementById('b7cc85e1-9a54-44be-8e41-e32cd9670f6b');\n",
       "var x = new MutationObserver(function (mutations, observer) {{\n",
       "        var display = window.getComputedStyle(gd).display;\n",
       "        if (!display || display === 'none') {{\n",
       "            console.log([gd, 'removed!']);\n",
       "            Plotly.purge(gd);\n",
       "            observer.disconnect();\n",
       "        }}\n",
       "}});\n",
       "\n",
       "// Listen for the removal of the full notebook cells\n",
       "var notebookContainer = gd.closest('#notebook-container');\n",
       "if (notebookContainer) {{\n",
       "    x.observe(notebookContainer, {childList: true});\n",
       "}}\n",
       "\n",
       "// Listen for the clearing of the current output cell\n",
       "var outputEl = gd.closest('.output');\n",
       "if (outputEl) {{\n",
       "    x.observe(outputEl, {childList: true});\n",
       "}}\n",
       "\n",
       "                        })                };                });            </script>        </div>"
      ],
      "application/vnd.plotly.v1+json": {
       "config": {
        "plotlyServerURL": "https://plot.ly"
       },
       "data": [
        {
         "branchvalues": "total",
         "domain": {
          "x": [
           0,
           1
          ],
          "y": [
           0,
           1
          ]
         },
         "hovertemplate": "labels=%{label}<br>Female_Counts=%{value}<br>parent=%{parent}<br>id=%{id}<extra></extra>",
         "ids": [
          "LTR/Gypsy/ACCORD",
          "LTR/Gypsy/ACCORD2",
          "DNA/TcMar-Tc1/BARI_DM",
          "LTR/Pao/BATUMI",
          "LTR/Gypsy/BLASTOPIA",
          "LTR/Gypsy/BLOOD",
          "LINE/I-Jockey/BS",
          "LINE/I-Jockey/BS2",
          "LTR/Gypsy/BURDOCK",
          "LINE/R1-LOA/Baggins1",
          "LTR/Gypsy/Chimpo",
          "LTR/Gypsy/Chouto",
          "LTR/Copia/Copia",
          "LTR/Copia/Copia1",
          "LTR/Copia/Copia2",
          "LTR/Copia/DM1731",
          "LTR/Gypsy/DM176",
          "LTR/Gypsy/DM297",
          "LTR/Gypsy/DM412",
          "LTR/Gypsy/DM412B_LTR",
          "LINE/CR1/DMCR1A",
          "LINE/R1/DMRT1A",
          "LINE/R1/DMRT1B",
          "RC/Helitron/DNAREP1_DM",
          "LINE/I-Jockey/DOC",
          "LINE/I-Jockey/DOC3_DM",
          "LINE/I-Jockey/DOC5_DM",
          "LINE/I-Jockey/DOC6_DM",
          "DNA/TcMar-Tc1/FB4_DM",
          "LINE/I-Jockey/FW2_DM",
          "LINE/I-Jockey/G3_DM",
          "LTR/Gypsy/GTWIN",
          "LTR/Gypsy/Gypsy",
          "LTR/Gypsy/Gypsy1",
          "LTR/Gypsy/Gypsy10",
          "LTR/Gypsy/Gypsy11",
          "LTR/Gypsy/Gypsy12",
          "LTR/Gypsy/Gypsy12A_LTR",
          "LTR/Gypsy/Gypsy2",
          "LTR/Gypsy/Gypsy4",
          "LTR/Gypsy/Gypsy7",
          "LTR/Gypsy/Gypsy8",
          "LINE/I-Jockey/HETA",
          "DNA/hAT-hobo/HOBO",
          "LTR/Gypsy/IDEFIX",
          "LINE/I/IVK_DM",
          "LINE/I/I_DM",
          "LTR/Gypsy/Invader1",
          "LTR/Gypsy/Invader2",
          "LTR/Gypsy/Invader4",
          "LTR/Gypsy/Invader6",
          "DNA/CMC-Transib/M4DM",
          "LTR/Pao/MAX",
          "LTR/Gypsy/MDG1",
          "LTR/Gypsy/MICROPIA",
          "DNA/TcMar-Tc1/Mariner2_DM",
          "LTR/Gypsy/NOMAD",
          "DNA/TcMar-Pogo/POGO",
          "DNA/P/PROTOP",
          "DNA/P/PROTOP_B",
          "LTR/Gypsy/QUASIMODO",
          "LTR/Gypsy/QUASIMODO2",
          "LINE/R1/R1_DM",
          "LTR/Pao/ROO",
          "LTR/Pao/ROOA",
          "LTR/Gypsy/ROVER",
          "LTR/Gypsy/STALKER4",
          "DNA/TcMar-Tc1/S_DM",
          "LTR/Gypsy/Stalker2",
          "LTR/Gypsy/TABOR",
          "LINE/I-Jockey/TAHRE",
          "LINE/I-Jockey/TART-A",
          "LINE/I-Jockey/TART_B1",
          "DNA/TcMar-Tc1/TC1-2_DM",
          "DNA/TcMar-Tc1/TC1_DM",
          "LTR/Gypsy/TIRANT",
          "DNA/CMC-Transib/TRANSIB2",
          "DNA/CMC-Transib/TRANSIB3",
          "DNA/CMC-Transib/Transib5",
          "LTR/Gypsy/ZAM",
          "DNA/CMC-Transib",
          "LINE/CR1",
          "LTR/Copia",
          "LTR/Gypsy",
          "RC/Helitron",
          "LINE/I",
          "LINE/I-Jockey",
          "DNA/P",
          "LTR/Pao",
          "LINE/R1",
          "LINE/R1-LOA",
          "DNA/TcMar-Pogo",
          "DNA/TcMar-Tc1",
          "DNA/hAT-hobo",
          "DNA",
          "LINE",
          "LTR",
          "RC"
         ],
         "labels": [
          "ACCORD",
          "ACCORD2",
          "BARI_DM",
          "BATUMI",
          "BLASTOPIA",
          "BLOOD",
          "BS",
          "BS2",
          "BURDOCK",
          "Baggins1",
          "Chimpo",
          "Chouto",
          "Copia",
          "Copia1",
          "Copia2",
          "DM1731",
          "DM176",
          "DM297",
          "DM412",
          "DM412B_LTR",
          "DMCR1A",
          "DMRT1A",
          "DMRT1B",
          "DNAREP1_DM",
          "DOC",
          "DOC3_DM",
          "DOC5_DM",
          "DOC6_DM",
          "FB4_DM",
          "FW2_DM",
          "G3_DM",
          "GTWIN",
          "Gypsy",
          "Gypsy1",
          "Gypsy10",
          "Gypsy11",
          "Gypsy12",
          "Gypsy12A_LTR",
          "Gypsy2",
          "Gypsy4",
          "Gypsy7",
          "Gypsy8",
          "HETA",
          "HOBO",
          "IDEFIX",
          "IVK_DM",
          "I_DM",
          "Invader1",
          "Invader2",
          "Invader4",
          "Invader6",
          "M4DM",
          "MAX",
          "MDG1",
          "MICROPIA",
          "Mariner2_DM",
          "NOMAD",
          "POGO",
          "PROTOP",
          "PROTOP_B",
          "QUASIMODO",
          "QUASIMODO2",
          "R1_DM",
          "ROO",
          "ROOA",
          "ROVER",
          "STALKER4",
          "S_DM",
          "Stalker2",
          "TABOR",
          "TAHRE",
          "TART-A",
          "TART_B1",
          "TC1-2_DM",
          "TC1_DM",
          "TIRANT",
          "TRANSIB2",
          "TRANSIB3",
          "Transib5",
          "ZAM",
          "CMC-Transib",
          "CR1",
          "Copia",
          "Gypsy",
          "Helitron",
          "I",
          "I-Jockey",
          "P",
          "Pao",
          "R1",
          "R1-LOA",
          "TcMar-Pogo",
          "TcMar-Tc1",
          "hAT-hobo",
          "DNA",
          "LINE",
          "LTR",
          "RC"
         ],
         "name": "",
         "parents": [
          "LTR/Gypsy",
          "LTR/Gypsy",
          "DNA/TcMar-Tc1",
          "LTR/Pao",
          "LTR/Gypsy",
          "LTR/Gypsy",
          "LINE/I-Jockey",
          "LINE/I-Jockey",
          "LTR/Gypsy",
          "LINE/R1-LOA",
          "LTR/Gypsy",
          "LTR/Gypsy",
          "LTR/Copia",
          "LTR/Copia",
          "LTR/Copia",
          "LTR/Copia",
          "LTR/Gypsy",
          "LTR/Gypsy",
          "LTR/Gypsy",
          "LTR/Gypsy",
          "LINE/CR1",
          "LINE/R1",
          "LINE/R1",
          "RC/Helitron",
          "LINE/I-Jockey",
          "LINE/I-Jockey",
          "LINE/I-Jockey",
          "LINE/I-Jockey",
          "DNA/TcMar-Tc1",
          "LINE/I-Jockey",
          "LINE/I-Jockey",
          "LTR/Gypsy",
          "LTR/Gypsy",
          "LTR/Gypsy",
          "LTR/Gypsy",
          "LTR/Gypsy",
          "LTR/Gypsy",
          "LTR/Gypsy",
          "LTR/Gypsy",
          "LTR/Gypsy",
          "LTR/Gypsy",
          "LTR/Gypsy",
          "LINE/I-Jockey",
          "DNA/hAT-hobo",
          "LTR/Gypsy",
          "LINE/I",
          "LINE/I",
          "LTR/Gypsy",
          "LTR/Gypsy",
          "LTR/Gypsy",
          "LTR/Gypsy",
          "DNA/CMC-Transib",
          "LTR/Pao",
          "LTR/Gypsy",
          "LTR/Gypsy",
          "DNA/TcMar-Tc1",
          "LTR/Gypsy",
          "DNA/TcMar-Pogo",
          "DNA/P",
          "DNA/P",
          "LTR/Gypsy",
          "LTR/Gypsy",
          "LINE/R1",
          "LTR/Pao",
          "LTR/Pao",
          "LTR/Gypsy",
          "LTR/Gypsy",
          "DNA/TcMar-Tc1",
          "LTR/Gypsy",
          "LTR/Gypsy",
          "LINE/I-Jockey",
          "LINE/I-Jockey",
          "LINE/I-Jockey",
          "DNA/TcMar-Tc1",
          "DNA/TcMar-Tc1",
          "LTR/Gypsy",
          "DNA/CMC-Transib",
          "DNA/CMC-Transib",
          "DNA/CMC-Transib",
          "LTR/Gypsy",
          "DNA",
          "LINE",
          "LTR",
          "LTR",
          "RC",
          "LINE",
          "LINE",
          "DNA",
          "LTR",
          "LINE",
          "LINE",
          "DNA",
          "DNA",
          "DNA",
          "",
          "",
          "",
          ""
         ],
         "type": "sunburst",
         "values": [
          3,
          7,
          1,
          2,
          6,
          15,
          2,
          1,
          4,
          2,
          3,
          19,
          161,
          1,
          2,
          3,
          4,
          6,
          8,
          1,
          84,
          1,
          3,
          4,
          7,
          2,
          3,
          3,
          3,
          2,
          2,
          2,
          11,
          12,
          1,
          2,
          65,
          12,
          2,
          1,
          1,
          3,
          14,
          1,
          4,
          6,
          4,
          4,
          1,
          1,
          5,
          2,
          11,
          12,
          36,
          1,
          2,
          220,
          2,
          5,
          10,
          1,
          3,
          517,
          1,
          2,
          2,
          6,
          19,
          1,
          7,
          15,
          7,
          3,
          1,
          2,
          1,
          16,
          1,
          1,
          20,
          84,
          167,
          291,
          4,
          10,
          65,
          7,
          531,
          7,
          2,
          220,
          15,
          1,
          263,
          168,
          989,
          4
         ]
        }
       ],
       "layout": {
        "legend": {
         "tracegroupgap": 0
        },
        "margin": {
         "t": 60
        },
        "template": {
         "data": {
          "bar": [
           {
            "error_x": {
             "color": "#2a3f5f"
            },
            "error_y": {
             "color": "#2a3f5f"
            },
            "marker": {
             "line": {
              "color": "#E5ECF6",
              "width": 0.5
             }
            },
            "type": "bar"
           }
          ],
          "barpolar": [
           {
            "marker": {
             "line": {
              "color": "#E5ECF6",
              "width": 0.5
             }
            },
            "type": "barpolar"
           }
          ],
          "carpet": [
           {
            "aaxis": {
             "endlinecolor": "#2a3f5f",
             "gridcolor": "white",
             "linecolor": "white",
             "minorgridcolor": "white",
             "startlinecolor": "#2a3f5f"
            },
            "baxis": {
             "endlinecolor": "#2a3f5f",
             "gridcolor": "white",
             "linecolor": "white",
             "minorgridcolor": "white",
             "startlinecolor": "#2a3f5f"
            },
            "type": "carpet"
           }
          ],
          "choropleth": [
           {
            "colorbar": {
             "outlinewidth": 0,
             "ticks": ""
            },
            "type": "choropleth"
           }
          ],
          "contour": [
           {
            "colorbar": {
             "outlinewidth": 0,
             "ticks": ""
            },
            "colorscale": [
             [
              0,
              "#0d0887"
             ],
             [
              0.1111111111111111,
              "#46039f"
             ],
             [
              0.2222222222222222,
              "#7201a8"
             ],
             [
              0.3333333333333333,
              "#9c179e"
             ],
             [
              0.4444444444444444,
              "#bd3786"
             ],
             [
              0.5555555555555556,
              "#d8576b"
             ],
             [
              0.6666666666666666,
              "#ed7953"
             ],
             [
              0.7777777777777778,
              "#fb9f3a"
             ],
             [
              0.8888888888888888,
              "#fdca26"
             ],
             [
              1,
              "#f0f921"
             ]
            ],
            "type": "contour"
           }
          ],
          "contourcarpet": [
           {
            "colorbar": {
             "outlinewidth": 0,
             "ticks": ""
            },
            "type": "contourcarpet"
           }
          ],
          "heatmap": [
           {
            "colorbar": {
             "outlinewidth": 0,
             "ticks": ""
            },
            "colorscale": [
             [
              0,
              "#0d0887"
             ],
             [
              0.1111111111111111,
              "#46039f"
             ],
             [
              0.2222222222222222,
              "#7201a8"
             ],
             [
              0.3333333333333333,
              "#9c179e"
             ],
             [
              0.4444444444444444,
              "#bd3786"
             ],
             [
              0.5555555555555556,
              "#d8576b"
             ],
             [
              0.6666666666666666,
              "#ed7953"
             ],
             [
              0.7777777777777778,
              "#fb9f3a"
             ],
             [
              0.8888888888888888,
              "#fdca26"
             ],
             [
              1,
              "#f0f921"
             ]
            ],
            "type": "heatmap"
           }
          ],
          "heatmapgl": [
           {
            "colorbar": {
             "outlinewidth": 0,
             "ticks": ""
            },
            "colorscale": [
             [
              0,
              "#0d0887"
             ],
             [
              0.1111111111111111,
              "#46039f"
             ],
             [
              0.2222222222222222,
              "#7201a8"
             ],
             [
              0.3333333333333333,
              "#9c179e"
             ],
             [
              0.4444444444444444,
              "#bd3786"
             ],
             [
              0.5555555555555556,
              "#d8576b"
             ],
             [
              0.6666666666666666,
              "#ed7953"
             ],
             [
              0.7777777777777778,
              "#fb9f3a"
             ],
             [
              0.8888888888888888,
              "#fdca26"
             ],
             [
              1,
              "#f0f921"
             ]
            ],
            "type": "heatmapgl"
           }
          ],
          "histogram": [
           {
            "marker": {
             "colorbar": {
              "outlinewidth": 0,
              "ticks": ""
             }
            },
            "type": "histogram"
           }
          ],
          "histogram2d": [
           {
            "colorbar": {
             "outlinewidth": 0,
             "ticks": ""
            },
            "colorscale": [
             [
              0,
              "#0d0887"
             ],
             [
              0.1111111111111111,
              "#46039f"
             ],
             [
              0.2222222222222222,
              "#7201a8"
             ],
             [
              0.3333333333333333,
              "#9c179e"
             ],
             [
              0.4444444444444444,
              "#bd3786"
             ],
             [
              0.5555555555555556,
              "#d8576b"
             ],
             [
              0.6666666666666666,
              "#ed7953"
             ],
             [
              0.7777777777777778,
              "#fb9f3a"
             ],
             [
              0.8888888888888888,
              "#fdca26"
             ],
             [
              1,
              "#f0f921"
             ]
            ],
            "type": "histogram2d"
           }
          ],
          "histogram2dcontour": [
           {
            "colorbar": {
             "outlinewidth": 0,
             "ticks": ""
            },
            "colorscale": [
             [
              0,
              "#0d0887"
             ],
             [
              0.1111111111111111,
              "#46039f"
             ],
             [
              0.2222222222222222,
              "#7201a8"
             ],
             [
              0.3333333333333333,
              "#9c179e"
             ],
             [
              0.4444444444444444,
              "#bd3786"
             ],
             [
              0.5555555555555556,
              "#d8576b"
             ],
             [
              0.6666666666666666,
              "#ed7953"
             ],
             [
              0.7777777777777778,
              "#fb9f3a"
             ],
             [
              0.8888888888888888,
              "#fdca26"
             ],
             [
              1,
              "#f0f921"
             ]
            ],
            "type": "histogram2dcontour"
           }
          ],
          "mesh3d": [
           {
            "colorbar": {
             "outlinewidth": 0,
             "ticks": ""
            },
            "type": "mesh3d"
           }
          ],
          "parcoords": [
           {
            "line": {
             "colorbar": {
              "outlinewidth": 0,
              "ticks": ""
             }
            },
            "type": "parcoords"
           }
          ],
          "pie": [
           {
            "automargin": true,
            "type": "pie"
           }
          ],
          "scatter": [
           {
            "marker": {
             "colorbar": {
              "outlinewidth": 0,
              "ticks": ""
             }
            },
            "type": "scatter"
           }
          ],
          "scatter3d": [
           {
            "line": {
             "colorbar": {
              "outlinewidth": 0,
              "ticks": ""
             }
            },
            "marker": {
             "colorbar": {
              "outlinewidth": 0,
              "ticks": ""
             }
            },
            "type": "scatter3d"
           }
          ],
          "scattercarpet": [
           {
            "marker": {
             "colorbar": {
              "outlinewidth": 0,
              "ticks": ""
             }
            },
            "type": "scattercarpet"
           }
          ],
          "scattergeo": [
           {
            "marker": {
             "colorbar": {
              "outlinewidth": 0,
              "ticks": ""
             }
            },
            "type": "scattergeo"
           }
          ],
          "scattergl": [
           {
            "marker": {
             "colorbar": {
              "outlinewidth": 0,
              "ticks": ""
             }
            },
            "type": "scattergl"
           }
          ],
          "scattermapbox": [
           {
            "marker": {
             "colorbar": {
              "outlinewidth": 0,
              "ticks": ""
             }
            },
            "type": "scattermapbox"
           }
          ],
          "scatterpolar": [
           {
            "marker": {
             "colorbar": {
              "outlinewidth": 0,
              "ticks": ""
             }
            },
            "type": "scatterpolar"
           }
          ],
          "scatterpolargl": [
           {
            "marker": {
             "colorbar": {
              "outlinewidth": 0,
              "ticks": ""
             }
            },
            "type": "scatterpolargl"
           }
          ],
          "scatterternary": [
           {
            "marker": {
             "colorbar": {
              "outlinewidth": 0,
              "ticks": ""
             }
            },
            "type": "scatterternary"
           }
          ],
          "surface": [
           {
            "colorbar": {
             "outlinewidth": 0,
             "ticks": ""
            },
            "colorscale": [
             [
              0,
              "#0d0887"
             ],
             [
              0.1111111111111111,
              "#46039f"
             ],
             [
              0.2222222222222222,
              "#7201a8"
             ],
             [
              0.3333333333333333,
              "#9c179e"
             ],
             [
              0.4444444444444444,
              "#bd3786"
             ],
             [
              0.5555555555555556,
              "#d8576b"
             ],
             [
              0.6666666666666666,
              "#ed7953"
             ],
             [
              0.7777777777777778,
              "#fb9f3a"
             ],
             [
              0.8888888888888888,
              "#fdca26"
             ],
             [
              1,
              "#f0f921"
             ]
            ],
            "type": "surface"
           }
          ],
          "table": [
           {
            "cells": {
             "fill": {
              "color": "#EBF0F8"
             },
             "line": {
              "color": "white"
             }
            },
            "header": {
             "fill": {
              "color": "#C8D4E3"
             },
             "line": {
              "color": "white"
             }
            },
            "type": "table"
           }
          ]
         },
         "layout": {
          "annotationdefaults": {
           "arrowcolor": "#2a3f5f",
           "arrowhead": 0,
           "arrowwidth": 1
          },
          "autotypenumbers": "strict",
          "coloraxis": {
           "colorbar": {
            "outlinewidth": 0,
            "ticks": ""
           }
          },
          "colorscale": {
           "diverging": [
            [
             0,
             "#8e0152"
            ],
            [
             0.1,
             "#c51b7d"
            ],
            [
             0.2,
             "#de77ae"
            ],
            [
             0.3,
             "#f1b6da"
            ],
            [
             0.4,
             "#fde0ef"
            ],
            [
             0.5,
             "#f7f7f7"
            ],
            [
             0.6,
             "#e6f5d0"
            ],
            [
             0.7,
             "#b8e186"
            ],
            [
             0.8,
             "#7fbc41"
            ],
            [
             0.9,
             "#4d9221"
            ],
            [
             1,
             "#276419"
            ]
           ],
           "sequential": [
            [
             0,
             "#0d0887"
            ],
            [
             0.1111111111111111,
             "#46039f"
            ],
            [
             0.2222222222222222,
             "#7201a8"
            ],
            [
             0.3333333333333333,
             "#9c179e"
            ],
            [
             0.4444444444444444,
             "#bd3786"
            ],
            [
             0.5555555555555556,
             "#d8576b"
            ],
            [
             0.6666666666666666,
             "#ed7953"
            ],
            [
             0.7777777777777778,
             "#fb9f3a"
            ],
            [
             0.8888888888888888,
             "#fdca26"
            ],
            [
             1,
             "#f0f921"
            ]
           ],
           "sequentialminus": [
            [
             0,
             "#0d0887"
            ],
            [
             0.1111111111111111,
             "#46039f"
            ],
            [
             0.2222222222222222,
             "#7201a8"
            ],
            [
             0.3333333333333333,
             "#9c179e"
            ],
            [
             0.4444444444444444,
             "#bd3786"
            ],
            [
             0.5555555555555556,
             "#d8576b"
            ],
            [
             0.6666666666666666,
             "#ed7953"
            ],
            [
             0.7777777777777778,
             "#fb9f3a"
            ],
            [
             0.8888888888888888,
             "#fdca26"
            ],
            [
             1,
             "#f0f921"
            ]
           ]
          },
          "colorway": [
           "#636efa",
           "#EF553B",
           "#00cc96",
           "#ab63fa",
           "#FFA15A",
           "#19d3f3",
           "#FF6692",
           "#B6E880",
           "#FF97FF",
           "#FECB52"
          ],
          "font": {
           "color": "#2a3f5f"
          },
          "geo": {
           "bgcolor": "white",
           "lakecolor": "white",
           "landcolor": "#E5ECF6",
           "showlakes": true,
           "showland": true,
           "subunitcolor": "white"
          },
          "hoverlabel": {
           "align": "left"
          },
          "hovermode": "closest",
          "mapbox": {
           "style": "light"
          },
          "paper_bgcolor": "white",
          "plot_bgcolor": "#E5ECF6",
          "polar": {
           "angularaxis": {
            "gridcolor": "white",
            "linecolor": "white",
            "ticks": ""
           },
           "bgcolor": "#E5ECF6",
           "radialaxis": {
            "gridcolor": "white",
            "linecolor": "white",
            "ticks": ""
           }
          },
          "scene": {
           "xaxis": {
            "backgroundcolor": "#E5ECF6",
            "gridcolor": "white",
            "gridwidth": 2,
            "linecolor": "white",
            "showbackground": true,
            "ticks": "",
            "zerolinecolor": "white"
           },
           "yaxis": {
            "backgroundcolor": "#E5ECF6",
            "gridcolor": "white",
            "gridwidth": 2,
            "linecolor": "white",
            "showbackground": true,
            "ticks": "",
            "zerolinecolor": "white"
           },
           "zaxis": {
            "backgroundcolor": "#E5ECF6",
            "gridcolor": "white",
            "gridwidth": 2,
            "linecolor": "white",
            "showbackground": true,
            "ticks": "",
            "zerolinecolor": "white"
           }
          },
          "shapedefaults": {
           "line": {
            "color": "#2a3f5f"
           }
          },
          "ternary": {
           "aaxis": {
            "gridcolor": "white",
            "linecolor": "white",
            "ticks": ""
           },
           "baxis": {
            "gridcolor": "white",
            "linecolor": "white",
            "ticks": ""
           },
           "bgcolor": "#E5ECF6",
           "caxis": {
            "gridcolor": "white",
            "linecolor": "white",
            "ticks": ""
           }
          },
          "title": {
           "x": 0.05
          },
          "xaxis": {
           "automargin": true,
           "gridcolor": "white",
           "linecolor": "white",
           "ticks": "",
           "title": {
            "standoff": 15
           },
           "zerolinecolor": "white",
           "zerolinewidth": 2
          },
          "yaxis": {
           "automargin": true,
           "gridcolor": "white",
           "linecolor": "white",
           "ticks": "",
           "title": {
            "standoff": 15
           },
           "zerolinecolor": "white",
           "zerolinewidth": 2
          }
         }
        }
       }
      }
     },
     "metadata": {}
    }
   ],
   "metadata": {}
  },
  {
   "cell_type": "code",
   "execution_count": 76,
   "source": [
    "df = TE_data_table.copy()\n",
    "expressed = df[\"Male_Counts\"] > 0\n",
    "df = df[expressed]\n",
    "# fig = px.sunburst(df, path=['SubClass', 'SuperFamily', 'Family'], values='Male_Counts', color = \"Male_subject_coverage\")\n",
    "fig = px.sunburst(df, path=['Subclass', 'Superfamily', 'Family'], values='Male_Counts')\n",
    "fig.show()"
   ],
   "outputs": [
    {
     "output_type": "display_data",
     "data": {
      "text/html": [
       "<div>                            <div id=\"bf31796b-a407-464d-a806-0ea6e8c9fa9b\" class=\"plotly-graph-div\" style=\"height:525px; width:100%;\"></div>            <script type=\"text/javascript\">                require([\"plotly\"], function(Plotly) {                    window.PLOTLYENV=window.PLOTLYENV || {};                                    if (document.getElementById(\"bf31796b-a407-464d-a806-0ea6e8c9fa9b\")) {                    Plotly.newPlot(                        \"bf31796b-a407-464d-a806-0ea6e8c9fa9b\",                        [{\"branchvalues\": \"total\", \"domain\": {\"x\": [0.0, 1.0], \"y\": [0.0, 1.0]}, \"hovertemplate\": \"labels=%{label}<br>Male_Counts=%{value}<br>parent=%{parent}<br>id=%{id}<extra></extra>\", \"ids\": [\"LTR/Gypsy/ACCORD\", \"LTR/Gypsy/ACCORD2\", \"DNA/TcMar-Tc1/BARI1\", \"LTR/Pao/BATUMI\", \"LTR/Pao/BEL\", \"LTR/Gypsy/BLASTOPIA\", \"LTR/Gypsy/BLOOD\", \"LINE/I-Jockey/BS\", \"LINE/I-Jockey/BS2\", \"LINE/I-Jockey/BS3_DM\", \"LINE/I-Jockey/BS4_DM\", \"LTR/Gypsy/BURDOCK\", \"LINE/R1-LOA/Baggins1\", \"LTR/Gypsy/Bica\", \"LTR/Gypsy/CIRCE\", \"LTR/Gypsy/Chimpo\", \"LTR/Gypsy/Chouto\", \"LTR/Copia/Copia\", \"LTR/Copia/Copia1\", \"LTR/Copia/Copia2\", \"LTR/Pao/DIVER\", \"LTR/Pao/DIVER2\", \"LTR/Copia/DM1731\", \"LTR/Gypsy/DM176\", \"LTR/Gypsy/DM297\", \"LTR/Gypsy/DM412\", \"LTR/Gypsy/DM412B_LTR\", \"LINE/CR1/DMCR1A\", \"LTR/Gypsy/DMLTR5\", \"LINE/R1/DMRT1A\", \"LINE/R1/DMRT1B\", \"LINE/R1/DMRT1C\", \"RC/Helitron/DNAREP1_DM\", \"LINE/I-Jockey/DOC\", \"LINE/I-Jockey/DOC2_DM\", \"LINE/I-Jockey/DOC3_DM\", \"LINE/I-Jockey/DOC4_DM\", \"LINE/I-Jockey/DOC5_DM\", \"LINE/I-Jockey/DOC6_DM\", \"DNA/TcMar-Tc1/FB4_DM\", \"LTR/Copia/FROGGER\", \"LINE/I-Jockey/FW2_DM\", \"LINE/I-Jockey/FW3_DM\", \"LINE/I-Jockey/G2_DM\", \"LINE/I-Jockey/G3_DM\", \"LINE/I-Jockey/G4_DM\", \"LINE/I-Jockey/G5A_DM\", \"LINE/I-Jockey/G5_DM\", \"LINE/I-Jockey/G6_DM\", \"LTR/Gypsy/GTWIN\", \"LINE/I-Jockey/G_DM\", \"LTR/Gypsy/Gypsy\", \"LTR/Gypsy/Gypsy1\", \"LTR/Gypsy/Gypsy10\", \"LTR/Gypsy/Gypsy11\", \"LTR/Gypsy/Gypsy12\", \"LTR/Gypsy/Gypsy12A_LTR\", \"LTR/Gypsy/Gypsy2\", \"LTR/Gypsy/Gypsy3\", \"LTR/Gypsy/Gypsy4\", \"LTR/Gypsy/Gypsy5\", \"LTR/Gypsy/Gypsy6\", \"LTR/Gypsy/Gypsy6A_LTR\", \"LTR/Gypsy/Gypsy7\", \"LTR/Gypsy/Gypsy8\", \"LTR/Gypsy/Gypsy9\", \"LINE/I-Jockey/HETA\", \"LTR/Gypsy/HMSBEAGLE_I\", \"DNA/hAT-hobo/HOBO\", \"LTR/Gypsy/IDEFIX\", \"LINE/I/IVK_DM\", \"LINE/I/I_DM\", \"LTR/Gypsy/Invader1\", \"LTR/Gypsy/Invader2\", \"LTR/Gypsy/Invader3\", \"LTR/Gypsy/Invader4\", \"LTR/Gypsy/Invader5\", \"LTR/Gypsy/Invader6\", \"LINE/I-Jockey/Jockey2\", \"LINE/I-Jockey/LINEJ1_DM\", \"DNA/PiggyBac/LOOPER1_DM\", \"DNA/CMC-Transib/M4DM\", \"LTR/Pao/MAX\", \"LTR/Gypsy/MDG1\", \"LTR/Gypsy/MDG3\", \"LTR/Gypsy/MICROPIA\", \"DNA/TcMar-Tc1/Mariner2_DM\", \"LTR/Pao/NINJA\", \"LTR/Gypsy/NOMAD\", \"DNA/TcMar-Pogo/POGO\", \"DNA/P/PROTOP\", \"DNA/P/PROTOP_A\", \"DNA/P/PROTOP_B\", \"LTR/Gypsy/QUASIMODO\", \"LTR/Gypsy/QUASIMODO2\", \"LTR/Pao/ROO\", \"LTR/Pao/ROOA\", \"LTR/Gypsy/ROVER\", \"DNA/TcMar-Tc1/S2_DM\", \"LTR/Gypsy/STALKER4\", \"DNA/TcMar-Tc1/S_DM\", \"LTR/Gypsy/Stalker2\", \"LTR/Gypsy/TABOR\", \"LINE/I-Jockey/TAHRE\", \"LINE/I-Jockey/TART-A\", \"LINE/I-Jockey/TART_B1\", \"LTR/Gypsy/TIRANT\", \"LTR/Gypsy/TOM\", \"DNA/CMC-Transib/TRANSIB2\", \"DNA/CMC-Transib/TRANSIB3\", \"DNA/CMC-Transib/TRANSIB4\", \"LTR/Gypsy/TRANSPAC\", \"DNA/CMC-Transib/Transib5\", \"LTR/Gypsy/ZAM\", \"DNA/CMC-Transib\", \"LINE/CR1\", \"LTR/Copia\", \"LTR/Gypsy\", \"RC/Helitron\", \"LINE/I\", \"LINE/I-Jockey\", \"DNA/P\", \"LTR/Pao\", \"DNA/PiggyBac\", \"LINE/R1\", \"LINE/R1-LOA\", \"DNA/TcMar-Pogo\", \"DNA/TcMar-Tc1\", \"DNA/hAT-hobo\", \"DNA\", \"LINE\", \"LTR\", \"RC\"], \"labels\": [\"ACCORD\", \"ACCORD2\", \"BARI1\", \"BATUMI\", \"BEL\", \"BLASTOPIA\", \"BLOOD\", \"BS\", \"BS2\", \"BS3_DM\", \"BS4_DM\", \"BURDOCK\", \"Baggins1\", \"Bica\", \"CIRCE\", \"Chimpo\", \"Chouto\", \"Copia\", \"Copia1\", \"Copia2\", \"DIVER\", \"DIVER2\", \"DM1731\", \"DM176\", \"DM297\", \"DM412\", \"DM412B_LTR\", \"DMCR1A\", \"DMLTR5\", \"DMRT1A\", \"DMRT1B\", \"DMRT1C\", \"DNAREP1_DM\", \"DOC\", \"DOC2_DM\", \"DOC3_DM\", \"DOC4_DM\", \"DOC5_DM\", \"DOC6_DM\", \"FB4_DM\", \"FROGGER\", \"FW2_DM\", \"FW3_DM\", \"G2_DM\", \"G3_DM\", \"G4_DM\", \"G5A_DM\", \"G5_DM\", \"G6_DM\", \"GTWIN\", \"G_DM\", \"Gypsy\", \"Gypsy1\", \"Gypsy10\", \"Gypsy11\", \"Gypsy12\", \"Gypsy12A_LTR\", \"Gypsy2\", \"Gypsy3\", \"Gypsy4\", \"Gypsy5\", \"Gypsy6\", \"Gypsy6A_LTR\", \"Gypsy7\", \"Gypsy8\", \"Gypsy9\", \"HETA\", \"HMSBEAGLE_I\", \"HOBO\", \"IDEFIX\", \"IVK_DM\", \"I_DM\", \"Invader1\", \"Invader2\", \"Invader3\", \"Invader4\", \"Invader5\", \"Invader6\", \"Jockey2\", \"LINEJ1_DM\", \"LOOPER1_DM\", \"M4DM\", \"MAX\", \"MDG1\", \"MDG3\", \"MICROPIA\", \"Mariner2_DM\", \"NINJA\", \"NOMAD\", \"POGO\", \"PROTOP\", \"PROTOP_A\", \"PROTOP_B\", \"QUASIMODO\", \"QUASIMODO2\", \"ROO\", \"ROOA\", \"ROVER\", \"S2_DM\", \"STALKER4\", \"S_DM\", \"Stalker2\", \"TABOR\", \"TAHRE\", \"TART-A\", \"TART_B1\", \"TIRANT\", \"TOM\", \"TRANSIB2\", \"TRANSIB3\", \"TRANSIB4\", \"TRANSPAC\", \"Transib5\", \"ZAM\", \"CMC-Transib\", \"CR1\", \"Copia\", \"Gypsy\", \"Helitron\", \"I\", \"I-Jockey\", \"P\", \"Pao\", \"PiggyBac\", \"R1\", \"R1-LOA\", \"TcMar-Pogo\", \"TcMar-Tc1\", \"hAT-hobo\", \"DNA\", \"LINE\", \"LTR\", \"RC\"], \"name\": \"\", \"parents\": [\"LTR/Gypsy\", \"LTR/Gypsy\", \"DNA/TcMar-Tc1\", \"LTR/Pao\", \"LTR/Pao\", \"LTR/Gypsy\", \"LTR/Gypsy\", \"LINE/I-Jockey\", \"LINE/I-Jockey\", \"LINE/I-Jockey\", \"LINE/I-Jockey\", \"LTR/Gypsy\", \"LINE/R1-LOA\", \"LTR/Gypsy\", \"LTR/Gypsy\", \"LTR/Gypsy\", \"LTR/Gypsy\", \"LTR/Copia\", \"LTR/Copia\", \"LTR/Copia\", \"LTR/Pao\", \"LTR/Pao\", \"LTR/Copia\", \"LTR/Gypsy\", \"LTR/Gypsy\", \"LTR/Gypsy\", \"LTR/Gypsy\", \"LINE/CR1\", \"LTR/Gypsy\", \"LINE/R1\", \"LINE/R1\", \"LINE/R1\", \"RC/Helitron\", \"LINE/I-Jockey\", \"LINE/I-Jockey\", \"LINE/I-Jockey\", \"LINE/I-Jockey\", \"LINE/I-Jockey\", \"LINE/I-Jockey\", \"DNA/TcMar-Tc1\", \"LTR/Copia\", \"LINE/I-Jockey\", \"LINE/I-Jockey\", \"LINE/I-Jockey\", \"LINE/I-Jockey\", \"LINE/I-Jockey\", \"LINE/I-Jockey\", \"LINE/I-Jockey\", \"LINE/I-Jockey\", \"LTR/Gypsy\", \"LINE/I-Jockey\", \"LTR/Gypsy\", \"LTR/Gypsy\", \"LTR/Gypsy\", \"LTR/Gypsy\", \"LTR/Gypsy\", \"LTR/Gypsy\", \"LTR/Gypsy\", \"LTR/Gypsy\", \"LTR/Gypsy\", \"LTR/Gypsy\", \"LTR/Gypsy\", \"LTR/Gypsy\", \"LTR/Gypsy\", \"LTR/Gypsy\", \"LTR/Gypsy\", \"LINE/I-Jockey\", \"LTR/Gypsy\", \"DNA/hAT-hobo\", \"LTR/Gypsy\", \"LINE/I\", \"LINE/I\", \"LTR/Gypsy\", \"LTR/Gypsy\", \"LTR/Gypsy\", \"LTR/Gypsy\", \"LTR/Gypsy\", \"LTR/Gypsy\", \"LINE/I-Jockey\", \"LINE/I-Jockey\", \"DNA/PiggyBac\", \"DNA/CMC-Transib\", \"LTR/Pao\", \"LTR/Gypsy\", \"LTR/Gypsy\", \"LTR/Gypsy\", \"DNA/TcMar-Tc1\", \"LTR/Pao\", \"LTR/Gypsy\", \"DNA/TcMar-Pogo\", \"DNA/P\", \"DNA/P\", \"DNA/P\", \"LTR/Gypsy\", \"LTR/Gypsy\", \"LTR/Pao\", \"LTR/Pao\", \"LTR/Gypsy\", \"DNA/TcMar-Tc1\", \"LTR/Gypsy\", \"DNA/TcMar-Tc1\", \"LTR/Gypsy\", \"LTR/Gypsy\", \"LINE/I-Jockey\", \"LINE/I-Jockey\", \"LINE/I-Jockey\", \"LTR/Gypsy\", \"LTR/Gypsy\", \"DNA/CMC-Transib\", \"DNA/CMC-Transib\", \"DNA/CMC-Transib\", \"LTR/Gypsy\", \"DNA/CMC-Transib\", \"LTR/Gypsy\", \"DNA\", \"LINE\", \"LTR\", \"LTR\", \"RC\", \"LINE\", \"LINE\", \"DNA\", \"LTR\", \"DNA\", \"LINE\", \"LINE\", \"DNA\", \"DNA\", \"DNA\", \"\", \"\", \"\", \"\"], \"type\": \"sunburst\", \"values\": [2, 13, 5, 15, 27, 179, 1, 3, 10, 9, 1, 58, 13, 4, 31, 2, 22, 310, 20, 9, 3, 75, 43, 35, 17, 14, 5, 117, 28, 25, 17, 1, 43, 28, 33, 23, 14, 3, 15, 82, 42, 29, 32, 1, 9, 48, 70, 5, 2, 2, 15, 160, 34, 517, 1, 97, 59, 15, 1, 9, 1, 4, 13, 2, 8, 24, 785, 4, 1, 65, 1, 47, 5, 6, 6, 3, 1, 8, 104, 28, 1, 67, 40, 23, 8, 51, 61, 10, 599, 30, 21, 5, 6, 168, 3, 199, 4, 5, 1, 9, 14, 27, 6, 668, 210, 260, 71, 4, 151, 7, 1, 116, 2, 31, 228, 117, 424, 2577, 43, 48, 2405, 32, 373, 1, 43, 13, 30, 163, 1, 455, 2626, 3374, 43]}],                        {\"legend\": {\"tracegroupgap\": 0}, \"margin\": {\"t\": 60}, \"template\": {\"data\": {\"bar\": [{\"error_x\": {\"color\": \"#2a3f5f\"}, \"error_y\": {\"color\": \"#2a3f5f\"}, \"marker\": {\"line\": {\"color\": \"#E5ECF6\", \"width\": 0.5}}, \"type\": \"bar\"}], \"barpolar\": [{\"marker\": {\"line\": {\"color\": \"#E5ECF6\", \"width\": 0.5}}, \"type\": \"barpolar\"}], \"carpet\": [{\"aaxis\": {\"endlinecolor\": \"#2a3f5f\", \"gridcolor\": \"white\", \"linecolor\": \"white\", \"minorgridcolor\": \"white\", \"startlinecolor\": \"#2a3f5f\"}, \"baxis\": {\"endlinecolor\": \"#2a3f5f\", \"gridcolor\": \"white\", \"linecolor\": \"white\", \"minorgridcolor\": \"white\", \"startlinecolor\": \"#2a3f5f\"}, \"type\": \"carpet\"}], \"choropleth\": [{\"colorbar\": {\"outlinewidth\": 0, \"ticks\": \"\"}, \"type\": \"choropleth\"}], \"contour\": [{\"colorbar\": {\"outlinewidth\": 0, \"ticks\": \"\"}, \"colorscale\": [[0.0, \"#0d0887\"], [0.1111111111111111, \"#46039f\"], [0.2222222222222222, \"#7201a8\"], [0.3333333333333333, \"#9c179e\"], [0.4444444444444444, \"#bd3786\"], [0.5555555555555556, \"#d8576b\"], [0.6666666666666666, \"#ed7953\"], [0.7777777777777778, \"#fb9f3a\"], [0.8888888888888888, \"#fdca26\"], [1.0, \"#f0f921\"]], \"type\": \"contour\"}], \"contourcarpet\": [{\"colorbar\": {\"outlinewidth\": 0, \"ticks\": \"\"}, \"type\": \"contourcarpet\"}], \"heatmap\": [{\"colorbar\": {\"outlinewidth\": 0, \"ticks\": \"\"}, \"colorscale\": [[0.0, \"#0d0887\"], [0.1111111111111111, \"#46039f\"], [0.2222222222222222, \"#7201a8\"], [0.3333333333333333, \"#9c179e\"], [0.4444444444444444, \"#bd3786\"], [0.5555555555555556, \"#d8576b\"], [0.6666666666666666, \"#ed7953\"], [0.7777777777777778, \"#fb9f3a\"], [0.8888888888888888, \"#fdca26\"], [1.0, \"#f0f921\"]], \"type\": \"heatmap\"}], \"heatmapgl\": [{\"colorbar\": {\"outlinewidth\": 0, \"ticks\": \"\"}, \"colorscale\": [[0.0, \"#0d0887\"], [0.1111111111111111, \"#46039f\"], [0.2222222222222222, \"#7201a8\"], [0.3333333333333333, \"#9c179e\"], [0.4444444444444444, \"#bd3786\"], [0.5555555555555556, \"#d8576b\"], [0.6666666666666666, \"#ed7953\"], [0.7777777777777778, \"#fb9f3a\"], [0.8888888888888888, \"#fdca26\"], [1.0, \"#f0f921\"]], \"type\": \"heatmapgl\"}], \"histogram\": [{\"marker\": {\"colorbar\": {\"outlinewidth\": 0, \"ticks\": \"\"}}, \"type\": \"histogram\"}], \"histogram2d\": [{\"colorbar\": {\"outlinewidth\": 0, \"ticks\": \"\"}, \"colorscale\": [[0.0, \"#0d0887\"], [0.1111111111111111, \"#46039f\"], [0.2222222222222222, \"#7201a8\"], [0.3333333333333333, \"#9c179e\"], [0.4444444444444444, \"#bd3786\"], [0.5555555555555556, \"#d8576b\"], [0.6666666666666666, \"#ed7953\"], [0.7777777777777778, \"#fb9f3a\"], [0.8888888888888888, \"#fdca26\"], [1.0, \"#f0f921\"]], \"type\": \"histogram2d\"}], \"histogram2dcontour\": [{\"colorbar\": {\"outlinewidth\": 0, \"ticks\": \"\"}, \"colorscale\": [[0.0, \"#0d0887\"], [0.1111111111111111, \"#46039f\"], [0.2222222222222222, \"#7201a8\"], [0.3333333333333333, \"#9c179e\"], [0.4444444444444444, \"#bd3786\"], [0.5555555555555556, \"#d8576b\"], [0.6666666666666666, \"#ed7953\"], [0.7777777777777778, \"#fb9f3a\"], [0.8888888888888888, \"#fdca26\"], [1.0, \"#f0f921\"]], \"type\": \"histogram2dcontour\"}], \"mesh3d\": [{\"colorbar\": {\"outlinewidth\": 0, \"ticks\": \"\"}, \"type\": \"mesh3d\"}], \"parcoords\": [{\"line\": {\"colorbar\": {\"outlinewidth\": 0, \"ticks\": \"\"}}, \"type\": \"parcoords\"}], \"pie\": [{\"automargin\": true, \"type\": \"pie\"}], \"scatter\": [{\"marker\": {\"colorbar\": {\"outlinewidth\": 0, \"ticks\": \"\"}}, \"type\": \"scatter\"}], \"scatter3d\": [{\"line\": {\"colorbar\": {\"outlinewidth\": 0, \"ticks\": \"\"}}, \"marker\": {\"colorbar\": {\"outlinewidth\": 0, \"ticks\": \"\"}}, \"type\": \"scatter3d\"}], \"scattercarpet\": [{\"marker\": {\"colorbar\": {\"outlinewidth\": 0, \"ticks\": \"\"}}, \"type\": \"scattercarpet\"}], \"scattergeo\": [{\"marker\": {\"colorbar\": {\"outlinewidth\": 0, \"ticks\": \"\"}}, \"type\": \"scattergeo\"}], \"scattergl\": [{\"marker\": {\"colorbar\": {\"outlinewidth\": 0, \"ticks\": \"\"}}, \"type\": \"scattergl\"}], \"scattermapbox\": [{\"marker\": {\"colorbar\": {\"outlinewidth\": 0, \"ticks\": \"\"}}, \"type\": \"scattermapbox\"}], \"scatterpolar\": [{\"marker\": {\"colorbar\": {\"outlinewidth\": 0, \"ticks\": \"\"}}, \"type\": \"scatterpolar\"}], \"scatterpolargl\": [{\"marker\": {\"colorbar\": {\"outlinewidth\": 0, \"ticks\": \"\"}}, \"type\": \"scatterpolargl\"}], \"scatterternary\": [{\"marker\": {\"colorbar\": {\"outlinewidth\": 0, \"ticks\": \"\"}}, \"type\": \"scatterternary\"}], \"surface\": [{\"colorbar\": {\"outlinewidth\": 0, \"ticks\": \"\"}, \"colorscale\": [[0.0, \"#0d0887\"], [0.1111111111111111, \"#46039f\"], [0.2222222222222222, \"#7201a8\"], [0.3333333333333333, \"#9c179e\"], [0.4444444444444444, \"#bd3786\"], [0.5555555555555556, \"#d8576b\"], [0.6666666666666666, \"#ed7953\"], [0.7777777777777778, \"#fb9f3a\"], [0.8888888888888888, \"#fdca26\"], [1.0, \"#f0f921\"]], \"type\": \"surface\"}], \"table\": [{\"cells\": {\"fill\": {\"color\": \"#EBF0F8\"}, \"line\": {\"color\": \"white\"}}, \"header\": {\"fill\": {\"color\": \"#C8D4E3\"}, \"line\": {\"color\": \"white\"}}, \"type\": \"table\"}]}, \"layout\": {\"annotationdefaults\": {\"arrowcolor\": \"#2a3f5f\", \"arrowhead\": 0, \"arrowwidth\": 1}, \"autotypenumbers\": \"strict\", \"coloraxis\": {\"colorbar\": {\"outlinewidth\": 0, \"ticks\": \"\"}}, \"colorscale\": {\"diverging\": [[0, \"#8e0152\"], [0.1, \"#c51b7d\"], [0.2, \"#de77ae\"], [0.3, \"#f1b6da\"], [0.4, \"#fde0ef\"], [0.5, \"#f7f7f7\"], [0.6, \"#e6f5d0\"], [0.7, \"#b8e186\"], [0.8, \"#7fbc41\"], [0.9, \"#4d9221\"], [1, \"#276419\"]], \"sequential\": [[0.0, \"#0d0887\"], [0.1111111111111111, \"#46039f\"], [0.2222222222222222, \"#7201a8\"], [0.3333333333333333, \"#9c179e\"], [0.4444444444444444, \"#bd3786\"], [0.5555555555555556, \"#d8576b\"], [0.6666666666666666, \"#ed7953\"], [0.7777777777777778, \"#fb9f3a\"], [0.8888888888888888, \"#fdca26\"], [1.0, \"#f0f921\"]], \"sequentialminus\": [[0.0, \"#0d0887\"], [0.1111111111111111, \"#46039f\"], [0.2222222222222222, \"#7201a8\"], [0.3333333333333333, \"#9c179e\"], [0.4444444444444444, \"#bd3786\"], [0.5555555555555556, \"#d8576b\"], [0.6666666666666666, \"#ed7953\"], [0.7777777777777778, \"#fb9f3a\"], [0.8888888888888888, \"#fdca26\"], [1.0, \"#f0f921\"]]}, \"colorway\": [\"#636efa\", \"#EF553B\", \"#00cc96\", \"#ab63fa\", \"#FFA15A\", \"#19d3f3\", \"#FF6692\", \"#B6E880\", \"#FF97FF\", \"#FECB52\"], \"font\": {\"color\": \"#2a3f5f\"}, \"geo\": {\"bgcolor\": \"white\", \"lakecolor\": \"white\", \"landcolor\": \"#E5ECF6\", \"showlakes\": true, \"showland\": true, \"subunitcolor\": \"white\"}, \"hoverlabel\": {\"align\": \"left\"}, \"hovermode\": \"closest\", \"mapbox\": {\"style\": \"light\"}, \"paper_bgcolor\": \"white\", \"plot_bgcolor\": \"#E5ECF6\", \"polar\": {\"angularaxis\": {\"gridcolor\": \"white\", \"linecolor\": \"white\", \"ticks\": \"\"}, \"bgcolor\": \"#E5ECF6\", \"radialaxis\": {\"gridcolor\": \"white\", \"linecolor\": \"white\", \"ticks\": \"\"}}, \"scene\": {\"xaxis\": {\"backgroundcolor\": \"#E5ECF6\", \"gridcolor\": \"white\", \"gridwidth\": 2, \"linecolor\": \"white\", \"showbackground\": true, \"ticks\": \"\", \"zerolinecolor\": \"white\"}, \"yaxis\": {\"backgroundcolor\": \"#E5ECF6\", \"gridcolor\": \"white\", \"gridwidth\": 2, \"linecolor\": \"white\", \"showbackground\": true, \"ticks\": \"\", \"zerolinecolor\": \"white\"}, \"zaxis\": {\"backgroundcolor\": \"#E5ECF6\", \"gridcolor\": \"white\", \"gridwidth\": 2, \"linecolor\": \"white\", \"showbackground\": true, \"ticks\": \"\", \"zerolinecolor\": \"white\"}}, \"shapedefaults\": {\"line\": {\"color\": \"#2a3f5f\"}}, \"ternary\": {\"aaxis\": {\"gridcolor\": \"white\", \"linecolor\": \"white\", \"ticks\": \"\"}, \"baxis\": {\"gridcolor\": \"white\", \"linecolor\": \"white\", \"ticks\": \"\"}, \"bgcolor\": \"#E5ECF6\", \"caxis\": {\"gridcolor\": \"white\", \"linecolor\": \"white\", \"ticks\": \"\"}}, \"title\": {\"x\": 0.05}, \"xaxis\": {\"automargin\": true, \"gridcolor\": \"white\", \"linecolor\": \"white\", \"ticks\": \"\", \"title\": {\"standoff\": 15}, \"zerolinecolor\": \"white\", \"zerolinewidth\": 2}, \"yaxis\": {\"automargin\": true, \"gridcolor\": \"white\", \"linecolor\": \"white\", \"ticks\": \"\", \"title\": {\"standoff\": 15}, \"zerolinecolor\": \"white\", \"zerolinewidth\": 2}}}},                        {\"responsive\": true}                    ).then(function(){\n",
       "                            \n",
       "var gd = document.getElementById('bf31796b-a407-464d-a806-0ea6e8c9fa9b');\n",
       "var x = new MutationObserver(function (mutations, observer) {{\n",
       "        var display = window.getComputedStyle(gd).display;\n",
       "        if (!display || display === 'none') {{\n",
       "            console.log([gd, 'removed!']);\n",
       "            Plotly.purge(gd);\n",
       "            observer.disconnect();\n",
       "        }}\n",
       "}});\n",
       "\n",
       "// Listen for the removal of the full notebook cells\n",
       "var notebookContainer = gd.closest('#notebook-container');\n",
       "if (notebookContainer) {{\n",
       "    x.observe(notebookContainer, {childList: true});\n",
       "}}\n",
       "\n",
       "// Listen for the clearing of the current output cell\n",
       "var outputEl = gd.closest('.output');\n",
       "if (outputEl) {{\n",
       "    x.observe(outputEl, {childList: true});\n",
       "}}\n",
       "\n",
       "                        })                };                });            </script>        </div>"
      ],
      "application/vnd.plotly.v1+json": {
       "config": {
        "plotlyServerURL": "https://plot.ly"
       },
       "data": [
        {
         "branchvalues": "total",
         "domain": {
          "x": [
           0,
           1
          ],
          "y": [
           0,
           1
          ]
         },
         "hovertemplate": "labels=%{label}<br>Male_Counts=%{value}<br>parent=%{parent}<br>id=%{id}<extra></extra>",
         "ids": [
          "LTR/Gypsy/ACCORD",
          "LTR/Gypsy/ACCORD2",
          "DNA/TcMar-Tc1/BARI1",
          "LTR/Pao/BATUMI",
          "LTR/Pao/BEL",
          "LTR/Gypsy/BLASTOPIA",
          "LTR/Gypsy/BLOOD",
          "LINE/I-Jockey/BS",
          "LINE/I-Jockey/BS2",
          "LINE/I-Jockey/BS3_DM",
          "LINE/I-Jockey/BS4_DM",
          "LTR/Gypsy/BURDOCK",
          "LINE/R1-LOA/Baggins1",
          "LTR/Gypsy/Bica",
          "LTR/Gypsy/CIRCE",
          "LTR/Gypsy/Chimpo",
          "LTR/Gypsy/Chouto",
          "LTR/Copia/Copia",
          "LTR/Copia/Copia1",
          "LTR/Copia/Copia2",
          "LTR/Pao/DIVER",
          "LTR/Pao/DIVER2",
          "LTR/Copia/DM1731",
          "LTR/Gypsy/DM176",
          "LTR/Gypsy/DM297",
          "LTR/Gypsy/DM412",
          "LTR/Gypsy/DM412B_LTR",
          "LINE/CR1/DMCR1A",
          "LTR/Gypsy/DMLTR5",
          "LINE/R1/DMRT1A",
          "LINE/R1/DMRT1B",
          "LINE/R1/DMRT1C",
          "RC/Helitron/DNAREP1_DM",
          "LINE/I-Jockey/DOC",
          "LINE/I-Jockey/DOC2_DM",
          "LINE/I-Jockey/DOC3_DM",
          "LINE/I-Jockey/DOC4_DM",
          "LINE/I-Jockey/DOC5_DM",
          "LINE/I-Jockey/DOC6_DM",
          "DNA/TcMar-Tc1/FB4_DM",
          "LTR/Copia/FROGGER",
          "LINE/I-Jockey/FW2_DM",
          "LINE/I-Jockey/FW3_DM",
          "LINE/I-Jockey/G2_DM",
          "LINE/I-Jockey/G3_DM",
          "LINE/I-Jockey/G4_DM",
          "LINE/I-Jockey/G5A_DM",
          "LINE/I-Jockey/G5_DM",
          "LINE/I-Jockey/G6_DM",
          "LTR/Gypsy/GTWIN",
          "LINE/I-Jockey/G_DM",
          "LTR/Gypsy/Gypsy",
          "LTR/Gypsy/Gypsy1",
          "LTR/Gypsy/Gypsy10",
          "LTR/Gypsy/Gypsy11",
          "LTR/Gypsy/Gypsy12",
          "LTR/Gypsy/Gypsy12A_LTR",
          "LTR/Gypsy/Gypsy2",
          "LTR/Gypsy/Gypsy3",
          "LTR/Gypsy/Gypsy4",
          "LTR/Gypsy/Gypsy5",
          "LTR/Gypsy/Gypsy6",
          "LTR/Gypsy/Gypsy6A_LTR",
          "LTR/Gypsy/Gypsy7",
          "LTR/Gypsy/Gypsy8",
          "LTR/Gypsy/Gypsy9",
          "LINE/I-Jockey/HETA",
          "LTR/Gypsy/HMSBEAGLE_I",
          "DNA/hAT-hobo/HOBO",
          "LTR/Gypsy/IDEFIX",
          "LINE/I/IVK_DM",
          "LINE/I/I_DM",
          "LTR/Gypsy/Invader1",
          "LTR/Gypsy/Invader2",
          "LTR/Gypsy/Invader3",
          "LTR/Gypsy/Invader4",
          "LTR/Gypsy/Invader5",
          "LTR/Gypsy/Invader6",
          "LINE/I-Jockey/Jockey2",
          "LINE/I-Jockey/LINEJ1_DM",
          "DNA/PiggyBac/LOOPER1_DM",
          "DNA/CMC-Transib/M4DM",
          "LTR/Pao/MAX",
          "LTR/Gypsy/MDG1",
          "LTR/Gypsy/MDG3",
          "LTR/Gypsy/MICROPIA",
          "DNA/TcMar-Tc1/Mariner2_DM",
          "LTR/Pao/NINJA",
          "LTR/Gypsy/NOMAD",
          "DNA/TcMar-Pogo/POGO",
          "DNA/P/PROTOP",
          "DNA/P/PROTOP_A",
          "DNA/P/PROTOP_B",
          "LTR/Gypsy/QUASIMODO",
          "LTR/Gypsy/QUASIMODO2",
          "LTR/Pao/ROO",
          "LTR/Pao/ROOA",
          "LTR/Gypsy/ROVER",
          "DNA/TcMar-Tc1/S2_DM",
          "LTR/Gypsy/STALKER4",
          "DNA/TcMar-Tc1/S_DM",
          "LTR/Gypsy/Stalker2",
          "LTR/Gypsy/TABOR",
          "LINE/I-Jockey/TAHRE",
          "LINE/I-Jockey/TART-A",
          "LINE/I-Jockey/TART_B1",
          "LTR/Gypsy/TIRANT",
          "LTR/Gypsy/TOM",
          "DNA/CMC-Transib/TRANSIB2",
          "DNA/CMC-Transib/TRANSIB3",
          "DNA/CMC-Transib/TRANSIB4",
          "LTR/Gypsy/TRANSPAC",
          "DNA/CMC-Transib/Transib5",
          "LTR/Gypsy/ZAM",
          "DNA/CMC-Transib",
          "LINE/CR1",
          "LTR/Copia",
          "LTR/Gypsy",
          "RC/Helitron",
          "LINE/I",
          "LINE/I-Jockey",
          "DNA/P",
          "LTR/Pao",
          "DNA/PiggyBac",
          "LINE/R1",
          "LINE/R1-LOA",
          "DNA/TcMar-Pogo",
          "DNA/TcMar-Tc1",
          "DNA/hAT-hobo",
          "DNA",
          "LINE",
          "LTR",
          "RC"
         ],
         "labels": [
          "ACCORD",
          "ACCORD2",
          "BARI1",
          "BATUMI",
          "BEL",
          "BLASTOPIA",
          "BLOOD",
          "BS",
          "BS2",
          "BS3_DM",
          "BS4_DM",
          "BURDOCK",
          "Baggins1",
          "Bica",
          "CIRCE",
          "Chimpo",
          "Chouto",
          "Copia",
          "Copia1",
          "Copia2",
          "DIVER",
          "DIVER2",
          "DM1731",
          "DM176",
          "DM297",
          "DM412",
          "DM412B_LTR",
          "DMCR1A",
          "DMLTR5",
          "DMRT1A",
          "DMRT1B",
          "DMRT1C",
          "DNAREP1_DM",
          "DOC",
          "DOC2_DM",
          "DOC3_DM",
          "DOC4_DM",
          "DOC5_DM",
          "DOC6_DM",
          "FB4_DM",
          "FROGGER",
          "FW2_DM",
          "FW3_DM",
          "G2_DM",
          "G3_DM",
          "G4_DM",
          "G5A_DM",
          "G5_DM",
          "G6_DM",
          "GTWIN",
          "G_DM",
          "Gypsy",
          "Gypsy1",
          "Gypsy10",
          "Gypsy11",
          "Gypsy12",
          "Gypsy12A_LTR",
          "Gypsy2",
          "Gypsy3",
          "Gypsy4",
          "Gypsy5",
          "Gypsy6",
          "Gypsy6A_LTR",
          "Gypsy7",
          "Gypsy8",
          "Gypsy9",
          "HETA",
          "HMSBEAGLE_I",
          "HOBO",
          "IDEFIX",
          "IVK_DM",
          "I_DM",
          "Invader1",
          "Invader2",
          "Invader3",
          "Invader4",
          "Invader5",
          "Invader6",
          "Jockey2",
          "LINEJ1_DM",
          "LOOPER1_DM",
          "M4DM",
          "MAX",
          "MDG1",
          "MDG3",
          "MICROPIA",
          "Mariner2_DM",
          "NINJA",
          "NOMAD",
          "POGO",
          "PROTOP",
          "PROTOP_A",
          "PROTOP_B",
          "QUASIMODO",
          "QUASIMODO2",
          "ROO",
          "ROOA",
          "ROVER",
          "S2_DM",
          "STALKER4",
          "S_DM",
          "Stalker2",
          "TABOR",
          "TAHRE",
          "TART-A",
          "TART_B1",
          "TIRANT",
          "TOM",
          "TRANSIB2",
          "TRANSIB3",
          "TRANSIB4",
          "TRANSPAC",
          "Transib5",
          "ZAM",
          "CMC-Transib",
          "CR1",
          "Copia",
          "Gypsy",
          "Helitron",
          "I",
          "I-Jockey",
          "P",
          "Pao",
          "PiggyBac",
          "R1",
          "R1-LOA",
          "TcMar-Pogo",
          "TcMar-Tc1",
          "hAT-hobo",
          "DNA",
          "LINE",
          "LTR",
          "RC"
         ],
         "name": "",
         "parents": [
          "LTR/Gypsy",
          "LTR/Gypsy",
          "DNA/TcMar-Tc1",
          "LTR/Pao",
          "LTR/Pao",
          "LTR/Gypsy",
          "LTR/Gypsy",
          "LINE/I-Jockey",
          "LINE/I-Jockey",
          "LINE/I-Jockey",
          "LINE/I-Jockey",
          "LTR/Gypsy",
          "LINE/R1-LOA",
          "LTR/Gypsy",
          "LTR/Gypsy",
          "LTR/Gypsy",
          "LTR/Gypsy",
          "LTR/Copia",
          "LTR/Copia",
          "LTR/Copia",
          "LTR/Pao",
          "LTR/Pao",
          "LTR/Copia",
          "LTR/Gypsy",
          "LTR/Gypsy",
          "LTR/Gypsy",
          "LTR/Gypsy",
          "LINE/CR1",
          "LTR/Gypsy",
          "LINE/R1",
          "LINE/R1",
          "LINE/R1",
          "RC/Helitron",
          "LINE/I-Jockey",
          "LINE/I-Jockey",
          "LINE/I-Jockey",
          "LINE/I-Jockey",
          "LINE/I-Jockey",
          "LINE/I-Jockey",
          "DNA/TcMar-Tc1",
          "LTR/Copia",
          "LINE/I-Jockey",
          "LINE/I-Jockey",
          "LINE/I-Jockey",
          "LINE/I-Jockey",
          "LINE/I-Jockey",
          "LINE/I-Jockey",
          "LINE/I-Jockey",
          "LINE/I-Jockey",
          "LTR/Gypsy",
          "LINE/I-Jockey",
          "LTR/Gypsy",
          "LTR/Gypsy",
          "LTR/Gypsy",
          "LTR/Gypsy",
          "LTR/Gypsy",
          "LTR/Gypsy",
          "LTR/Gypsy",
          "LTR/Gypsy",
          "LTR/Gypsy",
          "LTR/Gypsy",
          "LTR/Gypsy",
          "LTR/Gypsy",
          "LTR/Gypsy",
          "LTR/Gypsy",
          "LTR/Gypsy",
          "LINE/I-Jockey",
          "LTR/Gypsy",
          "DNA/hAT-hobo",
          "LTR/Gypsy",
          "LINE/I",
          "LINE/I",
          "LTR/Gypsy",
          "LTR/Gypsy",
          "LTR/Gypsy",
          "LTR/Gypsy",
          "LTR/Gypsy",
          "LTR/Gypsy",
          "LINE/I-Jockey",
          "LINE/I-Jockey",
          "DNA/PiggyBac",
          "DNA/CMC-Transib",
          "LTR/Pao",
          "LTR/Gypsy",
          "LTR/Gypsy",
          "LTR/Gypsy",
          "DNA/TcMar-Tc1",
          "LTR/Pao",
          "LTR/Gypsy",
          "DNA/TcMar-Pogo",
          "DNA/P",
          "DNA/P",
          "DNA/P",
          "LTR/Gypsy",
          "LTR/Gypsy",
          "LTR/Pao",
          "LTR/Pao",
          "LTR/Gypsy",
          "DNA/TcMar-Tc1",
          "LTR/Gypsy",
          "DNA/TcMar-Tc1",
          "LTR/Gypsy",
          "LTR/Gypsy",
          "LINE/I-Jockey",
          "LINE/I-Jockey",
          "LINE/I-Jockey",
          "LTR/Gypsy",
          "LTR/Gypsy",
          "DNA/CMC-Transib",
          "DNA/CMC-Transib",
          "DNA/CMC-Transib",
          "LTR/Gypsy",
          "DNA/CMC-Transib",
          "LTR/Gypsy",
          "DNA",
          "LINE",
          "LTR",
          "LTR",
          "RC",
          "LINE",
          "LINE",
          "DNA",
          "LTR",
          "DNA",
          "LINE",
          "LINE",
          "DNA",
          "DNA",
          "DNA",
          "",
          "",
          "",
          ""
         ],
         "type": "sunburst",
         "values": [
          2,
          13,
          5,
          15,
          27,
          179,
          1,
          3,
          10,
          9,
          1,
          58,
          13,
          4,
          31,
          2,
          22,
          310,
          20,
          9,
          3,
          75,
          43,
          35,
          17,
          14,
          5,
          117,
          28,
          25,
          17,
          1,
          43,
          28,
          33,
          23,
          14,
          3,
          15,
          82,
          42,
          29,
          32,
          1,
          9,
          48,
          70,
          5,
          2,
          2,
          15,
          160,
          34,
          517,
          1,
          97,
          59,
          15,
          1,
          9,
          1,
          4,
          13,
          2,
          8,
          24,
          785,
          4,
          1,
          65,
          1,
          47,
          5,
          6,
          6,
          3,
          1,
          8,
          104,
          28,
          1,
          67,
          40,
          23,
          8,
          51,
          61,
          10,
          599,
          30,
          21,
          5,
          6,
          168,
          3,
          199,
          4,
          5,
          1,
          9,
          14,
          27,
          6,
          668,
          210,
          260,
          71,
          4,
          151,
          7,
          1,
          116,
          2,
          31,
          228,
          117,
          424,
          2577,
          43,
          48,
          2405,
          32,
          373,
          1,
          43,
          13,
          30,
          163,
          1,
          455,
          2626,
          3374,
          43
         ]
        }
       ],
       "layout": {
        "legend": {
         "tracegroupgap": 0
        },
        "margin": {
         "t": 60
        },
        "template": {
         "data": {
          "bar": [
           {
            "error_x": {
             "color": "#2a3f5f"
            },
            "error_y": {
             "color": "#2a3f5f"
            },
            "marker": {
             "line": {
              "color": "#E5ECF6",
              "width": 0.5
             }
            },
            "type": "bar"
           }
          ],
          "barpolar": [
           {
            "marker": {
             "line": {
              "color": "#E5ECF6",
              "width": 0.5
             }
            },
            "type": "barpolar"
           }
          ],
          "carpet": [
           {
            "aaxis": {
             "endlinecolor": "#2a3f5f",
             "gridcolor": "white",
             "linecolor": "white",
             "minorgridcolor": "white",
             "startlinecolor": "#2a3f5f"
            },
            "baxis": {
             "endlinecolor": "#2a3f5f",
             "gridcolor": "white",
             "linecolor": "white",
             "minorgridcolor": "white",
             "startlinecolor": "#2a3f5f"
            },
            "type": "carpet"
           }
          ],
          "choropleth": [
           {
            "colorbar": {
             "outlinewidth": 0,
             "ticks": ""
            },
            "type": "choropleth"
           }
          ],
          "contour": [
           {
            "colorbar": {
             "outlinewidth": 0,
             "ticks": ""
            },
            "colorscale": [
             [
              0,
              "#0d0887"
             ],
             [
              0.1111111111111111,
              "#46039f"
             ],
             [
              0.2222222222222222,
              "#7201a8"
             ],
             [
              0.3333333333333333,
              "#9c179e"
             ],
             [
              0.4444444444444444,
              "#bd3786"
             ],
             [
              0.5555555555555556,
              "#d8576b"
             ],
             [
              0.6666666666666666,
              "#ed7953"
             ],
             [
              0.7777777777777778,
              "#fb9f3a"
             ],
             [
              0.8888888888888888,
              "#fdca26"
             ],
             [
              1,
              "#f0f921"
             ]
            ],
            "type": "contour"
           }
          ],
          "contourcarpet": [
           {
            "colorbar": {
             "outlinewidth": 0,
             "ticks": ""
            },
            "type": "contourcarpet"
           }
          ],
          "heatmap": [
           {
            "colorbar": {
             "outlinewidth": 0,
             "ticks": ""
            },
            "colorscale": [
             [
              0,
              "#0d0887"
             ],
             [
              0.1111111111111111,
              "#46039f"
             ],
             [
              0.2222222222222222,
              "#7201a8"
             ],
             [
              0.3333333333333333,
              "#9c179e"
             ],
             [
              0.4444444444444444,
              "#bd3786"
             ],
             [
              0.5555555555555556,
              "#d8576b"
             ],
             [
              0.6666666666666666,
              "#ed7953"
             ],
             [
              0.7777777777777778,
              "#fb9f3a"
             ],
             [
              0.8888888888888888,
              "#fdca26"
             ],
             [
              1,
              "#f0f921"
             ]
            ],
            "type": "heatmap"
           }
          ],
          "heatmapgl": [
           {
            "colorbar": {
             "outlinewidth": 0,
             "ticks": ""
            },
            "colorscale": [
             [
              0,
              "#0d0887"
             ],
             [
              0.1111111111111111,
              "#46039f"
             ],
             [
              0.2222222222222222,
              "#7201a8"
             ],
             [
              0.3333333333333333,
              "#9c179e"
             ],
             [
              0.4444444444444444,
              "#bd3786"
             ],
             [
              0.5555555555555556,
              "#d8576b"
             ],
             [
              0.6666666666666666,
              "#ed7953"
             ],
             [
              0.7777777777777778,
              "#fb9f3a"
             ],
             [
              0.8888888888888888,
              "#fdca26"
             ],
             [
              1,
              "#f0f921"
             ]
            ],
            "type": "heatmapgl"
           }
          ],
          "histogram": [
           {
            "marker": {
             "colorbar": {
              "outlinewidth": 0,
              "ticks": ""
             }
            },
            "type": "histogram"
           }
          ],
          "histogram2d": [
           {
            "colorbar": {
             "outlinewidth": 0,
             "ticks": ""
            },
            "colorscale": [
             [
              0,
              "#0d0887"
             ],
             [
              0.1111111111111111,
              "#46039f"
             ],
             [
              0.2222222222222222,
              "#7201a8"
             ],
             [
              0.3333333333333333,
              "#9c179e"
             ],
             [
              0.4444444444444444,
              "#bd3786"
             ],
             [
              0.5555555555555556,
              "#d8576b"
             ],
             [
              0.6666666666666666,
              "#ed7953"
             ],
             [
              0.7777777777777778,
              "#fb9f3a"
             ],
             [
              0.8888888888888888,
              "#fdca26"
             ],
             [
              1,
              "#f0f921"
             ]
            ],
            "type": "histogram2d"
           }
          ],
          "histogram2dcontour": [
           {
            "colorbar": {
             "outlinewidth": 0,
             "ticks": ""
            },
            "colorscale": [
             [
              0,
              "#0d0887"
             ],
             [
              0.1111111111111111,
              "#46039f"
             ],
             [
              0.2222222222222222,
              "#7201a8"
             ],
             [
              0.3333333333333333,
              "#9c179e"
             ],
             [
              0.4444444444444444,
              "#bd3786"
             ],
             [
              0.5555555555555556,
              "#d8576b"
             ],
             [
              0.6666666666666666,
              "#ed7953"
             ],
             [
              0.7777777777777778,
              "#fb9f3a"
             ],
             [
              0.8888888888888888,
              "#fdca26"
             ],
             [
              1,
              "#f0f921"
             ]
            ],
            "type": "histogram2dcontour"
           }
          ],
          "mesh3d": [
           {
            "colorbar": {
             "outlinewidth": 0,
             "ticks": ""
            },
            "type": "mesh3d"
           }
          ],
          "parcoords": [
           {
            "line": {
             "colorbar": {
              "outlinewidth": 0,
              "ticks": ""
             }
            },
            "type": "parcoords"
           }
          ],
          "pie": [
           {
            "automargin": true,
            "type": "pie"
           }
          ],
          "scatter": [
           {
            "marker": {
             "colorbar": {
              "outlinewidth": 0,
              "ticks": ""
             }
            },
            "type": "scatter"
           }
          ],
          "scatter3d": [
           {
            "line": {
             "colorbar": {
              "outlinewidth": 0,
              "ticks": ""
             }
            },
            "marker": {
             "colorbar": {
              "outlinewidth": 0,
              "ticks": ""
             }
            },
            "type": "scatter3d"
           }
          ],
          "scattercarpet": [
           {
            "marker": {
             "colorbar": {
              "outlinewidth": 0,
              "ticks": ""
             }
            },
            "type": "scattercarpet"
           }
          ],
          "scattergeo": [
           {
            "marker": {
             "colorbar": {
              "outlinewidth": 0,
              "ticks": ""
             }
            },
            "type": "scattergeo"
           }
          ],
          "scattergl": [
           {
            "marker": {
             "colorbar": {
              "outlinewidth": 0,
              "ticks": ""
             }
            },
            "type": "scattergl"
           }
          ],
          "scattermapbox": [
           {
            "marker": {
             "colorbar": {
              "outlinewidth": 0,
              "ticks": ""
             }
            },
            "type": "scattermapbox"
           }
          ],
          "scatterpolar": [
           {
            "marker": {
             "colorbar": {
              "outlinewidth": 0,
              "ticks": ""
             }
            },
            "type": "scatterpolar"
           }
          ],
          "scatterpolargl": [
           {
            "marker": {
             "colorbar": {
              "outlinewidth": 0,
              "ticks": ""
             }
            },
            "type": "scatterpolargl"
           }
          ],
          "scatterternary": [
           {
            "marker": {
             "colorbar": {
              "outlinewidth": 0,
              "ticks": ""
             }
            },
            "type": "scatterternary"
           }
          ],
          "surface": [
           {
            "colorbar": {
             "outlinewidth": 0,
             "ticks": ""
            },
            "colorscale": [
             [
              0,
              "#0d0887"
             ],
             [
              0.1111111111111111,
              "#46039f"
             ],
             [
              0.2222222222222222,
              "#7201a8"
             ],
             [
              0.3333333333333333,
              "#9c179e"
             ],
             [
              0.4444444444444444,
              "#bd3786"
             ],
             [
              0.5555555555555556,
              "#d8576b"
             ],
             [
              0.6666666666666666,
              "#ed7953"
             ],
             [
              0.7777777777777778,
              "#fb9f3a"
             ],
             [
              0.8888888888888888,
              "#fdca26"
             ],
             [
              1,
              "#f0f921"
             ]
            ],
            "type": "surface"
           }
          ],
          "table": [
           {
            "cells": {
             "fill": {
              "color": "#EBF0F8"
             },
             "line": {
              "color": "white"
             }
            },
            "header": {
             "fill": {
              "color": "#C8D4E3"
             },
             "line": {
              "color": "white"
             }
            },
            "type": "table"
           }
          ]
         },
         "layout": {
          "annotationdefaults": {
           "arrowcolor": "#2a3f5f",
           "arrowhead": 0,
           "arrowwidth": 1
          },
          "autotypenumbers": "strict",
          "coloraxis": {
           "colorbar": {
            "outlinewidth": 0,
            "ticks": ""
           }
          },
          "colorscale": {
           "diverging": [
            [
             0,
             "#8e0152"
            ],
            [
             0.1,
             "#c51b7d"
            ],
            [
             0.2,
             "#de77ae"
            ],
            [
             0.3,
             "#f1b6da"
            ],
            [
             0.4,
             "#fde0ef"
            ],
            [
             0.5,
             "#f7f7f7"
            ],
            [
             0.6,
             "#e6f5d0"
            ],
            [
             0.7,
             "#b8e186"
            ],
            [
             0.8,
             "#7fbc41"
            ],
            [
             0.9,
             "#4d9221"
            ],
            [
             1,
             "#276419"
            ]
           ],
           "sequential": [
            [
             0,
             "#0d0887"
            ],
            [
             0.1111111111111111,
             "#46039f"
            ],
            [
             0.2222222222222222,
             "#7201a8"
            ],
            [
             0.3333333333333333,
             "#9c179e"
            ],
            [
             0.4444444444444444,
             "#bd3786"
            ],
            [
             0.5555555555555556,
             "#d8576b"
            ],
            [
             0.6666666666666666,
             "#ed7953"
            ],
            [
             0.7777777777777778,
             "#fb9f3a"
            ],
            [
             0.8888888888888888,
             "#fdca26"
            ],
            [
             1,
             "#f0f921"
            ]
           ],
           "sequentialminus": [
            [
             0,
             "#0d0887"
            ],
            [
             0.1111111111111111,
             "#46039f"
            ],
            [
             0.2222222222222222,
             "#7201a8"
            ],
            [
             0.3333333333333333,
             "#9c179e"
            ],
            [
             0.4444444444444444,
             "#bd3786"
            ],
            [
             0.5555555555555556,
             "#d8576b"
            ],
            [
             0.6666666666666666,
             "#ed7953"
            ],
            [
             0.7777777777777778,
             "#fb9f3a"
            ],
            [
             0.8888888888888888,
             "#fdca26"
            ],
            [
             1,
             "#f0f921"
            ]
           ]
          },
          "colorway": [
           "#636efa",
           "#EF553B",
           "#00cc96",
           "#ab63fa",
           "#FFA15A",
           "#19d3f3",
           "#FF6692",
           "#B6E880",
           "#FF97FF",
           "#FECB52"
          ],
          "font": {
           "color": "#2a3f5f"
          },
          "geo": {
           "bgcolor": "white",
           "lakecolor": "white",
           "landcolor": "#E5ECF6",
           "showlakes": true,
           "showland": true,
           "subunitcolor": "white"
          },
          "hoverlabel": {
           "align": "left"
          },
          "hovermode": "closest",
          "mapbox": {
           "style": "light"
          },
          "paper_bgcolor": "white",
          "plot_bgcolor": "#E5ECF6",
          "polar": {
           "angularaxis": {
            "gridcolor": "white",
            "linecolor": "white",
            "ticks": ""
           },
           "bgcolor": "#E5ECF6",
           "radialaxis": {
            "gridcolor": "white",
            "linecolor": "white",
            "ticks": ""
           }
          },
          "scene": {
           "xaxis": {
            "backgroundcolor": "#E5ECF6",
            "gridcolor": "white",
            "gridwidth": 2,
            "linecolor": "white",
            "showbackground": true,
            "ticks": "",
            "zerolinecolor": "white"
           },
           "yaxis": {
            "backgroundcolor": "#E5ECF6",
            "gridcolor": "white",
            "gridwidth": 2,
            "linecolor": "white",
            "showbackground": true,
            "ticks": "",
            "zerolinecolor": "white"
           },
           "zaxis": {
            "backgroundcolor": "#E5ECF6",
            "gridcolor": "white",
            "gridwidth": 2,
            "linecolor": "white",
            "showbackground": true,
            "ticks": "",
            "zerolinecolor": "white"
           }
          },
          "shapedefaults": {
           "line": {
            "color": "#2a3f5f"
           }
          },
          "ternary": {
           "aaxis": {
            "gridcolor": "white",
            "linecolor": "white",
            "ticks": ""
           },
           "baxis": {
            "gridcolor": "white",
            "linecolor": "white",
            "ticks": ""
           },
           "bgcolor": "#E5ECF6",
           "caxis": {
            "gridcolor": "white",
            "linecolor": "white",
            "ticks": ""
           }
          },
          "title": {
           "x": 0.05
          },
          "xaxis": {
           "automargin": true,
           "gridcolor": "white",
           "linecolor": "white",
           "ticks": "",
           "title": {
            "standoff": 15
           },
           "zerolinecolor": "white",
           "zerolinewidth": 2
          },
          "yaxis": {
           "automargin": true,
           "gridcolor": "white",
           "linecolor": "white",
           "ticks": "",
           "title": {
            "standoff": 15
           },
           "zerolinecolor": "white",
           "zerolinewidth": 2
          }
         }
        }
       }
      }
     },
     "metadata": {}
    }
   ],
   "metadata": {}
  }
 ],
 "metadata": {
  "interpreter": {
   "hash": "767d51c1340bd893661ea55ea3124f6de3c7a262a8b4abca0554b478b1e2ff90"
  },
  "kernelspec": {
   "name": "python3",
   "display_name": "Python 3.9.1 64-bit"
  },
  "language_info": {
   "name": "python",
   "version": "3.9.1+",
   "mimetype": "text/x-python",
   "codemirror_mode": {
    "name": "ipython",
    "version": 3
   },
   "pygments_lexer": "ipython3",
   "nbconvert_exporter": "python",
   "file_extension": ".py"
  }
 },
 "nbformat": 4,
 "nbformat_minor": 2
}