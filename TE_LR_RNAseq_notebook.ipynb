{
 "metadata": {
  "language_info": {
   "codemirror_mode": {
    "name": "ipython",
    "version": 3
   },
   "file_extension": ".py",
   "mimetype": "text/x-python",
   "name": "python",
   "nbconvert_exporter": "python",
   "pygments_lexer": "ipython3",
   "version": "3.9.1-final"
  },
  "orig_nbformat": 2,
  "kernelspec": {
   "name": "python3",
   "display_name": "Python 3",
   "language": "python"
  }
 },
 "nbformat": 4,
 "nbformat_minor": 2,
 "cells": [
  {
   "cell_type": "code",
   "execution_count": 64,
   "metadata": {},
   "outputs": [],
   "source": [
    "# DEPENDENCIES\n",
    "\n",
    "import pysam\n",
    "import pandas as pd\n",
    "import HTSeq\n",
    "\n",
    "# GLOBAL VARS\n",
    "\n",
    "FC30_DMGOTH_BAMFILE = \"/data2/eric/TE_LR_RNAseq/data/dmgoth101_genome_alignments/bam/FC30.against_dmgoth.bam\"\n",
    "FC30_DMGOTH_MAX_AS_BAMFILE = \"/data2/eric/TE_LR_RNAseq/data/dmgoth101_genome_alignments/bam/FC30.against_dmgoth.filtered.bam\"\n",
    "\n",
    "FC29_DMGOTH_BAMFILE = \"/data2/eric/TE_LR_RNAseq/data/dmgoth101_genome_alignments/bam/FC29.against_dmgoth.bam\"\n",
    "FC29_DMGOTH_MAX_AS_BAMFILE = \"/data2/eric/TE_LR_RNAseq/data/dmgoth101_genome_alignments/bam/FC29.against_dmgoth.filtered.bam\"\n",
    "\n",
    "FC30_DMGOTH_SUBSET_BAMFILE = \"/data2/eric/TE_LR_RNAseq/data/dmgoth101_genome_alignments/bam/FC30.subset.against_dmgoth.bam\"\n",
    "FC30_DMGOTH_SUBSET_MAX_AS_BAMFILE = \"/data2/eric/TE_LR_RNAseq/data/dmgoth101_genome_alignments/bam/FC30.subset.against_dmgoth.filtered.bam\"\n",
    "\n",
    "REPEATMASKER_TE_ANNOTATIONS = \"/data2/eric/TE_LR_RNAseq/data/dmgoth101_genome_alignments/annotations/dmgoth101.onecode.v2.gtf\"\n",
    "DMGOTH_GENE_ANNOTATIONS = \"/data2/eric/TE_LR_RNAseq/data/dmgoth101_genome_alignments/annotations/Dm_Goth_10-1.dmel6.23LiftOff.sorted.gff\""
   ]
  },
  {
   "cell_type": "code",
   "execution_count": 52,
   "metadata": {},
   "outputs": [],
   "source": [
    "def build_index(bamfile):\n",
    "    bam = pysam.AlignmentFile(bamfile, 'rb')\n",
    "    read_index = pysam.IndexedReads(bam)\n",
    "    read_index.build()\n",
    "    return read_index\n",
    "\n",
    "def get_query_names(bamfile):\n",
    "    query_names = []\n",
    "    with pysam.AlignmentFile(bamfile, 'rb') as bam:\n",
    "        for ali in bam:\n",
    "            query_names.append(ali.query_name)\n",
    "    return set(query_names)\n"
   ]
  },
  {
   "cell_type": "code",
   "execution_count": 65,
   "metadata": {},
   "outputs": [
    {
     "output_type": "execute_result",
     "data": {
      "text/plain": [
       "'/data2/eric/TE_LR_RNAseq/data/dmgoth101_genome_alignments/bam/FC29.against_dmgoth.filtered.bam'"
      ]
     },
     "metadata": {},
     "execution_count": 65
    }
   ],
   "source": [
    "# Filter out reads : \n",
    "\n",
    "## We filter unmapped, supplementary, and reads with non-optimal AS score.\n",
    "\n",
    "def filter_max_AS_reads(bamfile, output_bamfile):\n",
    "    query_names = get_query_names(bamfile)\n",
    "    read_index = build_index(bamfile)\n",
    "    with pysam.AlignmentFile(output_bamfile, 'wb', template = pysam.AlignmentFile(bamfile,'rb')) as output:\n",
    "        for read in query_names:\n",
    "            ali_list = read_index.find(read)\n",
    "            max_AS = 0\n",
    "            primary_and_secondary_alignments = [ali for ali in ali_list if not (ali.is_unmapped or ali.is_supplementary)]\n",
    "            if primary_and_secondary_alignments :\n",
    "                max_AS = max([ali.get_tag('AS') for ali in primary_and_secondary_alignments])\n",
    "                max_AS_alignments = [ali for ali in primary_and_secondary_alignments if ali.get_tag('AS') == max_AS]\n",
    "                for ali in max_AS_alignments:\n",
    "                    output.write(ali)\n",
    "    return output_bamfile\n",
    "# filter_max_AS_reads(FC30_DMGOTH_SUBSET_BAMFILE, FC30_DMGOTH_SUBSET_MAX_AS_BAMFILE)\n",
    "filter_max_AS_reads(FC29_DMGOTH_BAMFILE, FC29_DMGOTH_MAX_AS_BAMFILE)\n"
   ]
  },
  {
   "cell_type": "code",
   "execution_count": 10,
   "metadata": {},
   "outputs": [],
   "source": [
    "class TransposableElementInsertion:\n",
    "    def __init__(self, insertion_id, chrom, start, end):\n",
    "        self.id = insertion_id\n",
    "        self.chrom = chrom\n",
    "        self.start = int(start)\n",
    "        self.end = int(end)\n",
    "        self.alignments = []\n",
    "        self.counts = 0\n",
    "\n",
    "        \n",
    "\n"
   ]
  },
  {
   "cell_type": "code",
   "execution_count": 67,
   "metadata": {},
   "outputs": [],
   "source": [
    "def initiate_transposable_element_family_dict(annotations):\n",
    "    transposable_element_family_dict = {}\n",
    "    with open(annotations) as annot:\n",
    "        for line in annot:\n",
    "            splitted_line = line.strip().split(\"\\t\")\n",
    "            chrom, start, end = [splitted_line[i] for i in [0, 3, 4]]\n",
    "            ids = splitted_line[-1].split('\"')\n",
    "            family_name = ids[1]\n",
    "            if int(end) - int(start) > 80:\n",
    "                new_insertion = TransposableElementInsertion(ids[3], chrom, start, end)\n",
    "                if family_name not in transposable_element_family_dict:\n",
    "                    transposable_element_family_dict[family_name] = []\n",
    "                transposable_element_family_dict[family_name].append(new_insertion)\n",
    "    return transposable_element_family_dict\n",
    "FC30_SUBSET_FAMILY_DICT = initiate_transposable_element_family_dict(REPEATMASKER_TE_ANNOTATIONS)"
   ]
  },
  {
   "cell_type": "code",
   "execution_count": 60,
   "metadata": {
    "tags": []
   },
   "outputs": [],
   "source": [
    "def get_subject_coverage(alignment, insertion):\n",
    "    overlap_start = max(alignment.reference_start, insertion.start)\n",
    "    overlap_end = min(alignment.reference_end, insertion.end)\n",
    "    overlap_length = overlap_end - overlap_start\n",
    "    insertion_length = insertion.end - insertion.start\n",
    "    subject_coverage = overlap_length / insertion_length\n",
    "    return subject_coverage\n",
    "\n",
    "def default_filter(alignment, insertion):\n",
    "    subject_coverage = get_subject_coverage(alignment, insertion)\n",
    "    nb_aligned_pairs =  alignment.get_overlap(insertion.start, insertion.end)\n",
    "    is_ok = (subject_coverage > 0.1 and nb_aligned_pairs > 1)\n",
    "    return is_ok\n",
    "\n",
    "def get_exceeding_alignment_length(alignment, insertion):\n",
    "    overflow_length = 0\n",
    "    if alignment.reference_start < insertion.start:\n",
    "        overflow_length += insertion.start -alignment.reference_start\n",
    "    if alignment.reference_end > insertion.end:\n",
    "        overflow_length += alignment.reference_end - insertion.end\n",
    "    return overflow_length\n",
    "\n",
    "def filter_out_co_expressed(alignment, insertion):\n",
    "    exceeding_length = get_exceeding_alignment_length(alignment, insertion)\n",
    "    alignment_length = alignment.reference_end - alignment.reference_start\n",
    "    is_ok = (exceeding_length < (0.1 * alignment_length))\n",
    "    return is_ok\n",
    "\n",
    "def match_reads_with_insertions(bamfile, family_dict, filter_strategy):\n",
    "    with pysam.AlignmentFile(bamfile, 'rb') as bam:\n",
    "        for family, insertion_list in family_dict.items():\n",
    "            for insertion in insertion_list:\n",
    "                def apply_filter_strategy(read):\n",
    "                    return filter_strategy(read, insertion)\n",
    "                insertion.count = bam.count(contig=insertion.chrom, start=insertion.start, end=insertion.end, read_callback=apply_filter_strategy)\n",
    "    return family_dict\n",
    "# FC30_SUBSET_FAMILY_DICT = match_reads_with_insertions(FC30_DMGOTH_SUBSET_BAMFILE, FC30_SUBSET_FAMILY_DICT, filter_out_co_expressed)"
   ]
  },
  {
   "cell_type": "code",
   "execution_count": 69,
   "metadata": {},
   "outputs": [
    {
     "output_type": "stream",
     "name": "stdout",
     "text": [
      "TART-A_3L_RaGOO_24811786_24820381\n5\nTART-A_3L_RaGOO_24818846_24827437\n4\nHETA_3L_RaGOO_18403_20679\n4\nHETA_X_RaGOO_85920_94840\n4\nCopia_LTR_2L_RaGOO_9004503_9009641\n5\nCopia_LTR_2L_RaGOO_13770083_13775227\n9\nCopia_LTR_2L_RaGOO_14753817_14758950\n19\nCopia_LTR_2L_RaGOO_21771835_21776956\n19\nCopia_LTR_2R_RaGOO_20482857_20488005\n14\nCopia_LTR_3L_RaGOO_10022428_10027467\n34\nCopia_LTR_3L_RaGOO_10052506_10057644\n26\nCopia_LTR_3L_RaGOO_17623155_17628299\n20\nCopia_LTR_3R_RaGOO_1372041_1377188\n9\nROO_I_2R_RaGOO_13238874_13250807\n18\nROO_I_2R_RaGOO_14213942_14227652\n45\nROO_I_3R_RaGOO_14005164_14015074\n85\nROO_I_X_RaGOO_4684190_4696799\n353\nROO_I_X_RaGOO_6590807_6605123\n7\nBLOOD_LTR_2L_RaGOO_2148055_2155527\n7\nBLOOD_LTR_2L_RaGOO_3268611_3276063\n4\nBLOOD_LTR_2R_RaGOO_416001_421270\n4\nPOGO_2L_RaGOO_2955877_2958004\n6\nPOGO_2R_RaGOO_7201268_7202754\n37\nPOGO_3L_RaGOO_9733928_9735150\n68\nPOGO_3L_RaGOO_17298517_17299810\n4\nPOGO_3L_RaGOO_20073927_20075365\n4\nPOGO_3R_RaGOO_11285980_11288111\n4\nPOGO_X_RaGOO_14998652_15000110\n4\nPOGO_X_RaGOO_20422614_20423802\n4\nPOGO_X_RaGOO_21863530_21864880\n75\nDM412_3R_RaGOO_3388391_3389451\n5\nMICROPIA_I_3L_RaGOO_4604350_4608941\n4\nMICROPIA_I_3R_RaGOO_23396903_23401501\n4\nMICROPIA_I_3R_RaGOO_31083506_31088004\n4\nMICROPIA_I_X_RaGOO_17340828_17345349\n4\nTART_B1_2R_RaGOO_23920095_23923160\n4\nDMCR1A_2L_RaGOO_22244771_22248301\n78\nPROTOP_B_4_RaGOO_175159_176280\n5\nMDG1_I_2R_RaGOO_916381_928492\n9\nGypsy12A_LTR_3R_RaGOO_1864004_1865329\n4\nChouto_I_2L_RaGOO_21770014_21779551\n19\nGypsy_I_3R_RaGOO_3387294_3394492\n7\nGypsy12_LTR_2R_RaGOO_1299099_1309281\n6\nGypsy12_LTR_3R_RaGOO_842982_854376\n19\nGypsy12_LTR_3R_RaGOO_960900_963176\n36\nTRANSIB3_3R_RaGOO_1852612_1853834\n4\nTRANSIB3_X_RaGOO_21749054_21750759\n9\nDMTOM1_LTR_X_RaGOO_11258002_11258389\n8\nACCORD2_LTR_3L_RaGOO_24099817_24111803\n4\nMAX_LTR_3L_RaGOO_3640512_3649209\n8\nGypsy1-I_DM_3L_RaGOO_24127725_24132950\n11\nStalker2_LTR_2R_RaGOO_15238139_15244515\n4\nStalker2_LTR_3R_RaGOO_12469233_12477197\n9\n"
     ]
    }
   ],
   "source": [
    "for family, insertion_list in FC30_FAMILY_DICT.items():\n",
    "    for insertion in insertion_list:\n",
    "        if insertion.count > 3:\n",
    "            print(insertion.id)\n",
    "            print(insertion.count)\n"
   ]
  },
  {
   "cell_type": "code",
   "execution_count": 68,
   "metadata": {},
   "outputs": [],
   "source": [
    "def main(filtered_bamfile, annotations, filter_strategy):\n",
    "    family_dict = initiate_transposable_element_family_dict(annotations)\n",
    "    match_reads_with_insertions(filtered_bamfile, family_dict, filter_strategy)\n",
    "    return family_dict\n",
    "FC30_FAMILY_DICT = main(FC30_DMGOTH_MAX_AS_BAMFILE, REPEATMASKER_TE_ANNOTATIONS, filter_out_co_expressed)"
   ]
  },
  {
   "cell_type": "code",
   "execution_count": null,
   "metadata": {},
   "outputs": [],
   "source": []
  }
 ]
}