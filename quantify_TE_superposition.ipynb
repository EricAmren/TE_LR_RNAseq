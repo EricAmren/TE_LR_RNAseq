{
 "cells": [
  {
   "cell_type": "code",
   "execution_count": 10,
   "source": [
    "import pysam\n",
    "\n",
    "TE_ANNOTATION_FILE = \"/data2/eric/TE_LR_RNAseq/data/dmgoth101_genome_alignments/annotations/dmgoth101.onecode.v3.gtf\"\n",
    "FC30_DMGOTH_MAX_AS_PRIMARY_ONLY_BAMFILE =\"/data2/eric/TE_LR_RNAseq/data/dmgoth101_genome_alignments/bam/FC30.against_dmgoth.filtered_max_AS.primary_only.bam\"\n",
    "\n"
   ],
   "outputs": [],
   "metadata": {}
  },
  {
   "cell_type": "code",
   "execution_count": 12,
   "source": [
    "class TE_feature:\n",
    "\tdef __init__(self, chrom, start, end, gene_id, insertion_id):\n",
    "\t\tself.chrom = chrom\n",
    "\t\tself.start = start\n",
    "\t\tself.end = end\n",
    "\t\tself.insertion_id = insertion_id\n",
    "\t\tself.count = 0\n",
    "\t\t# self.family = gene_id_to_family_name(gene_id)\n",
    "\t\tself.counted_reads = set()\n",
    "\n",
    "\tdef __len__(self):\n",
    "\t\treturn self.end - self.start\n",
    "\n",
    "\tdef __repr__(self):\n",
    "\t\treturn self.insertion_id\n",
    "\n",
    "\tdef is_valid(self, bam_chromosomes):\n",
    "\t\treturn len(self) > 150 and self.chrom in bam_chromosomes\n",
    "\n",
    "def build_TE(line):\n",
    "    sline = line.strip().split(\"\\t\")\n",
    "    chrom = sline[0]\n",
    "    start = int(sline[3])\n",
    "    end = int(sline[4])\n",
    "    gene_id = sline[-1].split(\";\")[0].split('\"')[1]\n",
    "    insertion_id = sline[-1].strip().split('transcript_id \"')[-1][:-2]\n",
    "\n",
    "    return TE_feature(chrom, start, end, gene_id, insertion_id)\n",
    "\n",
    "def regroup_TE_by_chrom(TE_feature_list):\n",
    "\t\"\"\"Return a dict of key:chrom and values:list of TE\n",
    "\n",
    "\tArgs:\n",
    "\t\tTE_feature_list (list): flat list of TE_feature\n",
    "\t\"\"\"\n",
    "\tTE_dict = dict()\n",
    "\tfor insertion in TE_feature_list:\n",
    "\t\tif insertion.chrom not in TE_dict:\n",
    "\t\t\tTE_dict[insertion.chrom] = [insertion]\n",
    "\t\telse:\n",
    "\t\t\tTE_dict[insertion.chrom].append(insertion)\n",
    "\treturn TE_dict\n",
    "\n",
    "\n",
    "\n",
    "def filter_relevant_TE_feature(bamfile, TE_annotation_file, min_TE_size=150):\n",
    "\t\"\"\"Generate list of TE objects that will next be counted.\n",
    "\tTE are filtered : we discard those which are on chromosome absent from the bamfile\n",
    "\tand those with length (in number of base) below a certain threshold.\n",
    "\n",
    "\tArgs:\n",
    "\t\tbamfile (str): path to the alignment file\n",
    "\t\tTE_annotation_file (str): path the TE annotation file (gtf format)\n",
    "\t\tmin_TE_size(int): minimal number of base for a TE to be considered as valid. Default = 150\n",
    "\t\"\"\"\n",
    "\t# Enumerating chromosomes present in the bamfile\n",
    "\tbam_chromosomes = pysam.AlignmentFile(bamfile).references\n",
    "\t# Then iterating through TE_annotation_file, creating and checking TE objects\n",
    "\tvalid_TE_list = list()\n",
    "\twith open(TE_annotation_file, \"r\") as TE_annot:\n",
    "\t\tfor line in TE_annot:\n",
    "\t\t\tnew_TE = build_TE(line)\n",
    "\t\t\tif new_TE.is_valid(bam_chromosomes):\n",
    "\t\t\t\tvalid_TE_list.append(new_TE)\n",
    "\treturn valid_TE_list\n",
    "\n",
    "\n"
   ],
   "outputs": [],
   "metadata": {}
  },
  {
   "cell_type": "code",
   "execution_count": 13,
   "source": [
    "valid_TE_list = filter_relevant_TE_feature(FC30_DMGOTH_MAX_AS_PRIMARY_ONLY_BAMFILE, TE_ANNOTATION_FILE)\n",
    "TE_by_chrom = regroup_TE_by_chrom(valid_TE_list)"
   ],
   "outputs": [],
   "metadata": {}
  },
  {
   "cell_type": "code",
   "execution_count": 18,
   "source": [
    "superimposed_TE_list = list()\n",
    "nb_of_superimposed_TE = 0\n",
    "i = 0\n",
    "for TE_list in TE_by_chrom.values():\n",
    "\tTE_list = sorted(TE_list, key= lambda e: e.start)\n",
    "\tfor index, TE in enumerate(TE_list[:-1]):\n",
    "\t\tif TE.end >= TE_list[index + 1].start :\n",
    "\t\t\tnb_of_superimposed_TE += 1\n",
    "\t\t\tsuperimposed_TE_list.append(TE.insertion_id)\n",
    "print(nb_of_superimposed_TE)\n",
    "print(len(valid_TE_list))"
   ],
   "outputs": [
    {
     "output_type": "stream",
     "name": "stdout",
     "text": [
      "1702\n",
      "10665\n"
     ]
    }
   ],
   "metadata": {}
  },
  {
   "cell_type": "code",
   "execution_count": 19,
   "source": [
    "print(superimposed_TE_list[:10])\n"
   ],
   "outputs": [
    {
     "output_type": "stream",
     "name": "stdout",
     "text": [
      "['TART-A$2L_RaGOO$4304$8214', 'TAHRE$2L_RaGOO$5229$7346', 'QUASIMODO_LTR$2L_RaGOO$10703$23126', 'QUASIMODO_I$2L_RaGOO$23127$26120', 'DM412$2L_RaGOO$3096923$3097499', 'FB4_DM$2L_RaGOO$7955778$7956846', 'ROO_LTR$2L_RaGOO$9909301$9918711', 'FB4_DM$2L_RaGOO$13428801$13430992', 'FW2_DM$2L_RaGOO$13594663$13598929', 'DOC4_DM$2L_RaGOO$16629887$16632082']\n"
     ]
    }
   ],
   "metadata": {}
  },
  {
   "cell_type": "code",
   "execution_count": 20,
   "source": [
    "# Run this app with `python app.py` and\n",
    "# visit http://127.0.0.1:8050/ in your web browser.\n",
    "\n",
    "import dash\n",
    "import dash_core_components as dcc\n",
    "import dash_html_components as html\n",
    "import plotly.express as px\n",
    "import pandas as pd\n",
    "\n",
    "app = dash.Dash(__name__)\n",
    "\n",
    "# assume you have a \"long-form\" data frame\n",
    "# see https://plotly.com/python/px-arguments/ for more options\n",
    "df = pd.DataFrame({\n",
    "    \"Fruit\": [\"Apples\", \"Oranges\", \"Bananas\", \"Apples\", \"Oranges\", \"Bananas\"],\n",
    "    \"Amount\": [4, 1, 2, 2, 4, 5],\n",
    "    \"City\": [\"SF\", \"SF\", \"SF\", \"Montreal\", \"Montreal\", \"Montreal\"]\n",
    "})\n",
    "\n",
    "fig = px.bar(df, x=\"Fruit\", y=\"Amount\", color=\"City\", barmode=\"group\")\n",
    "\n",
    "app.layout = html.Div(children=[\n",
    "    html.H1(children='Hello Dash'),\n",
    "\n",
    "    html.Div(children='''\n",
    "        Dash: A web application framework for your data.\n",
    "    '''),\n",
    "\n",
    "    dcc.Graph(\n",
    "        id='example-graph',\n",
    "        figure=fig\n",
    "    )\n",
    "])\n",
    "\n",
    "if __name__ == '__main__':\n",
    "    app.run_server(debug=True)"
   ],
   "outputs": [
    {
     "output_type": "stream",
     "name": "stdout",
     "text": [
      "Dash is running on http://127.0.0.1:8050/\n",
      "\n"
     ]
    },
    {
     "output_type": "stream",
     "name": "stderr",
     "text": [
      "INFO:__main__:Dash is running on http://127.0.0.1:8050/\n",
      "\n"
     ]
    },
    {
     "output_type": "stream",
     "name": "stdout",
     "text": [
      " * Serving Flask app '__main__' (lazy loading)\n",
      " * Environment: production\n",
      "\u001b[31m   WARNING: This is a development server. Do not use it in a production deployment.\u001b[0m\n",
      "\u001b[2m   Use a production WSGI server instead.\u001b[0m\n",
      " * Debug mode: on\n"
     ]
    },
    {
     "output_type": "error",
     "ename": "SystemExit",
     "evalue": "1",
     "traceback": [
      "An exception has occurred, use %tb to see the full traceback.\n",
      "\u001b[0;31mSystemExit\u001b[0m\u001b[0;31m:\u001b[0m 1\n"
     ]
    },
    {
     "output_type": "stream",
     "name": "stderr",
     "text": [
      "/usr/lib/python3/dist-packages/IPython/core/interactiveshell.py:3435: UserWarning:\n",
      "\n",
      "To exit: use 'exit', 'quit', or Ctrl-D.\n",
      "\n"
     ]
    }
   ],
   "metadata": {}
  }
 ],
 "metadata": {
  "orig_nbformat": 4,
  "language_info": {
   "name": "python",
   "version": "3.9.1+",
   "mimetype": "text/x-python",
   "codemirror_mode": {
    "name": "ipython",
    "version": 3
   },
   "pygments_lexer": "ipython3",
   "nbconvert_exporter": "python",
   "file_extension": ".py"
  },
  "kernelspec": {
   "name": "python3",
   "display_name": "Python 3.9.1 64-bit"
  },
  "interpreter": {
   "hash": "31f2aee4e71d21fbe5cf8b01ff0e069b9275f58929596ceb00d14d90e3e16cd6"
  }
 },
 "nbformat": 4,
 "nbformat_minor": 2
}